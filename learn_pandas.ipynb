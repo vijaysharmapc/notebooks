{
 "cells": [
  {
   "cell_type": "markdown",
   "metadata": {},
   "source": [
    "#https://medium.com/@chris_bour/6-differences-between-pandas-and-spark-dataframes-1380cec394d2\n",
    "\n",
    "PANDAS:\n",
    "DATA INPUT AND OUTPUT\n",
    "INDEXING AND FILTERING\n",
    "WORKING WITH GROUPS\n",
    "CREATING PLOTS\n",
    "\n",
    "DATA TYPES IN PANDAS,IT'S I/O CAPABILITY,GROUPS,FILTERING AND PLOTTING\n",
    "\n",
    "\n",
    "SAY EXAMPLE OF SALES DECOMP: LARGE CSV HAD TO BE TRANFORMED INTO COMPONENETS WE RELIED HEAVILY ON PANDAS AND IT WAS VERY USEFUL\n",
    "\n",
    "WHAT MAKE SIT SO GREAT?\n",
    "IT HAS VERY GOOD DATA FROMATS- JUST LIKE A RELATIONAL DB\n",
    "EASY TO TRANDFORM DATA\n",
    "EASY TO VISUALISE\n",
    "EASY TO USE OTHER LIBRARIES\n",
    "\n",
    "\n",
    "SEVERAL ROUTINE SIN NUMPY THAT SIMPLIFY WORKING ON PANDAS\n",
    "\n",
    "3 DATA TYPES YOU MUST BE FAMILIAR WITH\n",
    "np.array and np.ndarray pandas uses this under the hood and we wuse it explicitely too\n",
    "pd.Series : this represents data set in a single column\n",
    "pd.DataFrame : table like multi columnnar data\n"
   ]
  },
  {
   "cell_type": "code",
   "execution_count": null,
   "metadata": {
    "collapsed": true
   },
   "outputs": [],
   "source": []
  },
  {
   "cell_type": "code",
   "execution_count": 1,
   "metadata": {
    "collapsed": true
   },
   "outputs": [],
   "source": [
    "import pandas as pd\n",
    "import numpy as np\n",
    "import os\n",
    "import json"
   ]
  },
  {
   "cell_type": "code",
   "execution_count": 2,
   "metadata": {
    "collapsed": true
   },
   "outputs": [],
   "source": [
    "#first create numpy array with 3elements random numbers, you can do it in pandas bt esier in numpy\n",
    "my_df = pd.DataFrame(np.random.rand(3,2))"
   ]
  },
  {
   "cell_type": "code",
   "execution_count": 3,
   "metadata": {},
   "outputs": [
    {
     "data": {
      "text/html": [
       "<div>\n",
       "<style>\n",
       "    .dataframe thead tr:only-child th {\n",
       "        text-align: right;\n",
       "    }\n",
       "\n",
       "    .dataframe thead th {\n",
       "        text-align: left;\n",
       "    }\n",
       "\n",
       "    .dataframe tbody tr th {\n",
       "        vertical-align: top;\n",
       "    }\n",
       "</style>\n",
       "<table border=\"1\" class=\"dataframe\">\n",
       "  <thead>\n",
       "    <tr style=\"text-align: right;\">\n",
       "      <th></th>\n",
       "      <th>0</th>\n",
       "      <th>1</th>\n",
       "    </tr>\n",
       "  </thead>\n",
       "  <tbody>\n",
       "    <tr>\n",
       "      <th>0</th>\n",
       "      <td>0.171651</td>\n",
       "      <td>0.731235</td>\n",
       "    </tr>\n",
       "    <tr>\n",
       "      <th>1</th>\n",
       "      <td>0.660383</td>\n",
       "      <td>0.623469</td>\n",
       "    </tr>\n",
       "    <tr>\n",
       "      <th>2</th>\n",
       "      <td>0.103567</td>\n",
       "      <td>0.878158</td>\n",
       "    </tr>\n",
       "  </tbody>\n",
       "</table>\n",
       "</div>"
      ],
      "text/plain": [
       "          0         1\n",
       "0  0.171651  0.731235\n",
       "1  0.660383  0.623469\n",
       "2  0.103567  0.878158"
      ]
     },
     "execution_count": 3,
     "metadata": {},
     "output_type": "execute_result"
    }
   ],
   "source": [
    "my_df"
   ]
  },
  {
   "cell_type": "code",
   "execution_count": 4,
   "metadata": {
    "collapsed": true
   },
   "outputs": [],
   "source": [
    "#numpy has a nd array,a basic one d numpy array has a structure like list\n",
    "#if you put this in a series, we get row labels in addition to this\n",
    "#A data frame has columen labes too"
   ]
  },
  {
   "cell_type": "code",
   "execution_count": 5,
   "metadata": {
    "collapsed": true
   },
   "outputs": [],
   "source": [
    "my_numpy_array = np.random.rand(3)"
   ]
  },
  {
   "cell_type": "code",
   "execution_count": 6,
   "metadata": {},
   "outputs": [
    {
     "data": {
      "text/plain": [
       "array([ 0.02778674,  0.68307599,  0.33161979])"
      ]
     },
     "execution_count": 6,
     "metadata": {},
     "output_type": "execute_result"
    }
   ],
   "source": [
    "my_numpy_array"
   ]
  },
  {
   "cell_type": "code",
   "execution_count": 7,
   "metadata": {},
   "outputs": [
    {
     "data": {
      "text/plain": [
       "numpy.ndarray"
      ]
     },
     "execution_count": 7,
     "metadata": {},
     "output_type": "execute_result"
    }
   ],
   "source": [
    "type(my_numpy_array)"
   ]
  },
  {
   "cell_type": "code",
   "execution_count": 8,
   "metadata": {},
   "outputs": [
    {
     "data": {
      "text/plain": [
       "0.68307599446058753"
      ]
     },
     "execution_count": 8,
     "metadata": {},
     "output_type": "execute_result"
    }
   ],
   "source": [
    "my_numpy_array[1]"
   ]
  },
  {
   "cell_type": "code",
   "execution_count": 9,
   "metadata": {
    "collapsed": true
   },
   "outputs": [],
   "source": [
    "my_series = pd.Series(my_numpy_array)"
   ]
  },
  {
   "cell_type": "code",
   "execution_count": 10,
   "metadata": {},
   "outputs": [
    {
     "data": {
      "text/plain": [
       "0    0.027787\n",
       "1    0.683076\n",
       "2    0.331620\n",
       "dtype: float64"
      ]
     },
     "execution_count": 10,
     "metadata": {},
     "output_type": "execute_result"
    }
   ],
   "source": [
    "my_series"
   ]
  },
  {
   "cell_type": "code",
   "execution_count": 11,
   "metadata": {
    "collapsed": true
   },
   "outputs": [],
   "source": [
    "my_series = pd.Series(my_numpy_array,index=[\"First\",\"Second\",\"Third\"])"
   ]
  },
  {
   "cell_type": "code",
   "execution_count": 12,
   "metadata": {},
   "outputs": [
    {
     "data": {
      "text/plain": [
       "First     0.027787\n",
       "Second    0.683076\n",
       "Third     0.331620\n",
       "dtype: float64"
      ]
     },
     "execution_count": 12,
     "metadata": {},
     "output_type": "execute_result"
    }
   ],
   "source": [
    "my_series"
   ]
  },
  {
   "cell_type": "code",
   "execution_count": 13,
   "metadata": {},
   "outputs": [
    {
     "data": {
      "text/plain": [
       "0.68307599446058753"
      ]
     },
     "execution_count": 13,
     "metadata": {},
     "output_type": "execute_result"
    }
   ],
   "source": [
    "my_series[1]"
   ]
  },
  {
   "cell_type": "code",
   "execution_count": 14,
   "metadata": {},
   "outputs": [
    {
     "data": {
      "text/plain": [
       "First     0.027787\n",
       "Second    0.683076\n",
       "Third     0.331620\n",
       "dtype: float64"
      ]
     },
     "execution_count": 14,
     "metadata": {},
     "output_type": "execute_result"
    }
   ],
   "source": [
    "my_series"
   ]
  },
  {
   "cell_type": "code",
   "execution_count": 15,
   "metadata": {},
   "outputs": [
    {
     "name": "stderr",
     "output_type": "stream",
     "text": [
      "/home/vijay/anaconda2/envs/py35/lib/python3.5/site-packages/ipykernel_launcher.py:1: FutureWarning: convert_objects is deprecated.  Use the data-type specific converters pd.to_datetime, pd.to_timedelta and pd.to_numeric.\n",
      "  \"\"\"Entry point for launching an IPython kernel.\n"
     ]
    },
    {
     "data": {
      "text/plain": [
       "First     0.027787\n",
       "Second    0.683076\n",
       "Third     0.331620\n",
       "dtype: float64"
      ]
     },
     "execution_count": 15,
     "metadata": {},
     "output_type": "execute_result"
    }
   ],
   "source": [
    "my_series.convert_objects(convert_numeric=True)"
   ]
  },
  {
   "cell_type": "code",
   "execution_count": 16,
   "metadata": {},
   "outputs": [
    {
     "data": {
      "text/plain": [
       "0.68307599446058753"
      ]
     },
     "execution_count": 16,
     "metadata": {},
     "output_type": "execute_result"
    }
   ],
   "source": [
    "my_series[\"Second\"]"
   ]
  },
  {
   "cell_type": "code",
   "execution_count": 17,
   "metadata": {},
   "outputs": [
    {
     "data": {
      "text/plain": [
       "Index(['First', 'Second', 'Third'], dtype='object')"
      ]
     },
     "execution_count": 17,
     "metadata": {},
     "output_type": "execute_result"
    }
   ],
   "source": [
    "my_series.index"
   ]
  },
  {
   "cell_type": "code",
   "execution_count": 18,
   "metadata": {
    "collapsed": true
   },
   "outputs": [],
   "source": [
    "#what if you have more columns,well use df"
   ]
  },
  {
   "cell_type": "code",
   "execution_count": 19,
   "metadata": {
    "collapsed": true
   },
   "outputs": [],
   "source": [
    "array_2d =  np.random.rand(3,2)"
   ]
  },
  {
   "cell_type": "code",
   "execution_count": 20,
   "metadata": {},
   "outputs": [
    {
     "data": {
      "text/plain": [
       "0.58334584312016813"
      ]
     },
     "execution_count": 20,
     "metadata": {},
     "output_type": "execute_result"
    }
   ],
   "source": [
    "array_2d[0,1]"
   ]
  },
  {
   "cell_type": "code",
   "execution_count": 21,
   "metadata": {
    "collapsed": true
   },
   "outputs": [],
   "source": [
    "df = pd.DataFrame(array_2d)"
   ]
  },
  {
   "cell_type": "code",
   "execution_count": 22,
   "metadata": {},
   "outputs": [
    {
     "data": {
      "text/html": [
       "<div>\n",
       "<style>\n",
       "    .dataframe thead tr:only-child th {\n",
       "        text-align: right;\n",
       "    }\n",
       "\n",
       "    .dataframe thead th {\n",
       "        text-align: left;\n",
       "    }\n",
       "\n",
       "    .dataframe tbody tr th {\n",
       "        vertical-align: top;\n",
       "    }\n",
       "</style>\n",
       "<table border=\"1\" class=\"dataframe\">\n",
       "  <thead>\n",
       "    <tr style=\"text-align: right;\">\n",
       "      <th></th>\n",
       "      <th>0</th>\n",
       "      <th>1</th>\n",
       "    </tr>\n",
       "  </thead>\n",
       "  <tbody>\n",
       "    <tr>\n",
       "      <th>0</th>\n",
       "      <td>0.648306</td>\n",
       "      <td>0.583346</td>\n",
       "    </tr>\n",
       "    <tr>\n",
       "      <th>1</th>\n",
       "      <td>0.792674</td>\n",
       "      <td>0.271464</td>\n",
       "    </tr>\n",
       "    <tr>\n",
       "      <th>2</th>\n",
       "      <td>0.628228</td>\n",
       "      <td>0.206365</td>\n",
       "    </tr>\n",
       "  </tbody>\n",
       "</table>\n",
       "</div>"
      ],
      "text/plain": [
       "          0         1\n",
       "0  0.648306  0.583346\n",
       "1  0.792674  0.271464\n",
       "2  0.628228  0.206365"
      ]
     },
     "execution_count": 22,
     "metadata": {},
     "output_type": "execute_result"
    }
   ],
   "source": [
    "df"
   ]
  },
  {
   "cell_type": "code",
   "execution_count": 23,
   "metadata": {},
   "outputs": [
    {
     "data": {
      "text/plain": [
       "RangeIndex(start=0, stop=2, step=1)"
      ]
     },
     "execution_count": 23,
     "metadata": {},
     "output_type": "execute_result"
    }
   ],
   "source": [
    "# use column properties\n",
    "df.columns"
   ]
  },
  {
   "cell_type": "code",
   "execution_count": 24,
   "metadata": {
    "collapsed": true
   },
   "outputs": [],
   "source": [
    "df.columns = [\"first\",\"second\"]"
   ]
  },
  {
   "cell_type": "code",
   "execution_count": 25,
   "metadata": {},
   "outputs": [
    {
     "data": {
      "text/html": [
       "<div>\n",
       "<style>\n",
       "    .dataframe thead tr:only-child th {\n",
       "        text-align: right;\n",
       "    }\n",
       "\n",
       "    .dataframe thead th {\n",
       "        text-align: left;\n",
       "    }\n",
       "\n",
       "    .dataframe tbody tr th {\n",
       "        vertical-align: top;\n",
       "    }\n",
       "</style>\n",
       "<table border=\"1\" class=\"dataframe\">\n",
       "  <thead>\n",
       "    <tr style=\"text-align: right;\">\n",
       "      <th></th>\n",
       "      <th>first</th>\n",
       "      <th>second</th>\n",
       "    </tr>\n",
       "  </thead>\n",
       "  <tbody>\n",
       "    <tr>\n",
       "      <th>0</th>\n",
       "      <td>0.648306</td>\n",
       "      <td>0.583346</td>\n",
       "    </tr>\n",
       "    <tr>\n",
       "      <th>1</th>\n",
       "      <td>0.792674</td>\n",
       "      <td>0.271464</td>\n",
       "    </tr>\n",
       "    <tr>\n",
       "      <th>2</th>\n",
       "      <td>0.628228</td>\n",
       "      <td>0.206365</td>\n",
       "    </tr>\n",
       "  </tbody>\n",
       "</table>\n",
       "</div>"
      ],
      "text/plain": [
       "      first    second\n",
       "0  0.648306  0.583346\n",
       "1  0.792674  0.271464\n",
       "2  0.628228  0.206365"
      ]
     },
     "execution_count": 25,
     "metadata": {},
     "output_type": "execute_result"
    }
   ],
   "source": [
    "df"
   ]
  },
  {
   "cell_type": "code",
   "execution_count": 26,
   "metadata": {},
   "outputs": [
    {
     "data": {
      "text/plain": [
       "0    0.583346\n",
       "1    0.271464\n",
       "2    0.206365\n",
       "Name: second, dtype: float64"
      ]
     },
     "execution_count": 26,
     "metadata": {},
     "output_type": "execute_result"
    }
   ],
   "source": [
    "df[\"second\"] # since this is no longer  a df it's a series"
   ]
  },
  {
   "cell_type": "code",
   "execution_count": 27,
   "metadata": {
    "collapsed": true
   },
   "outputs": [],
   "source": [
    "csv_path = \"collection/artwork_data.csv\""
   ]
  },
  {
   "cell_type": "code",
   "execution_count": 28,
   "metadata": {
    "collapsed": true
   },
   "outputs": [],
   "source": [
    "#read just 5 rows,pandas does not do lazy evaluation\n",
    "#%timeit \n",
    "df = pd.read_csv(csv_path,nrows=5)"
   ]
  },
  {
   "cell_type": "code",
   "execution_count": 29,
   "metadata": {},
   "outputs": [
    {
     "data": {
      "text/html": [
       "<div>\n",
       "<style>\n",
       "    .dataframe thead tr:only-child th {\n",
       "        text-align: right;\n",
       "    }\n",
       "\n",
       "    .dataframe thead th {\n",
       "        text-align: left;\n",
       "    }\n",
       "\n",
       "    .dataframe tbody tr th {\n",
       "        vertical-align: top;\n",
       "    }\n",
       "</style>\n",
       "<table border=\"1\" class=\"dataframe\">\n",
       "  <thead>\n",
       "    <tr style=\"text-align: right;\">\n",
       "      <th></th>\n",
       "      <th>id</th>\n",
       "      <th>accession_number</th>\n",
       "      <th>artist</th>\n",
       "      <th>artistRole</th>\n",
       "      <th>artistId</th>\n",
       "      <th>title</th>\n",
       "      <th>dateText</th>\n",
       "      <th>medium</th>\n",
       "      <th>creditLine</th>\n",
       "      <th>year</th>\n",
       "      <th>acquisitionYear</th>\n",
       "      <th>dimensions</th>\n",
       "      <th>width</th>\n",
       "      <th>height</th>\n",
       "      <th>depth</th>\n",
       "      <th>units</th>\n",
       "      <th>inscription</th>\n",
       "      <th>thumbnailCopyright</th>\n",
       "      <th>thumbnailUrl</th>\n",
       "      <th>url</th>\n",
       "    </tr>\n",
       "  </thead>\n",
       "  <tbody>\n",
       "    <tr>\n",
       "      <th>0</th>\n",
       "      <td>1035</td>\n",
       "      <td>A00001</td>\n",
       "      <td>Blake, Robert</td>\n",
       "      <td>artist</td>\n",
       "      <td>38</td>\n",
       "      <td>A Figure Bowing before a Seated Old Man with h...</td>\n",
       "      <td>date not known</td>\n",
       "      <td>Watercolour, ink, chalk and graphite on paper....</td>\n",
       "      <td>Presented by Mrs John Richmond 1922</td>\n",
       "      <td>NaN</td>\n",
       "      <td>1922</td>\n",
       "      <td>support: 394 x 419 mm</td>\n",
       "      <td>394</td>\n",
       "      <td>419</td>\n",
       "      <td>NaN</td>\n",
       "      <td>mm</td>\n",
       "      <td>NaN</td>\n",
       "      <td>NaN</td>\n",
       "      <td>http://www.tate.org.uk/art/images/work/A/A00/A...</td>\n",
       "      <td>http://www.tate.org.uk/art/artworks/blake-a-fi...</td>\n",
       "    </tr>\n",
       "    <tr>\n",
       "      <th>1</th>\n",
       "      <td>1036</td>\n",
       "      <td>A00002</td>\n",
       "      <td>Blake, Robert</td>\n",
       "      <td>artist</td>\n",
       "      <td>38</td>\n",
       "      <td>Two Drawings of Frightened Figures, Probably f...</td>\n",
       "      <td>date not known</td>\n",
       "      <td>Graphite on paper</td>\n",
       "      <td>Presented by Mrs John Richmond 1922</td>\n",
       "      <td>NaN</td>\n",
       "      <td>1922</td>\n",
       "      <td>support: 311 x 213 mm</td>\n",
       "      <td>311</td>\n",
       "      <td>213</td>\n",
       "      <td>NaN</td>\n",
       "      <td>mm</td>\n",
       "      <td>NaN</td>\n",
       "      <td>NaN</td>\n",
       "      <td>http://www.tate.org.uk/art/images/work/A/A00/A...</td>\n",
       "      <td>http://www.tate.org.uk/art/artworks/blake-two-...</td>\n",
       "    </tr>\n",
       "    <tr>\n",
       "      <th>2</th>\n",
       "      <td>1037</td>\n",
       "      <td>A00003</td>\n",
       "      <td>Blake, Robert</td>\n",
       "      <td>artist</td>\n",
       "      <td>38</td>\n",
       "      <td>The Preaching of Warning. Verso: An Old Man En...</td>\n",
       "      <td>?c.1785</td>\n",
       "      <td>Graphite on paper. Verso: graphite on paper</td>\n",
       "      <td>Presented by Mrs John Richmond 1922</td>\n",
       "      <td>1785.0</td>\n",
       "      <td>1922</td>\n",
       "      <td>support: 343 x 467 mm</td>\n",
       "      <td>343</td>\n",
       "      <td>467</td>\n",
       "      <td>NaN</td>\n",
       "      <td>mm</td>\n",
       "      <td>NaN</td>\n",
       "      <td>NaN</td>\n",
       "      <td>http://www.tate.org.uk/art/images/work/A/A00/A...</td>\n",
       "      <td>http://www.tate.org.uk/art/artworks/blake-the-...</td>\n",
       "    </tr>\n",
       "    <tr>\n",
       "      <th>3</th>\n",
       "      <td>1038</td>\n",
       "      <td>A00004</td>\n",
       "      <td>Blake, Robert</td>\n",
       "      <td>artist</td>\n",
       "      <td>38</td>\n",
       "      <td>Six Drawings of Figures with Outstretched Arms</td>\n",
       "      <td>date not known</td>\n",
       "      <td>Graphite on paper</td>\n",
       "      <td>Presented by Mrs John Richmond 1922</td>\n",
       "      <td>NaN</td>\n",
       "      <td>1922</td>\n",
       "      <td>support: 318 x 394 mm</td>\n",
       "      <td>318</td>\n",
       "      <td>394</td>\n",
       "      <td>NaN</td>\n",
       "      <td>mm</td>\n",
       "      <td>NaN</td>\n",
       "      <td>NaN</td>\n",
       "      <td>http://www.tate.org.uk/art/images/work/A/A00/A...</td>\n",
       "      <td>http://www.tate.org.uk/art/artworks/blake-six-...</td>\n",
       "    </tr>\n",
       "    <tr>\n",
       "      <th>4</th>\n",
       "      <td>1039</td>\n",
       "      <td>A00005</td>\n",
       "      <td>Blake, William</td>\n",
       "      <td>artist</td>\n",
       "      <td>39</td>\n",
       "      <td>The Circle of the Lustful: Francesca da Rimini...</td>\n",
       "      <td>1826–7, reprinted 1892</td>\n",
       "      <td>Line engraving on paper</td>\n",
       "      <td>Purchased with the assistance of a special gra...</td>\n",
       "      <td>1826.0</td>\n",
       "      <td>1919</td>\n",
       "      <td>image: 243 x 335 mm</td>\n",
       "      <td>243</td>\n",
       "      <td>335</td>\n",
       "      <td>NaN</td>\n",
       "      <td>mm</td>\n",
       "      <td>NaN</td>\n",
       "      <td>NaN</td>\n",
       "      <td>http://www.tate.org.uk/art/images/work/A/A00/A...</td>\n",
       "      <td>http://www.tate.org.uk/art/artworks/blake-the-...</td>\n",
       "    </tr>\n",
       "  </tbody>\n",
       "</table>\n",
       "</div>"
      ],
      "text/plain": [
       "     id accession_number          artist artistRole  artistId  \\\n",
       "0  1035           A00001   Blake, Robert     artist        38   \n",
       "1  1036           A00002   Blake, Robert     artist        38   \n",
       "2  1037           A00003   Blake, Robert     artist        38   \n",
       "3  1038           A00004   Blake, Robert     artist        38   \n",
       "4  1039           A00005  Blake, William     artist        39   \n",
       "\n",
       "                                               title                dateText  \\\n",
       "0  A Figure Bowing before a Seated Old Man with h...          date not known   \n",
       "1  Two Drawings of Frightened Figures, Probably f...          date not known   \n",
       "2  The Preaching of Warning. Verso: An Old Man En...                 ?c.1785   \n",
       "3     Six Drawings of Figures with Outstretched Arms          date not known   \n",
       "4  The Circle of the Lustful: Francesca da Rimini...  1826–7, reprinted 1892   \n",
       "\n",
       "                                              medium  \\\n",
       "0  Watercolour, ink, chalk and graphite on paper....   \n",
       "1                                  Graphite on paper   \n",
       "2        Graphite on paper. Verso: graphite on paper   \n",
       "3                                  Graphite on paper   \n",
       "4                            Line engraving on paper   \n",
       "\n",
       "                                          creditLine    year  acquisitionYear  \\\n",
       "0                Presented by Mrs John Richmond 1922     NaN             1922   \n",
       "1                Presented by Mrs John Richmond 1922     NaN             1922   \n",
       "2                Presented by Mrs John Richmond 1922  1785.0             1922   \n",
       "3                Presented by Mrs John Richmond 1922     NaN             1922   \n",
       "4  Purchased with the assistance of a special gra...  1826.0             1919   \n",
       "\n",
       "              dimensions  width  height  depth units  inscription  \\\n",
       "0  support: 394 x 419 mm    394     419    NaN    mm          NaN   \n",
       "1  support: 311 x 213 mm    311     213    NaN    mm          NaN   \n",
       "2  support: 343 x 467 mm    343     467    NaN    mm          NaN   \n",
       "3  support: 318 x 394 mm    318     394    NaN    mm          NaN   \n",
       "4    image: 243 x 335 mm    243     335    NaN    mm          NaN   \n",
       "\n",
       "   thumbnailCopyright                                       thumbnailUrl  \\\n",
       "0                 NaN  http://www.tate.org.uk/art/images/work/A/A00/A...   \n",
       "1                 NaN  http://www.tate.org.uk/art/images/work/A/A00/A...   \n",
       "2                 NaN  http://www.tate.org.uk/art/images/work/A/A00/A...   \n",
       "3                 NaN  http://www.tate.org.uk/art/images/work/A/A00/A...   \n",
       "4                 NaN  http://www.tate.org.uk/art/images/work/A/A00/A...   \n",
       "\n",
       "                                                 url  \n",
       "0  http://www.tate.org.uk/art/artworks/blake-a-fi...  \n",
       "1  http://www.tate.org.uk/art/artworks/blake-two-...  \n",
       "2  http://www.tate.org.uk/art/artworks/blake-the-...  \n",
       "3  http://www.tate.org.uk/art/artworks/blake-six-...  \n",
       "4  http://www.tate.org.uk/art/artworks/blake-the-...  "
      ]
     },
     "execution_count": 29,
     "metadata": {},
     "output_type": "execute_result"
    }
   ],
   "source": [
    "df"
   ]
  },
  {
   "cell_type": "code",
   "execution_count": 30,
   "metadata": {
    "collapsed": true
   },
   "outputs": [],
   "source": [
    "df = pd.read_csv(csv_path,nrows=5,index_col='id')"
   ]
  },
  {
   "cell_type": "code",
   "execution_count": 31,
   "metadata": {},
   "outputs": [
    {
     "data": {
      "text/html": [
       "<div>\n",
       "<style>\n",
       "    .dataframe thead tr:only-child th {\n",
       "        text-align: right;\n",
       "    }\n",
       "\n",
       "    .dataframe thead th {\n",
       "        text-align: left;\n",
       "    }\n",
       "\n",
       "    .dataframe tbody tr th {\n",
       "        vertical-align: top;\n",
       "    }\n",
       "</style>\n",
       "<table border=\"1\" class=\"dataframe\">\n",
       "  <thead>\n",
       "    <tr style=\"text-align: right;\">\n",
       "      <th></th>\n",
       "      <th>accession_number</th>\n",
       "      <th>artist</th>\n",
       "      <th>artistRole</th>\n",
       "      <th>artistId</th>\n",
       "      <th>title</th>\n",
       "      <th>dateText</th>\n",
       "      <th>medium</th>\n",
       "      <th>creditLine</th>\n",
       "      <th>year</th>\n",
       "      <th>acquisitionYear</th>\n",
       "      <th>dimensions</th>\n",
       "      <th>width</th>\n",
       "      <th>height</th>\n",
       "      <th>depth</th>\n",
       "      <th>units</th>\n",
       "      <th>inscription</th>\n",
       "      <th>thumbnailCopyright</th>\n",
       "      <th>thumbnailUrl</th>\n",
       "      <th>url</th>\n",
       "    </tr>\n",
       "    <tr>\n",
       "      <th>id</th>\n",
       "      <th></th>\n",
       "      <th></th>\n",
       "      <th></th>\n",
       "      <th></th>\n",
       "      <th></th>\n",
       "      <th></th>\n",
       "      <th></th>\n",
       "      <th></th>\n",
       "      <th></th>\n",
       "      <th></th>\n",
       "      <th></th>\n",
       "      <th></th>\n",
       "      <th></th>\n",
       "      <th></th>\n",
       "      <th></th>\n",
       "      <th></th>\n",
       "      <th></th>\n",
       "      <th></th>\n",
       "      <th></th>\n",
       "    </tr>\n",
       "  </thead>\n",
       "  <tbody>\n",
       "    <tr>\n",
       "      <th>1035</th>\n",
       "      <td>A00001</td>\n",
       "      <td>Blake, Robert</td>\n",
       "      <td>artist</td>\n",
       "      <td>38</td>\n",
       "      <td>A Figure Bowing before a Seated Old Man with h...</td>\n",
       "      <td>date not known</td>\n",
       "      <td>Watercolour, ink, chalk and graphite on paper....</td>\n",
       "      <td>Presented by Mrs John Richmond 1922</td>\n",
       "      <td>NaN</td>\n",
       "      <td>1922</td>\n",
       "      <td>support: 394 x 419 mm</td>\n",
       "      <td>394</td>\n",
       "      <td>419</td>\n",
       "      <td>NaN</td>\n",
       "      <td>mm</td>\n",
       "      <td>NaN</td>\n",
       "      <td>NaN</td>\n",
       "      <td>http://www.tate.org.uk/art/images/work/A/A00/A...</td>\n",
       "      <td>http://www.tate.org.uk/art/artworks/blake-a-fi...</td>\n",
       "    </tr>\n",
       "    <tr>\n",
       "      <th>1036</th>\n",
       "      <td>A00002</td>\n",
       "      <td>Blake, Robert</td>\n",
       "      <td>artist</td>\n",
       "      <td>38</td>\n",
       "      <td>Two Drawings of Frightened Figures, Probably f...</td>\n",
       "      <td>date not known</td>\n",
       "      <td>Graphite on paper</td>\n",
       "      <td>Presented by Mrs John Richmond 1922</td>\n",
       "      <td>NaN</td>\n",
       "      <td>1922</td>\n",
       "      <td>support: 311 x 213 mm</td>\n",
       "      <td>311</td>\n",
       "      <td>213</td>\n",
       "      <td>NaN</td>\n",
       "      <td>mm</td>\n",
       "      <td>NaN</td>\n",
       "      <td>NaN</td>\n",
       "      <td>http://www.tate.org.uk/art/images/work/A/A00/A...</td>\n",
       "      <td>http://www.tate.org.uk/art/artworks/blake-two-...</td>\n",
       "    </tr>\n",
       "    <tr>\n",
       "      <th>1037</th>\n",
       "      <td>A00003</td>\n",
       "      <td>Blake, Robert</td>\n",
       "      <td>artist</td>\n",
       "      <td>38</td>\n",
       "      <td>The Preaching of Warning. Verso: An Old Man En...</td>\n",
       "      <td>?c.1785</td>\n",
       "      <td>Graphite on paper. Verso: graphite on paper</td>\n",
       "      <td>Presented by Mrs John Richmond 1922</td>\n",
       "      <td>1785.0</td>\n",
       "      <td>1922</td>\n",
       "      <td>support: 343 x 467 mm</td>\n",
       "      <td>343</td>\n",
       "      <td>467</td>\n",
       "      <td>NaN</td>\n",
       "      <td>mm</td>\n",
       "      <td>NaN</td>\n",
       "      <td>NaN</td>\n",
       "      <td>http://www.tate.org.uk/art/images/work/A/A00/A...</td>\n",
       "      <td>http://www.tate.org.uk/art/artworks/blake-the-...</td>\n",
       "    </tr>\n",
       "    <tr>\n",
       "      <th>1038</th>\n",
       "      <td>A00004</td>\n",
       "      <td>Blake, Robert</td>\n",
       "      <td>artist</td>\n",
       "      <td>38</td>\n",
       "      <td>Six Drawings of Figures with Outstretched Arms</td>\n",
       "      <td>date not known</td>\n",
       "      <td>Graphite on paper</td>\n",
       "      <td>Presented by Mrs John Richmond 1922</td>\n",
       "      <td>NaN</td>\n",
       "      <td>1922</td>\n",
       "      <td>support: 318 x 394 mm</td>\n",
       "      <td>318</td>\n",
       "      <td>394</td>\n",
       "      <td>NaN</td>\n",
       "      <td>mm</td>\n",
       "      <td>NaN</td>\n",
       "      <td>NaN</td>\n",
       "      <td>http://www.tate.org.uk/art/images/work/A/A00/A...</td>\n",
       "      <td>http://www.tate.org.uk/art/artworks/blake-six-...</td>\n",
       "    </tr>\n",
       "    <tr>\n",
       "      <th>1039</th>\n",
       "      <td>A00005</td>\n",
       "      <td>Blake, William</td>\n",
       "      <td>artist</td>\n",
       "      <td>39</td>\n",
       "      <td>The Circle of the Lustful: Francesca da Rimini...</td>\n",
       "      <td>1826–7, reprinted 1892</td>\n",
       "      <td>Line engraving on paper</td>\n",
       "      <td>Purchased with the assistance of a special gra...</td>\n",
       "      <td>1826.0</td>\n",
       "      <td>1919</td>\n",
       "      <td>image: 243 x 335 mm</td>\n",
       "      <td>243</td>\n",
       "      <td>335</td>\n",
       "      <td>NaN</td>\n",
       "      <td>mm</td>\n",
       "      <td>NaN</td>\n",
       "      <td>NaN</td>\n",
       "      <td>http://www.tate.org.uk/art/images/work/A/A00/A...</td>\n",
       "      <td>http://www.tate.org.uk/art/artworks/blake-the-...</td>\n",
       "    </tr>\n",
       "  </tbody>\n",
       "</table>\n",
       "</div>"
      ],
      "text/plain": [
       "     accession_number          artist artistRole  artistId  \\\n",
       "id                                                           \n",
       "1035           A00001   Blake, Robert     artist        38   \n",
       "1036           A00002   Blake, Robert     artist        38   \n",
       "1037           A00003   Blake, Robert     artist        38   \n",
       "1038           A00004   Blake, Robert     artist        38   \n",
       "1039           A00005  Blake, William     artist        39   \n",
       "\n",
       "                                                  title  \\\n",
       "id                                                        \n",
       "1035  A Figure Bowing before a Seated Old Man with h...   \n",
       "1036  Two Drawings of Frightened Figures, Probably f...   \n",
       "1037  The Preaching of Warning. Verso: An Old Man En...   \n",
       "1038     Six Drawings of Figures with Outstretched Arms   \n",
       "1039  The Circle of the Lustful: Francesca da Rimini...   \n",
       "\n",
       "                    dateText  \\\n",
       "id                             \n",
       "1035          date not known   \n",
       "1036          date not known   \n",
       "1037                 ?c.1785   \n",
       "1038          date not known   \n",
       "1039  1826–7, reprinted 1892   \n",
       "\n",
       "                                                 medium  \\\n",
       "id                                                        \n",
       "1035  Watercolour, ink, chalk and graphite on paper....   \n",
       "1036                                  Graphite on paper   \n",
       "1037        Graphite on paper. Verso: graphite on paper   \n",
       "1038                                  Graphite on paper   \n",
       "1039                            Line engraving on paper   \n",
       "\n",
       "                                             creditLine    year  \\\n",
       "id                                                                \n",
       "1035                Presented by Mrs John Richmond 1922     NaN   \n",
       "1036                Presented by Mrs John Richmond 1922     NaN   \n",
       "1037                Presented by Mrs John Richmond 1922  1785.0   \n",
       "1038                Presented by Mrs John Richmond 1922     NaN   \n",
       "1039  Purchased with the assistance of a special gra...  1826.0   \n",
       "\n",
       "      acquisitionYear             dimensions  width  height  depth units  \\\n",
       "id                                                                         \n",
       "1035             1922  support: 394 x 419 mm    394     419    NaN    mm   \n",
       "1036             1922  support: 311 x 213 mm    311     213    NaN    mm   \n",
       "1037             1922  support: 343 x 467 mm    343     467    NaN    mm   \n",
       "1038             1922  support: 318 x 394 mm    318     394    NaN    mm   \n",
       "1039             1919    image: 243 x 335 mm    243     335    NaN    mm   \n",
       "\n",
       "      inscription  thumbnailCopyright  \\\n",
       "id                                      \n",
       "1035          NaN                 NaN   \n",
       "1036          NaN                 NaN   \n",
       "1037          NaN                 NaN   \n",
       "1038          NaN                 NaN   \n",
       "1039          NaN                 NaN   \n",
       "\n",
       "                                           thumbnailUrl  \\\n",
       "id                                                        \n",
       "1035  http://www.tate.org.uk/art/images/work/A/A00/A...   \n",
       "1036  http://www.tate.org.uk/art/images/work/A/A00/A...   \n",
       "1037  http://www.tate.org.uk/art/images/work/A/A00/A...   \n",
       "1038  http://www.tate.org.uk/art/images/work/A/A00/A...   \n",
       "1039  http://www.tate.org.uk/art/images/work/A/A00/A...   \n",
       "\n",
       "                                                    url  \n",
       "id                                                       \n",
       "1035  http://www.tate.org.uk/art/artworks/blake-a-fi...  \n",
       "1036  http://www.tate.org.uk/art/artworks/blake-two-...  \n",
       "1037  http://www.tate.org.uk/art/artworks/blake-the-...  \n",
       "1038  http://www.tate.org.uk/art/artworks/blake-six-...  \n",
       "1039  http://www.tate.org.uk/art/artworks/blake-the-...  "
      ]
     },
     "execution_count": 31,
     "metadata": {},
     "output_type": "execute_result"
    }
   ],
   "source": [
    "df"
   ]
  },
  {
   "cell_type": "code",
   "execution_count": 32,
   "metadata": {
    "collapsed": true
   },
   "outputs": [],
   "source": [
    "df = pd.read_csv(csv_path,nrows=5,index_col='id',usecols=['id','artist'])"
   ]
  },
  {
   "cell_type": "code",
   "execution_count": 33,
   "metadata": {},
   "outputs": [
    {
     "data": {
      "text/html": [
       "<div>\n",
       "<style>\n",
       "    .dataframe thead tr:only-child th {\n",
       "        text-align: right;\n",
       "    }\n",
       "\n",
       "    .dataframe thead th {\n",
       "        text-align: left;\n",
       "    }\n",
       "\n",
       "    .dataframe tbody tr th {\n",
       "        vertical-align: top;\n",
       "    }\n",
       "</style>\n",
       "<table border=\"1\" class=\"dataframe\">\n",
       "  <thead>\n",
       "    <tr style=\"text-align: right;\">\n",
       "      <th></th>\n",
       "      <th>artist</th>\n",
       "    </tr>\n",
       "    <tr>\n",
       "      <th>id</th>\n",
       "      <th></th>\n",
       "    </tr>\n",
       "  </thead>\n",
       "  <tbody>\n",
       "    <tr>\n",
       "      <th>1035</th>\n",
       "      <td>Blake, Robert</td>\n",
       "    </tr>\n",
       "    <tr>\n",
       "      <th>1036</th>\n",
       "      <td>Blake, Robert</td>\n",
       "    </tr>\n",
       "    <tr>\n",
       "      <th>1037</th>\n",
       "      <td>Blake, Robert</td>\n",
       "    </tr>\n",
       "    <tr>\n",
       "      <th>1038</th>\n",
       "      <td>Blake, Robert</td>\n",
       "    </tr>\n",
       "    <tr>\n",
       "      <th>1039</th>\n",
       "      <td>Blake, William</td>\n",
       "    </tr>\n",
       "  </tbody>\n",
       "</table>\n",
       "</div>"
      ],
      "text/plain": [
       "              artist\n",
       "id                  \n",
       "1035   Blake, Robert\n",
       "1036   Blake, Robert\n",
       "1037   Blake, Robert\n",
       "1038   Blake, Robert\n",
       "1039  Blake, William"
      ]
     },
     "execution_count": 33,
     "metadata": {},
     "output_type": "execute_result"
    }
   ],
   "source": [
    "df"
   ]
  },
  {
   "cell_type": "code",
   "execution_count": 34,
   "metadata": {
    "collapsed": true
   },
   "outputs": [],
   "source": [
    "# all thecolumns that we need\n",
    "cols_to_use = ['id','artist','title','medium','year','acquisitionYear','height','width','units']"
   ]
  },
  {
   "cell_type": "code",
   "execution_count": 35,
   "metadata": {},
   "outputs": [
    {
     "name": "stderr",
     "output_type": "stream",
     "text": [
      "/home/vijay/anaconda2/envs/py35/lib/python3.5/site-packages/IPython/core/interactiveshell.py:2717: DtypeWarning: Columns (9,13) have mixed types. Specify dtype option on import or set low_memory=False.\n",
      "  interactivity=interactivity, compiler=compiler, result=result)\n"
     ]
    }
   ],
   "source": [
    "df = pd.read_csv(csv_path,usecols=cols_to_use,index_col='id')"
   ]
  },
  {
   "cell_type": "code",
   "execution_count": 36,
   "metadata": {},
   "outputs": [
    {
     "data": {
      "text/html": [
       "<div>\n",
       "<style>\n",
       "    .dataframe thead tr:only-child th {\n",
       "        text-align: right;\n",
       "    }\n",
       "\n",
       "    .dataframe thead th {\n",
       "        text-align: left;\n",
       "    }\n",
       "\n",
       "    .dataframe tbody tr th {\n",
       "        vertical-align: top;\n",
       "    }\n",
       "</style>\n",
       "<table border=\"1\" class=\"dataframe\">\n",
       "  <thead>\n",
       "    <tr style=\"text-align: right;\">\n",
       "      <th></th>\n",
       "      <th>artist</th>\n",
       "      <th>title</th>\n",
       "      <th>medium</th>\n",
       "      <th>year</th>\n",
       "      <th>acquisitionYear</th>\n",
       "      <th>width</th>\n",
       "      <th>height</th>\n",
       "      <th>units</th>\n",
       "    </tr>\n",
       "    <tr>\n",
       "      <th>id</th>\n",
       "      <th></th>\n",
       "      <th></th>\n",
       "      <th></th>\n",
       "      <th></th>\n",
       "      <th></th>\n",
       "      <th></th>\n",
       "      <th></th>\n",
       "      <th></th>\n",
       "    </tr>\n",
       "  </thead>\n",
       "  <tbody>\n",
       "    <tr>\n",
       "      <th>1035</th>\n",
       "      <td>Blake, Robert</td>\n",
       "      <td>A Figure Bowing before a Seated Old Man with h...</td>\n",
       "      <td>Watercolour, ink, chalk and graphite on paper....</td>\n",
       "      <td>NaN</td>\n",
       "      <td>1922.0</td>\n",
       "      <td>394</td>\n",
       "      <td>419</td>\n",
       "      <td>mm</td>\n",
       "    </tr>\n",
       "    <tr>\n",
       "      <th>1036</th>\n",
       "      <td>Blake, Robert</td>\n",
       "      <td>Two Drawings of Frightened Figures, Probably f...</td>\n",
       "      <td>Graphite on paper</td>\n",
       "      <td>NaN</td>\n",
       "      <td>1922.0</td>\n",
       "      <td>311</td>\n",
       "      <td>213</td>\n",
       "      <td>mm</td>\n",
       "    </tr>\n",
       "    <tr>\n",
       "      <th>1037</th>\n",
       "      <td>Blake, Robert</td>\n",
       "      <td>The Preaching of Warning. Verso: An Old Man En...</td>\n",
       "      <td>Graphite on paper. Verso: graphite on paper</td>\n",
       "      <td>1785</td>\n",
       "      <td>1922.0</td>\n",
       "      <td>343</td>\n",
       "      <td>467</td>\n",
       "      <td>mm</td>\n",
       "    </tr>\n",
       "  </tbody>\n",
       "</table>\n",
       "</div>"
      ],
      "text/plain": [
       "             artist                                              title  \\\n",
       "id                                                                       \n",
       "1035  Blake, Robert  A Figure Bowing before a Seated Old Man with h...   \n",
       "1036  Blake, Robert  Two Drawings of Frightened Figures, Probably f...   \n",
       "1037  Blake, Robert  The Preaching of Warning. Verso: An Old Man En...   \n",
       "\n",
       "                                                 medium  year  \\\n",
       "id                                                              \n",
       "1035  Watercolour, ink, chalk and graphite on paper....   NaN   \n",
       "1036                                  Graphite on paper   NaN   \n",
       "1037        Graphite on paper. Verso: graphite on paper  1785   \n",
       "\n",
       "      acquisitionYear width height units  \n",
       "id                                        \n",
       "1035           1922.0   394    419    mm  \n",
       "1036           1922.0   311    213    mm  \n",
       "1037           1922.0   343    467    mm  "
      ]
     },
     "execution_count": 36,
     "metadata": {},
     "output_type": "execute_result"
    }
   ],
   "source": [
    "df[:3]"
   ]
  },
  {
   "cell_type": "code",
   "execution_count": 37,
   "metadata": {
    "collapsed": true
   },
   "outputs": [],
   "source": [
    "# save to disk,for later use in a python script, it is native python fomrat for seralisation\n",
    "df.to_pickle(os.path.join('..','df.pickle'))\n",
    "#To serialize an object means to convert its state to a byte stream so that the byte stream can be\n",
    "#reverted back into a copy of the object"
   ]
  },
  {
   "cell_type": "code",
   "execution_count": 38,
   "metadata": {
    "collapsed": true
   },
   "outputs": [],
   "source": [
    "#df.to_pickle('df.pickle')"
   ]
  },
  {
   "cell_type": "code",
   "execution_count": 39,
   "metadata": {
    "collapsed": true
   },
   "outputs": [],
   "source": [
    "# READING JSON in recursive sub directories"
   ]
  },
  {
   "cell_type": "code",
   "execution_count": 40,
   "metadata": {
    "collapsed": true
   },
   "outputs": [],
   "source": [
    "#from records it takes  alit of tuples in which each tuple represnts 1 record in df"
   ]
  },
  {
   "cell_type": "code",
   "execution_count": 41,
   "metadata": {
    "collapsed": true
   },
   "outputs": [],
   "source": [
    "records = [('Espresso',\"$4\"),('Flat white',\"$10\")]"
   ]
  },
  {
   "cell_type": "code",
   "execution_count": 42,
   "metadata": {},
   "outputs": [
    {
     "data": {
      "text/html": [
       "<div>\n",
       "<style>\n",
       "    .dataframe thead tr:only-child th {\n",
       "        text-align: right;\n",
       "    }\n",
       "\n",
       "    .dataframe thead th {\n",
       "        text-align: left;\n",
       "    }\n",
       "\n",
       "    .dataframe tbody tr th {\n",
       "        vertical-align: top;\n",
       "    }\n",
       "</style>\n",
       "<table border=\"1\" class=\"dataframe\">\n",
       "  <thead>\n",
       "    <tr style=\"text-align: right;\">\n",
       "      <th></th>\n",
       "      <th>0</th>\n",
       "      <th>1</th>\n",
       "    </tr>\n",
       "  </thead>\n",
       "  <tbody>\n",
       "    <tr>\n",
       "      <th>0</th>\n",
       "      <td>Espresso</td>\n",
       "      <td>$4</td>\n",
       "    </tr>\n",
       "    <tr>\n",
       "      <th>1</th>\n",
       "      <td>Flat white</td>\n",
       "      <td>$10</td>\n",
       "    </tr>\n",
       "  </tbody>\n",
       "</table>\n",
       "</div>"
      ],
      "text/plain": [
       "            0    1\n",
       "0    Espresso   $4\n",
       "1  Flat white  $10"
      ]
     },
     "execution_count": 42,
     "metadata": {},
     "output_type": "execute_result"
    }
   ],
   "source": [
    "pd.DataFrame.from_records(records)"
   ]
  },
  {
   "cell_type": "code",
   "execution_count": 43,
   "metadata": {},
   "outputs": [
    {
     "data": {
      "text/html": [
       "<div>\n",
       "<style>\n",
       "    .dataframe thead tr:only-child th {\n",
       "        text-align: right;\n",
       "    }\n",
       "\n",
       "    .dataframe thead th {\n",
       "        text-align: left;\n",
       "    }\n",
       "\n",
       "    .dataframe tbody tr th {\n",
       "        vertical-align: top;\n",
       "    }\n",
       "</style>\n",
       "<table border=\"1\" class=\"dataframe\">\n",
       "  <thead>\n",
       "    <tr style=\"text-align: right;\">\n",
       "      <th></th>\n",
       "      <th>coffee</th>\n",
       "      <th>price</th>\n",
       "    </tr>\n",
       "  </thead>\n",
       "  <tbody>\n",
       "    <tr>\n",
       "      <th>0</th>\n",
       "      <td>Espresso</td>\n",
       "      <td>$4</td>\n",
       "    </tr>\n",
       "    <tr>\n",
       "      <th>1</th>\n",
       "      <td>Flat white</td>\n",
       "      <td>$10</td>\n",
       "    </tr>\n",
       "  </tbody>\n",
       "</table>\n",
       "</div>"
      ],
      "text/plain": [
       "       coffee price\n",
       "0    Espresso    $4\n",
       "1  Flat white   $10"
      ]
     },
     "execution_count": 43,
     "metadata": {},
     "output_type": "execute_result"
    }
   ],
   "source": [
    "pd.DataFrame.from_records(records,columns=[\"coffee\",\"price\"])"
   ]
  },
  {
   "cell_type": "code",
   "execution_count": 44,
   "metadata": {
    "collapsed": true
   },
   "outputs": [],
   "source": [
    "dct = {\"agem\":[32,22],\"agef\":[33,23]} # unlike tuple,this is a column, that was a row"
   ]
  },
  {
   "cell_type": "code",
   "execution_count": 45,
   "metadata": {},
   "outputs": [
    {
     "data": {
      "text/html": [
       "<div>\n",
       "<style>\n",
       "    .dataframe thead tr:only-child th {\n",
       "        text-align: right;\n",
       "    }\n",
       "\n",
       "    .dataframe thead th {\n",
       "        text-align: left;\n",
       "    }\n",
       "\n",
       "    .dataframe tbody tr th {\n",
       "        vertical-align: top;\n",
       "    }\n",
       "</style>\n",
       "<table border=\"1\" class=\"dataframe\">\n",
       "  <thead>\n",
       "    <tr style=\"text-align: right;\">\n",
       "      <th></th>\n",
       "      <th>agef</th>\n",
       "      <th>agem</th>\n",
       "    </tr>\n",
       "  </thead>\n",
       "  <tbody>\n",
       "    <tr>\n",
       "      <th>0</th>\n",
       "      <td>33</td>\n",
       "      <td>32</td>\n",
       "    </tr>\n",
       "    <tr>\n",
       "      <th>1</th>\n",
       "      <td>23</td>\n",
       "      <td>22</td>\n",
       "    </tr>\n",
       "  </tbody>\n",
       "</table>\n",
       "</div>"
      ],
      "text/plain": [
       "   agef  agem\n",
       "0    33    32\n",
       "1    23    22"
      ]
     },
     "execution_count": 45,
     "metadata": {},
     "output_type": "execute_result"
    }
   ],
   "source": [
    "pd.DataFrame(dct)"
   ]
  },
  {
   "cell_type": "code",
   "execution_count": 46,
   "metadata": {
    "collapsed": true
   },
   "outputs": [],
   "source": [
    "# reading json sub directoroies\n",
    "#traverse folders to get json files\n",
    "#find ways to read them so that pandas understands\n",
    "#try to produce idential df as csv"
   ]
  },
  {
   "cell_type": "raw",
   "metadata": {},
   "source": [
    "### WRITING FULL CODE,creating pandas df from different sources and situation"
   ]
  },
  {
   "cell_type": "code",
   "execution_count": 47,
   "metadata": {
    "collapsed": true
   },
   "outputs": [],
   "source": [
    "KEYS_TO_USE = ['id','all_artists','title','medium','acquisitionYear','height','width','units']\n",
    "\n",
    "def get_record_from_file(file_path,keys_to_use):\n",
    "    \"\"\" Processing single json file and return a tuple containing specific fields.\"\"\"\n",
    "    with open(file_path) as artwork_file:\n",
    "        content =  json.load(artwork_file)\n",
    "        #print(content)\n",
    "        #print(\"------------------\")\n",
    "        \n",
    "    record = []\n",
    "    for field in keys_to_use:\n",
    "        record.append(content[field])\n",
    "    return tuple(record)"
   ]
  },
  {
   "cell_type": "code",
   "execution_count": 48,
   "metadata": {},
   "outputs": [
    {
     "data": {
      "text/plain": [
       "(1731,\n",
       " 'Sir Edward Coley Burne-Jones, Bt',\n",
       " 'Study of a Male Figure for ‘Clerk Saunders’',\n",
       " 'Graphite on paper',\n",
       " 1927,\n",
       " '148',\n",
       " '297',\n",
       " 'mm')"
      ]
     },
     "execution_count": 48,
     "metadata": {},
     "output_type": "execute_result"
    }
   ],
   "source": [
    "get_record_from_file(\"collection/artworks/a/000/a00094-1731.json\",KEYS_TO_USE)"
   ]
  },
  {
   "cell_type": "code",
   "execution_count": 55,
   "metadata": {
    "collapsed": true
   },
   "outputs": [],
   "source": [
    "def read_artworks_from_json(keys_to_use):\n",
    "    \"\"\" Taverse the directory with json files,for the first file in each directory call function for \n",
    "    processing single file and go to next directory\"\"\"\n",
    "    \n",
    "    JSON_ROOT = os.path.join('collection','artworks','a')\n",
    "    \n",
    "    artworks = []\n",
    "    \n",
    "    for root,_,files in os.walk(JSON_ROOT):\n",
    "        for f in files:\n",
    "            if f.endswith('json'):\n",
    "                #print (os.path.join(root,f))\n",
    "                record =  get_record_from_file(os.path.join(root,f),keys_to_use)\n",
    "                print(root)\n",
    "                artworks.append(record)\n",
    "            break# make sure we visit only the first fiel in each dir\n",
    "            \n",
    "    df = pd.DataFrame.from_records(artworks,columns=keys_to_use,index='id')\n",
    "\n",
    "    return df\n",
    "    "
   ]
  },
  {
   "cell_type": "code",
   "execution_count": 56,
   "metadata": {},
   "outputs": [
    {
     "name": "stdout",
     "output_type": "stream",
     "text": [
      "collection/artworks/a/005\n",
      "collection/artworks/a/001\n",
      "collection/artworks/a/011\n",
      "collection/artworks/a/000\n",
      "collection/artworks/a/009\n",
      "collection/artworks/a/017\n",
      "collection/artworks/a/008\n",
      "collection/artworks/a/003\n",
      "collection/artworks/a/007\n",
      "collection/artworks/a/002\n",
      "collection/artworks/a/012\n",
      "collection/artworks/a/004\n",
      "collection/artworks/a/016\n",
      "collection/artworks/a/006\n",
      "collection/artworks/a/013\n",
      "collection/artworks/a/010\n",
      "collection/artworks/a/015\n",
      "collection/artworks/a/014\n"
     ]
    },
    {
     "data": {
      "text/html": [
       "<div>\n",
       "<style>\n",
       "    .dataframe thead tr:only-child th {\n",
       "        text-align: right;\n",
       "    }\n",
       "\n",
       "    .dataframe thead th {\n",
       "        text-align: left;\n",
       "    }\n",
       "\n",
       "    .dataframe tbody tr th {\n",
       "        vertical-align: top;\n",
       "    }\n",
       "</style>\n",
       "<table border=\"1\" class=\"dataframe\">\n",
       "  <thead>\n",
       "    <tr style=\"text-align: right;\">\n",
       "      <th></th>\n",
       "      <th>all_artists</th>\n",
       "      <th>title</th>\n",
       "      <th>medium</th>\n",
       "      <th>acquisitionYear</th>\n",
       "      <th>height</th>\n",
       "      <th>width</th>\n",
       "      <th>units</th>\n",
       "    </tr>\n",
       "    <tr>\n",
       "      <th>id</th>\n",
       "      <th></th>\n",
       "      <th></th>\n",
       "      <th></th>\n",
       "      <th></th>\n",
       "      <th></th>\n",
       "      <th></th>\n",
       "      <th></th>\n",
       "    </tr>\n",
       "  </thead>\n",
       "  <tbody>\n",
       "    <tr>\n",
       "      <th>7543</th>\n",
       "      <td>George Jones</td>\n",
       "      <td>[title not known]</td>\n",
       "      <td>Watercolour and graphite on paper</td>\n",
       "      <td>1888</td>\n",
       "      <td></td>\n",
       "      <td></td>\n",
       "      <td></td>\n",
       "    </tr>\n",
       "    <tr>\n",
       "      <th>1926</th>\n",
       "      <td>William Callow</td>\n",
       "      <td>Rathaus, Hanover</td>\n",
       "      <td>Graphite on paper</td>\n",
       "      <td>1912</td>\n",
       "      <td>337</td>\n",
       "      <td>254</td>\n",
       "      <td>mm</td>\n",
       "    </tr>\n",
       "    <tr>\n",
       "      <th>9378</th>\n",
       "      <td>Joseph Mallord William Turner</td>\n",
       "      <td>Inverary Castle and Town, Scotland, engraved b...</td>\n",
       "      <td>Etching and mezzotint on paper</td>\n",
       "      <td>1925</td>\n",
       "      <td>258</td>\n",
       "      <td>181</td>\n",
       "      <td>mm</td>\n",
       "    </tr>\n",
       "    <tr>\n",
       "      <th>1714</th>\n",
       "      <td>Sir Edward Coley Burne-Jones, Bt</td>\n",
       "      <td>St Oswald</td>\n",
       "      <td>Charcoal and graphite on paper</td>\n",
       "      <td>1927</td>\n",
       "      <td>400</td>\n",
       "      <td>730</td>\n",
       "      <td>mm</td>\n",
       "    </tr>\n",
       "    <tr>\n",
       "      <th>14612</th>\n",
       "      <td>Joseph Mallord William Turner</td>\n",
       "      <td>Frontispiece, engraved by J.C. Easling</td>\n",
       "      <td>Etching and mezzotint on paper</td>\n",
       "      <td>1925</td>\n",
       "      <td>265</td>\n",
       "      <td>188</td>\n",
       "      <td>mm</td>\n",
       "    </tr>\n",
       "    <tr>\n",
       "      <th>69866</th>\n",
       "      <td>George Jones</td>\n",
       "      <td>[title not known]</td>\n",
       "      <td>Ink and graphite on paper</td>\n",
       "      <td>1888</td>\n",
       "      <td></td>\n",
       "      <td></td>\n",
       "      <td></td>\n",
       "    </tr>\n",
       "    <tr>\n",
       "      <th>13920</th>\n",
       "      <td>Thomas Stothard</td>\n",
       "      <td>Sketch for ‘The Pilgrimage to Canterbury’, wit...</td>\n",
       "      <td>Ink on paper</td>\n",
       "      <td>1891</td>\n",
       "      <td>190</td>\n",
       "      <td>114</td>\n",
       "      <td>mm</td>\n",
       "    </tr>\n",
       "    <tr>\n",
       "      <th>7407</th>\n",
       "      <td>George Jones</td>\n",
       "      <td>[title not known]</td>\n",
       "      <td>Ink on paper</td>\n",
       "      <td>1888</td>\n",
       "      <td></td>\n",
       "      <td></td>\n",
       "      <td></td>\n",
       "    </tr>\n",
       "    <tr>\n",
       "      <th>8552</th>\n",
       "      <td>Alphonse Legros</td>\n",
       "      <td>[title not known]</td>\n",
       "      <td>Bronze</td>\n",
       "      <td>1912</td>\n",
       "      <td></td>\n",
       "      <td></td>\n",
       "      <td></td>\n",
       "    </tr>\n",
       "    <tr>\n",
       "      <th>7261</th>\n",
       "      <td>George Jones</td>\n",
       "      <td>[title not known]</td>\n",
       "      <td>Ink on paper</td>\n",
       "      <td>1888</td>\n",
       "      <td></td>\n",
       "      <td></td>\n",
       "      <td></td>\n",
       "    </tr>\n",
       "    <tr>\n",
       "      <th>69423</th>\n",
       "      <td>George Jones</td>\n",
       "      <td>[title not known]</td>\n",
       "      <td>Ink and watercolour on paper</td>\n",
       "      <td>1888</td>\n",
       "      <td></td>\n",
       "      <td></td>\n",
       "      <td></td>\n",
       "    </tr>\n",
       "    <tr>\n",
       "      <th>7482</th>\n",
       "      <td>George Jones</td>\n",
       "      <td>[title not known]</td>\n",
       "      <td>Ink on paper</td>\n",
       "      <td>1888</td>\n",
       "      <td></td>\n",
       "      <td></td>\n",
       "      <td></td>\n",
       "    </tr>\n",
       "    <tr>\n",
       "      <th>69767</th>\n",
       "      <td>George Jones</td>\n",
       "      <td>[title not known]</td>\n",
       "      <td>Ink and watercolour on paper</td>\n",
       "      <td>1888</td>\n",
       "      <td></td>\n",
       "      <td></td>\n",
       "      <td></td>\n",
       "    </tr>\n",
       "    <tr>\n",
       "      <th>7670</th>\n",
       "      <td>George Jones</td>\n",
       "      <td>[title not known]</td>\n",
       "      <td>Ink, graphite and watercolour on paper</td>\n",
       "      <td>1888</td>\n",
       "      <td></td>\n",
       "      <td></td>\n",
       "      <td></td>\n",
       "    </tr>\n",
       "    <tr>\n",
       "      <th>69510</th>\n",
       "      <td>George Jones</td>\n",
       "      <td>[title not known]</td>\n",
       "      <td>Ink on paper</td>\n",
       "      <td>1888</td>\n",
       "      <td></td>\n",
       "      <td></td>\n",
       "      <td></td>\n",
       "    </tr>\n",
       "    <tr>\n",
       "      <th>853</th>\n",
       "      <td>Sir Max Beerbohm</td>\n",
       "      <td>The Sole Remark Likely to Have Been Made by Be...</td>\n",
       "      <td>Graphite and watercolour on paper</td>\n",
       "      <td>1941</td>\n",
       "      <td>298</td>\n",
       "      <td>451</td>\n",
       "      <td>mm</td>\n",
       "    </tr>\n",
       "    <tr>\n",
       "      <th>69655</th>\n",
       "      <td>George Jones</td>\n",
       "      <td>[title not known]</td>\n",
       "      <td>Watercolour on paper</td>\n",
       "      <td>1888</td>\n",
       "      <td></td>\n",
       "      <td></td>\n",
       "      <td></td>\n",
       "    </tr>\n",
       "    <tr>\n",
       "      <th>69575</th>\n",
       "      <td>George Jones</td>\n",
       "      <td>[title not known]</td>\n",
       "      <td>Ink and graphite on paper</td>\n",
       "      <td>1888</td>\n",
       "      <td></td>\n",
       "      <td></td>\n",
       "      <td></td>\n",
       "    </tr>\n",
       "  </tbody>\n",
       "</table>\n",
       "</div>"
      ],
      "text/plain": [
       "                            all_artists  \\\n",
       "id                                        \n",
       "7543                       George Jones   \n",
       "1926                     William Callow   \n",
       "9378      Joseph Mallord William Turner   \n",
       "1714   Sir Edward Coley Burne-Jones, Bt   \n",
       "14612     Joseph Mallord William Turner   \n",
       "69866                      George Jones   \n",
       "13920                   Thomas Stothard   \n",
       "7407                       George Jones   \n",
       "8552                    Alphonse Legros   \n",
       "7261                       George Jones   \n",
       "69423                      George Jones   \n",
       "7482                       George Jones   \n",
       "69767                      George Jones   \n",
       "7670                       George Jones   \n",
       "69510                      George Jones   \n",
       "853                    Sir Max Beerbohm   \n",
       "69655                      George Jones   \n",
       "69575                      George Jones   \n",
       "\n",
       "                                                   title  \\\n",
       "id                                                         \n",
       "7543                                   [title not known]   \n",
       "1926                                    Rathaus, Hanover   \n",
       "9378   Inverary Castle and Town, Scotland, engraved b...   \n",
       "1714                                           St Oswald   \n",
       "14612             Frontispiece, engraved by J.C. Easling   \n",
       "69866                                  [title not known]   \n",
       "13920  Sketch for ‘The Pilgrimage to Canterbury’, wit...   \n",
       "7407                                   [title not known]   \n",
       "8552                                   [title not known]   \n",
       "7261                                   [title not known]   \n",
       "69423                                  [title not known]   \n",
       "7482                                   [title not known]   \n",
       "69767                                  [title not known]   \n",
       "7670                                   [title not known]   \n",
       "69510                                  [title not known]   \n",
       "853    The Sole Remark Likely to Have Been Made by Be...   \n",
       "69655                                  [title not known]   \n",
       "69575                                  [title not known]   \n",
       "\n",
       "                                       medium  acquisitionYear height width  \\\n",
       "id                                                                            \n",
       "7543        Watercolour and graphite on paper             1888                \n",
       "1926                        Graphite on paper             1912    337   254   \n",
       "9378           Etching and mezzotint on paper             1925    258   181   \n",
       "1714           Charcoal and graphite on paper             1927    400   730   \n",
       "14612          Etching and mezzotint on paper             1925    265   188   \n",
       "69866               Ink and graphite on paper             1888                \n",
       "13920                            Ink on paper             1891    190   114   \n",
       "7407                             Ink on paper             1888                \n",
       "8552                                   Bronze             1912                \n",
       "7261                             Ink on paper             1888                \n",
       "69423            Ink and watercolour on paper             1888                \n",
       "7482                             Ink on paper             1888                \n",
       "69767            Ink and watercolour on paper             1888                \n",
       "7670   Ink, graphite and watercolour on paper             1888                \n",
       "69510                            Ink on paper             1888                \n",
       "853         Graphite and watercolour on paper             1941    298   451   \n",
       "69655                    Watercolour on paper             1888                \n",
       "69575               Ink and graphite on paper             1888                \n",
       "\n",
       "      units  \n",
       "id           \n",
       "7543         \n",
       "1926     mm  \n",
       "9378     mm  \n",
       "1714     mm  \n",
       "14612    mm  \n",
       "69866        \n",
       "13920    mm  \n",
       "7407         \n",
       "8552         \n",
       "7261         \n",
       "69423        \n",
       "7482         \n",
       "69767        \n",
       "7670         \n",
       "69510        \n",
       "853      mm  \n",
       "69655        \n",
       "69575        "
      ]
     },
     "execution_count": 56,
     "metadata": {},
     "output_type": "execute_result"
    }
   ],
   "source": [
    "read_artworks_from_json(KEYS_TO_USE)"
   ]
  },
  {
   "cell_type": "code",
   "execution_count": 57,
   "metadata": {
    "collapsed": true
   },
   "outputs": [],
   "source": [
    "# INDEXING,    FILTERS,CLEANING ASKING QUESTIONS\n",
    "# HOW MANY DISTINCT ARTIST ARE IN THE DATASET?\n",
    "#HOW MANY ARTWORK BY FRANCIS BACON ARE THERE?\n",
    "#WHICH ARE THE ARTWORK WITH BIGGEST DIMENSION"
   ]
  },
  {
   "cell_type": "code",
   "execution_count": 58,
   "metadata": {},
   "outputs": [
    {
     "data": {
      "text/plain": [
       "artist              object\n",
       "title               object\n",
       "medium              object\n",
       "year                object\n",
       "acquisitionYear    float64\n",
       "width               object\n",
       "height              object\n",
       "units               object\n",
       "dtype: object"
      ]
     },
     "execution_count": 58,
     "metadata": {},
     "output_type": "execute_result"
    }
   ],
   "source": [
    "df.dtypes"
   ]
  },
  {
   "cell_type": "code",
   "execution_count": 59,
   "metadata": {},
   "outputs": [
    {
     "data": {
      "text/plain": [
       "id\n",
       "1035    Blake, Robert\n",
       "1036    Blake, Robert\n",
       "1037    Blake, Robert\n",
       "Name: artist, dtype: object"
      ]
     },
     "execution_count": 59,
     "metadata": {},
     "output_type": "execute_result"
    }
   ],
   "source": [
    "df['artist'][:3] # single column returns series"
   ]
  },
  {
   "cell_type": "code",
   "execution_count": 60,
   "metadata": {},
   "outputs": [
    {
     "data": {
      "text/html": [
       "<div>\n",
       "<style>\n",
       "    .dataframe thead tr:only-child th {\n",
       "        text-align: right;\n",
       "    }\n",
       "\n",
       "    .dataframe thead th {\n",
       "        text-align: left;\n",
       "    }\n",
       "\n",
       "    .dataframe tbody tr th {\n",
       "        vertical-align: top;\n",
       "    }\n",
       "</style>\n",
       "<table border=\"1\" class=\"dataframe\">\n",
       "  <thead>\n",
       "    <tr style=\"text-align: right;\">\n",
       "      <th></th>\n",
       "      <th>artist</th>\n",
       "      <th>medium</th>\n",
       "    </tr>\n",
       "    <tr>\n",
       "      <th>id</th>\n",
       "      <th></th>\n",
       "      <th></th>\n",
       "    </tr>\n",
       "  </thead>\n",
       "  <tbody>\n",
       "    <tr>\n",
       "      <th>1035</th>\n",
       "      <td>Blake, Robert</td>\n",
       "      <td>Watercolour, ink, chalk and graphite on paper....</td>\n",
       "    </tr>\n",
       "    <tr>\n",
       "      <th>1036</th>\n",
       "      <td>Blake, Robert</td>\n",
       "      <td>Graphite on paper</td>\n",
       "    </tr>\n",
       "    <tr>\n",
       "      <th>1037</th>\n",
       "      <td>Blake, Robert</td>\n",
       "      <td>Graphite on paper. Verso: graphite on paper</td>\n",
       "    </tr>\n",
       "  </tbody>\n",
       "</table>\n",
       "</div>"
      ],
      "text/plain": [
       "             artist                                             medium\n",
       "id                                                                    \n",
       "1035  Blake, Robert  Watercolour, ink, chalk and graphite on paper....\n",
       "1036  Blake, Robert                                  Graphite on paper\n",
       "1037  Blake, Robert        Graphite on paper. Verso: graphite on paper"
      ]
     },
     "execution_count": 60,
     "metadata": {},
     "output_type": "execute_result"
    }
   ],
   "source": [
    "df[['artist','medium']][:3] # more than 1 col returns df"
   ]
  },
  {
   "cell_type": "code",
   "execution_count": 61,
   "metadata": {
    "collapsed": true
   },
   "outputs": [],
   "source": [
    "# DEMO\n",
    "import pandas as pd\n",
    "import os"
   ]
  },
  {
   "cell_type": "code",
   "execution_count": 62,
   "metadata": {},
   "outputs": [
    {
     "data": {
      "text/plain": [
       "array(['Blake, Robert', 'Blake, William', 'Richmond, George', ...,\n",
       "       'Sterne, Hedda', 'P-Orridge, Genesis', 'Brunias, Agostino'], dtype=object)"
      ]
     },
     "execution_count": 62,
     "metadata": {},
     "output_type": "execute_result"
    }
   ],
   "source": [
    "# Let's load the data for the first time\n",
    "df = pd.read_pickle(os.path.join('..','df.pickle'))\n",
    "#DEMO 1\n",
    "artist = df['artist']\n",
    "pd.unique(artist)"
   ]
  },
  {
   "cell_type": "code",
   "execution_count": 63,
   "metadata": {},
   "outputs": [
    {
     "data": {
      "text/plain": [
       "3336"
      ]
     },
     "execution_count": 63,
     "metadata": {},
     "output_type": "execute_result"
    }
   ],
   "source": [
    "len(pd.unique(artist))"
   ]
  },
  {
   "cell_type": "code",
   "execution_count": 64,
   "metadata": {},
   "outputs": [
    {
     "data": {
      "text/plain": [
       "id\n",
       "1035    True\n",
       "1036    True\n",
       "1037    True\n",
       "Name: artist, dtype: bool"
      ]
     },
     "execution_count": 64,
     "metadata": {},
     "output_type": "execute_result"
    }
   ],
   "source": [
    "(df['artist']=='Blake, Robert')[0:3]"
   ]
  },
  {
   "cell_type": "code",
   "execution_count": 65,
   "metadata": {
    "collapsed": true
   },
   "outputs": [],
   "source": [
    "s= df['artist']=='Blake, Robert'"
   ]
  },
  {
   "cell_type": "code",
   "execution_count": 66,
   "metadata": {},
   "outputs": [
    {
     "data": {
      "text/plain": [
       "False    69197\n",
       "True         4\n",
       "Name: artist, dtype: int64"
      ]
     },
     "execution_count": 66,
     "metadata": {},
     "output_type": "execute_result"
    }
   ],
   "source": [
    "s.value_counts()"
   ]
  },
  {
   "cell_type": "code",
   "execution_count": 67,
   "metadata": {
    "collapsed": true
   },
   "outputs": [],
   "source": [
    "artist_counts = df['artist'].value_counts()"
   ]
  },
  {
   "cell_type": "code",
   "execution_count": 68,
   "metadata": {},
   "outputs": [
    {
     "data": {
      "text/plain": [
       "Turner, Joseph Mallord William    39389\n",
       "Jones, George                      1046\n",
       "Moore, Henry, OM, CH                623\n",
       "Daniell, William                    612\n",
       "Beuys, Joseph                       578\n",
       "Name: artist, dtype: int64"
      ]
     },
     "execution_count": 68,
     "metadata": {},
     "output_type": "execute_result"
    }
   ],
   "source": [
    "artist_counts[:5]"
   ]
  },
  {
   "cell_type": "code",
   "execution_count": 69,
   "metadata": {},
   "outputs": [
    {
     "data": {
      "text/plain": [
       "4"
      ]
     },
     "execution_count": 69,
     "metadata": {},
     "output_type": "execute_result"
    }
   ],
   "source": [
    "artist_counts['Blake, Robert']"
   ]
  },
  {
   "cell_type": "markdown",
   "metadata": {},
   "source": [
    "## INDEXIG THE RIGHT WAY"
   ]
  },
  {
   "cell_type": "code",
   "execution_count": 84,
   "metadata": {
    "collapsed": true
   },
   "outputs": [],
   "source": [
    "#CONSISTENT WAY OF DATA SELECTION, ONE WHICH IS EASY\n",
    "# 2 ATTRIBUTES loc and iloc\n",
    "# these allow to crunch out data in an easy and consistent way\n",
    "# loc by label and iloc by position (label is what inside pandas index object,the there are column labels 2)\n",
    "#each label has\n",
    "# has index starting 0"
   ]
  },
  {
   "cell_type": "code",
   "execution_count": 85,
   "metadata": {},
   "outputs": [
    {
     "data": {
      "text/plain": [
       "'Blake, Robert'"
      ]
     },
     "execution_count": 85,
     "metadata": {},
     "output_type": "execute_result"
    }
   ],
   "source": [
    "df.loc[1035,'artist'] # row indexer,column indexer"
   ]
  },
  {
   "cell_type": "code",
   "execution_count": 86,
   "metadata": {},
   "outputs": [
    {
     "data": {
      "text/plain": [
       "id\n",
       "1035    Blake, Robert\n",
       "1036    Blake, Robert\n",
       "1037    Blake, Robert\n",
       "1038    Blake, Robert\n",
       "Name: artist, dtype: object"
      ]
     },
     "execution_count": 86,
     "metadata": {},
     "output_type": "execute_result"
    }
   ],
   "source": [
    "df.loc[s,'artist']"
   ]
  },
  {
   "cell_type": "code",
   "execution_count": 87,
   "metadata": {},
   "outputs": [
    {
     "data": {
      "text/html": [
       "<div>\n",
       "<style>\n",
       "    .dataframe thead tr:only-child th {\n",
       "        text-align: right;\n",
       "    }\n",
       "\n",
       "    .dataframe thead th {\n",
       "        text-align: left;\n",
       "    }\n",
       "\n",
       "    .dataframe tbody tr th {\n",
       "        vertical-align: top;\n",
       "    }\n",
       "</style>\n",
       "<table border=\"1\" class=\"dataframe\">\n",
       "  <thead>\n",
       "    <tr style=\"text-align: right;\">\n",
       "      <th></th>\n",
       "      <th>artist</th>\n",
       "      <th>title</th>\n",
       "      <th>medium</th>\n",
       "      <th>year</th>\n",
       "      <th>acquisitionYear</th>\n",
       "      <th>width</th>\n",
       "      <th>height</th>\n",
       "      <th>units</th>\n",
       "    </tr>\n",
       "    <tr>\n",
       "      <th>id</th>\n",
       "      <th></th>\n",
       "      <th></th>\n",
       "      <th></th>\n",
       "      <th></th>\n",
       "      <th></th>\n",
       "      <th></th>\n",
       "      <th></th>\n",
       "      <th></th>\n",
       "    </tr>\n",
       "  </thead>\n",
       "  <tbody>\n",
       "    <tr>\n",
       "      <th>1035</th>\n",
       "      <td>Blake, Robert</td>\n",
       "      <td>A Figure Bowing before a Seated Old Man with h...</td>\n",
       "      <td>Watercolour, ink, chalk and graphite on paper....</td>\n",
       "      <td>NaN</td>\n",
       "      <td>1922.0</td>\n",
       "      <td>394</td>\n",
       "      <td>419</td>\n",
       "      <td>mm</td>\n",
       "    </tr>\n",
       "    <tr>\n",
       "      <th>1036</th>\n",
       "      <td>Blake, Robert</td>\n",
       "      <td>Two Drawings of Frightened Figures, Probably f...</td>\n",
       "      <td>Graphite on paper</td>\n",
       "      <td>NaN</td>\n",
       "      <td>1922.0</td>\n",
       "      <td>311</td>\n",
       "      <td>213</td>\n",
       "      <td>mm</td>\n",
       "    </tr>\n",
       "    <tr>\n",
       "      <th>1037</th>\n",
       "      <td>Blake, Robert</td>\n",
       "      <td>The Preaching of Warning. Verso: An Old Man En...</td>\n",
       "      <td>Graphite on paper. Verso: graphite on paper</td>\n",
       "      <td>1785</td>\n",
       "      <td>1922.0</td>\n",
       "      <td>343</td>\n",
       "      <td>467</td>\n",
       "      <td>mm</td>\n",
       "    </tr>\n",
       "    <tr>\n",
       "      <th>1038</th>\n",
       "      <td>Blake, Robert</td>\n",
       "      <td>Six Drawings of Figures with Outstretched Arms</td>\n",
       "      <td>Graphite on paper</td>\n",
       "      <td>NaN</td>\n",
       "      <td>1922.0</td>\n",
       "      <td>318</td>\n",
       "      <td>394</td>\n",
       "      <td>mm</td>\n",
       "    </tr>\n",
       "  </tbody>\n",
       "</table>\n",
       "</div>"
      ],
      "text/plain": [
       "             artist                                              title  \\\n",
       "id                                                                       \n",
       "1035  Blake, Robert  A Figure Bowing before a Seated Old Man with h...   \n",
       "1036  Blake, Robert  Two Drawings of Frightened Figures, Probably f...   \n",
       "1037  Blake, Robert  The Preaching of Warning. Verso: An Old Man En...   \n",
       "1038  Blake, Robert     Six Drawings of Figures with Outstretched Arms   \n",
       "\n",
       "                                                 medium  year  \\\n",
       "id                                                              \n",
       "1035  Watercolour, ink, chalk and graphite on paper....   NaN   \n",
       "1036                                  Graphite on paper   NaN   \n",
       "1037        Graphite on paper. Verso: graphite on paper  1785   \n",
       "1038                                  Graphite on paper   NaN   \n",
       "\n",
       "      acquisitionYear width height units  \n",
       "id                                        \n",
       "1035           1922.0   394    419    mm  \n",
       "1036           1922.0   311    213    mm  \n",
       "1037           1922.0   343    467    mm  \n",
       "1038           1922.0   318    394    mm  "
      ]
     },
     "execution_count": 87,
     "metadata": {},
     "output_type": "execute_result"
    }
   ],
   "source": [
    "df.loc[s,:]"
   ]
  },
  {
   "cell_type": "code",
   "execution_count": 74,
   "metadata": {},
   "outputs": [
    {
     "data": {
      "text/plain": [
       "'343'"
      ]
     },
     "execution_count": 74,
     "metadata": {},
     "output_type": "execute_result"
    }
   ],
   "source": [
    "# now iloc select by position\n",
    "df.iloc[2,5] # row index,column index"
   ]
  },
  {
   "cell_type": "code",
   "execution_count": 88,
   "metadata": {},
   "outputs": [
    {
     "data": {
      "text/html": [
       "<div>\n",
       "<style>\n",
       "    .dataframe thead tr:only-child th {\n",
       "        text-align: right;\n",
       "    }\n",
       "\n",
       "    .dataframe thead th {\n",
       "        text-align: left;\n",
       "    }\n",
       "\n",
       "    .dataframe tbody tr th {\n",
       "        vertical-align: top;\n",
       "    }\n",
       "</style>\n",
       "<table border=\"1\" class=\"dataframe\">\n",
       "  <thead>\n",
       "    <tr style=\"text-align: right;\">\n",
       "      <th></th>\n",
       "      <th>artist</th>\n",
       "      <th>title</th>\n",
       "      <th>medium</th>\n",
       "      <th>year</th>\n",
       "      <th>acquisitionYear</th>\n",
       "      <th>width</th>\n",
       "      <th>height</th>\n",
       "      <th>units</th>\n",
       "    </tr>\n",
       "    <tr>\n",
       "      <th>id</th>\n",
       "      <th></th>\n",
       "      <th></th>\n",
       "      <th></th>\n",
       "      <th></th>\n",
       "      <th></th>\n",
       "      <th></th>\n",
       "      <th></th>\n",
       "      <th></th>\n",
       "    </tr>\n",
       "  </thead>\n",
       "  <tbody>\n",
       "    <tr>\n",
       "      <th>1035</th>\n",
       "      <td>Blake, Robert</td>\n",
       "      <td>A Figure Bowing before a Seated Old Man with h...</td>\n",
       "      <td>Watercolour, ink, chalk and graphite on paper....</td>\n",
       "      <td>NaN</td>\n",
       "      <td>1922.0</td>\n",
       "      <td>394</td>\n",
       "      <td>419</td>\n",
       "      <td>mm</td>\n",
       "    </tr>\n",
       "    <tr>\n",
       "      <th>1036</th>\n",
       "      <td>Blake, Robert</td>\n",
       "      <td>Two Drawings of Frightened Figures, Probably f...</td>\n",
       "      <td>Graphite on paper</td>\n",
       "      <td>NaN</td>\n",
       "      <td>1922.0</td>\n",
       "      <td>311</td>\n",
       "      <td>213</td>\n",
       "      <td>mm</td>\n",
       "    </tr>\n",
       "    <tr>\n",
       "      <th>1037</th>\n",
       "      <td>Blake, Robert</td>\n",
       "      <td>The Preaching of Warning. Verso: An Old Man En...</td>\n",
       "      <td>Graphite on paper. Verso: graphite on paper</td>\n",
       "      <td>1785</td>\n",
       "      <td>1922.0</td>\n",
       "      <td>343</td>\n",
       "      <td>467</td>\n",
       "      <td>mm</td>\n",
       "    </tr>\n",
       "    <tr>\n",
       "      <th>1038</th>\n",
       "      <td>Blake, Robert</td>\n",
       "      <td>Six Drawings of Figures with Outstretched Arms</td>\n",
       "      <td>Graphite on paper</td>\n",
       "      <td>NaN</td>\n",
       "      <td>1922.0</td>\n",
       "      <td>318</td>\n",
       "      <td>394</td>\n",
       "      <td>mm</td>\n",
       "    </tr>\n",
       "  </tbody>\n",
       "</table>\n",
       "</div>"
      ],
      "text/plain": [
       "             artist                                              title  \\\n",
       "id                                                                       \n",
       "1035  Blake, Robert  A Figure Bowing before a Seated Old Man with h...   \n",
       "1036  Blake, Robert  Two Drawings of Frightened Figures, Probably f...   \n",
       "1037  Blake, Robert  The Preaching of Warning. Verso: An Old Man En...   \n",
       "1038  Blake, Robert     Six Drawings of Figures with Outstretched Arms   \n",
       "\n",
       "                                                 medium  year  \\\n",
       "id                                                              \n",
       "1035  Watercolour, ink, chalk and graphite on paper....   NaN   \n",
       "1036                                  Graphite on paper   NaN   \n",
       "1037        Graphite on paper. Verso: graphite on paper  1785   \n",
       "1038                                  Graphite on paper   NaN   \n",
       "\n",
       "      acquisitionYear width height units  \n",
       "id                                        \n",
       "1035           1922.0   394    419    mm  \n",
       "1036           1922.0   311    213    mm  \n",
       "1037           1922.0   343    467    mm  \n",
       "1038           1922.0   318    394    mm  "
      ]
     },
     "execution_count": 88,
     "metadata": {},
     "output_type": "execute_result"
    }
   ],
   "source": [
    "df[:4]"
   ]
  },
  {
   "cell_type": "code",
   "execution_count": 90,
   "metadata": {},
   "outputs": [
    {
     "data": {
      "text/plain": [
       "id\n",
       "1037    The Preaching of Warning. Verso: An Old Man En...\n",
       "1038       Six Drawings of Figures with Outstretched Arms\n",
       "Name: title, dtype: object"
      ]
     },
     "execution_count": 90,
     "metadata": {},
     "output_type": "execute_result"
    }
   ],
   "source": [
    "df.iloc[2:4,1] "
   ]
  },
  {
   "cell_type": "code",
   "execution_count": 91,
   "metadata": {},
   "outputs": [
    {
     "data": {
      "text/html": [
       "<div>\n",
       "<style>\n",
       "    .dataframe thead tr:only-child th {\n",
       "        text-align: right;\n",
       "    }\n",
       "\n",
       "    .dataframe thead th {\n",
       "        text-align: left;\n",
       "    }\n",
       "\n",
       "    .dataframe tbody tr th {\n",
       "        vertical-align: top;\n",
       "    }\n",
       "</style>\n",
       "<table border=\"1\" class=\"dataframe\">\n",
       "  <thead>\n",
       "    <tr style=\"text-align: right;\">\n",
       "      <th></th>\n",
       "      <th>title</th>\n",
       "      <th>medium</th>\n",
       "      <th>year</th>\n",
       "      <th>acquisitionYear</th>\n",
       "    </tr>\n",
       "    <tr>\n",
       "      <th>id</th>\n",
       "      <th></th>\n",
       "      <th></th>\n",
       "      <th></th>\n",
       "      <th></th>\n",
       "    </tr>\n",
       "  </thead>\n",
       "  <tbody>\n",
       "    <tr>\n",
       "      <th>1037</th>\n",
       "      <td>The Preaching of Warning. Verso: An Old Man En...</td>\n",
       "      <td>Graphite on paper. Verso: graphite on paper</td>\n",
       "      <td>1785</td>\n",
       "      <td>1922.0</td>\n",
       "    </tr>\n",
       "    <tr>\n",
       "      <th>1038</th>\n",
       "      <td>Six Drawings of Figures with Outstretched Arms</td>\n",
       "      <td>Graphite on paper</td>\n",
       "      <td>NaN</td>\n",
       "      <td>1922.0</td>\n",
       "    </tr>\n",
       "    <tr>\n",
       "      <th>1039</th>\n",
       "      <td>The Circle of the Lustful: Francesca da Rimini...</td>\n",
       "      <td>Line engraving on paper</td>\n",
       "      <td>1826</td>\n",
       "      <td>1919.0</td>\n",
       "    </tr>\n",
       "    <tr>\n",
       "      <th>1040</th>\n",
       "      <td>Ciampolo the Barrator Tormented by the Devils</td>\n",
       "      <td>Line engraving on paper</td>\n",
       "      <td>1826</td>\n",
       "      <td>1919.0</td>\n",
       "    </tr>\n",
       "    <tr>\n",
       "      <th>1041</th>\n",
       "      <td>The Baffled Devils Fighting</td>\n",
       "      <td>Line engraving on paper</td>\n",
       "      <td>1826</td>\n",
       "      <td>1919.0</td>\n",
       "    </tr>\n",
       "    <tr>\n",
       "      <th>1042</th>\n",
       "      <td>The Six-Footed Serpent Attacking Agnolo Brunel...</td>\n",
       "      <td>Line engraving on paper</td>\n",
       "      <td>1826</td>\n",
       "      <td>1919.0</td>\n",
       "    </tr>\n",
       "    <tr>\n",
       "      <th>1043</th>\n",
       "      <td>The Serpent Attacking Buoso Donati</td>\n",
       "      <td>Line engraving on paper</td>\n",
       "      <td>1826</td>\n",
       "      <td>1919.0</td>\n",
       "    </tr>\n",
       "    <tr>\n",
       "      <th>1044</th>\n",
       "      <td>The Pit of Disease: The Falsifiers</td>\n",
       "      <td>Line engraving on paper</td>\n",
       "      <td>1826</td>\n",
       "      <td>1919.0</td>\n",
       "    </tr>\n",
       "    <tr>\n",
       "      <th>1045</th>\n",
       "      <td>Dante Striking against Bocca Degli Abati</td>\n",
       "      <td>Line engraving on paper</td>\n",
       "      <td>1826</td>\n",
       "      <td>1919.0</td>\n",
       "    </tr>\n",
       "    <tr>\n",
       "      <th>1046</th>\n",
       "      <td>Job and his Family</td>\n",
       "      <td>Line engraving on paper</td>\n",
       "      <td>1828</td>\n",
       "      <td>1919.0</td>\n",
       "    </tr>\n",
       "  </tbody>\n",
       "</table>\n",
       "</div>"
      ],
      "text/plain": [
       "                                                  title  \\\n",
       "id                                                        \n",
       "1037  The Preaching of Warning. Verso: An Old Man En...   \n",
       "1038     Six Drawings of Figures with Outstretched Arms   \n",
       "1039  The Circle of the Lustful: Francesca da Rimini...   \n",
       "1040      Ciampolo the Barrator Tormented by the Devils   \n",
       "1041                        The Baffled Devils Fighting   \n",
       "1042  The Six-Footed Serpent Attacking Agnolo Brunel...   \n",
       "1043                 The Serpent Attacking Buoso Donati   \n",
       "1044                 The Pit of Disease: The Falsifiers   \n",
       "1045           Dante Striking against Bocca Degli Abati   \n",
       "1046                                 Job and his Family   \n",
       "\n",
       "                                           medium  year  acquisitionYear  \n",
       "id                                                                        \n",
       "1037  Graphite on paper. Verso: graphite on paper  1785           1922.0  \n",
       "1038                            Graphite on paper   NaN           1922.0  \n",
       "1039                      Line engraving on paper  1826           1919.0  \n",
       "1040                      Line engraving on paper  1826           1919.0  \n",
       "1041                      Line engraving on paper  1826           1919.0  \n",
       "1042                      Line engraving on paper  1826           1919.0  \n",
       "1043                      Line engraving on paper  1826           1919.0  \n",
       "1044                      Line engraving on paper  1826           1919.0  \n",
       "1045                      Line engraving on paper  1826           1919.0  \n",
       "1046                      Line engraving on paper  1828           1919.0  "
      ]
     },
     "execution_count": 91,
     "metadata": {},
     "output_type": "execute_result"
    }
   ],
   "source": [
    "df.iloc[2:12,1:5] "
   ]
  },
  {
   "cell_type": "code",
   "execution_count": 78,
   "metadata": {},
   "outputs": [
    {
     "data": {
      "text/html": [
       "<div>\n",
       "<style>\n",
       "    .dataframe thead tr:only-child th {\n",
       "        text-align: right;\n",
       "    }\n",
       "\n",
       "    .dataframe thead th {\n",
       "        text-align: left;\n",
       "    }\n",
       "\n",
       "    .dataframe tbody tr th {\n",
       "        vertical-align: top;\n",
       "    }\n",
       "</style>\n",
       "<table border=\"1\" class=\"dataframe\">\n",
       "  <thead>\n",
       "    <tr style=\"text-align: right;\">\n",
       "      <th></th>\n",
       "      <th>title</th>\n",
       "      <th>medium</th>\n",
       "      <th>year</th>\n",
       "      <th>acquisitionYear</th>\n",
       "    </tr>\n",
       "    <tr>\n",
       "      <th>id</th>\n",
       "      <th></th>\n",
       "      <th></th>\n",
       "      <th></th>\n",
       "      <th></th>\n",
       "    </tr>\n",
       "  </thead>\n",
       "  <tbody>\n",
       "    <tr>\n",
       "      <th>1037</th>\n",
       "      <td>The Preaching of Warning. Verso: An Old Man En...</td>\n",
       "      <td>Graphite on paper. Verso: graphite on paper</td>\n",
       "      <td>1785</td>\n",
       "      <td>1922.0</td>\n",
       "    </tr>\n",
       "    <tr>\n",
       "      <th>1038</th>\n",
       "      <td>Six Drawings of Figures with Outstretched Arms</td>\n",
       "      <td>Graphite on paper</td>\n",
       "      <td>NaN</td>\n",
       "      <td>1922.0</td>\n",
       "    </tr>\n",
       "    <tr>\n",
       "      <th>1039</th>\n",
       "      <td>The Circle of the Lustful: Francesca da Rimini...</td>\n",
       "      <td>Line engraving on paper</td>\n",
       "      <td>1826</td>\n",
       "      <td>1919.0</td>\n",
       "    </tr>\n",
       "    <tr>\n",
       "      <th>1040</th>\n",
       "      <td>Ciampolo the Barrator Tormented by the Devils</td>\n",
       "      <td>Line engraving on paper</td>\n",
       "      <td>1826</td>\n",
       "      <td>1919.0</td>\n",
       "    </tr>\n",
       "    <tr>\n",
       "      <th>1041</th>\n",
       "      <td>The Baffled Devils Fighting</td>\n",
       "      <td>Line engraving on paper</td>\n",
       "      <td>1826</td>\n",
       "      <td>1919.0</td>\n",
       "    </tr>\n",
       "    <tr>\n",
       "      <th>1042</th>\n",
       "      <td>The Six-Footed Serpent Attacking Agnolo Brunel...</td>\n",
       "      <td>Line engraving on paper</td>\n",
       "      <td>1826</td>\n",
       "      <td>1919.0</td>\n",
       "    </tr>\n",
       "    <tr>\n",
       "      <th>1043</th>\n",
       "      <td>The Serpent Attacking Buoso Donati</td>\n",
       "      <td>Line engraving on paper</td>\n",
       "      <td>1826</td>\n",
       "      <td>1919.0</td>\n",
       "    </tr>\n",
       "    <tr>\n",
       "      <th>1044</th>\n",
       "      <td>The Pit of Disease: The Falsifiers</td>\n",
       "      <td>Line engraving on paper</td>\n",
       "      <td>1826</td>\n",
       "      <td>1919.0</td>\n",
       "    </tr>\n",
       "    <tr>\n",
       "      <th>1045</th>\n",
       "      <td>Dante Striking against Bocca Degli Abati</td>\n",
       "      <td>Line engraving on paper</td>\n",
       "      <td>1826</td>\n",
       "      <td>1919.0</td>\n",
       "    </tr>\n",
       "    <tr>\n",
       "      <th>1046</th>\n",
       "      <td>Job and his Family</td>\n",
       "      <td>Line engraving on paper</td>\n",
       "      <td>1828</td>\n",
       "      <td>1919.0</td>\n",
       "    </tr>\n",
       "  </tbody>\n",
       "</table>\n",
       "</div>"
      ],
      "text/plain": [
       "                                                  title  \\\n",
       "id                                                        \n",
       "1037  The Preaching of Warning. Verso: An Old Man En...   \n",
       "1038     Six Drawings of Figures with Outstretched Arms   \n",
       "1039  The Circle of the Lustful: Francesca da Rimini...   \n",
       "1040      Ciampolo the Barrator Tormented by the Devils   \n",
       "1041                        The Baffled Devils Fighting   \n",
       "1042  The Six-Footed Serpent Attacking Agnolo Brunel...   \n",
       "1043                 The Serpent Attacking Buoso Donati   \n",
       "1044                 The Pit of Disease: The Falsifiers   \n",
       "1045           Dante Striking against Bocca Degli Abati   \n",
       "1046                                 Job and his Family   \n",
       "\n",
       "                                           medium  year  acquisitionYear  \n",
       "id                                                                        \n",
       "1037  Graphite on paper. Verso: graphite on paper  1785           1922.0  \n",
       "1038                            Graphite on paper   NaN           1922.0  \n",
       "1039                      Line engraving on paper  1826           1919.0  \n",
       "1040                      Line engraving on paper  1826           1919.0  \n",
       "1041                      Line engraving on paper  1826           1919.0  \n",
       "1042                      Line engraving on paper  1826           1919.0  \n",
       "1043                      Line engraving on paper  1826           1919.0  \n",
       "1044                      Line engraving on paper  1826           1919.0  \n",
       "1045                      Line engraving on paper  1826           1919.0  \n",
       "1046                      Line engraving on paper  1828           1919.0  "
      ]
     },
     "execution_count": 78,
     "metadata": {},
     "output_type": "execute_result"
    }
   ],
   "source": [
    "df.iloc[2:12,[1,2,3,4]] "
   ]
  },
  {
   "cell_type": "markdown",
   "metadata": {},
   "source": [
    "## DEMO3"
   ]
  },
  {
   "cell_type": "code",
   "execution_count": 79,
   "metadata": {},
   "outputs": [
    {
     "data": {
      "text/plain": [
       "'Blake, Robert'"
      ]
     },
     "execution_count": 79,
     "metadata": {},
     "output_type": "execute_result"
    }
   ],
   "source": [
    "df.loc[1035,'artist']"
   ]
  },
  {
   "cell_type": "code",
   "execution_count": 80,
   "metadata": {},
   "outputs": [
    {
     "data": {
      "text/plain": [
       "'Blake, Robert'"
      ]
     },
     "execution_count": 80,
     "metadata": {},
     "output_type": "execute_result"
    }
   ],
   "source": [
    "df.iloc[0,0]"
   ]
  },
  {
   "cell_type": "code",
   "execution_count": 81,
   "metadata": {},
   "outputs": [
    {
     "data": {
      "text/plain": [
       "artist                                                 Blake, Robert\n",
       "title              A Figure Bowing before a Seated Old Man with h...\n",
       "medium             Watercolour, ink, chalk and graphite on paper....\n",
       "year                                                             NaN\n",
       "acquisitionYear                                                 1922\n",
       "width                                                            394\n",
       "height                                                           419\n",
       "units                                                             mm\n",
       "Name: 1035, dtype: object"
      ]
     },
     "execution_count": 81,
     "metadata": {},
     "output_type": "execute_result"
    }
   ],
   "source": [
    "df.iloc[0,:]"
   ]
  },
  {
   "cell_type": "code",
   "execution_count": 99,
   "metadata": {},
   "outputs": [
    {
     "data": {
      "text/html": [
       "<div>\n",
       "<style>\n",
       "    .dataframe thead tr:only-child th {\n",
       "        text-align: right;\n",
       "    }\n",
       "\n",
       "    .dataframe thead th {\n",
       "        text-align: left;\n",
       "    }\n",
       "\n",
       "    .dataframe tbody tr th {\n",
       "        vertical-align: top;\n",
       "    }\n",
       "</style>\n",
       "<table border=\"1\" class=\"dataframe\">\n",
       "  <thead>\n",
       "    <tr style=\"text-align: right;\">\n",
       "      <th></th>\n",
       "      <th>artist</th>\n",
       "      <th>title</th>\n",
       "    </tr>\n",
       "    <tr>\n",
       "      <th>id</th>\n",
       "      <th></th>\n",
       "      <th></th>\n",
       "    </tr>\n",
       "  </thead>\n",
       "  <tbody>\n",
       "    <tr>\n",
       "      <th>1035</th>\n",
       "      <td>Blake, Robert</td>\n",
       "      <td>A Figure Bowing before a Seated Old Man with h...</td>\n",
       "    </tr>\n",
       "    <tr>\n",
       "      <th>1036</th>\n",
       "      <td>Blake, Robert</td>\n",
       "      <td>Two Drawings of Frightened Figures, Probably f...</td>\n",
       "    </tr>\n",
       "  </tbody>\n",
       "</table>\n",
       "</div>"
      ],
      "text/plain": [
       "             artist                                              title\n",
       "id                                                                    \n",
       "1035  Blake, Robert  A Figure Bowing before a Seated Old Man with h...\n",
       "1036  Blake, Robert  Two Drawings of Frightened Figures, Probably f..."
      ]
     },
     "execution_count": 99,
     "metadata": {},
     "output_type": "execute_result"
    }
   ],
   "source": [
    "df.iloc[0:2,0:2] # slicing : first 2 rows and 1st two col"
   ]
  },
  {
   "cell_type": "code",
   "execution_count": 100,
   "metadata": {},
   "outputs": [
    {
     "data": {
      "text/plain": [
       "id\n",
       "1037    160181.0\n",
       "1038    125292.0\n",
       "1039     81405.0\n",
       "1040     81120.0\n",
       "1041     80828.0\n",
       "1042     83640.0\n",
       "1043     80735.0\n",
       "1044     82620.0\n",
       "dtype: float64"
      ]
     },
     "execution_count": 100,
     "metadata": {},
     "output_type": "execute_result"
    }
   ],
   "source": [
    "#try multiplication\n",
    "pd.to_numeric(df['width'][2:10])*pd.to_numeric(df['height'][2:10]) # we need to do this because some values are test henc e\n",
    "# hence of type object"
   ]
  },
  {
   "cell_type": "code",
   "execution_count": 101,
   "metadata": {},
   "outputs": [
    {
     "data": {
      "text/plain": [
       "id\n",
       "1035    165086.0\n",
       "1036     66243.0\n",
       "1037    160181.0\n",
       "1038    125292.0\n",
       "1039     81405.0\n",
       "dtype: float64"
      ]
     },
     "execution_count": 101,
     "metadata": {},
     "output_type": "execute_result"
    }
   ],
   "source": [
    "# another way\n",
    "df[['width', 'height']] = df[['width', 'height']][0:100].astype(float)\n",
    "df['width'][0:5]*df['height'][0:5]"
   ]
  },
  {
   "cell_type": "code",
   "execution_count": 102,
   "metadata": {},
   "outputs": [
    {
     "data": {
      "text/html": [
       "<div>\n",
       "<style>\n",
       "    .dataframe thead tr:only-child th {\n",
       "        text-align: right;\n",
       "    }\n",
       "\n",
       "    .dataframe thead th {\n",
       "        text-align: left;\n",
       "    }\n",
       "\n",
       "    .dataframe tbody tr th {\n",
       "        vertical-align: top;\n",
       "    }\n",
       "</style>\n",
       "<table border=\"1\" class=\"dataframe\">\n",
       "  <thead>\n",
       "    <tr style=\"text-align: right;\">\n",
       "      <th></th>\n",
       "      <th>width</th>\n",
       "      <th>height</th>\n",
       "    </tr>\n",
       "    <tr>\n",
       "      <th>id</th>\n",
       "      <th></th>\n",
       "      <th></th>\n",
       "    </tr>\n",
       "  </thead>\n",
       "  <tbody>\n",
       "    <tr>\n",
       "      <th>1036</th>\n",
       "      <td>311.0</td>\n",
       "      <td>213.0</td>\n",
       "    </tr>\n",
       "    <tr>\n",
       "      <th>1037</th>\n",
       "      <td>343.0</td>\n",
       "      <td>467.0</td>\n",
       "    </tr>\n",
       "    <tr>\n",
       "      <th>1038</th>\n",
       "      <td>318.0</td>\n",
       "      <td>394.0</td>\n",
       "    </tr>\n",
       "    <tr>\n",
       "      <th>1039</th>\n",
       "      <td>243.0</td>\n",
       "      <td>335.0</td>\n",
       "    </tr>\n",
       "    <tr>\n",
       "      <th>1040</th>\n",
       "      <td>240.0</td>\n",
       "      <td>338.0</td>\n",
       "    </tr>\n",
       "    <tr>\n",
       "      <th>1041</th>\n",
       "      <td>242.0</td>\n",
       "      <td>334.0</td>\n",
       "    </tr>\n",
       "    <tr>\n",
       "      <th>1042</th>\n",
       "      <td>246.0</td>\n",
       "      <td>340.0</td>\n",
       "    </tr>\n",
       "    <tr>\n",
       "      <th>1043</th>\n",
       "      <td>241.0</td>\n",
       "      <td>335.0</td>\n",
       "    </tr>\n",
       "    <tr>\n",
       "      <th>1044</th>\n",
       "      <td>243.0</td>\n",
       "      <td>340.0</td>\n",
       "    </tr>\n",
       "  </tbody>\n",
       "</table>\n",
       "</div>"
      ],
      "text/plain": [
       "      width  height\n",
       "id                 \n",
       "1036  311.0   213.0\n",
       "1037  343.0   467.0\n",
       "1038  318.0   394.0\n",
       "1039  243.0   335.0\n",
       "1040  240.0   338.0\n",
       "1041  242.0   334.0\n",
       "1042  246.0   340.0\n",
       "1043  241.0   335.0\n",
       "1044  243.0   340.0"
      ]
     },
     "execution_count": 102,
     "metadata": {},
     "output_type": "execute_result"
    }
   ],
   "source": [
    "df[['width', 'height']][1:10]"
   ]
  },
  {
   "cell_type": "code",
   "execution_count": 103,
   "metadata": {},
   "outputs": [
    {
     "data": {
      "text/plain": [
       "id\n",
       "1068     92.0\n",
       "1716    101.0\n",
       "1733    105.0\n",
       "1070    112.0\n",
       "1069    112.0\n",
       "Name: width, dtype: float64"
      ]
     },
     "execution_count": 103,
     "metadata": {},
     "output_type": "execute_result"
    }
   ],
   "source": [
    "# professional way\n",
    "df['width'].sort_values()[0:5] # see data types are not number"
   ]
  },
  {
   "cell_type": "code",
   "execution_count": 104,
   "metadata": {},
   "outputs": [
    {
     "data": {
      "text/plain": [
       "id\n",
       "1068     92.0\n",
       "1716    101.0\n",
       "1733    105.0\n",
       "1070    112.0\n",
       "1069    112.0\n",
       "Name: width, dtype: float64"
      ]
     },
     "execution_count": 104,
     "metadata": {},
     "output_type": "execute_result"
    }
   ],
   "source": [
    "df['width'].sort_values().head(5)"
   ]
  },
  {
   "cell_type": "code",
   "execution_count": 105,
   "metadata": {},
   "outputs": [
    {
     "data": {
      "text/plain": [
       "id\n",
       "122960   NaN\n",
       "122961   NaN\n",
       "121181   NaN\n",
       "112306   NaN\n",
       "127035   NaN\n",
       "Name: width, dtype: float64"
      ]
     },
     "execution_count": 105,
     "metadata": {},
     "output_type": "execute_result"
    }
   ],
   "source": [
    "df['width'].sort_values().tail(5)"
   ]
  },
  {
   "cell_type": "code",
   "execution_count": 106,
   "metadata": {},
   "outputs": [
    {
     "data": {
      "text/plain": [
       "id\n",
       "1035    394.0\n",
       "1036    311.0\n",
       "1037    343.0\n",
       "1038    318.0\n",
       "1039    243.0\n",
       "Name: width, dtype: float64"
      ]
     },
     "execution_count": 106,
     "metadata": {},
     "output_type": "execute_result"
    }
   ],
   "source": [
    "# pd.to_numeric(df['width']) # give error ValueError: Unable to parse string \"(upper):\" at position 1839\n",
    "pd.to_numeric(df['width'],errors='coerce')[0:5] # on error please coerce value to nan(non a number)\n",
    "# hurray this has numeric d type float 64"
   ]
  },
  {
   "cell_type": "code",
   "execution_count": 107,
   "metadata": {
    "collapsed": true
   },
   "outputs": [],
   "source": [
    "# replacing width and height with new colum\n",
    "df.loc[:,'width'] = pd.to_numeric(df['width'],errors='coerce')"
   ]
  },
  {
   "cell_type": "code",
   "execution_count": 108,
   "metadata": {
    "collapsed": true
   },
   "outputs": [],
   "source": [
    "df.loc[:,'height'] = pd.to_numeric(df['height'],errors='coerce')"
   ]
  },
  {
   "cell_type": "code",
   "execution_count": 109,
   "metadata": {},
   "outputs": [
    {
     "data": {
      "text/plain": [
       "id\n",
       "1035    165086.0\n",
       "1036     66243.0\n",
       "1037    160181.0\n",
       "dtype: float64"
      ]
     },
     "execution_count": 109,
     "metadata": {},
     "output_type": "execute_result"
    }
   ],
   "source": [
    "df['width'][0:3] * df['height'][0:3] # now it works"
   ]
  },
  {
   "cell_type": "code",
   "execution_count": 110,
   "metadata": {
    "collapsed": true
   },
   "outputs": [],
   "source": [
    "# adding a new column to df\n",
    "area = df['width'][0:3] * df['height'][0:3]"
   ]
  },
  {
   "cell_type": "code",
   "execution_count": 111,
   "metadata": {
    "collapsed": true
   },
   "outputs": [],
   "source": [
    "df = df.assign(area=area)"
   ]
  },
  {
   "cell_type": "code",
   "execution_count": 112,
   "metadata": {},
   "outputs": [
    {
     "data": {
      "text/plain": [
       "artist              object\n",
       "title               object\n",
       "medium              object\n",
       "year                object\n",
       "acquisitionYear    float64\n",
       "width              float64\n",
       "height             float64\n",
       "units               object\n",
       "area               float64\n",
       "dtype: object"
      ]
     },
     "execution_count": 112,
     "metadata": {},
     "output_type": "execute_result"
    }
   ],
   "source": [
    "df.dtypes # new column s added"
   ]
  },
  {
   "cell_type": "code",
   "execution_count": 113,
   "metadata": {},
   "outputs": [
    {
     "data": {
      "text/plain": [
       "165086.0"
      ]
     },
     "execution_count": 113,
     "metadata": {},
     "output_type": "execute_result"
    }
   ],
   "source": [
    "df['area'].max()"
   ]
  },
  {
   "cell_type": "code",
   "execution_count": 114,
   "metadata": {},
   "outputs": [
    {
     "data": {
      "text/plain": [
       "1035"
      ]
     },
     "execution_count": 114,
     "metadata": {},
     "output_type": "execute_result"
    }
   ],
   "source": [
    "df['area'].idxmax() # gives index of max row"
   ]
  },
  {
   "cell_type": "code",
   "execution_count": 115,
   "metadata": {},
   "outputs": [
    {
     "data": {
      "text/plain": [
       "artist                                                 Blake, Robert\n",
       "title              A Figure Bowing before a Seated Old Man with h...\n",
       "medium             Watercolour, ink, chalk and graphite on paper....\n",
       "year                                                             NaN\n",
       "acquisitionYear                                                 1922\n",
       "width                                                            394\n",
       "height                                                           419\n",
       "units                                                             mm\n",
       "area                                                          165086\n",
       "Name: 1035, dtype: object"
      ]
     },
     "execution_count": 115,
     "metadata": {},
     "output_type": "execute_result"
    }
   ],
   "source": [
    "#now that we have row lable we can use loc\n",
    "df.loc[df['area'].idxmax(),:]\n"
   ]
  },
  {
   "cell_type": "code",
   "execution_count": 117,
   "metadata": {
    "collapsed": true
   },
   "outputs": [],
   "source": [
    "## group\n",
    "#iterating through groups\n",
    "# speed up work flow with groups\n",
    "# use cases:aggreagtion,filtering,transformaton( if a value is missing do a group by and substitute the\n",
    "#most common value in the group)"
   ]
  },
  {
   "cell_type": "code",
   "execution_count": 119,
   "metadata": {},
   "outputs": [
    {
     "data": {
      "text/plain": [
       "pandas.core.frame.DataFrame"
      ]
     },
     "execution_count": 119,
     "metadata": {},
     "output_type": "execute_result"
    }
   ],
   "source": [
    "type(df)"
   ]
  },
  {
   "cell_type": "code",
   "execution_count": 131,
   "metadata": {
    "collapsed": true
   },
   "outputs": [],
   "source": [
    "df_grpd = df.groupby('artist')"
   ]
  },
  {
   "cell_type": "code",
   "execution_count": 132,
   "metadata": {},
   "outputs": [
    {
     "data": {
      "text/plain": [
       "pandas.core.groupby.DataFrameGroupBy"
      ]
     },
     "execution_count": 132,
     "metadata": {},
     "output_type": "execute_result"
    }
   ],
   "source": [
    "type(df_grpd)"
   ]
  },
  {
   "cell_type": "code",
   "execution_count": 135,
   "metadata": {
    "collapsed": true
   },
   "outputs": [],
   "source": [
    "#iterate over artist group\n",
    "#FInd the date of first acquisition for each artist\n",
    "#Fill some missing values"
   ]
  },
  {
   "cell_type": "code",
   "execution_count": 156,
   "metadata": {
    "collapsed": true
   },
   "outputs": [],
   "source": [
    "small_df = df.iloc[49980:50019,:].copy()"
   ]
  },
  {
   "cell_type": "code",
   "execution_count": 164,
   "metadata": {},
   "outputs": [
    {
     "data": {
      "text/html": [
       "<div>\n",
       "<style>\n",
       "    .dataframe thead tr:only-child th {\n",
       "        text-align: right;\n",
       "    }\n",
       "\n",
       "    .dataframe thead th {\n",
       "        text-align: left;\n",
       "    }\n",
       "\n",
       "    .dataframe tbody tr th {\n",
       "        vertical-align: top;\n",
       "    }\n",
       "</style>\n",
       "<table border=\"1\" class=\"dataframe\">\n",
       "  <thead>\n",
       "    <tr style=\"text-align: right;\">\n",
       "      <th></th>\n",
       "      <th>artist</th>\n",
       "      <th>title</th>\n",
       "      <th>medium</th>\n",
       "      <th>year</th>\n",
       "      <th>acquisitionYear</th>\n",
       "      <th>width</th>\n",
       "      <th>height</th>\n",
       "      <th>units</th>\n",
       "      <th>area</th>\n",
       "    </tr>\n",
       "    <tr>\n",
       "      <th>id</th>\n",
       "      <th></th>\n",
       "      <th></th>\n",
       "      <th></th>\n",
       "      <th></th>\n",
       "      <th></th>\n",
       "      <th></th>\n",
       "      <th></th>\n",
       "      <th></th>\n",
       "      <th></th>\n",
       "    </tr>\n",
       "  </thead>\n",
       "  <tbody>\n",
       "    <tr>\n",
       "      <th>16412</th>\n",
       "      <td>Wols</td>\n",
       "      <td>[no title]</td>\n",
       "      <td>Etching on paper</td>\n",
       "      <td>1937</td>\n",
       "      <td>1983.0</td>\n",
       "      <td>NaN</td>\n",
       "      <td>NaN</td>\n",
       "      <td>mm</td>\n",
       "      <td>NaN</td>\n",
       "    </tr>\n",
       "    <tr>\n",
       "      <th>16413</th>\n",
       "      <td>Wols</td>\n",
       "      <td>[no title]</td>\n",
       "      <td>Etching and drypoint on paper</td>\n",
       "      <td>1937</td>\n",
       "      <td>1983.0</td>\n",
       "      <td>NaN</td>\n",
       "      <td>NaN</td>\n",
       "      <td>mm</td>\n",
       "      <td>NaN</td>\n",
       "    </tr>\n",
       "    <tr>\n",
       "      <th>16414</th>\n",
       "      <td>Wols</td>\n",
       "      <td>[no title]</td>\n",
       "      <td>Etching and drypoint on paper</td>\n",
       "      <td>1937</td>\n",
       "      <td>1983.0</td>\n",
       "      <td>NaN</td>\n",
       "      <td>NaN</td>\n",
       "      <td>mm</td>\n",
       "      <td>NaN</td>\n",
       "    </tr>\n",
       "    <tr>\n",
       "      <th>16415</th>\n",
       "      <td>Wols</td>\n",
       "      <td>[no title]</td>\n",
       "      <td>Etching and drypoint on paper</td>\n",
       "      <td>1937</td>\n",
       "      <td>1983.0</td>\n",
       "      <td>NaN</td>\n",
       "      <td>NaN</td>\n",
       "      <td>mm</td>\n",
       "      <td>NaN</td>\n",
       "    </tr>\n",
       "    <tr>\n",
       "      <th>16416</th>\n",
       "      <td>Wols</td>\n",
       "      <td>[no title]</td>\n",
       "      <td>Etching and drypoint on paper</td>\n",
       "      <td>1937</td>\n",
       "      <td>1983.0</td>\n",
       "      <td>NaN</td>\n",
       "      <td>NaN</td>\n",
       "      <td>mm</td>\n",
       "      <td>NaN</td>\n",
       "    </tr>\n",
       "    <tr>\n",
       "      <th>16417</th>\n",
       "      <td>Wols</td>\n",
       "      <td>[no title]</td>\n",
       "      <td>Etching on paper</td>\n",
       "      <td>1937</td>\n",
       "      <td>1983.0</td>\n",
       "      <td>NaN</td>\n",
       "      <td>NaN</td>\n",
       "      <td>mm</td>\n",
       "      <td>NaN</td>\n",
       "    </tr>\n",
       "    <tr>\n",
       "      <th>16418</th>\n",
       "      <td>Wols</td>\n",
       "      <td>[no title]</td>\n",
       "      <td>Etching and drypoint on paper</td>\n",
       "      <td>1937</td>\n",
       "      <td>1983.0</td>\n",
       "      <td>NaN</td>\n",
       "      <td>NaN</td>\n",
       "      <td>mm</td>\n",
       "      <td>NaN</td>\n",
       "    </tr>\n",
       "    <tr>\n",
       "      <th>16419</th>\n",
       "      <td>Wols</td>\n",
       "      <td>[no title]</td>\n",
       "      <td>Etching and drypoint on paper</td>\n",
       "      <td>1937</td>\n",
       "      <td>1983.0</td>\n",
       "      <td>NaN</td>\n",
       "      <td>NaN</td>\n",
       "      <td>mm</td>\n",
       "      <td>NaN</td>\n",
       "    </tr>\n",
       "    <tr>\n",
       "      <th>16420</th>\n",
       "      <td>Wols</td>\n",
       "      <td>[no title]</td>\n",
       "      <td>Etching and drypoint on paper</td>\n",
       "      <td>1937</td>\n",
       "      <td>1983.0</td>\n",
       "      <td>NaN</td>\n",
       "      <td>NaN</td>\n",
       "      <td>mm</td>\n",
       "      <td>NaN</td>\n",
       "    </tr>\n",
       "    <tr>\n",
       "      <th>16421</th>\n",
       "      <td>Wols</td>\n",
       "      <td>[no title]</td>\n",
       "      <td>Etching and drypoint on paper</td>\n",
       "      <td>1937</td>\n",
       "      <td>1983.0</td>\n",
       "      <td>NaN</td>\n",
       "      <td>NaN</td>\n",
       "      <td>mm</td>\n",
       "      <td>NaN</td>\n",
       "    </tr>\n",
       "    <tr>\n",
       "      <th>16422</th>\n",
       "      <td>Wols</td>\n",
       "      <td>[no title]</td>\n",
       "      <td>Etching and drypoint on paper</td>\n",
       "      <td>1937</td>\n",
       "      <td>1983.0</td>\n",
       "      <td>NaN</td>\n",
       "      <td>NaN</td>\n",
       "      <td>mm</td>\n",
       "      <td>NaN</td>\n",
       "    </tr>\n",
       "    <tr>\n",
       "      <th>16423</th>\n",
       "      <td>Wols</td>\n",
       "      <td>[no title]</td>\n",
       "      <td>Etching on paper</td>\n",
       "      <td>1937</td>\n",
       "      <td>1983.0</td>\n",
       "      <td>NaN</td>\n",
       "      <td>NaN</td>\n",
       "      <td>mm</td>\n",
       "      <td>NaN</td>\n",
       "    </tr>\n",
       "    <tr>\n",
       "      <th>16424</th>\n",
       "      <td>Wols</td>\n",
       "      <td>[no title]</td>\n",
       "      <td>Etching and drypoint on paper</td>\n",
       "      <td>1937</td>\n",
       "      <td>1983.0</td>\n",
       "      <td>NaN</td>\n",
       "      <td>NaN</td>\n",
       "      <td>mm</td>\n",
       "      <td>NaN</td>\n",
       "    </tr>\n",
       "    <tr>\n",
       "      <th>16425</th>\n",
       "      <td>Wols</td>\n",
       "      <td>[no title]</td>\n",
       "      <td>Etching on paper</td>\n",
       "      <td>1937</td>\n",
       "      <td>1983.0</td>\n",
       "      <td>NaN</td>\n",
       "      <td>NaN</td>\n",
       "      <td>mm</td>\n",
       "      <td>NaN</td>\n",
       "    </tr>\n",
       "    <tr>\n",
       "      <th>16426</th>\n",
       "      <td>Wols</td>\n",
       "      <td>[no title]</td>\n",
       "      <td>Etching and drypoint on paper</td>\n",
       "      <td>1937</td>\n",
       "      <td>1983.0</td>\n",
       "      <td>NaN</td>\n",
       "      <td>NaN</td>\n",
       "      <td>mm</td>\n",
       "      <td>NaN</td>\n",
       "    </tr>\n",
       "    <tr>\n",
       "      <th>16427</th>\n",
       "      <td>Wols</td>\n",
       "      <td>[no title]</td>\n",
       "      <td>Etching and drypoint on paper</td>\n",
       "      <td>1937</td>\n",
       "      <td>1983.0</td>\n",
       "      <td>NaN</td>\n",
       "      <td>NaN</td>\n",
       "      <td>mm</td>\n",
       "      <td>NaN</td>\n",
       "    </tr>\n",
       "    <tr>\n",
       "      <th>16428</th>\n",
       "      <td>Wols</td>\n",
       "      <td>[no title]</td>\n",
       "      <td>Etching and drypoint on paper</td>\n",
       "      <td>1937</td>\n",
       "      <td>1983.0</td>\n",
       "      <td>NaN</td>\n",
       "      <td>NaN</td>\n",
       "      <td>mm</td>\n",
       "      <td>NaN</td>\n",
       "    </tr>\n",
       "    <tr>\n",
       "      <th>16429</th>\n",
       "      <td>Wols</td>\n",
       "      <td>[no title]</td>\n",
       "      <td>Etching and drypoint on paper</td>\n",
       "      <td>1937</td>\n",
       "      <td>1983.0</td>\n",
       "      <td>NaN</td>\n",
       "      <td>NaN</td>\n",
       "      <td>mm</td>\n",
       "      <td>NaN</td>\n",
       "    </tr>\n",
       "    <tr>\n",
       "      <th>16430</th>\n",
       "      <td>Wols</td>\n",
       "      <td>[no title]</td>\n",
       "      <td>Etching and drypoint on paper</td>\n",
       "      <td>1937</td>\n",
       "      <td>1983.0</td>\n",
       "      <td>NaN</td>\n",
       "      <td>NaN</td>\n",
       "      <td>mm</td>\n",
       "      <td>NaN</td>\n",
       "    </tr>\n",
       "    <tr>\n",
       "      <th>16431</th>\n",
       "      <td>Wols</td>\n",
       "      <td>[no title]</td>\n",
       "      <td>Etching and drypoint on paper</td>\n",
       "      <td>1937</td>\n",
       "      <td>1983.0</td>\n",
       "      <td>NaN</td>\n",
       "      <td>NaN</td>\n",
       "      <td>mm</td>\n",
       "      <td>NaN</td>\n",
       "    </tr>\n",
       "    <tr>\n",
       "      <th>16432</th>\n",
       "      <td>Wols</td>\n",
       "      <td>[no title]</td>\n",
       "      <td>Etching and drypoint on paper</td>\n",
       "      <td>1937</td>\n",
       "      <td>1983.0</td>\n",
       "      <td>NaN</td>\n",
       "      <td>NaN</td>\n",
       "      <td>mm</td>\n",
       "      <td>NaN</td>\n",
       "    </tr>\n",
       "    <tr>\n",
       "      <th>16433</th>\n",
       "      <td>Wols</td>\n",
       "      <td>[no title]</td>\n",
       "      <td>Etching and drypoint on paper</td>\n",
       "      <td>1937</td>\n",
       "      <td>1983.0</td>\n",
       "      <td>NaN</td>\n",
       "      <td>NaN</td>\n",
       "      <td>mm</td>\n",
       "      <td>NaN</td>\n",
       "    </tr>\n",
       "    <tr>\n",
       "      <th>16434</th>\n",
       "      <td>Wols</td>\n",
       "      <td>[no title]</td>\n",
       "      <td>Etching and drypoint on paper</td>\n",
       "      <td>1937</td>\n",
       "      <td>1983.0</td>\n",
       "      <td>NaN</td>\n",
       "      <td>NaN</td>\n",
       "      <td>mm</td>\n",
       "      <td>NaN</td>\n",
       "    </tr>\n",
       "    <tr>\n",
       "      <th>16435</th>\n",
       "      <td>Wols</td>\n",
       "      <td>[no title]</td>\n",
       "      <td>Etching and drypoint on paper</td>\n",
       "      <td>1937</td>\n",
       "      <td>1983.0</td>\n",
       "      <td>NaN</td>\n",
       "      <td>NaN</td>\n",
       "      <td>mm</td>\n",
       "      <td>NaN</td>\n",
       "    </tr>\n",
       "    <tr>\n",
       "      <th>16436</th>\n",
       "      <td>Wols</td>\n",
       "      <td>[no title]</td>\n",
       "      <td>Etching and drypoint on paper</td>\n",
       "      <td>1937</td>\n",
       "      <td>1983.0</td>\n",
       "      <td>NaN</td>\n",
       "      <td>NaN</td>\n",
       "      <td>mm</td>\n",
       "      <td>NaN</td>\n",
       "    </tr>\n",
       "    <tr>\n",
       "      <th>16437</th>\n",
       "      <td>Wols</td>\n",
       "      <td>[no title]</td>\n",
       "      <td>Etching and drypoint on paper</td>\n",
       "      <td>1937</td>\n",
       "      <td>1983.0</td>\n",
       "      <td>NaN</td>\n",
       "      <td>NaN</td>\n",
       "      <td>mm</td>\n",
       "      <td>NaN</td>\n",
       "    </tr>\n",
       "    <tr>\n",
       "      <th>16438</th>\n",
       "      <td>Wols</td>\n",
       "      <td>[no title]</td>\n",
       "      <td>Etching and drypoint on paper</td>\n",
       "      <td>1937</td>\n",
       "      <td>1983.0</td>\n",
       "      <td>NaN</td>\n",
       "      <td>NaN</td>\n",
       "      <td>mm</td>\n",
       "      <td>NaN</td>\n",
       "    </tr>\n",
       "    <tr>\n",
       "      <th>16439</th>\n",
       "      <td>Wols</td>\n",
       "      <td>[no title]</td>\n",
       "      <td>Etching and drypoint on paper</td>\n",
       "      <td>1937</td>\n",
       "      <td>1983.0</td>\n",
       "      <td>NaN</td>\n",
       "      <td>NaN</td>\n",
       "      <td>mm</td>\n",
       "      <td>NaN</td>\n",
       "    </tr>\n",
       "    <tr>\n",
       "      <th>16440</th>\n",
       "      <td>Wols</td>\n",
       "      <td>[no title]</td>\n",
       "      <td>Etching and drypoint on paper</td>\n",
       "      <td>1937</td>\n",
       "      <td>1983.0</td>\n",
       "      <td>NaN</td>\n",
       "      <td>NaN</td>\n",
       "      <td>mm</td>\n",
       "      <td>NaN</td>\n",
       "    </tr>\n",
       "    <tr>\n",
       "      <th>16441</th>\n",
       "      <td>Wols</td>\n",
       "      <td>[no title]</td>\n",
       "      <td>Etching and drypoint on paper</td>\n",
       "      <td>1937</td>\n",
       "      <td>1983.0</td>\n",
       "      <td>NaN</td>\n",
       "      <td>NaN</td>\n",
       "      <td>mm</td>\n",
       "      <td>NaN</td>\n",
       "    </tr>\n",
       "    <tr>\n",
       "      <th>4704</th>\n",
       "      <td>Frost, Sir Terry</td>\n",
       "      <td>Blue Moon</td>\n",
       "      <td>Lithograph on paper</td>\n",
       "      <td>1952</td>\n",
       "      <td>1983.0</td>\n",
       "      <td>NaN</td>\n",
       "      <td>NaN</td>\n",
       "      <td>mm</td>\n",
       "      <td>NaN</td>\n",
       "    </tr>\n",
       "    <tr>\n",
       "      <th>4705</th>\n",
       "      <td>Frost, Sir Terry</td>\n",
       "      <td>Boat Shapes</td>\n",
       "      <td>Linocut on paper</td>\n",
       "      <td>1952</td>\n",
       "      <td>1983.0</td>\n",
       "      <td>NaN</td>\n",
       "      <td>NaN</td>\n",
       "      <td>mm</td>\n",
       "      <td>NaN</td>\n",
       "    </tr>\n",
       "    <tr>\n",
       "      <th>4706</th>\n",
       "      <td>Frost, Sir Terry</td>\n",
       "      <td>Boat Shapes</td>\n",
       "      <td>Linocut on paper</td>\n",
       "      <td>1954</td>\n",
       "      <td>1983.0</td>\n",
       "      <td>NaN</td>\n",
       "      <td>NaN</td>\n",
       "      <td>mm</td>\n",
       "      <td>NaN</td>\n",
       "    </tr>\n",
       "    <tr>\n",
       "      <th>4707</th>\n",
       "      <td>Frost, Sir Terry</td>\n",
       "      <td>Boat Shapes</td>\n",
       "      <td>Linocut on paper</td>\n",
       "      <td>1954</td>\n",
       "      <td>1983.0</td>\n",
       "      <td>NaN</td>\n",
       "      <td>NaN</td>\n",
       "      <td>mm</td>\n",
       "      <td>NaN</td>\n",
       "    </tr>\n",
       "    <tr>\n",
       "      <th>4708</th>\n",
       "      <td>Frost, Sir Terry</td>\n",
       "      <td>Leeds</td>\n",
       "      <td>Drypoint on paper</td>\n",
       "      <td>1956</td>\n",
       "      <td>1983.0</td>\n",
       "      <td>NaN</td>\n",
       "      <td>NaN</td>\n",
       "      <td>mm</td>\n",
       "      <td>NaN</td>\n",
       "    </tr>\n",
       "    <tr>\n",
       "      <th>4709</th>\n",
       "      <td>Frost, Sir Terry</td>\n",
       "      <td>Camping, Anduze</td>\n",
       "      <td>Etching on paper</td>\n",
       "      <td>1979</td>\n",
       "      <td>1983.0</td>\n",
       "      <td>NaN</td>\n",
       "      <td>NaN</td>\n",
       "      <td>mm</td>\n",
       "      <td>NaN</td>\n",
       "    </tr>\n",
       "    <tr>\n",
       "      <th>4710</th>\n",
       "      <td>Frost, Sir Terry</td>\n",
       "      <td>Umea, Sweden</td>\n",
       "      <td>Etching on paper</td>\n",
       "      <td>1979</td>\n",
       "      <td>1983.0</td>\n",
       "      <td>NaN</td>\n",
       "      <td>NaN</td>\n",
       "      <td>NaN</td>\n",
       "      <td>NaN</td>\n",
       "    </tr>\n",
       "    <tr>\n",
       "      <th>4711</th>\n",
       "      <td>Frost, Sir Terry</td>\n",
       "      <td>Self-Portrait</td>\n",
       "      <td>Etching on paper</td>\n",
       "      <td>1980</td>\n",
       "      <td>1983.0</td>\n",
       "      <td>NaN</td>\n",
       "      <td>NaN</td>\n",
       "      <td>mm</td>\n",
       "      <td>NaN</td>\n",
       "    </tr>\n",
       "    <tr>\n",
       "      <th>11838</th>\n",
       "      <td>Phillips, Esq Tom</td>\n",
       "      <td>[colophon]</td>\n",
       "      <td>Etching on paper</td>\n",
       "      <td>1979</td>\n",
       "      <td>1983.0</td>\n",
       "      <td>NaN</td>\n",
       "      <td>NaN</td>\n",
       "      <td>mm</td>\n",
       "      <td>NaN</td>\n",
       "    </tr>\n",
       "  </tbody>\n",
       "</table>\n",
       "</div>"
      ],
      "text/plain": [
       "                  artist            title                         medium  \\\n",
       "id                                                                         \n",
       "16412               Wols       [no title]               Etching on paper   \n",
       "16413               Wols       [no title]  Etching and drypoint on paper   \n",
       "16414               Wols       [no title]  Etching and drypoint on paper   \n",
       "16415               Wols       [no title]  Etching and drypoint on paper   \n",
       "16416               Wols       [no title]  Etching and drypoint on paper   \n",
       "16417               Wols       [no title]               Etching on paper   \n",
       "16418               Wols       [no title]  Etching and drypoint on paper   \n",
       "16419               Wols       [no title]  Etching and drypoint on paper   \n",
       "16420               Wols       [no title]  Etching and drypoint on paper   \n",
       "16421               Wols       [no title]  Etching and drypoint on paper   \n",
       "16422               Wols       [no title]  Etching and drypoint on paper   \n",
       "16423               Wols       [no title]               Etching on paper   \n",
       "16424               Wols       [no title]  Etching and drypoint on paper   \n",
       "16425               Wols       [no title]               Etching on paper   \n",
       "16426               Wols       [no title]  Etching and drypoint on paper   \n",
       "16427               Wols       [no title]  Etching and drypoint on paper   \n",
       "16428               Wols       [no title]  Etching and drypoint on paper   \n",
       "16429               Wols       [no title]  Etching and drypoint on paper   \n",
       "16430               Wols       [no title]  Etching and drypoint on paper   \n",
       "16431               Wols       [no title]  Etching and drypoint on paper   \n",
       "16432               Wols       [no title]  Etching and drypoint on paper   \n",
       "16433               Wols       [no title]  Etching and drypoint on paper   \n",
       "16434               Wols       [no title]  Etching and drypoint on paper   \n",
       "16435               Wols       [no title]  Etching and drypoint on paper   \n",
       "16436               Wols       [no title]  Etching and drypoint on paper   \n",
       "16437               Wols       [no title]  Etching and drypoint on paper   \n",
       "16438               Wols       [no title]  Etching and drypoint on paper   \n",
       "16439               Wols       [no title]  Etching and drypoint on paper   \n",
       "16440               Wols       [no title]  Etching and drypoint on paper   \n",
       "16441               Wols       [no title]  Etching and drypoint on paper   \n",
       "4704    Frost, Sir Terry        Blue Moon            Lithograph on paper   \n",
       "4705    Frost, Sir Terry      Boat Shapes               Linocut on paper   \n",
       "4706    Frost, Sir Terry      Boat Shapes               Linocut on paper   \n",
       "4707    Frost, Sir Terry      Boat Shapes               Linocut on paper   \n",
       "4708    Frost, Sir Terry            Leeds              Drypoint on paper   \n",
       "4709    Frost, Sir Terry  Camping, Anduze               Etching on paper   \n",
       "4710    Frost, Sir Terry     Umea, Sweden               Etching on paper   \n",
       "4711    Frost, Sir Terry    Self-Portrait               Etching on paper   \n",
       "11838  Phillips, Esq Tom       [colophon]               Etching on paper   \n",
       "\n",
       "       year  acquisitionYear  width  height units  area  \n",
       "id                                                       \n",
       "16412  1937           1983.0    NaN     NaN    mm   NaN  \n",
       "16413  1937           1983.0    NaN     NaN    mm   NaN  \n",
       "16414  1937           1983.0    NaN     NaN    mm   NaN  \n",
       "16415  1937           1983.0    NaN     NaN    mm   NaN  \n",
       "16416  1937           1983.0    NaN     NaN    mm   NaN  \n",
       "16417  1937           1983.0    NaN     NaN    mm   NaN  \n",
       "16418  1937           1983.0    NaN     NaN    mm   NaN  \n",
       "16419  1937           1983.0    NaN     NaN    mm   NaN  \n",
       "16420  1937           1983.0    NaN     NaN    mm   NaN  \n",
       "16421  1937           1983.0    NaN     NaN    mm   NaN  \n",
       "16422  1937           1983.0    NaN     NaN    mm   NaN  \n",
       "16423  1937           1983.0    NaN     NaN    mm   NaN  \n",
       "16424  1937           1983.0    NaN     NaN    mm   NaN  \n",
       "16425  1937           1983.0    NaN     NaN    mm   NaN  \n",
       "16426  1937           1983.0    NaN     NaN    mm   NaN  \n",
       "16427  1937           1983.0    NaN     NaN    mm   NaN  \n",
       "16428  1937           1983.0    NaN     NaN    mm   NaN  \n",
       "16429  1937           1983.0    NaN     NaN    mm   NaN  \n",
       "16430  1937           1983.0    NaN     NaN    mm   NaN  \n",
       "16431  1937           1983.0    NaN     NaN    mm   NaN  \n",
       "16432  1937           1983.0    NaN     NaN    mm   NaN  \n",
       "16433  1937           1983.0    NaN     NaN    mm   NaN  \n",
       "16434  1937           1983.0    NaN     NaN    mm   NaN  \n",
       "16435  1937           1983.0    NaN     NaN    mm   NaN  \n",
       "16436  1937           1983.0    NaN     NaN    mm   NaN  \n",
       "16437  1937           1983.0    NaN     NaN    mm   NaN  \n",
       "16438  1937           1983.0    NaN     NaN    mm   NaN  \n",
       "16439  1937           1983.0    NaN     NaN    mm   NaN  \n",
       "16440  1937           1983.0    NaN     NaN    mm   NaN  \n",
       "16441  1937           1983.0    NaN     NaN    mm   NaN  \n",
       "4704   1952           1983.0    NaN     NaN    mm   NaN  \n",
       "4705   1952           1983.0    NaN     NaN    mm   NaN  \n",
       "4706   1954           1983.0    NaN     NaN    mm   NaN  \n",
       "4707   1954           1983.0    NaN     NaN    mm   NaN  \n",
       "4708   1956           1983.0    NaN     NaN    mm   NaN  \n",
       "4709   1979           1983.0    NaN     NaN    mm   NaN  \n",
       "4710   1979           1983.0    NaN     NaN   NaN   NaN  \n",
       "4711   1980           1983.0    NaN     NaN    mm   NaN  \n",
       "11838  1979           1983.0    NaN     NaN    mm   NaN  "
      ]
     },
     "execution_count": 164,
     "metadata": {},
     "output_type": "execute_result"
    }
   ],
   "source": [
    "small_df"
   ]
  },
  {
   "cell_type": "code",
   "execution_count": 184,
   "metadata": {},
   "outputs": [
    {
     "data": {
      "text/plain": [
       "pandas.core.groupby.DataFrameGroupBy"
      ]
     },
     "execution_count": 184,
     "metadata": {},
     "output_type": "execute_result"
    }
   ],
   "source": [
    "grouped = small_df.groupby('artist')\n",
    "type(grouped)"
   ]
  },
  {
   "cell_type": "code",
   "execution_count": 185,
   "metadata": {},
   "outputs": [
    {
     "name": "stdout",
     "output_type": "stream",
     "text": [
      "Frost, Sir Terry\n",
      "                artist            title               medium  year  \\\n",
      "id                                                                   \n",
      "4704  Frost, Sir Terry        Blue Moon  Lithograph on paper  1952   \n",
      "4705  Frost, Sir Terry      Boat Shapes     Linocut on paper  1952   \n",
      "4706  Frost, Sir Terry      Boat Shapes     Linocut on paper  1954   \n",
      "4707  Frost, Sir Terry      Boat Shapes     Linocut on paper  1954   \n",
      "4708  Frost, Sir Terry            Leeds    Drypoint on paper  1956   \n",
      "4709  Frost, Sir Terry  Camping, Anduze     Etching on paper  1979   \n",
      "4710  Frost, Sir Terry     Umea, Sweden     Etching on paper  1979   \n",
      "4711  Frost, Sir Terry    Self-Portrait     Etching on paper  1980   \n",
      "\n",
      "      acquisitionYear  width  height units  area  \n",
      "id                                                \n",
      "4704           1983.0    NaN     NaN    mm   NaN  \n",
      "4705           1983.0    NaN     NaN    mm   NaN  \n",
      "4706           1983.0    NaN     NaN    mm   NaN  \n",
      "4707           1983.0    NaN     NaN    mm   NaN  \n",
      "4708           1983.0    NaN     NaN    mm   NaN  \n",
      "4709           1983.0    NaN     NaN    mm   NaN  \n",
      "4710           1983.0    NaN     NaN   NaN   NaN  \n",
      "4711           1983.0    NaN     NaN    mm   NaN  \n"
     ]
    }
   ],
   "source": [
    "for name,group_df in grouped:\n",
    "    print(name)\n",
    "    print(group_df)\n",
    "    break # take on 1st one"
   ]
  },
  {
   "cell_type": "code",
   "execution_count": 186,
   "metadata": {},
   "outputs": [
    {
     "name": "stdout",
     "output_type": "stream",
     "text": [
      "Frost, Sir Terry : 1983.0\n",
      "Phillips, Esq Tom : 1983.0\n",
      "Wols : 1983.0\n"
     ]
    }
   ],
   "source": [
    "for name ,group_df in small_df.groupby('artist'):\n",
    "    min_year = group_df['acquisitionYear'].min()\n",
    "    #print(name)\n",
    "    #print(min_year)\n",
    "    print(\"{} : {}\".format(name,min_year))  # find min year for reach"
   ]
  },
  {
   "cell_type": "code",
   "execution_count": 187,
   "metadata": {
    "collapsed": true
   },
   "outputs": [],
   "source": [
    "# transformation"
   ]
  },
  {
   "cell_type": "code",
   "execution_count": 192,
   "metadata": {
    "collapsed": true
   },
   "outputs": [],
   "source": [
    "def fill_values(series):\n",
    "    values_counted = series.value_counts()\n",
    "    if values_counted.empty:\n",
    "        return series\n",
    "    most_frequent = values_counted.index[0]\n",
    "    new_medium = series.fillna(most_frequent)\n",
    "    return new_medium"
   ]
  },
  {
   "cell_type": "code",
   "execution_count": 193,
   "metadata": {
    "collapsed": true
   },
   "outputs": [],
   "source": [
    "def transform_df(source_df):\n",
    "    group_dfs= []\n",
    "    for name,group_df in source_df.groupby('artist'):\n",
    "        filled_df = group_df.copy()\n",
    "        filled_df.loc[:'medium'] = fill_values(group_df['medium'])\n",
    "        group_dfs.append(filled_df)\n",
    "        \n",
    "        new_df = pd.concat(group_dfs)\n",
    "        \n",
    "        return new_df"
   ]
  },
  {
   "cell_type": "code",
   "execution_count": 194,
   "metadata": {},
   "outputs": [
    {
     "ename": "ValueError",
     "evalue": "Must have equal len keys and value when setting with an iterable",
     "output_type": "error",
     "traceback": [
      "\u001b[0;31m---------------------------------------------------------------------------\u001b[0m",
      "\u001b[0;31mValueError\u001b[0m                                Traceback (most recent call last)",
      "\u001b[0;32m<ipython-input-194-72557e329498>\u001b[0m in \u001b[0;36m<module>\u001b[0;34m()\u001b[0m\n\u001b[0;32m----> 1\u001b[0;31m \u001b[0mfilled_df\u001b[0m \u001b[0;34m=\u001b[0m \u001b[0mtransform_df\u001b[0m\u001b[0;34m(\u001b[0m\u001b[0msmall_df\u001b[0m\u001b[0;34m)\u001b[0m\u001b[0;34m\u001b[0m\u001b[0m\n\u001b[0m",
      "\u001b[0;32m<ipython-input-193-dac67a2b1cc8>\u001b[0m in \u001b[0;36mtransform_df\u001b[0;34m(source_df)\u001b[0m\n\u001b[1;32m      3\u001b[0m     \u001b[0;32mfor\u001b[0m \u001b[0mname\u001b[0m\u001b[0;34m,\u001b[0m\u001b[0mgroup_df\u001b[0m \u001b[0;32min\u001b[0m \u001b[0msource_df\u001b[0m\u001b[0;34m.\u001b[0m\u001b[0mgroupby\u001b[0m\u001b[0;34m(\u001b[0m\u001b[0;34m'artist'\u001b[0m\u001b[0;34m)\u001b[0m\u001b[0;34m:\u001b[0m\u001b[0;34m\u001b[0m\u001b[0m\n\u001b[1;32m      4\u001b[0m         \u001b[0mfilled_df\u001b[0m \u001b[0;34m=\u001b[0m \u001b[0mgroup_df\u001b[0m\u001b[0;34m.\u001b[0m\u001b[0mcopy\u001b[0m\u001b[0;34m(\u001b[0m\u001b[0;34m)\u001b[0m\u001b[0;34m\u001b[0m\u001b[0m\n\u001b[0;32m----> 5\u001b[0;31m         \u001b[0mfilled_df\u001b[0m\u001b[0;34m.\u001b[0m\u001b[0mloc\u001b[0m\u001b[0;34m[\u001b[0m\u001b[0;34m:\u001b[0m\u001b[0;34m'medium'\u001b[0m\u001b[0;34m]\u001b[0m \u001b[0;34m=\u001b[0m \u001b[0mfill_values\u001b[0m\u001b[0;34m(\u001b[0m\u001b[0mgroup_df\u001b[0m\u001b[0;34m[\u001b[0m\u001b[0;34m'medium'\u001b[0m\u001b[0;34m]\u001b[0m\u001b[0;34m)\u001b[0m\u001b[0;34m\u001b[0m\u001b[0m\n\u001b[0m\u001b[1;32m      6\u001b[0m         \u001b[0mgroup_dfs\u001b[0m\u001b[0;34m.\u001b[0m\u001b[0mappend\u001b[0m\u001b[0;34m(\u001b[0m\u001b[0mfilled_df\u001b[0m\u001b[0;34m)\u001b[0m\u001b[0;34m\u001b[0m\u001b[0m\n\u001b[1;32m      7\u001b[0m \u001b[0;34m\u001b[0m\u001b[0m\n",
      "\u001b[0;32m/home/vijay/anaconda2/envs/py35/lib/python3.5/site-packages/pandas/core/indexing.py\u001b[0m in \u001b[0;36m__setitem__\u001b[0;34m(self, key, value)\u001b[0m\n\u001b[1;32m    177\u001b[0m             \u001b[0mkey\u001b[0m \u001b[0;34m=\u001b[0m \u001b[0mcom\u001b[0m\u001b[0;34m.\u001b[0m\u001b[0m_apply_if_callable\u001b[0m\u001b[0;34m(\u001b[0m\u001b[0mkey\u001b[0m\u001b[0;34m,\u001b[0m \u001b[0mself\u001b[0m\u001b[0;34m.\u001b[0m\u001b[0mobj\u001b[0m\u001b[0;34m)\u001b[0m\u001b[0;34m\u001b[0m\u001b[0m\n\u001b[1;32m    178\u001b[0m         \u001b[0mindexer\u001b[0m \u001b[0;34m=\u001b[0m \u001b[0mself\u001b[0m\u001b[0;34m.\u001b[0m\u001b[0m_get_setitem_indexer\u001b[0m\u001b[0;34m(\u001b[0m\u001b[0mkey\u001b[0m\u001b[0;34m)\u001b[0m\u001b[0;34m\u001b[0m\u001b[0m\n\u001b[0;32m--> 179\u001b[0;31m         \u001b[0mself\u001b[0m\u001b[0;34m.\u001b[0m\u001b[0m_setitem_with_indexer\u001b[0m\u001b[0;34m(\u001b[0m\u001b[0mindexer\u001b[0m\u001b[0;34m,\u001b[0m \u001b[0mvalue\u001b[0m\u001b[0;34m)\u001b[0m\u001b[0;34m\u001b[0m\u001b[0m\n\u001b[0m\u001b[1;32m    180\u001b[0m \u001b[0;34m\u001b[0m\u001b[0m\n\u001b[1;32m    181\u001b[0m     \u001b[0;32mdef\u001b[0m \u001b[0m_has_valid_type\u001b[0m\u001b[0;34m(\u001b[0m\u001b[0mself\u001b[0m\u001b[0;34m,\u001b[0m \u001b[0mk\u001b[0m\u001b[0;34m,\u001b[0m \u001b[0maxis\u001b[0m\u001b[0;34m)\u001b[0m\u001b[0;34m:\u001b[0m\u001b[0;34m\u001b[0m\u001b[0m\n",
      "\u001b[0;32m/home/vijay/anaconda2/envs/py35/lib/python3.5/site-packages/pandas/core/indexing.py\u001b[0m in \u001b[0;36m_setitem_with_indexer\u001b[0;34m(self, indexer, value)\u001b[0m\n\u001b[1;32m    577\u001b[0m \u001b[0;34m\u001b[0m\u001b[0m\n\u001b[1;32m    578\u001b[0m                     \u001b[0;32mif\u001b[0m \u001b[0mlen\u001b[0m\u001b[0;34m(\u001b[0m\u001b[0mlabels\u001b[0m\u001b[0;34m)\u001b[0m \u001b[0;34m!=\u001b[0m \u001b[0mlen\u001b[0m\u001b[0;34m(\u001b[0m\u001b[0mvalue\u001b[0m\u001b[0;34m)\u001b[0m\u001b[0;34m:\u001b[0m\u001b[0;34m\u001b[0m\u001b[0m\n\u001b[0;32m--> 579\u001b[0;31m                         raise ValueError('Must have equal len keys and value '\n\u001b[0m\u001b[1;32m    580\u001b[0m                                          'when setting with an iterable')\n\u001b[1;32m    581\u001b[0m \u001b[0;34m\u001b[0m\u001b[0m\n",
      "\u001b[0;31mValueError\u001b[0m: Must have equal len keys and value when setting with an iterable"
     ]
    }
   ],
   "source": [
    "filled_df = transform_df(small_df)"
   ]
  },
  {
   "cell_type": "code",
   "execution_count": 195,
   "metadata": {
    "collapsed": true
   },
   "outputs": [],
   "source": [
    "#PERFORM AGGREGATION,TRANSFORMATION, AND FILTERING USING BUILTIN METHODS"
   ]
  },
  {
   "cell_type": "code",
   "execution_count": 202,
   "metadata": {
    "collapsed": true
   },
   "outputs": [],
   "source": [
    "#TRANSFORM\n",
    "grouped_mediums = small_df.groupby('artist')['medium']\n",
    "#grouped_mediums.head(10)\n",
    "small_df.loc[:,'medium'] = grouped_mediums.transform(fill_values)"
   ]
  },
  {
   "cell_type": "code",
   "execution_count": 206,
   "metadata": {},
   "outputs": [
    {
     "data": {
      "text/html": [
       "<div>\n",
       "<style>\n",
       "    .dataframe thead tr:only-child th {\n",
       "        text-align: right;\n",
       "    }\n",
       "\n",
       "    .dataframe thead th {\n",
       "        text-align: left;\n",
       "    }\n",
       "\n",
       "    .dataframe tbody tr th {\n",
       "        vertical-align: top;\n",
       "    }\n",
       "</style>\n",
       "<table border=\"1\" class=\"dataframe\">\n",
       "  <thead>\n",
       "    <tr style=\"text-align: right;\">\n",
       "      <th></th>\n",
       "      <th>title</th>\n",
       "      <th>acquisitionYear</th>\n",
       "      <th>width</th>\n",
       "      <th>height</th>\n",
       "      <th>area</th>\n",
       "    </tr>\n",
       "    <tr>\n",
       "      <th>artist</th>\n",
       "      <th></th>\n",
       "      <th></th>\n",
       "      <th></th>\n",
       "      <th></th>\n",
       "      <th></th>\n",
       "    </tr>\n",
       "  </thead>\n",
       "  <tbody>\n",
       "    <tr>\n",
       "      <th>?British School</th>\n",
       "      <td>Portrait of a Gentleman, probably of the West ...</td>\n",
       "      <td>1927.0</td>\n",
       "      <td>NaN</td>\n",
       "      <td>NaN</td>\n",
       "      <td>NaN</td>\n",
       "    </tr>\n",
       "    <tr>\n",
       "      <th>Abakanowicz, Magdalena</th>\n",
       "      <td>Abakan Orange</td>\n",
       "      <td>2009.0</td>\n",
       "      <td>NaN</td>\n",
       "      <td>NaN</td>\n",
       "      <td>NaN</td>\n",
       "    </tr>\n",
       "    <tr>\n",
       "      <th>Abbey, Edwin Austin</th>\n",
       "      <td>Illustration to ‘Judith Shakespeare’</td>\n",
       "      <td>1924.0</td>\n",
       "      <td>NaN</td>\n",
       "      <td>NaN</td>\n",
       "      <td>NaN</td>\n",
       "    </tr>\n",
       "    <tr>\n",
       "      <th>Abbott, Berenice</th>\n",
       "      <td>Dinty Moore Antiques</td>\n",
       "      <td>2010.0</td>\n",
       "      <td>NaN</td>\n",
       "      <td>NaN</td>\n",
       "      <td>NaN</td>\n",
       "    </tr>\n",
       "    <tr>\n",
       "      <th>Abbott, Lemuel Francis</th>\n",
       "      <td>Henry Byne, of Carshalton</td>\n",
       "      <td>1885.0</td>\n",
       "      <td>NaN</td>\n",
       "      <td>NaN</td>\n",
       "      <td>NaN</td>\n",
       "    </tr>\n",
       "    <tr>\n",
       "      <th>Abrahams, Ivor</th>\n",
       "      <td>A Dream Within a Dream</td>\n",
       "      <td>1975.0</td>\n",
       "      <td>NaN</td>\n",
       "      <td>NaN</td>\n",
       "      <td>NaN</td>\n",
       "    </tr>\n",
       "    <tr>\n",
       "      <th>Absalon</th>\n",
       "      <td>Assassinations</td>\n",
       "      <td>1997.0</td>\n",
       "      <td>NaN</td>\n",
       "      <td>NaN</td>\n",
       "      <td>NaN</td>\n",
       "    </tr>\n",
       "    <tr>\n",
       "      <th>Abts, Tomma</th>\n",
       "      <td>Noeme</td>\n",
       "      <td>2006.0</td>\n",
       "      <td>NaN</td>\n",
       "      <td>NaN</td>\n",
       "      <td>NaN</td>\n",
       "    </tr>\n",
       "    <tr>\n",
       "      <th>Acconci, Vito</th>\n",
       "      <td>3 Flags for 1 Space and 6 Regions</td>\n",
       "      <td>1982.0</td>\n",
       "      <td>NaN</td>\n",
       "      <td>NaN</td>\n",
       "      <td>NaN</td>\n",
       "    </tr>\n",
       "    <tr>\n",
       "      <th>Ackling, Roger</th>\n",
       "      <td>Five Sunsets in One Hour</td>\n",
       "      <td>1983.0</td>\n",
       "      <td>NaN</td>\n",
       "      <td>NaN</td>\n",
       "      <td>NaN</td>\n",
       "    </tr>\n",
       "    <tr>\n",
       "      <th>Ackroyd, Norman</th>\n",
       "      <td>1st Millbank Print</td>\n",
       "      <td>1975.0</td>\n",
       "      <td>NaN</td>\n",
       "      <td>NaN</td>\n",
       "      <td>NaN</td>\n",
       "    </tr>\n",
       "    <tr>\n",
       "      <th>Adam, Robert</th>\n",
       "      <td>A Chasm, with Figures</td>\n",
       "      <td>1996.0</td>\n",
       "      <td>NaN</td>\n",
       "      <td>NaN</td>\n",
       "      <td>NaN</td>\n",
       "    </tr>\n",
       "    <tr>\n",
       "      <th>Adams, Harry William</th>\n",
       "      <td>Winter’s Sleep</td>\n",
       "      <td>1900.0</td>\n",
       "      <td>NaN</td>\n",
       "      <td>NaN</td>\n",
       "      <td>NaN</td>\n",
       "    </tr>\n",
       "    <tr>\n",
       "      <th>Adams, Norman</th>\n",
       "      <td>Christ’s Cross and Adam’s Tree</td>\n",
       "      <td>1967.0</td>\n",
       "      <td>NaN</td>\n",
       "      <td>NaN</td>\n",
       "      <td>NaN</td>\n",
       "    </tr>\n",
       "    <tr>\n",
       "      <th>Adams, Robert</th>\n",
       "      <td>Figure</td>\n",
       "      <td>1962.0</td>\n",
       "      <td>NaN</td>\n",
       "      <td>NaN</td>\n",
       "      <td>NaN</td>\n",
       "    </tr>\n",
       "    <tr>\n",
       "      <th>Adeney, Bernard</th>\n",
       "      <td>Toy Sailing Boats, the Round Pond</td>\n",
       "      <td>1931.0</td>\n",
       "      <td>NaN</td>\n",
       "      <td>NaN</td>\n",
       "      <td>NaN</td>\n",
       "    </tr>\n",
       "    <tr>\n",
       "      <th>Adler, Jankel</th>\n",
       "      <td>No Man’s Land</td>\n",
       "      <td>1953.0</td>\n",
       "      <td>NaN</td>\n",
       "      <td>NaN</td>\n",
       "      <td>NaN</td>\n",
       "    </tr>\n",
       "    <tr>\n",
       "      <th>Adshead, Mary</th>\n",
       "      <td>Morning after the Flood</td>\n",
       "      <td>1997.0</td>\n",
       "      <td>NaN</td>\n",
       "      <td>NaN</td>\n",
       "      <td>NaN</td>\n",
       "    </tr>\n",
       "    <tr>\n",
       "      <th>Adzak, Roy</th>\n",
       "      <td>Cut Bottle Relief</td>\n",
       "      <td>1966.0</td>\n",
       "      <td>NaN</td>\n",
       "      <td>NaN</td>\n",
       "      <td>NaN</td>\n",
       "    </tr>\n",
       "    <tr>\n",
       "      <th>Afro</th>\n",
       "      <td>The Struggle</td>\n",
       "      <td>1955.0</td>\n",
       "      <td>NaN</td>\n",
       "      <td>NaN</td>\n",
       "      <td>NaN</td>\n",
       "    </tr>\n",
       "    <tr>\n",
       "      <th>Agar, Eileen</th>\n",
       "      <td>Angel of Anarchy</td>\n",
       "      <td>1962.0</td>\n",
       "      <td>NaN</td>\n",
       "      <td>NaN</td>\n",
       "      <td>NaN</td>\n",
       "    </tr>\n",
       "    <tr>\n",
       "      <th>Agasse, Jacques Laurent</th>\n",
       "      <td>Lord Rivers’s Groom Leading a Chestnut Hunter ...</td>\n",
       "      <td>1979.0</td>\n",
       "      <td>NaN</td>\n",
       "      <td>NaN</td>\n",
       "      <td>NaN</td>\n",
       "    </tr>\n",
       "    <tr>\n",
       "      <th>Ahtila, Eija-Liisa</th>\n",
       "      <td>Consolation Service</td>\n",
       "      <td>2001.0</td>\n",
       "      <td>NaN</td>\n",
       "      <td>NaN</td>\n",
       "      <td>NaN</td>\n",
       "    </tr>\n",
       "    <tr>\n",
       "      <th>Ai, Weiwei</th>\n",
       "      <td>Sunflower Seeds</td>\n",
       "      <td>2008.0</td>\n",
       "      <td>NaN</td>\n",
       "      <td>NaN</td>\n",
       "      <td>NaN</td>\n",
       "    </tr>\n",
       "    <tr>\n",
       "      <th>Aitchison, Craigie</th>\n",
       "      <td>Africa</td>\n",
       "      <td>1964.0</td>\n",
       "      <td>NaN</td>\n",
       "      <td>NaN</td>\n",
       "      <td>NaN</td>\n",
       "    </tr>\n",
       "    <tr>\n",
       "      <th>Ajmone, Giuseppe</th>\n",
       "      <td>Autumn</td>\n",
       "      <td>1960.0</td>\n",
       "      <td>NaN</td>\n",
       "      <td>NaN</td>\n",
       "      <td>NaN</td>\n",
       "    </tr>\n",
       "    <tr>\n",
       "      <th>Aksel, Erdag</th>\n",
       "      <td>Reflection of Craft</td>\n",
       "      <td>2011.0</td>\n",
       "      <td>NaN</td>\n",
       "      <td>NaN</td>\n",
       "      <td>NaN</td>\n",
       "    </tr>\n",
       "    <tr>\n",
       "      <th>Al-Ani, Jananne</th>\n",
       "      <td>The Visit</td>\n",
       "      <td>2009.0</td>\n",
       "      <td>NaN</td>\n",
       "      <td>NaN</td>\n",
       "      <td>NaN</td>\n",
       "    </tr>\n",
       "    <tr>\n",
       "      <th>Albers, Josef</th>\n",
       "      <td>Beta</td>\n",
       "      <td>1965.0</td>\n",
       "      <td>NaN</td>\n",
       "      <td>NaN</td>\n",
       "      <td>NaN</td>\n",
       "    </tr>\n",
       "    <tr>\n",
       "      <th>Albright, Ivan</th>\n",
       "      <td>Josephine Medill Paterson Albright</td>\n",
       "      <td>1978.0</td>\n",
       "      <td>NaN</td>\n",
       "      <td>NaN</td>\n",
       "      <td>NaN</td>\n",
       "    </tr>\n",
       "    <tr>\n",
       "      <th>...</th>\n",
       "      <td>...</td>\n",
       "      <td>...</td>\n",
       "      <td>...</td>\n",
       "      <td>...</td>\n",
       "      <td>...</td>\n",
       "    </tr>\n",
       "    <tr>\n",
       "      <th>Yass, Catherine</th>\n",
       "      <td>Bankside: Cherrypicker</td>\n",
       "      <td>1996.0</td>\n",
       "      <td>NaN</td>\n",
       "      <td>NaN</td>\n",
       "      <td>NaN</td>\n",
       "    </tr>\n",
       "    <tr>\n",
       "      <th>Yeames, William Frederick</th>\n",
       "      <td>Amy Robsart</td>\n",
       "      <td>1877.0</td>\n",
       "      <td>NaN</td>\n",
       "      <td>NaN</td>\n",
       "      <td>NaN</td>\n",
       "    </tr>\n",
       "    <tr>\n",
       "      <th>Yeats, Jack Butler</th>\n",
       "      <td>A Rose Among Many Waters</td>\n",
       "      <td>1925.0</td>\n",
       "      <td>NaN</td>\n",
       "      <td>NaN</td>\n",
       "      <td>NaN</td>\n",
       "    </tr>\n",
       "    <tr>\n",
       "      <th>Yhap, Laetitia</th>\n",
       "      <td>Michael Balling Up Old Net</td>\n",
       "      <td>1984.0</td>\n",
       "      <td>NaN</td>\n",
       "      <td>NaN</td>\n",
       "      <td>NaN</td>\n",
       "    </tr>\n",
       "    <tr>\n",
       "      <th>Yiadom-Boakye, Lynette</th>\n",
       "      <td>10pm Saturday</td>\n",
       "      <td>2012.0</td>\n",
       "      <td>NaN</td>\n",
       "      <td>NaN</td>\n",
       "      <td>NaN</td>\n",
       "    </tr>\n",
       "    <tr>\n",
       "      <th>Young, Carey</th>\n",
       "      <td>Body Techniques (after A Line in Ireland, Rich...</td>\n",
       "      <td>2006.0</td>\n",
       "      <td>NaN</td>\n",
       "      <td>NaN</td>\n",
       "      <td>NaN</td>\n",
       "    </tr>\n",
       "    <tr>\n",
       "      <th>Young, Robert</th>\n",
       "      <td>Sounds Inside</td>\n",
       "      <td>1975.0</td>\n",
       "      <td>NaN</td>\n",
       "      <td>NaN</td>\n",
       "      <td>NaN</td>\n",
       "    </tr>\n",
       "    <tr>\n",
       "      <th>Young-Hae Chang Heavy Industries (Young-Hae Chang, Marc Voge)</th>\n",
       "      <td>TEASER</td>\n",
       "      <td>2012.0</td>\n",
       "      <td>NaN</td>\n",
       "      <td>NaN</td>\n",
       "      <td>NaN</td>\n",
       "    </tr>\n",
       "    <tr>\n",
       "      <th>Young-Hunter, John</th>\n",
       "      <td>My Lady’s Garden</td>\n",
       "      <td>1899.0</td>\n",
       "      <td>NaN</td>\n",
       "      <td>NaN</td>\n",
       "      <td>NaN</td>\n",
       "    </tr>\n",
       "    <tr>\n",
       "      <th>Yuon, Konstantin</th>\n",
       "      <td>The Monastery at Zagorsk</td>\n",
       "      <td>1964.0</td>\n",
       "      <td>NaN</td>\n",
       "      <td>NaN</td>\n",
       "      <td>NaN</td>\n",
       "    </tr>\n",
       "    <tr>\n",
       "      <th>Yvaral, Jean-Pierre</th>\n",
       "      <td>Kinetic Relief - Optical Acceleration</td>\n",
       "      <td>1964.0</td>\n",
       "      <td>NaN</td>\n",
       "      <td>NaN</td>\n",
       "      <td>NaN</td>\n",
       "    </tr>\n",
       "    <tr>\n",
       "      <th>Zaatari, Akram</th>\n",
       "      <td>A fisherman with his daughters. Saqqa family h...</td>\n",
       "      <td>2008.0</td>\n",
       "      <td>NaN</td>\n",
       "      <td>NaN</td>\n",
       "      <td>NaN</td>\n",
       "    </tr>\n",
       "    <tr>\n",
       "      <th>Zack, Leon</th>\n",
       "      <td>Painting</td>\n",
       "      <td>1959.0</td>\n",
       "      <td>NaN</td>\n",
       "      <td>NaN</td>\n",
       "      <td>NaN</td>\n",
       "    </tr>\n",
       "    <tr>\n",
       "      <th>Zadkine, Ossip</th>\n",
       "      <td>Acrobat</td>\n",
       "      <td>1954.0</td>\n",
       "      <td>NaN</td>\n",
       "      <td>NaN</td>\n",
       "      <td>NaN</td>\n",
       "    </tr>\n",
       "    <tr>\n",
       "      <th>Zakanitch, Robert Rahway</th>\n",
       "      <td>Double Geese Mountain</td>\n",
       "      <td>2004.0</td>\n",
       "      <td>NaN</td>\n",
       "      <td>NaN</td>\n",
       "      <td>NaN</td>\n",
       "    </tr>\n",
       "    <tr>\n",
       "      <th>Zao, Wou-ki</th>\n",
       "      <td>Before the Storm</td>\n",
       "      <td>1958.0</td>\n",
       "      <td>NaN</td>\n",
       "      <td>NaN</td>\n",
       "      <td>NaN</td>\n",
       "    </tr>\n",
       "    <tr>\n",
       "      <th>Zhang, Enli</th>\n",
       "      <td>Bucket 3</td>\n",
       "      <td>2011.0</td>\n",
       "      <td>NaN</td>\n",
       "      <td>NaN</td>\n",
       "      <td>NaN</td>\n",
       "    </tr>\n",
       "    <tr>\n",
       "      <th>Ziegler, Toby</th>\n",
       "      <td>The Hedonistic Imperative (2nd version)</td>\n",
       "      <td>2006.0</td>\n",
       "      <td>NaN</td>\n",
       "      <td>NaN</td>\n",
       "      <td>NaN</td>\n",
       "    </tr>\n",
       "    <tr>\n",
       "      <th>Zipp, Thomas</th>\n",
       "      <td>achtung</td>\n",
       "      <td>2007.0</td>\n",
       "      <td>NaN</td>\n",
       "      <td>NaN</td>\n",
       "      <td>NaN</td>\n",
       "    </tr>\n",
       "    <tr>\n",
       "      <th>Zittel, Andrea</th>\n",
       "      <td>A-Z Comfort Unit with Special Comfort Features...</td>\n",
       "      <td>1996.0</td>\n",
       "      <td>NaN</td>\n",
       "      <td>NaN</td>\n",
       "      <td>NaN</td>\n",
       "    </tr>\n",
       "    <tr>\n",
       "      <th>Zmijewski, Artur</th>\n",
       "      <td>Democracies</td>\n",
       "      <td>2010.0</td>\n",
       "      <td>NaN</td>\n",
       "      <td>NaN</td>\n",
       "      <td>NaN</td>\n",
       "    </tr>\n",
       "    <tr>\n",
       "      <th>Zoffany, Johan</th>\n",
       "      <td>A Florentine Fruit Stall</td>\n",
       "      <td>1896.0</td>\n",
       "      <td>NaN</td>\n",
       "      <td>NaN</td>\n",
       "      <td>NaN</td>\n",
       "    </tr>\n",
       "    <tr>\n",
       "      <th>Zorio, Gilberto</th>\n",
       "      <td>Hatred</td>\n",
       "      <td>2009.0</td>\n",
       "      <td>NaN</td>\n",
       "      <td>NaN</td>\n",
       "      <td>NaN</td>\n",
       "    </tr>\n",
       "    <tr>\n",
       "      <th>Zox, Larry</th>\n",
       "      <td>Orange Time</td>\n",
       "      <td>1968.0</td>\n",
       "      <td>NaN</td>\n",
       "      <td>NaN</td>\n",
       "      <td>NaN</td>\n",
       "    </tr>\n",
       "    <tr>\n",
       "      <th>Zuccarelli, Francesco</th>\n",
       "      <td>A Landscape with the Story of Cadmus Killing t...</td>\n",
       "      <td>1985.0</td>\n",
       "      <td>NaN</td>\n",
       "      <td>NaN</td>\n",
       "      <td>NaN</td>\n",
       "    </tr>\n",
       "    <tr>\n",
       "      <th>Zuloaga, Ignacio</th>\n",
       "      <td>View of the Escorial</td>\n",
       "      <td>1923.0</td>\n",
       "      <td>NaN</td>\n",
       "      <td>NaN</td>\n",
       "      <td>NaN</td>\n",
       "    </tr>\n",
       "    <tr>\n",
       "      <th>Zyw, Aleksander</th>\n",
       "      <td>Light</td>\n",
       "      <td>1962.0</td>\n",
       "      <td>NaN</td>\n",
       "      <td>NaN</td>\n",
       "      <td>NaN</td>\n",
       "    </tr>\n",
       "    <tr>\n",
       "      <th>di Suvero, Mark</th>\n",
       "      <td>Tetra</td>\n",
       "      <td>2004.0</td>\n",
       "      <td>NaN</td>\n",
       "      <td>NaN</td>\n",
       "      <td>NaN</td>\n",
       "    </tr>\n",
       "    <tr>\n",
       "      <th>van Elk, Ger</th>\n",
       "      <td>Lunch II</td>\n",
       "      <td>1980.0</td>\n",
       "      <td>NaN</td>\n",
       "      <td>NaN</td>\n",
       "      <td>NaN</td>\n",
       "    </tr>\n",
       "    <tr>\n",
       "      <th>Štyrský, Jindrich</th>\n",
       "      <td>Untitled</td>\n",
       "      <td>2007.0</td>\n",
       "      <td>NaN</td>\n",
       "      <td>NaN</td>\n",
       "      <td>NaN</td>\n",
       "    </tr>\n",
       "  </tbody>\n",
       "</table>\n",
       "<p>3336 rows × 5 columns</p>\n",
       "</div>"
      ],
      "text/plain": [
       "                                                                                                title  \\\n",
       "artist                                                                                                  \n",
       "?British School                                     Portrait of a Gentleman, probably of the West ...   \n",
       "Abakanowicz, Magdalena                                                                  Abakan Orange   \n",
       "Abbey, Edwin Austin                                              Illustration to ‘Judith Shakespeare’   \n",
       "Abbott, Berenice                                                                 Dinty Moore Antiques   \n",
       "Abbott, Lemuel Francis                                                      Henry Byne, of Carshalton   \n",
       "Abrahams, Ivor                                                                 A Dream Within a Dream   \n",
       "Absalon                                                                                Assassinations   \n",
       "Abts, Tomma                                                                                     Noeme   \n",
       "Acconci, Vito                                                       3 Flags for 1 Space and 6 Regions   \n",
       "Ackling, Roger                                                               Five Sunsets in One Hour   \n",
       "Ackroyd, Norman                                                                    1st Millbank Print   \n",
       "Adam, Robert                                                                    A Chasm, with Figures   \n",
       "Adams, Harry William                                                                   Winter’s Sleep   \n",
       "Adams, Norman                                                          Christ’s Cross and Adam’s Tree   \n",
       "Adams, Robert                                                                                  Figure   \n",
       "Adeney, Bernard                                                     Toy Sailing Boats, the Round Pond   \n",
       "Adler, Jankel                                                                           No Man’s Land   \n",
       "Adshead, Mary                                                                 Morning after the Flood   \n",
       "Adzak, Roy                                                                          Cut Bottle Relief   \n",
       "Afro                                                                                     The Struggle   \n",
       "Agar, Eileen                                                                         Angel of Anarchy   \n",
       "Agasse, Jacques Laurent                             Lord Rivers’s Groom Leading a Chestnut Hunter ...   \n",
       "Ahtila, Eija-Liisa                                                                Consolation Service   \n",
       "Ai, Weiwei                                                                            Sunflower Seeds   \n",
       "Aitchison, Craigie                                                                             Africa   \n",
       "Ajmone, Giuseppe                                                                               Autumn   \n",
       "Aksel, Erdag                                                                      Reflection of Craft   \n",
       "Al-Ani, Jananne                                                                             The Visit   \n",
       "Albers, Josef                                                                                    Beta   \n",
       "Albright, Ivan                                                     Josephine Medill Paterson Albright   \n",
       "...                                                                                               ...   \n",
       "Yass, Catherine                                                                Bankside: Cherrypicker   \n",
       "Yeames, William Frederick                                                                 Amy Robsart   \n",
       "Yeats, Jack Butler                                                           A Rose Among Many Waters   \n",
       "Yhap, Laetitia                                                             Michael Balling Up Old Net   \n",
       "Yiadom-Boakye, Lynette                                                                  10pm Saturday   \n",
       "Young, Carey                                        Body Techniques (after A Line in Ireland, Rich...   \n",
       "Young, Robert                                                                           Sounds Inside   \n",
       "Young-Hae Chang Heavy Industries (Young-Hae Cha...                                             TEASER   \n",
       "Young-Hunter, John                                                                   My Lady’s Garden   \n",
       "Yuon, Konstantin                                                             The Monastery at Zagorsk   \n",
       "Yvaral, Jean-Pierre                                             Kinetic Relief - Optical Acceleration   \n",
       "Zaatari, Akram                                      A fisherman with his daughters. Saqqa family h...   \n",
       "Zack, Leon                                                                                   Painting   \n",
       "Zadkine, Ossip                                                                                Acrobat   \n",
       "Zakanitch, Robert Rahway                                                        Double Geese Mountain   \n",
       "Zao, Wou-ki                                                                          Before the Storm   \n",
       "Zhang, Enli                                                                                  Bucket 3   \n",
       "Ziegler, Toby                                                 The Hedonistic Imperative (2nd version)   \n",
       "Zipp, Thomas                                                                                  achtung   \n",
       "Zittel, Andrea                                      A-Z Comfort Unit with Special Comfort Features...   \n",
       "Zmijewski, Artur                                                                          Democracies   \n",
       "Zoffany, Johan                                                               A Florentine Fruit Stall   \n",
       "Zorio, Gilberto                                                                                Hatred   \n",
       "Zox, Larry                                                                                Orange Time   \n",
       "Zuccarelli, Francesco                               A Landscape with the Story of Cadmus Killing t...   \n",
       "Zuloaga, Ignacio                                                                 View of the Escorial   \n",
       "Zyw, Aleksander                                                                                 Light   \n",
       "di Suvero, Mark                                                                                 Tetra   \n",
       "van Elk, Ger                                                                                 Lunch II   \n",
       "Štyrský, Jindrich                                                                            Untitled   \n",
       "\n",
       "                                                    acquisitionYear  width  \\\n",
       "artist                                                                       \n",
       "?British School                                              1927.0    NaN   \n",
       "Abakanowicz, Magdalena                                       2009.0    NaN   \n",
       "Abbey, Edwin Austin                                          1924.0    NaN   \n",
       "Abbott, Berenice                                             2010.0    NaN   \n",
       "Abbott, Lemuel Francis                                       1885.0    NaN   \n",
       "Abrahams, Ivor                                               1975.0    NaN   \n",
       "Absalon                                                      1997.0    NaN   \n",
       "Abts, Tomma                                                  2006.0    NaN   \n",
       "Acconci, Vito                                                1982.0    NaN   \n",
       "Ackling, Roger                                               1983.0    NaN   \n",
       "Ackroyd, Norman                                              1975.0    NaN   \n",
       "Adam, Robert                                                 1996.0    NaN   \n",
       "Adams, Harry William                                         1900.0    NaN   \n",
       "Adams, Norman                                                1967.0    NaN   \n",
       "Adams, Robert                                                1962.0    NaN   \n",
       "Adeney, Bernard                                              1931.0    NaN   \n",
       "Adler, Jankel                                                1953.0    NaN   \n",
       "Adshead, Mary                                                1997.0    NaN   \n",
       "Adzak, Roy                                                   1966.0    NaN   \n",
       "Afro                                                         1955.0    NaN   \n",
       "Agar, Eileen                                                 1962.0    NaN   \n",
       "Agasse, Jacques Laurent                                      1979.0    NaN   \n",
       "Ahtila, Eija-Liisa                                           2001.0    NaN   \n",
       "Ai, Weiwei                                                   2008.0    NaN   \n",
       "Aitchison, Craigie                                           1964.0    NaN   \n",
       "Ajmone, Giuseppe                                             1960.0    NaN   \n",
       "Aksel, Erdag                                                 2011.0    NaN   \n",
       "Al-Ani, Jananne                                              2009.0    NaN   \n",
       "Albers, Josef                                                1965.0    NaN   \n",
       "Albright, Ivan                                               1978.0    NaN   \n",
       "...                                                             ...    ...   \n",
       "Yass, Catherine                                              1996.0    NaN   \n",
       "Yeames, William Frederick                                    1877.0    NaN   \n",
       "Yeats, Jack Butler                                           1925.0    NaN   \n",
       "Yhap, Laetitia                                               1984.0    NaN   \n",
       "Yiadom-Boakye, Lynette                                       2012.0    NaN   \n",
       "Young, Carey                                                 2006.0    NaN   \n",
       "Young, Robert                                                1975.0    NaN   \n",
       "Young-Hae Chang Heavy Industries (Young-Hae Cha...           2012.0    NaN   \n",
       "Young-Hunter, John                                           1899.0    NaN   \n",
       "Yuon, Konstantin                                             1964.0    NaN   \n",
       "Yvaral, Jean-Pierre                                          1964.0    NaN   \n",
       "Zaatari, Akram                                               2008.0    NaN   \n",
       "Zack, Leon                                                   1959.0    NaN   \n",
       "Zadkine, Ossip                                               1954.0    NaN   \n",
       "Zakanitch, Robert Rahway                                     2004.0    NaN   \n",
       "Zao, Wou-ki                                                  1958.0    NaN   \n",
       "Zhang, Enli                                                  2011.0    NaN   \n",
       "Ziegler, Toby                                                2006.0    NaN   \n",
       "Zipp, Thomas                                                 2007.0    NaN   \n",
       "Zittel, Andrea                                               1996.0    NaN   \n",
       "Zmijewski, Artur                                             2010.0    NaN   \n",
       "Zoffany, Johan                                               1896.0    NaN   \n",
       "Zorio, Gilberto                                              2009.0    NaN   \n",
       "Zox, Larry                                                   1968.0    NaN   \n",
       "Zuccarelli, Francesco                                        1985.0    NaN   \n",
       "Zuloaga, Ignacio                                             1923.0    NaN   \n",
       "Zyw, Aleksander                                              1962.0    NaN   \n",
       "di Suvero, Mark                                              2004.0    NaN   \n",
       "van Elk, Ger                                                 1980.0    NaN   \n",
       "Štyrský, Jindrich                                            2007.0    NaN   \n",
       "\n",
       "                                                    height  area  \n",
       "artist                                                            \n",
       "?British School                                        NaN   NaN  \n",
       "Abakanowicz, Magdalena                                 NaN   NaN  \n",
       "Abbey, Edwin Austin                                    NaN   NaN  \n",
       "Abbott, Berenice                                       NaN   NaN  \n",
       "Abbott, Lemuel Francis                                 NaN   NaN  \n",
       "Abrahams, Ivor                                         NaN   NaN  \n",
       "Absalon                                                NaN   NaN  \n",
       "Abts, Tomma                                            NaN   NaN  \n",
       "Acconci, Vito                                          NaN   NaN  \n",
       "Ackling, Roger                                         NaN   NaN  \n",
       "Ackroyd, Norman                                        NaN   NaN  \n",
       "Adam, Robert                                           NaN   NaN  \n",
       "Adams, Harry William                                   NaN   NaN  \n",
       "Adams, Norman                                          NaN   NaN  \n",
       "Adams, Robert                                          NaN   NaN  \n",
       "Adeney, Bernard                                        NaN   NaN  \n",
       "Adler, Jankel                                          NaN   NaN  \n",
       "Adshead, Mary                                          NaN   NaN  \n",
       "Adzak, Roy                                             NaN   NaN  \n",
       "Afro                                                   NaN   NaN  \n",
       "Agar, Eileen                                           NaN   NaN  \n",
       "Agasse, Jacques Laurent                                NaN   NaN  \n",
       "Ahtila, Eija-Liisa                                     NaN   NaN  \n",
       "Ai, Weiwei                                             NaN   NaN  \n",
       "Aitchison, Craigie                                     NaN   NaN  \n",
       "Ajmone, Giuseppe                                       NaN   NaN  \n",
       "Aksel, Erdag                                           NaN   NaN  \n",
       "Al-Ani, Jananne                                        NaN   NaN  \n",
       "Albers, Josef                                          NaN   NaN  \n",
       "Albright, Ivan                                         NaN   NaN  \n",
       "...                                                    ...   ...  \n",
       "Yass, Catherine                                        NaN   NaN  \n",
       "Yeames, William Frederick                              NaN   NaN  \n",
       "Yeats, Jack Butler                                     NaN   NaN  \n",
       "Yhap, Laetitia                                         NaN   NaN  \n",
       "Yiadom-Boakye, Lynette                                 NaN   NaN  \n",
       "Young, Carey                                           NaN   NaN  \n",
       "Young, Robert                                          NaN   NaN  \n",
       "Young-Hae Chang Heavy Industries (Young-Hae Cha...     NaN   NaN  \n",
       "Young-Hunter, John                                     NaN   NaN  \n",
       "Yuon, Konstantin                                       NaN   NaN  \n",
       "Yvaral, Jean-Pierre                                    NaN   NaN  \n",
       "Zaatari, Akram                                         NaN   NaN  \n",
       "Zack, Leon                                             NaN   NaN  \n",
       "Zadkine, Ossip                                         NaN   NaN  \n",
       "Zakanitch, Robert Rahway                               NaN   NaN  \n",
       "Zao, Wou-ki                                            NaN   NaN  \n",
       "Zhang, Enli                                            NaN   NaN  \n",
       "Ziegler, Toby                                          NaN   NaN  \n",
       "Zipp, Thomas                                           NaN   NaN  \n",
       "Zittel, Andrea                                         NaN   NaN  \n",
       "Zmijewski, Artur                                       NaN   NaN  \n",
       "Zoffany, Johan                                         NaN   NaN  \n",
       "Zorio, Gilberto                                        NaN   NaN  \n",
       "Zox, Larry                                             NaN   NaN  \n",
       "Zuccarelli, Francesco                                  NaN   NaN  \n",
       "Zuloaga, Ignacio                                       NaN   NaN  \n",
       "Zyw, Aleksander                                        NaN   NaN  \n",
       "di Suvero, Mark                                        NaN   NaN  \n",
       "van Elk, Ger                                           NaN   NaN  \n",
       "Štyrský, Jindrich                                      NaN   NaN  \n",
       "\n",
       "[3336 rows x 5 columns]"
      ]
     },
     "execution_count": 206,
     "metadata": {},
     "output_type": "execute_result"
    }
   ],
   "source": [
    "#MIN\n",
    "df.groupby('artist').agg(np.min) # or min() using np gives performance improvement"
   ]
  },
  {
   "cell_type": "code",
   "execution_count": 207,
   "metadata": {},
   "outputs": [
    {
     "data": {
      "text/html": [
       "<div>\n",
       "<style>\n",
       "    .dataframe thead tr:only-child th {\n",
       "        text-align: right;\n",
       "    }\n",
       "\n",
       "    .dataframe thead th {\n",
       "        text-align: left;\n",
       "    }\n",
       "\n",
       "    .dataframe tbody tr th {\n",
       "        vertical-align: top;\n",
       "    }\n",
       "</style>\n",
       "<table border=\"1\" class=\"dataframe\">\n",
       "  <thead>\n",
       "    <tr style=\"text-align: right;\">\n",
       "      <th></th>\n",
       "      <th>title</th>\n",
       "      <th>acquisitionYear</th>\n",
       "      <th>width</th>\n",
       "      <th>height</th>\n",
       "      <th>area</th>\n",
       "    </tr>\n",
       "    <tr>\n",
       "      <th>artist</th>\n",
       "      <th></th>\n",
       "      <th></th>\n",
       "      <th></th>\n",
       "      <th></th>\n",
       "      <th></th>\n",
       "    </tr>\n",
       "  </thead>\n",
       "  <tbody>\n",
       "    <tr>\n",
       "      <th>?British School</th>\n",
       "      <td>Portrait of a Gentleman, probably of the West ...</td>\n",
       "      <td>1927.0</td>\n",
       "      <td>NaN</td>\n",
       "      <td>NaN</td>\n",
       "      <td>NaN</td>\n",
       "    </tr>\n",
       "    <tr>\n",
       "      <th>Abakanowicz, Magdalena</th>\n",
       "      <td>Abakan Orange</td>\n",
       "      <td>2009.0</td>\n",
       "      <td>NaN</td>\n",
       "      <td>NaN</td>\n",
       "      <td>NaN</td>\n",
       "    </tr>\n",
       "    <tr>\n",
       "      <th>Abbey, Edwin Austin</th>\n",
       "      <td>Illustration to ‘Judith Shakespeare’</td>\n",
       "      <td>1924.0</td>\n",
       "      <td>NaN</td>\n",
       "      <td>NaN</td>\n",
       "      <td>NaN</td>\n",
       "    </tr>\n",
       "    <tr>\n",
       "      <th>Abbott, Berenice</th>\n",
       "      <td>Dinty Moore Antiques</td>\n",
       "      <td>2010.0</td>\n",
       "      <td>NaN</td>\n",
       "      <td>NaN</td>\n",
       "      <td>NaN</td>\n",
       "    </tr>\n",
       "    <tr>\n",
       "      <th>Abbott, Lemuel Francis</th>\n",
       "      <td>Henry Byne, of Carshalton</td>\n",
       "      <td>1885.0</td>\n",
       "      <td>NaN</td>\n",
       "      <td>NaN</td>\n",
       "      <td>NaN</td>\n",
       "    </tr>\n",
       "    <tr>\n",
       "      <th>Abrahams, Ivor</th>\n",
       "      <td>A Dream Within a Dream</td>\n",
       "      <td>1975.0</td>\n",
       "      <td>NaN</td>\n",
       "      <td>NaN</td>\n",
       "      <td>NaN</td>\n",
       "    </tr>\n",
       "    <tr>\n",
       "      <th>Absalon</th>\n",
       "      <td>Assassinations</td>\n",
       "      <td>1997.0</td>\n",
       "      <td>NaN</td>\n",
       "      <td>NaN</td>\n",
       "      <td>NaN</td>\n",
       "    </tr>\n",
       "    <tr>\n",
       "      <th>Abts, Tomma</th>\n",
       "      <td>Noeme</td>\n",
       "      <td>2006.0</td>\n",
       "      <td>NaN</td>\n",
       "      <td>NaN</td>\n",
       "      <td>NaN</td>\n",
       "    </tr>\n",
       "    <tr>\n",
       "      <th>Acconci, Vito</th>\n",
       "      <td>3 Flags for 1 Space and 6 Regions</td>\n",
       "      <td>1982.0</td>\n",
       "      <td>NaN</td>\n",
       "      <td>NaN</td>\n",
       "      <td>NaN</td>\n",
       "    </tr>\n",
       "    <tr>\n",
       "      <th>Ackling, Roger</th>\n",
       "      <td>Five Sunsets in One Hour</td>\n",
       "      <td>1983.0</td>\n",
       "      <td>NaN</td>\n",
       "      <td>NaN</td>\n",
       "      <td>NaN</td>\n",
       "    </tr>\n",
       "    <tr>\n",
       "      <th>Ackroyd, Norman</th>\n",
       "      <td>1st Millbank Print</td>\n",
       "      <td>1975.0</td>\n",
       "      <td>NaN</td>\n",
       "      <td>NaN</td>\n",
       "      <td>NaN</td>\n",
       "    </tr>\n",
       "    <tr>\n",
       "      <th>Adam, Robert</th>\n",
       "      <td>A Chasm, with Figures</td>\n",
       "      <td>1996.0</td>\n",
       "      <td>NaN</td>\n",
       "      <td>NaN</td>\n",
       "      <td>NaN</td>\n",
       "    </tr>\n",
       "    <tr>\n",
       "      <th>Adams, Harry William</th>\n",
       "      <td>Winter’s Sleep</td>\n",
       "      <td>1900.0</td>\n",
       "      <td>NaN</td>\n",
       "      <td>NaN</td>\n",
       "      <td>NaN</td>\n",
       "    </tr>\n",
       "    <tr>\n",
       "      <th>Adams, Norman</th>\n",
       "      <td>Christ’s Cross and Adam’s Tree</td>\n",
       "      <td>1967.0</td>\n",
       "      <td>NaN</td>\n",
       "      <td>NaN</td>\n",
       "      <td>NaN</td>\n",
       "    </tr>\n",
       "    <tr>\n",
       "      <th>Adams, Robert</th>\n",
       "      <td>Figure</td>\n",
       "      <td>1962.0</td>\n",
       "      <td>NaN</td>\n",
       "      <td>NaN</td>\n",
       "      <td>NaN</td>\n",
       "    </tr>\n",
       "    <tr>\n",
       "      <th>Adeney, Bernard</th>\n",
       "      <td>Toy Sailing Boats, the Round Pond</td>\n",
       "      <td>1931.0</td>\n",
       "      <td>NaN</td>\n",
       "      <td>NaN</td>\n",
       "      <td>NaN</td>\n",
       "    </tr>\n",
       "    <tr>\n",
       "      <th>Adler, Jankel</th>\n",
       "      <td>No Man’s Land</td>\n",
       "      <td>1953.0</td>\n",
       "      <td>NaN</td>\n",
       "      <td>NaN</td>\n",
       "      <td>NaN</td>\n",
       "    </tr>\n",
       "    <tr>\n",
       "      <th>Adshead, Mary</th>\n",
       "      <td>Morning after the Flood</td>\n",
       "      <td>1997.0</td>\n",
       "      <td>NaN</td>\n",
       "      <td>NaN</td>\n",
       "      <td>NaN</td>\n",
       "    </tr>\n",
       "    <tr>\n",
       "      <th>Adzak, Roy</th>\n",
       "      <td>Cut Bottle Relief</td>\n",
       "      <td>1966.0</td>\n",
       "      <td>NaN</td>\n",
       "      <td>NaN</td>\n",
       "      <td>NaN</td>\n",
       "    </tr>\n",
       "    <tr>\n",
       "      <th>Afro</th>\n",
       "      <td>The Struggle</td>\n",
       "      <td>1955.0</td>\n",
       "      <td>NaN</td>\n",
       "      <td>NaN</td>\n",
       "      <td>NaN</td>\n",
       "    </tr>\n",
       "    <tr>\n",
       "      <th>Agar, Eileen</th>\n",
       "      <td>Angel of Anarchy</td>\n",
       "      <td>1962.0</td>\n",
       "      <td>NaN</td>\n",
       "      <td>NaN</td>\n",
       "      <td>NaN</td>\n",
       "    </tr>\n",
       "    <tr>\n",
       "      <th>Agasse, Jacques Laurent</th>\n",
       "      <td>Lord Rivers’s Groom Leading a Chestnut Hunter ...</td>\n",
       "      <td>1979.0</td>\n",
       "      <td>NaN</td>\n",
       "      <td>NaN</td>\n",
       "      <td>NaN</td>\n",
       "    </tr>\n",
       "    <tr>\n",
       "      <th>Ahtila, Eija-Liisa</th>\n",
       "      <td>Consolation Service</td>\n",
       "      <td>2001.0</td>\n",
       "      <td>NaN</td>\n",
       "      <td>NaN</td>\n",
       "      <td>NaN</td>\n",
       "    </tr>\n",
       "    <tr>\n",
       "      <th>Ai, Weiwei</th>\n",
       "      <td>Sunflower Seeds</td>\n",
       "      <td>2008.0</td>\n",
       "      <td>NaN</td>\n",
       "      <td>NaN</td>\n",
       "      <td>NaN</td>\n",
       "    </tr>\n",
       "    <tr>\n",
       "      <th>Aitchison, Craigie</th>\n",
       "      <td>Africa</td>\n",
       "      <td>1964.0</td>\n",
       "      <td>NaN</td>\n",
       "      <td>NaN</td>\n",
       "      <td>NaN</td>\n",
       "    </tr>\n",
       "    <tr>\n",
       "      <th>Ajmone, Giuseppe</th>\n",
       "      <td>Autumn</td>\n",
       "      <td>1960.0</td>\n",
       "      <td>NaN</td>\n",
       "      <td>NaN</td>\n",
       "      <td>NaN</td>\n",
       "    </tr>\n",
       "    <tr>\n",
       "      <th>Aksel, Erdag</th>\n",
       "      <td>Reflection of Craft</td>\n",
       "      <td>2011.0</td>\n",
       "      <td>NaN</td>\n",
       "      <td>NaN</td>\n",
       "      <td>NaN</td>\n",
       "    </tr>\n",
       "    <tr>\n",
       "      <th>Al-Ani, Jananne</th>\n",
       "      <td>The Visit</td>\n",
       "      <td>2009.0</td>\n",
       "      <td>NaN</td>\n",
       "      <td>NaN</td>\n",
       "      <td>NaN</td>\n",
       "    </tr>\n",
       "    <tr>\n",
       "      <th>Albers, Josef</th>\n",
       "      <td>Beta</td>\n",
       "      <td>1965.0</td>\n",
       "      <td>NaN</td>\n",
       "      <td>NaN</td>\n",
       "      <td>NaN</td>\n",
       "    </tr>\n",
       "    <tr>\n",
       "      <th>Albright, Ivan</th>\n",
       "      <td>Josephine Medill Paterson Albright</td>\n",
       "      <td>1978.0</td>\n",
       "      <td>NaN</td>\n",
       "      <td>NaN</td>\n",
       "      <td>NaN</td>\n",
       "    </tr>\n",
       "    <tr>\n",
       "      <th>...</th>\n",
       "      <td>...</td>\n",
       "      <td>...</td>\n",
       "      <td>...</td>\n",
       "      <td>...</td>\n",
       "      <td>...</td>\n",
       "    </tr>\n",
       "    <tr>\n",
       "      <th>Yass, Catherine</th>\n",
       "      <td>Bankside: Cherrypicker</td>\n",
       "      <td>1996.0</td>\n",
       "      <td>NaN</td>\n",
       "      <td>NaN</td>\n",
       "      <td>NaN</td>\n",
       "    </tr>\n",
       "    <tr>\n",
       "      <th>Yeames, William Frederick</th>\n",
       "      <td>Amy Robsart</td>\n",
       "      <td>1877.0</td>\n",
       "      <td>NaN</td>\n",
       "      <td>NaN</td>\n",
       "      <td>NaN</td>\n",
       "    </tr>\n",
       "    <tr>\n",
       "      <th>Yeats, Jack Butler</th>\n",
       "      <td>A Rose Among Many Waters</td>\n",
       "      <td>1925.0</td>\n",
       "      <td>NaN</td>\n",
       "      <td>NaN</td>\n",
       "      <td>NaN</td>\n",
       "    </tr>\n",
       "    <tr>\n",
       "      <th>Yhap, Laetitia</th>\n",
       "      <td>Michael Balling Up Old Net</td>\n",
       "      <td>1984.0</td>\n",
       "      <td>NaN</td>\n",
       "      <td>NaN</td>\n",
       "      <td>NaN</td>\n",
       "    </tr>\n",
       "    <tr>\n",
       "      <th>Yiadom-Boakye, Lynette</th>\n",
       "      <td>10pm Saturday</td>\n",
       "      <td>2012.0</td>\n",
       "      <td>NaN</td>\n",
       "      <td>NaN</td>\n",
       "      <td>NaN</td>\n",
       "    </tr>\n",
       "    <tr>\n",
       "      <th>Young, Carey</th>\n",
       "      <td>Body Techniques (after A Line in Ireland, Rich...</td>\n",
       "      <td>2006.0</td>\n",
       "      <td>NaN</td>\n",
       "      <td>NaN</td>\n",
       "      <td>NaN</td>\n",
       "    </tr>\n",
       "    <tr>\n",
       "      <th>Young, Robert</th>\n",
       "      <td>Sounds Inside</td>\n",
       "      <td>1975.0</td>\n",
       "      <td>NaN</td>\n",
       "      <td>NaN</td>\n",
       "      <td>NaN</td>\n",
       "    </tr>\n",
       "    <tr>\n",
       "      <th>Young-Hae Chang Heavy Industries (Young-Hae Chang, Marc Voge)</th>\n",
       "      <td>TEASER</td>\n",
       "      <td>2012.0</td>\n",
       "      <td>NaN</td>\n",
       "      <td>NaN</td>\n",
       "      <td>NaN</td>\n",
       "    </tr>\n",
       "    <tr>\n",
       "      <th>Young-Hunter, John</th>\n",
       "      <td>My Lady’s Garden</td>\n",
       "      <td>1899.0</td>\n",
       "      <td>NaN</td>\n",
       "      <td>NaN</td>\n",
       "      <td>NaN</td>\n",
       "    </tr>\n",
       "    <tr>\n",
       "      <th>Yuon, Konstantin</th>\n",
       "      <td>The Monastery at Zagorsk</td>\n",
       "      <td>1964.0</td>\n",
       "      <td>NaN</td>\n",
       "      <td>NaN</td>\n",
       "      <td>NaN</td>\n",
       "    </tr>\n",
       "    <tr>\n",
       "      <th>Yvaral, Jean-Pierre</th>\n",
       "      <td>Kinetic Relief - Optical Acceleration</td>\n",
       "      <td>1964.0</td>\n",
       "      <td>NaN</td>\n",
       "      <td>NaN</td>\n",
       "      <td>NaN</td>\n",
       "    </tr>\n",
       "    <tr>\n",
       "      <th>Zaatari, Akram</th>\n",
       "      <td>A fisherman with his daughters. Saqqa family h...</td>\n",
       "      <td>2008.0</td>\n",
       "      <td>NaN</td>\n",
       "      <td>NaN</td>\n",
       "      <td>NaN</td>\n",
       "    </tr>\n",
       "    <tr>\n",
       "      <th>Zack, Leon</th>\n",
       "      <td>Painting</td>\n",
       "      <td>1959.0</td>\n",
       "      <td>NaN</td>\n",
       "      <td>NaN</td>\n",
       "      <td>NaN</td>\n",
       "    </tr>\n",
       "    <tr>\n",
       "      <th>Zadkine, Ossip</th>\n",
       "      <td>Acrobat</td>\n",
       "      <td>1954.0</td>\n",
       "      <td>NaN</td>\n",
       "      <td>NaN</td>\n",
       "      <td>NaN</td>\n",
       "    </tr>\n",
       "    <tr>\n",
       "      <th>Zakanitch, Robert Rahway</th>\n",
       "      <td>Double Geese Mountain</td>\n",
       "      <td>2004.0</td>\n",
       "      <td>NaN</td>\n",
       "      <td>NaN</td>\n",
       "      <td>NaN</td>\n",
       "    </tr>\n",
       "    <tr>\n",
       "      <th>Zao, Wou-ki</th>\n",
       "      <td>Before the Storm</td>\n",
       "      <td>1958.0</td>\n",
       "      <td>NaN</td>\n",
       "      <td>NaN</td>\n",
       "      <td>NaN</td>\n",
       "    </tr>\n",
       "    <tr>\n",
       "      <th>Zhang, Enli</th>\n",
       "      <td>Bucket 3</td>\n",
       "      <td>2011.0</td>\n",
       "      <td>NaN</td>\n",
       "      <td>NaN</td>\n",
       "      <td>NaN</td>\n",
       "    </tr>\n",
       "    <tr>\n",
       "      <th>Ziegler, Toby</th>\n",
       "      <td>The Hedonistic Imperative (2nd version)</td>\n",
       "      <td>2006.0</td>\n",
       "      <td>NaN</td>\n",
       "      <td>NaN</td>\n",
       "      <td>NaN</td>\n",
       "    </tr>\n",
       "    <tr>\n",
       "      <th>Zipp, Thomas</th>\n",
       "      <td>achtung</td>\n",
       "      <td>2007.0</td>\n",
       "      <td>NaN</td>\n",
       "      <td>NaN</td>\n",
       "      <td>NaN</td>\n",
       "    </tr>\n",
       "    <tr>\n",
       "      <th>Zittel, Andrea</th>\n",
       "      <td>A-Z Comfort Unit with Special Comfort Features...</td>\n",
       "      <td>1996.0</td>\n",
       "      <td>NaN</td>\n",
       "      <td>NaN</td>\n",
       "      <td>NaN</td>\n",
       "    </tr>\n",
       "    <tr>\n",
       "      <th>Zmijewski, Artur</th>\n",
       "      <td>Democracies</td>\n",
       "      <td>2010.0</td>\n",
       "      <td>NaN</td>\n",
       "      <td>NaN</td>\n",
       "      <td>NaN</td>\n",
       "    </tr>\n",
       "    <tr>\n",
       "      <th>Zoffany, Johan</th>\n",
       "      <td>A Florentine Fruit Stall</td>\n",
       "      <td>1896.0</td>\n",
       "      <td>NaN</td>\n",
       "      <td>NaN</td>\n",
       "      <td>NaN</td>\n",
       "    </tr>\n",
       "    <tr>\n",
       "      <th>Zorio, Gilberto</th>\n",
       "      <td>Hatred</td>\n",
       "      <td>2009.0</td>\n",
       "      <td>NaN</td>\n",
       "      <td>NaN</td>\n",
       "      <td>NaN</td>\n",
       "    </tr>\n",
       "    <tr>\n",
       "      <th>Zox, Larry</th>\n",
       "      <td>Orange Time</td>\n",
       "      <td>1968.0</td>\n",
       "      <td>NaN</td>\n",
       "      <td>NaN</td>\n",
       "      <td>NaN</td>\n",
       "    </tr>\n",
       "    <tr>\n",
       "      <th>Zuccarelli, Francesco</th>\n",
       "      <td>A Landscape with the Story of Cadmus Killing t...</td>\n",
       "      <td>1985.0</td>\n",
       "      <td>NaN</td>\n",
       "      <td>NaN</td>\n",
       "      <td>NaN</td>\n",
       "    </tr>\n",
       "    <tr>\n",
       "      <th>Zuloaga, Ignacio</th>\n",
       "      <td>View of the Escorial</td>\n",
       "      <td>1923.0</td>\n",
       "      <td>NaN</td>\n",
       "      <td>NaN</td>\n",
       "      <td>NaN</td>\n",
       "    </tr>\n",
       "    <tr>\n",
       "      <th>Zyw, Aleksander</th>\n",
       "      <td>Light</td>\n",
       "      <td>1962.0</td>\n",
       "      <td>NaN</td>\n",
       "      <td>NaN</td>\n",
       "      <td>NaN</td>\n",
       "    </tr>\n",
       "    <tr>\n",
       "      <th>di Suvero, Mark</th>\n",
       "      <td>Tetra</td>\n",
       "      <td>2004.0</td>\n",
       "      <td>NaN</td>\n",
       "      <td>NaN</td>\n",
       "      <td>NaN</td>\n",
       "    </tr>\n",
       "    <tr>\n",
       "      <th>van Elk, Ger</th>\n",
       "      <td>Lunch II</td>\n",
       "      <td>1980.0</td>\n",
       "      <td>NaN</td>\n",
       "      <td>NaN</td>\n",
       "      <td>NaN</td>\n",
       "    </tr>\n",
       "    <tr>\n",
       "      <th>Štyrský, Jindrich</th>\n",
       "      <td>Untitled</td>\n",
       "      <td>2007.0</td>\n",
       "      <td>NaN</td>\n",
       "      <td>NaN</td>\n",
       "      <td>NaN</td>\n",
       "    </tr>\n",
       "  </tbody>\n",
       "</table>\n",
       "<p>3336 rows × 5 columns</p>\n",
       "</div>"
      ],
      "text/plain": [
       "                                                                                                title  \\\n",
       "artist                                                                                                  \n",
       "?British School                                     Portrait of a Gentleman, probably of the West ...   \n",
       "Abakanowicz, Magdalena                                                                  Abakan Orange   \n",
       "Abbey, Edwin Austin                                              Illustration to ‘Judith Shakespeare’   \n",
       "Abbott, Berenice                                                                 Dinty Moore Antiques   \n",
       "Abbott, Lemuel Francis                                                      Henry Byne, of Carshalton   \n",
       "Abrahams, Ivor                                                                 A Dream Within a Dream   \n",
       "Absalon                                                                                Assassinations   \n",
       "Abts, Tomma                                                                                     Noeme   \n",
       "Acconci, Vito                                                       3 Flags for 1 Space and 6 Regions   \n",
       "Ackling, Roger                                                               Five Sunsets in One Hour   \n",
       "Ackroyd, Norman                                                                    1st Millbank Print   \n",
       "Adam, Robert                                                                    A Chasm, with Figures   \n",
       "Adams, Harry William                                                                   Winter’s Sleep   \n",
       "Adams, Norman                                                          Christ’s Cross and Adam’s Tree   \n",
       "Adams, Robert                                                                                  Figure   \n",
       "Adeney, Bernard                                                     Toy Sailing Boats, the Round Pond   \n",
       "Adler, Jankel                                                                           No Man’s Land   \n",
       "Adshead, Mary                                                                 Morning after the Flood   \n",
       "Adzak, Roy                                                                          Cut Bottle Relief   \n",
       "Afro                                                                                     The Struggle   \n",
       "Agar, Eileen                                                                         Angel of Anarchy   \n",
       "Agasse, Jacques Laurent                             Lord Rivers’s Groom Leading a Chestnut Hunter ...   \n",
       "Ahtila, Eija-Liisa                                                                Consolation Service   \n",
       "Ai, Weiwei                                                                            Sunflower Seeds   \n",
       "Aitchison, Craigie                                                                             Africa   \n",
       "Ajmone, Giuseppe                                                                               Autumn   \n",
       "Aksel, Erdag                                                                      Reflection of Craft   \n",
       "Al-Ani, Jananne                                                                             The Visit   \n",
       "Albers, Josef                                                                                    Beta   \n",
       "Albright, Ivan                                                     Josephine Medill Paterson Albright   \n",
       "...                                                                                               ...   \n",
       "Yass, Catherine                                                                Bankside: Cherrypicker   \n",
       "Yeames, William Frederick                                                                 Amy Robsart   \n",
       "Yeats, Jack Butler                                                           A Rose Among Many Waters   \n",
       "Yhap, Laetitia                                                             Michael Balling Up Old Net   \n",
       "Yiadom-Boakye, Lynette                                                                  10pm Saturday   \n",
       "Young, Carey                                        Body Techniques (after A Line in Ireland, Rich...   \n",
       "Young, Robert                                                                           Sounds Inside   \n",
       "Young-Hae Chang Heavy Industries (Young-Hae Cha...                                             TEASER   \n",
       "Young-Hunter, John                                                                   My Lady’s Garden   \n",
       "Yuon, Konstantin                                                             The Monastery at Zagorsk   \n",
       "Yvaral, Jean-Pierre                                             Kinetic Relief - Optical Acceleration   \n",
       "Zaatari, Akram                                      A fisherman with his daughters. Saqqa family h...   \n",
       "Zack, Leon                                                                                   Painting   \n",
       "Zadkine, Ossip                                                                                Acrobat   \n",
       "Zakanitch, Robert Rahway                                                        Double Geese Mountain   \n",
       "Zao, Wou-ki                                                                          Before the Storm   \n",
       "Zhang, Enli                                                                                  Bucket 3   \n",
       "Ziegler, Toby                                                 The Hedonistic Imperative (2nd version)   \n",
       "Zipp, Thomas                                                                                  achtung   \n",
       "Zittel, Andrea                                      A-Z Comfort Unit with Special Comfort Features...   \n",
       "Zmijewski, Artur                                                                          Democracies   \n",
       "Zoffany, Johan                                                               A Florentine Fruit Stall   \n",
       "Zorio, Gilberto                                                                                Hatred   \n",
       "Zox, Larry                                                                                Orange Time   \n",
       "Zuccarelli, Francesco                               A Landscape with the Story of Cadmus Killing t...   \n",
       "Zuloaga, Ignacio                                                                 View of the Escorial   \n",
       "Zyw, Aleksander                                                                                 Light   \n",
       "di Suvero, Mark                                                                                 Tetra   \n",
       "van Elk, Ger                                                                                 Lunch II   \n",
       "Štyrský, Jindrich                                                                            Untitled   \n",
       "\n",
       "                                                    acquisitionYear  width  \\\n",
       "artist                                                                       \n",
       "?British School                                              1927.0    NaN   \n",
       "Abakanowicz, Magdalena                                       2009.0    NaN   \n",
       "Abbey, Edwin Austin                                          1924.0    NaN   \n",
       "Abbott, Berenice                                             2010.0    NaN   \n",
       "Abbott, Lemuel Francis                                       1885.0    NaN   \n",
       "Abrahams, Ivor                                               1975.0    NaN   \n",
       "Absalon                                                      1997.0    NaN   \n",
       "Abts, Tomma                                                  2006.0    NaN   \n",
       "Acconci, Vito                                                1982.0    NaN   \n",
       "Ackling, Roger                                               1983.0    NaN   \n",
       "Ackroyd, Norman                                              1975.0    NaN   \n",
       "Adam, Robert                                                 1996.0    NaN   \n",
       "Adams, Harry William                                         1900.0    NaN   \n",
       "Adams, Norman                                                1967.0    NaN   \n",
       "Adams, Robert                                                1962.0    NaN   \n",
       "Adeney, Bernard                                              1931.0    NaN   \n",
       "Adler, Jankel                                                1953.0    NaN   \n",
       "Adshead, Mary                                                1997.0    NaN   \n",
       "Adzak, Roy                                                   1966.0    NaN   \n",
       "Afro                                                         1955.0    NaN   \n",
       "Agar, Eileen                                                 1962.0    NaN   \n",
       "Agasse, Jacques Laurent                                      1979.0    NaN   \n",
       "Ahtila, Eija-Liisa                                           2001.0    NaN   \n",
       "Ai, Weiwei                                                   2008.0    NaN   \n",
       "Aitchison, Craigie                                           1964.0    NaN   \n",
       "Ajmone, Giuseppe                                             1960.0    NaN   \n",
       "Aksel, Erdag                                                 2011.0    NaN   \n",
       "Al-Ani, Jananne                                              2009.0    NaN   \n",
       "Albers, Josef                                                1965.0    NaN   \n",
       "Albright, Ivan                                               1978.0    NaN   \n",
       "...                                                             ...    ...   \n",
       "Yass, Catherine                                              1996.0    NaN   \n",
       "Yeames, William Frederick                                    1877.0    NaN   \n",
       "Yeats, Jack Butler                                           1925.0    NaN   \n",
       "Yhap, Laetitia                                               1984.0    NaN   \n",
       "Yiadom-Boakye, Lynette                                       2012.0    NaN   \n",
       "Young, Carey                                                 2006.0    NaN   \n",
       "Young, Robert                                                1975.0    NaN   \n",
       "Young-Hae Chang Heavy Industries (Young-Hae Cha...           2012.0    NaN   \n",
       "Young-Hunter, John                                           1899.0    NaN   \n",
       "Yuon, Konstantin                                             1964.0    NaN   \n",
       "Yvaral, Jean-Pierre                                          1964.0    NaN   \n",
       "Zaatari, Akram                                               2008.0    NaN   \n",
       "Zack, Leon                                                   1959.0    NaN   \n",
       "Zadkine, Ossip                                               1954.0    NaN   \n",
       "Zakanitch, Robert Rahway                                     2004.0    NaN   \n",
       "Zao, Wou-ki                                                  1958.0    NaN   \n",
       "Zhang, Enli                                                  2011.0    NaN   \n",
       "Ziegler, Toby                                                2006.0    NaN   \n",
       "Zipp, Thomas                                                 2007.0    NaN   \n",
       "Zittel, Andrea                                               1996.0    NaN   \n",
       "Zmijewski, Artur                                             2010.0    NaN   \n",
       "Zoffany, Johan                                               1896.0    NaN   \n",
       "Zorio, Gilberto                                              2009.0    NaN   \n",
       "Zox, Larry                                                   1968.0    NaN   \n",
       "Zuccarelli, Francesco                                        1985.0    NaN   \n",
       "Zuloaga, Ignacio                                             1923.0    NaN   \n",
       "Zyw, Aleksander                                              1962.0    NaN   \n",
       "di Suvero, Mark                                              2004.0    NaN   \n",
       "van Elk, Ger                                                 1980.0    NaN   \n",
       "Štyrský, Jindrich                                            2007.0    NaN   \n",
       "\n",
       "                                                    height  area  \n",
       "artist                                                            \n",
       "?British School                                        NaN   NaN  \n",
       "Abakanowicz, Magdalena                                 NaN   NaN  \n",
       "Abbey, Edwin Austin                                    NaN   NaN  \n",
       "Abbott, Berenice                                       NaN   NaN  \n",
       "Abbott, Lemuel Francis                                 NaN   NaN  \n",
       "Abrahams, Ivor                                         NaN   NaN  \n",
       "Absalon                                                NaN   NaN  \n",
       "Abts, Tomma                                            NaN   NaN  \n",
       "Acconci, Vito                                          NaN   NaN  \n",
       "Ackling, Roger                                         NaN   NaN  \n",
       "Ackroyd, Norman                                        NaN   NaN  \n",
       "Adam, Robert                                           NaN   NaN  \n",
       "Adams, Harry William                                   NaN   NaN  \n",
       "Adams, Norman                                          NaN   NaN  \n",
       "Adams, Robert                                          NaN   NaN  \n",
       "Adeney, Bernard                                        NaN   NaN  \n",
       "Adler, Jankel                                          NaN   NaN  \n",
       "Adshead, Mary                                          NaN   NaN  \n",
       "Adzak, Roy                                             NaN   NaN  \n",
       "Afro                                                   NaN   NaN  \n",
       "Agar, Eileen                                           NaN   NaN  \n",
       "Agasse, Jacques Laurent                                NaN   NaN  \n",
       "Ahtila, Eija-Liisa                                     NaN   NaN  \n",
       "Ai, Weiwei                                             NaN   NaN  \n",
       "Aitchison, Craigie                                     NaN   NaN  \n",
       "Ajmone, Giuseppe                                       NaN   NaN  \n",
       "Aksel, Erdag                                           NaN   NaN  \n",
       "Al-Ani, Jananne                                        NaN   NaN  \n",
       "Albers, Josef                                          NaN   NaN  \n",
       "Albright, Ivan                                         NaN   NaN  \n",
       "...                                                    ...   ...  \n",
       "Yass, Catherine                                        NaN   NaN  \n",
       "Yeames, William Frederick                              NaN   NaN  \n",
       "Yeats, Jack Butler                                     NaN   NaN  \n",
       "Yhap, Laetitia                                         NaN   NaN  \n",
       "Yiadom-Boakye, Lynette                                 NaN   NaN  \n",
       "Young, Carey                                           NaN   NaN  \n",
       "Young, Robert                                          NaN   NaN  \n",
       "Young-Hae Chang Heavy Industries (Young-Hae Cha...     NaN   NaN  \n",
       "Young-Hunter, John                                     NaN   NaN  \n",
       "Yuon, Konstantin                                       NaN   NaN  \n",
       "Yvaral, Jean-Pierre                                    NaN   NaN  \n",
       "Zaatari, Akram                                         NaN   NaN  \n",
       "Zack, Leon                                             NaN   NaN  \n",
       "Zadkine, Ossip                                         NaN   NaN  \n",
       "Zakanitch, Robert Rahway                               NaN   NaN  \n",
       "Zao, Wou-ki                                            NaN   NaN  \n",
       "Zhang, Enli                                            NaN   NaN  \n",
       "Ziegler, Toby                                          NaN   NaN  \n",
       "Zipp, Thomas                                           NaN   NaN  \n",
       "Zittel, Andrea                                         NaN   NaN  \n",
       "Zmijewski, Artur                                       NaN   NaN  \n",
       "Zoffany, Johan                                         NaN   NaN  \n",
       "Zorio, Gilberto                                        NaN   NaN  \n",
       "Zox, Larry                                             NaN   NaN  \n",
       "Zuccarelli, Francesco                                  NaN   NaN  \n",
       "Zuloaga, Ignacio                                       NaN   NaN  \n",
       "Zyw, Aleksander                                        NaN   NaN  \n",
       "di Suvero, Mark                                        NaN   NaN  \n",
       "van Elk, Ger                                           NaN   NaN  \n",
       "Štyrský, Jindrich                                      NaN   NaN  \n",
       "\n",
       "[3336 rows x 5 columns]"
      ]
     },
     "execution_count": 207,
     "metadata": {},
     "output_type": "execute_result"
    }
   ],
   "source": [
    "df.groupby('artist').min()"
   ]
  },
  {
   "cell_type": "code",
   "execution_count": 211,
   "metadata": {},
   "outputs": [
    {
     "name": "stderr",
     "output_type": "stream",
     "text": [
      "/home/vijay/anaconda2/envs/py35/lib/python3.5/site-packages/ipykernel_launcher.py:6: SettingWithCopyWarning: \n",
      "A value is trying to be set on a copy of a slice from a DataFrame\n",
      "\n",
      "See the caveats in the documentation: http://pandas.pydata.org/pandas-docs/stable/indexing.html#indexing-view-versus-copy\n",
      "  \n"
     ]
    }
   ],
   "source": [
    "grouped_titles = df.groupby('title')\n",
    "title_counts = grouped_titles.size().sort_values(ascending=False)\n",
    "\n",
    "condition = lambda x: len(x.index) >1\n",
    "dup_titles_df = grouped_titles.filter(condition)\n",
    "dup_titles_df.sort_values('title',inplace=True)"
   ]
  },
  {
   "cell_type": "code",
   "execution_count": 509,
   "metadata": {
    "collapsed": true
   },
   "outputs": [],
   "source": [
    "dct = {'ids':[1,2,3,4,5,6,7,8,9],'name':['vijay','sujay','vijay','sujay','vijay','sujay','vijay','vijay','sujay'],'sales':[2230,3500,1400,1123,1122,1456,1500,1400,0]}"
   ]
  },
  {
   "cell_type": "code",
   "execution_count": 510,
   "metadata": {},
   "outputs": [
    {
     "data": {
      "text/plain": [
       "{'ids': [1, 2, 3, 4, 5, 6, 7, 8, 9],\n",
       " 'name': ['vijay',\n",
       "  'sujay',\n",
       "  'vijay',\n",
       "  'sujay',\n",
       "  'vijay',\n",
       "  'sujay',\n",
       "  'vijay',\n",
       "  'vijay',\n",
       "  'sujay'],\n",
       " 'sales': [2230, 3500, 1400, 1123, 1122, 1456, 1500, 1400, 0]}"
      ]
     },
     "execution_count": 510,
     "metadata": {},
     "output_type": "execute_result"
    }
   ],
   "source": [
    "dct"
   ]
  },
  {
   "cell_type": "code",
   "execution_count": 511,
   "metadata": {
    "collapsed": true
   },
   "outputs": [],
   "source": [
    "pdf =pd.DataFrame.from_records(dct,index='ids')"
   ]
  },
  {
   "cell_type": "code",
   "execution_count": 512,
   "metadata": {},
   "outputs": [
    {
     "data": {
      "text/plain": [
       "name     object\n",
       "sales     int64\n",
       "dtype: object"
      ]
     },
     "execution_count": 512,
     "metadata": {},
     "output_type": "execute_result"
    }
   ],
   "source": [
    "pdf.dtypes"
   ]
  },
  {
   "cell_type": "code",
   "execution_count": 513,
   "metadata": {},
   "outputs": [
    {
     "data": {
      "text/html": [
       "<div>\n",
       "<style>\n",
       "    .dataframe thead tr:only-child th {\n",
       "        text-align: right;\n",
       "    }\n",
       "\n",
       "    .dataframe thead th {\n",
       "        text-align: left;\n",
       "    }\n",
       "\n",
       "    .dataframe tbody tr th {\n",
       "        vertical-align: top;\n",
       "    }\n",
       "</style>\n",
       "<table border=\"1\" class=\"dataframe\">\n",
       "  <thead>\n",
       "    <tr style=\"text-align: right;\">\n",
       "      <th></th>\n",
       "      <th>sales</th>\n",
       "    </tr>\n",
       "    <tr>\n",
       "      <th>name</th>\n",
       "      <th></th>\n",
       "    </tr>\n",
       "  </thead>\n",
       "  <tbody>\n",
       "    <tr>\n",
       "      <th>sujay</th>\n",
       "      <td>0</td>\n",
       "    </tr>\n",
       "    <tr>\n",
       "      <th>vijay</th>\n",
       "      <td>1122</td>\n",
       "    </tr>\n",
       "  </tbody>\n",
       "</table>\n",
       "</div>"
      ],
      "text/plain": [
       "       sales\n",
       "name        \n",
       "sujay      0\n",
       "vijay   1122"
      ]
     },
     "execution_count": 513,
     "metadata": {},
     "output_type": "execute_result"
    }
   ],
   "source": [
    "pdf.groupby('name').agg(np.min)"
   ]
  },
  {
   "cell_type": "code",
   "execution_count": 372,
   "metadata": {
    "collapsed": true
   },
   "outputs": [],
   "source": [
    "groupby_sales = pdf.groupby('name')['sales']"
   ]
  },
  {
   "cell_type": "code",
   "execution_count": 514,
   "metadata": {},
   "outputs": [
    {
     "data": {
      "text/plain": [
       "ids\n",
       "1    2230\n",
       "2    3500\n",
       "Name: sales, dtype: int64"
      ]
     },
     "execution_count": 514,
     "metadata": {},
     "output_type": "execute_result"
    }
   ],
   "source": [
    "groupby_sales.head(1)"
   ]
  },
  {
   "cell_type": "code",
   "execution_count": 374,
   "metadata": {
    "collapsed": true
   },
   "outputs": [],
   "source": [
    "pdf.loc[:,'sales'] = groupby_sales.transform(fill_values)\n",
    "#pdf.loc[:,'sales'] = groupby_sales.fillna(100)\n",
    "#pdf.loc[:,'sales']"
   ]
  },
  {
   "cell_type": "code",
   "execution_count": 515,
   "metadata": {},
   "outputs": [
    {
     "data": {
      "text/html": [
       "<div>\n",
       "<style>\n",
       "    .dataframe thead tr:only-child th {\n",
       "        text-align: right;\n",
       "    }\n",
       "\n",
       "    .dataframe thead th {\n",
       "        text-align: left;\n",
       "    }\n",
       "\n",
       "    .dataframe tbody tr th {\n",
       "        vertical-align: top;\n",
       "    }\n",
       "</style>\n",
       "<table border=\"1\" class=\"dataframe\">\n",
       "  <thead>\n",
       "    <tr style=\"text-align: right;\">\n",
       "      <th></th>\n",
       "      <th>name</th>\n",
       "      <th>sales</th>\n",
       "    </tr>\n",
       "    <tr>\n",
       "      <th>ids</th>\n",
       "      <th></th>\n",
       "      <th></th>\n",
       "    </tr>\n",
       "  </thead>\n",
       "  <tbody>\n",
       "    <tr>\n",
       "      <th>1</th>\n",
       "      <td>vijay</td>\n",
       "      <td>2230</td>\n",
       "    </tr>\n",
       "    <tr>\n",
       "      <th>2</th>\n",
       "      <td>sujay</td>\n",
       "      <td>3500</td>\n",
       "    </tr>\n",
       "    <tr>\n",
       "      <th>3</th>\n",
       "      <td>vijay</td>\n",
       "      <td>1400</td>\n",
       "    </tr>\n",
       "    <tr>\n",
       "      <th>4</th>\n",
       "      <td>sujay</td>\n",
       "      <td>1123</td>\n",
       "    </tr>\n",
       "    <tr>\n",
       "      <th>5</th>\n",
       "      <td>vijay</td>\n",
       "      <td>1122</td>\n",
       "    </tr>\n",
       "    <tr>\n",
       "      <th>6</th>\n",
       "      <td>sujay</td>\n",
       "      <td>1456</td>\n",
       "    </tr>\n",
       "    <tr>\n",
       "      <th>7</th>\n",
       "      <td>vijay</td>\n",
       "      <td>1500</td>\n",
       "    </tr>\n",
       "    <tr>\n",
       "      <th>8</th>\n",
       "      <td>vijay</td>\n",
       "      <td>1400</td>\n",
       "    </tr>\n",
       "    <tr>\n",
       "      <th>9</th>\n",
       "      <td>sujay</td>\n",
       "      <td>0</td>\n",
       "    </tr>\n",
       "  </tbody>\n",
       "</table>\n",
       "</div>"
      ],
      "text/plain": [
       "      name  sales\n",
       "ids              \n",
       "1    vijay   2230\n",
       "2    sujay   3500\n",
       "3    vijay   1400\n",
       "4    sujay   1123\n",
       "5    vijay   1122\n",
       "6    sujay   1456\n",
       "7    vijay   1500\n",
       "8    vijay   1400\n",
       "9    sujay      0"
      ]
     },
     "execution_count": 515,
     "metadata": {},
     "output_type": "execute_result"
    }
   ],
   "source": [
    "pdf"
   ]
  },
  {
   "cell_type": "code",
   "execution_count": 376,
   "metadata": {
    "collapsed": true
   },
   "outputs": [],
   "source": [
    "def fill_values(series):\n",
    "    values_counted = series.value_counts()\n",
    "    if values_counted.empty:\n",
    "        return series\n",
    "    most_frequent = values_counted.index[0]\n",
    "    new_medium = series.fillna(most_frequent)\n",
    "    return new_medium"
   ]
  },
  {
   "cell_type": "code",
   "execution_count": 377,
   "metadata": {
    "collapsed": true
   },
   "outputs": [],
   "source": [
    "def transform_df(source_df):\n",
    "    group_dfs= []\n",
    "    for name,group_df in source_df.groupby('name'):\n",
    "        filled_df = group_df.copy()\n",
    "        filled_df.loc[:'sales'] = fill_values(group_df['sales'])\n",
    "        group_dfs.append(filled_df)\n",
    "        \n",
    "        new_df = pd.concat(group_dfs)\n",
    "        \n",
    "        return new_df"
   ]
  },
  {
   "cell_type": "code",
   "execution_count": 378,
   "metadata": {},
   "outputs": [
    {
     "ename": "ValueError",
     "evalue": "Must have equal len keys and value when setting with an iterable",
     "output_type": "error",
     "traceback": [
      "\u001b[0;31m---------------------------------------------------------------------------\u001b[0m",
      "\u001b[0;31mValueError\u001b[0m                                Traceback (most recent call last)",
      "\u001b[0;32m<ipython-input-378-1e55ec57fa55>\u001b[0m in \u001b[0;36m<module>\u001b[0;34m()\u001b[0m\n\u001b[0;32m----> 1\u001b[0;31m \u001b[0mfilled_df\u001b[0m \u001b[0;34m=\u001b[0m \u001b[0mtransform_df\u001b[0m\u001b[0;34m(\u001b[0m\u001b[0mpdf\u001b[0m\u001b[0;34m)\u001b[0m\u001b[0;34m\u001b[0m\u001b[0m\n\u001b[0m\u001b[1;32m      2\u001b[0m \u001b[0;31m#pdf\u001b[0m\u001b[0;34m\u001b[0m\u001b[0;34m\u001b[0m\u001b[0m\n",
      "\u001b[0;32m<ipython-input-377-911de5ac85b4>\u001b[0m in \u001b[0;36mtransform_df\u001b[0;34m(source_df)\u001b[0m\n\u001b[1;32m      3\u001b[0m     \u001b[0;32mfor\u001b[0m \u001b[0mname\u001b[0m\u001b[0;34m,\u001b[0m\u001b[0mgroup_df\u001b[0m \u001b[0;32min\u001b[0m \u001b[0msource_df\u001b[0m\u001b[0;34m.\u001b[0m\u001b[0mgroupby\u001b[0m\u001b[0;34m(\u001b[0m\u001b[0;34m'name'\u001b[0m\u001b[0;34m)\u001b[0m\u001b[0;34m:\u001b[0m\u001b[0;34m\u001b[0m\u001b[0m\n\u001b[1;32m      4\u001b[0m         \u001b[0mfilled_df\u001b[0m \u001b[0;34m=\u001b[0m \u001b[0mgroup_df\u001b[0m\u001b[0;34m.\u001b[0m\u001b[0mcopy\u001b[0m\u001b[0;34m(\u001b[0m\u001b[0;34m)\u001b[0m\u001b[0;34m\u001b[0m\u001b[0m\n\u001b[0;32m----> 5\u001b[0;31m         \u001b[0mfilled_df\u001b[0m\u001b[0;34m.\u001b[0m\u001b[0mloc\u001b[0m\u001b[0;34m[\u001b[0m\u001b[0;34m:\u001b[0m\u001b[0;34m'sales'\u001b[0m\u001b[0;34m]\u001b[0m \u001b[0;34m=\u001b[0m \u001b[0mfill_values\u001b[0m\u001b[0;34m(\u001b[0m\u001b[0mgroup_df\u001b[0m\u001b[0;34m[\u001b[0m\u001b[0;34m'sales'\u001b[0m\u001b[0;34m]\u001b[0m\u001b[0;34m)\u001b[0m\u001b[0;34m\u001b[0m\u001b[0m\n\u001b[0m\u001b[1;32m      6\u001b[0m         \u001b[0mgroup_dfs\u001b[0m\u001b[0;34m.\u001b[0m\u001b[0mappend\u001b[0m\u001b[0;34m(\u001b[0m\u001b[0mfilled_df\u001b[0m\u001b[0;34m)\u001b[0m\u001b[0;34m\u001b[0m\u001b[0m\n\u001b[1;32m      7\u001b[0m \u001b[0;34m\u001b[0m\u001b[0m\n",
      "\u001b[0;32m/home/vijay/anaconda2/envs/py35/lib/python3.5/site-packages/pandas/core/indexing.py\u001b[0m in \u001b[0;36m__setitem__\u001b[0;34m(self, key, value)\u001b[0m\n\u001b[1;32m    177\u001b[0m             \u001b[0mkey\u001b[0m \u001b[0;34m=\u001b[0m \u001b[0mcom\u001b[0m\u001b[0;34m.\u001b[0m\u001b[0m_apply_if_callable\u001b[0m\u001b[0;34m(\u001b[0m\u001b[0mkey\u001b[0m\u001b[0;34m,\u001b[0m \u001b[0mself\u001b[0m\u001b[0;34m.\u001b[0m\u001b[0mobj\u001b[0m\u001b[0;34m)\u001b[0m\u001b[0;34m\u001b[0m\u001b[0m\n\u001b[1;32m    178\u001b[0m         \u001b[0mindexer\u001b[0m \u001b[0;34m=\u001b[0m \u001b[0mself\u001b[0m\u001b[0;34m.\u001b[0m\u001b[0m_get_setitem_indexer\u001b[0m\u001b[0;34m(\u001b[0m\u001b[0mkey\u001b[0m\u001b[0;34m)\u001b[0m\u001b[0;34m\u001b[0m\u001b[0m\n\u001b[0;32m--> 179\u001b[0;31m         \u001b[0mself\u001b[0m\u001b[0;34m.\u001b[0m\u001b[0m_setitem_with_indexer\u001b[0m\u001b[0;34m(\u001b[0m\u001b[0mindexer\u001b[0m\u001b[0;34m,\u001b[0m \u001b[0mvalue\u001b[0m\u001b[0;34m)\u001b[0m\u001b[0;34m\u001b[0m\u001b[0m\n\u001b[0m\u001b[1;32m    180\u001b[0m \u001b[0;34m\u001b[0m\u001b[0m\n\u001b[1;32m    181\u001b[0m     \u001b[0;32mdef\u001b[0m \u001b[0m_has_valid_type\u001b[0m\u001b[0;34m(\u001b[0m\u001b[0mself\u001b[0m\u001b[0;34m,\u001b[0m \u001b[0mk\u001b[0m\u001b[0;34m,\u001b[0m \u001b[0maxis\u001b[0m\u001b[0;34m)\u001b[0m\u001b[0;34m:\u001b[0m\u001b[0;34m\u001b[0m\u001b[0m\n",
      "\u001b[0;32m/home/vijay/anaconda2/envs/py35/lib/python3.5/site-packages/pandas/core/indexing.py\u001b[0m in \u001b[0;36m_setitem_with_indexer\u001b[0;34m(self, indexer, value)\u001b[0m\n\u001b[1;32m    577\u001b[0m \u001b[0;34m\u001b[0m\u001b[0m\n\u001b[1;32m    578\u001b[0m                     \u001b[0;32mif\u001b[0m \u001b[0mlen\u001b[0m\u001b[0;34m(\u001b[0m\u001b[0mlabels\u001b[0m\u001b[0;34m)\u001b[0m \u001b[0;34m!=\u001b[0m \u001b[0mlen\u001b[0m\u001b[0;34m(\u001b[0m\u001b[0mvalue\u001b[0m\u001b[0;34m)\u001b[0m\u001b[0;34m:\u001b[0m\u001b[0;34m\u001b[0m\u001b[0m\n\u001b[0;32m--> 579\u001b[0;31m                         raise ValueError('Must have equal len keys and value '\n\u001b[0m\u001b[1;32m    580\u001b[0m                                          'when setting with an iterable')\n\u001b[1;32m    581\u001b[0m \u001b[0;34m\u001b[0m\u001b[0m\n",
      "\u001b[0;31mValueError\u001b[0m: Must have equal len keys and value when setting with an iterable"
     ]
    }
   ],
   "source": [
    "filled_df = transform_df(pdf)\n",
    "#pdf"
   ]
  },
  {
   "cell_type": "code",
   "execution_count": 379,
   "metadata": {},
   "outputs": [
    {
     "data": {
      "text/html": [
       "<div>\n",
       "<style>\n",
       "    .dataframe thead tr:only-child th {\n",
       "        text-align: right;\n",
       "    }\n",
       "\n",
       "    .dataframe thead th {\n",
       "        text-align: left;\n",
       "    }\n",
       "\n",
       "    .dataframe tbody tr th {\n",
       "        vertical-align: top;\n",
       "    }\n",
       "</style>\n",
       "<table border=\"1\" class=\"dataframe\">\n",
       "  <thead>\n",
       "    <tr style=\"text-align: right;\">\n",
       "      <th></th>\n",
       "      <th>sales</th>\n",
       "    </tr>\n",
       "    <tr>\n",
       "      <th>name</th>\n",
       "      <th></th>\n",
       "    </tr>\n",
       "  </thead>\n",
       "  <tbody>\n",
       "    <tr>\n",
       "      <th>sujay</th>\n",
       "      <td>6079</td>\n",
       "    </tr>\n",
       "    <tr>\n",
       "      <th>vijay</th>\n",
       "      <td>7652</td>\n",
       "    </tr>\n",
       "  </tbody>\n",
       "</table>\n",
       "</div>"
      ],
      "text/plain": [
       "       sales\n",
       "name        \n",
       "sujay   6079\n",
       "vijay   7652"
      ]
     },
     "execution_count": 379,
     "metadata": {},
     "output_type": "execute_result"
    }
   ],
   "source": [
    "pdf.groupby('name').agg('sum')"
   ]
  },
  {
   "cell_type": "code",
   "execution_count": 435,
   "metadata": {},
   "outputs": [
    {
     "data": {
      "text/plain": [
       "ids\n",
       "1       2230\n",
       "2       3500\n",
       "3       1400\n",
       "4       1123\n",
       "5       1122\n",
       "6       1456\n",
       "7       1500\n",
       "8       1400\n",
       "9          0\n",
       "2230    4460\n",
       "3500    7000\n",
       "1400    2800\n",
       "1123    2246\n",
       "1122    2244\n",
       "1456    2912\n",
       "1500    3000\n",
       "0          0\n",
       "Name: sales, dtype: int64"
      ]
     },
     "execution_count": 435,
     "metadata": {},
     "output_type": "execute_result"
    }
   ],
   "source": [
    "\n",
    "pdf['sales']"
   ]
  },
  {
   "cell_type": "code",
   "execution_count": 441,
   "metadata": {},
   "outputs": [
    {
     "name": "stdout",
     "output_type": "stream",
     "text": [
      "('sujay',       name  sales\n",
      "ids              \n",
      "2    sujay   3500\n",
      "4    sujay   1123\n",
      "6    sujay   1456\n",
      "9    sujay      0)\n",
      "('vijay',       name  sales\n",
      "ids              \n",
      "1    vijay   2230\n",
      "3    vijay   1400\n",
      "5    vijay   1122\n",
      "7    vijay   1500\n",
      "8    vijay   1400)\n"
     ]
    }
   ],
   "source": [
    "pdf2 = pdf.groupby('name')\n",
    "for name in pdf2:\n",
    "    print (name)"
   ]
  },
  {
   "cell_type": "code",
   "execution_count": 516,
   "metadata": {
    "collapsed": true
   },
   "outputs": [],
   "source": [
    "sls_srs=pdf['sales'] #1"
   ]
  },
  {
   "cell_type": "code",
   "execution_count": 471,
   "metadata": {},
   "outputs": [
    {
     "data": {
      "text/plain": [
       "pandas.core.series.Series"
      ]
     },
     "execution_count": 471,
     "metadata": {},
     "output_type": "execute_result"
    }
   ],
   "source": [
    "type(sls_srs)"
   ]
  },
  {
   "cell_type": "code",
   "execution_count": 517,
   "metadata": {
    "collapsed": true
   },
   "outputs": [],
   "source": [
    "def blowup_series(sls_srs): #2\n",
    "    lst = []\n",
    "    j=0\n",
    "    for i in sls_srs:\n",
    "        lst.append( i*2)\n",
    "        sls_srs2 = pd.Series(lst)\n",
    "    return sls_srs2\n",
    "    \n",
    "     "
   ]
  },
  {
   "cell_type": "code",
   "execution_count": 518,
   "metadata": {
    "collapsed": true
   },
   "outputs": [],
   "source": [
    "sls_srs2 =blowup_series(sls_srs) #3"
   ]
  },
  {
   "cell_type": "code",
   "execution_count": 519,
   "metadata": {},
   "outputs": [
    {
     "data": {
      "text/plain": [
       "0    4460\n",
       "1    7000\n",
       "2    2800\n",
       "3    2246\n",
       "4    2244\n",
       "5    2912\n",
       "6    3000\n",
       "7    2800\n",
       "8       0\n",
       "dtype: int64"
      ]
     },
     "execution_count": 519,
     "metadata": {},
     "output_type": "execute_result"
    }
   ],
   "source": [
    "sls_srs2"
   ]
  },
  {
   "cell_type": "code",
   "execution_count": 496,
   "metadata": {
    "collapsed": true
   },
   "outputs": [],
   "source": [
    "sls2=pd.DataFrame(sls_srs2,columns=['sales2'])"
   ]
  },
  {
   "cell_type": "code",
   "execution_count": 497,
   "metadata": {},
   "outputs": [
    {
     "data": {
      "text/html": [
       "<div>\n",
       "<style>\n",
       "    .dataframe thead tr:only-child th {\n",
       "        text-align: right;\n",
       "    }\n",
       "\n",
       "    .dataframe thead th {\n",
       "        text-align: left;\n",
       "    }\n",
       "\n",
       "    .dataframe tbody tr th {\n",
       "        vertical-align: top;\n",
       "    }\n",
       "</style>\n",
       "<table border=\"1\" class=\"dataframe\">\n",
       "  <thead>\n",
       "    <tr style=\"text-align: right;\">\n",
       "      <th></th>\n",
       "      <th>sales2</th>\n",
       "    </tr>\n",
       "  </thead>\n",
       "  <tbody>\n",
       "    <tr>\n",
       "      <th>0</th>\n",
       "      <td>4460</td>\n",
       "    </tr>\n",
       "    <tr>\n",
       "      <th>1</th>\n",
       "      <td>7000</td>\n",
       "    </tr>\n",
       "    <tr>\n",
       "      <th>2</th>\n",
       "      <td>2800</td>\n",
       "    </tr>\n",
       "    <tr>\n",
       "      <th>3</th>\n",
       "      <td>2246</td>\n",
       "    </tr>\n",
       "    <tr>\n",
       "      <th>4</th>\n",
       "      <td>2244</td>\n",
       "    </tr>\n",
       "    <tr>\n",
       "      <th>5</th>\n",
       "      <td>2912</td>\n",
       "    </tr>\n",
       "    <tr>\n",
       "      <th>6</th>\n",
       "      <td>3000</td>\n",
       "    </tr>\n",
       "    <tr>\n",
       "      <th>7</th>\n",
       "      <td>2800</td>\n",
       "    </tr>\n",
       "    <tr>\n",
       "      <th>8</th>\n",
       "      <td>0</td>\n",
       "    </tr>\n",
       "  </tbody>\n",
       "</table>\n",
       "</div>"
      ],
      "text/plain": [
       "   sales2\n",
       "0    4460\n",
       "1    7000\n",
       "2    2800\n",
       "3    2246\n",
       "4    2244\n",
       "5    2912\n",
       "6    3000\n",
       "7    2800\n",
       "8       0"
      ]
     },
     "execution_count": 497,
     "metadata": {},
     "output_type": "execute_result"
    }
   ],
   "source": [
    "sls2"
   ]
  },
  {
   "cell_type": "code",
   "execution_count": 526,
   "metadata": {
    "collapsed": true
   },
   "outputs": [],
   "source": [
    "dct = {'ids':[1,2,3,4,5,6,7,8,9],'name':['vijay','sujay','vijay','sujay','vijay','sujay','vijay','vijay','sujay'],'sales':[2230,3500,1400,1123,1122,1456,1500,1400,0]}\n",
    "pdf =pd.DataFrame.from_records(dct,index='ids')"
   ]
  },
  {
   "cell_type": "code",
   "execution_count": 527,
   "metadata": {
    "collapsed": true
   },
   "outputs": [],
   "source": [
    "sls_srs=pdf['sales'] #1"
   ]
  },
  {
   "cell_type": "code",
   "execution_count": 528,
   "metadata": {
    "collapsed": true
   },
   "outputs": [],
   "source": [
    "def blowup_series(sls_srs): #2\n",
    "    lst = []\n",
    "    j=0\n",
    "    for i in sls_srs:\n",
    "        lst.append( i*2)\n",
    "        sls_srs2 = pd.Series(lst)\n",
    "    return sls_srs2\n"
   ]
  },
  {
   "cell_type": "code",
   "execution_count": 529,
   "metadata": {
    "collapsed": true
   },
   "outputs": [],
   "source": [
    "sls_srs2 =blowup_series(sls_srs) #3"
   ]
  },
  {
   "cell_type": "code",
   "execution_count": 530,
   "metadata": {
    "collapsed": true
   },
   "outputs": [],
   "source": [
    "pdf['sales2'] = sls_srs2  #4"
   ]
  },
  {
   "cell_type": "code",
   "execution_count": 531,
   "metadata": {},
   "outputs": [
    {
     "data": {
      "text/html": [
       "<div>\n",
       "<style>\n",
       "    .dataframe thead tr:only-child th {\n",
       "        text-align: right;\n",
       "    }\n",
       "\n",
       "    .dataframe thead th {\n",
       "        text-align: left;\n",
       "    }\n",
       "\n",
       "    .dataframe tbody tr th {\n",
       "        vertical-align: top;\n",
       "    }\n",
       "</style>\n",
       "<table border=\"1\" class=\"dataframe\">\n",
       "  <thead>\n",
       "    <tr style=\"text-align: right;\">\n",
       "      <th></th>\n",
       "      <th>name</th>\n",
       "      <th>sales</th>\n",
       "      <th>sales2</th>\n",
       "    </tr>\n",
       "    <tr>\n",
       "      <th>ids</th>\n",
       "      <th></th>\n",
       "      <th></th>\n",
       "      <th></th>\n",
       "    </tr>\n",
       "  </thead>\n",
       "  <tbody>\n",
       "    <tr>\n",
       "      <th>1</th>\n",
       "      <td>vijay</td>\n",
       "      <td>2230</td>\n",
       "      <td>7000.0</td>\n",
       "    </tr>\n",
       "    <tr>\n",
       "      <th>2</th>\n",
       "      <td>sujay</td>\n",
       "      <td>3500</td>\n",
       "      <td>2800.0</td>\n",
       "    </tr>\n",
       "    <tr>\n",
       "      <th>3</th>\n",
       "      <td>vijay</td>\n",
       "      <td>1400</td>\n",
       "      <td>2246.0</td>\n",
       "    </tr>\n",
       "    <tr>\n",
       "      <th>4</th>\n",
       "      <td>sujay</td>\n",
       "      <td>1123</td>\n",
       "      <td>2244.0</td>\n",
       "    </tr>\n",
       "    <tr>\n",
       "      <th>5</th>\n",
       "      <td>vijay</td>\n",
       "      <td>1122</td>\n",
       "      <td>2912.0</td>\n",
       "    </tr>\n",
       "    <tr>\n",
       "      <th>6</th>\n",
       "      <td>sujay</td>\n",
       "      <td>1456</td>\n",
       "      <td>3000.0</td>\n",
       "    </tr>\n",
       "    <tr>\n",
       "      <th>7</th>\n",
       "      <td>vijay</td>\n",
       "      <td>1500</td>\n",
       "      <td>2800.0</td>\n",
       "    </tr>\n",
       "    <tr>\n",
       "      <th>8</th>\n",
       "      <td>vijay</td>\n",
       "      <td>1400</td>\n",
       "      <td>0.0</td>\n",
       "    </tr>\n",
       "    <tr>\n",
       "      <th>9</th>\n",
       "      <td>sujay</td>\n",
       "      <td>0</td>\n",
       "      <td>NaN</td>\n",
       "    </tr>\n",
       "  </tbody>\n",
       "</table>\n",
       "</div>"
      ],
      "text/plain": [
       "      name  sales  sales2\n",
       "ids                      \n",
       "1    vijay   2230  7000.0\n",
       "2    sujay   3500  2800.0\n",
       "3    vijay   1400  2246.0\n",
       "4    sujay   1123  2244.0\n",
       "5    vijay   1122  2912.0\n",
       "6    sujay   1456  3000.0\n",
       "7    vijay   1500  2800.0\n",
       "8    vijay   1400     0.0\n",
       "9    sujay      0     NaN"
      ]
     },
     "execution_count": 531,
     "metadata": {},
     "output_type": "execute_result"
    }
   ],
   "source": [
    "pdf"
   ]
  },
  {
   "cell_type": "code",
   "execution_count": 533,
   "metadata": {},
   "outputs": [
    {
     "data": {
      "text/html": [
       "<div>\n",
       "<style>\n",
       "    .dataframe thead tr:only-child th {\n",
       "        text-align: right;\n",
       "    }\n",
       "\n",
       "    .dataframe thead th {\n",
       "        text-align: left;\n",
       "    }\n",
       "\n",
       "    .dataframe tbody tr th {\n",
       "        vertical-align: top;\n",
       "    }\n",
       "</style>\n",
       "<table border=\"1\" class=\"dataframe\">\n",
       "  <thead>\n",
       "    <tr style=\"text-align: right;\">\n",
       "      <th></th>\n",
       "      <th>name</th>\n",
       "      <th>sales</th>\n",
       "      <th>sales2</th>\n",
       "    </tr>\n",
       "    <tr>\n",
       "      <th>ids</th>\n",
       "      <th></th>\n",
       "      <th></th>\n",
       "      <th></th>\n",
       "    </tr>\n",
       "  </thead>\n",
       "  <tbody>\n",
       "    <tr>\n",
       "      <th>1</th>\n",
       "      <td>vijay</td>\n",
       "      <td>2230</td>\n",
       "      <td>7000.0</td>\n",
       "    </tr>\n",
       "    <tr>\n",
       "      <th>2</th>\n",
       "      <td>sujay</td>\n",
       "      <td>3500</td>\n",
       "      <td>2800.0</td>\n",
       "    </tr>\n",
       "    <tr>\n",
       "      <th>3</th>\n",
       "      <td>vijay</td>\n",
       "      <td>1400</td>\n",
       "      <td>2246.0</td>\n",
       "    </tr>\n",
       "    <tr>\n",
       "      <th>4</th>\n",
       "      <td>sujay</td>\n",
       "      <td>1123</td>\n",
       "      <td>2244.0</td>\n",
       "    </tr>\n",
       "    <tr>\n",
       "      <th>5</th>\n",
       "      <td>vijay</td>\n",
       "      <td>1122</td>\n",
       "      <td>2912.0</td>\n",
       "    </tr>\n",
       "    <tr>\n",
       "      <th>6</th>\n",
       "      <td>sujay</td>\n",
       "      <td>1456</td>\n",
       "      <td>3000.0</td>\n",
       "    </tr>\n",
       "    <tr>\n",
       "      <th>7</th>\n",
       "      <td>vijay</td>\n",
       "      <td>1500</td>\n",
       "      <td>2800.0</td>\n",
       "    </tr>\n",
       "    <tr>\n",
       "      <th>8</th>\n",
       "      <td>vijay</td>\n",
       "      <td>1400</td>\n",
       "      <td>0.0</td>\n",
       "    </tr>\n",
       "  </tbody>\n",
       "</table>\n",
       "</div>"
      ],
      "text/plain": [
       "      name  sales  sales2\n",
       "ids                      \n",
       "1    vijay   2230  7000.0\n",
       "2    sujay   3500  2800.0\n",
       "3    vijay   1400  2246.0\n",
       "4    sujay   1123  2244.0\n",
       "5    vijay   1122  2912.0\n",
       "6    sujay   1456  3000.0\n",
       "7    vijay   1500  2800.0\n",
       "8    vijay   1400     0.0"
      ]
     },
     "execution_count": 533,
     "metadata": {},
     "output_type": "execute_result"
    }
   ],
   "source": [
    "pdf.dropna(axis=0, how='any', thresh=None, subset=['sales2'], inplace=False) #5"
   ]
  },
  {
   "cell_type": "code",
   "execution_count": 539,
   "metadata": {
    "collapsed": true
   },
   "outputs": [],
   "source": [
    "pdf['sales3'] = pdf['sales']*2"
   ]
  },
  {
   "cell_type": "code",
   "execution_count": 542,
   "metadata": {},
   "outputs": [
    {
     "data": {
      "text/html": [
       "<div>\n",
       "<style>\n",
       "    .dataframe thead tr:only-child th {\n",
       "        text-align: right;\n",
       "    }\n",
       "\n",
       "    .dataframe thead th {\n",
       "        text-align: left;\n",
       "    }\n",
       "\n",
       "    .dataframe tbody tr th {\n",
       "        vertical-align: top;\n",
       "    }\n",
       "</style>\n",
       "<table border=\"1\" class=\"dataframe\">\n",
       "  <thead>\n",
       "    <tr style=\"text-align: right;\">\n",
       "      <th></th>\n",
       "      <th>name</th>\n",
       "      <th>sales</th>\n",
       "      <th>sales2</th>\n",
       "      <th>sales3</th>\n",
       "    </tr>\n",
       "    <tr>\n",
       "      <th>ids</th>\n",
       "      <th></th>\n",
       "      <th></th>\n",
       "      <th></th>\n",
       "      <th></th>\n",
       "    </tr>\n",
       "  </thead>\n",
       "  <tbody>\n",
       "    <tr>\n",
       "      <th>1</th>\n",
       "      <td>vijay</td>\n",
       "      <td>2230</td>\n",
       "      <td>7000.0</td>\n",
       "      <td>4460</td>\n",
       "    </tr>\n",
       "    <tr>\n",
       "      <th>2</th>\n",
       "      <td>sujay</td>\n",
       "      <td>3500</td>\n",
       "      <td>2800.0</td>\n",
       "      <td>7000</td>\n",
       "    </tr>\n",
       "    <tr>\n",
       "      <th>3</th>\n",
       "      <td>vijay</td>\n",
       "      <td>1400</td>\n",
       "      <td>2246.0</td>\n",
       "      <td>2800</td>\n",
       "    </tr>\n",
       "    <tr>\n",
       "      <th>4</th>\n",
       "      <td>sujay</td>\n",
       "      <td>1123</td>\n",
       "      <td>2244.0</td>\n",
       "      <td>2246</td>\n",
       "    </tr>\n",
       "    <tr>\n",
       "      <th>5</th>\n",
       "      <td>vijay</td>\n",
       "      <td>1122</td>\n",
       "      <td>2912.0</td>\n",
       "      <td>2244</td>\n",
       "    </tr>\n",
       "    <tr>\n",
       "      <th>6</th>\n",
       "      <td>sujay</td>\n",
       "      <td>1456</td>\n",
       "      <td>3000.0</td>\n",
       "      <td>2912</td>\n",
       "    </tr>\n",
       "    <tr>\n",
       "      <th>7</th>\n",
       "      <td>vijay</td>\n",
       "      <td>1500</td>\n",
       "      <td>2800.0</td>\n",
       "      <td>3000</td>\n",
       "    </tr>\n",
       "    <tr>\n",
       "      <th>8</th>\n",
       "      <td>vijay</td>\n",
       "      <td>1400</td>\n",
       "      <td>0.0</td>\n",
       "      <td>2800</td>\n",
       "    </tr>\n",
       "  </tbody>\n",
       "</table>\n",
       "</div>"
      ],
      "text/plain": [
       "      name  sales  sales2  sales3\n",
       "ids                              \n",
       "1    vijay   2230  7000.0    4460\n",
       "2    sujay   3500  2800.0    7000\n",
       "3    vijay   1400  2246.0    2800\n",
       "4    sujay   1123  2244.0    2246\n",
       "5    vijay   1122  2912.0    2244\n",
       "6    sujay   1456  3000.0    2912\n",
       "7    vijay   1500  2800.0    3000\n",
       "8    vijay   1400     0.0    2800"
      ]
     },
     "execution_count": 542,
     "metadata": {},
     "output_type": "execute_result"
    }
   ],
   "source": [
    "pdf.dropna()"
   ]
  },
  {
   "cell_type": "code",
   "execution_count": 546,
   "metadata": {},
   "outputs": [
    {
     "data": {
      "text/plain": [
       "ids\n",
       "1     True\n",
       "2     True\n",
       "3    False\n",
       "4    False\n",
       "5    False\n",
       "6    False\n",
       "7    False\n",
       "8    False\n",
       "9    False\n",
       "Name: sales3, dtype: bool"
      ]
     },
     "execution_count": 546,
     "metadata": {},
     "output_type": "execute_result"
    }
   ],
   "source": [
    "(pdf['sales3']>3000)"
   ]
  },
  {
   "cell_type": "code",
   "execution_count": 552,
   "metadata": {},
   "outputs": [
    {
     "data": {
      "text/html": [
       "<div>\n",
       "<style>\n",
       "    .dataframe thead tr:only-child th {\n",
       "        text-align: right;\n",
       "    }\n",
       "\n",
       "    .dataframe thead th {\n",
       "        text-align: left;\n",
       "    }\n",
       "\n",
       "    .dataframe tbody tr th {\n",
       "        vertical-align: top;\n",
       "    }\n",
       "</style>\n",
       "<table border=\"1\" class=\"dataframe\">\n",
       "  <thead>\n",
       "    <tr style=\"text-align: right;\">\n",
       "      <th></th>\n",
       "      <th>name</th>\n",
       "      <th>sales</th>\n",
       "      <th>sales2</th>\n",
       "      <th>sales3</th>\n",
       "    </tr>\n",
       "    <tr>\n",
       "      <th>ids</th>\n",
       "      <th></th>\n",
       "      <th></th>\n",
       "      <th></th>\n",
       "      <th></th>\n",
       "    </tr>\n",
       "  </thead>\n",
       "  <tbody>\n",
       "    <tr>\n",
       "      <th>1</th>\n",
       "      <td>vijay</td>\n",
       "      <td>2230</td>\n",
       "      <td>7000.0</td>\n",
       "      <td>4460</td>\n",
       "    </tr>\n",
       "    <tr>\n",
       "      <th>2</th>\n",
       "      <td>sujay</td>\n",
       "      <td>3500</td>\n",
       "      <td>2800.0</td>\n",
       "      <td>7000</td>\n",
       "    </tr>\n",
       "  </tbody>\n",
       "</table>\n",
       "</div>"
      ],
      "text/plain": [
       "      name  sales  sales2  sales3\n",
       "ids                              \n",
       "1    vijay   2230  7000.0    4460\n",
       "2    sujay   3500  2800.0    7000"
      ]
     },
     "execution_count": 552,
     "metadata": {},
     "output_type": "execute_result"
    }
   ],
   "source": [
    "fltr_cond=pdf['sales3']>3000\n",
    "pdf[fltr_cond]"
   ]
  },
  {
   "cell_type": "code",
   "execution_count": 568,
   "metadata": {},
   "outputs": [
    {
     "name": "stderr",
     "output_type": "stream",
     "text": [
      "/home/vijay/anaconda2/envs/py35/lib/python3.5/site-packages/ipykernel_launcher.py:257: RuntimeWarning: divide by zero encountered in true_divide\n"
     ]
    },
    {
     "name": "stdout",
     "output_type": "stream",
     "text": [
      "The slowest run took 33.53 times longer than the fastest. This could mean that an intermediate result is being cached.\n",
      "1000 loops, best of 3: 159 µs per loop\n"
     ]
    }
   ],
   "source": [
    "#some more operations\n",
    "%timeit np.array(pdf['sales'][0:-1],np.float)/np.array(pdf['sales'][1:],np.float)"
   ]
  },
  {
   "cell_type": "code",
   "execution_count": 570,
   "metadata": {},
   "outputs": [
    {
     "name": "stdout",
     "output_type": "stream",
     "text": [
      "The slowest run took 8.58 times longer than the fastest. This could mean that an intermediate result is being cached.\n",
      "1000 loops, best of 3: 773 µs per loop\n"
     ]
    }
   ],
   "source": [
    "%timeit pdf['sales'][:-1]/pdf['sales'][1:]-1"
   ]
  },
  {
   "cell_type": "code",
   "execution_count": 571,
   "metadata": {},
   "outputs": [
    {
     "data": {
      "text/html": [
       "<div>\n",
       "<style>\n",
       "    .dataframe thead tr:only-child th {\n",
       "        text-align: right;\n",
       "    }\n",
       "\n",
       "    .dataframe thead th {\n",
       "        text-align: left;\n",
       "    }\n",
       "\n",
       "    .dataframe tbody tr th {\n",
       "        vertical-align: top;\n",
       "    }\n",
       "</style>\n",
       "<table border=\"1\" class=\"dataframe\">\n",
       "  <thead>\n",
       "    <tr style=\"text-align: right;\">\n",
       "      <th></th>\n",
       "      <th>name</th>\n",
       "      <th>sales</th>\n",
       "      <th>sales2</th>\n",
       "      <th>sales3</th>\n",
       "    </tr>\n",
       "    <tr>\n",
       "      <th>ids</th>\n",
       "      <th></th>\n",
       "      <th></th>\n",
       "      <th></th>\n",
       "      <th></th>\n",
       "    </tr>\n",
       "  </thead>\n",
       "  <tbody>\n",
       "    <tr>\n",
       "      <th>1</th>\n",
       "      <td>vijay</td>\n",
       "      <td>2230</td>\n",
       "      <td>7000.0</td>\n",
       "      <td>4460</td>\n",
       "    </tr>\n",
       "    <tr>\n",
       "      <th>2</th>\n",
       "      <td>sujay</td>\n",
       "      <td>3500</td>\n",
       "      <td>2800.0</td>\n",
       "      <td>7000</td>\n",
       "    </tr>\n",
       "    <tr>\n",
       "      <th>3</th>\n",
       "      <td>vijay</td>\n",
       "      <td>1400</td>\n",
       "      <td>2246.0</td>\n",
       "      <td>2800</td>\n",
       "    </tr>\n",
       "    <tr>\n",
       "      <th>4</th>\n",
       "      <td>sujay</td>\n",
       "      <td>1123</td>\n",
       "      <td>2244.0</td>\n",
       "      <td>2246</td>\n",
       "    </tr>\n",
       "    <tr>\n",
       "      <th>5</th>\n",
       "      <td>vijay</td>\n",
       "      <td>1122</td>\n",
       "      <td>2912.0</td>\n",
       "      <td>2244</td>\n",
       "    </tr>\n",
       "    <tr>\n",
       "      <th>6</th>\n",
       "      <td>sujay</td>\n",
       "      <td>1456</td>\n",
       "      <td>3000.0</td>\n",
       "      <td>2912</td>\n",
       "    </tr>\n",
       "    <tr>\n",
       "      <th>7</th>\n",
       "      <td>vijay</td>\n",
       "      <td>1500</td>\n",
       "      <td>2800.0</td>\n",
       "      <td>3000</td>\n",
       "    </tr>\n",
       "    <tr>\n",
       "      <th>8</th>\n",
       "      <td>vijay</td>\n",
       "      <td>1400</td>\n",
       "      <td>0.0</td>\n",
       "      <td>2800</td>\n",
       "    </tr>\n",
       "    <tr>\n",
       "      <th>9</th>\n",
       "      <td>sujay</td>\n",
       "      <td>0</td>\n",
       "      <td>NaN</td>\n",
       "      <td>0</td>\n",
       "    </tr>\n",
       "  </tbody>\n",
       "</table>\n",
       "</div>"
      ],
      "text/plain": [
       "      name  sales  sales2  sales3\n",
       "ids                              \n",
       "1    vijay   2230  7000.0    4460\n",
       "2    sujay   3500  2800.0    7000\n",
       "3    vijay   1400  2246.0    2800\n",
       "4    sujay   1123  2244.0    2246\n",
       "5    vijay   1122  2912.0    2244\n",
       "6    sujay   1456  3000.0    2912\n",
       "7    vijay   1500  2800.0    3000\n",
       "8    vijay   1400     0.0    2800\n",
       "9    sujay      0     NaN       0"
      ]
     },
     "execution_count": 571,
     "metadata": {},
     "output_type": "execute_result"
    }
   ],
   "source": [
    "pdf['sales']"
   ]
  },
  {
   "cell_type": "code",
   "execution_count": 576,
   "metadata": {},
   "outputs": [
    {
     "data": {
      "text/html": [
       "<div>\n",
       "<style>\n",
       "    .dataframe thead tr:only-child th {\n",
       "        text-align: right;\n",
       "    }\n",
       "\n",
       "    .dataframe thead th {\n",
       "        text-align: left;\n",
       "    }\n",
       "\n",
       "    .dataframe tbody tr th {\n",
       "        vertical-align: top;\n",
       "    }\n",
       "</style>\n",
       "<table border=\"1\" class=\"dataframe\">\n",
       "  <thead>\n",
       "    <tr style=\"text-align: right;\">\n",
       "      <th></th>\n",
       "      <th>name</th>\n",
       "      <th>sales</th>\n",
       "      <th>sales2</th>\n",
       "      <th>sales3</th>\n",
       "    </tr>\n",
       "    <tr>\n",
       "      <th>ids</th>\n",
       "      <th></th>\n",
       "      <th></th>\n",
       "      <th></th>\n",
       "      <th></th>\n",
       "    </tr>\n",
       "  </thead>\n",
       "  <tbody>\n",
       "    <tr>\n",
       "      <th>1</th>\n",
       "      <td>vijay</td>\n",
       "      <td>2230</td>\n",
       "      <td>7000.0</td>\n",
       "      <td>4460</td>\n",
       "    </tr>\n",
       "    <tr>\n",
       "      <th>2</th>\n",
       "      <td>sujay</td>\n",
       "      <td>3500</td>\n",
       "      <td>2800.0</td>\n",
       "      <td>7000</td>\n",
       "    </tr>\n",
       "    <tr>\n",
       "      <th>3</th>\n",
       "      <td>vijay</td>\n",
       "      <td>1400</td>\n",
       "      <td>2246.0</td>\n",
       "      <td>2800</td>\n",
       "    </tr>\n",
       "    <tr>\n",
       "      <th>4</th>\n",
       "      <td>sujay</td>\n",
       "      <td>1123</td>\n",
       "      <td>2244.0</td>\n",
       "      <td>2246</td>\n",
       "    </tr>\n",
       "    <tr>\n",
       "      <th>5</th>\n",
       "      <td>vijay</td>\n",
       "      <td>1122</td>\n",
       "      <td>2912.0</td>\n",
       "      <td>2244</td>\n",
       "    </tr>\n",
       "    <tr>\n",
       "      <th>6</th>\n",
       "      <td>sujay</td>\n",
       "      <td>1456</td>\n",
       "      <td>3000.0</td>\n",
       "      <td>2912</td>\n",
       "    </tr>\n",
       "    <tr>\n",
       "      <th>7</th>\n",
       "      <td>vijay</td>\n",
       "      <td>1500</td>\n",
       "      <td>2800.0</td>\n",
       "      <td>3000</td>\n",
       "    </tr>\n",
       "    <tr>\n",
       "      <th>8</th>\n",
       "      <td>vijay</td>\n",
       "      <td>1400</td>\n",
       "      <td>0.0</td>\n",
       "      <td>2800</td>\n",
       "    </tr>\n",
       "  </tbody>\n",
       "</table>\n",
       "</div>"
      ],
      "text/plain": [
       "      name  sales  sales2  sales3\n",
       "ids                              \n",
       "1    vijay   2230  7000.0    4460\n",
       "2    sujay   3500  2800.0    7000\n",
       "3    vijay   1400  2246.0    2800\n",
       "4    sujay   1123  2244.0    2246\n",
       "5    vijay   1122  2912.0    2244\n",
       "6    sujay   1456  3000.0    2912\n",
       "7    vijay   1500  2800.0    3000\n",
       "8    vijay   1400     0.0    2800"
      ]
     },
     "execution_count": 576,
     "metadata": {},
     "output_type": "execute_result"
    }
   ],
   "source": [
    "pdf.drop(9) # drops 9th id"
   ]
  },
  {
   "cell_type": "code",
   "execution_count": 580,
   "metadata": {
    "collapsed": true
   },
   "outputs": [],
   "source": [
    "# drop column /variable\n",
    "pdf =pdf.drop('sales3', axis=1)"
   ]
  },
  {
   "cell_type": "code",
   "execution_count": 581,
   "metadata": {},
   "outputs": [
    {
     "data": {
      "text/html": [
       "<div>\n",
       "<style>\n",
       "    .dataframe thead tr:only-child th {\n",
       "        text-align: right;\n",
       "    }\n",
       "\n",
       "    .dataframe thead th {\n",
       "        text-align: left;\n",
       "    }\n",
       "\n",
       "    .dataframe tbody tr th {\n",
       "        vertical-align: top;\n",
       "    }\n",
       "</style>\n",
       "<table border=\"1\" class=\"dataframe\">\n",
       "  <thead>\n",
       "    <tr style=\"text-align: right;\">\n",
       "      <th></th>\n",
       "      <th>name</th>\n",
       "      <th>sales</th>\n",
       "      <th>sales2</th>\n",
       "    </tr>\n",
       "    <tr>\n",
       "      <th>ids</th>\n",
       "      <th></th>\n",
       "      <th></th>\n",
       "      <th></th>\n",
       "    </tr>\n",
       "  </thead>\n",
       "  <tbody>\n",
       "    <tr>\n",
       "      <th>1</th>\n",
       "      <td>vijay</td>\n",
       "      <td>2230</td>\n",
       "      <td>7000.0</td>\n",
       "    </tr>\n",
       "    <tr>\n",
       "      <th>2</th>\n",
       "      <td>sujay</td>\n",
       "      <td>3500</td>\n",
       "      <td>2800.0</td>\n",
       "    </tr>\n",
       "    <tr>\n",
       "      <th>3</th>\n",
       "      <td>vijay</td>\n",
       "      <td>1400</td>\n",
       "      <td>2246.0</td>\n",
       "    </tr>\n",
       "    <tr>\n",
       "      <th>4</th>\n",
       "      <td>sujay</td>\n",
       "      <td>1123</td>\n",
       "      <td>2244.0</td>\n",
       "    </tr>\n",
       "    <tr>\n",
       "      <th>5</th>\n",
       "      <td>vijay</td>\n",
       "      <td>1122</td>\n",
       "      <td>2912.0</td>\n",
       "    </tr>\n",
       "    <tr>\n",
       "      <th>6</th>\n",
       "      <td>sujay</td>\n",
       "      <td>1456</td>\n",
       "      <td>3000.0</td>\n",
       "    </tr>\n",
       "    <tr>\n",
       "      <th>7</th>\n",
       "      <td>vijay</td>\n",
       "      <td>1500</td>\n",
       "      <td>2800.0</td>\n",
       "    </tr>\n",
       "    <tr>\n",
       "      <th>8</th>\n",
       "      <td>vijay</td>\n",
       "      <td>1400</td>\n",
       "      <td>0.0</td>\n",
       "    </tr>\n",
       "    <tr>\n",
       "      <th>9</th>\n",
       "      <td>sujay</td>\n",
       "      <td>0</td>\n",
       "      <td>NaN</td>\n",
       "    </tr>\n",
       "  </tbody>\n",
       "</table>\n",
       "</div>"
      ],
      "text/plain": [
       "      name  sales  sales2\n",
       "ids                      \n",
       "1    vijay   2230  7000.0\n",
       "2    sujay   3500  2800.0\n",
       "3    vijay   1400  2246.0\n",
       "4    sujay   1123  2244.0\n",
       "5    vijay   1122  2912.0\n",
       "6    sujay   1456  3000.0\n",
       "7    vijay   1500  2800.0\n",
       "8    vijay   1400     0.0\n",
       "9    sujay      0     NaN"
      ]
     },
     "execution_count": 581,
     "metadata": {},
     "output_type": "execute_result"
    }
   ],
   "source": [
    "pdf"
   ]
  },
  {
   "cell_type": "code",
   "execution_count": 600,
   "metadata": {},
   "outputs": [
    {
     "name": "stdout",
     "output_type": "stream",
     "text": [
      "vijay,2230\n",
      "vijay,1400\n",
      "vijay,1122\n",
      "vijay,1500\n",
      "vijay,1400\n"
     ]
    }
   ],
   "source": [
    "# iterate over pandas df,avoid\n",
    "for index,row in pdf.iterrows():\n",
    "    if row['name'] == 'vijay':\n",
    "        print(\"{},{}\".format(row['name'], row['sales']))"
   ]
  },
  {
   "cell_type": "code",
   "execution_count": null,
   "metadata": {
    "collapsed": true
   },
   "outputs": [],
   "source": []
  },
  {
   "cell_type": "code",
   "execution_count": null,
   "metadata": {
    "collapsed": true
   },
   "outputs": [],
   "source": []
  }
 ],
 "metadata": {
  "kernelspec": {
   "display_name": "Python 2",
   "language": "python",
   "name": "python2"
  },
  "language_info": {
   "codemirror_mode": {
    "name": "ipython",
    "version": 2
   },
   "file_extension": ".py",
   "mimetype": "text/x-python",
   "name": "python",
   "nbconvert_exporter": "python",
   "pygments_lexer": "ipython2",
   "version": "2.7.13"
  }
 },
 "nbformat": 4,
 "nbformat_minor": 2
}
