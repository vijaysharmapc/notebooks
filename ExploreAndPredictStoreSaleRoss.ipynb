{
 "cells": [
  {
   "cell_type": "code",
   "execution_count": 1,
   "metadata": {
    "collapsed": true
   },
   "outputs": [],
   "source": [
    "import sys\n",
    "from pyspark import SparkContext, SparkConf\n",
    "from pyspark.sql import SQLContext, HiveContext\n",
    "import os\n",
    "from pyspark.sql.functions import *\n",
    "import pyspark.storagelevel \n",
    "import numpy as np\n",
    "import pandas as pd\n",
    "import datetime\n",
    "from pyspark.sql.functions import *\n",
    "from pyspark.sql.types import *\n",
    "import pdb\n",
    "import subprocess # Used for executing linux commands, for writing to teradata\n",
    "import sys\n",
    "\n",
    "from pyspark.sql.types import *\n",
    "from pyspark.sql.functions import col, udf, min, max\n",
    "from datetime import datetime, timedelta\n",
    "conf = SparkConf().setMaster(\"local\").setAppName(\"storeSales\")\n",
    "sc = SparkContext.getOrCreate(conf = conf)\n",
    "sqlContext = SQLContext(sc)\n",
    "hiveContext = HiveContext(sc)"
   ]
  },
  {
   "cell_type": "markdown",
   "metadata": {},
   "source": [
    "## EXPLORING SALES DATA"
   ]
  },
  {
   "cell_type": "code",
   "execution_count": 111,
   "metadata": {
    "collapsed": true
   },
   "outputs": [],
   "source": [
    "# Customise field names\n",
    "from pyspark.sql.types import *\n",
    "fields = StructType([StructField(\"Store\", IntegerType(), True),\n",
    "       StructField(\"DayOfWeek\", IntegerType(), True),\n",
    "       StructField(\"Date\", DateType(), True),\n",
    "       StructField(\"Sales\", IntegerType(), True),\n",
    "       StructField(\"Customers\", IntegerType(), True),\n",
    "       StructField(\"Open\", IntegerType(), True),\n",
    "       StructField(\"Promo\", IntegerType(), True),\n",
    "       StructField(\"StateHoliday\", StringType(), True),\n",
    "       StructField(\"SchoolHoliday\", StringType(), True)])"
   ]
  },
  {
   "cell_type": "code",
   "execution_count": 112,
   "metadata": {
    "collapsed": true
   },
   "outputs": [],
   "source": [
    "retail_df = hiveContext.read.format(\"com.databricks.spark.csv\") \\\n",
    "  .option(\"header\", \"true\") \\\n",
    "  .option(\"inferSchema\", \"true\") \\\n",
    "  .load(\"file:///home/vijay/DATA_SCIENCE/BPF/BPF/data/ROSSMAN/rmsales.csv\",schema=fields)\n",
    "    \n",
    "stores_df = hiveContext.read.format(\"com.databricks.spark.csv\") \\\n",
    "  .option(\"header\", \"true\") \\\n",
    "  .option(\"inferSchema\", \"true\") \\\n",
    "  .load(\"file:///home/vijay/DATA_SCIENCE/BPF/BPF/data/ROSSMAN/store.csv\")"
   ]
  },
  {
   "cell_type": "code",
   "execution_count": 113,
   "metadata": {
    "collapsed": true
   },
   "outputs": [],
   "source": [
    "#retail_df.cache() # I am saying after reading df just keep it in memory, irrespective of what teh dag is"
   ]
  },
  {
   "cell_type": "code",
   "execution_count": 114,
   "metadata": {
    "collapsed": true
   },
   "outputs": [],
   "source": [
    "#stores_df.cache()"
   ]
  },
  {
   "cell_type": "code",
   "execution_count": 25,
   "metadata": {},
   "outputs": [
    {
     "name": "stdout",
     "output_type": "stream",
     "text": [
      "+-----+---------+----------+-----+---------+----+-----+------------+-------------+\n",
      "|Store|DayOfWeek|      Date|Sales|Customers|Open|Promo|StateHoliday|SchoolHoliday|\n",
      "+-----+---------+----------+-----+---------+----+-----+------------+-------------+\n",
      "| 1006|        3|2014-04-02| 6641|      870|   1|    1|           0|            0|\n",
      "| 1007|        3|2014-04-02| 6872|      776|   1|    1|           0|            0|\n",
      "| 1008|        3|2014-04-02| 5945|      793|   1|    1|           0|            0|\n",
      "| 1009|        3|2014-04-02| 4837|      484|   1|    1|           0|            0|\n",
      "| 1010|        3|2014-04-02| 9349|      761|   1|    1|           0|            0|\n",
      "+-----+---------+----------+-----+---------+----+-----+------------+-------------+\n",
      "only showing top 5 rows\n",
      "\n"
     ]
    }
   ],
   "source": [
    "#stores_df.unpersist()\n",
    "#retail_df.unpersist()\n",
    "retail_df.show(5)"
   ]
  },
  {
   "cell_type": "code",
   "execution_count": 26,
   "metadata": {},
   "outputs": [
    {
     "data": {
      "text/plain": [
       "1017209"
      ]
     },
     "execution_count": 26,
     "metadata": {},
     "output_type": "execute_result"
    }
   ],
   "source": [
    "retail_df.count()"
   ]
  },
  {
   "cell_type": "code",
   "execution_count": 27,
   "metadata": {},
   "outputs": [
    {
     "name": "stdout",
     "output_type": "stream",
     "text": [
      "root\n",
      " |-- Store: integer (nullable = true)\n",
      " |-- DayOfWeek: integer (nullable = true)\n",
      " |-- Date: date (nullable = true)\n",
      " |-- Sales: integer (nullable = true)\n",
      " |-- Customers: integer (nullable = true)\n",
      " |-- Open: integer (nullable = true)\n",
      " |-- Promo: integer (nullable = true)\n",
      " |-- StateHoliday: string (nullable = true)\n",
      " |-- SchoolHoliday: string (nullable = true)\n",
      "\n"
     ]
    }
   ],
   "source": [
    "retail_df.printSchema()"
   ]
  },
  {
   "cell_type": "code",
   "execution_count": 30,
   "metadata": {},
   "outputs": [
    {
     "name": "stdout",
     "output_type": "stream",
     "text": [
      "+-----+-----+---------+\n",
      "|Store|Sales|Customers|\n",
      "+-----+-----+---------+\n",
      "| 1006| 6641|      870|\n",
      "| 1007| 6872|      776|\n",
      "| 1008| 5945|      793|\n",
      "| 1009| 4837|      484|\n",
      "| 1010| 9349|      761|\n",
      "+-----+-----+---------+\n",
      "only showing top 5 rows\n",
      "\n"
     ]
    }
   ],
   "source": [
    "sales_custs_df = retail_df.select( \"Store\", \"Sales\", \"Customers\" )\n",
    "sales_custs_df.show(5)"
   ]
  },
  {
   "cell_type": "code",
   "execution_count": 33,
   "metadata": {},
   "outputs": [
    {
     "name": "stdout",
     "output_type": "stream",
     "text": [
      "+-----+---------+----------+-----+---------+----+-----+------------+-------------+\n",
      "|Store|DayOfWeek|      Date|Sales|Customers|Open|Promo|StateHoliday|SchoolHoliday|\n",
      "+-----+---------+----------+-----+---------+----+-----+------------+-------------+\n",
      "| 1006|        3|2014-04-02| 6641|      870|   1|    1|           0|            0|\n",
      "| 1007|        3|2014-04-02| 6872|      776|   1|    1|           0|            0|\n",
      "| 1008|        3|2014-04-02| 5945|      793|   1|    1|           0|            0|\n",
      "| 1009|        3|2014-04-02| 4837|      484|   1|    1|           0|            0|\n",
      "| 1010|        3|2014-04-02| 9349|      761|   1|    1|           0|            0|\n",
      "+-----+---------+----------+-----+---------+----+-----+------------+-------------+\n",
      "only showing top 5 rows\n",
      "\n"
     ]
    }
   ],
   "source": [
    "# pick only opened stores\n",
    "retails_open_df = retail_df.where( retail_df.Open > 0  )\n",
    "retails_open_df.show( 5 )"
   ]
  },
  {
   "cell_type": "code",
   "execution_count": 36,
   "metadata": {
    "collapsed": true
   },
   "outputs": [],
   "source": [
    "#How many stores remained \"Open\" on days when it was both school and state holiday?\n",
    "holidays_df= retails_open_df.where((retails_open_df.StateHoliday==1) & (retails_open_df.SchoolHoliday==1))"
   ]
  },
  {
   "cell_type": "code",
   "execution_count": 37,
   "metadata": {},
   "outputs": [
    {
     "name": "stdout",
     "output_type": "stream",
     "text": [
      "+-----+---------+----+-----+---------+----+-----+------------+-------------+\n",
      "|Store|DayOfWeek|Date|Sales|Customers|Open|Promo|StateHoliday|SchoolHoliday|\n",
      "+-----+---------+----+-----+---------+----+-----+------------+-------------+\n",
      "+-----+---------+----+-----+---------+----+-----+------------+-------------+\n",
      "\n"
     ]
    }
   ],
   "source": [
    "holidays_df.show()"
   ]
  },
  {
   "cell_type": "code",
   "execution_count": 39,
   "metadata": {
    "collapsed": true
   },
   "outputs": [],
   "source": [
    "#What are the total number of stores?\n",
    "store_ids=retail_df.select(retail_df.Store).distinct()"
   ]
  },
  {
   "cell_type": "code",
   "execution_count": 40,
   "metadata": {},
   "outputs": [
    {
     "data": {
      "text/plain": [
       "1115"
      ]
     },
     "execution_count": 40,
     "metadata": {},
     "output_type": "execute_result"
    }
   ],
   "source": [
    "store_ids.count()"
   ]
  },
  {
   "cell_type": "markdown",
   "metadata": {},
   "source": [
    "retail_df.stat.crosstab?\n",
    "\n",
    "Computes a pair-wise frequency table of the given columns. Also known as a contingency\n",
    "table. The number of distinct values for each column should be less than 1e4. At most 1e6\n",
    "non-zero pair frequencies will be returned.\n",
    "The first column of each row will be the distinct values of `col1` and the column names\n",
    "will be the distinct values of `col2`. The name of the first column will be `$col1_$col2`.\n",
    "Pairs that have no occurrences will have zero as their counts."
   ]
  },
  {
   "cell_type": "code",
   "execution_count": 47,
   "metadata": {
    "collapsed": true
   },
   "outputs": [],
   "source": [
    "#Which weekday have maximum number of promos running\n",
    "weekday_promos = retail_df.stat.crosstab( \"DayOfWeek\" , \"Promo\" )"
   ]
  },
  {
   "cell_type": "code",
   "execution_count": 48,
   "metadata": {},
   "outputs": [
    {
     "name": "stdout",
     "output_type": "stream",
     "text": [
      "+---------------+------+-----+\n",
      "|DayOfWeek_Promo|     0|    1|\n",
      "+---------------+------+-----+\n",
      "|              5| 68265|77580|\n",
      "|              1| 66970|77760|\n",
      "|              6|144730|    0|\n",
      "|              2| 68084|77580|\n",
      "|              7|144730|    0|\n",
      "|              3| 68085|77580|\n",
      "|              4| 68265|77580|\n",
      "+---------------+------+-----+\n",
      "\n"
     ]
    }
   ],
   "source": [
    "weekday_promos.show( 10 )"
   ]
  },
  {
   "cell_type": "code",
   "execution_count": 49,
   "metadata": {
    "collapsed": true
   },
   "outputs": [],
   "source": [
    "weekday_promos = weekday_promos.withColumnRenamed( \"DayOfWeek_Promo\", \"DayOfWeek\" )  \\\n",
    "                             .withColumnRenamed( \"0\", \"NoPromo\" )                  \\\n",
    "                             .withColumnRenamed( \"1\",\"Promo\" )"
   ]
  },
  {
   "cell_type": "code",
   "execution_count": 50,
   "metadata": {},
   "outputs": [
    {
     "name": "stdout",
     "output_type": "stream",
     "text": [
      "+---------+-------+-----+\n",
      "|DayOfWeek|NoPromo|Promo|\n",
      "+---------+-------+-----+\n",
      "|        5|  68265|77580|\n",
      "|        1|  66970|77760|\n",
      "|        6| 144730|    0|\n",
      "|        2|  68084|77580|\n",
      "|        7| 144730|    0|\n",
      "+---------+-------+-----+\n",
      "only showing top 5 rows\n",
      "\n"
     ]
    }
   ],
   "source": [
    "weekday_promos.show(5)"
   ]
  },
  {
   "cell_type": "code",
   "execution_count": 56,
   "metadata": {},
   "outputs": [
    {
     "name": "stdout",
     "output_type": "stream",
     "text": [
      "+---------+-------+-----+\n",
      "|DayOfWeek|NoPromo|Promo|\n",
      "+---------+-------+-----+\n",
      "|        1|  66970|77760|\n",
      "|        3|  68085|77580|\n",
      "|        4|  68265|77580|\n",
      "|        2|  68084|77580|\n",
      "|        5|  68265|77580|\n",
      "|        6| 144730|    0|\n",
      "|        7| 144730|    0|\n",
      "+---------+-------+-----+\n",
      "\n"
     ]
    }
   ],
   "source": [
    "#Sorting dataframe by column in ascending and descending order\n",
    "weekday_promos.sort( weekday_promos.Promo.desc()).show()"
   ]
  },
  {
   "cell_type": "code",
   "execution_count": 59,
   "metadata": {},
   "outputs": [
    {
     "name": "stdout",
     "output_type": "stream",
     "text": [
      "+---------+-------+-----+\n",
      "|DayOfWeek|NoPromo|Promo|\n",
      "+---------+-------+-----+\n",
      "|        7| 144730|    0|\n",
      "|        6| 144730|    0|\n",
      "|        2|  68084|77580|\n",
      "|        5|  68265|77580|\n",
      "|        3|  68085|77580|\n",
      "|        4|  68265|77580|\n",
      "|        1|  66970|77760|\n",
      "+---------+-------+-----+\n",
      "\n"
     ]
    }
   ],
   "source": [
    "weekday_promos.sort( \"Promo\", ascending = True ).show()\n",
    "# no promos running on weekend"
   ]
  },
  {
   "cell_type": "markdown",
   "metadata": {},
   "source": [
    "## Assignment: Find sales revenue for each weekday."
   ]
  },
  {
   "cell_type": "code",
   "execution_count": null,
   "metadata": {
    "collapsed": true
   },
   "outputs": [],
   "source": [
    "#Add a month column"
   ]
  },
  {
   "cell_type": "code",
   "execution_count": null,
   "metadata": {
    "collapsed": true
   },
   "outputs": [],
   "source": [
    "from pyspark.sql.functions import month, year"
   ]
  },
  {
   "cell_type": "code",
   "execution_count": 66,
   "metadata": {
    "collapsed": true
   },
   "outputs": [],
   "source": [
    "retail_df = retail_df.withColumn( 'month', month( retail_df.Date ))\n",
    "retail_df = retail_df.withColumn( 'year', year( retail_df.Date ))"
   ]
  },
  {
   "cell_type": "code",
   "execution_count": 67,
   "metadata": {},
   "outputs": [
    {
     "name": "stdout",
     "output_type": "stream",
     "text": [
      "+-----+---------+----------+-----+---------+----+-----+------------+-------------+-----+----+\n",
      "|Store|DayOfWeek|      Date|Sales|Customers|Open|Promo|StateHoliday|SchoolHoliday|month|year|\n",
      "+-----+---------+----------+-----+---------+----+-----+------------+-------------+-----+----+\n",
      "| 1006|        3|2014-04-02| 6641|      870|   1|    1|           0|            0|    4|2014|\n",
      "| 1007|        3|2014-04-02| 6872|      776|   1|    1|           0|            0|    4|2014|\n",
      "| 1008|        3|2014-04-02| 5945|      793|   1|    1|           0|            0|    4|2014|\n",
      "| 1009|        3|2014-04-02| 4837|      484|   1|    1|           0|            0|    4|2014|\n",
      "| 1010|        3|2014-04-02| 9349|      761|   1|    1|           0|            0|    4|2014|\n",
      "+-----+---------+----------+-----+---------+----+-----+------------+-------------+-----+----+\n",
      "only showing top 5 rows\n",
      "\n"
     ]
    }
   ],
   "source": [
    "retail_df.show( 5 )"
   ]
  },
  {
   "cell_type": "code",
   "execution_count": 68,
   "metadata": {
    "collapsed": true
   },
   "outputs": [],
   "source": [
    "#Data Aggregations"
   ]
  },
  {
   "cell_type": "code",
   "execution_count": 69,
   "metadata": {
    "collapsed": true
   },
   "outputs": [],
   "source": [
    "sales_by_stores = retail_df.groupBy(\"Store\").sum(\"Sales\")"
   ]
  },
  {
   "cell_type": "code",
   "execution_count": 70,
   "metadata": {},
   "outputs": [
    {
     "name": "stdout",
     "output_type": "stream",
     "text": [
      "+-----+----------+\n",
      "|Store|sum(Sales)|\n",
      "+-----+----------+\n",
      "| 1088|   3960984|\n",
      "|  148|   6772949|\n",
      "|  463|   4747749|\n",
      "|  471|   4422266|\n",
      "|  496|   6059458|\n",
      "+-----+----------+\n",
      "only showing top 5 rows\n",
      "\n"
     ]
    }
   ],
   "source": [
    "sales_by_stores.show( 5 )"
   ]
  },
  {
   "cell_type": "code",
   "execution_count": 73,
   "metadata": {},
   "outputs": [
    {
     "name": "stdout",
     "output_type": "stream",
     "text": [
      "+-----+----------+--------------+\n",
      "|Store|sum(Sales)|sum(Customers)|\n",
      "+-----+----------+--------------+\n",
      "| 1088|   3960984|        377930|\n",
      "|  148|   6772949|        642470|\n",
      "|  463|   4747749|        755184|\n",
      "|  471|   4422266|        367107|\n",
      "|  496|   6059458|        650918|\n",
      "+-----+----------+--------------+\n",
      "only showing top 5 rows\n",
      "\n"
     ]
    }
   ],
   "source": [
    "#Multiple Aggregation\n",
    "sales_by_stores_custs = retail_df.groupBy( \"Store\" ).agg( { \"Sales\" :\"sum\", \"Customers\": \"sum\" } )\n",
    "sales_by_stores_custs.show( 5 )"
   ]
  },
  {
   "cell_type": "code",
   "execution_count": 74,
   "metadata": {},
   "outputs": [
    {
     "name": "stdout",
     "output_type": "stream",
     "text": [
      "+-----+----------+--------------+\n",
      "|Store|sum(Sales)|sum(Customers)|\n",
      "+-----+----------+--------------+\n",
      "|  262|  19516842|       3204694|\n",
      "|  817|  17057867|       2454370|\n",
      "|  562|  16927322|       2924960|\n",
      "| 1114|  16202585|       2509542|\n",
      "|  251|  14896870|       1908934|\n",
      "|  513|  14252406|       1643527|\n",
      "|  788|  14082141|       1346835|\n",
      "|  733|  14067158|       3206058|\n",
      "|  383|  13489879|       1720249|\n",
      "|  756|  12911782|       1827980|\n",
      "+-----+----------+--------------+\n",
      "only showing top 10 rows\n",
      "\n"
     ]
    }
   ],
   "source": [
    "#Top 10 stores by sales contribution\n",
    "sales_by_stores_custs.sort( \"sum(Sales)\", ascending = False ).show(10)"
   ]
  },
  {
   "cell_type": "code",
   "execution_count": 75,
   "metadata": {
    "collapsed": true
   },
   "outputs": [],
   "source": [
    "#Average purchase value by customers in each store\n",
    "from pyspark.sql.functions import col, round"
   ]
  },
  {
   "cell_type": "code",
   "execution_count": 76,
   "metadata": {
    "collapsed": true
   },
   "outputs": [],
   "source": [
    "sales_by_stores_custs = sales_by_stores_custs.withColumn(\n",
    "  \"avg_purchase_val\",\n",
    "  round( col( \"sum(Sales)\" ) / col( \"sum(Customers)\" ), 2) )"
   ]
  },
  {
   "cell_type": "code",
   "execution_count": 79,
   "metadata": {},
   "outputs": [
    {
     "name": "stdout",
     "output_type": "stream",
     "text": [
      "+-----+----------+--------------+----------------+\n",
      "|Store|sum(Sales)|sum(Customers)|avg_purchase_val|\n",
      "+-----+----------+--------------+----------------+\n",
      "| 1088|   3960984|        377930|           10.48|\n",
      "|  148|   6772949|        642470|           10.54|\n",
      "|  463|   4747749|        755184|            6.29|\n",
      "|  471|   4422266|        367107|           12.05|\n",
      "|  496|   6059458|        650918|            9.31|\n",
      "|  833|   4293342|        394316|           10.89|\n",
      "| 1025|   5762189|        672559|            8.57|\n",
      "| 1084|   4904211|        631824|            7.76|\n",
      "|  243|   4407146|        594010|            7.42|\n",
      "|  392|   5670675|        559386|           10.14|\n",
      "+-----+----------+--------------+----------------+\n",
      "only showing top 10 rows\n",
      "\n"
     ]
    }
   ],
   "source": [
    "sales_by_stores_custs.show( 10 )"
   ]
  },
  {
   "cell_type": "code",
   "execution_count": 82,
   "metadata": {
    "collapsed": true
   },
   "outputs": [],
   "source": [
    "avg_purchse_val = sales_by_stores_custs.sort( \"avg_purchase_val\", ascending = False )\n",
    "# ANALYSE DATA IN PANDAS\n",
    "import matplotlib.pyplot as plt\n",
    "import seaborn as sn\n",
    "%matplotlib inline"
   ]
  },
  {
   "cell_type": "code",
   "execution_count": 83,
   "metadata": {},
   "outputs": [
    {
     "data": {
      "text/html": [
       "<div>\n",
       "<style>\n",
       "    .dataframe thead tr:only-child th {\n",
       "        text-align: right;\n",
       "    }\n",
       "\n",
       "    .dataframe thead th {\n",
       "        text-align: left;\n",
       "    }\n",
       "\n",
       "    .dataframe tbody tr th {\n",
       "        vertical-align: top;\n",
       "    }\n",
       "</style>\n",
       "<table border=\"1\" class=\"dataframe\">\n",
       "  <thead>\n",
       "    <tr style=\"text-align: right;\">\n",
       "      <th></th>\n",
       "      <th>Store</th>\n",
       "      <th>sum(Sales)</th>\n",
       "      <th>sum(Customers)</th>\n",
       "      <th>avg_purchase_val</th>\n",
       "    </tr>\n",
       "  </thead>\n",
       "  <tbody>\n",
       "    <tr>\n",
       "      <th>0</th>\n",
       "      <td>842</td>\n",
       "      <td>11553523</td>\n",
       "      <td>714829</td>\n",
       "      <td>16.16</td>\n",
       "    </tr>\n",
       "    <tr>\n",
       "      <th>1</th>\n",
       "      <td>612</td>\n",
       "      <td>4246423</td>\n",
       "      <td>264263</td>\n",
       "      <td>16.07</td>\n",
       "    </tr>\n",
       "    <tr>\n",
       "      <th>2</th>\n",
       "      <td>455</td>\n",
       "      <td>5727571</td>\n",
       "      <td>359933</td>\n",
       "      <td>15.91</td>\n",
       "    </tr>\n",
       "    <tr>\n",
       "      <th>3</th>\n",
       "      <td>158</td>\n",
       "      <td>6354198</td>\n",
       "      <td>405068</td>\n",
       "      <td>15.69</td>\n",
       "    </tr>\n",
       "    <tr>\n",
       "      <th>4</th>\n",
       "      <td>52</td>\n",
       "      <td>4607742</td>\n",
       "      <td>313176</td>\n",
       "      <td>14.71</td>\n",
       "    </tr>\n",
       "    <tr>\n",
       "      <th>5</th>\n",
       "      <td>868</td>\n",
       "      <td>7480652</td>\n",
       "      <td>509296</td>\n",
       "      <td>14.69</td>\n",
       "    </tr>\n",
       "    <tr>\n",
       "      <th>6</th>\n",
       "      <td>1115</td>\n",
       "      <td>4922229</td>\n",
       "      <td>337884</td>\n",
       "      <td>14.57</td>\n",
       "    </tr>\n",
       "    <tr>\n",
       "      <th>7</th>\n",
       "      <td>540</td>\n",
       "      <td>3513672</td>\n",
       "      <td>243396</td>\n",
       "      <td>14.44</td>\n",
       "    </tr>\n",
       "    <tr>\n",
       "      <th>8</th>\n",
       "      <td>56</td>\n",
       "      <td>5718290</td>\n",
       "      <td>395919</td>\n",
       "      <td>14.44</td>\n",
       "    </tr>\n",
       "    <tr>\n",
       "      <th>9</th>\n",
       "      <td>1068</td>\n",
       "      <td>3451074</td>\n",
       "      <td>240516</td>\n",
       "      <td>14.35</td>\n",
       "    </tr>\n",
       "  </tbody>\n",
       "</table>\n",
       "</div>"
      ],
      "text/plain": [
       "   Store  sum(Sales)  sum(Customers)  avg_purchase_val\n",
       "0    842    11553523          714829             16.16\n",
       "1    612     4246423          264263             16.07\n",
       "2    455     5727571          359933             15.91\n",
       "3    158     6354198          405068             15.69\n",
       "4     52     4607742          313176             14.71\n",
       "5    868     7480652          509296             14.69\n",
       "6   1115     4922229          337884             14.57\n",
       "7    540     3513672          243396             14.44\n",
       "8     56     5718290          395919             14.44\n",
       "9   1068     3451074          240516             14.35"
      ]
     },
     "execution_count": 83,
     "metadata": {},
     "output_type": "execute_result"
    }
   ],
   "source": [
    "top_10_avg_purchse_val = avg_purchse_val.toPandas()\n",
    "top_10_avg_purchse_val.head( 10 )"
   ]
  },
  {
   "cell_type": "code",
   "execution_count": 84,
   "metadata": {},
   "outputs": [
    {
     "data": {
      "image/png": "[encoded data removed]",
      "text/plain": [
       "<matplotlib.figure.Figure at 0x7efdcddeb4d0>"
      ]
     },
     "metadata": {},
     "output_type": "display_data"
    }
   ],
   "source": [
    "#Visualizing top 10 stores by avg_purchase_val\n",
    "sn.set(rc={\"figure.figsize\": (10, 6)});\n",
    "\n",
    "ax = sn.barplot( x = 'Store',\n",
    "         y = 'avg_purchase_val' ,\n",
    "         data = top_10_avg_purchse_val[0:10],\n",
    "         order = top_10_avg_purchse_val.Store[0:10] )\n",
    "\n",
    "ax.set( xlabel='Store Number',\n",
    "     ylabel='Total Sales')\n",
    "plt.show()"
   ]
  },
  {
   "cell_type": "code",
   "execution_count": 115,
   "metadata": {},
   "outputs": [
    {
     "name": "stdout",
     "output_type": "stream",
     "text": [
      "+-----+---------+----------+-------------------+-------------------------+------------------------+------+---------------+---------------+---------------+\n",
      "|Store|StoreType|Assortment|CompetitionDistance|CompetitionOpenSinceMonth|CompetitionOpenSinceYear|Promo2|Promo2SinceWeek|Promo2SinceYear|  PromoInterval|\n",
      "+-----+---------+----------+-------------------+-------------------------+------------------------+------+---------------+---------------+---------------+\n",
      "|    1|        c|         a|               1270|                        9|                    2008|     0|           null|           null|           null|\n",
      "|    2|        a|         a|                570|                       11|                    2007|     1|             13|           2010|Jan,Apr,Jul,Oct|\n",
      "|    3|        a|         a|              14130|                       12|                    2006|     1|             14|           2011|Jan,Apr,Jul,Oct|\n",
      "|    4|        c|         c|                620|                        9|                    2009|     0|           null|           null|           null|\n",
      "|    5|        a|         a|              29910|                        4|                    2015|     0|           null|           null|           null|\n",
      "+-----+---------+----------+-------------------+-------------------------+------------------------+------+---------------+---------------+---------------+\n",
      "only showing top 5 rows\n",
      "\n"
     ]
    }
   ],
   "source": [
    "stores_df.show( 5 )"
   ]
  },
  {
   "cell_type": "code",
   "execution_count": 116,
   "metadata": {
    "collapsed": true
   },
   "outputs": [],
   "source": [
    "#How many different types of stores are there?\n",
    "store_by_types = stores_df.groupBy(\"StoreType\").count()"
   ]
  },
  {
   "cell_type": "code",
   "execution_count": 117,
   "metadata": {},
   "outputs": [
    {
     "name": "stdout",
     "output_type": "stream",
     "text": [
      "+---------+-----+\n",
      "|StoreType|count|\n",
      "+---------+-----+\n",
      "|        a|  602|\n",
      "|        b|   17|\n",
      "|        c|  148|\n",
      "|        d|  348|\n",
      "+---------+-----+\n",
      "\n"
     ]
    }
   ],
   "source": [
    "store_by_types.sort(\"StoreType\",ascending=True).show()"
   ]
  },
  {
   "cell_type": "code",
   "execution_count": 118,
   "metadata": {},
   "outputs": [
    {
     "data": {
      "text/plain": [
       "1115"
      ]
     },
     "execution_count": 118,
     "metadata": {},
     "output_type": "execute_result"
    }
   ],
   "source": [
    "#Different store types in percentages\n",
    "total = stores_df.count()\n",
    "total"
   ]
  },
  {
   "cell_type": "code",
   "execution_count": 119,
   "metadata": {
    "collapsed": true
   },
   "outputs": [],
   "source": [
    "from pyspark.sql.functions import lit"
   ]
  },
  {
   "cell_type": "code",
   "execution_count": 120,
   "metadata": {},
   "outputs": [
    {
     "name": "stdout",
     "output_type": "stream",
     "text": [
      "+---------+-----+----------+\n",
      "|StoreType|count|percentage|\n",
      "+---------+-----+----------+\n",
      "|        d|  348|      0.31|\n",
      "|        c|  148|      0.13|\n",
      "|        b|   17|      0.02|\n",
      "|        a|  602|      0.54|\n",
      "+---------+-----+----------+\n",
      "\n"
     ]
    }
   ],
   "source": [
    "#store_by_types.withColumn(\"percentage\", round( col( \"count\" ) / lit( total ), 2) ).show()\n",
    "store_by_types.withColumn(\"percentage\", round( col( \"count\" ) / ( total ), 2) ).show()"
   ]
  },
  {
   "cell_type": "code",
   "execution_count": 127,
   "metadata": {},
   "outputs": [
    {
     "name": "stdout",
     "output_type": "stream",
     "text": [
      "+-----+---------+----------+-------------------+-------------------------+------------------------+------+---------------+---------------+-------------+\n",
      "|Store|StoreType|Assortment|CompetitionDistance|CompetitionOpenSinceMonth|CompetitionOpenSinceYear|Promo2|Promo2SinceWeek|Promo2SinceYear|PromoInterval|\n",
      "+-----+---------+----------+-------------------+-------------------------+------------------------+------+---------------+---------------+-------------+\n",
      "+-----+---------+----------+-------------------+-------------------------+------------------------+------+---------------+---------------+-------------+\n",
      "\n"
     ]
    }
   ],
   "source": [
    "#How long competitions exist for the stores? already have this field\n",
    "stores_df = stores_df.withColumn(\n",
    "  \"CompetitionOpenSinceMonth\",\n",
    "  stores_df[\"CompetitionOpenSinceMonth\"].cast( 'float' ) )\n",
    "\n",
    "stores_df = stores_df.withColumn(\n",
    "  \"CompetitionOpenSinceYear\",\n",
    "  stores_df[\"CompetitionOpenSinceYear\"].cast( 'float' ) )\n",
    "stores_df = stores_df.fillna( 0.0 )\n",
    "stores_df.where( col( \"CompetitionOpenSinceYear\" ).isNull() ).show()"
   ]
  },
  {
   "cell_type": "code",
   "execution_count": 128,
   "metadata": {},
   "outputs": [
    {
     "name": "stdout",
     "output_type": "stream",
     "text": [
      "+-----+---------+----------+-------------------+-------------------------+------------------------+------+---------------+---------------+-------------+\n",
      "|Store|StoreType|Assortment|CompetitionDistance|CompetitionOpenSinceMonth|CompetitionOpenSinceYear|Promo2|Promo2SinceWeek|Promo2SinceYear|PromoInterval|\n",
      "+-----+---------+----------+-------------------+-------------------------+------------------------+------+---------------+---------------+-------------+\n",
      "+-----+---------+----------+-------------------+-------------------------+------------------------+------+---------------+---------------+-------------+\n",
      "\n"
     ]
    }
   ],
   "source": [
    "stores_df.where( col( \"CompetitionOpenSinceMonth\" ).isNull() ).show()"
   ]
  },
  {
   "cell_type": "code",
   "execution_count": 129,
   "metadata": {
    "collapsed": true
   },
   "outputs": [],
   "source": [
    "from dateutil.relativedelta import relativedelta\n",
    "from datetime import datetime\n",
    "import math\n",
    "\n",
    "def diff_in_months( fromYear, fromMonth ):\n",
    "    if (fromYear == 0.0) or (fromMonth == 0.0):\n",
    "        return 0.0\n",
    "    else:\n",
    "        return ( 2015.0 - fromYear ) * 12.0 + ( 12.0 - fromMonth )"
   ]
  },
  {
   "cell_type": "code",
   "execution_count": 130,
   "metadata": {},
   "outputs": [
    {
     "data": {
      "text/plain": [
       "58.0"
      ]
     },
     "execution_count": 130,
     "metadata": {},
     "output_type": "execute_result"
    }
   ],
   "source": [
    "diff_in_months( 2011, 2 )"
   ]
  },
  {
   "cell_type": "code",
   "execution_count": 131,
   "metadata": {
    "collapsed": true
   },
   "outputs": [],
   "source": [
    "from pyspark.sql.functions import udf, array"
   ]
  },
  {
   "cell_type": "code",
   "execution_count": 132,
   "metadata": {
    "collapsed": true
   },
   "outputs": [],
   "source": [
    "comp_months_udf = udf( diff_in_months, FloatType() )"
   ]
  },
  {
   "cell_type": "code",
   "execution_count": 133,
   "metadata": {},
   "outputs": [
    {
     "name": "stdout",
     "output_type": "stream",
     "text": [
      "root\n",
      " |-- Store: integer (nullable = true)\n",
      " |-- StoreType: string (nullable = true)\n",
      " |-- Assortment: string (nullable = true)\n",
      " |-- CompetitionDistance: integer (nullable = true)\n",
      " |-- CompetitionOpenSinceMonth: float (nullable = false)\n",
      " |-- CompetitionOpenSinceYear: float (nullable = false)\n",
      " |-- Promo2: integer (nullable = true)\n",
      " |-- Promo2SinceWeek: integer (nullable = true)\n",
      " |-- Promo2SinceYear: integer (nullable = true)\n",
      " |-- PromoInterval: string (nullable = true)\n",
      "\n"
     ]
    }
   ],
   "source": [
    "stores_df.printSchema()"
   ]
  },
  {
   "cell_type": "code",
   "execution_count": 134,
   "metadata": {
    "collapsed": true
   },
   "outputs": [],
   "source": [
    "stores_df = stores_df.withColumn(\"comp_months\",\n",
    "                   comp_months_udf( stores_df.CompetitionOpenSinceYear,\n",
    "                                stores_df.CompetitionOpenSinceMonth ) )"
   ]
  },
  {
   "cell_type": "code",
   "execution_count": 135,
   "metadata": {},
   "outputs": [
    {
     "name": "stdout",
     "output_type": "stream",
     "text": [
      "+-----+---------+----------+-------------------+-------------------------+------------------------+------+---------------+---------------+---------------+-----------+\n",
      "|Store|StoreType|Assortment|CompetitionDistance|CompetitionOpenSinceMonth|CompetitionOpenSinceYear|Promo2|Promo2SinceWeek|Promo2SinceYear|  PromoInterval|comp_months|\n",
      "+-----+---------+----------+-------------------+-------------------------+------------------------+------+---------------+---------------+---------------+-----------+\n",
      "|    1|        c|         a|               1270|                      9.0|                  2008.0|     0|              0|              0|           null|       87.0|\n",
      "|    2|        a|         a|                570|                     11.0|                  2007.0|     1|             13|           2010|Jan,Apr,Jul,Oct|       97.0|\n",
      "+-----+---------+----------+-------------------+-------------------------+------------------------+------+---------------+---------------+---------------+-----------+\n",
      "only showing top 2 rows\n",
      "\n"
     ]
    }
   ],
   "source": [
    "stores_df.show(2)"
   ]
  },
  {
   "cell_type": "markdown",
   "metadata": {},
   "source": [
    "## Advanced OLAP functions\n",
    "#Creating multi-dimensional cubes for sales on customers, month, year, promo, weekday dimensions"
   ]
  },
  {
   "cell_type": "code",
   "execution_count": 137,
   "metadata": {},
   "outputs": [
    {
     "name": "stdout",
     "output_type": "stream",
     "text": [
      "root\n",
      " |-- Store: integer (nullable = true)\n",
      " |-- DayOfWeek: integer (nullable = true)\n",
      " |-- Date: date (nullable = true)\n",
      " |-- Sales: integer (nullable = true)\n",
      " |-- Customers: integer (nullable = true)\n",
      " |-- Open: integer (nullable = true)\n",
      " |-- Promo: integer (nullable = true)\n",
      " |-- StateHoliday: string (nullable = true)\n",
      " |-- SchoolHoliday: string (nullable = true)\n",
      "\n"
     ]
    }
   ],
   "source": [
    "retail_df.printSchema()"
   ]
  },
  {
   "cell_type": "code",
   "execution_count": 139,
   "metadata": {
    "collapsed": true
   },
   "outputs": [],
   "source": [
    "sales_cubes = retail_df.cube(\"Date\", \"DayOfWeek\").avg(\"Sales\")"
   ]
  },
  {
   "cell_type": "code",
   "execution_count": 140,
   "metadata": {
    "collapsed": true
   },
   "outputs": [],
   "source": [
    "sales_cubes = sales_cubes.sort( \"Date\",\"DayOfWeek\",\n",
    "                             ascending = [False, False] )"
   ]
  },
  {
   "cell_type": "code",
   "execution_count": 141,
   "metadata": {},
   "outputs": [
    {
     "name": "stdout",
     "output_type": "stream",
     "text": [
      "+----------+---------+------------------+\n",
      "|      Date|DayOfWeek|        avg(Sales)|\n",
      "+----------+---------+------------------+\n",
      "|2015-07-31|        5| 9067.033183856502|\n",
      "|2015-07-31|     null| 9067.033183856502|\n",
      "|2015-07-30|        4| 7891.348878923767|\n",
      "|2015-07-30|     null| 7891.348878923767|\n",
      "|2015-07-29|        3| 7623.284304932736|\n",
      "|2015-07-29|     null| 7623.284304932736|\n",
      "|2015-07-28|        2| 8174.953363228699|\n",
      "|2015-07-28|     null| 8174.953363228699|\n",
      "|2015-07-27|        1| 9602.952466367713|\n",
      "|2015-07-27|     null| 9602.952466367713|\n",
      "|2015-07-26|        7| 256.3811659192825|\n",
      "|2015-07-26|     null| 256.3811659192825|\n",
      "|2015-07-25|        6|  5400.59730941704|\n",
      "|2015-07-25|     null|  5400.59730941704|\n",
      "|2015-07-24|        5| 5920.470852017937|\n",
      "|2015-07-24|     null| 5920.470852017937|\n",
      "|2015-07-23|        4| 5997.370403587444|\n",
      "|2015-07-23|     null| 5997.370403587444|\n",
      "|2015-07-22|        3| 5480.168609865471|\n",
      "|2015-07-22|     null| 5480.168609865471|\n",
      "|2015-07-21|        2| 5700.880717488789|\n",
      "|2015-07-21|     null| 5700.880717488789|\n",
      "|2015-07-20|        1|  6582.35067264574|\n",
      "|2015-07-20|     null|  6582.35067264574|\n",
      "|2015-07-19|        7|267.63946188340805|\n",
      "|2015-07-19|     null|267.63946188340805|\n",
      "|2015-07-18|        6|5783.8403587443945|\n",
      "|2015-07-18|     null|5783.8403587443945|\n",
      "|2015-07-17|        5| 7129.450224215247|\n",
      "|2015-07-17|     null| 7129.450224215247|\n",
      "|2015-07-16|        4|            7510.2|\n",
      "|2015-07-16|     null|            7510.2|\n",
      "|2015-07-15|        3| 7853.037668161435|\n",
      "|2015-07-15|     null| 7853.037668161435|\n",
      "|2015-07-14|        2| 8377.044843049327|\n",
      "|2015-07-14|     null| 8377.044843049327|\n",
      "|2015-07-13|        1|  9723.10941704036|\n",
      "|2015-07-13|     null|  9723.10941704036|\n",
      "|2015-07-12|        7|248.47264573991032|\n",
      "|2015-07-12|     null|248.47264573991032|\n",
      "|2015-07-11|        6| 5616.163228699552|\n",
      "|2015-07-11|     null| 5616.163228699552|\n",
      "|2015-07-10|        5| 6336.241255605381|\n",
      "|2015-07-10|     null| 6336.241255605381|\n",
      "|2015-07-09|        4| 6222.584753363229|\n",
      "|2015-07-09|     null| 6222.584753363229|\n",
      "|2015-07-08|        3| 6202.354260089686|\n",
      "|2015-07-08|     null| 6202.354260089686|\n",
      "|2015-07-07|        2| 5733.653811659193|\n",
      "|2015-07-07|     null| 5733.653811659193|\n",
      "|2015-07-06|        1|6762.7560538116595|\n",
      "|2015-07-06|     null|6762.7560538116595|\n",
      "|2015-07-05|        7| 241.4780269058296|\n",
      "|2015-07-05|     null| 241.4780269058296|\n",
      "|2015-07-04|        6| 5429.843946188341|\n",
      "|2015-07-04|     null| 5429.843946188341|\n",
      "|2015-07-03|        5| 7650.572197309417|\n",
      "|2015-07-03|     null| 7650.572197309417|\n",
      "|2015-07-02|        4|  7575.15067264574|\n",
      "|2015-07-02|     null|  7575.15067264574|\n",
      "|2015-07-01|        3| 8062.486098654708|\n",
      "|2015-07-01|     null| 8062.486098654708|\n",
      "|2015-06-30|        2|10299.490582959641|\n",
      "|2015-06-30|     null|10299.490582959641|\n",
      "|2015-06-29|        1|10687.598206278028|\n",
      "+----------+---------+------------------+\n",
      "only showing top 65 rows\n",
      "\n"
     ]
    }
   ],
   "source": [
    "sales_cubes.show(65)"
   ]
  },
  {
   "cell_type": "code",
   "execution_count": 144,
   "metadata": {
    "collapsed": true
   },
   "outputs": [],
   "source": [
    "#retail_df.cube?"
   ]
  },
  {
   "cell_type": "code",
   "execution_count": 145,
   "metadata": {
    "collapsed": true
   },
   "outputs": [],
   "source": [
    "custs_rollups = retail_df.rollup( \"Date\", \"DayOfWeek\" ).sum(\"Customers\")"
   ]
  },
  {
   "cell_type": "code",
   "execution_count": 146,
   "metadata": {
    "collapsed": true
   },
   "outputs": [],
   "source": [
    "custs_rollups = custs_rollups.sort( \"Date\", \"DayOfWeek\",\n",
    "                             ascending = [False, False] )"
   ]
  },
  {
   "cell_type": "code",
   "execution_count": 148,
   "metadata": {},
   "outputs": [
    {
     "name": "stdout",
     "output_type": "stream",
     "text": [
      "+----------+---------+--------------+\n",
      "|      Date|DayOfWeek|sum(Customers)|\n",
      "+----------+---------+--------------+\n",
      "|2015-07-31|        5|        968620|\n",
      "|2015-07-31|     null|        968620|\n",
      "|2015-07-30|        4|        858547|\n",
      "|2015-07-30|     null|        858547|\n",
      "|2015-07-29|        3|        828524|\n",
      "|2015-07-29|     null|        828524|\n",
      "|2015-07-28|        2|        876092|\n",
      "|2015-07-28|     null|        876092|\n",
      "|2015-07-27|        1|        970462|\n",
      "|2015-07-27|     null|        970462|\n",
      "+----------+---------+--------------+\n",
      "only showing top 10 rows\n",
      "\n"
     ]
    }
   ],
   "source": [
    "custs_rollups.show(10)"
   ]
  },
  {
   "cell_type": "code",
   "execution_count": 149,
   "metadata": {},
   "outputs": [
    {
     "name": "stdout",
     "output_type": "stream",
     "text": [
      "+-----+---------+----------+-------------------+-----------+\n",
      "|Store|StoreType|Assortment|CompetitionDistance|comp_months|\n",
      "+-----+---------+----------+-------------------+-----------+\n",
      "|    1|        c|         a|               1270|       87.0|\n",
      "|    2|        a|         a|                570|       97.0|\n",
      "|    3|        a|         a|              14130|      108.0|\n",
      "|    4|        c|         c|                620|       75.0|\n",
      "|    5|        a|         a|              29910|        8.0|\n",
      "|    6|        a|         a|                310|       24.0|\n",
      "|    7|        a|         c|              24000|       32.0|\n",
      "|    8|        a|         a|               7520|       14.0|\n",
      "|    9|        a|         c|               2030|      184.0|\n",
      "|   10|        a|         a|               3160|       75.0|\n",
      "+-----+---------+----------+-------------------+-----------+\n",
      "only showing top 10 rows\n",
      "\n"
     ]
    }
   ],
   "source": [
    "#Joining two dataframes\n",
    "stores_limited_df = stores_df.select( 'Store',\n",
    "                                    'StoreType',\n",
    "                                    'Assortment',\n",
    "                                    'CompetitionDistance',\n",
    "                                    'comp_months')\n",
    "stores_limited_df.show(10)"
   ]
  },
  {
   "cell_type": "code",
   "execution_count": 150,
   "metadata": {},
   "outputs": [
    {
     "name": "stdout",
     "output_type": "stream",
     "text": [
      "+-----+----------+--------------+----------------+\n",
      "|Store|sum(Sales)|sum(Customers)|avg_purchase_val|\n",
      "+-----+----------+--------------+----------------+\n",
      "| 1088|   3960984|        377930|           10.48|\n",
      "|  148|   6772949|        642470|           10.54|\n",
      "|  463|   4747749|        755184|            6.29|\n",
      "|  471|   4422266|        367107|           12.05|\n",
      "|  496|   6059458|        650918|            9.31|\n",
      "|  833|   4293342|        394316|           10.89|\n",
      "| 1025|   5762189|        672559|            8.57|\n",
      "| 1084|   4904211|        631824|            7.76|\n",
      "|  243|   4407146|        594010|            7.42|\n",
      "|  392|   5670675|        559386|           10.14|\n",
      "+-----+----------+--------------+----------------+\n",
      "only showing top 10 rows\n",
      "\n"
     ]
    }
   ],
   "source": [
    "sales_by_stores_custs.show(10)"
   ]
  },
  {
   "cell_type": "code",
   "execution_count": 151,
   "metadata": {
    "collapsed": true
   },
   "outputs": [],
   "source": [
    "all_stores_df = stores_limited_df.join( sales_by_stores_custs,\n",
    "                                     on = [\"Store\"], how = 'inner' )"
   ]
  },
  {
   "cell_type": "code",
   "execution_count": 152,
   "metadata": {},
   "outputs": [
    {
     "name": "stdout",
     "output_type": "stream",
     "text": [
      "+-----+---------+----------+-------------------+-----------+----------+--------------+----------------+\n",
      "|Store|StoreType|Assortment|CompetitionDistance|comp_months|sum(Sales)|sum(Customers)|avg_purchase_val|\n",
      "+-----+---------+----------+-------------------+-----------+----------+--------------+----------------+\n",
      "| 1088|        a|         a|               4300|       81.0|   3960984|        377930|           10.48|\n",
      "|  148|        a|         a|               2090|       84.0|   6772949|        642470|           10.54|\n",
      "|  463|        a|         a|               4160|        0.0|   4747749|        755184|            6.29|\n",
      "|  471|        d|         a|               5300|        0.0|   4422266|        367107|           12.05|\n",
      "|  496|        d|         c|               2780|        6.0|   6059458|        650918|            9.31|\n",
      "|  833|        d|         c|               3290|      192.0|   4293342|        394316|           10.89|\n",
      "| 1025|        a|         a|                720|       73.0|   5762189|        672559|            8.57|\n",
      "| 1084|        a|         a|                190|        0.0|   4904211|        631824|            7.76|\n",
      "|  243|        a|         a|                310|        0.0|   4407146|        594010|            7.42|\n",
      "|  392|        a|         a|               2120|        0.0|   5670675|        559386|           10.14|\n",
      "+-----+---------+----------+-------------------+-----------+----------+--------------+----------------+\n",
      "only showing top 10 rows\n",
      "\n"
     ]
    }
   ],
   "source": [
    "all_stores_df.show(10)"
   ]
  },
  {
   "cell_type": "code",
   "execution_count": 153,
   "metadata": {},
   "outputs": [
    {
     "name": "stdout",
     "output_type": "stream",
     "text": [
      "root\n",
      " |-- Store: integer (nullable = true)\n",
      " |-- StoreType: string (nullable = true)\n",
      " |-- Assortment: string (nullable = true)\n",
      " |-- CompetitionDistance: integer (nullable = true)\n",
      " |-- comp_months: float (nullable = true)\n",
      " |-- sum(Sales): long (nullable = true)\n",
      " |-- sum(Customers): long (nullable = true)\n",
      " |-- avg_purchase_val: double (nullable = true)\n",
      "\n"
     ]
    }
   ],
   "source": [
    "#Statistical Functions\n",
    "all_stores_df.printSchema()"
   ]
  },
  {
   "cell_type": "code",
   "execution_count": 154,
   "metadata": {
    "collapsed": true
   },
   "outputs": [],
   "source": [
    "all_stores_stats = all_stores_df.describe()"
   ]
  },
  {
   "cell_type": "code",
   "execution_count": 155,
   "metadata": {},
   "outputs": [
    {
     "name": "stdout",
     "output_type": "stream",
     "text": [
      "+-------+-----------------+---------+----------+-------------------+-----------------+------------------+-----------------+------------------+\n",
      "|summary|            Store|StoreType|Assortment|CompetitionDistance|      comp_months|        sum(Sales)|   sum(Customers)|  avg_purchase_val|\n",
      "+-------+-----------------+---------+----------+-------------------+-----------------+------------------+-----------------+------------------+\n",
      "|  count|             1115|     1115|      1115|               1115|             1115|              1115|             1115|              1115|\n",
      "|   mean|            558.0|     null|      null|  5390.358744394619|55.11210762331839| 5267426.567713005|577615.9237668162| 9.643659192825114|\n",
      "| stddev|322.0170802923348|     null|      null| 7657.9737053313265| 71.9420584393018|1951304.4839653838|304654.5331405179|1.9869552301495716|\n",
      "|    min|                1|        a|         a|                  0|              0.0|           2114322|           187583|              3.51|\n",
      "|    max|             1115|        d|         c|              75860|           1391.0|          19516842|          3206058|             16.16|\n",
      "+-------+-----------------+---------+----------+-------------------+-----------------+------------------+-----------------+------------------+\n",
      "\n"
     ]
    }
   ],
   "source": [
    "all_stores_stats.show()"
   ]
  },
  {
   "cell_type": "code",
   "execution_count": 156,
   "metadata": {
    "collapsed": true
   },
   "outputs": [],
   "source": [
    "#Convert the data types of the columns\n",
    "all_stores_df = all_stores_df.withColumn(\n",
    "  \"CompetitionDistance\",\n",
    "  all_stores_df[\"CompetitionDistance\"].cast('int'))"
   ]
  },
  {
   "cell_type": "code",
   "execution_count": 157,
   "metadata": {},
   "outputs": [
    {
     "name": "stdout",
     "output_type": "stream",
     "text": [
      "root\n",
      " |-- Store: integer (nullable = true)\n",
      " |-- StoreType: string (nullable = true)\n",
      " |-- Assortment: string (nullable = true)\n",
      " |-- CompetitionDistance: integer (nullable = true)\n",
      " |-- comp_months: float (nullable = true)\n",
      " |-- sum(Sales): long (nullable = true)\n",
      " |-- sum(Customers): long (nullable = true)\n",
      " |-- avg_purchase_val: double (nullable = true)\n",
      "\n"
     ]
    }
   ],
   "source": [
    "all_stores_df.printSchema()"
   ]
  },
  {
   "cell_type": "code",
   "execution_count": 158,
   "metadata": {},
   "outputs": [
    {
     "name": "stdout",
     "output_type": "stream",
     "text": [
      "+-------+-----------------+---------+----------+-------------------+-----------------+------------------+-----------------+------------------+\n",
      "|summary|            Store|StoreType|Assortment|CompetitionDistance|      comp_months|        sum(Sales)|   sum(Customers)|  avg_purchase_val|\n",
      "+-------+-----------------+---------+----------+-------------------+-----------------+------------------+-----------------+------------------+\n",
      "|  count|             1115|     1115|      1115|               1115|             1115|              1115|             1115|              1115|\n",
      "|   mean|            558.0|     null|      null|  5390.358744394619|55.11210762331839| 5267426.567713005|577615.9237668162| 9.643659192825114|\n",
      "| stddev|322.0170802923348|     null|      null| 7657.9737053313265| 71.9420584393018|1951304.4839653838|304654.5331405179|1.9869552301495716|\n",
      "|    min|                1|        a|         a|                  0|              0.0|           2114322|           187583|              3.51|\n",
      "|    max|             1115|        d|         c|              75860|           1391.0|          19516842|          3206058|             16.16|\n",
      "+-------+-----------------+---------+----------+-------------------+-----------------+------------------+-----------------+------------------+\n",
      "\n"
     ]
    }
   ],
   "source": [
    "all_stores_stats = all_stores_df.describe()\n",
    "all_stores_stats.show()"
   ]
  },
  {
   "cell_type": "code",
   "execution_count": 159,
   "metadata": {},
   "outputs": [
    {
     "name": "stdout",
     "output_type": "stream",
     "text": [
      "+-------+-------------------+------------------+\n",
      "|summary|CompetitionDistance|  avg_purchase_val|\n",
      "+-------+-------------------+------------------+\n",
      "|  count|               1115|              1115|\n",
      "|   mean|  5390.358744394619| 9.643659192825114|\n",
      "| stddev| 7657.9737053313265|1.9869552301495716|\n",
      "|    min|                  0|              3.51|\n",
      "|    max|              75860|             16.16|\n",
      "+-------+-------------------+------------------+\n",
      "\n"
     ]
    }
   ],
   "source": [
    "all_stores_df.describe( \"CompetitionDistance\", \"avg_purchase_val\" ).show()"
   ]
  },
  {
   "cell_type": "code",
   "execution_count": 160,
   "metadata": {},
   "outputs": [
    {
     "data": {
      "text/plain": [
       "0.23007011949360362"
      ]
     },
     "execution_count": 160,
     "metadata": {},
     "output_type": "execute_result"
    }
   ],
   "source": [
    "#Finding correlation between variables\n",
    "all_stores_df.stat.corr('CompetitionDistance', 'avg_purchase_val')"
   ]
  },
  {
   "cell_type": "markdown",
   "metadata": {},
   "source": [
    "Surprisingly not very highly correlated. In fact, it is positively correlated, which sound unintuitive. This may be because the stores with low CompetitionDistance are located in crowded places. And Stores with high competition distance are placed in very low population areas. This explains why the sales are low, even when there is no competition"
   ]
  },
  {
   "cell_type": "code",
   "execution_count": 161,
   "metadata": {},
   "outputs": [
    {
     "data": {
      "text/plain": [
       "0.8542650646315252"
      ]
     },
     "execution_count": 161,
     "metadata": {},
     "output_type": "execute_result"
    }
   ],
   "source": [
    "all_stores_df.stat.corr( 'sum(Sales)', 'sum(Customers)' )"
   ]
  },
  {
   "cell_type": "markdown",
   "metadata": {},
   "source": [
    "This is expected to be highly correlated. Sales are higher when when there are higher footfalls"
   ]
  },
  {
   "cell_type": "code",
   "execution_count": 162,
   "metadata": {
    "collapsed": true
   },
   "outputs": [],
   "source": [
    "# read,https://databricks.com/blog/2015/06/02/statistical-and-mathematical-functions-with-dataframes-in-spark.html"
   ]
  },
  {
   "cell_type": "code",
   "execution_count": 164,
   "metadata": {
    "collapsed": true
   },
   "outputs": [],
   "source": [
    "#Registering sales data as a table\n",
    "retail_df.registerTempTable( \"retail\" )"
   ]
  },
  {
   "cell_type": "code",
   "execution_count": 167,
   "metadata": {
    "collapsed": true
   },
   "outputs": [],
   "source": [
    "#Running SQL Queries\n",
    "avg_sales_custs = hiveContext.sql( \"\"\"select Store, avg(Sales) as avg_sales,                 \n",
    "                                 avg(Customers) as avg_custs from retail group by Store\"\"\" )\n",
    "#avg_sales_custs.cache()"
   ]
  },
  {
   "cell_type": "code",
   "execution_count": 168,
   "metadata": {},
   "outputs": [
    {
     "name": "stdout",
     "output_type": "stream",
     "text": [
      "+-----+------------------+------------------+\n",
      "|Store|         avg_sales|         avg_custs|\n",
      "+-----+------------------+------------------+\n",
      "| 1088| 4204.866242038216| 401.1995753715499|\n",
      "|  148| 7189.967091295117| 682.0276008492569|\n",
      "|  463| 5040.073248407643| 801.6815286624204|\n",
      "|  471|  5834.12401055409|484.31002638522426|\n",
      "|  496| 6432.545647558386|  690.995753715499|\n",
      "|  833|4557.6878980891715| 418.5944798301486|\n",
      "| 1025| 6116.973460721868| 713.9692144373673|\n",
      "| 1084| 5206.168789808918| 670.7261146496816|\n",
      "|  243| 5814.176781002639| 783.6543535620053|\n",
      "|  392| 6019.824840764331|  593.828025477707|\n",
      "+-----+------------------+------------------+\n",
      "only showing top 10 rows\n",
      "\n"
     ]
    }
   ],
   "source": [
    "avg_sales_custs.show(10)"
   ]
  },
  {
   "cell_type": "code",
   "execution_count": 170,
   "metadata": {},
   "outputs": [
    {
     "name": "stdout",
     "output_type": "stream",
     "text": [
      "+-------------+---------+-------+\n",
      "|     col_name|data_type|comment|\n",
      "+-------------+---------+-------+\n",
      "|        Store|      int|   null|\n",
      "|    DayOfWeek|      int|   null|\n",
      "|         Date|     date|   null|\n",
      "|        Sales|      int|   null|\n",
      "|    Customers|      int|   null|\n",
      "|         Open|      int|   null|\n",
      "|        Promo|      int|   null|\n",
      "| StateHoliday|   string|   null|\n",
      "|SchoolHoliday|   string|   null|\n",
      "+-------------+---------+-------+\n",
      "\n"
     ]
    }
   ],
   "source": [
    "#Creating Cubes and Rollups\n",
    "hiveContext.sql( \"describe retail\").show()"
   ]
  },
  {
   "cell_type": "code",
   "execution_count": 173,
   "metadata": {
    "collapsed": true
   },
   "outputs": [],
   "source": [
    "sales_rollups = hiveContext.sql( '''select Date, Store, sum(Sales) as total_sales\n",
    "            from retail group by Date, Store with rollup''')"
   ]
  },
  {
   "cell_type": "code",
   "execution_count": 174,
   "metadata": {},
   "outputs": [
    {
     "name": "stdout",
     "output_type": "stream",
     "text": [
      "+----------+-----+-----------+\n",
      "|      Date|Store|total_sales|\n",
      "+----------+-----+-----------+\n",
      "|2014-04-01|  163|       9459|\n",
      "|2014-04-01|  171|      11731|\n",
      "|2014-04-01|  206|       8501|\n",
      "|2014-04-01|  271|       9550|\n",
      "|2014-04-01|  840|       9544|\n",
      "|2014-03-31|    8|       8934|\n",
      "|2014-03-31|  272|      12696|\n",
      "|2014-03-31|  431|      13210|\n",
      "|2014-03-31|  794|       3447|\n",
      "|2014-03-31|  796|      10530|\n",
      "+----------+-----+-----------+\n",
      "only showing top 10 rows\n",
      "\n"
     ]
    }
   ],
   "source": [
    "sales_rollups.show(10)"
   ]
  },
  {
   "cell_type": "code",
   "execution_count": 175,
   "metadata": {
    "collapsed": true
   },
   "outputs": [],
   "source": [
    "sales_rollups.dropna().registerTempTable( \"sales_rollups\" )"
   ]
  },
  {
   "cell_type": "code",
   "execution_count": 181,
   "metadata": {
    "collapsed": true
   },
   "outputs": [],
   "source": [
    "#Top 3 Stores for each month by sales revenue contribution\n",
    "top3_query = \"\"\"SELECT\n",
    "  Date,\n",
    "  Store,\n",
    "  total_sales,\n",
    "  rank\n",
    "FROM (\n",
    "  SELECT\n",
    "    Store,\n",
    "    Date,\n",
    "    total_sales,\n",
    "    rank() OVER (PARTITION BY Date ORDER BY total_sales DESC) as rank\n",
    "  FROM sales_rollups) tmp\n",
    "WHERE\n",
    "  rank <= 3 ORDER BY Date, rank\"\"\"\n"
   ]
  },
  {
   "cell_type": "code",
   "execution_count": 182,
   "metadata": {},
   "outputs": [
    {
     "name": "stdout",
     "output_type": "stream",
     "text": [
      "+----------+-----+-----------+----+\n",
      "|      Date|Store|total_sales|rank|\n",
      "+----------+-----+-----------+----+\n",
      "|2013-01-01|  262|      17267|   1|\n",
      "|2013-01-01|  733|      10765|   2|\n",
      "|2013-01-01|  423|       9643|   3|\n",
      "|2013-01-02|  817|      25357|   1|\n",
      "|2013-01-02| 1114|      20642|   2|\n",
      "|2013-01-02|  523|      20493|   3|\n",
      "|2013-01-03|  817|      23303|   1|\n",
      "|2013-01-03|  842|      18995|   2|\n",
      "|2013-01-03|  513|      18469|   3|\n",
      "|2013-01-04|  817|      21996|   1|\n",
      "+----------+-----+-----------+----+\n",
      "only showing top 10 rows\n",
      "\n"
     ]
    }
   ],
   "source": [
    "top3_store_by_month = hiveContext.sql(top3_query)\n",
    "top3_store_by_month.show(10)"
   ]
  },
  {
   "cell_type": "code",
   "execution_count": 185,
   "metadata": {
    "collapsed": true
   },
   "outputs": [],
   "source": [
    "retail_df.write.parquet(\"file:///home/vijay/DATA_SCIENCE/BPF/BPF/data/ROSSMAN/retail.parquet\")\n",
    "stores_limited_df.write.parquet( \"file:///home/vijay/DATA_SCIENCE/BPF/BPF/data/ROSSMAN/stores_limited.parquet\" )"
   ]
  },
  {
   "cell_type": "markdown",
   "metadata": {
    "collapsed": true
   },
   "source": [
    "## will build a model predict sales in various stores and use spark framework to explore and build predictive model"
   ]
  },
  {
   "cell_type": "code",
   "execution_count": 4,
   "metadata": {},
   "outputs": [
    {
     "name": "stdout",
     "output_type": "stream",
     "text": [
      "+-----+---------+----------+-----+---------+----+-----+------------+-------------+\n",
      "|Store|DayOfWeek|      Date|Sales|Customers|Open|Promo|StateHoliday|SchoolHoliday|\n",
      "+-----+---------+----------+-----+---------+----+-----+------------+-------------+\n",
      "| 1006|        3|2014-04-02| 6641|      870|   1|    1|           0|            0|\n",
      "| 1007|        3|2014-04-02| 6872|      776|   1|    1|           0|            0|\n",
      "| 1008|        3|2014-04-02| 5945|      793|   1|    1|           0|            0|\n",
      "| 1009|        3|2014-04-02| 4837|      484|   1|    1|           0|            0|\n",
      "| 1010|        3|2014-04-02| 9349|      761|   1|    1|           0|            0|\n",
      "+-----+---------+----------+-----+---------+----+-----+------------+-------------+\n",
      "only showing top 5 rows\n",
      "\n"
     ]
    }
   ],
   "source": [
    "retail_df = hiveContext.read.parquet(\"file:///home/vijay/DATA_SCIENCE/BPF/BPF/data/ROSSMAN/retail.parquet\")\n",
    "retail_df.show(5)"
   ]
  },
  {
   "cell_type": "code",
   "execution_count": 5,
   "metadata": {},
   "outputs": [
    {
     "name": "stdout",
     "output_type": "stream",
     "text": [
      "+-----+---------+----------+-----+---------+----+-----+------------+-------------+-----+----+\n",
      "|Store|DayOfWeek|      Date|Sales|Customers|Open|Promo|StateHoliday|SchoolHoliday|month|year|\n",
      "+-----+---------+----------+-----+---------+----+-----+------------+-------------+-----+----+\n",
      "| 1006|        3|2014-04-02| 6641|      870|   1|    1|           0|            0|    4|2014|\n",
      "| 1007|        3|2014-04-02| 6872|      776|   1|    1|           0|            0|    4|2014|\n",
      "| 1008|        3|2014-04-02| 5945|      793|   1|    1|           0|            0|    4|2014|\n",
      "| 1009|        3|2014-04-02| 4837|      484|   1|    1|           0|            0|    4|2014|\n",
      "| 1010|        3|2014-04-02| 9349|      761|   1|    1|           0|            0|    4|2014|\n",
      "+-----+---------+----------+-----+---------+----+-----+------------+-------------+-----+----+\n",
      "only showing top 5 rows\n",
      "\n"
     ]
    }
   ],
   "source": [
    "retail_df = retail_df.withColumn( 'month', month( retail_df.Date ))\n",
    "retail_df = retail_df.withColumn( 'year', year( retail_df.Date ))\n",
    "retail_df.show(5)\n",
    "#Returns a new :class:`DataFrame` by adding a column or replacing the\n",
    "#existing column that has the same name."
   ]
  },
  {
   "cell_type": "code",
   "execution_count": 10,
   "metadata": {},
   "outputs": [],
   "source": [
    "#retail_df.withColumn?"
   ]
  },
  {
   "cell_type": "code",
   "execution_count": 11,
   "metadata": {},
   "outputs": [
    {
     "name": "stdout",
     "output_type": "stream",
     "text": [
      "root\n",
      " |-- Store: integer (nullable = true)\n",
      " |-- DayOfWeek: integer (nullable = true)\n",
      " |-- Date: date (nullable = true)\n",
      " |-- Sales: integer (nullable = true)\n",
      " |-- Customers: integer (nullable = true)\n",
      " |-- Open: integer (nullable = true)\n",
      " |-- Promo: integer (nullable = true)\n",
      " |-- StateHoliday: string (nullable = true)\n",
      " |-- SchoolHoliday: string (nullable = true)\n",
      " |-- month: integer (nullable = true)\n",
      " |-- year: integer (nullable = true)\n",
      "\n"
     ]
    }
   ],
   "source": [
    "retail_df.printSchema()"
   ]
  },
  {
   "cell_type": "code",
   "execution_count": 13,
   "metadata": {},
   "outputs": [
    {
     "name": "stdout",
     "output_type": "stream",
     "text": [
      "+-----+---------+----------+-------------------+-----------+\n",
      "|Store|StoreType|Assortment|CompetitionDistance|comp_months|\n",
      "+-----+---------+----------+-------------------+-----------+\n",
      "|    1|        c|         a|               1270|       87.0|\n",
      "|    2|        a|         a|                570|       97.0|\n",
      "|    3|        a|         a|              14130|      108.0|\n",
      "|    4|        c|         c|                620|       75.0|\n",
      "|    5|        a|         a|              29910|        8.0|\n",
      "+-----+---------+----------+-------------------+-----------+\n",
      "only showing top 5 rows\n",
      "\n"
     ]
    }
   ],
   "source": [
    "stores_df = hiveContext.read.parquet(\"file:///home/vijay/DATA_SCIENCE/BPF/BPF/data/ROSSMAN/stores_limited.parquet\")\n",
    "stores_df.show( 5 )"
   ]
  },
  {
   "cell_type": "code",
   "execution_count": 40,
   "metadata": {},
   "outputs": [
    {
     "name": "stdout",
     "output_type": "stream",
     "text": [
      "root\n",
      " |-- Store: integer (nullable = true)\n",
      " |-- StoreType: string (nullable = true)\n",
      " |-- Assortment: string (nullable = true)\n",
      " |-- CompetitionDistance: float (nullable = true)\n",
      " |-- comp_months: float (nullable = true)\n",
      "\n"
     ]
    }
   ],
   "source": [
    "stores_df.printSchema()"
   ]
  },
  {
   "cell_type": "code",
   "execution_count": 41,
   "metadata": {},
   "outputs": [
    {
     "name": "stdout",
     "output_type": "stream",
     "text": [
      "root\n",
      " |-- Store: integer (nullable = true)\n",
      " |-- StoreType: string (nullable = true)\n",
      " |-- Assortment: string (nullable = true)\n",
      " |-- CompetitionDistance: float (nullable = true)\n",
      " |-- comp_months: float (nullable = true)\n",
      "\n"
     ]
    }
   ],
   "source": [
    "#CompetitionDistance seems to be a int types. It need to be converted into a float variable\n",
    "stores_df = stores_df.withColumn( \"CompetitionDistance\",\n",
    "                   stores_df[\"CompetitionDistance\"].cast( 'float' ) )\n",
    "stores_df.printSchema()"
   ]
  },
  {
   "cell_type": "code",
   "execution_count": 42,
   "metadata": {
    "collapsed": true
   },
   "outputs": [],
   "source": [
    "#To predict sales of stores we can use the following features to make prediction\n",
    "store_sales_df = retail_df.select('Store',\n",
    "'DayOfWeek',\n",
    "'Promo',\n",
    "'StateHoliday',\n",
    "'SchoolHoliday',\n",
    "'month',\n",
    "'year',\n",
    "'Sales',\n",
    ")"
   ]
  },
  {
   "cell_type": "code",
   "execution_count": 43,
   "metadata": {},
   "outputs": [
    {
     "name": "stdout",
     "output_type": "stream",
     "text": [
      "+-----+---------+-----+------------+-------------+-----+----+-----+\n",
      "|Store|DayOfWeek|Promo|StateHoliday|SchoolHoliday|month|year|Sales|\n",
      "+-----+---------+-----+------------+-------------+-----+----+-----+\n",
      "| 1006|        3|    1|           0|            0|    4|2014| 6641|\n",
      "| 1007|        3|    1|           0|            0|    4|2014| 6872|\n",
      "| 1008|        3|    1|           0|            0|    4|2014| 5945|\n",
      "| 1009|        3|    1|           0|            0|    4|2014| 4837|\n",
      "| 1010|        3|    1|           0|            0|    4|2014| 9349|\n",
      "| 1011|        3|    1|           0|            0|    4|2014| 9483|\n",
      "| 1012|        3|    1|           0|            0|    4|2014| 6081|\n",
      "| 1013|        3|    1|           0|            0|    4|2014| 4833|\n",
      "| 1014|        3|    1|           0|            0|    4|2014|14600|\n",
      "| 1015|        3|    1|           0|            0|    4|2014| 5820|\n",
      "+-----+---------+-----+------------+-------------+-----+----+-----+\n",
      "only showing top 10 rows\n",
      "\n"
     ]
    }
   ],
   "source": [
    "store_sales_df.show(10)"
   ]
  },
  {
   "cell_type": "code",
   "execution_count": 44,
   "metadata": {
    "collapsed": true
   },
   "outputs": [],
   "source": [
    "store_sales_df = store_sales_df.join(stores_df,on=\"Store\",how=\"inner\")"
   ]
  },
  {
   "cell_type": "code",
   "execution_count": 45,
   "metadata": {},
   "outputs": [
    {
     "name": "stdout",
     "output_type": "stream",
     "text": [
      "+-----+---------+-----+------------+-------------+-----+----+-----+---------+----------+-------------------+-----------+\n",
      "|Store|DayOfWeek|Promo|StateHoliday|SchoolHoliday|month|year|Sales|StoreType|Assortment|CompetitionDistance|comp_months|\n",
      "+-----+---------+-----+------------+-------------+-----+----+-----+---------+----------+-------------------+-----------+\n",
      "| 1006|        3|    1|           0|            0|    4|2014| 6641|        c|         c|             3890.0|      109.0|\n",
      "| 1007|        3|    1|           0|            0|    4|2014| 6872|        c|         c|             4180.0|       39.0|\n",
      "| 1008|        3|    1|           0|            0|    4|2014| 5945|        a|         c|               30.0|       63.0|\n",
      "| 1009|        3|    1|           0|            0|    4|2014| 4837|        a|         a|              230.0|      137.0|\n",
      "| 1010|        3|    1|           0|            0|    4|2014| 9349|        d|         c|             4610.0|       66.0|\n",
      "| 1011|        3|    1|           0|            0|    4|2014| 9483|        a|         c|              490.0|       39.0|\n",
      "| 1012|        3|    1|           0|            0|    4|2014| 6081|        d|         c|             6330.0|      138.0|\n",
      "| 1013|        3|    1|           0|            0|    4|2014| 4833|        a|         a|              630.0|       10.0|\n",
      "| 1014|        3|    1|           0|            0|    4|2014|14600|        a|         c|              210.0|        0.0|\n",
      "| 1015|        3|    1|           0|            0|    4|2014| 5820|        d|         c|             9910.0|       60.0|\n",
      "+-----+---------+-----+------------+-------------+-----+----+-----+---------+----------+-------------------+-----------+\n",
      "only showing top 10 rows\n",
      "\n"
     ]
    }
   ],
   "source": [
    "store_sales_df.show(10)"
   ]
  },
  {
   "cell_type": "code",
   "execution_count": 46,
   "metadata": {},
   "outputs": [
    {
     "data": {
      "text/plain": [
       "['Store',\n",
       " 'DayOfWeek',\n",
       " 'Promo',\n",
       " 'StateHoliday',\n",
       " 'SchoolHoliday',\n",
       " 'month',\n",
       " 'year',\n",
       " 'Sales',\n",
       " 'StoreType',\n",
       " 'Assortment',\n",
       " 'CompetitionDistance',\n",
       " 'comp_months']"
      ]
     },
     "execution_count": 46,
     "metadata": {},
     "output_type": "execute_result"
    }
   ],
   "source": [
    "store_sales_df.columns"
   ]
  },
  {
   "cell_type": "code",
   "execution_count": 47,
   "metadata": {
    "collapsed": true
   },
   "outputs": [],
   "source": [
    "#Remove rows with 0 Sales,this can only mean store was closed\n",
    "store_sales_df = store_sales_df.where(store_sales_df.Sales>0)"
   ]
  },
  {
   "cell_type": "code",
   "execution_count": 48,
   "metadata": {},
   "outputs": [
    {
     "data": {
      "text/plain": [
       "DataFrame[Store: int, DayOfWeek: int, Promo: int, StateHoliday: string, SchoolHoliday: string, month: int, year: int, Sales: int, StoreType: string, Assortment: string, CompetitionDistance: float, comp_months: float]"
      ]
     },
     "execution_count": 48,
     "metadata": {},
     "output_type": "execute_result"
    }
   ],
   "source": [
    "#Fill all null values with zero for calculation ease\n",
    "store_sales_df.fillna(0)"
   ]
  },
  {
   "cell_type": "code",
   "execution_count": 49,
   "metadata": {
    "collapsed": true
   },
   "outputs": [],
   "source": [
    "store_sales_df = store_sales_df.na.drop( how = 'any' )"
   ]
  },
  {
   "cell_type": "code",
   "execution_count": 50,
   "metadata": {},
   "outputs": [
    {
     "data": {
      "text/plain": [
       "['DayOfWeek',\n",
       " 'Promo',\n",
       " 'StateHoliday',\n",
       " 'SchoolHoliday',\n",
       " 'month',\n",
       " 'year',\n",
       " 'StoreType',\n",
       " 'Assortment']"
      ]
     },
     "execution_count": 50,
     "metadata": {},
     "output_type": "execute_result"
    }
   ],
   "source": [
    "#Which are categorical and which are continuous features?\n",
    "cat_features = ['DayOfWeek',\n",
    "              'Promo',\n",
    "              'StateHoliday',\n",
    "              'SchoolHoliday',\n",
    "              'month',\n",
    "              'year',\n",
    "              'StoreType',\n",
    "              'Assortment']\n",
    "cat_features"
   ]
  },
  {
   "cell_type": "code",
   "execution_count": 51,
   "metadata": {},
   "outputs": [
    {
     "data": {
      "text/plain": [
       "['CompetitionDistance', 'comp_months']"
      ]
     },
     "execution_count": 51,
     "metadata": {},
     "output_type": "execute_result"
    }
   ],
   "source": [
    "continuous_features = ['CompetitionDistance', 'comp_months']\n",
    "continuous_features"
   ]
  },
  {
   "cell_type": "code",
   "execution_count": 52,
   "metadata": {
    "collapsed": true
   },
   "outputs": [],
   "source": [
    "#Function to encode categorical features\n",
    "from pyspark.ml.feature import OneHotEncoder, StringIndexer, VectorAssembler, PolynomialExpansion, VectorIndexer\n",
    "\n",
    "\n",
    "def create_category_vars( dataset, field_name ):\n",
    "    idx_col = field_name + \"Index\"\n",
    "    col_ver = field_name + \"Vec\"\n",
    "    \n",
    "    string_indxer = StringIndexer(inputCol=field_name,outputCol=idx_col)\n",
    "    \n",
    "    mymodel = string_indxer.fit(dataset)\n",
    "    indexed = mymodel.transform(dataset)\n",
    "    \n",
    "    string_encoder = OneHotEncoder(dropLast=True,inputCol=idx_col,outputCol=col_ver)\n",
    "    \n",
    "    return string_encoder.transform(indexed)"
   ]
  },
  {
   "cell_type": "code",
   "execution_count": 53,
   "metadata": {},
   "outputs": [
    {
     "name": "stdout",
     "output_type": "stream",
     "text": [
      "+-----+---------+-----+------------+-------------+-----+----+-----+---------+----------+-------------------+-----------+--------------+-------------+----------+---------+-----------------+---------------+------------------+----------------+----------+--------------+---------+-------------+--------------+-------------+---------------+-------------+\n",
      "|Store|DayOfWeek|Promo|StateHoliday|SchoolHoliday|month|year|Sales|StoreType|Assortment|CompetitionDistance|comp_months|DayOfWeekIndex| DayOfWeekVec|PromoIndex| PromoVec|StateHolidayIndex|StateHolidayVec|SchoolHolidayIndex|SchoolHolidayVec|monthIndex|      monthVec|yearIndex|      yearVec|StoreTypeIndex| StoreTypeVec|AssortmentIndex|AssortmentVec|\n",
      "+-----+---------+-----+------------+-------------+-----+----+-----+---------+----------+-------------------+-----------+--------------+-------------+----------+---------+-----------------+---------------+------------------+----------------+----------+--------------+---------+-------------+--------------+-------------+---------------+-------------+\n",
      "| 1006|        3|    1|           0|            0|    4|2014| 6641|        c|         c|             3890.0|      109.0|           2.0|(6,[2],[1.0])|       1.0|(1,[],[])|              0.0|  (3,[0],[1.0])|               0.0|   (1,[0],[1.0])|       4.0|(11,[4],[1.0])|      1.0|(2,[1],[1.0])|           2.0|(3,[2],[1.0])|            1.0|(2,[1],[1.0])|\n",
      "| 1007|        3|    1|           0|            0|    4|2014| 6872|        c|         c|             4180.0|       39.0|           2.0|(6,[2],[1.0])|       1.0|(1,[],[])|              0.0|  (3,[0],[1.0])|               0.0|   (1,[0],[1.0])|       4.0|(11,[4],[1.0])|      1.0|(2,[1],[1.0])|           2.0|(3,[2],[1.0])|            1.0|(2,[1],[1.0])|\n",
      "+-----+---------+-----+------------+-------------+-----+----+-----+---------+----------+-------------------+-----------+--------------+-------------+----------+---------+-----------------+---------------+------------------+----------------+----------+--------------+---------+-------------+--------------+-------------+---------------+-------------+\n",
      "only showing top 2 rows\n",
      "\n"
     ]
    }
   ],
   "source": [
    "for col in cat_features:\n",
    "    store_sales_df = create_category_vars( store_sales_df, col )"
   ]
  },
  {
   "cell_type": "code",
   "execution_count": 56,
   "metadata": {},
   "outputs": [
    {
     "data": {
      "text/plain": [
       "[Row(Store=1006, DayOfWeek=3, Promo=1, StateHoliday=u'0', SchoolHoliday=u'0', month=4, year=2014, Sales=6641, StoreType=u'c', Assortment=u'c', CompetitionDistance=3890.0, comp_months=109.0, DayOfWeekIndex=2.0, DayOfWeekVec=SparseVector(6, {2: 1.0}), PromoIndex=1.0, PromoVec=SparseVector(1, {}), StateHolidayIndex=0.0, StateHolidayVec=SparseVector(3, {0: 1.0}), SchoolHolidayIndex=0.0, SchoolHolidayVec=SparseVector(1, {0: 1.0}), monthIndex=4.0, monthVec=SparseVector(11, {4: 1.0}), yearIndex=1.0, yearVec=SparseVector(2, {1: 1.0}), StoreTypeIndex=2.0, StoreTypeVec=SparseVector(3, {2: 1.0}), AssortmentIndex=1.0, AssortmentVec=SparseVector(2, {1: 1.0}))]"
      ]
     },
     "execution_count": 56,
     "metadata": {},
     "output_type": "execute_result"
    }
   ],
   "source": [
    "store_sales_df.take(1) # categorical data is represented as vertex ie numerical form(ombination of index and somehg else)"
   ]
  },
  {
   "cell_type": "code",
   "execution_count": 55,
   "metadata": {},
   "outputs": [
    {
     "data": {
      "text/plain": [
       "['Store',\n",
       " 'DayOfWeek',\n",
       " 'Promo',\n",
       " 'StateHoliday',\n",
       " 'SchoolHoliday',\n",
       " 'month',\n",
       " 'year',\n",
       " 'Sales',\n",
       " 'StoreType',\n",
       " 'Assortment',\n",
       " 'CompetitionDistance',\n",
       " 'comp_months',\n",
       " 'DayOfWeekIndex',\n",
       " 'DayOfWeekVec',\n",
       " 'PromoIndex',\n",
       " 'PromoVec',\n",
       " 'StateHolidayIndex',\n",
       " 'StateHolidayVec',\n",
       " 'SchoolHolidayIndex',\n",
       " 'SchoolHolidayVec',\n",
       " 'monthIndex',\n",
       " 'monthVec',\n",
       " 'yearIndex',\n",
       " 'yearVec',\n",
       " 'StoreTypeIndex',\n",
       " 'StoreTypeVec',\n",
       " 'AssortmentIndex',\n",
       " 'AssortmentVec']"
      ]
     },
     "execution_count": 55,
     "metadata": {},
     "output_type": "execute_result"
    }
   ],
   "source": [
    "store_sales_df.columns"
   ]
  },
  {
   "cell_type": "code",
   "execution_count": 58,
   "metadata": {},
   "outputs": [],
   "source": [
    "categorical_vecs = [ \"\".join( (cat, \"Vec\") ) for cat in cat_features ]"
   ]
  },
  {
   "cell_type": "code",
   "execution_count": 59,
   "metadata": {},
   "outputs": [
    {
     "data": {
      "text/plain": [
       "['DayOfWeekVec',\n",
       " 'PromoVec',\n",
       " 'StateHolidayVec',\n",
       " 'SchoolHolidayVec',\n",
       " 'monthVec',\n",
       " 'yearVec',\n",
       " 'StoreTypeVec',\n",
       " 'AssortmentVec']"
      ]
     },
     "execution_count": 59,
     "metadata": {},
     "output_type": "execute_result"
    }
   ],
   "source": [
    "categorical_vecs"
   ]
  },
  {
   "cell_type": "code",
   "execution_count": 61,
   "metadata": {},
   "outputs": [],
   "source": [
    "#Including all features for model building\n",
    "all_features = continuous_features + categorical_vecs"
   ]
  },
  {
   "cell_type": "code",
   "execution_count": 62,
   "metadata": {},
   "outputs": [
    {
     "data": {
      "text/plain": [
       "['CompetitionDistance',\n",
       " 'comp_months',\n",
       " 'DayOfWeekVec',\n",
       " 'PromoVec',\n",
       " 'StateHolidayVec',\n",
       " 'SchoolHolidayVec',\n",
       " 'monthVec',\n",
       " 'yearVec',\n",
       " 'StoreTypeVec',\n",
       " 'AssortmentVec']"
      ]
     },
     "execution_count": 62,
     "metadata": {},
     "output_type": "execute_result"
    }
   ],
   "source": [
    "all_features"
   ]
  },
  {
   "cell_type": "code",
   "execution_count": 63,
   "metadata": {
    "collapsed": true
   },
   "outputs": [],
   "source": [
    "#Creating the vector of all predictors\n",
    "assembler = VectorAssembler( inputCols = all_features, outputCol = \"features\")"
   ]
  },
  {
   "cell_type": "code",
   "execution_count": 64,
   "metadata": {
    "collapsed": true
   },
   "outputs": [],
   "source": [
    "store_sales_df = assembler.transform( store_sales_df )"
   ]
  },
  {
   "cell_type": "code",
   "execution_count": 65,
   "metadata": {},
   "outputs": [
    {
     "data": {
      "text/plain": [
       "[Row(Store=1006, DayOfWeek=3, Promo=1, StateHoliday=u'0', SchoolHoliday=u'0', month=4, year=2014, Sales=6641, StoreType=u'c', Assortment=u'c', CompetitionDistance=3890.0, comp_months=109.0, DayOfWeekIndex=2.0, DayOfWeekVec=SparseVector(6, {2: 1.0}), PromoIndex=1.0, PromoVec=SparseVector(1, {}), StateHolidayIndex=0.0, StateHolidayVec=SparseVector(3, {0: 1.0}), SchoolHolidayIndex=0.0, SchoolHolidayVec=SparseVector(1, {0: 1.0}), monthIndex=4.0, monthVec=SparseVector(11, {4: 1.0}), yearIndex=1.0, yearVec=SparseVector(2, {1: 1.0}), StoreTypeIndex=2.0, StoreTypeVec=SparseVector(3, {2: 1.0}), AssortmentIndex=1.0, AssortmentVec=SparseVector(2, {1: 1.0}), features=SparseVector(31, {0: 3890.0, 1: 109.0, 4: 1.0, 9: 1.0, 12: 1.0, 17: 1.0, 25: 1.0, 28: 1.0, 30: 1.0}))]"
      ]
     },
     "execution_count": 65,
     "metadata": {},
     "output_type": "execute_result"
    }
   ],
   "source": [
    "store_sales_df.take(1)"
   ]
  },
  {
   "cell_type": "code",
   "execution_count": 66,
   "metadata": {
    "collapsed": true
   },
   "outputs": [],
   "source": [
    "#Setting the target variables - Sales\n",
    "store_sales_df = store_sales_df.withColumn( \"label\", store_sales_df.Sales.cast( 'double' ) )"
   ]
  },
  {
   "cell_type": "code",
   "execution_count": 67,
   "metadata": {},
   "outputs": [
    {
     "data": {
      "text/plain": [
       "[Row(Store=1006, DayOfWeek=3, Promo=1, StateHoliday=u'0', SchoolHoliday=u'0', month=4, year=2014, Sales=6641, StoreType=u'c', Assortment=u'c', CompetitionDistance=3890.0, comp_months=109.0, DayOfWeekIndex=2.0, DayOfWeekVec=SparseVector(6, {2: 1.0}), PromoIndex=1.0, PromoVec=SparseVector(1, {}), StateHolidayIndex=0.0, StateHolidayVec=SparseVector(3, {0: 1.0}), SchoolHolidayIndex=0.0, SchoolHolidayVec=SparseVector(1, {0: 1.0}), monthIndex=4.0, monthVec=SparseVector(11, {4: 1.0}), yearIndex=1.0, yearVec=SparseVector(2, {1: 1.0}), StoreTypeIndex=2.0, StoreTypeVec=SparseVector(3, {2: 1.0}), AssortmentIndex=1.0, AssortmentVec=SparseVector(2, {1: 1.0}), features=SparseVector(31, {0: 3890.0, 1: 109.0, 4: 1.0, 9: 1.0, 12: 1.0, 17: 1.0, 25: 1.0, 28: 1.0, 30: 1.0}), label=6641.0)]"
      ]
     },
     "execution_count": 67,
     "metadata": {},
     "output_type": "execute_result"
    }
   ],
   "source": [
    "store_sales_df.take(1)"
   ]
  },
  {
   "cell_type": "code",
   "execution_count": 68,
   "metadata": {},
   "outputs": [
    {
     "name": "stdout",
     "output_type": "stream",
     "text": [
      "+--------------------+------+\n",
      "|            features| label|\n",
      "+--------------------+------+\n",
      "|(31,[0,1,4,9,12,1...|6641.0|\n",
      "|(31,[0,1,4,9,12,1...|6872.0|\n",
      "|(31,[0,1,4,9,12,1...|5945.0|\n",
      "|(31,[0,1,4,9,12,1...|4837.0|\n",
      "|(31,[0,1,4,9,12,1...|9349.0|\n",
      "+--------------------+------+\n",
      "only showing top 5 rows\n",
      "\n"
     ]
    }
   ],
   "source": [
    "store_sales_df.select( \"features\", \"label\" ).show( 5 )"
   ]
  },
  {
   "cell_type": "code",
   "execution_count": 70,
   "metadata": {
    "collapsed": true
   },
   "outputs": [],
   "source": [
    "#Split the dataset\n",
    "seed = 42\n",
    "train_df, test_df = store_sales_df.randomSplit( [0.6, 0.4], seed = seed )"
   ]
  },
  {
   "cell_type": "code",
   "execution_count": 72,
   "metadata": {},
   "outputs": [],
   "source": [
    "#Train Linear Regression Model\n",
    "from pyspark.ml.regression import LinearRegression\n",
    "linreg = LinearRegression(maxIter=500, regParam=0.0)\n",
    "lm = linreg.fit( train_df )"
   ]
  },
  {
   "cell_type": "code",
   "execution_count": 73,
   "metadata": {},
   "outputs": [
    {
     "data": {
      "text/plain": [
       "10573.789134035513"
      ]
     },
     "execution_count": 73,
     "metadata": {},
     "output_type": "execute_result"
    }
   ],
   "source": [
    "lm.intercept"
   ]
  },
  {
   "cell_type": "code",
   "execution_count": 74,
   "metadata": {},
   "outputs": [
    {
     "data": {
      "text/plain": [
       "DenseVector([-0.0154, 0.2568, -147.8423, -264.4089, -590.8483, -195.4261, 820.0042, -559.3289, -2307.1274, 1697.2213, 1787.188, 1711.7779, -298.7154, -2111.8542, -1800.7318, -1905.5925, -1670.6516, -1681.1365, -2014.0603, -1574.7404, -2080.5265, -1995.8379, -2067.2286, -1489.4316, -341.8331, -156.8647, -5345.3877, -5625.6319, -5459.9039, 3352.741, 4193.2384])"
      ]
     },
     "execution_count": 74,
     "metadata": {},
     "output_type": "execute_result"
    }
   ],
   "source": [
    "lm.coefficients"
   ]
  },
  {
   "cell_type": "code",
   "execution_count": 79,
   "metadata": {},
   "outputs": [],
   "source": [
    "#Making predictions on test data\n",
    "y_pred = lm.transform(test_df)"
   ]
  },
  {
   "cell_type": "code",
   "execution_count": 76,
   "metadata": {},
   "outputs": [
    {
     "name": "stdout",
     "output_type": "stream",
     "text": [
      "+--------------------+------+-----------------+\n",
      "|            features| label|       prediction|\n",
      "+--------------------+------+-----------------+\n",
      "|(31,[0,1,6,8,9,12...|4055.0|5927.070911996363|\n",
      "|(31,[0,1,6,8,9,12...|4717.0|5927.070911996363|\n",
      "|(31,[0,1,6,8,9,12...|3601.0|6112.039332218108|\n",
      "|(31,[0,1,6,8,9,12...|3994.0|6112.039332218108|\n",
      "|(31,[0,1,6,8,9,12...|3598.0| 6366.69786958085|\n",
      "+--------------------+------+-----------------+\n",
      "only showing top 5 rows\n",
      "\n"
     ]
    }
   ],
   "source": [
    "y_pred.select( 'features', 'label', 'prediction' ).show( 5 )"
   ]
  },
  {
   "cell_type": "code",
   "execution_count": 80,
   "metadata": {},
   "outputs": [
    {
     "data": {
      "text/plain": [
       "[Row(Store=1, DayOfWeek=1, Promo=0, StateHoliday=u'0', SchoolHoliday=u'0', month=1, year=2013, Sales=4055, StoreType=u'c', Assortment=u'a', CompetitionDistance=1270.0, comp_months=87.0, DayOfWeekIndex=4.0, DayOfWeekVec=SparseVector(6, {4: 1.0}), PromoIndex=0.0, PromoVec=SparseVector(1, {0: 1.0}), StateHolidayIndex=0.0, StateHolidayVec=SparseVector(3, {0: 1.0}), SchoolHolidayIndex=0.0, SchoolHolidayVec=SparseVector(1, {0: 1.0}), monthIndex=0.0, monthVec=SparseVector(11, {0: 1.0}), yearIndex=0.0, yearVec=SparseVector(2, {0: 1.0}), StoreTypeIndex=2.0, StoreTypeVec=SparseVector(3, {2: 1.0}), AssortmentIndex=0.0, AssortmentVec=SparseVector(2, {0: 1.0}), features=SparseVector(31, {0: 1270.0, 1: 87.0, 6: 1.0, 8: 1.0, 9: 1.0, 12: 1.0, 13: 1.0, 24: 1.0, 28: 1.0, 29: 1.0}), label=4055.0, prediction=5927.070911996363),\n",
       " Row(Store=1, DayOfWeek=1, Promo=0, StateHoliday=u'0', SchoolHoliday=u'0', month=1, year=2013, Sales=4717, StoreType=u'c', Assortment=u'a', CompetitionDistance=1270.0, comp_months=87.0, DayOfWeekIndex=4.0, DayOfWeekVec=SparseVector(6, {4: 1.0}), PromoIndex=0.0, PromoVec=SparseVector(1, {0: 1.0}), StateHolidayIndex=0.0, StateHolidayVec=SparseVector(3, {0: 1.0}), SchoolHolidayIndex=0.0, SchoolHolidayVec=SparseVector(1, {0: 1.0}), monthIndex=0.0, monthVec=SparseVector(11, {0: 1.0}), yearIndex=0.0, yearVec=SparseVector(2, {0: 1.0}), StoreTypeIndex=2.0, StoreTypeVec=SparseVector(3, {2: 1.0}), AssortmentIndex=0.0, AssortmentVec=SparseVector(2, {0: 1.0}), features=SparseVector(31, {0: 1270.0, 1: 87.0, 6: 1.0, 8: 1.0, 9: 1.0, 12: 1.0, 13: 1.0, 24: 1.0, 28: 1.0, 29: 1.0}), label=4717.0, prediction=5927.070911996363)]"
      ]
     },
     "execution_count": 80,
     "metadata": {},
     "output_type": "execute_result"
    }
   ],
   "source": [
    "type(y_pred)\n",
    "y_pred.take(2)"
   ]
  },
  {
   "cell_type": "code",
   "execution_count": 82,
   "metadata": {
    "collapsed": true
   },
   "outputs": [],
   "source": [
    "# Calculating RMSE and R-Squared\n",
    "from pyspark.ml.evaluation import RegressionEvaluator\n",
    "\n",
    "rmse_evaluator = RegressionEvaluator(labelCol=\"label\",\n",
    "                            predictionCol=\"prediction\",\n",
    "                            metricName=\"rmse\" )"
   ]
  },
  {
   "cell_type": "code",
   "execution_count": 83,
   "metadata": {},
   "outputs": [
    {
     "data": {
      "text/plain": [
       "2728.5161500194595"
      ]
     },
     "execution_count": 83,
     "metadata": {},
     "output_type": "execute_result"
    }
   ],
   "source": [
    "lm_rmse = rmse_evaluator.evaluate( y_pred )\n",
    "lm_rmse"
   ]
  },
  {
   "cell_type": "code",
   "execution_count": 84,
   "metadata": {},
   "outputs": [
    {
     "data": {
      "text/plain": [
       "0.22852781376475506"
      ]
     },
     "execution_count": 84,
     "metadata": {},
     "output_type": "execute_result"
    }
   ],
   "source": [
    "r2_evaluator = RegressionEvaluator(labelCol=\"label\",\n",
    "                            predictionCol=\"prediction\",\n",
    "                            metricName=\"r2\" )\n",
    "lm_r2 = r2_evaluator.evaluate( y_pred )\n",
    "lm_r2"
   ]
  },
  {
   "cell_type": "markdown",
   "metadata": {},
   "source": [
    "Accuracy of the model is very poor. This may be because we do not have right or enough variables which can predict the sales better. We can do feature engineering to create more features"
   ]
  },
  {
   "cell_type": "markdown",
   "metadata": {},
   "source": [
    "## Let's do soem feature engineering"
   ]
  },
  {
   "cell_type": "code",
   "execution_count": 85,
   "metadata": {
    "collapsed": true
   },
   "outputs": [],
   "source": [
    "#The sales might be influenced by if the next day is a holiday # obvious\n",
    "#What is the sales for the last 2 and 5 days? # reactive sales"
   ]
  },
  {
   "cell_type": "code",
   "execution_count": 102,
   "metadata": {},
   "outputs": [
    {
     "name": "stdout",
     "output_type": "stream",
     "text": [
      "+-----+---------+----------+-----+---------+----+-----+------------+-------------+-----+----+\n",
      "|Store|DayOfWeek|      Date|Sales|Customers|Open|Promo|StateHoliday|SchoolHoliday|month|year|\n",
      "+-----+---------+----------+-----+---------+----+-----+------------+-------------+-----+----+\n",
      "| 1006|        3|2014-04-02| 6641|      870|   1|    1|           0|            0|    4|2014|\n",
      "| 1007|        3|2014-04-02| 6872|      776|   1|    1|           0|            0|    4|2014|\n",
      "| 1008|        3|2014-04-02| 5945|      793|   1|    1|           0|            0|    4|2014|\n",
      "| 1009|        3|2014-04-02| 4837|      484|   1|    1|           0|            0|    4|2014|\n",
      "| 1010|        3|2014-04-02| 9349|      761|   1|    1|           0|            0|    4|2014|\n",
      "+-----+---------+----------+-----+---------+----+-----+------------+-------------+-----+----+\n",
      "only showing top 5 rows\n",
      "\n"
     ]
    }
   ],
   "source": [
    "retail_df.show(5)"
   ]
  },
  {
   "cell_type": "code",
   "execution_count": 103,
   "metadata": {
    "collapsed": true
   },
   "outputs": [],
   "source": [
    "from pyspark.sql.functions import lag, col, lead\n",
    "from pyspark.sql.window import Window\n",
    "w =  Window().partitionBy(\"Store\").orderBy(col(\"Date\"))\n",
    "retail_new_df = retail_df.select(\"*\",lead(\"StateHoliday\").over(w).alias(\"next_day_state_holiday\"))"
   ]
  },
  {
   "cell_type": "code",
   "execution_count": 104,
   "metadata": {},
   "outputs": [
    {
     "name": "stdout",
     "output_type": "stream",
     "text": [
      "+-----+---------+----------+-----+---------+----+-----+------------+-------------+-----+----+----------------------+\n",
      "|Store|DayOfWeek|      Date|Sales|Customers|Open|Promo|StateHoliday|SchoolHoliday|month|year|next_day_state_holiday|\n",
      "+-----+---------+----------+-----+---------+----+-----+------------+-------------+-----+----+----------------------+\n",
      "|  148|        2|2013-01-01|    0|        0|   0|    0|           a|            1|    1|2013|                     0|\n",
      "|  148|        3|2013-01-02| 7944|      781|   1|    0|           0|            1|    1|2013|                     0|\n",
      "|  148|        4|2013-01-03| 7517|      753|   1|    0|           0|            1|    1|2013|                     0|\n",
      "|  148|        5|2013-01-04| 7482|      721|   1|    0|           0|            1|    1|2013|                     0|\n",
      "|  148|        6|2013-01-05| 7750|      756|   1|    0|           0|            0|    1|2013|                     0|\n",
      "|  148|        7|2013-01-06|    0|        0|   0|    0|           0|            0|    1|2013|                     0|\n",
      "|  148|        1|2013-01-07|11901|     1079|   1|    1|           0|            0|    1|2013|                     0|\n",
      "|  148|        2|2013-01-08| 9363|      885|   1|    1|           0|            0|    1|2013|                     0|\n",
      "|  148|        3|2013-01-09| 8578|      823|   1|    1|           0|            0|    1|2013|                     0|\n",
      "|  148|        4|2013-01-10| 8722|      828|   1|    1|           0|            0|    1|2013|                     0|\n",
      "|  148|        5|2013-01-11| 9000|      886|   1|    1|           0|            0|    1|2013|                     0|\n",
      "|  148|        6|2013-01-12| 7652|      721|   1|    0|           0|            0|    1|2013|                     0|\n",
      "|  148|        7|2013-01-13|    0|        0|   0|    0|           0|            0|    1|2013|                     0|\n",
      "|  148|        1|2013-01-14| 7436|      787|   1|    0|           0|            0|    1|2013|                     0|\n",
      "|  148|        2|2013-01-15| 7597|      764|   1|    0|           0|            0|    1|2013|                     0|\n",
      "|  148|        3|2013-01-16| 6572|      721|   1|    0|           0|            0|    1|2013|                     0|\n",
      "|  148|        4|2013-01-17| 7295|      761|   1|    0|           0|            0|    1|2013|                     0|\n",
      "|  148|        5|2013-01-18| 7430|      789|   1|    0|           0|            0|    1|2013|                     0|\n",
      "|  148|        6|2013-01-19| 7107|      681|   1|    0|           0|            0|    1|2013|                     0|\n",
      "|  148|        7|2013-01-20|    0|        0|   0|    0|           0|            0|    1|2013|                     0|\n",
      "|  148|        1|2013-01-21| 9642|      869|   1|    1|           0|            0|    1|2013|                     0|\n",
      "|  148|        2|2013-01-22| 8554|      811|   1|    1|           0|            0|    1|2013|                     0|\n",
      "|  148|        3|2013-01-23| 8594|      803|   1|    1|           0|            0|    1|2013|                     0|\n",
      "|  148|        4|2013-01-24| 8097|      791|   1|    1|           0|            0|    1|2013|                     0|\n",
      "|  148|        5|2013-01-25| 9137|      846|   1|    1|           0|            0|    1|2013|                     0|\n",
      "|  148|        6|2013-01-26| 7274|      692|   1|    0|           0|            0|    1|2013|                     0|\n",
      "|  148|        7|2013-01-27|    0|        0|   0|    0|           0|            0|    1|2013|                     0|\n",
      "|  148|        1|2013-01-28| 7631|      796|   1|    0|           0|            0|    1|2013|                     0|\n",
      "|  148|        2|2013-01-29| 6685|      716|   1|    0|           0|            0|    1|2013|                     0|\n",
      "|  148|        3|2013-01-30| 7363|      721|   1|    0|           0|            0|    1|2013|                     0|\n",
      "|  148|        4|2013-01-31| 8862|      832|   1|    0|           0|            0|    1|2013|                     0|\n",
      "|  148|        5|2013-02-01| 8548|      854|   1|    0|           0|            0|    2|2013|                     0|\n",
      "|  148|        6|2013-02-02| 7767|      654|   1|    0|           0|            0|    2|2013|                     0|\n",
      "|  148|        7|2013-02-03|    0|        0|   0|    0|           0|            0|    2|2013|                     0|\n",
      "|  148|        1|2013-02-04|11165|      953|   1|    1|           0|            1|    2|2013|                     0|\n",
      "|  148|        2|2013-02-05| 9790|      875|   1|    1|           0|            1|    2|2013|                     0|\n",
      "|  148|        3|2013-02-06| 9368|      856|   1|    1|           0|            1|    2|2013|                     0|\n",
      "|  148|        4|2013-02-07| 8580|      805|   1|    1|           0|            1|    2|2013|                     0|\n",
      "|  148|        5|2013-02-08| 7787|      769|   1|    1|           0|            1|    2|2013|                     0|\n",
      "|  148|        6|2013-02-09| 6826|      640|   1|    0|           0|            0|    2|2013|                     0|\n",
      "|  148|        7|2013-02-10|    0|        0|   0|    0|           0|            0|    2|2013|                     0|\n",
      "|  148|        1|2013-02-11| 8292|      834|   1|    0|           0|            0|    2|2013|                     0|\n",
      "|  148|        2|2013-02-12| 7192|      793|   1|    0|           0|            0|    2|2013|                     0|\n",
      "|  148|        3|2013-02-13| 6866|      748|   1|    0|           0|            0|    2|2013|                     0|\n",
      "|  148|        4|2013-02-14| 7897|      786|   1|    0|           0|            0|    2|2013|                     0|\n",
      "|  148|        5|2013-02-15| 7563|      755|   1|    0|           0|            0|    2|2013|                     0|\n",
      "|  148|        6|2013-02-16| 7450|      676|   1|    0|           0|            0|    2|2013|                     0|\n",
      "|  148|        7|2013-02-17|    0|        0|   0|    0|           0|            0|    2|2013|                     0|\n",
      "|  148|        1|2013-02-18|11105|     1014|   1|    1|           0|            0|    2|2013|                     0|\n",
      "|  148|        2|2013-02-19| 8369|      799|   1|    1|           0|            0|    2|2013|                     0|\n",
      "|  148|        3|2013-02-20| 8883|      863|   1|    1|           0|            0|    2|2013|                     0|\n",
      "|  148|        4|2013-02-21| 8738|      797|   1|    1|           0|            0|    2|2013|                     0|\n",
      "|  148|        5|2013-02-22| 8926|      842|   1|    1|           0|            0|    2|2013|                     0|\n",
      "|  148|        6|2013-02-23| 7226|      643|   1|    0|           0|            0|    2|2013|                     0|\n",
      "|  148|        7|2013-02-24|    0|        0|   0|    0|           0|            0|    2|2013|                     0|\n",
      "|  148|        1|2013-02-25| 7086|      786|   1|    0|           0|            0|    2|2013|                     0|\n",
      "|  148|        2|2013-02-26| 7148|      736|   1|    0|           0|            0|    2|2013|                     0|\n",
      "|  148|        3|2013-02-27| 6913|      723|   1|    0|           0|            0|    2|2013|                     0|\n",
      "|  148|        4|2013-02-28| 8229|      808|   1|    0|           0|            0|    2|2013|                     0|\n",
      "|  148|        5|2013-03-01| 7597|      768|   1|    0|           0|            0|    3|2013|                     0|\n",
      "|  148|        6|2013-03-02| 7693|      715|   1|    0|           0|            0|    3|2013|                     0|\n",
      "|  148|        7|2013-03-03|    0|        0|   0|    0|           0|            0|    3|2013|                     0|\n",
      "|  148|        1|2013-03-04|12817|     1094|   1|    1|           0|            0|    3|2013|                     0|\n",
      "|  148|        2|2013-03-05|10669|      990|   1|    1|           0|            0|    3|2013|                     0|\n",
      "|  148|        3|2013-03-06| 8805|      839|   1|    1|           0|            0|    3|2013|                     0|\n",
      "|  148|        4|2013-03-07| 9583|      920|   1|    1|           0|            0|    3|2013|                     0|\n",
      "|  148|        5|2013-03-08| 9099|      855|   1|    1|           0|            0|    3|2013|                     0|\n",
      "|  148|        6|2013-03-09| 7545|      683|   1|    0|           0|            0|    3|2013|                     0|\n",
      "|  148|        7|2013-03-10|    0|        0|   0|    0|           0|            0|    3|2013|                     0|\n",
      "|  148|        1|2013-03-11| 7005|      752|   1|    0|           0|            0|    3|2013|                     0|\n",
      "|  148|        2|2013-03-12| 6965|      743|   1|    0|           0|            0|    3|2013|                     0|\n",
      "|  148|        3|2013-03-13| 7515|      797|   1|    0|           0|            0|    3|2013|                     0|\n",
      "|  148|        4|2013-03-14| 7879|      769|   1|    0|           0|            0|    3|2013|                     0|\n",
      "|  148|        5|2013-03-15| 7621|      745|   1|    0|           0|            0|    3|2013|                     0|\n",
      "|  148|        6|2013-03-16| 8230|      757|   1|    0|           0|            0|    3|2013|                     0|\n",
      "|  148|        7|2013-03-17|    0|        0|   0|    0|           0|            0|    3|2013|                     0|\n",
      "|  148|        1|2013-03-18|10601|      956|   1|    1|           0|            0|    3|2013|                     0|\n",
      "|  148|        2|2013-03-19| 7921|      751|   1|    1|           0|            0|    3|2013|                     0|\n",
      "|  148|        3|2013-03-20| 9544|      850|   1|    1|           0|            0|    3|2013|                     0|\n",
      "|  148|        4|2013-03-21| 8060|      758|   1|    1|           0|            0|    3|2013|                     0|\n",
      "|  148|        5|2013-03-22| 8929|      850|   1|    1|           0|            0|    3|2013|                     0|\n",
      "|  148|        6|2013-03-23| 7384|      694|   1|    0|           0|            0|    3|2013|                     0|\n",
      "|  148|        7|2013-03-24|    0|        0|   0|    0|           0|            0|    3|2013|                     0|\n",
      "|  148|        1|2013-03-25|11941|     1053|   1|    1|           0|            1|    3|2013|                     0|\n",
      "|  148|        2|2013-03-26|10213|      975|   1|    1|           0|            1|    3|2013|                     0|\n",
      "|  148|        3|2013-03-27| 9567|      899|   1|    1|           0|            1|    3|2013|                     0|\n",
      "|  148|        4|2013-03-28|11892|     1112|   1|    1|           0|            1|    3|2013|                     b|\n",
      "|  148|        5|2013-03-29|    0|        0|   0|    1|           b|            1|    3|2013|                     0|\n",
      "|  148|        6|2013-03-30| 8842|      893|   1|    0|           0|            0|    3|2013|                     0|\n",
      "|  148|        7|2013-03-31|    0|        0|   0|    0|           0|            0|    3|2013|                     b|\n",
      "|  148|        1|2013-04-01|    0|        0|   0|    0|           b|            1|    4|2013|                     0|\n",
      "|  148|        2|2013-04-02| 8958|      929|   1|    0|           0|            1|    4|2013|                     0|\n",
      "|  148|        3|2013-04-03| 7639|      769|   1|    0|           0|            1|    4|2013|                     0|\n",
      "|  148|        4|2013-04-04| 7753|      764|   1|    0|           0|            1|    4|2013|                     0|\n",
      "|  148|        5|2013-04-05| 7951|      774|   1|    0|           0|            1|    4|2013|                     0|\n",
      "|  148|        6|2013-04-06| 7831|      675|   1|    0|           0|            0|    4|2013|                     0|\n",
      "|  148|        7|2013-04-07|    0|        0|   0|    0|           0|            0|    4|2013|                     0|\n",
      "|  148|        1|2013-04-08|11950|     1073|   1|    1|           0|            0|    4|2013|                     0|\n",
      "|  148|        2|2013-04-09| 9906|      910|   1|    1|           0|            0|    4|2013|                     0|\n",
      "|  148|        3|2013-04-10| 8693|      832|   1|    1|           0|            0|    4|2013|                     0|\n",
      "+-----+---------+----------+-----+---------+----+-----+------------+-------------+-----+----+----------------------+\n",
      "only showing top 100 rows\n",
      "\n"
     ]
    }
   ],
   "source": [
    "retail_new_df.show(100)"
   ]
  },
  {
   "cell_type": "code",
   "execution_count": 105,
   "metadata": {},
   "outputs": [],
   "source": [
    "#Is the next day a school holiday?\n",
    "w = Window().partitionBy(\"Store\").orderBy(col(\"Date\"))\n",
    "retail_new_df = retail_new_df.select(\"*\", lead(\"SchoolHoliday\").over(w).alias(\"next_day_school_holiday\"))\n"
   ]
  },
  {
   "cell_type": "code",
   "execution_count": 108,
   "metadata": {},
   "outputs": [
    {
     "name": "stdout",
     "output_type": "stream",
     "text": [
      "+-----+----------+------------+-------------+----------------------+-----------------------+\n",
      "|Store|      Date|StateHoliday|SchoolHoliday|next_day_state_holiday|next_day_school_holiday|\n",
      "+-----+----------+------------+-------------+----------------------+-----------------------+\n",
      "|  148|2013-01-01|           a|            1|                     0|                      1|\n",
      "|  148|2013-01-02|           0|            1|                     0|                      1|\n",
      "|  148|2013-01-03|           0|            1|                     0|                      1|\n",
      "|  148|2013-01-04|           0|            1|                     0|                      0|\n",
      "|  148|2013-01-05|           0|            0|                     0|                      0|\n",
      "|  148|2013-01-06|           0|            0|                     0|                      0|\n",
      "|  148|2013-01-07|           0|            0|                     0|                      0|\n",
      "|  148|2013-01-08|           0|            0|                     0|                      0|\n",
      "|  148|2013-01-09|           0|            0|                     0|                      0|\n",
      "|  148|2013-01-10|           0|            0|                     0|                      0|\n",
      "|  148|2013-01-11|           0|            0|                     0|                      0|\n",
      "|  148|2013-01-12|           0|            0|                     0|                      0|\n",
      "|  148|2013-01-13|           0|            0|                     0|                      0|\n",
      "|  148|2013-01-14|           0|            0|                     0|                      0|\n",
      "|  148|2013-01-15|           0|            0|                     0|                      0|\n",
      "|  148|2013-01-16|           0|            0|                     0|                      0|\n",
      "|  148|2013-01-17|           0|            0|                     0|                      0|\n",
      "|  148|2013-01-18|           0|            0|                     0|                      0|\n",
      "|  148|2013-01-19|           0|            0|                     0|                      0|\n",
      "|  148|2013-01-20|           0|            0|                     0|                      0|\n",
      "|  148|2013-01-21|           0|            0|                     0|                      0|\n",
      "|  148|2013-01-22|           0|            0|                     0|                      0|\n",
      "|  148|2013-01-23|           0|            0|                     0|                      0|\n",
      "|  148|2013-01-24|           0|            0|                     0|                      0|\n",
      "|  148|2013-01-25|           0|            0|                     0|                      0|\n",
      "|  148|2013-01-26|           0|            0|                     0|                      0|\n",
      "|  148|2013-01-27|           0|            0|                     0|                      0|\n",
      "|  148|2013-01-28|           0|            0|                     0|                      0|\n",
      "|  148|2013-01-29|           0|            0|                     0|                      0|\n",
      "|  148|2013-01-30|           0|            0|                     0|                      0|\n",
      "|  148|2013-01-31|           0|            0|                     0|                      0|\n",
      "|  148|2013-02-01|           0|            0|                     0|                      0|\n",
      "|  148|2013-02-02|           0|            0|                     0|                      0|\n",
      "|  148|2013-02-03|           0|            0|                     0|                      1|\n",
      "|  148|2013-02-04|           0|            1|                     0|                      1|\n",
      "|  148|2013-02-05|           0|            1|                     0|                      1|\n",
      "|  148|2013-02-06|           0|            1|                     0|                      1|\n",
      "|  148|2013-02-07|           0|            1|                     0|                      1|\n",
      "|  148|2013-02-08|           0|            1|                     0|                      0|\n",
      "|  148|2013-02-09|           0|            0|                     0|                      0|\n",
      "|  148|2013-02-10|           0|            0|                     0|                      0|\n",
      "|  148|2013-02-11|           0|            0|                     0|                      0|\n",
      "|  148|2013-02-12|           0|            0|                     0|                      0|\n",
      "|  148|2013-02-13|           0|            0|                     0|                      0|\n",
      "|  148|2013-02-14|           0|            0|                     0|                      0|\n",
      "|  148|2013-02-15|           0|            0|                     0|                      0|\n",
      "|  148|2013-02-16|           0|            0|                     0|                      0|\n",
      "|  148|2013-02-17|           0|            0|                     0|                      0|\n",
      "|  148|2013-02-18|           0|            0|                     0|                      0|\n",
      "|  148|2013-02-19|           0|            0|                     0|                      0|\n",
      "|  148|2013-02-20|           0|            0|                     0|                      0|\n",
      "|  148|2013-02-21|           0|            0|                     0|                      0|\n",
      "|  148|2013-02-22|           0|            0|                     0|                      0|\n",
      "|  148|2013-02-23|           0|            0|                     0|                      0|\n",
      "|  148|2013-02-24|           0|            0|                     0|                      0|\n",
      "|  148|2013-02-25|           0|            0|                     0|                      0|\n",
      "|  148|2013-02-26|           0|            0|                     0|                      0|\n",
      "|  148|2013-02-27|           0|            0|                     0|                      0|\n",
      "|  148|2013-02-28|           0|            0|                     0|                      0|\n",
      "|  148|2013-03-01|           0|            0|                     0|                      0|\n",
      "|  148|2013-03-02|           0|            0|                     0|                      0|\n",
      "|  148|2013-03-03|           0|            0|                     0|                      0|\n",
      "|  148|2013-03-04|           0|            0|                     0|                      0|\n",
      "|  148|2013-03-05|           0|            0|                     0|                      0|\n",
      "|  148|2013-03-06|           0|            0|                     0|                      0|\n",
      "|  148|2013-03-07|           0|            0|                     0|                      0|\n",
      "|  148|2013-03-08|           0|            0|                     0|                      0|\n",
      "|  148|2013-03-09|           0|            0|                     0|                      0|\n",
      "|  148|2013-03-10|           0|            0|                     0|                      0|\n",
      "|  148|2013-03-11|           0|            0|                     0|                      0|\n",
      "|  148|2013-03-12|           0|            0|                     0|                      0|\n",
      "|  148|2013-03-13|           0|            0|                     0|                      0|\n",
      "|  148|2013-03-14|           0|            0|                     0|                      0|\n",
      "|  148|2013-03-15|           0|            0|                     0|                      0|\n",
      "|  148|2013-03-16|           0|            0|                     0|                      0|\n",
      "|  148|2013-03-17|           0|            0|                     0|                      0|\n",
      "|  148|2013-03-18|           0|            0|                     0|                      0|\n",
      "|  148|2013-03-19|           0|            0|                     0|                      0|\n",
      "|  148|2013-03-20|           0|            0|                     0|                      0|\n",
      "|  148|2013-03-21|           0|            0|                     0|                      0|\n",
      "|  148|2013-03-22|           0|            0|                     0|                      0|\n",
      "|  148|2013-03-23|           0|            0|                     0|                      0|\n",
      "|  148|2013-03-24|           0|            0|                     0|                      1|\n",
      "|  148|2013-03-25|           0|            1|                     0|                      1|\n",
      "|  148|2013-03-26|           0|            1|                     0|                      1|\n",
      "|  148|2013-03-27|           0|            1|                     0|                      1|\n",
      "|  148|2013-03-28|           0|            1|                     b|                      1|\n",
      "|  148|2013-03-29|           b|            1|                     0|                      0|\n",
      "|  148|2013-03-30|           0|            0|                     0|                      0|\n",
      "|  148|2013-03-31|           0|            0|                     b|                      1|\n",
      "|  148|2013-04-01|           b|            1|                     0|                      1|\n",
      "|  148|2013-04-02|           0|            1|                     0|                      1|\n",
      "|  148|2013-04-03|           0|            1|                     0|                      1|\n",
      "|  148|2013-04-04|           0|            1|                     0|                      1|\n",
      "|  148|2013-04-05|           0|            1|                     0|                      0|\n",
      "|  148|2013-04-06|           0|            0|                     0|                      0|\n",
      "|  148|2013-04-07|           0|            0|                     0|                      0|\n",
      "|  148|2013-04-08|           0|            0|                     0|                      0|\n",
      "|  148|2013-04-09|           0|            0|                     0|                      0|\n",
      "|  148|2013-04-10|           0|            0|                     0|                      0|\n",
      "+-----+----------+------------+-------------+----------------------+-----------------------+\n",
      "only showing top 100 rows\n",
      "\n"
     ]
    }
   ],
   "source": [
    "retail_new_df.select(\"Store\",\"Date\",\"StateHoliday\",\"SchoolHoliday\",\"next_day_state_holiday\",\"next_day_school_holiday\").show(100)"
   ]
  },
  {
   "cell_type": "code",
   "execution_count": 109,
   "metadata": {
    "collapsed": true
   },
   "outputs": [],
   "source": [
    "#mean sales for the last 2 days\n",
    "w = Window().partitionBy(\"Store\").orderBy(\"Date\")\n",
    "retail_new_df = retail_new_df.withColumn(\"avg_sales_last_2days\",\n",
    "                                       ( lag(\"Sales\", 1).over(w) + lag(\"Sales\", 2).over(w) ) / 2 )"
   ]
  },
  {
   "cell_type": "code",
   "execution_count": 111,
   "metadata": {},
   "outputs": [
    {
     "name": "stdout",
     "output_type": "stream",
     "text": [
      "+-----+---------+----------+-----+---------+----+-----+------------+-------------+-----+----+----------------------+-----------------------+--------------------+\n",
      "|Store|DayOfWeek|      Date|Sales|Customers|Open|Promo|StateHoliday|SchoolHoliday|month|year|next_day_state_holiday|next_day_school_holiday|avg_sales_last_2days|\n",
      "+-----+---------+----------+-----+---------+----+-----+------------+-------------+-----+----+----------------------+-----------------------+--------------------+\n",
      "|  148|        2|2013-01-01|    0|        0|   0|    0|           a|            1|    1|2013|                     0|                      1|                null|\n",
      "|  148|        3|2013-01-02| 7944|      781|   1|    0|           0|            1|    1|2013|                     0|                      1|                null|\n",
      "|  148|        4|2013-01-03| 7517|      753|   1|    0|           0|            1|    1|2013|                     0|                      1|              3972.0|\n",
      "|  148|        5|2013-01-04| 7482|      721|   1|    0|           0|            1|    1|2013|                     0|                      0|              7730.5|\n",
      "|  148|        6|2013-01-05| 7750|      756|   1|    0|           0|            0|    1|2013|                     0|                      0|              7499.5|\n",
      "+-----+---------+----------+-----+---------+----+-----+------------+-------------+-----+----+----------------------+-----------------------+--------------------+\n",
      "only showing top 5 rows\n",
      "\n"
     ]
    }
   ],
   "source": [
    "retail_new_df.show(5)"
   ]
  },
  {
   "cell_type": "code",
   "execution_count": 112,
   "metadata": {
    "collapsed": true
   },
   "outputs": [],
   "source": [
    "#Mean sales for the last 2 days\n",
    "w = Window().partitionBy(\"Store\").orderBy(\"Date\")\n",
    "\n",
    "retail_new_df = retail_new_df.withColumn(\"avg_sales_last_5days\",\n",
    "                                       ( lag(\"Sales\", 1).over(w)\n",
    "                                        + lag(\"Sales\", 2).over(w)\n",
    "                                        + lag(\"Sales\", 3).over(w)\n",
    "                                        + lag(\"Sales\", 4).over(w)\n",
    "                                        + lag(\"Sales\", 5).over(w) ) / 5 )"
   ]
  },
  {
   "cell_type": "code",
   "execution_count": 113,
   "metadata": {},
   "outputs": [
    {
     "name": "stdout",
     "output_type": "stream",
     "text": [
      "+-----+---------+----------+-----+---------+----+-----+------------+-------------+-----+----+----------------------+-----------------------+--------------------+--------------------+\n",
      "|Store|DayOfWeek|      Date|Sales|Customers|Open|Promo|StateHoliday|SchoolHoliday|month|year|next_day_state_holiday|next_day_school_holiday|avg_sales_last_2days|avg_sales_last_5days|\n",
      "+-----+---------+----------+-----+---------+----+-----+------------+-------------+-----+----+----------------------+-----------------------+--------------------+--------------------+\n",
      "|  148|        2|2013-01-01|    0|        0|   0|    0|           a|            1|    1|2013|                     0|                      1|                null|                null|\n",
      "|  148|        3|2013-01-02| 7944|      781|   1|    0|           0|            1|    1|2013|                     0|                      1|                null|                null|\n",
      "|  148|        4|2013-01-03| 7517|      753|   1|    0|           0|            1|    1|2013|                     0|                      1|              3972.0|                null|\n",
      "|  148|        5|2013-01-04| 7482|      721|   1|    0|           0|            1|    1|2013|                     0|                      0|              7730.5|                null|\n",
      "|  148|        6|2013-01-05| 7750|      756|   1|    0|           0|            0|    1|2013|                     0|                      0|              7499.5|                null|\n",
      "|  148|        7|2013-01-06|    0|        0|   0|    0|           0|            0|    1|2013|                     0|                      0|              7616.0|              6138.6|\n",
      "|  148|        1|2013-01-07|11901|     1079|   1|    1|           0|            0|    1|2013|                     0|                      0|              3875.0|              6138.6|\n",
      "|  148|        2|2013-01-08| 9363|      885|   1|    1|           0|            0|    1|2013|                     0|                      0|              5950.5|              6930.0|\n",
      "|  148|        3|2013-01-09| 8578|      823|   1|    1|           0|            0|    1|2013|                     0|                      0|             10632.0|              7299.2|\n",
      "|  148|        4|2013-01-10| 8722|      828|   1|    1|           0|            0|    1|2013|                     0|                      0|              8970.5|              7518.4|\n",
      "+-----+---------+----------+-----+---------+----+-----+------------+-------------+-----+----+----------------------+-----------------------+--------------------+--------------------+\n",
      "only showing top 10 rows\n",
      "\n"
     ]
    }
   ],
   "source": [
    "retail_new_df.show( 10 )"
   ]
  },
  {
   "cell_type": "code",
   "execution_count": 114,
   "metadata": {
    "collapsed": true
   },
   "outputs": [],
   "source": [
    "#Average sales per store for each month\n",
    "avg_sales_store_by_month =  retail_new_df.groupby(\"Store\",\"month\").avg(\"Sales\")"
   ]
  },
  {
   "cell_type": "code",
   "execution_count": 115,
   "metadata": {},
   "outputs": [
    {
     "name": "stdout",
     "output_type": "stream",
     "text": [
      "+-----+-----+------------------+\n",
      "|Store|month|        avg(Sales)|\n",
      "+-----+-----+------------------+\n",
      "| 1010|    4| 7244.644444444444|\n",
      "| 1114|    4|17492.433333333334|\n",
      "|   71|    4|7290.9111111111115|\n",
      "|  203|    4| 5511.066666666667|\n",
      "|  248|    4|            6661.1|\n",
      "+-----+-----+------------------+\n",
      "only showing top 5 rows\n",
      "\n"
     ]
    }
   ],
   "source": [
    "avg_sales_store_by_month.show( 5 )"
   ]
  },
  {
   "cell_type": "code",
   "execution_count": 116,
   "metadata": {
    "collapsed": true
   },
   "outputs": [],
   "source": [
    "retail_new_df = retail_new_df.join(avg_sales_store_by_month,on=[\"Store\",\"month\"],how=\"inner\")"
   ]
  },
  {
   "cell_type": "code",
   "execution_count": 117,
   "metadata": {},
   "outputs": [
    {
     "name": "stdout",
     "output_type": "stream",
     "text": [
      "+-----+-----+---------+----------+-----+---------+----+-----+------------+-------------+----+----------------------+-----------------------+--------------------+--------------------+-----------------+\n",
      "|Store|month|DayOfWeek|      Date|Sales|Customers|Open|Promo|StateHoliday|SchoolHoliday|year|next_day_state_holiday|next_day_school_holiday|avg_sales_last_2days|avg_sales_last_5days|       avg(Sales)|\n",
      "+-----+-----+---------+----------+-----+---------+----+-----+------------+-------------+----+----------------------+-----------------------+--------------------+--------------------+-----------------+\n",
      "|  148|    1|        2|2013-01-01|    0|        0|   0|    0|           a|            1|2013|                     0|                      1|                null|                null|6933.451612903225|\n",
      "+-----+-----+---------+----------+-----+---------+----+-----+------------+-------------+----+----------------------+-----------------------+--------------------+--------------------+-----------------+\n",
      "only showing top 1 row\n",
      "\n"
     ]
    }
   ],
   "source": [
    "retail_new_df.show(1)"
   ]
  },
  {
   "cell_type": "code",
   "execution_count": 118,
   "metadata": {
    "collapsed": true
   },
   "outputs": [],
   "source": [
    "from pyspark.sql.functions import round\n",
    "retail_new_df = retail_new_df.withColumn( \"avg_sales_by_month\",\n",
    "                                       round( retail_new_df[\"avg(Sales)\"], 2 ) )"
   ]
  },
  {
   "cell_type": "code",
   "execution_count": 119,
   "metadata": {
    "collapsed": true
   },
   "outputs": [],
   "source": [
    "store_sales_new_df = store_sales_df = retail_new_df.select('Store',\n",
    "                                                   'DayOfWeek',\n",
    "                                                   'Promo',\n",
    "                                                   'StateHoliday',\n",
    "                                                   'SchoolHoliday',\n",
    "                                                   'month',\n",
    "                                                   'year',\n",
    "                                                   'Sales',\n",
    "                                                   'next_day_state_holiday',\n",
    "                                                   'next_day_school_holiday',\n",
    "                                                   'avg_sales_last_2days',\n",
    "                                                   'avg_sales_last_5days',\n",
    "                                                   'avg_sales_by_month'\n",
    "                                                          )"
   ]
  },
  {
   "cell_type": "code",
   "execution_count": 120,
   "metadata": {
    "collapsed": true
   },
   "outputs": [],
   "source": [
    "store_sales_new_df = store_sales_new_df.join( stores_df, on = \"Store\", how = \"inner\" )"
   ]
  },
  {
   "cell_type": "code",
   "execution_count": 121,
   "metadata": {},
   "outputs": [
    {
     "name": "stdout",
     "output_type": "stream",
     "text": [
      "+-----+---------+-----+------------+-------------+-----+----+-----+----------------------+-----------------------+--------------------+--------------------+------------------+---------+----------+-------------------+-----------+\n",
      "|Store|DayOfWeek|Promo|StateHoliday|SchoolHoliday|month|year|Sales|next_day_state_holiday|next_day_school_holiday|avg_sales_last_2days|avg_sales_last_5days|avg_sales_by_month|StoreType|Assortment|CompetitionDistance|comp_months|\n",
      "+-----+---------+-----+------------+-------------+-----+----+-----+----------------------+-----------------------+--------------------+--------------------+------------------+---------+----------+-------------------+-----------+\n",
      "|  148|        2|    0|           a|            1|    1|2013|    0|                     0|                      1|                null|                null|           6933.45|        a|         a|             2090.0|       84.0|\n",
      "|  148|        3|    0|           0|            1|    1|2013| 7944|                     0|                      1|                null|                null|           6933.45|        a|         a|             2090.0|       84.0|\n",
      "|  148|        4|    0|           0|            1|    1|2013| 7517|                     0|                      1|              3972.0|                null|           6933.45|        a|         a|             2090.0|       84.0|\n",
      "|  148|        5|    0|           0|            1|    1|2013| 7482|                     0|                      0|              7730.5|                null|           6933.45|        a|         a|             2090.0|       84.0|\n",
      "|  148|        6|    0|           0|            0|    1|2013| 7750|                     0|                      0|              7499.5|                null|           6933.45|        a|         a|             2090.0|       84.0|\n",
      "+-----+---------+-----+------------+-------------+-----+----+-----+----------------------+-----------------------+--------------------+--------------------+------------------+---------+----------+-------------------+-----------+\n",
      "only showing top 5 rows\n",
      "\n"
     ]
    }
   ],
   "source": [
    "store_sales_new_df.show(5)"
   ]
  },
  {
   "cell_type": "code",
   "execution_count": 122,
   "metadata": {},
   "outputs": [
    {
     "data": {
      "text/plain": [
       "['DayOfWeek',\n",
       " 'Promo',\n",
       " 'StateHoliday',\n",
       " 'SchoolHoliday',\n",
       " 'month',\n",
       " 'year',\n",
       " 'StoreType',\n",
       " 'Assortment',\n",
       " 'next_day_state_holiday',\n",
       " 'next_day_school_holiday']"
      ]
     },
     "execution_count": 122,
     "metadata": {},
     "output_type": "execute_result"
    }
   ],
   "source": [
    "#Considering the new features\n",
    "cat_features_new = cat_features + ['next_day_state_holiday', 'next_day_school_holiday']\n",
    "cat_features_new"
   ]
  },
  {
   "cell_type": "code",
   "execution_count": 123,
   "metadata": {},
   "outputs": [
    {
     "data": {
      "text/plain": [
       "['CompetitionDistance',\n",
       " 'comp_months',\n",
       " 'avg_sales_last_2days',\n",
       " 'avg_sales_last_5days',\n",
       " 'avg_sales_by_month']"
      ]
     },
     "execution_count": 123,
     "metadata": {},
     "output_type": "execute_result"
    }
   ],
   "source": [
    "continuous_features_new = continuous_features + ['avg_sales_last_2days', 'avg_sales_last_5days', 'avg_sales_by_month']\n",
    "continuous_features_new"
   ]
  },
  {
   "cell_type": "code",
   "execution_count": 124,
   "metadata": {},
   "outputs": [
    {
     "name": "stdout",
     "output_type": "stream",
     "text": [
      "+-----+---------+-----+------------+-------------+-----+----+-----+----------------------+-----------------------+--------------------+--------------------+------------------+---------+----------+-------------------+-----------+\n",
      "|Store|DayOfWeek|Promo|StateHoliday|SchoolHoliday|month|year|Sales|next_day_state_holiday|next_day_school_holiday|avg_sales_last_2days|avg_sales_last_5days|avg_sales_by_month|StoreType|Assortment|CompetitionDistance|comp_months|\n",
      "+-----+---------+-----+------------+-------------+-----+----+-----+----------------------+-----------------------+--------------------+--------------------+------------------+---------+----------+-------------------+-----------+\n",
      "|  148|        2|    0|           a|            1|    1|2013|    0|                     0|                      1|                null|                null|           6933.45|        a|         a|             2090.0|       84.0|\n",
      "|  148|        3|    0|           0|            1|    1|2013| 7944|                     0|                      1|                null|                null|           6933.45|        a|         a|             2090.0|       84.0|\n",
      "|  148|        4|    0|           0|            1|    1|2013| 7517|                     0|                      1|              3972.0|                null|           6933.45|        a|         a|             2090.0|       84.0|\n",
      "|  148|        5|    0|           0|            1|    1|2013| 7482|                     0|                      0|              7730.5|                null|           6933.45|        a|         a|             2090.0|       84.0|\n",
      "|  148|        6|    0|           0|            0|    1|2013| 7750|                     0|                      0|              7499.5|                null|           6933.45|        a|         a|             2090.0|       84.0|\n",
      "+-----+---------+-----+------------+-------------+-----+----+-----+----------------------+-----------------------+--------------------+--------------------+------------------+---------+----------+-------------------+-----------+\n",
      "only showing top 5 rows\n",
      "\n"
     ]
    }
   ],
   "source": [
    "#Encoding the categorical features\n",
    "store_sales_new_df.show(5)"
   ]
  },
  {
   "cell_type": "code",
   "execution_count": 125,
   "metadata": {
    "collapsed": true
   },
   "outputs": [],
   "source": [
    "# dropping all na\n",
    "store_sales_new_df = store_sales_new_df.na.drop( how = 'any' )"
   ]
  },
  {
   "cell_type": "code",
   "execution_count": 127,
   "metadata": {},
   "outputs": [],
   "source": [
    "for col in cat_features_new:\n",
    "    store_sales_new_df = create_category_vars( store_sales_new_df, col )"
   ]
  },
  {
   "cell_type": "code",
   "execution_count": 128,
   "metadata": {},
   "outputs": [
    {
     "data": {
      "text/plain": [
       "[Row(Store=148, DayOfWeek=7, Promo=0, StateHoliday=u'0', SchoolHoliday=u'0', month=1, year=2013, Sales=0, next_day_state_holiday=u'0', next_day_school_holiday=u'0', avg_sales_last_2days=7616.0, avg_sales_last_5days=6138.6, avg_sales_by_month=6933.45, StoreType=u'a', Assortment=u'a', CompetitionDistance=2090.0, comp_months=84.0, DayOfWeekIndex=2.0, DayOfWeekVec=SparseVector(6, {2: 1.0}), PromoIndex=0.0, PromoVec=SparseVector(1, {0: 1.0}), StateHolidayIndex=0.0, StateHolidayVec=SparseVector(3, {0: 1.0}), SchoolHolidayIndex=0.0, SchoolHolidayVec=SparseVector(1, {0: 1.0}), monthIndex=4.0, monthVec=SparseVector(11, {4: 1.0}), yearIndex=0.0, yearVec=SparseVector(2, {0: 1.0}), StoreTypeIndex=0.0, StoreTypeVec=SparseVector(3, {0: 1.0}), AssortmentIndex=0.0, AssortmentVec=SparseVector(2, {0: 1.0}), next_day_state_holidayIndex=0.0, next_day_state_holidayVec=SparseVector(3, {0: 1.0}), next_day_school_holidayIndex=0.0, next_day_school_holidayVec=SparseVector(1, {0: 1.0}))]"
      ]
     },
     "execution_count": 128,
     "metadata": {},
     "output_type": "execute_result"
    }
   ],
   "source": [
    "store_sales_new_df.take(1)"
   ]
  },
  {
   "cell_type": "code",
   "execution_count": 130,
   "metadata": {},
   "outputs": [
    {
     "data": {
      "text/plain": [
       "['DayOfWeekVec',\n",
       " 'PromoVec',\n",
       " 'StateHolidayVec',\n",
       " 'SchoolHolidayVec',\n",
       " 'monthVec',\n",
       " 'yearVec',\n",
       " 'StoreTypeVec',\n",
       " 'AssortmentVec',\n",
       " 'next_day_state_holidayVec',\n",
       " 'next_day_school_holidayVec']"
      ]
     },
     "execution_count": 130,
     "metadata": {},
     "output_type": "execute_result"
    }
   ],
   "source": [
    "categorical_vecs_new = [ \"\".join( (cat, \"Vec\") ) for cat in cat_features_new ]\n",
    "categorical_vecs_new"
   ]
  },
  {
   "cell_type": "code",
   "execution_count": 131,
   "metadata": {},
   "outputs": [
    {
     "data": {
      "text/plain": [
       "['CompetitionDistance',\n",
       " 'comp_months',\n",
       " 'avg_sales_last_2days',\n",
       " 'avg_sales_last_5days',\n",
       " 'avg_sales_by_month',\n",
       " 'DayOfWeekVec',\n",
       " 'PromoVec',\n",
       " 'StateHolidayVec',\n",
       " 'SchoolHolidayVec',\n",
       " 'monthVec',\n",
       " 'yearVec',\n",
       " 'StoreTypeVec',\n",
       " 'AssortmentVec',\n",
       " 'next_day_state_holidayVec',\n",
       " 'next_day_school_holidayVec']"
      ]
     },
     "execution_count": 131,
     "metadata": {},
     "output_type": "execute_result"
    }
   ],
   "source": [
    "all_features_new = continuous_features_new + categorical_vecs_new\n",
    "all_features_new"
   ]
  },
  {
   "cell_type": "code",
   "execution_count": 132,
   "metadata": {},
   "outputs": [
    {
     "name": "stdout",
     "output_type": "stream",
     "text": [
      "+--------------------+-------+\n",
      "|            features|  label|\n",
      "+--------------------+-------+\n",
      "|(38,[0,1,2,3,4,7,...|    0.0|\n",
      "|(38,[0,1,2,3,4,6,...|11901.0|\n",
      "|(38,[0,1,2,3,4,8,...| 9363.0|\n",
      "|(38,[0,1,2,3,4,9,...| 8578.0|\n",
      "|(38,[0,1,2,3,4,5,...| 8722.0|\n",
      "+--------------------+-------+\n",
      "only showing top 5 rows\n",
      "\n"
     ]
    }
   ],
   "source": [
    "#Creating vector of all features and target variable\n",
    "assembler = VectorAssembler( inputCols = all_features_new, outputCol = \"features\")\n",
    "store_sales_new_df = assembler.transform( store_sales_new_df )\n",
    "store_sales_new_df = store_sales_new_df.withColumn( \"label\", store_sales_new_df.Sales.cast( 'double' ) )\n",
    "store_sales_new_df.select( \"features\", \"label\" ).show( 5 )"
   ]
  },
  {
   "cell_type": "code",
   "execution_count": 133,
   "metadata": {
    "collapsed": true
   },
   "outputs": [],
   "source": [
    "#Splitting dataset\n",
    "seed = 42\n",
    "\n",
    "train_df, test_df = store_sales_new_df.randomSplit( [0.7, 0.3], seed = seed )"
   ]
  },
  {
   "cell_type": "code",
   "execution_count": 135,
   "metadata": {},
   "outputs": [],
   "source": [
    "#Building the model\n",
    "linreg = LinearRegression(maxIter=500, regParam=0.0)\n",
    "lm = linreg.fit( train_df )"
   ]
  },
  {
   "cell_type": "code",
   "execution_count": 136,
   "metadata": {},
   "outputs": [
    {
     "data": {
      "text/plain": [
       "-4860.690152339442"
      ]
     },
     "execution_count": 136,
     "metadata": {},
     "output_type": "execute_result"
    }
   ],
   "source": [
    "#Model intercept and coefficients\n",
    "lm.intercept"
   ]
  },
  {
   "cell_type": "code",
   "execution_count": 137,
   "metadata": {},
   "outputs": [
    {
     "data": {
      "text/plain": [
       "DenseVector([-0.0001, 0.0628, 0.0675, -0.1339, 1.0665, -609.098, 994.1125, -5750.6391, -100.0597, -679.8092, -223.2702, -2224.5668, 6083.1074, -181.3922, -1327.0552, -205.148, 397.2105, -73.0983, 34.9694, 77.788, 14.5947, -408.678, -93.7718, 505.5358, -116.7527, 69.8377, 18.5873, -312.115, -162.7712, 26.7474, 37.5381, 22.6475, -42.2876, -46.6873, 1619.6731, 2329.3625, 2786.1144, -48.068])"
      ]
     },
     "execution_count": 137,
     "metadata": {},
     "output_type": "execute_result"
    }
   ],
   "source": [
    "lm.coefficients"
   ]
  },
  {
   "cell_type": "code",
   "execution_count": 138,
   "metadata": {},
   "outputs": [
    {
     "name": "stdout",
     "output_type": "stream",
     "text": [
      "+--------------------+------+------------------+\n",
      "|            features| label|        prediction|\n",
      "+--------------------+------+------------------+\n",
      "|(38,[0,1,2,3,4,6,...|7631.0| 7803.573003427996|\n",
      "|(38,[0,1,2,3,4,6,...|6196.0| 7978.141999194427|\n",
      "|(38,[0,1,2,3,4,6,...|7875.0|7966.8095974277085|\n",
      "|(38,[0,1,2,3,4,6,...|7790.0| 8159.849455885457|\n",
      "|(38,[0,1,2,3,4,6,...|7401.0|  8201.20035285797|\n",
      "+--------------------+------+------------------+\n",
      "only showing top 5 rows\n",
      "\n"
     ]
    }
   ],
   "source": [
    "#Predicting on test dataset\n",
    "y_pred = lm.transform( test_df )\n",
    "y_pred.select( 'features', 'label', 'prediction' ).show( 5 )"
   ]
  },
  {
   "cell_type": "code",
   "execution_count": 139,
   "metadata": {},
   "outputs": [
    {
     "data": {
      "text/plain": [
       "0.821662394817349"
      ]
     },
     "execution_count": 139,
     "metadata": {},
     "output_type": "execute_result"
    }
   ],
   "source": [
    "#Calculating model accuracy: RMSE and R-Squared\n",
    "r2_evaluator = RegressionEvaluator(labelCol=\"label\",\n",
    "                            predictionCol=\"prediction\",\n",
    "                            metricName=\"r2\" )\n",
    "\n",
    "lm_r2 = r2_evaluator.evaluate( y_pred )\n",
    "lm_r2"
   ]
  },
  {
   "cell_type": "code",
   "execution_count": 140,
   "metadata": {},
   "outputs": [
    {
     "data": {
      "text/plain": [
       "1626.0811377930734"
      ]
     },
     "execution_count": 140,
     "metadata": {},
     "output_type": "execute_result"
    }
   ],
   "source": [
    "\n",
    "\n",
    "rmse_evaluator = RegressionEvaluator(labelCol=\"label\",\n",
    "                            predictionCol=\"prediction\",\n",
    "                            metricName=\"rmse\" )\n",
    "\n",
    "lm_rmse = rmse_evaluator.evaluate( y_pred )\n",
    "lm_rmse\n",
    "\n"
   ]
  },
  {
   "cell_type": "code",
   "execution_count": 141,
   "metadata": {
    "collapsed": true
   },
   "outputs": [],
   "source": [
    "#The new model has good prediction accuracy. The new variables seem to have increased accuracy of the model."
   ]
  },
  {
   "cell_type": "code",
   "execution_count": null,
   "metadata": {
    "collapsed": true
   },
   "outputs": [],
   "source": []
  },
  {
   "cell_type": "code",
   "execution_count": null,
   "metadata": {
    "collapsed": true
   },
   "outputs": [],
   "source": []
  }
 ],
 "metadata": {
  "kernelspec": {
   "display_name": "Python 2",
   "language": "python",
   "name": "python2"
  },
  "language_info": {
   "codemirror_mode": {
    "name": "ipython",
    "version": 2
   },
   "file_extension": ".py",
   "mimetype": "text/x-python",
   "name": "python",
   "nbconvert_exporter": "python",
   "pygments_lexer": "ipython2",
   "version": "2.7.13"
  }
 },
 "nbformat": 4,
 "nbformat_minor": 2
}
