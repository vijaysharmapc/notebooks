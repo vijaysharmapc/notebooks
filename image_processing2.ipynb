{
 "cells": [
  {
   "cell_type": "code",
   "execution_count": 92,
   "metadata": {},
   "outputs": [],
   "source": [
    "import json\n",
    "import requests\n",
    "import time\n",
    "import urllib.request\n",
    "import os\n",
    "if not os.path.exists('new_url'):\n",
    "    os.makedirs('new_url')"
   ]
  },
  {
   "cell_type": "code",
   "execution_count": 93,
   "metadata": {
    "collapsed": true
   },
   "outputs": [],
   "source": [
    "# set image parameters\n",
    "img1 = \"https://img.lotlinx.com/vdn/7416/jeep_wrangler%20unlimited_2014_1C4BJWFG3EL326863_7416_339187295.jpg\"\n",
    "img2 = \"https://img.lotlinx.com/vdn/7416/jeep_wrangler%20unlimited_2014_1C4BJWFG3EL326863_7416_2_339187295.jpg\"\n",
    "img3 = \"https://img.lotlinx.com/vdn/7416/jeep_wrangler%20unlimited_2014_1C4BJWFG3EL326863_7416_3_339187295.jpg\"\n",
    "img4 = \"https://img.lotlinx.com/vdn/7416/jeep_wrangler%20unlimited_2014_1C4BJWFG3EL326863_7416_4_339187295.jpg\"\n",
    "img5 = \"https://img.lotlinx.com/vdn/7416/jeep_wrangler%20unlimited_2014_1C4BJWFG3EL326863_7416_5_339187295.jpg\"\n",
    "img_lst = [img1,img2,img3,img4,img5]"
   ]
  },
  {
   "cell_type": "code",
   "execution_count": 94,
   "metadata": {
    "collapsed": true
   },
   "outputs": [],
   "source": [
    "def json_builder(img_lst):\n",
    "    dealerId = 1\n",
    "    vid = 100\n",
    "    dct = {}\n",
    "    for url in img_lst:\n",
    "        my_json_string = {'dealerId':dealerId,'vehicles':[{\"id\":vid,\"images\":[{\"imageId\":vid,\"imageUrl\":url}]}]}\n",
    "        dct[dealerId] = my_json_string\n",
    "        dealerId +=1\n",
    "        vid = dealerId + 100\n",
    "    return dct"
   ]
  },
  {
   "cell_type": "code",
   "execution_count": 95,
   "metadata": {
    "collapsed": true
   },
   "outputs": [],
   "source": [
    "json_dct = json_builder(img_lst)"
   ]
  },
  {
   "cell_type": "code",
   "execution_count": 96,
   "metadata": {
    "collapsed": true
   },
   "outputs": [],
   "source": [
    "# send request\n",
    "token_status = {}\n",
    "for k,v in json_dct.items():\n",
    "    json_body = v\n",
    "    r = requests.post('https://photoai.lotlinx.com/images/optimize', json=json_body,auth=('testaccount5','984dc25e4e50'))\n",
    "    rdct= r.json()\n",
    "    token = rdct['data'][0]['token']\n",
    "    status = rdct['data'][0]['status']\n",
    "    token_status[token] = status"
   ]
  },
  {
   "cell_type": "code",
   "execution_count": 97,
   "metadata": {},
   "outputs": [
    {
     "data": {
      "text/plain": [
       "{'NAaWW8jSkFBoEHqi39W5xBnuMQJnUUwm0QvG34Imt1cFmaS2wbrdGYEMhwAgktpu': 'queued',\n",
       " 'OBBh7FDrHJbfYgYudHAoPxTgR4wD5nCoPZFS06eAtiDF4B4PiD11can0th4SDNVu': 'queued',\n",
       " 'QawnDoVtCP5kpZX92NfX9iKof19tqJxzcu8UZMKAca4dI795q1M8hwVKkSuzSBqY': 'queued',\n",
       " 'nvBC8L9ad3PGti6Os5jrPLfdYjExmWytgF4kTgMROGF4UFPGMG3IUPwOlB8LFZ3Z': 'queued',\n",
       " 'zzOhhc3JQOqumCTujipynSq1VX54muovfMNHcEFhhvJpvHa9TM9qPLtQm048nhwY': 'queued'}"
      ]
     },
     "execution_count": 97,
     "metadata": {},
     "output_type": "execute_result"
    }
   ],
   "source": [
    "token_status"
   ]
  },
  {
   "cell_type": "code",
   "execution_count": 98,
   "metadata": {
    "collapsed": true
   },
   "outputs": [],
   "source": [
    "def poll_api():\n",
    "    count = 0\n",
    "    stme = time.time()\n",
    "    token_completed = []\n",
    "    j=0\n",
    "    #token_status_poll = {}\n",
    "    print (\"Status poll has started at \", stme)\n",
    "    while count <= 30: # poll for 1.5 min max\n",
    "        for k,v in token_status.items():\n",
    "            r = requests.get('https://photoai.lotlinx.com/images/{}/status'.format(k), auth=('testaccount5','984dc25e4e50'))\n",
    "            rdct= r.json()\n",
    "            token = rdct['data'][0]['token']\n",
    "            status = rdct['data'][0]['status']\n",
    "            \n",
    "            if status == 'complete' and token not in token_completed: \n",
    "                modified_url = load_response(token)\n",
    "                print(token,status,modified_url)\n",
    "                token_completed.append(token)\n",
    "                urllib.request.urlretrieve(modified_url,'new_url/processed_image_{}'.format(j))\n",
    "                j+=1\n",
    "                \n",
    "            if len(token_completed) == len(token_status.keys()):\n",
    "                stptme = time.time()\n",
    "                print (\"All images processed at  \", stptme)\n",
    "                return 1\n",
    "                \n",
    "            \n",
    "        count+=1\n",
    "        time.sleep(3)\n",
    "    stptme = time.time()\n",
    "    print (\"Status poll has run out of interations \", stptme)      "
   ]
  },
  {
   "cell_type": "code",
   "execution_count": 99,
   "metadata": {},
   "outputs": [],
   "source": [
    "def load_response(token):\n",
    "    r = requests.get('https://photoai.lotlinx.com/images/{}'.format(token), auth=('testaccount5','984dc25e4e50'))\n",
    "    r = r.json()\n",
    "    modified_url = r['data'][0]['vehicles'][0]['images'][0]['modifiedUrl']\n",
    "    #print(modified_url)\n",
    "    return modified_url"
   ]
  },
  {
   "cell_type": "code",
   "execution_count": 100,
   "metadata": {},
   "outputs": [
    {
     "name": "stdout",
     "output_type": "stream",
     "text": [
      "Status poll has started at  1526760340.8724241\n",
      "OBBh7FDrHJbfYgYudHAoPxTgR4wD5nCoPZFS06eAtiDF4B4PiD11can0th4SDNVu complete http://lotlinx-ml-images.s3.amazonaws.com/front/jeep_wrangler%2520unlimited_2014_1C4BJWFG3EL326863_7416_2_339187295.png\n",
      "zzOhhc3JQOqumCTujipynSq1VX54muovfMNHcEFhhvJpvHa9TM9qPLtQm048nhwY complete http://lotlinx-ml-images.s3.amazonaws.com/front_3_quarter/jeep_wrangler%2520unlimited_2014_1C4BJWFG3EL326863_7416_339187295.png\n",
      "NAaWW8jSkFBoEHqi39W5xBnuMQJnUUwm0QvG34Imt1cFmaS2wbrdGYEMhwAgktpu complete http://lotlinx-ml-images.s3.amazonaws.com/side/jeep_wrangler%2520unlimited_2014_1C4BJWFG3EL326863_7416_4_339187295.png\n",
      "QawnDoVtCP5kpZX92NfX9iKof19tqJxzcu8UZMKAca4dI795q1M8hwVKkSuzSBqY complete http://lotlinx-ml-images.s3.amazonaws.com/side/jeep_wrangler%2520unlimited_2014_1C4BJWFG3EL326863_7416_3_339187295.png\n",
      "nvBC8L9ad3PGti6Os5jrPLfdYjExmWytgF4kTgMROGF4UFPGMG3IUPwOlB8LFZ3Z complete http://lotlinx-ml-images.s3.amazonaws.com/side/jeep_wrangler%2520unlimited_2014_1C4BJWFG3EL326863_7416_5_339187295.png\n",
      "All images processed at   1526760396.3426766\n"
     ]
    },
    {
     "data": {
      "text/plain": [
       "1"
      ]
     },
     "execution_count": 100,
     "metadata": {},
     "output_type": "execute_result"
    }
   ],
   "source": [
    "poll_api()"
   ]
  },
  {
   "cell_type": "code",
   "execution_count": null,
   "metadata": {
    "collapsed": true
   },
   "outputs": [],
   "source": []
  }
 ],
 "metadata": {
  "kernelspec": {
   "display_name": "Python 3",
   "language": "python",
   "name": "python3"
  },
  "language_info": {
   "codemirror_mode": {
    "name": "ipython",
    "version": 3
   },
   "file_extension": ".py",
   "mimetype": "text/x-python",
   "name": "python",
   "nbconvert_exporter": "python",
   "pygments_lexer": "ipython3",
   "version": "3.5.3"
  }
 },
 "nbformat": 4,
 "nbformat_minor": 2
}
