{
 "cells": [
  {
   "cell_type": "code",
   "execution_count": 29,
   "metadata": {
    "collapsed": true
   },
   "outputs": [],
   "source": [
    "import json\n",
    "import requests\n",
    "import time\n",
    "import urllib.request\n",
    "import os"
   ]
  },
  {
   "cell_type": "code",
   "execution_count": 30,
   "metadata": {
    "collapsed": true
   },
   "outputs": [],
   "source": [
    "# initialize directories and log files\n",
    "if not os.path.exists('processed_images'):\n",
    "    os.makedirs('processed_images')\n",
    "\n",
    "with open(\"log.txt\", \"w\") as myfile:\n",
    "    myfile.write(\"---------------------------------- BEGIN IMAGE PROCESSING JOB ----------------------------------\\n\")"
   ]
  },
  {
   "cell_type": "code",
   "execution_count": 31,
   "metadata": {
    "collapsed": true
   },
   "outputs": [],
   "source": [
    "# set image parameters\n",
    "img1 = \"https://img.lotlinx.com/vdn/7416/jeep_wrangler%20unlimited_2014_1C4BJWFG3EL326863_7416_339187295.jpg\"\n",
    "img2 = \"https://img.lotlinx.com/vdn/7416/jeep_wrangler%20unlimited_2014_1C4BJWFG3EL326863_7416_2_339187295.jpg\"\n",
    "img3 = \"https://img.lotlinx.com/vdn/7416/jeep_wrangler%20unlimited_2014_1C4BJWFG3EL326863_7416_3_339187295.jpg\"\n",
    "img4 = \"https://img.lotlinx.com/vdn/7416/jeep_wrangler%20unlimited_2014_1C4BJWFG3EL326863_7416_4_339187295.jpg\"\n",
    "img5 = \"https://img.lotlinx.com/vdn/7416/jeep_wrangler%20unlimited_2014_1C4BJWFG3EL326863_7416_5_339187295.jpg\"\n",
    "img_lst = [img1,img2,img3,img4,img5]\n",
    "with open(\"log.txt\", \"a\") as myfile:\n",
    "        myfile.write(\"\\n Reading Images from the following url's:\\n {}\\n\".format(img_lst))"
   ]
  },
  {
   "cell_type": "code",
   "execution_count": 32,
   "metadata": {
    "collapsed": true
   },
   "outputs": [],
   "source": [
    "def json_builder(img_lst):\n",
    "    dealerId = 1\n",
    "    vid = 100\n",
    "    dct = {}\n",
    "    for url in img_lst:\n",
    "        my_json_string = {'dealerId':dealerId,'vehicles':[{\"id\":vid,\"images\":[{\"imageId\":vid,\"imageUrl\":url}]}]}\n",
    "        dct[dealerId] = my_json_string\n",
    "        dealerId += 1\n",
    "        vid = dealerId + 100\n",
    "    with open(\"log.txt\", \"a\") as myfile:\n",
    "        myfile.write(\"\\n JSON Body ready for Post Request:\\n {}\\n\".format(dct))\n",
    "    return dct"
   ]
  },
  {
   "cell_type": "code",
   "execution_count": 33,
   "metadata": {
    "collapsed": true
   },
   "outputs": [],
   "source": [
    "json_dct = json_builder(img_lst)"
   ]
  },
  {
   "cell_type": "code",
   "execution_count": 34,
   "metadata": {
    "collapsed": true
   },
   "outputs": [],
   "source": [
    "# send request\n",
    "token_status = {}\n",
    "for k,v in json_dct.items():\n",
    "    json_body = v\n",
    "    try:\n",
    "        r = requests.post('https://photoai.lotlinx.com/images/optimize', json=json_body,auth=('testaccount5','984dc25e4e50'))\n",
    "        rdct= r.json()\n",
    "        token = rdct['data'][0]['token']\n",
    "        status = rdct['data'][0]['status']\n",
    "        token_status[token] = status\n",
    "\n",
    "    except requests.exceptions.RequestException as e:\n",
    "        print (e)\n",
    "        with open(\"log.txt\", \"a\") as myfile:\n",
    "            myfile.write(\"\\n Error in Post Request to optimize image:\\n {}\\n\".format(e))\n",
    "\n",
    "with open(\"log.txt\", \"a\") as myfile:\n",
    "    myfile.write(\"\\n Image Optimization Post Request for the following is complete:\\n {}\\n\".format(token_status))        "
   ]
  },
  {
   "cell_type": "code",
   "execution_count": 35,
   "metadata": {},
   "outputs": [
    {
     "data": {
      "text/plain": [
       "{'9DXH1V2wHXpS1tgwBMlyafkmenYlhzS9fp9KEEIyKvH7x7XHimlepFCIIs943Dol': 'queued',\n",
       " 'ORFwetiyifZyTKX5EvWiJMP6wnfuTihcXoVMi9SJPBC49fxwGkbI1CL4lJ0XDlYH': 'queued',\n",
       " 'WQoHPsLE5qkYe0pxPiErOADVvuXfQtkrly4ZTXXaBNinkCiz2gXSQxrykJKJkfoS': 'queued',\n",
       " 'bp6F7gSvqsMODTEKp7avslY9BOnVuklWO4UruPhykZhb3PVnDljeLr5LNWQOBRAk': 'queued',\n",
       " 'hcM1w8VV4fWy8qoPRmJA8VwHIA0mTQKlr5TTtLOl3p4XqvV5v8zvhskiXDQLNoAp': 'queued'}"
      ]
     },
     "execution_count": 35,
     "metadata": {},
     "output_type": "execute_result"
    }
   ],
   "source": [
    "token_status"
   ]
  },
  {
   "cell_type": "code",
   "execution_count": 36,
   "metadata": {},
   "outputs": [],
   "source": [
    "def poll_api():\n",
    "    count = 0\n",
    "    stme = time.time()\n",
    "    token_completed = []\n",
    "    j=0\n",
    "    print (\"Status poll has started at \", stme)\n",
    "    with open(\"log.txt\", \"a\") as myfile:\n",
    "        myfile.write(\"\\n Status poll has started at {}\\n\".format(stme))\n",
    "\n",
    "    \n",
    "    \n",
    "    while count <= 30: # poll for 1.5 min max\n",
    "        for k,v in token_status.items():\n",
    "            try:\n",
    "                r = requests.get('https://photoai.lotlinx.com/images/{}/status'.format(k), auth=('testaccount5','984dc25e4e50'))\n",
    "                rdct= r.json()\n",
    "                token = rdct['data'][0]['token']\n",
    "                status = rdct['data'][0]['status']\n",
    "                with open(\"log.txt\", \"a\") as myfile:\n",
    "                    myfile.write(\"\\n Status Poll Request:\\n{}\\n\".format(rdct))\n",
    "            except requests.exceptions.RequestException as e:\n",
    "                print (e)\n",
    "                with open(\"log.txt\", \"a\") as myfile:\n",
    "                    myfile.write(\"\\n Error in Status Get Request:\\n {}\\n\".format(e))\n",
    "\n",
    "            \n",
    "            if status == 'complete' and token not in token_completed: \n",
    "                modified_url = load_response(token)\n",
    "                print(token,status,modified_url)\n",
    "                with open(\"log.txt\", \"a\") as myfile:\n",
    "                    myfile.write(\"\\n Completed Token :\\n {}\\n\".format(token))\n",
    "                    myfile.write(\"\\n Completed New_url:\\n{}\\n\".format(modified_url))\n",
    "                token_completed.append(token)\n",
    "                \n",
    "                #save the new image\n",
    "                try:\n",
    "                    urllib.request.urlretrieve(modified_url,'processed_images/processed_image_{}'.format(j))\n",
    "                    j+=1\n",
    "                    with open(\"log.txt\", \"a\") as myfile:\n",
    "                        myfile.write(\"\\n processed_image{} saved\\n\".format(j))\n",
    "                except IOError as e:\n",
    "                    myfile.write(\"\\n Error while saving processed image :\\n{}\".format(e))\n",
    "            \n",
    "            elif status == 'failed':\n",
    "                with open(\"log.txt\", \"a\") as debug_log:\n",
    "                    debug_log.write(\"\\n Failed Token :\\n {}\\n\".format(token))\n",
    "           \n",
    "                                          \n",
    "            if len(token_completed) == len(token_status.keys()):\n",
    "                stptme = time.time()\n",
    "                print (\"All images processed at  \", stptme)\n",
    "                with open(\"log.txt\", \"a\") as myfile:\n",
    "                    myfile.write(\"\\n All images processed at {}\\n\".format(stptme))\n",
    "                    myfile.write(\"\\n --------------------------------- END IMAGE PROCESSING JOB SUCCESS  ----------------------------------\\n\")\n",
    "                return 1\n",
    "                          \n",
    "        count+=1\n",
    "        time.sleep(3)\n",
    "    stptme = time.time()\n",
    "    print (\"Status poll has run out of interations \", stptme)  \n",
    "    with open(\"log.txt\", \"a\") as myfile:\n",
    "        myfile.write(\"\\n Status poll has ended at {}\\n\".format(stptme))\n",
    "        myfile.write(\"\\n---------------------------------- END IMAGE PROCESSING JOB RAN OUT OF TIME ----------------------------------\\n\")\n"
   ]
  },
  {
   "cell_type": "code",
   "execution_count": 37,
   "metadata": {
    "collapsed": true
   },
   "outputs": [],
   "source": [
    "def load_response(token):\n",
    "    r = requests.get('https://photoai.lotlinx.com/images/{}'.format(token), auth=('testaccount5','984dc25e4e50'))\n",
    "    r = r.json()\n",
    "    modified_url = r['data'][0]['vehicles'][0]['images'][0]['modifiedUrl']\n",
    "    return modified_url"
   ]
  },
  {
   "cell_type": "code",
   "execution_count": 38,
   "metadata": {},
   "outputs": [
    {
     "name": "stdout",
     "output_type": "stream",
     "text": [
      "Status poll has started at  1526830143.2791777\n",
      "hcM1w8VV4fWy8qoPRmJA8VwHIA0mTQKlr5TTtLOl3p4XqvV5v8zvhskiXDQLNoAp complete http://lotlinx-ml-images.s3.amazonaws.com/front_3_quarter/jeep_wrangler%2520unlimited_2014_1C4BJWFG3EL326863_7416_339187295.png\n",
      "ORFwetiyifZyTKX5EvWiJMP6wnfuTihcXoVMi9SJPBC49fxwGkbI1CL4lJ0XDlYH complete http://lotlinx-ml-images.s3.amazonaws.com/side/jeep_wrangler%2520unlimited_2014_1C4BJWFG3EL326863_7416_3_339187295.png\n",
      "WQoHPsLE5qkYe0pxPiErOADVvuXfQtkrly4ZTXXaBNinkCiz2gXSQxrykJKJkfoS complete http://lotlinx-ml-images.s3.amazonaws.com/front/jeep_wrangler%2520unlimited_2014_1C4BJWFG3EL326863_7416_2_339187295.png\n",
      "9DXH1V2wHXpS1tgwBMlyafkmenYlhzS9fp9KEEIyKvH7x7XHimlepFCIIs943Dol complete http://lotlinx-ml-images.s3.amazonaws.com/side/jeep_wrangler%2520unlimited_2014_1C4BJWFG3EL326863_7416_5_339187295.png\n",
      "bp6F7gSvqsMODTEKp7avslY9BOnVuklWO4UruPhykZhb3PVnDljeLr5LNWQOBRAk complete http://lotlinx-ml-images.s3.amazonaws.com/side/jeep_wrangler%2520unlimited_2014_1C4BJWFG3EL326863_7416_4_339187295.png\n",
      "All images processed at   1526830232.3414526\n"
     ]
    },
    {
     "data": {
      "text/plain": [
       "1"
      ]
     },
     "execution_count": 38,
     "metadata": {},
     "output_type": "execute_result"
    }
   ],
   "source": [
    "poll_api()"
   ]
  },
  {
   "cell_type": "code",
   "execution_count": null,
   "metadata": {
    "collapsed": true
   },
   "outputs": [],
   "source": []
  },
  {
   "cell_type": "code",
   "execution_count": null,
   "metadata": {
    "collapsed": true
   },
   "outputs": [],
   "source": []
  },
  {
   "cell_type": "code",
   "execution_count": null,
   "metadata": {
    "collapsed": true
   },
   "outputs": [],
   "source": []
  },
  {
   "cell_type": "code",
   "execution_count": null,
   "metadata": {
    "collapsed": true
   },
   "outputs": [],
   "source": []
  }
 ],
 "metadata": {
  "kernelspec": {
   "display_name": "Python 3",
   "language": "python",
   "name": "python3"
  },
  "language_info": {
   "codemirror_mode": {
    "name": "ipython",
    "version": 3
   },
   "file_extension": ".py",
   "mimetype": "text/x-python",
   "name": "python",
   "nbconvert_exporter": "python",
   "pygments_lexer": "ipython3",
   "version": "3.5.3"
  }
 },
 "nbformat": 4,
 "nbformat_minor": 2
}
