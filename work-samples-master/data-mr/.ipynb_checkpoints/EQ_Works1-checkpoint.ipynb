{
 "cells": [
  {
   "cell_type": "code",
   "execution_count": 110,
   "metadata": {},
   "outputs": [],
   "source": [
    "import sys\n",
    "from pyspark import SparkContext, SparkConf\n",
    "from pyspark.sql import SQLContext, HiveContext\n",
    "import os\n",
    "from pyspark.sql.functions import *\n",
    "from pyspark.sql import functions as sqlf \n",
    "import pyspark.storagelevel \n",
    "import numpy as np\n",
    "import pandas as pd\n",
    "import datetime\n",
    "from pyspark.sql.types import *\n",
    "import pdb\n",
    "import subprocess # Used for executing linux commands, for writing to teradata\n",
    "import sys\n",
    "\n",
    "from pyspark.sql.types import *\n",
    "from pyspark.sql.functions import col, udf, min, max\n",
    "from datetime import datetime, timedelta\n",
    "conf = SparkConf().setMaster(\"local\").setAppName(\"storeSales\")\n",
    "sc = SparkContext.getOrCreate(conf = conf)\n",
    "sqlContext = SQLContext(sc)\n",
    "hiveContext = HiveContext(sc)"
   ]
  },
  {
   "cell_type": "code",
   "execution_count": 113,
   "metadata": {
    "collapsed": true
   },
   "outputs": [],
   "source": [
    "from pyspark.sql.types import *\n",
    "data_fields = StructType([StructField(\"_ID\", IntegerType(), True),\n",
    "       StructField(\"TimeSt\", StringType(), True),\n",
    "       StructField(\"Country\", StringType(), True),\n",
    "       StructField(\"Province\", StringType(), True),\n",
    "       StructField(\"City\", StringType(), True),\n",
    "       StructField(\"Latitude\", FloatType(), True),\n",
    "       StructField(\"Longitude\", FloatType(), True)])\n",
    "poi_fields = StructType([StructField(\"POIID\", StringType(), True),\n",
    "       StructField(\"Latitude\", FloatType(), True),\n",
    "       StructField(\"Longitude\", FloatType(), True)])"
   ]
  },
  {
   "cell_type": "code",
   "execution_count": 121,
   "metadata": {},
   "outputs": [],
   "source": [
    "data_sample = hiveContext.read.format(\"com.databricks.spark.csv\") \\\n",
    "  .option(\"header\", \"true\") \\\n",
    "  .option(\"inferSchema\", \"true\") \\\n",
    "  .load(\"file:///home/vijay/DATA_SCIENCE/BPF/BPF/work-samples-master/data-mr/data/DataSample.csv\",schema=data_fields)\n",
    "poi_df = hiveContext.read.format(\"com.databricks.spark.csv\") \\\n",
    "  .option(\"header\", \"true\") \\\n",
    "  .option(\"inferSchema\", \"true\") \\\n",
    "  .load(\"file:///home/vijay/DATA_SCIENCE/BPF/BPF/work-samples-master/data-mr/data/POIList.csv\",schema=poi_fields)"
   ]
  },
  {
   "cell_type": "code",
   "execution_count": 85,
   "metadata": {},
   "outputs": [
    {
     "name": "stdout",
     "output_type": "stream",
     "text": [
      "+-------+--------------------+-------+--------+---------+--------+---------+\n",
      "|    _ID|              TimeSt|Country|Province|     City|Latitude|Longitude|\n",
      "+-------+--------------------+-------+--------+---------+--------+---------+\n",
      "|4516516|2017-06-21 00:00:...|     CA|      ON| Waterloo|43.49347|-80.49123|\n",
      "|4516547|2017-06-21 18:00:...|     CA|      ON|   London| 42.9399| -81.2709|\n",
      "|4516550|2017-06-21 15:00:...|     CA|      ON|   Guelph| 43.5776| -80.2201|\n",
      "|4516600|2017-06-21 15:00:...|     CA|      ON|Stratford| 43.3716| -80.9773|\n",
      "+-------+--------------------+-------+--------+---------+--------+---------+\n",
      "only showing top 4 rows\n",
      "\n"
     ]
    }
   ],
   "source": [
    "data_sample.show(4)"
   ]
  },
  {
   "cell_type": "code",
   "execution_count": 86,
   "metadata": {},
   "outputs": [],
   "source": [
    "pd_df = data_sample.toPandas()"
   ]
  },
  {
   "cell_type": "code",
   "execution_count": 87,
   "metadata": {},
   "outputs": [
    {
     "data": {
      "text/html": [
       "<div>\n",
       "<style>\n",
       "    .dataframe thead tr:only-child th {\n",
       "        text-align: right;\n",
       "    }\n",
       "\n",
       "    .dataframe thead th {\n",
       "        text-align: left;\n",
       "    }\n",
       "\n",
       "    .dataframe tbody tr th {\n",
       "        vertical-align: top;\n",
       "    }\n",
       "</style>\n",
       "<table border=\"1\" class=\"dataframe\">\n",
       "  <thead>\n",
       "    <tr style=\"text-align: right;\">\n",
       "      <th></th>\n",
       "      <th>_ID</th>\n",
       "      <th>Latitude</th>\n",
       "      <th>Longitude</th>\n",
       "    </tr>\n",
       "  </thead>\n",
       "  <tbody>\n",
       "    <tr>\n",
       "      <th>count</th>\n",
       "      <td>2.202500e+04</td>\n",
       "      <td>22025.000000</td>\n",
       "      <td>22025.000000</td>\n",
       "    </tr>\n",
       "    <tr>\n",
       "      <th>mean</th>\n",
       "      <td>5.067292e+06</td>\n",
       "      <td>47.983484</td>\n",
       "      <td>-94.967281</td>\n",
       "    </tr>\n",
       "    <tr>\n",
       "      <th>std</th>\n",
       "      <td>3.175577e+05</td>\n",
       "      <td>4.165093</td>\n",
       "      <td>19.092001</td>\n",
       "    </tr>\n",
       "    <tr>\n",
       "      <th>min</th>\n",
       "      <td>4.516516e+06</td>\n",
       "      <td>6.927420</td>\n",
       "      <td>-136.539566</td>\n",
       "    </tr>\n",
       "    <tr>\n",
       "      <th>25%</th>\n",
       "      <td>4.792159e+06</td>\n",
       "      <td>43.747601</td>\n",
       "      <td>-113.814003</td>\n",
       "    </tr>\n",
       "    <tr>\n",
       "      <th>50%</th>\n",
       "      <td>5.067906e+06</td>\n",
       "      <td>47.798698</td>\n",
       "      <td>-83.017998</td>\n",
       "    </tr>\n",
       "    <tr>\n",
       "      <th>75%</th>\n",
       "      <td>5.342586e+06</td>\n",
       "      <td>51.128559</td>\n",
       "      <td>-79.399101</td>\n",
       "    </tr>\n",
       "    <tr>\n",
       "      <th>max</th>\n",
       "      <td>5.615006e+06</td>\n",
       "      <td>62.827301</td>\n",
       "      <td>125.702202</td>\n",
       "    </tr>\n",
       "  </tbody>\n",
       "</table>\n",
       "</div>"
      ],
      "text/plain": [
       "                _ID      Latitude     Longitude\n",
       "count  2.202500e+04  22025.000000  22025.000000\n",
       "mean   5.067292e+06     47.983484    -94.967281\n",
       "std    3.175577e+05      4.165093     19.092001\n",
       "min    4.516516e+06      6.927420   -136.539566\n",
       "25%    4.792159e+06     43.747601   -113.814003\n",
       "50%    5.067906e+06     47.798698    -83.017998\n",
       "75%    5.342586e+06     51.128559    -79.399101\n",
       "max    5.615006e+06     62.827301    125.702202"
      ]
     },
     "execution_count": 87,
     "metadata": {},
     "output_type": "execute_result"
    }
   ],
   "source": [
    "pd_df.describe()"
   ]
  },
  {
   "cell_type": "code",
   "execution_count": 88,
   "metadata": {},
   "outputs": [
    {
     "data": {
      "text/html": [
       "<div>\n",
       "<style>\n",
       "    .dataframe thead tr:only-child th {\n",
       "        text-align: right;\n",
       "    }\n",
       "\n",
       "    .dataframe thead th {\n",
       "        text-align: left;\n",
       "    }\n",
       "\n",
       "    .dataframe tbody tr th {\n",
       "        vertical-align: top;\n",
       "    }\n",
       "</style>\n",
       "<table border=\"1\" class=\"dataframe\">\n",
       "  <thead>\n",
       "    <tr style=\"text-align: right;\">\n",
       "      <th></th>\n",
       "      <th>Country</th>\n",
       "      <th>Province</th>\n",
       "      <th>City</th>\n",
       "      <th>TimeSt</th>\n",
       "    </tr>\n",
       "  </thead>\n",
       "  <tbody>\n",
       "    <tr>\n",
       "      <th>count</th>\n",
       "      <td>22025</td>\n",
       "      <td>22025</td>\n",
       "      <td>22025</td>\n",
       "      <td>22025</td>\n",
       "    </tr>\n",
       "    <tr>\n",
       "      <th>unique</th>\n",
       "      <td>1</td>\n",
       "      <td>12</td>\n",
       "      <td>656</td>\n",
       "      <td>19972</td>\n",
       "    </tr>\n",
       "    <tr>\n",
       "      <th>top</th>\n",
       "      <td>CA</td>\n",
       "      <td>ON</td>\n",
       "      <td>Calgary</td>\n",
       "      <td>2017-06-21 06:11:00.323</td>\n",
       "    </tr>\n",
       "    <tr>\n",
       "      <th>freq</th>\n",
       "      <td>22025</td>\n",
       "      <td>9321</td>\n",
       "      <td>3979</td>\n",
       "      <td>3</td>\n",
       "    </tr>\n",
       "  </tbody>\n",
       "</table>\n",
       "</div>"
      ],
      "text/plain": [
       "       Country Province     City                   TimeSt\n",
       "count    22025    22025    22025                    22025\n",
       "unique       1       12      656                    19972\n",
       "top         CA       ON  Calgary  2017-06-21 06:11:00.323\n",
       "freq     22025     9321     3979                        3"
      ]
     },
     "execution_count": 88,
     "metadata": {},
     "output_type": "execute_result"
    }
   ],
   "source": [
    "pd_df[['Country','Province','City','TimeSt']].describe()"
   ]
  },
  {
   "cell_type": "code",
   "execution_count": 89,
   "metadata": {},
   "outputs": [],
   "source": [
    "# There are duplicate TimeSt, City, Province"
   ]
  },
  {
   "cell_type": "code",
   "execution_count": 90,
   "metadata": {},
   "outputs": [],
   "source": [
    "data_sample.registerTempTable(\"data_sample_table\")"
   ]
  },
  {
   "cell_type": "code",
   "execution_count": 103,
   "metadata": {},
   "outputs": [],
   "source": [
    "unique_data_sample = hiveContext.sql( '''select Max(_ID) as ID, TimeSt, Latitude, Longitude,concat(Latitude,',',Longitude) as Coordinates,Country,Province,City\n",
    "                                 from data_sample_table group by TimeSt, Latitude, Longitude,Country,Province,City \n",
    "                                 order by \n",
    "                                 TimeSt,\n",
    "                                 Latitude,\n",
    "                                 Longitude''' )"
   ]
  },
  {
   "cell_type": "code",
   "execution_count": 104,
   "metadata": {},
   "outputs": [
    {
     "data": {
      "text/plain": [
       "19999"
      ]
     },
     "execution_count": 104,
     "metadata": {},
     "output_type": "execute_result"
    }
   ],
   "source": [
    "unique_data_sample.count()"
   ]
  },
  {
   "cell_type": "code",
   "execution_count": 105,
   "metadata": {},
   "outputs": [
    {
     "name": "stdout",
     "output_type": "stream",
     "text": [
      "+-------+--------------------+--------+---------+------------------+-------+--------+---------+\n",
      "|     ID|              TimeSt|Latitude|Longitude|       Coordinates|Country|Province|     City|\n",
      "+-------+--------------------+--------+---------+------------------+-------+--------+---------+\n",
      "|4516516|2017-06-21 00:00:...|43.49347|-80.49123|43.49347,-80.49123|     CA|      ON| Waterloo|\n",
      "|4519209|2017-06-21 00:00:...| 44.1517| -81.0266|  44.1517,-81.0266|     CA|      ON|  Hanover|\n",
      "|4518130|2017-06-21 00:00:...| 43.0004| -81.2343|  43.0004,-81.2343|     CA|      ON|   London|\n",
      "|5368841|2017-06-21 00:00:...| 45.2778| -75.7563|  45.2778,-75.7563|     CA|      ON|   Nepean|\n",
      "|4521574|2017-06-21 00:00:...| 43.1508| -80.2094|  43.1508,-80.2094|     CA|      ON|Brantford|\n",
      "|4523455|2017-06-21 00:00:...| 43.0091| -81.1765|  43.0091,-81.1765|     CA|      ON|   London|\n",
      "|4522231|2017-06-21 00:00:...| 42.4247| -82.1755|  42.4247,-82.1755|     CA|      ON|  Chatham|\n",
      "|4522376|2017-06-21 00:00:...| 43.4634| -80.5201|  43.4634,-80.5201|     CA|      ON| Waterloo|\n",
      "|4524947|2017-06-21 00:00:...| 43.4306| -80.4877|  43.4306,-80.4877|     CA|      ON|Kitchener|\n",
      "|4526697|2017-06-21 00:00:...|  43.208| -79.9652|   43.208,-79.9652|     CA|      ON| Ancaster|\n",
      "+-------+--------------------+--------+---------+------------------+-------+--------+---------+\n",
      "only showing top 10 rows\n",
      "\n"
     ]
    }
   ],
   "source": [
    "unique_data_sample.show(10)"
   ]
  },
  {
   "cell_type": "code",
   "execution_count": 233,
   "metadata": {},
   "outputs": [
    {
     "name": "stdout",
     "output_type": "stream",
     "text": [
      "+-----+---------+----------+\n",
      "|POIID| Latitude| Longitude|\n",
      "+-----+---------+----------+\n",
      "| POI1|53.546165|-113.48573|\n",
      "| POI2|53.546165|-113.48573|\n",
      "| POI3| 45.52163|-73.566025|\n",
      "| POI4| 45.22483| -63.23273|\n",
      "+-----+---------+----------+\n",
      "\n"
     ]
    }
   ],
   "source": [
    "poi_df.show()"
   ]
  },
  {
   "cell_type": "markdown",
   "metadata": {},
   "source": [
    "#poi_df= hiveContext.sql(\"SELECT POIID,Latitude,Longitude,CONCAT(Latitude,',',Longitude) AS Coordinates FROM poi_df\")\n",
    "Coordinates_df = poi_df.select(concat(poi_df['Latitude'], lit(','),poi_df['Longitude']).alias('Coordinates'),poi_df['POIID'])\n",
    "Coordinates_df.show()"
   ]
  },
  {
   "cell_type": "markdown",
   "metadata": {},
   "source": [
    "poi_df_coords = poi_df.join(Coordinates_df, on = \"POIID\", how = \"inner\" )"
   ]
  },
  {
   "cell_type": "markdown",
   "metadata": {},
   "source": [
    "poi_df_coords.show()"
   ]
  },
  {
   "cell_type": "code",
   "execution_count": 234,
   "metadata": {},
   "outputs": [],
   "source": [
    "setA_lat = np.array(unique_data_sample.select('Latitude').collect())\n",
    "setA_lon = np.array(unique_data_sample.select('Longitude').collect())"
   ]
  },
  {
   "cell_type": "code",
   "execution_count": 235,
   "metadata": {
    "collapsed": true
   },
   "outputs": [],
   "source": [
    "setB_lat = np.array(poi_df.select('Latitude').collect())\n",
    "setB_lon = np.array(poi_df.select('Longitude').collect())"
   ]
  },
  {
   "cell_type": "code",
   "execution_count": 236,
   "metadata": {},
   "outputs": [
    {
     "data": {
      "text/plain": [
       "array([[  43.49346924,  -80.4912262 ],\n",
       "       [  44.15169907,  -81.0266037 ],\n",
       "       [  43.00040054,  -81.23429871],\n",
       "       ..., \n",
       "       [  53.49723053, -113.63462067],\n",
       "       [  43.77030182,  -79.21649933],\n",
       "       [  49.78279877,  -94.44110107]])"
      ]
     },
     "execution_count": 236,
     "metadata": {},
     "output_type": "execute_result"
    }
   ],
   "source": [
    "setA = np.c_[setA_lat,setA_lon]\n",
    "setA"
   ]
  },
  {
   "cell_type": "code",
   "execution_count": 237,
   "metadata": {},
   "outputs": [
    {
     "data": {
      "text/plain": [
       "array([[  53.54616547, -113.48573303],\n",
       "       [  53.54616547, -113.48573303],\n",
       "       [  45.52162933,  -73.56602478],\n",
       "       [  45.22483063,  -63.23273087]])"
      ]
     },
     "execution_count": 237,
     "metadata": {},
     "output_type": "execute_result"
    }
   ],
   "source": [
    "setB = np.c_[setB_lat,setB_lon]\n",
    "setB"
   ]
  },
  {
   "cell_type": "code",
   "execution_count": 301,
   "metadata": {
    "collapsed": true
   },
   "outputs": [],
   "source": [
    "from scipy.spatial import cKDTree\n",
    "\n",
    "def closest_pts(setA, setB):\n",
    "    dst,indx = cKDTree(setB).query(setA,k=1,p=2)\n",
    "    #print(indx[0:100])\n",
    "    return setB[indx],dst"
   ]
  },
  {
   "cell_type": "code",
   "execution_count": 305,
   "metadata": {},
   "outputs": [],
   "source": [
    "c_x, dst = closest_pts(setA, setB)"
   ]
  },
  {
   "cell_type": "code",
   "execution_count": 306,
   "metadata": {},
   "outputs": [
    {
     "data": {
      "text/plain": [
       "array([[ 45.52162933, -73.56602478],\n",
       "       [ 45.52162933, -73.56602478],\n",
       "       [ 45.52162933, -73.56602478],\n",
       "       [ 45.52162933, -73.56602478],\n",
       "       [ 45.52162933, -73.56602478]])"
      ]
     },
     "execution_count": 306,
     "metadata": {},
     "output_type": "execute_result"
    }
   ],
   "source": [
    "c_x[0:5]"
   ]
  },
  {
   "cell_type": "code",
   "execution_count": 307,
   "metadata": {},
   "outputs": [
    {
     "data": {
      "text/plain": [
       "array([ 7.2160826 ,  7.58531125,  8.0721137 ,  2.20380711,  7.05373826])"
      ]
     },
     "execution_count": 307,
     "metadata": {},
     "output_type": "execute_result"
    }
   ],
   "source": [
    "dst[0:5]"
   ]
  },
  {
   "cell_type": "code",
   "execution_count": 294,
   "metadata": {},
   "outputs": [
    {
     "data": {
      "text/plain": [
       "(19999, 2)"
      ]
     },
     "execution_count": 294,
     "metadata": {},
     "output_type": "execute_result"
    }
   ],
   "source": [
    "c_x.shape"
   ]
  },
  {
   "cell_type": "code",
   "execution_count": 327,
   "metadata": {
    "collapsed": true
   },
   "outputs": [],
   "source": [
    "columns = ['POI_nearest_lat','POI_nearest_lon']\n",
    "c_x = pd.DataFrame(c_x,columns=columns)"
   ]
  },
  {
   "cell_type": "code",
   "execution_count": 328,
   "metadata": {
    "collapsed": true
   },
   "outputs": [],
   "source": [
    "unique_data_sample_pd = unique_data_sample.toPandas()\n",
    "nearest_match_pd = nearest_match.toPandas()"
   ]
  },
  {
   "cell_type": "code",
   "execution_count": 329,
   "metadata": {},
   "outputs": [],
   "source": [
    "unique_data_sample_pd['POI_nearest_lat'] = nearest_match_pd['nearest_lat']\n",
    "unique_data_sample_pd['POI_nearest_lon'] = nearest_match_pd['nearest_lon']\n",
    "unique_data_sample_pd['euclidean_dst'] = pd.Series(dst)"
   ]
  },
  {
   "cell_type": "code",
   "execution_count": 330,
   "metadata": {},
   "outputs": [
    {
     "data": {
      "text/html": [
       "<div>\n",
       "<style>\n",
       "    .dataframe thead tr:only-child th {\n",
       "        text-align: right;\n",
       "    }\n",
       "\n",
       "    .dataframe thead th {\n",
       "        text-align: left;\n",
       "    }\n",
       "\n",
       "    .dataframe tbody tr th {\n",
       "        vertical-align: top;\n",
       "    }\n",
       "</style>\n",
       "<table border=\"1\" class=\"dataframe\">\n",
       "  <thead>\n",
       "    <tr style=\"text-align: right;\">\n",
       "      <th></th>\n",
       "      <th>ID</th>\n",
       "      <th>TimeSt</th>\n",
       "      <th>Latitude</th>\n",
       "      <th>Longitude</th>\n",
       "      <th>Coordinates</th>\n",
       "      <th>Country</th>\n",
       "      <th>Province</th>\n",
       "      <th>City</th>\n",
       "      <th>nearest_lat</th>\n",
       "      <th>nearest_lon</th>\n",
       "      <th>euclidean_dst</th>\n",
       "      <th>POI_nearest_lat</th>\n",
       "      <th>POI_nearest_lon</th>\n",
       "    </tr>\n",
       "  </thead>\n",
       "  <tbody>\n",
       "    <tr>\n",
       "      <th>0</th>\n",
       "      <td>4516516</td>\n",
       "      <td>2017-06-21 00:00:00.143</td>\n",
       "      <td>43.493469</td>\n",
       "      <td>-80.491226</td>\n",
       "      <td>43.49347,-80.49123</td>\n",
       "      <td>CA</td>\n",
       "      <td>ON</td>\n",
       "      <td>Waterloo</td>\n",
       "      <td>45.521629</td>\n",
       "      <td>-73.566025</td>\n",
       "      <td>7.216083</td>\n",
       "      <td>45.521629</td>\n",
       "      <td>-73.566025</td>\n",
       "    </tr>\n",
       "    <tr>\n",
       "      <th>1</th>\n",
       "      <td>4519209</td>\n",
       "      <td>2017-06-21 00:00:01.257</td>\n",
       "      <td>44.151699</td>\n",
       "      <td>-81.026604</td>\n",
       "      <td>44.1517,-81.0266</td>\n",
       "      <td>CA</td>\n",
       "      <td>ON</td>\n",
       "      <td>Hanover</td>\n",
       "      <td>45.521629</td>\n",
       "      <td>-73.566025</td>\n",
       "      <td>7.585311</td>\n",
       "      <td>45.521629</td>\n",
       "      <td>-73.566025</td>\n",
       "    </tr>\n",
       "    <tr>\n",
       "      <th>2</th>\n",
       "      <td>4518130</td>\n",
       "      <td>2017-06-21 00:00:01.333</td>\n",
       "      <td>43.000401</td>\n",
       "      <td>-81.234299</td>\n",
       "      <td>43.0004,-81.2343</td>\n",
       "      <td>CA</td>\n",
       "      <td>ON</td>\n",
       "      <td>London</td>\n",
       "      <td>45.521629</td>\n",
       "      <td>-73.566025</td>\n",
       "      <td>8.072114</td>\n",
       "      <td>45.521629</td>\n",
       "      <td>-73.566025</td>\n",
       "    </tr>\n",
       "    <tr>\n",
       "      <th>3</th>\n",
       "      <td>5368841</td>\n",
       "      <td>2017-06-21 00:00:02.573</td>\n",
       "      <td>45.277802</td>\n",
       "      <td>-75.756302</td>\n",
       "      <td>45.2778,-75.7563</td>\n",
       "      <td>CA</td>\n",
       "      <td>ON</td>\n",
       "      <td>Nepean</td>\n",
       "      <td>45.521629</td>\n",
       "      <td>-73.566025</td>\n",
       "      <td>2.203807</td>\n",
       "      <td>45.521629</td>\n",
       "      <td>-73.566025</td>\n",
       "    </tr>\n",
       "    <tr>\n",
       "      <th>4</th>\n",
       "      <td>4521574</td>\n",
       "      <td>2017-06-21 00:00:02.637</td>\n",
       "      <td>43.150799</td>\n",
       "      <td>-80.209396</td>\n",
       "      <td>43.1508,-80.2094</td>\n",
       "      <td>CA</td>\n",
       "      <td>ON</td>\n",
       "      <td>Brantford</td>\n",
       "      <td>45.521629</td>\n",
       "      <td>-73.566025</td>\n",
       "      <td>7.053738</td>\n",
       "      <td>45.521629</td>\n",
       "      <td>-73.566025</td>\n",
       "    </tr>\n",
       "  </tbody>\n",
       "</table>\n",
       "</div>"
      ],
      "text/plain": [
       "        ID                   TimeSt   Latitude  Longitude         Coordinates  \\\n",
       "0  4516516  2017-06-21 00:00:00.143  43.493469 -80.491226  43.49347,-80.49123   \n",
       "1  4519209  2017-06-21 00:00:01.257  44.151699 -81.026604    44.1517,-81.0266   \n",
       "2  4518130  2017-06-21 00:00:01.333  43.000401 -81.234299    43.0004,-81.2343   \n",
       "3  5368841  2017-06-21 00:00:02.573  45.277802 -75.756302    45.2778,-75.7563   \n",
       "4  4521574  2017-06-21 00:00:02.637  43.150799 -80.209396    43.1508,-80.2094   \n",
       "\n",
       "  Country Province       City  nearest_lat  nearest_lon  euclidean_dst  \\\n",
       "0      CA       ON   Waterloo    45.521629   -73.566025       7.216083   \n",
       "1      CA       ON    Hanover    45.521629   -73.566025       7.585311   \n",
       "2      CA       ON     London    45.521629   -73.566025       8.072114   \n",
       "3      CA       ON     Nepean    45.521629   -73.566025       2.203807   \n",
       "4      CA       ON  Brantford    45.521629   -73.566025       7.053738   \n",
       "\n",
       "   POI_nearest_lat  POI_nearest_lon  \n",
       "0        45.521629       -73.566025  \n",
       "1        45.521629       -73.566025  \n",
       "2        45.521629       -73.566025  \n",
       "3        45.521629       -73.566025  \n",
       "4        45.521629       -73.566025  "
      ]
     },
     "execution_count": 330,
     "metadata": {},
     "output_type": "execute_result"
    }
   ],
   "source": [
    "unique_data_sample_pd[0:5]"
   ]
  },
  {
   "cell_type": "code",
   "execution_count": 331,
   "metadata": {},
   "outputs": [],
   "source": [
    "unique_data_sample = hiveContext.createDataFrame(unique_data_sample_pd)"
   ]
  },
  {
   "cell_type": "code",
   "execution_count": 332,
   "metadata": {},
   "outputs": [
    {
     "name": "stdout",
     "output_type": "stream",
     "text": [
      "+-------+--------------------+------------------+------------------+------------------+-------+--------+---------+------------------+------------------+------------------+------------------+------------------+\n",
      "|     ID|              TimeSt|          Latitude|         Longitude|       Coordinates|Country|Province|     City|       nearest_lat|       nearest_lon|     euclidean_dst|   POI_nearest_lat|   POI_nearest_lon|\n",
      "+-------+--------------------+------------------+------------------+------------------+-------+--------+---------+------------------+------------------+------------------+------------------+------------------+\n",
      "|4516516|2017-06-21 00:00:...| 43.49346923828125|-80.49122619628906|43.49347,-80.49123|     CA|      ON| Waterloo|45.521629333496094|-73.56602478027344| 7.216082595439627|45.521629333496094|-73.56602478027344|\n",
      "|4519209|2017-06-21 00:00:...| 44.15169906616211|-81.02660369873047|  44.1517,-81.0266|     CA|      ON|  Hanover|45.521629333496094|-73.56602478027344|7.5853112484513945|45.521629333496094|-73.56602478027344|\n",
      "|4518130|2017-06-21 00:00:...| 43.00040054321289|-81.23429870605469|  43.0004,-81.2343|     CA|      ON|   London|45.521629333496094|-73.56602478027344| 8.072113701736955|45.521629333496094|-73.56602478027344|\n",
      "|5368841|2017-06-21 00:00:...|45.277801513671875|-75.75630187988281|  45.2778,-75.7563|     CA|      ON|   Nepean|45.521629333496094|-73.56602478027344|2.2038071101603895|45.521629333496094|-73.56602478027344|\n",
      "|4521574|2017-06-21 00:00:...| 43.15079879760742|-80.20939636230469|  43.1508,-80.2094|     CA|      ON|Brantford|45.521629333496094|-73.56602478027344|7.0537382576079874|45.521629333496094|-73.56602478027344|\n",
      "+-------+--------------------+------------------+------------------+------------------+-------+--------+---------+------------------+------------------+------------------+------------------+------------------+\n",
      "only showing top 5 rows\n",
      "\n"
     ]
    }
   ],
   "source": [
    "unique_data_sample.show(5)"
   ]
  },
  {
   "cell_type": "code",
   "execution_count": 333,
   "metadata": {},
   "outputs": [],
   "source": [
    "analysis_df = unique_data_sample.select('POI_nearest_lat','POI_nearest_lon','euclidean_dst')"
   ]
  },
  {
   "cell_type": "code",
   "execution_count": 334,
   "metadata": {},
   "outputs": [
    {
     "name": "stdout",
     "output_type": "stream",
     "text": [
      "+------------------+------------------+------------------+\n",
      "|   POI_nearest_lat|   POI_nearest_lon|     euclidean_dst|\n",
      "+------------------+------------------+------------------+\n",
      "|45.521629333496094|-73.56602478027344| 7.216082595439627|\n",
      "|45.521629333496094|-73.56602478027344|7.5853112484513945|\n",
      "|45.521629333496094|-73.56602478027344| 8.072113701736955|\n",
      "|45.521629333496094|-73.56602478027344|2.2038071101603895|\n",
      "|45.521629333496094|-73.56602478027344|7.0537382576079874|\n",
      "|45.521629333496094|-73.56602478027344| 8.014493320368777|\n",
      "|45.521629333496094|-73.56602478027344| 9.149535863508097|\n",
      "|45.521629333496094|-73.56602478027344| 7.252276250332547|\n",
      "|45.521629333496094|-73.56602478027344| 7.230630291757394|\n",
      "|45.521629333496094|-73.56602478027344| 6.804583247944665|\n",
      "+------------------+------------------+------------------+\n",
      "only showing top 10 rows\n",
      "\n"
     ]
    }
   ],
   "source": [
    "analysis_df.show(10)"
   ]
  },
  {
   "cell_type": "code",
   "execution_count": 335,
   "metadata": {
    "collapsed": true
   },
   "outputs": [],
   "source": [
    "analysis_df.registerTempTable(\"analysis_table\")"
   ]
  },
  {
   "cell_type": "code",
   "execution_count": 347,
   "metadata": {},
   "outputs": [],
   "source": [
    "average_distance_sample = hiveContext.sql( '''select POI_nearest_lat, POI_nearest_lon, avg(euclidean_dst) as average_dist\n",
    "                                 from analysis_table group by POI_nearest_lat, POI_nearest_lon\n",
    "                                 order by \n",
    "                                 POI_nearest_lat,\n",
    "                                 POI_nearest_lon''' )"
   ]
  },
  {
   "cell_type": "code",
   "execution_count": 348,
   "metadata": {},
   "outputs": [
    {
     "name": "stdout",
     "output_type": "stream",
     "text": [
      "+------------------+-------------------+------------------+\n",
      "|   POI_nearest_lat|    POI_nearest_lon|      average_dist|\n",
      "+------------------+-------------------+------------------+\n",
      "|45.224830627441406|-63.232730865478516| 8.810410437140796|\n",
      "|45.521629333496094| -73.56602478027344|5.5379502811404695|\n",
      "|53.546165466308594|-113.48573303222656|  3.34818233218623|\n",
      "+------------------+-------------------+------------------+\n",
      "\n"
     ]
    }
   ],
   "source": [
    "average_distance_sample.show(5)"
   ]
  },
  {
   "cell_type": "code",
   "execution_count": 349,
   "metadata": {},
   "outputs": [],
   "source": [
    "std_distance_sample = hiveContext.sql( '''select POI_nearest_lat, POI_nearest_lon, stddev_pop(euclidean_dst) as std_dist\n",
    "                                 from analysis_table group by POI_nearest_lat, POI_nearest_lon\n",
    "                                 order by \n",
    "                                 POI_nearest_lat,\n",
    "                                 POI_nearest_lon''' )"
   ]
  },
  {
   "cell_type": "code",
   "execution_count": 350,
   "metadata": {},
   "outputs": [
    {
     "name": "stdout",
     "output_type": "stream",
     "text": [
      "+------------------+-------------------+------------------+\n",
      "|   POI_nearest_lat|    POI_nearest_lon|          std_dist|\n",
      "+------------------+-------------------+------------------+\n",
      "|45.224830627441406|-63.232730865478516|28.645492353009296|\n",
      "|45.521629333496094| -73.56602478027344| 2.858544053873327|\n",
      "|53.546165466308594|-113.48573303222656|3.8582907094762997|\n",
      "+------------------+-------------------+------------------+\n",
      "\n"
     ]
    }
   ],
   "source": [
    "std_distance_sample.show(5)"
   ]
  },
  {
   "cell_type": "code",
   "execution_count": null,
   "metadata": {
    "collapsed": true
   },
   "outputs": [],
   "source": []
  }
 ],
 "metadata": {
  "kernelspec": {
   "display_name": "Python 2",
   "language": "python",
   "name": "python2"
  },
  "language_info": {
   "codemirror_mode": {
    "name": "ipython",
    "version": 2
   },
   "file_extension": ".py",
   "mimetype": "text/x-python",
   "name": "python",
   "nbconvert_exporter": "python",
   "pygments_lexer": "ipython2",
   "version": "2.7.13"
  }
 },
 "nbformat": 4,
 "nbformat_minor": 2
}
