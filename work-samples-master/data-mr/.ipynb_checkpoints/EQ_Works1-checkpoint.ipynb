{
 "cells": [
  {
   "cell_type": "code",
   "execution_count": 384,
   "metadata": {},
   "outputs": [],
   "source": [
    "import sys\n",
    "from pyspark import SparkContext, SparkConf\n",
    "from pyspark.sql import SQLContext, HiveContext\n",
    "import os\n",
    "from pyspark.sql.functions import *\n",
    "from pyspark.sql import functions as sqlf \n",
    "import pyspark.storagelevel \n",
    "import numpy as np\n",
    "import pandas as pd\n",
    "import datetime\n",
    "from pyspark.sql.types import *\n",
    "import pdb\n",
    "import subprocess # Used for executing linux commands, for writing to teradata\n",
    "import sys\n",
    "\n",
    "from pyspark.sql.types import *\n",
    "from pyspark.sql.functions import col, udf, min, max\n",
    "from datetime import datetime, timedelta\n",
    "conf = SparkConf().setMaster(\"local\").setAppName(\"storeSales\")\n",
    "sc = SparkContext.getOrCreate(conf = conf)\n",
    "sqlContext = SQLContext(sc)\n",
    "hiveContext = HiveContext(sc)"
   ]
  },
  {
   "cell_type": "code",
   "execution_count": 385,
   "metadata": {
    "collapsed": true
   },
   "outputs": [],
   "source": [
    "from pyspark.sql.types import *\n",
    "data_fields = StructType([StructField(\"_ID\", IntegerType(), True),\n",
    "       StructField(\"TimeSt\", StringType(), True),\n",
    "       StructField(\"Country\", StringType(), True),\n",
    "       StructField(\"Province\", StringType(), True),\n",
    "       StructField(\"City\", StringType(), True),\n",
    "       StructField(\"Latitude\", FloatType(), True),\n",
    "       StructField(\"Longitude\", FloatType(), True)])\n",
    "poi_fields = StructType([StructField(\"POIID\", StringType(), True),\n",
    "       StructField(\"Latitude\", FloatType(), True),\n",
    "       StructField(\"Longitude\", FloatType(), True)])"
   ]
  },
  {
   "cell_type": "code",
   "execution_count": 386,
   "metadata": {},
   "outputs": [],
   "source": [
    "data_sample = hiveContext.read.format(\"com.databricks.spark.csv\") \\\n",
    "  .option(\"header\", \"true\") \\\n",
    "  .option(\"inferSchema\", \"true\") \\\n",
    "  .load(\"file:///home/vijay/DATA_SCIENCE/BPF/BPF/work-samples-master/data-mr/data/DataSample.csv\",schema=data_fields)\n",
    "poi_df = hiveContext.read.format(\"com.databricks.spark.csv\") \\\n",
    "  .option(\"header\", \"true\") \\\n",
    "  .option(\"inferSchema\", \"true\") \\\n",
    "  .load(\"file:///home/vijay/DATA_SCIENCE/BPF/BPF/work-samples-master/data-mr/data/POIList.csv\",schema=poi_fields)"
   ]
  },
  {
   "cell_type": "code",
   "execution_count": 387,
   "metadata": {},
   "outputs": [
    {
     "name": "stdout",
     "output_type": "stream",
     "text": [
      "+-------+--------------------+-------+--------+---------+--------+---------+\n",
      "|    _ID|              TimeSt|Country|Province|     City|Latitude|Longitude|\n",
      "+-------+--------------------+-------+--------+---------+--------+---------+\n",
      "|4516516|2017-06-21 00:00:...|     CA|      ON| Waterloo|43.49347|-80.49123|\n",
      "|4516547|2017-06-21 18:00:...|     CA|      ON|   London| 42.9399| -81.2709|\n",
      "|4516550|2017-06-21 15:00:...|     CA|      ON|   Guelph| 43.5776| -80.2201|\n",
      "|4516600|2017-06-21 15:00:...|     CA|      ON|Stratford| 43.3716| -80.9773|\n",
      "+-------+--------------------+-------+--------+---------+--------+---------+\n",
      "only showing top 4 rows\n",
      "\n"
     ]
    }
   ],
   "source": [
    "data_sample.show(4)"
   ]
  },
  {
   "cell_type": "code",
   "execution_count": 388,
   "metadata": {},
   "outputs": [],
   "source": [
    "pd_df = data_sample.toPandas()"
   ]
  },
  {
   "cell_type": "code",
   "execution_count": 389,
   "metadata": {},
   "outputs": [
    {
     "data": {
      "text/html": [
       "<div>\n",
       "<style>\n",
       "    .dataframe thead tr:only-child th {\n",
       "        text-align: right;\n",
       "    }\n",
       "\n",
       "    .dataframe thead th {\n",
       "        text-align: left;\n",
       "    }\n",
       "\n",
       "    .dataframe tbody tr th {\n",
       "        vertical-align: top;\n",
       "    }\n",
       "</style>\n",
       "<table border=\"1\" class=\"dataframe\">\n",
       "  <thead>\n",
       "    <tr style=\"text-align: right;\">\n",
       "      <th></th>\n",
       "      <th>_ID</th>\n",
       "      <th>Latitude</th>\n",
       "      <th>Longitude</th>\n",
       "    </tr>\n",
       "  </thead>\n",
       "  <tbody>\n",
       "    <tr>\n",
       "      <th>count</th>\n",
       "      <td>2.202500e+04</td>\n",
       "      <td>22025.000000</td>\n",
       "      <td>22025.000000</td>\n",
       "    </tr>\n",
       "    <tr>\n",
       "      <th>mean</th>\n",
       "      <td>5.067292e+06</td>\n",
       "      <td>47.983484</td>\n",
       "      <td>-94.967281</td>\n",
       "    </tr>\n",
       "    <tr>\n",
       "      <th>std</th>\n",
       "      <td>3.175577e+05</td>\n",
       "      <td>4.165093</td>\n",
       "      <td>19.092001</td>\n",
       "    </tr>\n",
       "    <tr>\n",
       "      <th>min</th>\n",
       "      <td>4.516516e+06</td>\n",
       "      <td>6.927420</td>\n",
       "      <td>-136.539566</td>\n",
       "    </tr>\n",
       "    <tr>\n",
       "      <th>25%</th>\n",
       "      <td>4.792159e+06</td>\n",
       "      <td>43.747601</td>\n",
       "      <td>-113.814003</td>\n",
       "    </tr>\n",
       "    <tr>\n",
       "      <th>50%</th>\n",
       "      <td>5.067906e+06</td>\n",
       "      <td>47.798698</td>\n",
       "      <td>-83.017998</td>\n",
       "    </tr>\n",
       "    <tr>\n",
       "      <th>75%</th>\n",
       "      <td>5.342586e+06</td>\n",
       "      <td>51.128559</td>\n",
       "      <td>-79.399101</td>\n",
       "    </tr>\n",
       "    <tr>\n",
       "      <th>max</th>\n",
       "      <td>5.615006e+06</td>\n",
       "      <td>62.827301</td>\n",
       "      <td>125.702202</td>\n",
       "    </tr>\n",
       "  </tbody>\n",
       "</table>\n",
       "</div>"
      ],
      "text/plain": [
       "                _ID      Latitude     Longitude\n",
       "count  2.202500e+04  22025.000000  22025.000000\n",
       "mean   5.067292e+06     47.983484    -94.967281\n",
       "std    3.175577e+05      4.165093     19.092001\n",
       "min    4.516516e+06      6.927420   -136.539566\n",
       "25%    4.792159e+06     43.747601   -113.814003\n",
       "50%    5.067906e+06     47.798698    -83.017998\n",
       "75%    5.342586e+06     51.128559    -79.399101\n",
       "max    5.615006e+06     62.827301    125.702202"
      ]
     },
     "execution_count": 389,
     "metadata": {},
     "output_type": "execute_result"
    }
   ],
   "source": [
    "pd_df.describe()"
   ]
  },
  {
   "cell_type": "code",
   "execution_count": 390,
   "metadata": {},
   "outputs": [
    {
     "data": {
      "text/html": [
       "<div>\n",
       "<style>\n",
       "    .dataframe thead tr:only-child th {\n",
       "        text-align: right;\n",
       "    }\n",
       "\n",
       "    .dataframe thead th {\n",
       "        text-align: left;\n",
       "    }\n",
       "\n",
       "    .dataframe tbody tr th {\n",
       "        vertical-align: top;\n",
       "    }\n",
       "</style>\n",
       "<table border=\"1\" class=\"dataframe\">\n",
       "  <thead>\n",
       "    <tr style=\"text-align: right;\">\n",
       "      <th></th>\n",
       "      <th>Country</th>\n",
       "      <th>Province</th>\n",
       "      <th>City</th>\n",
       "      <th>TimeSt</th>\n",
       "    </tr>\n",
       "  </thead>\n",
       "  <tbody>\n",
       "    <tr>\n",
       "      <th>count</th>\n",
       "      <td>22025</td>\n",
       "      <td>22025</td>\n",
       "      <td>22025</td>\n",
       "      <td>22025</td>\n",
       "    </tr>\n",
       "    <tr>\n",
       "      <th>unique</th>\n",
       "      <td>1</td>\n",
       "      <td>12</td>\n",
       "      <td>656</td>\n",
       "      <td>19972</td>\n",
       "    </tr>\n",
       "    <tr>\n",
       "      <th>top</th>\n",
       "      <td>CA</td>\n",
       "      <td>ON</td>\n",
       "      <td>Calgary</td>\n",
       "      <td>2017-06-21 06:11:00.323</td>\n",
       "    </tr>\n",
       "    <tr>\n",
       "      <th>freq</th>\n",
       "      <td>22025</td>\n",
       "      <td>9321</td>\n",
       "      <td>3979</td>\n",
       "      <td>3</td>\n",
       "    </tr>\n",
       "  </tbody>\n",
       "</table>\n",
       "</div>"
      ],
      "text/plain": [
       "       Country Province     City                   TimeSt\n",
       "count    22025    22025    22025                    22025\n",
       "unique       1       12      656                    19972\n",
       "top         CA       ON  Calgary  2017-06-21 06:11:00.323\n",
       "freq     22025     9321     3979                        3"
      ]
     },
     "execution_count": 390,
     "metadata": {},
     "output_type": "execute_result"
    }
   ],
   "source": [
    "pd_df[['Country','Province','City','TimeSt']].describe()"
   ]
  },
  {
   "cell_type": "code",
   "execution_count": 391,
   "metadata": {},
   "outputs": [],
   "source": [
    "# There are duplicate TimeSt, City, Province"
   ]
  },
  {
   "cell_type": "code",
   "execution_count": 392,
   "metadata": {},
   "outputs": [],
   "source": [
    "data_sample.registerTempTable(\"data_sample_table\")"
   ]
  },
  {
   "cell_type": "code",
   "execution_count": 393,
   "metadata": {},
   "outputs": [],
   "source": [
    "unique_data_sample = hiveContext.sql( '''select Max(_ID) as ID, TimeSt, Latitude, Longitude,concat(Latitude,',',Longitude) as Coordinates,Country,Province,City\n",
    "                                 from data_sample_table group by TimeSt, Latitude, Longitude,Country,Province,City \n",
    "                                 order by \n",
    "                                 TimeSt,\n",
    "                                 Latitude,\n",
    "                                 Longitude''' )"
   ]
  },
  {
   "cell_type": "code",
   "execution_count": 394,
   "metadata": {},
   "outputs": [
    {
     "data": {
      "text/plain": [
       "19999"
      ]
     },
     "execution_count": 394,
     "metadata": {},
     "output_type": "execute_result"
    }
   ],
   "source": [
    "unique_data_sample.count()"
   ]
  },
  {
   "cell_type": "code",
   "execution_count": 395,
   "metadata": {},
   "outputs": [
    {
     "name": "stdout",
     "output_type": "stream",
     "text": [
      "+-------+--------------------+--------+---------+------------------+-------+--------+---------+\n",
      "|     ID|              TimeSt|Latitude|Longitude|       Coordinates|Country|Province|     City|\n",
      "+-------+--------------------+--------+---------+------------------+-------+--------+---------+\n",
      "|4516516|2017-06-21 00:00:...|43.49347|-80.49123|43.49347,-80.49123|     CA|      ON| Waterloo|\n",
      "|4519209|2017-06-21 00:00:...| 44.1517| -81.0266|  44.1517,-81.0266|     CA|      ON|  Hanover|\n",
      "|4518130|2017-06-21 00:00:...| 43.0004| -81.2343|  43.0004,-81.2343|     CA|      ON|   London|\n",
      "|5368841|2017-06-21 00:00:...| 45.2778| -75.7563|  45.2778,-75.7563|     CA|      ON|   Nepean|\n",
      "|4521574|2017-06-21 00:00:...| 43.1508| -80.2094|  43.1508,-80.2094|     CA|      ON|Brantford|\n",
      "|4523455|2017-06-21 00:00:...| 43.0091| -81.1765|  43.0091,-81.1765|     CA|      ON|   London|\n",
      "|4522231|2017-06-21 00:00:...| 42.4247| -82.1755|  42.4247,-82.1755|     CA|      ON|  Chatham|\n",
      "|4522376|2017-06-21 00:00:...| 43.4634| -80.5201|  43.4634,-80.5201|     CA|      ON| Waterloo|\n",
      "|4524947|2017-06-21 00:00:...| 43.4306| -80.4877|  43.4306,-80.4877|     CA|      ON|Kitchener|\n",
      "|4526697|2017-06-21 00:00:...|  43.208| -79.9652|   43.208,-79.9652|     CA|      ON| Ancaster|\n",
      "+-------+--------------------+--------+---------+------------------+-------+--------+---------+\n",
      "only showing top 10 rows\n",
      "\n"
     ]
    }
   ],
   "source": [
    "unique_data_sample.show(10)"
   ]
  },
  {
   "cell_type": "code",
   "execution_count": 396,
   "metadata": {},
   "outputs": [
    {
     "name": "stdout",
     "output_type": "stream",
     "text": [
      "+-----+---------+----------+\n",
      "|POIID| Latitude| Longitude|\n",
      "+-----+---------+----------+\n",
      "| POI1|53.546165|-113.48573|\n",
      "| POI2|53.546165|-113.48573|\n",
      "| POI3| 45.52163|-73.566025|\n",
      "| POI4| 45.22483| -63.23273|\n",
      "+-----+---------+----------+\n",
      "\n"
     ]
    }
   ],
   "source": [
    "poi_df.show()"
   ]
  },
  {
   "cell_type": "markdown",
   "metadata": {},
   "source": [
    "#poi_df= hiveContext.sql(\"SELECT POIID,Latitude,Longitude,CONCAT(Latitude,',',Longitude) AS Coordinates FROM poi_df\")\n",
    "Coordinates_df = poi_df.select(concat(poi_df['Latitude'], lit(','),poi_df['Longitude']).alias('Coordinates'),poi_df['POIID'])\n",
    "Coordinates_df.show()"
   ]
  },
  {
   "cell_type": "markdown",
   "metadata": {},
   "source": [
    "poi_df_coords = poi_df.join(Coordinates_df, on = \"POIID\", how = \"inner\" )"
   ]
  },
  {
   "cell_type": "markdown",
   "metadata": {},
   "source": [
    "poi_df_coords.show()"
   ]
  },
  {
   "cell_type": "code",
   "execution_count": 397,
   "metadata": {},
   "outputs": [],
   "source": [
    "setA_lat = np.array(unique_data_sample.select('Latitude').collect())\n",
    "setA_lon = np.array(unique_data_sample.select('Longitude').collect())"
   ]
  },
  {
   "cell_type": "code",
   "execution_count": 398,
   "metadata": {
    "collapsed": true
   },
   "outputs": [],
   "source": [
    "setB_lat = np.array(poi_df.select('Latitude').collect())\n",
    "setB_lon = np.array(poi_df.select('Longitude').collect())"
   ]
  },
  {
   "cell_type": "code",
   "execution_count": 399,
   "metadata": {},
   "outputs": [
    {
     "data": {
      "text/plain": [
       "array([[  43.49346924,  -80.4912262 ],\n",
       "       [  44.15169907,  -81.0266037 ],\n",
       "       [  43.00040054,  -81.23429871],\n",
       "       ..., \n",
       "       [  53.49723053, -113.63462067],\n",
       "       [  43.77030182,  -79.21649933],\n",
       "       [  49.78279877,  -94.44110107]])"
      ]
     },
     "execution_count": 399,
     "metadata": {},
     "output_type": "execute_result"
    }
   ],
   "source": [
    "setA = np.c_[setA_lat,setA_lon]\n",
    "setA"
   ]
  },
  {
   "cell_type": "code",
   "execution_count": 400,
   "metadata": {},
   "outputs": [
    {
     "data": {
      "text/plain": [
       "array([[  53.54616547, -113.48573303],\n",
       "       [  53.54616547, -113.48573303],\n",
       "       [  45.52162933,  -73.56602478],\n",
       "       [  45.22483063,  -63.23273087]])"
      ]
     },
     "execution_count": 400,
     "metadata": {},
     "output_type": "execute_result"
    }
   ],
   "source": [
    "setB = np.c_[setB_lat,setB_lon]\n",
    "setB"
   ]
  },
  {
   "cell_type": "code",
   "execution_count": 401,
   "metadata": {
    "collapsed": true
   },
   "outputs": [],
   "source": [
    "from scipy.spatial import cKDTree\n",
    "\n",
    "def closest_pts(setA, setB):\n",
    "    dst,indx = cKDTree(setB).query(setA,k=1,p=2)\n",
    "    #print(indx[0:100])\n",
    "    return setB[indx],dst"
   ]
  },
  {
   "cell_type": "code",
   "execution_count": 402,
   "metadata": {},
   "outputs": [],
   "source": [
    "c_x, dst = closest_pts(setA, setB)"
   ]
  },
  {
   "cell_type": "code",
   "execution_count": 403,
   "metadata": {},
   "outputs": [
    {
     "data": {
      "text/plain": [
       "array([[ 45.52162933, -73.56602478],\n",
       "       [ 45.52162933, -73.56602478],\n",
       "       [ 45.52162933, -73.56602478],\n",
       "       [ 45.52162933, -73.56602478],\n",
       "       [ 45.52162933, -73.56602478]])"
      ]
     },
     "execution_count": 403,
     "metadata": {},
     "output_type": "execute_result"
    }
   ],
   "source": [
    "c_x[0:5]"
   ]
  },
  {
   "cell_type": "code",
   "execution_count": 404,
   "metadata": {},
   "outputs": [
    {
     "data": {
      "text/plain": [
       "array([ 7.2160826 ,  7.58531125,  8.0721137 ,  2.20380711,  7.05373826])"
      ]
     },
     "execution_count": 404,
     "metadata": {},
     "output_type": "execute_result"
    }
   ],
   "source": [
    "dst[0:5]"
   ]
  },
  {
   "cell_type": "code",
   "execution_count": 405,
   "metadata": {},
   "outputs": [
    {
     "data": {
      "text/plain": [
       "(19999, 2)"
      ]
     },
     "execution_count": 405,
     "metadata": {},
     "output_type": "execute_result"
    }
   ],
   "source": [
    "c_x.shape"
   ]
  },
  {
   "cell_type": "code",
   "execution_count": 406,
   "metadata": {
    "collapsed": true
   },
   "outputs": [],
   "source": [
    "columns = ['POI_nearest_lat','POI_nearest_lon']\n",
    "c_x = pd.DataFrame(c_x,columns=columns)"
   ]
  },
  {
   "cell_type": "code",
   "execution_count": 407,
   "metadata": {
    "collapsed": true
   },
   "outputs": [],
   "source": [
    "unique_data_sample_pd = unique_data_sample.toPandas()\n",
    "nearest_match_pd = nearest_match.toPandas()"
   ]
  },
  {
   "cell_type": "code",
   "execution_count": 408,
   "metadata": {},
   "outputs": [],
   "source": [
    "unique_data_sample_pd['POI_nearest_lat'] = nearest_match_pd['nearest_lat']\n",
    "unique_data_sample_pd['POI_nearest_lon'] = nearest_match_pd['nearest_lon']\n",
    "unique_data_sample_pd['euclidean_dst'] = pd.Series(dst)"
   ]
  },
  {
   "cell_type": "code",
   "execution_count": 409,
   "metadata": {},
   "outputs": [
    {
     "data": {
      "text/html": [
       "<div>\n",
       "<style>\n",
       "    .dataframe thead tr:only-child th {\n",
       "        text-align: right;\n",
       "    }\n",
       "\n",
       "    .dataframe thead th {\n",
       "        text-align: left;\n",
       "    }\n",
       "\n",
       "    .dataframe tbody tr th {\n",
       "        vertical-align: top;\n",
       "    }\n",
       "</style>\n",
       "<table border=\"1\" class=\"dataframe\">\n",
       "  <thead>\n",
       "    <tr style=\"text-align: right;\">\n",
       "      <th></th>\n",
       "      <th>ID</th>\n",
       "      <th>TimeSt</th>\n",
       "      <th>Latitude</th>\n",
       "      <th>Longitude</th>\n",
       "      <th>Coordinates</th>\n",
       "      <th>Country</th>\n",
       "      <th>Province</th>\n",
       "      <th>City</th>\n",
       "      <th>POI_nearest_lat</th>\n",
       "      <th>POI_nearest_lon</th>\n",
       "      <th>euclidean_dst</th>\n",
       "    </tr>\n",
       "  </thead>\n",
       "  <tbody>\n",
       "    <tr>\n",
       "      <th>0</th>\n",
       "      <td>4516516</td>\n",
       "      <td>2017-06-21 00:00:00.143</td>\n",
       "      <td>43.493469</td>\n",
       "      <td>-80.491226</td>\n",
       "      <td>43.49347,-80.49123</td>\n",
       "      <td>CA</td>\n",
       "      <td>ON</td>\n",
       "      <td>Waterloo</td>\n",
       "      <td>45.521629</td>\n",
       "      <td>-73.566025</td>\n",
       "      <td>7.216083</td>\n",
       "    </tr>\n",
       "    <tr>\n",
       "      <th>1</th>\n",
       "      <td>4519209</td>\n",
       "      <td>2017-06-21 00:00:01.257</td>\n",
       "      <td>44.151699</td>\n",
       "      <td>-81.026604</td>\n",
       "      <td>44.1517,-81.0266</td>\n",
       "      <td>CA</td>\n",
       "      <td>ON</td>\n",
       "      <td>Hanover</td>\n",
       "      <td>45.521629</td>\n",
       "      <td>-73.566025</td>\n",
       "      <td>7.585311</td>\n",
       "    </tr>\n",
       "    <tr>\n",
       "      <th>2</th>\n",
       "      <td>4518130</td>\n",
       "      <td>2017-06-21 00:00:01.333</td>\n",
       "      <td>43.000401</td>\n",
       "      <td>-81.234299</td>\n",
       "      <td>43.0004,-81.2343</td>\n",
       "      <td>CA</td>\n",
       "      <td>ON</td>\n",
       "      <td>London</td>\n",
       "      <td>45.521629</td>\n",
       "      <td>-73.566025</td>\n",
       "      <td>8.072114</td>\n",
       "    </tr>\n",
       "    <tr>\n",
       "      <th>3</th>\n",
       "      <td>5368841</td>\n",
       "      <td>2017-06-21 00:00:02.573</td>\n",
       "      <td>45.277802</td>\n",
       "      <td>-75.756302</td>\n",
       "      <td>45.2778,-75.7563</td>\n",
       "      <td>CA</td>\n",
       "      <td>ON</td>\n",
       "      <td>Nepean</td>\n",
       "      <td>45.521629</td>\n",
       "      <td>-73.566025</td>\n",
       "      <td>2.203807</td>\n",
       "    </tr>\n",
       "    <tr>\n",
       "      <th>4</th>\n",
       "      <td>4521574</td>\n",
       "      <td>2017-06-21 00:00:02.637</td>\n",
       "      <td>43.150799</td>\n",
       "      <td>-80.209396</td>\n",
       "      <td>43.1508,-80.2094</td>\n",
       "      <td>CA</td>\n",
       "      <td>ON</td>\n",
       "      <td>Brantford</td>\n",
       "      <td>45.521629</td>\n",
       "      <td>-73.566025</td>\n",
       "      <td>7.053738</td>\n",
       "    </tr>\n",
       "  </tbody>\n",
       "</table>\n",
       "</div>"
      ],
      "text/plain": [
       "        ID                   TimeSt   Latitude  Longitude         Coordinates  \\\n",
       "0  4516516  2017-06-21 00:00:00.143  43.493469 -80.491226  43.49347,-80.49123   \n",
       "1  4519209  2017-06-21 00:00:01.257  44.151699 -81.026604    44.1517,-81.0266   \n",
       "2  4518130  2017-06-21 00:00:01.333  43.000401 -81.234299    43.0004,-81.2343   \n",
       "3  5368841  2017-06-21 00:00:02.573  45.277802 -75.756302    45.2778,-75.7563   \n",
       "4  4521574  2017-06-21 00:00:02.637  43.150799 -80.209396    43.1508,-80.2094   \n",
       "\n",
       "  Country Province       City  POI_nearest_lat  POI_nearest_lon  euclidean_dst  \n",
       "0      CA       ON   Waterloo        45.521629       -73.566025       7.216083  \n",
       "1      CA       ON    Hanover        45.521629       -73.566025       7.585311  \n",
       "2      CA       ON     London        45.521629       -73.566025       8.072114  \n",
       "3      CA       ON     Nepean        45.521629       -73.566025       2.203807  \n",
       "4      CA       ON  Brantford        45.521629       -73.566025       7.053738  "
      ]
     },
     "execution_count": 409,
     "metadata": {},
     "output_type": "execute_result"
    }
   ],
   "source": [
    "unique_data_sample_pd[0:5]"
   ]
  },
  {
   "cell_type": "code",
   "execution_count": 410,
   "metadata": {},
   "outputs": [],
   "source": [
    "unique_data_sample = hiveContext.createDataFrame(unique_data_sample_pd)"
   ]
  },
  {
   "cell_type": "code",
   "execution_count": 411,
   "metadata": {},
   "outputs": [
    {
     "name": "stdout",
     "output_type": "stream",
     "text": [
      "+-------+--------------------+------------------+------------------+------------------+-------+--------+---------+------------------+------------------+------------------+\n",
      "|     ID|              TimeSt|          Latitude|         Longitude|       Coordinates|Country|Province|     City|   POI_nearest_lat|   POI_nearest_lon|     euclidean_dst|\n",
      "+-------+--------------------+------------------+------------------+------------------+-------+--------+---------+------------------+------------------+------------------+\n",
      "|4516516|2017-06-21 00:00:...| 43.49346923828125|-80.49122619628906|43.49347,-80.49123|     CA|      ON| Waterloo|45.521629333496094|-73.56602478027344| 7.216082595439627|\n",
      "|4519209|2017-06-21 00:00:...| 44.15169906616211|-81.02660369873047|  44.1517,-81.0266|     CA|      ON|  Hanover|45.521629333496094|-73.56602478027344|7.5853112484513945|\n",
      "|4518130|2017-06-21 00:00:...| 43.00040054321289|-81.23429870605469|  43.0004,-81.2343|     CA|      ON|   London|45.521629333496094|-73.56602478027344| 8.072113701736955|\n",
      "|5368841|2017-06-21 00:00:...|45.277801513671875|-75.75630187988281|  45.2778,-75.7563|     CA|      ON|   Nepean|45.521629333496094|-73.56602478027344|2.2038071101603895|\n",
      "|4521574|2017-06-21 00:00:...| 43.15079879760742|-80.20939636230469|  43.1508,-80.2094|     CA|      ON|Brantford|45.521629333496094|-73.56602478027344|7.0537382576079874|\n",
      "+-------+--------------------+------------------+------------------+------------------+-------+--------+---------+------------------+------------------+------------------+\n",
      "only showing top 5 rows\n",
      "\n"
     ]
    }
   ],
   "source": [
    "unique_data_sample.show(5)"
   ]
  },
  {
   "cell_type": "code",
   "execution_count": 412,
   "metadata": {},
   "outputs": [],
   "source": [
    "analysis_df = unique_data_sample.select('POI_nearest_lat','POI_nearest_lon','euclidean_dst')"
   ]
  },
  {
   "cell_type": "code",
   "execution_count": 413,
   "metadata": {},
   "outputs": [
    {
     "name": "stdout",
     "output_type": "stream",
     "text": [
      "+------------------+------------------+------------------+\n",
      "|   POI_nearest_lat|   POI_nearest_lon|     euclidean_dst|\n",
      "+------------------+------------------+------------------+\n",
      "|45.521629333496094|-73.56602478027344| 7.216082595439627|\n",
      "|45.521629333496094|-73.56602478027344|7.5853112484513945|\n",
      "|45.521629333496094|-73.56602478027344| 8.072113701736955|\n",
      "|45.521629333496094|-73.56602478027344|2.2038071101603895|\n",
      "|45.521629333496094|-73.56602478027344|7.0537382576079874|\n",
      "|45.521629333496094|-73.56602478027344| 8.014493320368777|\n",
      "|45.521629333496094|-73.56602478027344| 9.149535863508097|\n",
      "|45.521629333496094|-73.56602478027344| 7.252276250332547|\n",
      "|45.521629333496094|-73.56602478027344| 7.230630291757394|\n",
      "|45.521629333496094|-73.56602478027344| 6.804583247944665|\n",
      "+------------------+------------------+------------------+\n",
      "only showing top 10 rows\n",
      "\n"
     ]
    }
   ],
   "source": [
    "analysis_df.show(10)"
   ]
  },
  {
   "cell_type": "code",
   "execution_count": 414,
   "metadata": {
    "collapsed": true
   },
   "outputs": [],
   "source": [
    "analysis_df.registerTempTable(\"analysis_table\")"
   ]
  },
  {
   "cell_type": "code",
   "execution_count": 415,
   "metadata": {},
   "outputs": [],
   "source": [
    "average_distance_sample = hiveContext.sql( '''select POI_nearest_lat, POI_nearest_lon, avg(euclidean_dst) as average_dist\n",
    "                                 from analysis_table group by POI_nearest_lat, POI_nearest_lon\n",
    "                                 order by \n",
    "                                 POI_nearest_lat''' )"
   ]
  },
  {
   "cell_type": "code",
   "execution_count": 416,
   "metadata": {},
   "outputs": [
    {
     "name": "stdout",
     "output_type": "stream",
     "text": [
      "+------------------+-------------------+------------------+\n",
      "|   POI_nearest_lat|    POI_nearest_lon|      average_dist|\n",
      "+------------------+-------------------+------------------+\n",
      "|45.224830627441406|-63.232730865478516| 8.810410437140796|\n",
      "|45.521629333496094| -73.56602478027344|5.5379502811404695|\n",
      "|53.546165466308594|-113.48573303222656|  3.34818233218623|\n",
      "+------------------+-------------------+------------------+\n",
      "\n"
     ]
    }
   ],
   "source": [
    "average_distance_sample.show(5)"
   ]
  },
  {
   "cell_type": "code",
   "execution_count": 514,
   "metadata": {},
   "outputs": [
    {
     "name": "stderr",
     "output_type": "stream",
     "text": [
      "ERROR:root:An unexpected error occurred while tokenizing input\n",
      "The following traceback may be corrupted or invalid\n",
      "The error message is: ('EOF in multi-line string', (1, 49))\n",
      "\n"
     ]
    },
    {
     "ename": "AnalysisException",
     "evalue": "u\"cannot resolve '`density`' given input columns: [POI_nearest_lat, POI_nearest_lon, euclidean_dst]; line 7 pos 46;\\n'Sort ['POI_nearest_lat ASC NULLS FIRST], true\\n+- 'Aggregate [POI_nearest_lat#2236, POI_nearest_lon#2237], [POI_nearest_lat#2236, POI_nearest_lon#2237, avg(euclidean_dst#2238) AS average_dist#3112, stddev_pop(euclidean_dst#2238) AS stdev_dist#3113, count(euclidean_dst#2238) AS density#3114L, unresolvedalias(('density / 'a), None)]\\n   +- SubqueryAlias analysis_table\\n      +- Project [POI_nearest_lat#2236, POI_nearest_lon#2237, euclidean_dst#2238]\\n         +- LogicalRDD [ID#2228L, TimeSt#2229, Latitude#2230, Longitude#2231, Coordinates#2232, Country#2233, Province#2234, City#2235, POI_nearest_lat#2236, POI_nearest_lon#2237, euclidean_dst#2238]\\n\"",
     "output_type": "error",
     "traceback": [
      "\u001b[0;31m---------------------------------------------------------------------------\u001b[0m",
      "\u001b[0;31mAnalysisException\u001b[0m                         Traceback (most recent call last)",
      "\u001b[0;32m<ipython-input-514-9f49b6cae808>\u001b[0m in \u001b[0;36m<module>\u001b[0;34m()\u001b[0m\n\u001b[1;32m      8\u001b[0m                                  \u001b[0;32mfrom\u001b[0m \u001b[0manalysis_table\u001b[0m \u001b[0mgroup\u001b[0m \u001b[0mby\u001b[0m \u001b[0mPOI_nearest_lat\u001b[0m\u001b[0;34m,\u001b[0m \u001b[0mPOI_nearest_lon\u001b[0m\u001b[0;34m\u001b[0m\u001b[0m\n\u001b[1;32m      9\u001b[0m                                  \u001b[0morder\u001b[0m \u001b[0mby\u001b[0m\u001b[0;34m\u001b[0m\u001b[0m\n\u001b[0;32m---> 10\u001b[0;31m                                  POI_nearest_lat ''' )\n\u001b[0m",
      "\u001b[0;32m/usr/local/spark/python/pyspark/sql/context.py\u001b[0m in \u001b[0;36msql\u001b[0;34m(self, sqlQuery)\u001b[0m\n\u001b[1;32m    382\u001b[0m         \u001b[0;34m[\u001b[0m\u001b[0mRow\u001b[0m\u001b[0;34m(\u001b[0m\u001b[0mf1\u001b[0m\u001b[0;34m=\u001b[0m\u001b[0;36m1\u001b[0m\u001b[0;34m,\u001b[0m \u001b[0mf2\u001b[0m\u001b[0;34m=\u001b[0m\u001b[0;34mu'row1'\u001b[0m\u001b[0;34m)\u001b[0m\u001b[0;34m,\u001b[0m \u001b[0mRow\u001b[0m\u001b[0;34m(\u001b[0m\u001b[0mf1\u001b[0m\u001b[0;34m=\u001b[0m\u001b[0;36m2\u001b[0m\u001b[0;34m,\u001b[0m \u001b[0mf2\u001b[0m\u001b[0;34m=\u001b[0m\u001b[0;34mu'row2'\u001b[0m\u001b[0;34m)\u001b[0m\u001b[0;34m,\u001b[0m \u001b[0mRow\u001b[0m\u001b[0;34m(\u001b[0m\u001b[0mf1\u001b[0m\u001b[0;34m=\u001b[0m\u001b[0;36m3\u001b[0m\u001b[0;34m,\u001b[0m \u001b[0mf2\u001b[0m\u001b[0;34m=\u001b[0m\u001b[0;34mu'row3'\u001b[0m\u001b[0;34m)\u001b[0m\u001b[0;34m]\u001b[0m\u001b[0;34m\u001b[0m\u001b[0m\n\u001b[1;32m    383\u001b[0m         \"\"\"\n\u001b[0;32m--> 384\u001b[0;31m         \u001b[0;32mreturn\u001b[0m \u001b[0mself\u001b[0m\u001b[0;34m.\u001b[0m\u001b[0msparkSession\u001b[0m\u001b[0;34m.\u001b[0m\u001b[0msql\u001b[0m\u001b[0;34m(\u001b[0m\u001b[0msqlQuery\u001b[0m\u001b[0;34m)\u001b[0m\u001b[0;34m\u001b[0m\u001b[0m\n\u001b[0m\u001b[1;32m    385\u001b[0m \u001b[0;34m\u001b[0m\u001b[0m\n\u001b[1;32m    386\u001b[0m     \u001b[0;34m@\u001b[0m\u001b[0msince\u001b[0m\u001b[0;34m(\u001b[0m\u001b[0;36m1.0\u001b[0m\u001b[0;34m)\u001b[0m\u001b[0;34m\u001b[0m\u001b[0m\n",
      "\u001b[0;32m/usr/local/spark/python/pyspark/sql/session.py\u001b[0m in \u001b[0;36msql\u001b[0;34m(self, sqlQuery)\u001b[0m\n\u001b[1;32m    539\u001b[0m         \u001b[0;34m[\u001b[0m\u001b[0mRow\u001b[0m\u001b[0;34m(\u001b[0m\u001b[0mf1\u001b[0m\u001b[0;34m=\u001b[0m\u001b[0;36m1\u001b[0m\u001b[0;34m,\u001b[0m \u001b[0mf2\u001b[0m\u001b[0;34m=\u001b[0m\u001b[0;34mu'row1'\u001b[0m\u001b[0;34m)\u001b[0m\u001b[0;34m,\u001b[0m \u001b[0mRow\u001b[0m\u001b[0;34m(\u001b[0m\u001b[0mf1\u001b[0m\u001b[0;34m=\u001b[0m\u001b[0;36m2\u001b[0m\u001b[0;34m,\u001b[0m \u001b[0mf2\u001b[0m\u001b[0;34m=\u001b[0m\u001b[0;34mu'row2'\u001b[0m\u001b[0;34m)\u001b[0m\u001b[0;34m,\u001b[0m \u001b[0mRow\u001b[0m\u001b[0;34m(\u001b[0m\u001b[0mf1\u001b[0m\u001b[0;34m=\u001b[0m\u001b[0;36m3\u001b[0m\u001b[0;34m,\u001b[0m \u001b[0mf2\u001b[0m\u001b[0;34m=\u001b[0m\u001b[0;34mu'row3'\u001b[0m\u001b[0;34m)\u001b[0m\u001b[0;34m]\u001b[0m\u001b[0;34m\u001b[0m\u001b[0m\n\u001b[1;32m    540\u001b[0m         \"\"\"\n\u001b[0;32m--> 541\u001b[0;31m         \u001b[0;32mreturn\u001b[0m \u001b[0mDataFrame\u001b[0m\u001b[0;34m(\u001b[0m\u001b[0mself\u001b[0m\u001b[0;34m.\u001b[0m\u001b[0m_jsparkSession\u001b[0m\u001b[0;34m.\u001b[0m\u001b[0msql\u001b[0m\u001b[0;34m(\u001b[0m\u001b[0msqlQuery\u001b[0m\u001b[0;34m)\u001b[0m\u001b[0;34m,\u001b[0m \u001b[0mself\u001b[0m\u001b[0;34m.\u001b[0m\u001b[0m_wrapped\u001b[0m\u001b[0;34m)\u001b[0m\u001b[0;34m\u001b[0m\u001b[0m\n\u001b[0m\u001b[1;32m    542\u001b[0m \u001b[0;34m\u001b[0m\u001b[0m\n\u001b[1;32m    543\u001b[0m     \u001b[0;34m@\u001b[0m\u001b[0msince\u001b[0m\u001b[0;34m(\u001b[0m\u001b[0;36m2.0\u001b[0m\u001b[0;34m)\u001b[0m\u001b[0;34m\u001b[0m\u001b[0m\n",
      "\u001b[0;32m/usr/local/spark/python/lib/py4j-0.10.4-src.zip/py4j/java_gateway.py\u001b[0m in \u001b[0;36m__call__\u001b[0;34m(self, *args)\u001b[0m\n\u001b[1;32m   1131\u001b[0m         \u001b[0manswer\u001b[0m \u001b[0;34m=\u001b[0m \u001b[0mself\u001b[0m\u001b[0;34m.\u001b[0m\u001b[0mgateway_client\u001b[0m\u001b[0;34m.\u001b[0m\u001b[0msend_command\u001b[0m\u001b[0;34m(\u001b[0m\u001b[0mcommand\u001b[0m\u001b[0;34m)\u001b[0m\u001b[0;34m\u001b[0m\u001b[0m\n\u001b[1;32m   1132\u001b[0m         return_value = get_return_value(\n\u001b[0;32m-> 1133\u001b[0;31m             answer, self.gateway_client, self.target_id, self.name)\n\u001b[0m\u001b[1;32m   1134\u001b[0m \u001b[0;34m\u001b[0m\u001b[0m\n\u001b[1;32m   1135\u001b[0m         \u001b[0;32mfor\u001b[0m \u001b[0mtemp_arg\u001b[0m \u001b[0;32min\u001b[0m \u001b[0mtemp_args\u001b[0m\u001b[0;34m:\u001b[0m\u001b[0;34m\u001b[0m\u001b[0m\n",
      "\u001b[0;32m/usr/local/spark/python/pyspark/sql/utils.py\u001b[0m in \u001b[0;36mdeco\u001b[0;34m(*a, **kw)\u001b[0m\n\u001b[1;32m     67\u001b[0m                                              e.java_exception.getStackTrace()))\n\u001b[1;32m     68\u001b[0m             \u001b[0;32mif\u001b[0m \u001b[0ms\u001b[0m\u001b[0;34m.\u001b[0m\u001b[0mstartswith\u001b[0m\u001b[0;34m(\u001b[0m\u001b[0;34m'org.apache.spark.sql.AnalysisException: '\u001b[0m\u001b[0;34m)\u001b[0m\u001b[0;34m:\u001b[0m\u001b[0;34m\u001b[0m\u001b[0m\n\u001b[0;32m---> 69\u001b[0;31m                 \u001b[0;32mraise\u001b[0m \u001b[0mAnalysisException\u001b[0m\u001b[0;34m(\u001b[0m\u001b[0ms\u001b[0m\u001b[0;34m.\u001b[0m\u001b[0msplit\u001b[0m\u001b[0;34m(\u001b[0m\u001b[0;34m': '\u001b[0m\u001b[0;34m,\u001b[0m \u001b[0;36m1\u001b[0m\u001b[0;34m)\u001b[0m\u001b[0;34m[\u001b[0m\u001b[0;36m1\u001b[0m\u001b[0;34m]\u001b[0m\u001b[0;34m,\u001b[0m \u001b[0mstackTrace\u001b[0m\u001b[0;34m)\u001b[0m\u001b[0;34m\u001b[0m\u001b[0m\n\u001b[0m\u001b[1;32m     70\u001b[0m             \u001b[0;32mif\u001b[0m \u001b[0ms\u001b[0m\u001b[0;34m.\u001b[0m\u001b[0mstartswith\u001b[0m\u001b[0;34m(\u001b[0m\u001b[0;34m'org.apache.spark.sql.catalyst.analysis'\u001b[0m\u001b[0;34m)\u001b[0m\u001b[0;34m:\u001b[0m\u001b[0;34m\u001b[0m\u001b[0m\n\u001b[1;32m     71\u001b[0m                 \u001b[0;32mraise\u001b[0m \u001b[0mAnalysisException\u001b[0m\u001b[0;34m(\u001b[0m\u001b[0ms\u001b[0m\u001b[0;34m.\u001b[0m\u001b[0msplit\u001b[0m\u001b[0;34m(\u001b[0m\u001b[0;34m': '\u001b[0m\u001b[0;34m,\u001b[0m \u001b[0;36m1\u001b[0m\u001b[0;34m)\u001b[0m\u001b[0;34m[\u001b[0m\u001b[0;36m1\u001b[0m\u001b[0;34m]\u001b[0m\u001b[0;34m,\u001b[0m \u001b[0mstackTrace\u001b[0m\u001b[0;34m)\u001b[0m\u001b[0;34m\u001b[0m\u001b[0m\n",
      "\u001b[0;31mAnalysisException\u001b[0m: u\"cannot resolve '`density`' given input columns: [POI_nearest_lat, POI_nearest_lon, euclidean_dst]; line 7 pos 46;\\n'Sort ['POI_nearest_lat ASC NULLS FIRST], true\\n+- 'Aggregate [POI_nearest_lat#2236, POI_nearest_lon#2237], [POI_nearest_lat#2236, POI_nearest_lon#2237, avg(euclidean_dst#2238) AS average_dist#3112, stddev_pop(euclidean_dst#2238) AS stdev_dist#3113, count(euclidean_dst#2238) AS density#3114L, unresolvedalias(('density / 'a), None)]\\n   +- SubqueryAlias analysis_table\\n      +- Project [POI_nearest_lat#2236, POI_nearest_lon#2237, euclidean_dst#2238]\\n         +- LogicalRDD [ID#2228L, TimeSt#2229, Latitude#2230, Longitude#2231, Coordinates#2232, Country#2233, Province#2234, City#2235, POI_nearest_lat#2236, POI_nearest_lon#2237, euclidean_dst#2238]\\n\""
     ]
    }
   ],
   "source": [
    "avg_stdv_dstnce_sample = hiveContext.sql( '''select \n",
    "                                              POI_nearest_lat,\n",
    "                                              POI_nearest_lon,\n",
    "                                              avg(euclidean_dst) as average_dist,\n",
    "                                              stddev_pop(euclidean_dst) as stdev_dist,\n",
    "                                              count(euclidean_dst) as density\n",
    "                                 from analysis_table group by POI_nearest_lat, POI_nearest_lon\n",
    "                                 order by \n",
    "                                 POI_nearest_lat ''' )"
   ]
  },
  {
   "cell_type": "code",
   "execution_count": 493,
   "metadata": {},
   "outputs": [
    {
     "name": "stdout",
     "output_type": "stream",
     "text": [
      "+------------------+-------------------+------------------+------------------+-------+\n",
      "|   POI_nearest_lat|    POI_nearest_lon|      average_dist|        stdev_dist|density|\n",
      "+------------------+-------------------+------------------+------------------+-------+\n",
      "|45.224830627441406|-63.232730865478516| 8.810410437140796|28.645492353009296|    484|\n",
      "|45.521629333496094| -73.56602478027344|5.5379502811404695| 2.858544053873327|   9817|\n",
      "|53.546165466308594|-113.48573303222656|  3.34818233218623|3.8582907094762997|   9698|\n",
      "+------------------+-------------------+------------------+------------------+-------+\n",
      "\n"
     ]
    }
   ],
   "source": [
    "avg_stdv_dstnce_sample.show(5)"
   ]
  },
  {
   "cell_type": "code",
   "execution_count": 510,
   "metadata": {},
   "outputs": [],
   "source": [
    "a= avg_stdv_dstnce_sample.select(sum('density')).collect()\n",
    "total_count = a[0][0]"
   ]
  },
  {
   "cell_type": "code",
   "execution_count": 524,
   "metadata": {},
   "outputs": [
    {
     "name": "stdout",
     "output_type": "stream",
     "text": [
      "+------------------+-------------------+------------------+------------------+-------+\n",
      "|   POI_nearest_lat|    POI_nearest_lon|      average_dist|        stdev_dist|density|\n",
      "+------------------+-------------------+------------------+------------------+-------+\n",
      "|45.224830627441406|-63.232730865478516| 8.810410437140796|28.645492353009296|    484|\n",
      "|45.521629333496094| -73.56602478027344|5.5379502811404695| 2.858544053873327|   9817|\n",
      "|53.546165466308594|-113.48573303222656|  3.34818233218623|3.8582907094762997|   9698|\n",
      "+------------------+-------------------+------------------+------------------+-------+\n",
      "\n"
     ]
    }
   ],
   "source": [
    "avg_stdv_dstnce_sample.select('POI_nearest_lat','POI_nearest_lon','average_dist','stdev_dist','density').show()"
   ]
  },
  {
   "cell_type": "code",
   "execution_count": 530,
   "metadata": {},
   "outputs": [],
   "source": [
    "avg_stdv_dstnce_sample = avg_stdv_dstnce_sample.withColumn('density%', avg_stdv_dstnce_sample.density/total_count)"
   ]
  },
  {
   "cell_type": "code",
   "execution_count": 531,
   "metadata": {},
   "outputs": [
    {
     "name": "stdout",
     "output_type": "stream",
     "text": [
      "+------------------+-------------------+------------------+------------------+-------+--------------------+\n",
      "|   POI_nearest_lat|    POI_nearest_lon|      average_dist|        stdev_dist|density|            density%|\n",
      "+------------------+-------------------+------------------+------------------+-------+--------------------+\n",
      "|45.224830627441406|-63.232730865478516| 8.810410437140796|28.645492353009296|    484|0.024201210060503024|\n",
      "|45.521629333496094| -73.56602478027344|5.5379502811404695| 2.858544053873327|   9817| 0.49087454372718636|\n",
      "|53.546165466308594|-113.48573303222656|  3.34818233218623|3.8582907094762997|   9698|  0.4849242462123106|\n",
      "+------------------+-------------------+------------------+------------------+-------+--------------------+\n",
      "\n"
     ]
    }
   ],
   "source": [
    "avg_stdv_dstnce_sample.show()"
   ]
  },
  {
   "cell_type": "code",
   "execution_count": null,
   "metadata": {
    "collapsed": true
   },
   "outputs": [],
   "source": []
  },
  {
   "cell_type": "code",
   "execution_count": null,
   "metadata": {
    "collapsed": true
   },
   "outputs": [],
   "source": []
  },
  {
   "cell_type": "code",
   "execution_count": 421,
   "metadata": {},
   "outputs": [],
   "source": [
    "unique_data_sample_pd['DATA_Coordinates'] = unique_data_sample_pd[['Latitude','Longitude']].values.tolist()"
   ]
  },
  {
   "cell_type": "code",
   "execution_count": 422,
   "metadata": {
    "collapsed": true
   },
   "outputs": [],
   "source": [
    "unique_data_sample_pd['POI_Coordinates'] = unique_data_sample_pd[['POI_nearest_lat','POI_nearest_lon']].values.tolist()"
   ]
  },
  {
   "cell_type": "code",
   "execution_count": 425,
   "metadata": {},
   "outputs": [],
   "source": [
    "unique_data_sample_pd_df = unique_data_sample_pd[['DATA_Coordinates','Latitude','Longitude','City','POI_Coordinates','POI_nearest_lat','POI_nearest_lon','euclidean_dst']]"
   ]
  },
  {
   "cell_type": "code",
   "execution_count": 426,
   "metadata": {},
   "outputs": [
    {
     "data": {
      "text/html": [
       "<div>\n",
       "<style>\n",
       "    .dataframe thead tr:only-child th {\n",
       "        text-align: right;\n",
       "    }\n",
       "\n",
       "    .dataframe thead th {\n",
       "        text-align: left;\n",
       "    }\n",
       "\n",
       "    .dataframe tbody tr th {\n",
       "        vertical-align: top;\n",
       "    }\n",
       "</style>\n",
       "<table border=\"1\" class=\"dataframe\">\n",
       "  <thead>\n",
       "    <tr style=\"text-align: right;\">\n",
       "      <th></th>\n",
       "      <th>DATA_Coordinates</th>\n",
       "      <th>Latitude</th>\n",
       "      <th>Longitude</th>\n",
       "      <th>City</th>\n",
       "      <th>POI_Coordinates</th>\n",
       "      <th>POI_nearest_lat</th>\n",
       "      <th>POI_nearest_lon</th>\n",
       "      <th>euclidean_dst</th>\n",
       "    </tr>\n",
       "  </thead>\n",
       "  <tbody>\n",
       "    <tr>\n",
       "      <th>0</th>\n",
       "      <td>[43.4934692383, -80.4912261963]</td>\n",
       "      <td>43.493469</td>\n",
       "      <td>-80.491226</td>\n",
       "      <td>Waterloo</td>\n",
       "      <td>[45.5216293335, -73.5660247803]</td>\n",
       "      <td>45.521629</td>\n",
       "      <td>-73.566025</td>\n",
       "      <td>7.216083</td>\n",
       "    </tr>\n",
       "    <tr>\n",
       "      <th>1</th>\n",
       "      <td>[44.1516990662, -81.0266036987]</td>\n",
       "      <td>44.151699</td>\n",
       "      <td>-81.026604</td>\n",
       "      <td>Hanover</td>\n",
       "      <td>[45.5216293335, -73.5660247803]</td>\n",
       "      <td>45.521629</td>\n",
       "      <td>-73.566025</td>\n",
       "      <td>7.585311</td>\n",
       "    </tr>\n",
       "    <tr>\n",
       "      <th>2</th>\n",
       "      <td>[43.0004005432, -81.2342987061]</td>\n",
       "      <td>43.000401</td>\n",
       "      <td>-81.234299</td>\n",
       "      <td>London</td>\n",
       "      <td>[45.5216293335, -73.5660247803]</td>\n",
       "      <td>45.521629</td>\n",
       "      <td>-73.566025</td>\n",
       "      <td>8.072114</td>\n",
       "    </tr>\n",
       "    <tr>\n",
       "      <th>3</th>\n",
       "      <td>[45.2778015137, -75.7563018799]</td>\n",
       "      <td>45.277802</td>\n",
       "      <td>-75.756302</td>\n",
       "      <td>Nepean</td>\n",
       "      <td>[45.5216293335, -73.5660247803]</td>\n",
       "      <td>45.521629</td>\n",
       "      <td>-73.566025</td>\n",
       "      <td>2.203807</td>\n",
       "    </tr>\n",
       "    <tr>\n",
       "      <th>4</th>\n",
       "      <td>[43.1507987976, -80.2093963623]</td>\n",
       "      <td>43.150799</td>\n",
       "      <td>-80.209396</td>\n",
       "      <td>Brantford</td>\n",
       "      <td>[45.5216293335, -73.5660247803]</td>\n",
       "      <td>45.521629</td>\n",
       "      <td>-73.566025</td>\n",
       "      <td>7.053738</td>\n",
       "    </tr>\n",
       "    <tr>\n",
       "      <th>5</th>\n",
       "      <td>[43.0091018677, -81.1764984131]</td>\n",
       "      <td>43.009102</td>\n",
       "      <td>-81.176498</td>\n",
       "      <td>London</td>\n",
       "      <td>[45.5216293335, -73.5660247803]</td>\n",
       "      <td>45.521629</td>\n",
       "      <td>-73.566025</td>\n",
       "      <td>8.014493</td>\n",
       "    </tr>\n",
       "    <tr>\n",
       "      <th>6</th>\n",
       "      <td>[42.4247016907, -82.1754989624]</td>\n",
       "      <td>42.424702</td>\n",
       "      <td>-82.175499</td>\n",
       "      <td>Chatham</td>\n",
       "      <td>[45.5216293335, -73.5660247803]</td>\n",
       "      <td>45.521629</td>\n",
       "      <td>-73.566025</td>\n",
       "      <td>9.149536</td>\n",
       "    </tr>\n",
       "    <tr>\n",
       "      <th>7</th>\n",
       "      <td>[43.4634017944, -80.5201034546]</td>\n",
       "      <td>43.463402</td>\n",
       "      <td>-80.520103</td>\n",
       "      <td>Waterloo</td>\n",
       "      <td>[45.5216293335, -73.5660247803]</td>\n",
       "      <td>45.521629</td>\n",
       "      <td>-73.566025</td>\n",
       "      <td>7.252276</td>\n",
       "    </tr>\n",
       "    <tr>\n",
       "      <th>8</th>\n",
       "      <td>[43.4305992126, -80.487701416]</td>\n",
       "      <td>43.430599</td>\n",
       "      <td>-80.487701</td>\n",
       "      <td>Kitchener</td>\n",
       "      <td>[45.5216293335, -73.5660247803]</td>\n",
       "      <td>45.521629</td>\n",
       "      <td>-73.566025</td>\n",
       "      <td>7.230630</td>\n",
       "    </tr>\n",
       "    <tr>\n",
       "      <th>9</th>\n",
       "      <td>[43.2080001831, -79.9652023315]</td>\n",
       "      <td>43.208000</td>\n",
       "      <td>-79.965202</td>\n",
       "      <td>Ancaster</td>\n",
       "      <td>[45.5216293335, -73.5660247803]</td>\n",
       "      <td>45.521629</td>\n",
       "      <td>-73.566025</td>\n",
       "      <td>6.804583</td>\n",
       "    </tr>\n",
       "    <tr>\n",
       "      <th>10</th>\n",
       "      <td>[43.3889007568, -79.7682037354]</td>\n",
       "      <td>43.388901</td>\n",
       "      <td>-79.768204</td>\n",
       "      <td>Burlington</td>\n",
       "      <td>[45.5216293335, -73.5660247803]</td>\n",
       "      <td>45.521629</td>\n",
       "      <td>-73.566025</td>\n",
       "      <td>6.558624</td>\n",
       "    </tr>\n",
       "    <tr>\n",
       "      <th>11</th>\n",
       "      <td>[43.7795982361, -79.7680969238]</td>\n",
       "      <td>43.779598</td>\n",
       "      <td>-79.768097</td>\n",
       "      <td>Brampton</td>\n",
       "      <td>[45.5216293335, -73.5660247803]</td>\n",
       "      <td>45.521629</td>\n",
       "      <td>-73.566025</td>\n",
       "      <td>6.442078</td>\n",
       "    </tr>\n",
       "    <tr>\n",
       "      <th>12</th>\n",
       "      <td>[45.5649986267, -73.1912994385]</td>\n",
       "      <td>45.564999</td>\n",
       "      <td>-73.191299</td>\n",
       "      <td>Beloeil</td>\n",
       "      <td>[45.5216293335, -73.5660247803]</td>\n",
       "      <td>45.521629</td>\n",
       "      <td>-73.566025</td>\n",
       "      <td>0.377227</td>\n",
       "    </tr>\n",
       "    <tr>\n",
       "      <th>13</th>\n",
       "      <td>[51.0494003296, -113.95639801]</td>\n",
       "      <td>51.049400</td>\n",
       "      <td>-113.956398</td>\n",
       "      <td>Calgary</td>\n",
       "      <td>[53.5461654663, -113.485733032]</td>\n",
       "      <td>53.546165</td>\n",
       "      <td>-113.485733</td>\n",
       "      <td>2.540740</td>\n",
       "    </tr>\n",
       "    <tr>\n",
       "      <th>14</th>\n",
       "      <td>[46.1183013916, -64.7338027954]</td>\n",
       "      <td>46.118301</td>\n",
       "      <td>-64.733803</td>\n",
       "      <td>Moncton</td>\n",
       "      <td>[45.2248306274, -63.2327308655]</td>\n",
       "      <td>45.224831</td>\n",
       "      <td>-63.232731</td>\n",
       "      <td>1.746856</td>\n",
       "    </tr>\n",
       "    <tr>\n",
       "      <th>15</th>\n",
       "      <td>[47.6212005615, -53.1423988342]</td>\n",
       "      <td>47.621201</td>\n",
       "      <td>-53.142399</td>\n",
       "      <td>Bay Roberts</td>\n",
       "      <td>[45.2248306274, -63.2327308655]</td>\n",
       "      <td>45.224831</td>\n",
       "      <td>-63.232731</td>\n",
       "      <td>10.370988</td>\n",
       "    </tr>\n",
       "    <tr>\n",
       "      <th>16</th>\n",
       "      <td>[56.7430801392, -111.476509094]</td>\n",
       "      <td>56.743080</td>\n",
       "      <td>-111.476509</td>\n",
       "      <td>Fort Mcmurray</td>\n",
       "      <td>[53.5461654663, -113.485733032]</td>\n",
       "      <td>53.546165</td>\n",
       "      <td>-113.485733</td>\n",
       "      <td>3.775877</td>\n",
       "    </tr>\n",
       "    <tr>\n",
       "      <th>17</th>\n",
       "      <td>[51.1587982178, -113.963600159]</td>\n",
       "      <td>51.158798</td>\n",
       "      <td>-113.963600</td>\n",
       "      <td>Calgary</td>\n",
       "      <td>[53.5461654663, -113.485733032]</td>\n",
       "      <td>53.546165</td>\n",
       "      <td>-113.485733</td>\n",
       "      <td>2.434724</td>\n",
       "    </tr>\n",
       "    <tr>\n",
       "      <th>18</th>\n",
       "      <td>[43.9063491821, -78.8725128174]</td>\n",
       "      <td>43.906349</td>\n",
       "      <td>-78.872513</td>\n",
       "      <td>Oshawa</td>\n",
       "      <td>[45.5216293335, -73.5660247803]</td>\n",
       "      <td>45.521629</td>\n",
       "      <td>-73.566025</td>\n",
       "      <td>5.546886</td>\n",
       "    </tr>\n",
       "    <tr>\n",
       "      <th>19</th>\n",
       "      <td>[43.8959007263, -79.0344009399]</td>\n",
       "      <td>43.895901</td>\n",
       "      <td>-79.034401</td>\n",
       "      <td>Ajax</td>\n",
       "      <td>[45.5216293335, -73.5660247803]</td>\n",
       "      <td>45.521629</td>\n",
       "      <td>-73.566025</td>\n",
       "      <td>5.704922</td>\n",
       "    </tr>\n",
       "    <tr>\n",
       "      <th>20</th>\n",
       "      <td>[52.7806015015, -108.31199646]</td>\n",
       "      <td>52.780602</td>\n",
       "      <td>-108.311996</td>\n",
       "      <td>North Battleford</td>\n",
       "      <td>[53.5461654663, -113.485733032]</td>\n",
       "      <td>53.546165</td>\n",
       "      <td>-113.485733</td>\n",
       "      <td>5.230071</td>\n",
       "    </tr>\n",
       "    <tr>\n",
       "      <th>21</th>\n",
       "      <td>[51.3082008362, -114.039802551]</td>\n",
       "      <td>51.308201</td>\n",
       "      <td>-114.039803</td>\n",
       "      <td>Airdrie</td>\n",
       "      <td>[53.5461654663, -113.485733032]</td>\n",
       "      <td>53.546165</td>\n",
       "      <td>-113.485733</td>\n",
       "      <td>2.305532</td>\n",
       "    </tr>\n",
       "    <tr>\n",
       "      <th>22</th>\n",
       "      <td>[52.1225013733, -106.724876404]</td>\n",
       "      <td>52.122501</td>\n",
       "      <td>-106.724876</td>\n",
       "      <td>Saskatoon</td>\n",
       "      <td>[53.5461654663, -113.485733032]</td>\n",
       "      <td>53.546165</td>\n",
       "      <td>-113.485733</td>\n",
       "      <td>6.909125</td>\n",
       "    </tr>\n",
       "    <tr>\n",
       "      <th>23</th>\n",
       "      <td>[51.0667800903, -114.053787231]</td>\n",
       "      <td>51.066780</td>\n",
       "      <td>-114.053787</td>\n",
       "      <td>Calgary</td>\n",
       "      <td>[53.5461654663, -113.485733032]</td>\n",
       "      <td>53.546165</td>\n",
       "      <td>-113.485733</td>\n",
       "      <td>2.543627</td>\n",
       "    </tr>\n",
       "    <tr>\n",
       "      <th>24</th>\n",
       "      <td>[53.6333999634, -113.635299683]</td>\n",
       "      <td>53.633400</td>\n",
       "      <td>-113.635300</td>\n",
       "      <td>Saint Albert</td>\n",
       "      <td>[53.5461654663, -113.485733032]</td>\n",
       "      <td>53.546165</td>\n",
       "      <td>-113.485733</td>\n",
       "      <td>0.173147</td>\n",
       "    </tr>\n",
       "    <tr>\n",
       "      <th>25</th>\n",
       "      <td>[42.32970047, -82.9481964111]</td>\n",
       "      <td>42.329700</td>\n",
       "      <td>-82.948196</td>\n",
       "      <td>Windsor</td>\n",
       "      <td>[45.5216293335, -73.5660247803]</td>\n",
       "      <td>45.521629</td>\n",
       "      <td>-73.566025</td>\n",
       "      <td>9.910275</td>\n",
       "    </tr>\n",
       "    <tr>\n",
       "      <th>26</th>\n",
       "      <td>[43.4634017944, -80.5201034546]</td>\n",
       "      <td>43.463402</td>\n",
       "      <td>-80.520103</td>\n",
       "      <td>Waterloo</td>\n",
       "      <td>[45.5216293335, -73.5660247803]</td>\n",
       "      <td>45.521629</td>\n",
       "      <td>-73.566025</td>\n",
       "      <td>7.252276</td>\n",
       "    </tr>\n",
       "    <tr>\n",
       "      <th>27</th>\n",
       "      <td>[43.5424995422, -80.2676010132]</td>\n",
       "      <td>43.542500</td>\n",
       "      <td>-80.267601</td>\n",
       "      <td>Guelph</td>\n",
       "      <td>[45.5216293335, -73.5660247803]</td>\n",
       "      <td>45.521629</td>\n",
       "      <td>-73.566025</td>\n",
       "      <td>6.987709</td>\n",
       "    </tr>\n",
       "    <tr>\n",
       "      <th>28</th>\n",
       "      <td>[43.4277992249, -80.5134963989]</td>\n",
       "      <td>43.427799</td>\n",
       "      <td>-80.513496</td>\n",
       "      <td>Kitchener</td>\n",
       "      <td>[45.5216293335, -73.5660247803]</td>\n",
       "      <td>45.521629</td>\n",
       "      <td>-73.566025</td>\n",
       "      <td>7.256134</td>\n",
       "    </tr>\n",
       "    <tr>\n",
       "      <th>29</th>\n",
       "      <td>[42.9528999329, -81.3238983154]</td>\n",
       "      <td>42.952900</td>\n",
       "      <td>-81.323898</td>\n",
       "      <td>London</td>\n",
       "      <td>[45.5216293335, -73.5660247803]</td>\n",
       "      <td>45.521629</td>\n",
       "      <td>-73.566025</td>\n",
       "      <td>8.172085</td>\n",
       "    </tr>\n",
       "    <tr>\n",
       "      <th>...</th>\n",
       "      <td>...</td>\n",
       "      <td>...</td>\n",
       "      <td>...</td>\n",
       "      <td>...</td>\n",
       "      <td>...</td>\n",
       "      <td>...</td>\n",
       "      <td>...</td>\n",
       "      <td>...</td>\n",
       "    </tr>\n",
       "    <tr>\n",
       "      <th>19969</th>\n",
       "      <td>[45.5405006409, -73.6207962036]</td>\n",
       "      <td>45.540501</td>\n",
       "      <td>-73.620796</td>\n",
       "      <td>Plateau-Mont-Royal</td>\n",
       "      <td>[45.5216293335, -73.5660247803]</td>\n",
       "      <td>45.521629</td>\n",
       "      <td>-73.566025</td>\n",
       "      <td>0.057931</td>\n",
       "    </tr>\n",
       "    <tr>\n",
       "      <th>19970</th>\n",
       "      <td>[43.664100647, -79.3990020752]</td>\n",
       "      <td>43.664101</td>\n",
       "      <td>-79.399002</td>\n",
       "      <td>Toronto</td>\n",
       "      <td>[45.5216293335, -73.5660247803]</td>\n",
       "      <td>45.521629</td>\n",
       "      <td>-73.566025</td>\n",
       "      <td>6.121604</td>\n",
       "    </tr>\n",
       "    <tr>\n",
       "      <th>19971</th>\n",
       "      <td>[54.3800010681, -112.024917603]</td>\n",
       "      <td>54.380001</td>\n",
       "      <td>-112.024918</td>\n",
       "      <td>Kikino</td>\n",
       "      <td>[53.5461654663, -113.485733032]</td>\n",
       "      <td>53.546165</td>\n",
       "      <td>-113.485733</td>\n",
       "      <td>1.682041</td>\n",
       "    </tr>\n",
       "    <tr>\n",
       "      <th>19972</th>\n",
       "      <td>[43.6393089294, -79.5638427734]</td>\n",
       "      <td>43.639309</td>\n",
       "      <td>-79.563843</td>\n",
       "      <td>Etobicoke</td>\n",
       "      <td>[45.5216293335, -73.5660247803]</td>\n",
       "      <td>45.521629</td>\n",
       "      <td>-73.566025</td>\n",
       "      <td>6.286251</td>\n",
       "    </tr>\n",
       "    <tr>\n",
       "      <th>19973</th>\n",
       "      <td>[54.0164604187, -124.007827759]</td>\n",
       "      <td>54.016460</td>\n",
       "      <td>-124.007828</td>\n",
       "      <td>Vanderhoof</td>\n",
       "      <td>[53.5461654663, -113.485733032]</td>\n",
       "      <td>53.546165</td>\n",
       "      <td>-113.485733</td>\n",
       "      <td>10.532600</td>\n",
       "    </tr>\n",
       "    <tr>\n",
       "      <th>19974</th>\n",
       "      <td>[43.7024993896, -79.6490020752]</td>\n",
       "      <td>43.702499</td>\n",
       "      <td>-79.649002</td>\n",
       "      <td>Mississauga</td>\n",
       "      <td>[45.5216293335, -73.5660247803]</td>\n",
       "      <td>45.521629</td>\n",
       "      <td>-73.566025</td>\n",
       "      <td>6.349161</td>\n",
       "    </tr>\n",
       "    <tr>\n",
       "      <th>19975</th>\n",
       "      <td>[45.5362014771, -73.4495010376]</td>\n",
       "      <td>45.536201</td>\n",
       "      <td>-73.449501</td>\n",
       "      <td>Longueuil</td>\n",
       "      <td>[45.5216293335, -73.5660247803]</td>\n",
       "      <td>45.521629</td>\n",
       "      <td>-73.566025</td>\n",
       "      <td>0.117431</td>\n",
       "    </tr>\n",
       "    <tr>\n",
       "      <th>19976</th>\n",
       "      <td>[53.5318984985, -113.560997009]</td>\n",
       "      <td>53.531898</td>\n",
       "      <td>-113.560997</td>\n",
       "      <td>Edmonton</td>\n",
       "      <td>[53.5461654663, -113.485733032]</td>\n",
       "      <td>53.546165</td>\n",
       "      <td>-113.485733</td>\n",
       "      <td>0.076604</td>\n",
       "    </tr>\n",
       "    <tr>\n",
       "      <th>19977</th>\n",
       "      <td>[51.1020011902, -114.152000427]</td>\n",
       "      <td>51.102001</td>\n",
       "      <td>-114.152000</td>\n",
       "      <td>Calgary</td>\n",
       "      <td>[53.5461654663, -113.485733032]</td>\n",
       "      <td>53.546165</td>\n",
       "      <td>-113.485733</td>\n",
       "      <td>2.533348</td>\n",
       "    </tr>\n",
       "    <tr>\n",
       "      <th>19978</th>\n",
       "      <td>[45.4570999146, -73.4922027588]</td>\n",
       "      <td>45.457100</td>\n",
       "      <td>-73.492203</td>\n",
       "      <td>Brossard</td>\n",
       "      <td>[45.5216293335, -73.5660247803]</td>\n",
       "      <td>45.521629</td>\n",
       "      <td>-73.566025</td>\n",
       "      <td>0.098050</td>\n",
       "    </tr>\n",
       "    <tr>\n",
       "      <th>19979</th>\n",
       "      <td>[43.6446990967, -79.3841018677]</td>\n",
       "      <td>43.644699</td>\n",
       "      <td>-79.384102</td>\n",
       "      <td>Toronto</td>\n",
       "      <td>[45.5216293335, -73.5660247803]</td>\n",
       "      <td>45.521629</td>\n",
       "      <td>-73.566025</td>\n",
       "      <td>6.113337</td>\n",
       "    </tr>\n",
       "    <tr>\n",
       "      <th>19980</th>\n",
       "      <td>[43.6446990967, -79.3841018677]</td>\n",
       "      <td>43.644699</td>\n",
       "      <td>-79.384102</td>\n",
       "      <td>Toronto</td>\n",
       "      <td>[45.5216293335, -73.5660247803]</td>\n",
       "      <td>45.521629</td>\n",
       "      <td>-73.566025</td>\n",
       "      <td>6.113337</td>\n",
       "    </tr>\n",
       "    <tr>\n",
       "      <th>19981</th>\n",
       "      <td>[45.443901062, -75.7419967651]</td>\n",
       "      <td>45.443901</td>\n",
       "      <td>-75.741997</td>\n",
       "      <td>Gatineau</td>\n",
       "      <td>[45.5216293335, -73.5660247803]</td>\n",
       "      <td>45.521629</td>\n",
       "      <td>-73.566025</td>\n",
       "      <td>2.177360</td>\n",
       "    </tr>\n",
       "    <tr>\n",
       "      <th>19982</th>\n",
       "      <td>[53.4593009949, -113.414497375]</td>\n",
       "      <td>53.459301</td>\n",
       "      <td>-113.414497</td>\n",
       "      <td>Edmonton</td>\n",
       "      <td>[53.5461654663, -113.485733032]</td>\n",
       "      <td>53.546165</td>\n",
       "      <td>-113.485733</td>\n",
       "      <td>0.112339</td>\n",
       "    </tr>\n",
       "    <tr>\n",
       "      <th>19983</th>\n",
       "      <td>[45.4977989197, -73.5798034668]</td>\n",
       "      <td>45.497799</td>\n",
       "      <td>-73.579803</td>\n",
       "      <td>Montréal</td>\n",
       "      <td>[45.5216293335, -73.5660247803]</td>\n",
       "      <td>45.521629</td>\n",
       "      <td>-73.566025</td>\n",
       "      <td>0.027527</td>\n",
       "    </tr>\n",
       "    <tr>\n",
       "      <th>19984</th>\n",
       "      <td>[51.0489997864, -113.96219635]</td>\n",
       "      <td>51.049000</td>\n",
       "      <td>-113.962196</td>\n",
       "      <td>Calgary</td>\n",
       "      <td>[53.5461654663, -113.485733032]</td>\n",
       "      <td>53.546165</td>\n",
       "      <td>-113.485733</td>\n",
       "      <td>2.542214</td>\n",
       "    </tr>\n",
       "    <tr>\n",
       "      <th>19985</th>\n",
       "      <td>[52.0990982056, -106.649398804]</td>\n",
       "      <td>52.099098</td>\n",
       "      <td>-106.649399</td>\n",
       "      <td>Saskatoon</td>\n",
       "      <td>[53.5461654663, -113.485733032]</td>\n",
       "      <td>53.546165</td>\n",
       "      <td>-113.485733</td>\n",
       "      <td>6.987809</td>\n",
       "    </tr>\n",
       "    <tr>\n",
       "      <th>19986</th>\n",
       "      <td>[53.5441513062, -113.533851624]</td>\n",
       "      <td>53.544151</td>\n",
       "      <td>-113.533852</td>\n",
       "      <td>Edmonton</td>\n",
       "      <td>[53.5461654663, -113.485733032]</td>\n",
       "      <td>53.546165</td>\n",
       "      <td>-113.485733</td>\n",
       "      <td>0.048161</td>\n",
       "    </tr>\n",
       "    <tr>\n",
       "      <th>19987</th>\n",
       "      <td>[49.1220016479, -122.710700989]</td>\n",
       "      <td>49.122002</td>\n",
       "      <td>-122.710701</td>\n",
       "      <td>Surrey</td>\n",
       "      <td>[53.5461654663, -113.485733032]</td>\n",
       "      <td>53.546165</td>\n",
       "      <td>-113.485733</td>\n",
       "      <td>10.230995</td>\n",
       "    </tr>\n",
       "    <tr>\n",
       "      <th>19988</th>\n",
       "      <td>[43.887298584, -78.942199707]</td>\n",
       "      <td>43.887299</td>\n",
       "      <td>-78.942200</td>\n",
       "      <td>Whitby</td>\n",
       "      <td>[45.5216293335, -73.5660247803]</td>\n",
       "      <td>45.521629</td>\n",
       "      <td>-73.566025</td>\n",
       "      <td>5.619101</td>\n",
       "    </tr>\n",
       "    <tr>\n",
       "      <th>19989</th>\n",
       "      <td>[43.7067985535, -79.3991012573]</td>\n",
       "      <td>43.706799</td>\n",
       "      <td>-79.399101</td>\n",
       "      <td>Toronto</td>\n",
       "      <td>[45.5216293335, -73.5660247803]</td>\n",
       "      <td>45.521629</td>\n",
       "      <td>-73.566025</td>\n",
       "      <td>6.108878</td>\n",
       "    </tr>\n",
       "    <tr>\n",
       "      <th>19990</th>\n",
       "      <td>[51.0810813904, -114.208000183]</td>\n",
       "      <td>51.081081</td>\n",
       "      <td>-114.208000</td>\n",
       "      <td>Calgary</td>\n",
       "      <td>[53.5461654663, -113.485733032]</td>\n",
       "      <td>53.546165</td>\n",
       "      <td>-113.485733</td>\n",
       "      <td>2.568717</td>\n",
       "    </tr>\n",
       "    <tr>\n",
       "      <th>19991</th>\n",
       "      <td>[52.1225013733, -106.724876404]</td>\n",
       "      <td>52.122501</td>\n",
       "      <td>-106.724876</td>\n",
       "      <td>Saskatoon</td>\n",
       "      <td>[53.5461654663, -113.485733032]</td>\n",
       "      <td>53.546165</td>\n",
       "      <td>-113.485733</td>\n",
       "      <td>6.909125</td>\n",
       "    </tr>\n",
       "    <tr>\n",
       "      <th>19992</th>\n",
       "      <td>[43.4539985657, -79.6920013428]</td>\n",
       "      <td>43.453999</td>\n",
       "      <td>-79.692001</td>\n",
       "      <td>Oakville</td>\n",
       "      <td>[45.5216293335, -73.5660247803]</td>\n",
       "      <td>45.521629</td>\n",
       "      <td>-73.566025</td>\n",
       "      <td>6.465500</td>\n",
       "    </tr>\n",
       "    <tr>\n",
       "      <th>19993</th>\n",
       "      <td>[43.6721992493, -79.4011764526]</td>\n",
       "      <td>43.672199</td>\n",
       "      <td>-79.401176</td>\n",
       "      <td>Toronto</td>\n",
       "      <td>[45.5216293335, -73.5660247803]</td>\n",
       "      <td>45.521629</td>\n",
       "      <td>-73.566025</td>\n",
       "      <td>6.121224</td>\n",
       "    </tr>\n",
       "    <tr>\n",
       "      <th>19994</th>\n",
       "      <td>[52.1403999329, -106.608001709]</td>\n",
       "      <td>52.140400</td>\n",
       "      <td>-106.608002</td>\n",
       "      <td>Saskatoon</td>\n",
       "      <td>[53.5461654663, -113.485733032]</td>\n",
       "      <td>53.546165</td>\n",
       "      <td>-113.485733</td>\n",
       "      <td>7.019926</td>\n",
       "    </tr>\n",
       "    <tr>\n",
       "      <th>19995</th>\n",
       "      <td>[50.0816001892, -110.578796387]</td>\n",
       "      <td>50.081600</td>\n",
       "      <td>-110.578796</td>\n",
       "      <td>Medicine Hat</td>\n",
       "      <td>[53.5461654663, -113.485733032]</td>\n",
       "      <td>53.546165</td>\n",
       "      <td>-113.485733</td>\n",
       "      <td>4.522554</td>\n",
       "    </tr>\n",
       "    <tr>\n",
       "      <th>19996</th>\n",
       "      <td>[53.4972305298, -113.634620667]</td>\n",
       "      <td>53.497231</td>\n",
       "      <td>-113.634621</td>\n",
       "      <td>Edmonton</td>\n",
       "      <td>[53.5461654663, -113.485733032]</td>\n",
       "      <td>53.546165</td>\n",
       "      <td>-113.485733</td>\n",
       "      <td>0.156723</td>\n",
       "    </tr>\n",
       "    <tr>\n",
       "      <th>19997</th>\n",
       "      <td>[43.7703018188, -79.2164993286]</td>\n",
       "      <td>43.770302</td>\n",
       "      <td>-79.216499</td>\n",
       "      <td>Scarborough</td>\n",
       "      <td>[45.5216293335, -73.5660247803]</td>\n",
       "      <td>45.521629</td>\n",
       "      <td>-73.566025</td>\n",
       "      <td>5.915658</td>\n",
       "    </tr>\n",
       "    <tr>\n",
       "      <th>19998</th>\n",
       "      <td>[49.7827987671, -94.4411010742]</td>\n",
       "      <td>49.782799</td>\n",
       "      <td>-94.441101</td>\n",
       "      <td>Kenora</td>\n",
       "      <td>[53.5461654663, -113.485733032]</td>\n",
       "      <td>53.546165</td>\n",
       "      <td>-113.485733</td>\n",
       "      <td>19.412906</td>\n",
       "    </tr>\n",
       "  </tbody>\n",
       "</table>\n",
       "<p>19999 rows × 8 columns</p>\n",
       "</div>"
      ],
      "text/plain": [
       "                      DATA_Coordinates   Latitude   Longitude  \\\n",
       "0      [43.4934692383, -80.4912261963]  43.493469  -80.491226   \n",
       "1      [44.1516990662, -81.0266036987]  44.151699  -81.026604   \n",
       "2      [43.0004005432, -81.2342987061]  43.000401  -81.234299   \n",
       "3      [45.2778015137, -75.7563018799]  45.277802  -75.756302   \n",
       "4      [43.1507987976, -80.2093963623]  43.150799  -80.209396   \n",
       "5      [43.0091018677, -81.1764984131]  43.009102  -81.176498   \n",
       "6      [42.4247016907, -82.1754989624]  42.424702  -82.175499   \n",
       "7      [43.4634017944, -80.5201034546]  43.463402  -80.520103   \n",
       "8       [43.4305992126, -80.487701416]  43.430599  -80.487701   \n",
       "9      [43.2080001831, -79.9652023315]  43.208000  -79.965202   \n",
       "10     [43.3889007568, -79.7682037354]  43.388901  -79.768204   \n",
       "11     [43.7795982361, -79.7680969238]  43.779598  -79.768097   \n",
       "12     [45.5649986267, -73.1912994385]  45.564999  -73.191299   \n",
       "13      [51.0494003296, -113.95639801]  51.049400 -113.956398   \n",
       "14     [46.1183013916, -64.7338027954]  46.118301  -64.733803   \n",
       "15     [47.6212005615, -53.1423988342]  47.621201  -53.142399   \n",
       "16     [56.7430801392, -111.476509094]  56.743080 -111.476509   \n",
       "17     [51.1587982178, -113.963600159]  51.158798 -113.963600   \n",
       "18     [43.9063491821, -78.8725128174]  43.906349  -78.872513   \n",
       "19     [43.8959007263, -79.0344009399]  43.895901  -79.034401   \n",
       "20      [52.7806015015, -108.31199646]  52.780602 -108.311996   \n",
       "21     [51.3082008362, -114.039802551]  51.308201 -114.039803   \n",
       "22     [52.1225013733, -106.724876404]  52.122501 -106.724876   \n",
       "23     [51.0667800903, -114.053787231]  51.066780 -114.053787   \n",
       "24     [53.6333999634, -113.635299683]  53.633400 -113.635300   \n",
       "25       [42.32970047, -82.9481964111]  42.329700  -82.948196   \n",
       "26     [43.4634017944, -80.5201034546]  43.463402  -80.520103   \n",
       "27     [43.5424995422, -80.2676010132]  43.542500  -80.267601   \n",
       "28     [43.4277992249, -80.5134963989]  43.427799  -80.513496   \n",
       "29     [42.9528999329, -81.3238983154]  42.952900  -81.323898   \n",
       "...                                ...        ...         ...   \n",
       "19969  [45.5405006409, -73.6207962036]  45.540501  -73.620796   \n",
       "19970   [43.664100647, -79.3990020752]  43.664101  -79.399002   \n",
       "19971  [54.3800010681, -112.024917603]  54.380001 -112.024918   \n",
       "19972  [43.6393089294, -79.5638427734]  43.639309  -79.563843   \n",
       "19973  [54.0164604187, -124.007827759]  54.016460 -124.007828   \n",
       "19974  [43.7024993896, -79.6490020752]  43.702499  -79.649002   \n",
       "19975  [45.5362014771, -73.4495010376]  45.536201  -73.449501   \n",
       "19976  [53.5318984985, -113.560997009]  53.531898 -113.560997   \n",
       "19977  [51.1020011902, -114.152000427]  51.102001 -114.152000   \n",
       "19978  [45.4570999146, -73.4922027588]  45.457100  -73.492203   \n",
       "19979  [43.6446990967, -79.3841018677]  43.644699  -79.384102   \n",
       "19980  [43.6446990967, -79.3841018677]  43.644699  -79.384102   \n",
       "19981   [45.443901062, -75.7419967651]  45.443901  -75.741997   \n",
       "19982  [53.4593009949, -113.414497375]  53.459301 -113.414497   \n",
       "19983  [45.4977989197, -73.5798034668]  45.497799  -73.579803   \n",
       "19984   [51.0489997864, -113.96219635]  51.049000 -113.962196   \n",
       "19985  [52.0990982056, -106.649398804]  52.099098 -106.649399   \n",
       "19986  [53.5441513062, -113.533851624]  53.544151 -113.533852   \n",
       "19987  [49.1220016479, -122.710700989]  49.122002 -122.710701   \n",
       "19988    [43.887298584, -78.942199707]  43.887299  -78.942200   \n",
       "19989  [43.7067985535, -79.3991012573]  43.706799  -79.399101   \n",
       "19990  [51.0810813904, -114.208000183]  51.081081 -114.208000   \n",
       "19991  [52.1225013733, -106.724876404]  52.122501 -106.724876   \n",
       "19992  [43.4539985657, -79.6920013428]  43.453999  -79.692001   \n",
       "19993  [43.6721992493, -79.4011764526]  43.672199  -79.401176   \n",
       "19994  [52.1403999329, -106.608001709]  52.140400 -106.608002   \n",
       "19995  [50.0816001892, -110.578796387]  50.081600 -110.578796   \n",
       "19996  [53.4972305298, -113.634620667]  53.497231 -113.634621   \n",
       "19997  [43.7703018188, -79.2164993286]  43.770302  -79.216499   \n",
       "19998  [49.7827987671, -94.4411010742]  49.782799  -94.441101   \n",
       "\n",
       "                     City                  POI_Coordinates  POI_nearest_lat  \\\n",
       "0                Waterloo  [45.5216293335, -73.5660247803]        45.521629   \n",
       "1                 Hanover  [45.5216293335, -73.5660247803]        45.521629   \n",
       "2                  London  [45.5216293335, -73.5660247803]        45.521629   \n",
       "3                  Nepean  [45.5216293335, -73.5660247803]        45.521629   \n",
       "4               Brantford  [45.5216293335, -73.5660247803]        45.521629   \n",
       "5                  London  [45.5216293335, -73.5660247803]        45.521629   \n",
       "6                 Chatham  [45.5216293335, -73.5660247803]        45.521629   \n",
       "7                Waterloo  [45.5216293335, -73.5660247803]        45.521629   \n",
       "8               Kitchener  [45.5216293335, -73.5660247803]        45.521629   \n",
       "9                Ancaster  [45.5216293335, -73.5660247803]        45.521629   \n",
       "10             Burlington  [45.5216293335, -73.5660247803]        45.521629   \n",
       "11               Brampton  [45.5216293335, -73.5660247803]        45.521629   \n",
       "12                Beloeil  [45.5216293335, -73.5660247803]        45.521629   \n",
       "13                Calgary  [53.5461654663, -113.485733032]        53.546165   \n",
       "14                Moncton  [45.2248306274, -63.2327308655]        45.224831   \n",
       "15            Bay Roberts  [45.2248306274, -63.2327308655]        45.224831   \n",
       "16          Fort Mcmurray  [53.5461654663, -113.485733032]        53.546165   \n",
       "17                Calgary  [53.5461654663, -113.485733032]        53.546165   \n",
       "18                 Oshawa  [45.5216293335, -73.5660247803]        45.521629   \n",
       "19                   Ajax  [45.5216293335, -73.5660247803]        45.521629   \n",
       "20       North Battleford  [53.5461654663, -113.485733032]        53.546165   \n",
       "21                Airdrie  [53.5461654663, -113.485733032]        53.546165   \n",
       "22              Saskatoon  [53.5461654663, -113.485733032]        53.546165   \n",
       "23                Calgary  [53.5461654663, -113.485733032]        53.546165   \n",
       "24           Saint Albert  [53.5461654663, -113.485733032]        53.546165   \n",
       "25                Windsor  [45.5216293335, -73.5660247803]        45.521629   \n",
       "26               Waterloo  [45.5216293335, -73.5660247803]        45.521629   \n",
       "27                 Guelph  [45.5216293335, -73.5660247803]        45.521629   \n",
       "28              Kitchener  [45.5216293335, -73.5660247803]        45.521629   \n",
       "29                 London  [45.5216293335, -73.5660247803]        45.521629   \n",
       "...                   ...                              ...              ...   \n",
       "19969  Plateau-Mont-Royal  [45.5216293335, -73.5660247803]        45.521629   \n",
       "19970             Toronto  [45.5216293335, -73.5660247803]        45.521629   \n",
       "19971              Kikino  [53.5461654663, -113.485733032]        53.546165   \n",
       "19972           Etobicoke  [45.5216293335, -73.5660247803]        45.521629   \n",
       "19973          Vanderhoof  [53.5461654663, -113.485733032]        53.546165   \n",
       "19974         Mississauga  [45.5216293335, -73.5660247803]        45.521629   \n",
       "19975           Longueuil  [45.5216293335, -73.5660247803]        45.521629   \n",
       "19976            Edmonton  [53.5461654663, -113.485733032]        53.546165   \n",
       "19977             Calgary  [53.5461654663, -113.485733032]        53.546165   \n",
       "19978            Brossard  [45.5216293335, -73.5660247803]        45.521629   \n",
       "19979             Toronto  [45.5216293335, -73.5660247803]        45.521629   \n",
       "19980             Toronto  [45.5216293335, -73.5660247803]        45.521629   \n",
       "19981            Gatineau  [45.5216293335, -73.5660247803]        45.521629   \n",
       "19982            Edmonton  [53.5461654663, -113.485733032]        53.546165   \n",
       "19983            Montréal  [45.5216293335, -73.5660247803]        45.521629   \n",
       "19984             Calgary  [53.5461654663, -113.485733032]        53.546165   \n",
       "19985           Saskatoon  [53.5461654663, -113.485733032]        53.546165   \n",
       "19986            Edmonton  [53.5461654663, -113.485733032]        53.546165   \n",
       "19987              Surrey  [53.5461654663, -113.485733032]        53.546165   \n",
       "19988              Whitby  [45.5216293335, -73.5660247803]        45.521629   \n",
       "19989             Toronto  [45.5216293335, -73.5660247803]        45.521629   \n",
       "19990             Calgary  [53.5461654663, -113.485733032]        53.546165   \n",
       "19991           Saskatoon  [53.5461654663, -113.485733032]        53.546165   \n",
       "19992            Oakville  [45.5216293335, -73.5660247803]        45.521629   \n",
       "19993             Toronto  [45.5216293335, -73.5660247803]        45.521629   \n",
       "19994           Saskatoon  [53.5461654663, -113.485733032]        53.546165   \n",
       "19995        Medicine Hat  [53.5461654663, -113.485733032]        53.546165   \n",
       "19996            Edmonton  [53.5461654663, -113.485733032]        53.546165   \n",
       "19997         Scarborough  [45.5216293335, -73.5660247803]        45.521629   \n",
       "19998              Kenora  [53.5461654663, -113.485733032]        53.546165   \n",
       "\n",
       "       POI_nearest_lon  euclidean_dst  \n",
       "0           -73.566025       7.216083  \n",
       "1           -73.566025       7.585311  \n",
       "2           -73.566025       8.072114  \n",
       "3           -73.566025       2.203807  \n",
       "4           -73.566025       7.053738  \n",
       "5           -73.566025       8.014493  \n",
       "6           -73.566025       9.149536  \n",
       "7           -73.566025       7.252276  \n",
       "8           -73.566025       7.230630  \n",
       "9           -73.566025       6.804583  \n",
       "10          -73.566025       6.558624  \n",
       "11          -73.566025       6.442078  \n",
       "12          -73.566025       0.377227  \n",
       "13         -113.485733       2.540740  \n",
       "14          -63.232731       1.746856  \n",
       "15          -63.232731      10.370988  \n",
       "16         -113.485733       3.775877  \n",
       "17         -113.485733       2.434724  \n",
       "18          -73.566025       5.546886  \n",
       "19          -73.566025       5.704922  \n",
       "20         -113.485733       5.230071  \n",
       "21         -113.485733       2.305532  \n",
       "22         -113.485733       6.909125  \n",
       "23         -113.485733       2.543627  \n",
       "24         -113.485733       0.173147  \n",
       "25          -73.566025       9.910275  \n",
       "26          -73.566025       7.252276  \n",
       "27          -73.566025       6.987709  \n",
       "28          -73.566025       7.256134  \n",
       "29          -73.566025       8.172085  \n",
       "...                ...            ...  \n",
       "19969       -73.566025       0.057931  \n",
       "19970       -73.566025       6.121604  \n",
       "19971      -113.485733       1.682041  \n",
       "19972       -73.566025       6.286251  \n",
       "19973      -113.485733      10.532600  \n",
       "19974       -73.566025       6.349161  \n",
       "19975       -73.566025       0.117431  \n",
       "19976      -113.485733       0.076604  \n",
       "19977      -113.485733       2.533348  \n",
       "19978       -73.566025       0.098050  \n",
       "19979       -73.566025       6.113337  \n",
       "19980       -73.566025       6.113337  \n",
       "19981       -73.566025       2.177360  \n",
       "19982      -113.485733       0.112339  \n",
       "19983       -73.566025       0.027527  \n",
       "19984      -113.485733       2.542214  \n",
       "19985      -113.485733       6.987809  \n",
       "19986      -113.485733       0.048161  \n",
       "19987      -113.485733      10.230995  \n",
       "19988       -73.566025       5.619101  \n",
       "19989       -73.566025       6.108878  \n",
       "19990      -113.485733       2.568717  \n",
       "19991      -113.485733       6.909125  \n",
       "19992       -73.566025       6.465500  \n",
       "19993       -73.566025       6.121224  \n",
       "19994      -113.485733       7.019926  \n",
       "19995      -113.485733       4.522554  \n",
       "19996      -113.485733       0.156723  \n",
       "19997       -73.566025       5.915658  \n",
       "19998      -113.485733      19.412906  \n",
       "\n",
       "[19999 rows x 8 columns]"
      ]
     },
     "execution_count": 426,
     "metadata": {},
     "output_type": "execute_result"
    }
   ],
   "source": [
    "unique_data_sample_pd_df"
   ]
  },
  {
   "cell_type": "code",
   "execution_count": null,
   "metadata": {
    "collapsed": true
   },
   "outputs": [],
   "source": []
  },
  {
   "cell_type": "code",
   "execution_count": null,
   "metadata": {
    "collapsed": true
   },
   "outputs": [],
   "source": []
  },
  {
   "cell_type": "code",
   "execution_count": null,
   "metadata": {
    "collapsed": true
   },
   "outputs": [],
   "source": []
  },
  {
   "cell_type": "code",
   "execution_count": null,
   "metadata": {
    "collapsed": true
   },
   "outputs": [],
   "source": []
  },
  {
   "cell_type": "code",
   "execution_count": null,
   "metadata": {
    "collapsed": true
   },
   "outputs": [],
   "source": []
  },
  {
   "cell_type": "code",
   "execution_count": null,
   "metadata": {
    "collapsed": true
   },
   "outputs": [],
   "source": []
  },
  {
   "cell_type": "code",
   "execution_count": null,
   "metadata": {
    "collapsed": true
   },
   "outputs": [],
   "source": []
  },
  {
   "cell_type": "code",
   "execution_count": 447,
   "metadata": {
    "collapsed": true
   },
   "outputs": [],
   "source": [
    "import matplotlib.pyplot as plt\n",
    "from matplotlib.patches import Arc"
   ]
  },
  {
   "cell_type": "code",
   "execution_count": 448,
   "metadata": {},
   "outputs": [
    {
     "data": {
      "image/png": "[encoded data removed]",
      "text/plain": [
       "<matplotlib.figure.Figure at 0x7f6e01fd7550>"
      ]
     },
     "metadata": {},
     "output_type": "display_data"
    }
   ],
   "source": [
    "fig=plt.figure()\n",
    "ax=fig.add_subplot(1,1,1)\n",
    "\n",
    "plt.plot([0,0],[0,90], color=\"blue\")\n",
    "plt.plot([0,130],[90,90], color=\"orange\")\n",
    "plt.plot([130,130],[90,0], color=\"green\")\n",
    "plt.plot([130,0],[0,0], color=\"red\")\n",
    "plt.plot([65,65],[0,90], color=\"pink\")\n",
    "\n",
    "plt.show()"
   ]
  },
  {
   "cell_type": "code",
   "execution_count": 449,
   "metadata": {},
   "outputs": [
    {
     "data": {
      "image/png": "[encoded data removed]",
      "text/plain": [
       "<matplotlib.figure.Figure at 0x7f6e01f9ffd0>"
      ]
     },
     "metadata": {},
     "output_type": "display_data"
    }
   ],
   "source": [
    "\n",
    "\n",
    "#Create figure\n",
    "fig=plt.figure()\n",
    "ax=fig.add_subplot(1,1,1)\n",
    "\n",
    "#Pitch Outline & Centre Line\n",
    "plt.plot([0,0],[0,90], color=\"black\")\n",
    "plt.plot([0,130],[90,90], color=\"black\")\n",
    "plt.plot([130,130],[90,0], color=\"black\")\n",
    "plt.plot([130,0],[0,0], color=\"black\")\n",
    "plt.plot([65,65],[0,90], color=\"black\")\n",
    "\n",
    "#Assign circles to variables - do not fill the centre circle!\n",
    "centreCircle = plt.Circle((65,45),9.15,color=\"red\",fill=False)\n",
    "centreSpot = plt.Circle((65,45),0.8,color=\"blue\")\n",
    "\n",
    "#Draw the circles to our plot\n",
    "ax.add_patch(centreCircle)\n",
    "ax.add_patch(centreSpot)\n",
    "\n",
    "\n",
    "plt.show()\n"
   ]
  },
  {
   "cell_type": "code",
   "execution_count": null,
   "metadata": {
    "collapsed": true
   },
   "outputs": [],
   "source": []
  },
  {
   "cell_type": "code",
   "execution_count": null,
   "metadata": {
    "collapsed": true
   },
   "outputs": [],
   "source": []
  },
  {
   "cell_type": "code",
   "execution_count": null,
   "metadata": {
    "collapsed": true
   },
   "outputs": [],
   "source": []
  },
  {
   "cell_type": "code",
   "execution_count": null,
   "metadata": {
    "collapsed": true
   },
   "outputs": [],
   "source": []
  },
  {
   "cell_type": "code",
   "execution_count": null,
   "metadata": {
    "collapsed": true
   },
   "outputs": [],
   "source": []
  },
  {
   "cell_type": "code",
   "execution_count": null,
   "metadata": {
    "collapsed": true
   },
   "outputs": [],
   "source": []
  },
  {
   "cell_type": "code",
   "execution_count": null,
   "metadata": {
    "collapsed": true
   },
   "outputs": [],
   "source": []
  },
  {
   "cell_type": "code",
   "execution_count": null,
   "metadata": {
    "collapsed": true
   },
   "outputs": [],
   "source": []
  },
  {
   "cell_type": "code",
   "execution_count": 446,
   "metadata": {},
   "outputs": [
    {
     "ename": "NameError",
     "evalue": "name 'circles' is not defined",
     "output_type": "error",
     "traceback": [
      "\u001b[0;31m---------------------------------------------------------------------------\u001b[0m",
      "\u001b[0;31mNameError\u001b[0m                                 Traceback (most recent call last)",
      "\u001b[0;32m<ipython-input-446-4c05bc6f7344>\u001b[0m in \u001b[0;36m<module>\u001b[0;34m()\u001b[0m\n\u001b[1;32m      2\u001b[0m \u001b[0mplt\u001b[0m\u001b[0;34m.\u001b[0m\u001b[0maxis\u001b[0m\u001b[0;34m(\u001b[0m\u001b[0;34m[\u001b[0m\u001b[0;36m0\u001b[0m\u001b[0;34m,\u001b[0m\u001b[0;36m400\u001b[0m\u001b[0;34m,\u001b[0m\u001b[0;36m0\u001b[0m\u001b[0;34m,\u001b[0m\u001b[0;36m400\u001b[0m\u001b[0;34m]\u001b[0m\u001b[0;34m)\u001b[0m\u001b[0;34m\u001b[0m\u001b[0m\n\u001b[1;32m      3\u001b[0m \u001b[0max\u001b[0m\u001b[0;34m=\u001b[0m\u001b[0mfig\u001b[0m\u001b[0;34m.\u001b[0m\u001b[0madd_subplot\u001b[0m\u001b[0;34m(\u001b[0m\u001b[0;36m1\u001b[0m\u001b[0;34m,\u001b[0m\u001b[0;36m1\u001b[0m\u001b[0;34m,\u001b[0m\u001b[0;36m1\u001b[0m\u001b[0;34m)\u001b[0m\u001b[0;34m\u001b[0m\u001b[0m\n\u001b[0;32m----> 4\u001b[0;31m \u001b[0mcircles\u001b[0m\u001b[0;34m(\u001b[0m\u001b[0;36m0.5\u001b[0m\u001b[0;34m,\u001b[0m \u001b[0;36m0.5\u001b[0m\u001b[0;34m,\u001b[0m \u001b[0;36m0.2\u001b[0m\u001b[0;34m,\u001b[0m \u001b[0mc\u001b[0m\u001b[0;34m=\u001b[0m\u001b[0;34m'g'\u001b[0m\u001b[0;34m,\u001b[0m \u001b[0max\u001b[0m\u001b[0;34m=\u001b[0m\u001b[0max\u001b[0m\u001b[0;34m,\u001b[0m \u001b[0mfacecolor\u001b[0m\u001b[0;34m=\u001b[0m\u001b[0;34m'none'\u001b[0m\u001b[0;34m,\u001b[0m \u001b[0mtransform\u001b[0m\u001b[0;34m=\u001b[0m\u001b[0max\u001b[0m\u001b[0;34m.\u001b[0m\u001b[0mtransAxes\u001b[0m\u001b[0;34m)\u001b[0m\u001b[0;34m\u001b[0m\u001b[0m\n\u001b[0m\u001b[1;32m      5\u001b[0m \u001b[0mplt\u001b[0m\u001b[0;34m.\u001b[0m\u001b[0mshow\u001b[0m\u001b[0;34m(\u001b[0m\u001b[0;34m)\u001b[0m\u001b[0;34m\u001b[0m\u001b[0m\n",
      "\u001b[0;31mNameError\u001b[0m: name 'circles' is not defined"
     ]
    },
    {
     "data": {
      "image/png": "[encoded data removed]",
      "text/plain": [
       "<matplotlib.figure.Figure at 0x7f6e0201e550>"
      ]
     },
     "metadata": {},
     "output_type": "display_data"
    }
   ],
   "source": [
    "fig=plt.figure(1)\n",
    "plt.axis([0,400,0,400])\n",
    "ax=fig.add_subplot(1,1,1)\n",
    "circles(0.5, 0.5, 0.2, c='g', ax=ax, facecolor='none', transform=ax.transAxes)\n",
    "plt.show()"
   ]
  },
  {
   "cell_type": "code",
   "execution_count": 429,
   "metadata": {},
   "outputs": [],
   "source": [
    "import seaborn as sns\n",
    "import matplotlib.pyplot as plt\n",
    "%matplotlib inline"
   ]
  },
  {
   "cell_type": "code",
   "execution_count": 444,
   "metadata": {},
   "outputs": [
    {
     "ename": "ValueError",
     "evalue": "setting an array element with a sequence.",
     "output_type": "error",
     "traceback": [
      "\u001b[0;31m---------------------------------------------------------------------------\u001b[0m",
      "\u001b[0;31mValueError\u001b[0m                                Traceback (most recent call last)",
      "\u001b[0;32m<ipython-input-444-c2efeb81b4df>\u001b[0m in \u001b[0;36m<module>\u001b[0;34m()\u001b[0m\n\u001b[0;32m----> 1\u001b[0;31m \u001b[0mplt\u001b[0m\u001b[0;34m.\u001b[0m\u001b[0mmatplotlib\u001b[0m\u001b[0;34m.\u001b[0m\u001b[0mpyplot\u001b[0m\u001b[0;34m.\u001b[0m\u001b[0mpolar\u001b[0m\u001b[0;34m(\u001b[0m\u001b[0munique_data_sample_pd_df\u001b[0m\u001b[0;34m[\u001b[0m\u001b[0;34m[\u001b[0m\u001b[0;34m'POI_Coordinates'\u001b[0m\u001b[0;34m]\u001b[0m\u001b[0;34m]\u001b[0m\u001b[0;34m,\u001b[0m\u001b[0munique_data_sample_pd_df\u001b[0m\u001b[0;34m[\u001b[0m\u001b[0;34m[\u001b[0m\u001b[0;34m'DATA_Coordinates'\u001b[0m\u001b[0;34m]\u001b[0m\u001b[0;34m]\u001b[0m\u001b[0;34m)\u001b[0m\u001b[0;34m\u001b[0m\u001b[0m\n\u001b[0m",
      "\u001b[0;32m/home/vijay/anaconda2/lib/python2.7/site-packages/matplotlib/pyplot.pyc\u001b[0m in \u001b[0;36mpolar\u001b[0;34m(*args, **kwargs)\u001b[0m\n\u001b[1;32m   2374\u001b[0m     \"\"\"\n\u001b[1;32m   2375\u001b[0m     \u001b[0max\u001b[0m \u001b[0;34m=\u001b[0m \u001b[0mgca\u001b[0m\u001b[0;34m(\u001b[0m\u001b[0mpolar\u001b[0m\u001b[0;34m=\u001b[0m\u001b[0mTrue\u001b[0m\u001b[0;34m)\u001b[0m\u001b[0;34m\u001b[0m\u001b[0m\n\u001b[0;32m-> 2376\u001b[0;31m     \u001b[0mret\u001b[0m \u001b[0;34m=\u001b[0m \u001b[0max\u001b[0m\u001b[0;34m.\u001b[0m\u001b[0mplot\u001b[0m\u001b[0;34m(\u001b[0m\u001b[0;34m*\u001b[0m\u001b[0margs\u001b[0m\u001b[0;34m,\u001b[0m \u001b[0;34m**\u001b[0m\u001b[0mkwargs\u001b[0m\u001b[0;34m)\u001b[0m\u001b[0;34m\u001b[0m\u001b[0m\n\u001b[0m\u001b[1;32m   2377\u001b[0m     \u001b[0;32mreturn\u001b[0m \u001b[0mret\u001b[0m\u001b[0;34m\u001b[0m\u001b[0m\n\u001b[1;32m   2378\u001b[0m \u001b[0;34m\u001b[0m\u001b[0m\n",
      "\u001b[0;32m/home/vijay/anaconda2/lib/python2.7/site-packages/matplotlib/__init__.pyc\u001b[0m in \u001b[0;36minner\u001b[0;34m(ax, *args, **kwargs)\u001b[0m\n\u001b[1;32m   1896\u001b[0m                     warnings.warn(msg % (label_namer, func.__name__),\n\u001b[1;32m   1897\u001b[0m                                   RuntimeWarning, stacklevel=2)\n\u001b[0;32m-> 1898\u001b[0;31m             \u001b[0;32mreturn\u001b[0m \u001b[0mfunc\u001b[0m\u001b[0;34m(\u001b[0m\u001b[0max\u001b[0m\u001b[0;34m,\u001b[0m \u001b[0;34m*\u001b[0m\u001b[0margs\u001b[0m\u001b[0;34m,\u001b[0m \u001b[0;34m**\u001b[0m\u001b[0mkwargs\u001b[0m\u001b[0;34m)\u001b[0m\u001b[0;34m\u001b[0m\u001b[0m\n\u001b[0m\u001b[1;32m   1899\u001b[0m         \u001b[0mpre_doc\u001b[0m \u001b[0;34m=\u001b[0m \u001b[0minner\u001b[0m\u001b[0;34m.\u001b[0m\u001b[0m__doc__\u001b[0m\u001b[0;34m\u001b[0m\u001b[0m\n\u001b[1;32m   1900\u001b[0m         \u001b[0;32mif\u001b[0m \u001b[0mpre_doc\u001b[0m \u001b[0;32mis\u001b[0m \u001b[0mNone\u001b[0m\u001b[0;34m:\u001b[0m\u001b[0;34m\u001b[0m\u001b[0m\n",
      "\u001b[0;32m/home/vijay/anaconda2/lib/python2.7/site-packages/matplotlib/axes/_axes.pyc\u001b[0m in \u001b[0;36mplot\u001b[0;34m(self, *args, **kwargs)\u001b[0m\n\u001b[1;32m   1405\u001b[0m \u001b[0;34m\u001b[0m\u001b[0m\n\u001b[1;32m   1406\u001b[0m         \u001b[0;32mfor\u001b[0m \u001b[0mline\u001b[0m \u001b[0;32min\u001b[0m \u001b[0mself\u001b[0m\u001b[0;34m.\u001b[0m\u001b[0m_get_lines\u001b[0m\u001b[0;34m(\u001b[0m\u001b[0;34m*\u001b[0m\u001b[0margs\u001b[0m\u001b[0;34m,\u001b[0m \u001b[0;34m**\u001b[0m\u001b[0mkwargs\u001b[0m\u001b[0;34m)\u001b[0m\u001b[0;34m:\u001b[0m\u001b[0;34m\u001b[0m\u001b[0m\n\u001b[0;32m-> 1407\u001b[0;31m             \u001b[0mself\u001b[0m\u001b[0;34m.\u001b[0m\u001b[0madd_line\u001b[0m\u001b[0;34m(\u001b[0m\u001b[0mline\u001b[0m\u001b[0;34m)\u001b[0m\u001b[0;34m\u001b[0m\u001b[0m\n\u001b[0m\u001b[1;32m   1408\u001b[0m             \u001b[0mlines\u001b[0m\u001b[0;34m.\u001b[0m\u001b[0mappend\u001b[0m\u001b[0;34m(\u001b[0m\u001b[0mline\u001b[0m\u001b[0;34m)\u001b[0m\u001b[0;34m\u001b[0m\u001b[0m\n\u001b[1;32m   1409\u001b[0m \u001b[0;34m\u001b[0m\u001b[0m\n",
      "\u001b[0;32m/home/vijay/anaconda2/lib/python2.7/site-packages/matplotlib/axes/_base.pyc\u001b[0m in \u001b[0;36madd_line\u001b[0;34m(self, line)\u001b[0m\n\u001b[1;32m   1791\u001b[0m             \u001b[0mline\u001b[0m\u001b[0;34m.\u001b[0m\u001b[0mset_clip_path\u001b[0m\u001b[0;34m(\u001b[0m\u001b[0mself\u001b[0m\u001b[0;34m.\u001b[0m\u001b[0mpatch\u001b[0m\u001b[0;34m)\u001b[0m\u001b[0;34m\u001b[0m\u001b[0m\n\u001b[1;32m   1792\u001b[0m \u001b[0;34m\u001b[0m\u001b[0m\n\u001b[0;32m-> 1793\u001b[0;31m         \u001b[0mself\u001b[0m\u001b[0;34m.\u001b[0m\u001b[0m_update_line_limits\u001b[0m\u001b[0;34m(\u001b[0m\u001b[0mline\u001b[0m\u001b[0;34m)\u001b[0m\u001b[0;34m\u001b[0m\u001b[0m\n\u001b[0m\u001b[1;32m   1794\u001b[0m         \u001b[0;32mif\u001b[0m \u001b[0;32mnot\u001b[0m \u001b[0mline\u001b[0m\u001b[0;34m.\u001b[0m\u001b[0mget_label\u001b[0m\u001b[0;34m(\u001b[0m\u001b[0;34m)\u001b[0m\u001b[0;34m:\u001b[0m\u001b[0;34m\u001b[0m\u001b[0m\n\u001b[1;32m   1795\u001b[0m             \u001b[0mline\u001b[0m\u001b[0;34m.\u001b[0m\u001b[0mset_label\u001b[0m\u001b[0;34m(\u001b[0m\u001b[0;34m'_line%d'\u001b[0m \u001b[0;34m%\u001b[0m \u001b[0mlen\u001b[0m\u001b[0;34m(\u001b[0m\u001b[0mself\u001b[0m\u001b[0;34m.\u001b[0m\u001b[0mlines\u001b[0m\u001b[0;34m)\u001b[0m\u001b[0;34m)\u001b[0m\u001b[0;34m\u001b[0m\u001b[0m\n",
      "\u001b[0;32m/home/vijay/anaconda2/lib/python2.7/site-packages/matplotlib/axes/_base.pyc\u001b[0m in \u001b[0;36m_update_line_limits\u001b[0;34m(self, line)\u001b[0m\n\u001b[1;32m   1813\u001b[0m         \u001b[0mFigures\u001b[0m \u001b[0mout\u001b[0m \u001b[0mthe\u001b[0m \u001b[0mdata\u001b[0m \u001b[0mlimit\u001b[0m \u001b[0mof\u001b[0m \u001b[0mthe\u001b[0m \u001b[0mgiven\u001b[0m \u001b[0mline\u001b[0m\u001b[0;34m,\u001b[0m \u001b[0mupdating\u001b[0m \u001b[0mself\u001b[0m\u001b[0;34m.\u001b[0m\u001b[0mdataLim\u001b[0m\u001b[0;34m.\u001b[0m\u001b[0;34m\u001b[0m\u001b[0m\n\u001b[1;32m   1814\u001b[0m         \"\"\"\n\u001b[0;32m-> 1815\u001b[0;31m         \u001b[0mpath\u001b[0m \u001b[0;34m=\u001b[0m \u001b[0mline\u001b[0m\u001b[0;34m.\u001b[0m\u001b[0mget_path\u001b[0m\u001b[0;34m(\u001b[0m\u001b[0;34m)\u001b[0m\u001b[0;34m\u001b[0m\u001b[0m\n\u001b[0m\u001b[1;32m   1816\u001b[0m         \u001b[0;32mif\u001b[0m \u001b[0mpath\u001b[0m\u001b[0;34m.\u001b[0m\u001b[0mvertices\u001b[0m\u001b[0;34m.\u001b[0m\u001b[0msize\u001b[0m \u001b[0;34m==\u001b[0m \u001b[0;36m0\u001b[0m\u001b[0;34m:\u001b[0m\u001b[0;34m\u001b[0m\u001b[0m\n\u001b[1;32m   1817\u001b[0m             \u001b[0;32mreturn\u001b[0m\u001b[0;34m\u001b[0m\u001b[0m\n",
      "\u001b[0;32m/home/vijay/anaconda2/lib/python2.7/site-packages/matplotlib/lines.pyc\u001b[0m in \u001b[0;36mget_path\u001b[0;34m(self)\u001b[0m\n\u001b[1;32m    987\u001b[0m         \"\"\"\n\u001b[1;32m    988\u001b[0m         \u001b[0;32mif\u001b[0m \u001b[0mself\u001b[0m\u001b[0;34m.\u001b[0m\u001b[0m_invalidy\u001b[0m \u001b[0;32mor\u001b[0m \u001b[0mself\u001b[0m\u001b[0;34m.\u001b[0m\u001b[0m_invalidx\u001b[0m\u001b[0;34m:\u001b[0m\u001b[0;34m\u001b[0m\u001b[0m\n\u001b[0;32m--> 989\u001b[0;31m             \u001b[0mself\u001b[0m\u001b[0;34m.\u001b[0m\u001b[0mrecache\u001b[0m\u001b[0;34m(\u001b[0m\u001b[0;34m)\u001b[0m\u001b[0;34m\u001b[0m\u001b[0m\n\u001b[0m\u001b[1;32m    990\u001b[0m         \u001b[0;32mreturn\u001b[0m \u001b[0mself\u001b[0m\u001b[0;34m.\u001b[0m\u001b[0m_path\u001b[0m\u001b[0;34m\u001b[0m\u001b[0m\n\u001b[1;32m    991\u001b[0m \u001b[0;34m\u001b[0m\u001b[0m\n",
      "\u001b[0;32m/home/vijay/anaconda2/lib/python2.7/site-packages/matplotlib/lines.pyc\u001b[0m in \u001b[0;36mrecache\u001b[0;34m(self, always)\u001b[0m\n\u001b[1;32m    674\u001b[0m                 \u001b[0mx\u001b[0m \u001b[0;34m=\u001b[0m \u001b[0mma\u001b[0m\u001b[0;34m.\u001b[0m\u001b[0masarray\u001b[0m\u001b[0;34m(\u001b[0m\u001b[0mxconv\u001b[0m\u001b[0;34m,\u001b[0m \u001b[0mnp\u001b[0m\u001b[0;34m.\u001b[0m\u001b[0mfloat_\u001b[0m\u001b[0;34m)\u001b[0m\u001b[0;34m.\u001b[0m\u001b[0mfilled\u001b[0m\u001b[0;34m(\u001b[0m\u001b[0mnp\u001b[0m\u001b[0;34m.\u001b[0m\u001b[0mnan\u001b[0m\u001b[0;34m)\u001b[0m\u001b[0;34m\u001b[0m\u001b[0m\n\u001b[1;32m    675\u001b[0m             \u001b[0;32melse\u001b[0m\u001b[0;34m:\u001b[0m\u001b[0;34m\u001b[0m\u001b[0m\n\u001b[0;32m--> 676\u001b[0;31m                 \u001b[0mx\u001b[0m \u001b[0;34m=\u001b[0m \u001b[0mnp\u001b[0m\u001b[0;34m.\u001b[0m\u001b[0masarray\u001b[0m\u001b[0;34m(\u001b[0m\u001b[0mxconv\u001b[0m\u001b[0;34m,\u001b[0m \u001b[0mnp\u001b[0m\u001b[0;34m.\u001b[0m\u001b[0mfloat_\u001b[0m\u001b[0;34m)\u001b[0m\u001b[0;34m\u001b[0m\u001b[0m\n\u001b[0m\u001b[1;32m    677\u001b[0m             \u001b[0mx\u001b[0m \u001b[0;34m=\u001b[0m \u001b[0mx\u001b[0m\u001b[0;34m.\u001b[0m\u001b[0mravel\u001b[0m\u001b[0;34m(\u001b[0m\u001b[0;34m)\u001b[0m\u001b[0;34m\u001b[0m\u001b[0m\n\u001b[1;32m    678\u001b[0m         \u001b[0;32melse\u001b[0m\u001b[0;34m:\u001b[0m\u001b[0;34m\u001b[0m\u001b[0m\n",
      "\u001b[0;32m/home/vijay/anaconda2/lib/python2.7/site-packages/numpy/core/numeric.pyc\u001b[0m in \u001b[0;36masarray\u001b[0;34m(a, dtype, order)\u001b[0m\n\u001b[1;32m    529\u001b[0m \u001b[0;34m\u001b[0m\u001b[0m\n\u001b[1;32m    530\u001b[0m     \"\"\"\n\u001b[0;32m--> 531\u001b[0;31m     \u001b[0;32mreturn\u001b[0m \u001b[0marray\u001b[0m\u001b[0;34m(\u001b[0m\u001b[0ma\u001b[0m\u001b[0;34m,\u001b[0m \u001b[0mdtype\u001b[0m\u001b[0;34m,\u001b[0m \u001b[0mcopy\u001b[0m\u001b[0;34m=\u001b[0m\u001b[0mFalse\u001b[0m\u001b[0;34m,\u001b[0m \u001b[0morder\u001b[0m\u001b[0;34m=\u001b[0m\u001b[0morder\u001b[0m\u001b[0;34m)\u001b[0m\u001b[0;34m\u001b[0m\u001b[0m\n\u001b[0m\u001b[1;32m    532\u001b[0m \u001b[0;34m\u001b[0m\u001b[0m\n\u001b[1;32m    533\u001b[0m \u001b[0;34m\u001b[0m\u001b[0m\n",
      "\u001b[0;31mValueError\u001b[0m: setting an array element with a sequence."
     ]
    },
    {
     "data": {
      "image/png": "[encoded data removed]",
      "text/plain": [
       "<matplotlib.figure.Figure at 0x7f6e021e1290>"
      ]
     },
     "metadata": {},
     "output_type": "display_data"
    }
   ],
   "source": [
    "plt.matplotlib.pyplot.polar(unique_data_sample_pd_df[['POI_Coordinates']],unique_data_sample_pd_df[['DATA_Coordinates']])"
   ]
  },
  {
   "cell_type": "code",
   "execution_count": 441,
   "metadata": {},
   "outputs": [],
   "source": [
    "def create_circle():\n",
    "    circle= plt.Circle((0,0), radius= 5)\n",
    "    return circle"
   ]
  },
  {
   "cell_type": "code",
   "execution_count": 442,
   "metadata": {
    "collapsed": true
   },
   "outputs": [],
   "source": [
    "def show_shape(patch):\n",
    "    ax=plt.gca()\n",
    "    ax.add_patch(patch)\n",
    "    plt.axis('scaled')\n",
    "    plt.show()"
   ]
  },
  {
   "cell_type": "code",
   "execution_count": 443,
   "metadata": {},
   "outputs": [
    {
     "data": {
      "image/png": "[encoded data removed]",
      "text/plain": [
       "<matplotlib.figure.Figure at 0x7f6e022ef410>"
      ]
     },
     "metadata": {},
     "output_type": "display_data"
    }
   ],
   "source": [
    " if __name__== '__main__':\n",
    "    c= create_circle()\n",
    "    show_shape(c)\n"
   ]
  },
  {
   "cell_type": "code",
   "execution_count": null,
   "metadata": {
    "collapsed": true
   },
   "outputs": [],
   "source": []
  }
 ],
 "metadata": {
  "kernelspec": {
   "display_name": "Python 2",
   "language": "python",
   "name": "python2"
  },
  "language_info": {
   "codemirror_mode": {
    "name": "ipython",
    "version": 2
   },
   "file_extension": ".py",
   "mimetype": "text/x-python",
   "name": "python",
   "nbconvert_exporter": "python",
   "pygments_lexer": "ipython2",
   "version": "2.7.13"
  }
 },
 "nbformat": 4,
 "nbformat_minor": 2
}
