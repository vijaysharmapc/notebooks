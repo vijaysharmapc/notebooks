{
 "cells": [
  {
   "cell_type": "code",
   "execution_count": 2,
   "metadata": {
    "collapsed": true
   },
   "outputs": [],
   "source": [
    "import os\n",
    "import pandas as pd# bid open, close"
   ]
  },
  {
   "cell_type": "markdown",
   "metadata": {
    "collapsed": true
   },
   "source": [
    "def get_files(path):\n",
    "    for file in os.walk(path):\n",
    "        return file[2]\n"
   ]
  },
  {
   "cell_type": "markdown",
   "metadata": {},
   "source": [
    "files = get_files('/home/vijay/DATA_SCIENCE/BPF/unziped_forex')\n",
    "print(files)"
   ]
  },
  {
   "cell_type": "markdown",
   "metadata": {},
   "source": [
    "import pandas as pd \n",
    "for filenme in files:\n",
    "    print (filenme)\n",
    "    filenme2 = '/home/vijay/DATA_SCIENCE/BPF/unziped_forex/'+filenme\n",
    "    print (filenme2)\n",
    "    yo = pd.read_csv(\"/home/vijay/DATA_SCIENCE/BPF/unziped_forex/DAT_XLSX_AUDUSD_M1_2018.csv\",header=None, names = ['date','open','high','low','close','f'])\n",
    "    yo[0:5]\n",
    "    print(type(yo))\n",
    "    break"
   ]
  },
  {
   "cell_type": "code",
   "execution_count": 143,
   "metadata": {
    "collapsed": true
   },
   "outputs": [],
   "source": [
    "AUUSD17 = pd.read_csv(\"/home/vijay/DATA_SCIENCE/BPF/unziped_forex/DAT_XLSX_AUDUSD_M1_2017.csv\", \\\n",
    "header=None, names = ['date','open','high','low','close','f'])\n",
    "\n",
    "AUUSD18 = pd.read_csv(\"/home/vijay/DATA_SCIENCE/BPF/unziped_forex/DAT_XLSX_AUDUSD_M1_2018.csv\", \\\n",
    "header=None, names = ['date','open','high','low','close','f'])"
   ]
  },
  {
   "cell_type": "code",
   "execution_count": 144,
   "metadata": {
    "collapsed": true
   },
   "outputs": [],
   "source": [
    "AUUSD1901 = pd.read_csv(\"/home/vijay/DATA_SCIENCE/BPF/unziped_forex/DAT_XLSX_AUDUSD_M1_201901.csv\", \\\n",
    "header=None, names = ['date','open','high','low','close','f'])\n",
    "\n",
    "AUUSD1902 = pd.read_csv(\"/home/vijay/DATA_SCIENCE/BPF/unziped_forex/DAT_XLSX_AUDUSD_M1_201902.csv\", \\\n",
    "header=None, names = ['date','open','high','low','close','f'])"
   ]
  },
  {
   "cell_type": "code",
   "execution_count": 145,
   "metadata": {},
   "outputs": [
    {
     "data": {
      "text/html": [
       "<div>\n",
       "<style>\n",
       "    .dataframe thead tr:only-child th {\n",
       "        text-align: right;\n",
       "    }\n",
       "\n",
       "    .dataframe thead th {\n",
       "        text-align: left;\n",
       "    }\n",
       "\n",
       "    .dataframe tbody tr th {\n",
       "        vertical-align: top;\n",
       "    }\n",
       "</style>\n",
       "<table border=\"1\" class=\"dataframe\">\n",
       "  <thead>\n",
       "    <tr style=\"text-align: right;\">\n",
       "      <th></th>\n",
       "      <th>date</th>\n",
       "      <th>open</th>\n",
       "      <th>high</th>\n",
       "      <th>low</th>\n",
       "      <th>close</th>\n",
       "      <th>f</th>\n",
       "    </tr>\n",
       "  </thead>\n",
       "  <tbody>\n",
       "    <tr>\n",
       "      <th>0</th>\n",
       "      <td>2019-02-01 00:00</td>\n",
       "      <td>0.72390</td>\n",
       "      <td>0.72397</td>\n",
       "      <td>0.72378</td>\n",
       "      <td>0.72379</td>\n",
       "      <td>0.0</td>\n",
       "    </tr>\n",
       "    <tr>\n",
       "      <th>1</th>\n",
       "      <td>2019-02-01 00:01</td>\n",
       "      <td>0.72380</td>\n",
       "      <td>0.72382</td>\n",
       "      <td>0.72379</td>\n",
       "      <td>0.72381</td>\n",
       "      <td>0.0</td>\n",
       "    </tr>\n",
       "    <tr>\n",
       "      <th>2</th>\n",
       "      <td>2019-02-01 00:02</td>\n",
       "      <td>0.72381</td>\n",
       "      <td>0.72382</td>\n",
       "      <td>0.72377</td>\n",
       "      <td>0.72377</td>\n",
       "      <td>0.0</td>\n",
       "    </tr>\n",
       "  </tbody>\n",
       "</table>\n",
       "</div>"
      ],
      "text/plain": [
       "               date     open     high      low    close    f\n",
       "0  2019-02-01 00:00  0.72390  0.72397  0.72378  0.72379  0.0\n",
       "1  2019-02-01 00:01  0.72380  0.72382  0.72379  0.72381  0.0\n",
       "2  2019-02-01 00:02  0.72381  0.72382  0.72377  0.72377  0.0"
      ]
     },
     "execution_count": 145,
     "metadata": {},
     "output_type": "execute_result"
    }
   ],
   "source": [
    "AUUSD17[0:4]\n",
    "AUUSD18[1:3]\n",
    "AUUSD1902[0:3]"
   ]
  },
  {
   "cell_type": "code",
   "execution_count": 158,
   "metadata": {
    "collapsed": true
   },
   "outputs": [],
   "source": [
    "EURUSD17 = pd.read_csv(\"/home/vijay/DATA_SCIENCE/BPF/unziped_forex/DAT_XLSX_EURUSD_M1_2017.csv\", \\\n",
    "header=None, names = ['date','open','high','low','close','f'])\n",
    "\n",
    "EURUSD18 = pd.read_csv(\"/home/vijay/DATA_SCIENCE/BPF/unziped_forex/DAT_XLSX_EURUSD_M1_2018.csv\", \\\n",
    "header=None, names = ['date','open','high','low','close','f'])"
   ]
  },
  {
   "cell_type": "code",
   "execution_count": 159,
   "metadata": {
    "collapsed": true
   },
   "outputs": [],
   "source": [
    "EURUSD1901 = pd.read_csv(\"/home/vijay/DATA_SCIENCE/BPF/unziped_forex/DAT_XLSX_EURUSD_M1_201901.csv\", \\\n",
    "header=None, names = ['date','open','high','low','close','f'])\n",
    "\n",
    "EURUSD1902 = pd.read_csv(\"/home/vijay/DATA_SCIENCE/BPF/unziped_forex/DAT_XLSX_EURUSD_M1_201902.csv\", \\\n",
    "header=None, names = ['date','open','high','low','close','f'])"
   ]
  },
  {
   "cell_type": "code",
   "execution_count": 160,
   "metadata": {},
   "outputs": [
    {
     "data": {
      "text/html": [
       "<div>\n",
       "<style>\n",
       "    .dataframe thead tr:only-child th {\n",
       "        text-align: right;\n",
       "    }\n",
       "\n",
       "    .dataframe thead th {\n",
       "        text-align: left;\n",
       "    }\n",
       "\n",
       "    .dataframe tbody tr th {\n",
       "        vertical-align: top;\n",
       "    }\n",
       "</style>\n",
       "<table border=\"1\" class=\"dataframe\">\n",
       "  <thead>\n",
       "    <tr style=\"text-align: right;\">\n",
       "      <th></th>\n",
       "      <th>date</th>\n",
       "      <th>open</th>\n",
       "      <th>high</th>\n",
       "      <th>low</th>\n",
       "      <th>close</th>\n",
       "      <th>f</th>\n",
       "    </tr>\n",
       "  </thead>\n",
       "  <tbody>\n",
       "    <tr>\n",
       "      <th>0</th>\n",
       "      <td>2019-02-01 00:00</td>\n",
       "      <td>1.14420</td>\n",
       "      <td>1.14428</td>\n",
       "      <td>1.14418</td>\n",
       "      <td>1.14418</td>\n",
       "      <td>0.0</td>\n",
       "    </tr>\n",
       "    <tr>\n",
       "      <th>1</th>\n",
       "      <td>2019-02-01 00:01</td>\n",
       "      <td>1.14418</td>\n",
       "      <td>1.14425</td>\n",
       "      <td>1.14414</td>\n",
       "      <td>1.14414</td>\n",
       "      <td>0.0</td>\n",
       "    </tr>\n",
       "    <tr>\n",
       "      <th>2</th>\n",
       "      <td>2019-02-01 00:02</td>\n",
       "      <td>1.14414</td>\n",
       "      <td>1.14415</td>\n",
       "      <td>1.14409</td>\n",
       "      <td>1.14410</td>\n",
       "      <td>0.0</td>\n",
       "    </tr>\n",
       "  </tbody>\n",
       "</table>\n",
       "</div>"
      ],
      "text/plain": [
       "               date     open     high      low    close    f\n",
       "0  2019-02-01 00:00  1.14420  1.14428  1.14418  1.14418  0.0\n",
       "1  2019-02-01 00:01  1.14418  1.14425  1.14414  1.14414  0.0\n",
       "2  2019-02-01 00:02  1.14414  1.14415  1.14409  1.14410  0.0"
      ]
     },
     "execution_count": 160,
     "metadata": {},
     "output_type": "execute_result"
    }
   ],
   "source": [
    "EURUSD17[0:4]\n",
    "EURUSD18[1:3]\n",
    "EURUSD1902[0:3]"
   ]
  },
  {
   "cell_type": "code",
   "execution_count": 150,
   "metadata": {
    "collapsed": true
   },
   "outputs": [],
   "source": [
    "GBPUSD17 = pd.read_csv(\"/home/vijay/DATA_SCIENCE/BPF/unziped_forex/DAT_XLSX_GBPUSD_M1_2017.csv\", \\\n",
    "header=None, names = ['date','open','high','low','close','f'])\n",
    "\n",
    "GBPUSD18 = pd.read_csv(\"/home/vijay/DATA_SCIENCE/BPF/unziped_forex/DAT_XLSX_GBPUSD_M1_2018.csv\", \\\n",
    "header=None, names = ['date','open','high','low','close','f'])"
   ]
  },
  {
   "cell_type": "code",
   "execution_count": 151,
   "metadata": {
    "collapsed": true
   },
   "outputs": [],
   "source": [
    "GBPUSD1901 = pd.read_csv(\"/home/vijay/DATA_SCIENCE/BPF/unziped_forex/DAT_XLSX_GBPUSD_M1_201901.csv\", \\\n",
    "header=None, names = ['date','open','high','low','close','f'])\n",
    "\n",
    "GBPUSD1902 = pd.read_csv(\"/home/vijay/DATA_SCIENCE/BPF/unziped_forex/DAT_XLSX_GBPUSD_M1_201902.csv\", \\\n",
    "header=None, names = ['date','open','high','low','close','f'])"
   ]
  },
  {
   "cell_type": "code",
   "execution_count": 152,
   "metadata": {},
   "outputs": [
    {
     "data": {
      "text/html": [
       "<div>\n",
       "<style>\n",
       "    .dataframe thead tr:only-child th {\n",
       "        text-align: right;\n",
       "    }\n",
       "\n",
       "    .dataframe thead th {\n",
       "        text-align: left;\n",
       "    }\n",
       "\n",
       "    .dataframe tbody tr th {\n",
       "        vertical-align: top;\n",
       "    }\n",
       "</style>\n",
       "<table border=\"1\" class=\"dataframe\">\n",
       "  <thead>\n",
       "    <tr style=\"text-align: right;\">\n",
       "      <th></th>\n",
       "      <th>date</th>\n",
       "      <th>open</th>\n",
       "      <th>high</th>\n",
       "      <th>low</th>\n",
       "      <th>close</th>\n",
       "      <th>f</th>\n",
       "    </tr>\n",
       "  </thead>\n",
       "  <tbody>\n",
       "    <tr>\n",
       "      <th>0</th>\n",
       "      <td>2019-02-01 00:00</td>\n",
       "      <td>1.30926</td>\n",
       "      <td>1.30943</td>\n",
       "      <td>1.30926</td>\n",
       "      <td>1.30935</td>\n",
       "      <td>0.0</td>\n",
       "    </tr>\n",
       "    <tr>\n",
       "      <th>1</th>\n",
       "      <td>2019-02-01 00:01</td>\n",
       "      <td>1.30935</td>\n",
       "      <td>1.30947</td>\n",
       "      <td>1.30934</td>\n",
       "      <td>1.30947</td>\n",
       "      <td>0.0</td>\n",
       "    </tr>\n",
       "    <tr>\n",
       "      <th>2</th>\n",
       "      <td>2019-02-01 00:02</td>\n",
       "      <td>1.30947</td>\n",
       "      <td>1.30960</td>\n",
       "      <td>1.30945</td>\n",
       "      <td>1.30956</td>\n",
       "      <td>0.0</td>\n",
       "    </tr>\n",
       "  </tbody>\n",
       "</table>\n",
       "</div>"
      ],
      "text/plain": [
       "               date     open     high      low    close    f\n",
       "0  2019-02-01 00:00  1.30926  1.30943  1.30926  1.30935  0.0\n",
       "1  2019-02-01 00:01  1.30935  1.30947  1.30934  1.30947  0.0\n",
       "2  2019-02-01 00:02  1.30947  1.30960  1.30945  1.30956  0.0"
      ]
     },
     "execution_count": 152,
     "metadata": {},
     "output_type": "execute_result"
    }
   ],
   "source": [
    "GBPUSD17[0:4]\n",
    "GBPUSD18[1:3]\n",
    "GBPUSD1902[0:3]"
   ]
  },
  {
   "cell_type": "code",
   "execution_count": 100,
   "metadata": {},
   "outputs": [],
   "source": [
    "USDCAD17 = pd.read_csv(\"/home/vijay/DATA_SCIENCE/BPF/unziped_forex/DAT_XLSX_USDCAD_M1_2017.csv\", \\\n",
    "header=None, names = ['date','open','high','low','close','f'])\n",
    "\n",
    "USDCAD18 = pd.read_csv(\"/home/vijay/DATA_SCIENCE/BPF/unziped_forex/DAT_XLSX_USDCAD_M1_2018.csv\", \\\n",
    "header=None, names = ['date','open','high','low','close','f'])\n",
    "\n",
    "USDCAD1901 = pd.read_csv(\"/home/vijay/DATA_SCIENCE/BPF/unziped_forex/DAT_XLSX_USDCAD_M1_201901.csv\", \\\n",
    "header=None, names = ['date','open','high','low','close','f'])\n",
    "\n",
    "USDCAD1902 = pd.read_csv(\"/home/vijay/DATA_SCIENCE/BPF/unziped_forex/DAT_XLSX_USDCAD_M1_201902.csv\", \\\n",
    "header=None, names = ['date','open','high','low','close','f'])"
   ]
  },
  {
   "cell_type": "code",
   "execution_count": 176,
   "metadata": {
    "collapsed": true
   },
   "outputs": [],
   "source": [
    "USDJPY17 = pd.read_csv(\"/home/vijay/DATA_SCIENCE/BPF/unziped_forex/DAT_XLSX_USDJPY_M1_2017.csv\", \\\n",
    "header=None, names = ['date','open','high','low','close','f'])\n",
    "\n",
    "USDJPY18 = pd.read_csv(\"/home/vijay/DATA_SCIENCE/BPF/unziped_forex/DAT_XLSX_USDJPY_M1_2018.csv\", \\\n",
    "header=None, names = ['date','open','high','low','close','f'])\n",
    "\n",
    "USDJPY1901 = pd.read_csv(\"/home/vijay/DATA_SCIENCE/BPF/unziped_forex/DAT_XLSX_USDJPY_M1_201901.csv\", \\\n",
    "header=None, names = ['date','open','high','low','close','f'])\n",
    "\n",
    "USDJPY1902 = pd.read_csv(\"/home/vijay/DATA_SCIENCE/BPF/unziped_forex/DAT_XLSX_USDJPY_M1_201902.csv\", \\\n",
    "header=None, names = ['date','open','high','low','close','f'])"
   ]
  },
  {
   "cell_type": "code",
   "execution_count": 169,
   "metadata": {},
   "outputs": [],
   "source": [
    "NZDUSD17 = pd.read_csv(\"/home/vijay/DATA_SCIENCE/BPF/unziped_forex/DAT_XLSX_NZDUSD_M1_2017.csv\", \\\n",
    "header=None, names = ['date','open','high','low','close','f'])\n",
    "\n",
    "NZDUSD18 = pd.read_csv(\"/home/vijay/DATA_SCIENCE/BPF/unziped_forex/DAT_XLSX_NZDUSD_M1_2018.csv\", \\\n",
    "header=None, names = ['date','open','high','low','close','f'])\n",
    "\n",
    "NZDUSD1901 = pd.read_csv(\"/home/vijay/DATA_SCIENCE/BPF/unziped_forex/DAT_XLSX_NZDUSD_M1_201901.csv\", \\\n",
    "header=None, names = ['date','open','high','low','close','f'])\n",
    "\n",
    "NZDUSD1902 = pd.read_csv(\"/home/vijay/DATA_SCIENCE/BPF/unziped_forex/DAT_XLSX_NZDUSD_M1_201902.csv\", \\\n",
    "header=None, names = ['date','open','high','low','close','f'])"
   ]
  },
  {
   "cell_type": "code",
   "execution_count": 179,
   "metadata": {
    "collapsed": true
   },
   "outputs": [],
   "source": [
    "NZDCAD17 = pd.read_csv(\"/home/vijay/DATA_SCIENCE/BPF/unziped_forex/DAT_XLSX_NZDCAD_M1_2017.csv\", \\\n",
    "header=None, names = ['date','open','high','low','close','f'])\n",
    "\n",
    "NZDCAD18 = pd.read_csv(\"/home/vijay/DATA_SCIENCE/BPF/unziped_forex/DAT_XLSX_NZDCAD_M1_2018.csv\", \\\n",
    "header=None, names = ['date','open','high','low','close','f'])\n",
    "\n",
    "NZDCAD1901 = pd.read_csv(\"/home/vijay/DATA_SCIENCE/BPF/unziped_forex/DAT_XLSX_NZDCAD_M1_201901.csv\", \\\n",
    "header=None, names = ['date','open','high','low','close','f'])\n",
    "\n",
    "NZDCAD1902 = pd.read_csv(\"/home/vijay/DATA_SCIENCE/BPF/unziped_forex/DAT_XLSX_NZDCAD_M1_201902.csv\", \\\n",
    "header=None, names = ['date','open','high','low','close','f'])"
   ]
  },
  {
   "cell_type": "code",
   "execution_count": 183,
   "metadata": {
    "collapsed": true
   },
   "outputs": [],
   "source": [
    "AUDCAD17 = pd.read_csv(\"/home/vijay/DATA_SCIENCE/BPF/unziped_forex/DAT_XLSX_AUDCAD_M1_2017.csv\", \\\n",
    "header=None, names = ['date','open','high','low','close','f'])\n",
    "\n",
    "AUDCAD18 = pd.read_csv(\"/home/vijay/DATA_SCIENCE/BPF/unziped_forex/DAT_XLSX_AUDCAD_M1_2018.csv\", \\\n",
    "header=None, names = ['date','open','high','low','close','f'])\n",
    "\n",
    "AUDCAD1901 = pd.read_csv(\"/home/vijay/DATA_SCIENCE/BPF/unziped_forex/DAT_XLSX_AUDCAD_M1_201901.csv\", \\\n",
    "header=None, names = ['date','open','high','low','close','f'])\n",
    "\n",
    "AUDCAD1902 = pd.read_csv(\"/home/vijay/DATA_SCIENCE/BPF/unziped_forex/DAT_XLSX_AUDCAD_M1_201902.csv\", \\\n",
    "header=None, names = ['date','open','high','low','close','f'])"
   ]
  },
  {
   "cell_type": "markdown",
   "metadata": {},
   "source": [
    "USDCAD17['date'][2:5]"
   ]
  },
  {
   "cell_type": "code",
   "execution_count": 105,
   "metadata": {},
   "outputs": [],
   "source": [
    "def add_tik(df,arg):\n",
    "    if arg == 1 : # 1 VS 2\n",
    "        df['tik_time'] = df.date.str.slice(0,13)\n",
    "        ndf = df [['tik_time','close']]\n",
    "        ndfg = ndf.groupby(['tik_time'])['close'].mean()\n",
    "    elif arg == 0 : # 2 VS 1\n",
    "        df['tik_time'] = df.date.str.slice(0,13)\n",
    "        df['invclose'] = 1/(df.close)\n",
    "        ndf = df [['tik_time','invclose']]\n",
    "        ndfg = ndf.groupby(['tik_time'])['invclose'].mean()\n",
    "        \n",
    "    return ndfg"
   ]
  },
  {
   "cell_type": "code",
   "execution_count": 123,
   "metadata": {},
   "outputs": [
    {
     "data": {
      "text/html": [
       "<div>\n",
       "<style>\n",
       "    .dataframe thead tr:only-child th {\n",
       "        text-align: right;\n",
       "    }\n",
       "\n",
       "    .dataframe thead th {\n",
       "        text-align: left;\n",
       "    }\n",
       "\n",
       "    .dataframe tbody tr th {\n",
       "        vertical-align: top;\n",
       "    }\n",
       "</style>\n",
       "<table border=\"1\" class=\"dataframe\">\n",
       "  <thead>\n",
       "    <tr style=\"text-align: right;\">\n",
       "      <th></th>\n",
       "      <th>tik_time</th>\n",
       "      <th>close</th>\n",
       "    </tr>\n",
       "  </thead>\n",
       "  <tbody>\n",
       "    <tr>\n",
       "      <th>0</th>\n",
       "      <td>2019-02-01 00</td>\n",
       "      <td>1.315112</td>\n",
       "    </tr>\n",
       "    <tr>\n",
       "      <th>1</th>\n",
       "      <td>2019-02-01 01</td>\n",
       "      <td>1.314893</td>\n",
       "    </tr>\n",
       "    <tr>\n",
       "      <th>2</th>\n",
       "      <td>2019-02-01 02</td>\n",
       "      <td>1.315129</td>\n",
       "    </tr>\n",
       "    <tr>\n",
       "      <th>3</th>\n",
       "      <td>2019-02-01 03</td>\n",
       "      <td>1.314745</td>\n",
       "    </tr>\n",
       "    <tr>\n",
       "      <th>4</th>\n",
       "      <td>2019-02-01 04</td>\n",
       "      <td>1.314713</td>\n",
       "    </tr>\n",
       "  </tbody>\n",
       "</table>\n",
       "</div>"
      ],
      "text/plain": [
       "        tik_time     close\n",
       "0  2019-02-01 00  1.315112\n",
       "1  2019-02-01 01  1.314893\n",
       "2  2019-02-01 02  1.315129\n",
       "3  2019-02-01 03  1.314745\n",
       "4  2019-02-01 04  1.314713"
      ]
     },
     "execution_count": 123,
     "metadata": {},
     "output_type": "execute_result"
    }
   ],
   "source": [
    "#USDCA\n",
    "USDCAD1902_SERIES = add_tik(USDCAD1902,1)\n",
    "USDCAD1902_DF = pd.DataFrame(USDCAD1902_SERIES).reset_index()\n",
    "USDCAD1902_DF[0:5]"
   ]
  },
  {
   "cell_type": "markdown",
   "metadata": {},
   "source": [
    "USDCAD1902_SERIES = add_tik(USDCAD1902,0)\n",
    "USDCAD1902_DF = pd.DataFrame(USDCAD1902_SERIES).reset_index()\n",
    "USDCAD1902_DF[0:5]"
   ]
  },
  {
   "cell_type": "code",
   "execution_count": 127,
   "metadata": {},
   "outputs": [
    {
     "data": {
      "text/html": [
       "<div>\n",
       "<style>\n",
       "    .dataframe thead tr:only-child th {\n",
       "        text-align: right;\n",
       "    }\n",
       "\n",
       "    .dataframe thead th {\n",
       "        text-align: left;\n",
       "    }\n",
       "\n",
       "    .dataframe tbody tr th {\n",
       "        vertical-align: top;\n",
       "    }\n",
       "</style>\n",
       "<table border=\"1\" class=\"dataframe\">\n",
       "  <thead>\n",
       "    <tr style=\"text-align: right;\">\n",
       "      <th></th>\n",
       "      <th>tik_time</th>\n",
       "      <th>close</th>\n",
       "    </tr>\n",
       "  </thead>\n",
       "  <tbody>\n",
       "    <tr>\n",
       "      <th>0</th>\n",
       "      <td>2019-01-01 17</td>\n",
       "      <td>1.362810</td>\n",
       "    </tr>\n",
       "    <tr>\n",
       "      <th>1</th>\n",
       "      <td>2019-01-01 18</td>\n",
       "      <td>1.362546</td>\n",
       "    </tr>\n",
       "    <tr>\n",
       "      <th>2</th>\n",
       "      <td>2019-01-01 19</td>\n",
       "      <td>1.362864</td>\n",
       "    </tr>\n",
       "    <tr>\n",
       "      <th>3</th>\n",
       "      <td>2019-01-01 20</td>\n",
       "      <td>1.362630</td>\n",
       "    </tr>\n",
       "    <tr>\n",
       "      <th>4</th>\n",
       "      <td>2019-01-01 21</td>\n",
       "      <td>1.364414</td>\n",
       "    </tr>\n",
       "  </tbody>\n",
       "</table>\n",
       "</div>"
      ],
      "text/plain": [
       "        tik_time     close\n",
       "0  2019-01-01 17  1.362810\n",
       "1  2019-01-01 18  1.362546\n",
       "2  2019-01-01 19  1.362864\n",
       "3  2019-01-01 20  1.362630\n",
       "4  2019-01-01 21  1.364414"
      ]
     },
     "execution_count": 127,
     "metadata": {},
     "output_type": "execute_result"
    }
   ],
   "source": [
    "USDCAD1901_SERIES = add_tik(USDCAD1901,1)\n",
    "USDCAD1901_DF = pd.DataFrame(USDCAD1901_SERIES).reset_index()\n",
    "USDCAD1901_DF[0:5]"
   ]
  },
  {
   "cell_type": "code",
   "execution_count": 132,
   "metadata": {},
   "outputs": [
    {
     "data": {
      "text/html": [
       "<div>\n",
       "<style>\n",
       "    .dataframe thead tr:only-child th {\n",
       "        text-align: right;\n",
       "    }\n",
       "\n",
       "    .dataframe thead th {\n",
       "        text-align: left;\n",
       "    }\n",
       "\n",
       "    .dataframe tbody tr th {\n",
       "        vertical-align: top;\n",
       "    }\n",
       "</style>\n",
       "<table border=\"1\" class=\"dataframe\">\n",
       "  <thead>\n",
       "    <tr style=\"text-align: right;\">\n",
       "      <th></th>\n",
       "      <th>tik_time</th>\n",
       "      <th>close</th>\n",
       "    </tr>\n",
       "  </thead>\n",
       "  <tbody>\n",
       "    <tr>\n",
       "      <th>0</th>\n",
       "      <td>2018-01-01 17</td>\n",
       "      <td>1.254419</td>\n",
       "    </tr>\n",
       "    <tr>\n",
       "      <th>1</th>\n",
       "      <td>2018-01-01 18</td>\n",
       "      <td>1.255490</td>\n",
       "    </tr>\n",
       "    <tr>\n",
       "      <th>2</th>\n",
       "      <td>2018-01-01 19</td>\n",
       "      <td>1.254989</td>\n",
       "    </tr>\n",
       "    <tr>\n",
       "      <th>3</th>\n",
       "      <td>2018-01-01 20</td>\n",
       "      <td>1.254235</td>\n",
       "    </tr>\n",
       "    <tr>\n",
       "      <th>4</th>\n",
       "      <td>2018-01-01 21</td>\n",
       "      <td>1.254459</td>\n",
       "    </tr>\n",
       "  </tbody>\n",
       "</table>\n",
       "</div>"
      ],
      "text/plain": [
       "        tik_time     close\n",
       "0  2018-01-01 17  1.254419\n",
       "1  2018-01-01 18  1.255490\n",
       "2  2018-01-01 19  1.254989\n",
       "3  2018-01-01 20  1.254235\n",
       "4  2018-01-01 21  1.254459"
      ]
     },
     "execution_count": 132,
     "metadata": {},
     "output_type": "execute_result"
    }
   ],
   "source": [
    "USDCAD18_SERIES = add_tik(USDCAD18,1)\n",
    "USDCAD18_DF = pd.DataFrame(USDCAD18_SERIES).reset_index()\n",
    "USDCAD18_DF[0:5]"
   ]
  },
  {
   "cell_type": "code",
   "execution_count": 133,
   "metadata": {},
   "outputs": [
    {
     "data": {
      "text/html": [
       "<div>\n",
       "<style>\n",
       "    .dataframe thead tr:only-child th {\n",
       "        text-align: right;\n",
       "    }\n",
       "\n",
       "    .dataframe thead th {\n",
       "        text-align: left;\n",
       "    }\n",
       "\n",
       "    .dataframe tbody tr th {\n",
       "        vertical-align: top;\n",
       "    }\n",
       "</style>\n",
       "<table border=\"1\" class=\"dataframe\">\n",
       "  <thead>\n",
       "    <tr style=\"text-align: right;\">\n",
       "      <th></th>\n",
       "      <th>tik_time</th>\n",
       "      <th>close</th>\n",
       "    </tr>\n",
       "  </thead>\n",
       "  <tbody>\n",
       "    <tr>\n",
       "      <th>0</th>\n",
       "      <td>2017-01-02 02</td>\n",
       "      <td>1.343966</td>\n",
       "    </tr>\n",
       "    <tr>\n",
       "      <th>1</th>\n",
       "      <td>2017-01-02 03</td>\n",
       "      <td>1.343618</td>\n",
       "    </tr>\n",
       "    <tr>\n",
       "      <th>2</th>\n",
       "      <td>2017-01-02 04</td>\n",
       "      <td>1.340353</td>\n",
       "    </tr>\n",
       "    <tr>\n",
       "      <th>3</th>\n",
       "      <td>2017-01-02 05</td>\n",
       "      <td>1.340586</td>\n",
       "    </tr>\n",
       "    <tr>\n",
       "      <th>4</th>\n",
       "      <td>2017-01-02 06</td>\n",
       "      <td>1.342692</td>\n",
       "    </tr>\n",
       "  </tbody>\n",
       "</table>\n",
       "</div>"
      ],
      "text/plain": [
       "        tik_time     close\n",
       "0  2017-01-02 02  1.343966\n",
       "1  2017-01-02 03  1.343618\n",
       "2  2017-01-02 04  1.340353\n",
       "3  2017-01-02 05  1.340586\n",
       "4  2017-01-02 06  1.342692"
      ]
     },
     "execution_count": 133,
     "metadata": {},
     "output_type": "execute_result"
    }
   ],
   "source": [
    "USDCAD17_SERIES = add_tik(USDCAD17,1)\n",
    "USDCAD17_DF = pd.DataFrame(USDCAD17_SERIES).reset_index()\n",
    "USDCAD17_DF[0:5]"
   ]
  },
  {
   "cell_type": "code",
   "execution_count": 136,
   "metadata": {
    "collapsed": true
   },
   "outputs": [],
   "source": [
    "frames = [USDCAD17_DF,USDCAD18_DF,USDCAD1901_DF,USDCAD1902_DF]\n",
    "combined_USDCD = pd.concat(frames)"
   ]
  },
  {
   "cell_type": "code",
   "execution_count": 138,
   "metadata": {},
   "outputs": [
    {
     "data": {
      "text/html": [
       "<div>\n",
       "<style>\n",
       "    .dataframe thead tr:only-child th {\n",
       "        text-align: right;\n",
       "    }\n",
       "\n",
       "    .dataframe thead th {\n",
       "        text-align: left;\n",
       "    }\n",
       "\n",
       "    .dataframe tbody tr th {\n",
       "        vertical-align: top;\n",
       "    }\n",
       "</style>\n",
       "<table border=\"1\" class=\"dataframe\">\n",
       "  <thead>\n",
       "    <tr style=\"text-align: right;\">\n",
       "      <th></th>\n",
       "      <th>tik_time</th>\n",
       "      <th>close</th>\n",
       "    </tr>\n",
       "  </thead>\n",
       "  <tbody>\n",
       "    <tr>\n",
       "      <th>0</th>\n",
       "      <td>2017-01-02 02</td>\n",
       "      <td>1.343966</td>\n",
       "    </tr>\n",
       "    <tr>\n",
       "      <th>1</th>\n",
       "      <td>2017-01-02 03</td>\n",
       "      <td>1.343618</td>\n",
       "    </tr>\n",
       "    <tr>\n",
       "      <th>2</th>\n",
       "      <td>2017-01-02 04</td>\n",
       "      <td>1.340353</td>\n",
       "    </tr>\n",
       "    <tr>\n",
       "      <th>3</th>\n",
       "      <td>2017-01-02 05</td>\n",
       "      <td>1.340586</td>\n",
       "    </tr>\n",
       "    <tr>\n",
       "      <th>4</th>\n",
       "      <td>2017-01-02 06</td>\n",
       "      <td>1.342692</td>\n",
       "    </tr>\n",
       "  </tbody>\n",
       "</table>\n",
       "</div>"
      ],
      "text/plain": [
       "        tik_time     close\n",
       "0  2017-01-02 02  1.343966\n",
       "1  2017-01-02 03  1.343618\n",
       "2  2017-01-02 04  1.340353\n",
       "3  2017-01-02 05  1.340586\n",
       "4  2017-01-02 06  1.342692"
      ]
     },
     "execution_count": 138,
     "metadata": {},
     "output_type": "execute_result"
    }
   ],
   "source": [
    "combined_USDCD[0:5]"
   ]
  },
  {
   "cell_type": "code",
   "execution_count": 142,
   "metadata": {},
   "outputs": [],
   "source": [
    "combined_USDCD.to_csv('/home/vijay/DATA_SCIENCE/BPF/processed_forex/USDCD.csv',encoding='utf-8', index=False)"
   ]
  },
  {
   "cell_type": "code",
   "execution_count": 165,
   "metadata": {
    "collapsed": true
   },
   "outputs": [],
   "source": [
    "#USDAUD\n",
    "# AUUSD17,AUUSD18,AUUSD1902\n",
    "AUUSD17_SERIES = add_tik(AUUSD17,0)\n",
    "USDAUD17_DF = pd.DataFrame(AUUSD17_SERIES).reset_index()\n",
    "\n",
    "AUUSD18_SERIES = add_tik(AUUSD18,0)\n",
    "USDAUD18_DF = pd.DataFrame(AUUSD18_SERIES).reset_index()\n",
    "\n",
    "AUUSD1901_SERIES = add_tik(AUUSD1901,0)\n",
    "USDAUD1901_DF = pd.DataFrame(AUUSD1901_SERIES).reset_index()\n",
    "\n",
    "AUUSD1902_SERIES = add_tik(AUUSD1902,0)\n",
    "USDAUD1902_DF = pd.DataFrame(AUUSD1902_SERIES).reset_index()\n"
   ]
  },
  {
   "cell_type": "code",
   "execution_count": 166,
   "metadata": {
    "collapsed": true
   },
   "outputs": [],
   "source": [
    "frames = [USDAUD17_DF,USDAUD18_DF,USDAUD1901_DF,USDAUD1902_DF]\n",
    "combined_USDAUD = pd.concat(frames)\n",
    "combined_USDAUD.to_csv('/home/vijay/DATA_SCIENCE/BPF/processed_forex/USDAUD.csv',encoding='utf-8', index=False)"
   ]
  },
  {
   "cell_type": "code",
   "execution_count": 156,
   "metadata": {
    "collapsed": true
   },
   "outputs": [],
   "source": [
    "#USDGBP\n",
    "#GBPUSD17,GBPUSD18,GBPUSD1902\n",
    "GBPUSD17_SERIES = add_tik(GBPUSD17,0)\n",
    "USDGBP17_DF = pd.DataFrame(GBPUSD17_SERIES).reset_index()\n",
    "\n",
    "GBPUSD18_SERIES = add_tik(GBPUSD18,0)\n",
    "USDGBP18_DF = pd.DataFrame(GBPUSD18_SERIES).reset_index()\n",
    "\n",
    "GBPUSD1901_SERIES = add_tik(GBPUSD1901,0)\n",
    "USDGBP1901_DF = pd.DataFrame(GBPUSD1901_SERIES).reset_index()\n",
    "\n",
    "GBPUSD1902_SERIES = add_tik(GBPUSD1902,0)\n",
    "USDGBP1902_DF = pd.DataFrame(GBPUSD1902_SERIES).reset_index()"
   ]
  },
  {
   "cell_type": "code",
   "execution_count": 157,
   "metadata": {},
   "outputs": [],
   "source": [
    "frames = [USDGBP17_DF,USDGBP18_DF,USDGBP1901_DF,USDGBP1902_DF]\n",
    "combined_USDGBP = pd.concat(frames)\n",
    "combined_USDGBP.to_csv('/home/vijay/DATA_SCIENCE/BPF/processed_forex/USDGBP.csv',encoding='utf-8', index=False)"
   ]
  },
  {
   "cell_type": "code",
   "execution_count": 161,
   "metadata": {
    "collapsed": true
   },
   "outputs": [],
   "source": [
    "#USDEUR\n",
    "#EURUSD17,EURUSD18,EURUSD1902\n",
    "EURUSD17_SERIES = add_tik(EURUSD17,0)\n",
    "USDEUR17_DF = pd.DataFrame(EURUSD17_SERIES).reset_index()\n",
    "\n",
    "EURUSD18_SERIES = add_tik(EURUSD18,0)\n",
    "USDEUR18_DF = pd.DataFrame(EURUSD18_SERIES).reset_index()\n",
    "\n",
    "EURUSD1901_SERIES = add_tik(EURUSD1901,0)\n",
    "USDEUR1901_DF = pd.DataFrame(EURUSD1901_SERIES).reset_index()\n",
    "\n",
    "EURUSD1902_SERIES = add_tik(EURUSD1902,0)\n",
    "USDEUR1902_DF = pd.DataFrame(EURUSD1902_SERIES).reset_index()"
   ]
  },
  {
   "cell_type": "code",
   "execution_count": 162,
   "metadata": {
    "collapsed": true
   },
   "outputs": [],
   "source": [
    "frames = [USDEUR17_DF,USDEUR18_DF,USDEUR1901_DF,USDEUR1902_DF]\n",
    "combined_USDEUR = pd.concat(frames)\n",
    "combined_USDEUR.to_csv('/home/vijay/DATA_SCIENCE/BPF/processed_forex/USDEUR.csv',encoding='utf-8', index=False)"
   ]
  },
  {
   "cell_type": "code",
   "execution_count": 170,
   "metadata": {
    "collapsed": true
   },
   "outputs": [],
   "source": [
    "#USDNZD\n",
    "\n",
    "NZDUSD17_SERIES = add_tik(NZDUSD17,0)\n",
    "USDNZD17_DF = pd.DataFrame(NZDUSD17_SERIES).reset_index()\n",
    "\n",
    "NZDUSD18_SERIES = add_tik(NZDUSD18,0)\n",
    "USDNZD18_DF = pd.DataFrame(NZDUSD18_SERIES).reset_index()\n",
    "\n",
    "NZDUSD1901_SERIES = add_tik(NZDUSD1901,0)\n",
    "USDNZD1901_DF = pd.DataFrame(NZDUSD1901_SERIES).reset_index()\n",
    "\n",
    "NZDUSD1902_SERIES = add_tik(NZDUSD1902,0)\n",
    "USDNZD1902_DF = pd.DataFrame(NZDUSD1902_SERIES).reset_index()"
   ]
  },
  {
   "cell_type": "code",
   "execution_count": 172,
   "metadata": {
    "collapsed": true
   },
   "outputs": [],
   "source": [
    "frames = [USDNZD17_DF,USDNZD18_DF,USDNZD1901_DF,USDNZD1902_DF]\n",
    "combined_USDNZD = pd.concat(frames)\n",
    "combined_USDNZD.to_csv('/home/vijay/DATA_SCIENCE/BPF/processed_forex/USDNZD.csv',encoding='utf-8', index=False)"
   ]
  },
  {
   "cell_type": "code",
   "execution_count": 177,
   "metadata": {},
   "outputs": [],
   "source": [
    "#USDJPY\n",
    "\n",
    "USDJPY17_SERIES = add_tik(USDJPY17,1)\n",
    "USDJPY17_DF = pd.DataFrame(USDJPY17_SERIES).reset_index()\n",
    "\n",
    "USDJPY18_SERIES = add_tik(USDJPY18,1)\n",
    "USDJPY18_DF = pd.DataFrame(USDJPY18_SERIES).reset_index()\n",
    "\n",
    "USDJPY1901_SERIES = add_tik(USDJPY1901,1)\n",
    "USDJPY1901_DF = pd.DataFrame(USDJPY1901_SERIES).reset_index()\n",
    "\n",
    "USDJPY1902_SERIES = add_tik(USDJPY1902,1)\n",
    "USDJPY1902_DF = pd.DataFrame(USDJPY1902_SERIES).reset_index()"
   ]
  },
  {
   "cell_type": "code",
   "execution_count": 178,
   "metadata": {
    "collapsed": true
   },
   "outputs": [],
   "source": [
    "frames = [USDJPY17_DF,USDJPY18_DF,USDJPY1901_DF,USDJPY1902_DF]\n",
    "combined_USDJPY = pd.concat(frames)\n",
    "combined_USDJPY.to_csv('/home/vijay/DATA_SCIENCE/BPF/processed_forex/USDJPY.csv',encoding='utf-8', index=False)"
   ]
  },
  {
   "cell_type": "code",
   "execution_count": 180,
   "metadata": {
    "collapsed": true
   },
   "outputs": [],
   "source": [
    "#CADNZD\n",
    "\n",
    "CADNZD17_SERIES = add_tik(NZDCAD17,0)\n",
    "CADNZD17_DF = pd.DataFrame(CADNZD17_SERIES).reset_index()\n",
    "\n",
    "CADNZD18_SERIES = add_tik(NZDCAD18,0)\n",
    "CADNZD18_DF = pd.DataFrame(CADNZD18_SERIES).reset_index()\n",
    "\n",
    "CADNZD1901_SERIES = add_tik(NZDCAD1901,0)\n",
    "CADNZD1901_DF = pd.DataFrame(CADNZD1901_SERIES).reset_index()\n",
    "\n",
    "CADNZD1902_SERIES = add_tik(NZDCAD1902,0)\n",
    "CADNZD1902_DF = pd.DataFrame(CADNZD1902_SERIES).reset_index()"
   ]
  },
  {
   "cell_type": "code",
   "execution_count": 182,
   "metadata": {
    "collapsed": true
   },
   "outputs": [],
   "source": [
    "frames = [CADNZD17_DF,CADNZD18_DF,CADNZD1901_DF,CADNZD1902_DF]\n",
    "combined_CADNZD = pd.concat(frames)\n",
    "combined_CADNZD.to_csv('/home/vijay/DATA_SCIENCE/BPF/processed_forex/CADNZD.csv',encoding='utf-8', index=False)"
   ]
  },
  {
   "cell_type": "code",
   "execution_count": 184,
   "metadata": {
    "collapsed": true
   },
   "outputs": [],
   "source": [
    "#CADAUD\n",
    "CADAUD17_SERIES = add_tik(AUDCAD17,0)\n",
    "CADAUD17_DF = pd.DataFrame(CADAUD17_SERIES).reset_index()\n",
    "\n",
    "CADAUD18_SERIES = add_tik(AUDCAD18,0)\n",
    "CADAUD18_DF = pd.DataFrame(CADAUD18_SERIES).reset_index()\n",
    "\n",
    "CADAUD1901_SERIES = add_tik(AUDCAD1901,0)\n",
    "CADAUD1901_DF = pd.DataFrame(CADAUD1901_SERIES).reset_index()\n",
    "\n",
    "CADAUD1902_SERIES = add_tik(AUDCAD1902,0)\n",
    "CADAUD1902_DF = pd.DataFrame(CADAUD1902_SERIES).reset_index()"
   ]
  },
  {
   "cell_type": "code",
   "execution_count": 185,
   "metadata": {
    "collapsed": true
   },
   "outputs": [],
   "source": [
    "frames = [CADAUD17_DF,CADAUD18_DF,CADAUD1901_DF,CADAUD1902_DF]\n",
    "combined_CADAUD = pd.concat(frames)\n",
    "combined_CADAUD.to_csv('/home/vijay/DATA_SCIENCE/BPF/processed_forex/CADAUD.csv',encoding='utf-8', index=False)"
   ]
  },
  {
   "cell_type": "code",
   "execution_count": null,
   "metadata": {
    "collapsed": true
   },
   "outputs": [],
   "source": []
  }
 ],
 "metadata": {
  "kernelspec": {
   "display_name": "Python 2",
   "language": "python",
   "name": "python2"
  },
  "language_info": {
   "codemirror_mode": {
    "name": "ipython",
    "version": 2
   },
   "file_extension": ".py",
   "mimetype": "text/x-python",
   "name": "python",
   "nbconvert_exporter": "python",
   "pygments_lexer": "ipython2",
   "version": "2.7.13"
  }
 },
 "nbformat": 4,
 "nbformat_minor": 2
}
