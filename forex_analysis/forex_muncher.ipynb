{
 "cells": [
  {
   "cell_type": "code",
   "execution_count": 2,
   "metadata": {
    "collapsed": true
   },
   "outputs": [],
   "source": [
    "import os\n",
    "import pandas as pd# bid open, close"
   ]
  },
  {
   "cell_type": "markdown",
   "metadata": {
    "collapsed": true
   },
   "source": [
    "def get_files(path):\n",
    "    for file in os.walk(path):\n",
    "        return file[2]\n"
   ]
  },
  {
   "cell_type": "markdown",
   "metadata": {},
   "source": [
    "files = get_files('/home/vijay/DATA_SCIENCE/BPF/unziped_forex')\n",
    "print(files)"
   ]
  },
  {
   "cell_type": "markdown",
   "metadata": {},
   "source": [
    "import pandas as pd \n",
    "for filenme in files:\n",
    "    print (filenme)\n",
    "    filenme2 = '/home/vijay/DATA_SCIENCE/BPF/unziped_forex/'+filenme\n",
    "    print (filenme2)\n",
    "    yo = pd.read_csv(\"/home/vijay/DATA_SCIENCE/BPF/unziped_forex/DAT_XLSX_AUDUSD_M1_2018.csv\",header=None, names = ['date','open','high','low','close','f'])\n",
    "    yo[0:5]\n",
    "    print(type(yo))\n",
    "    break"
   ]
  },
  {
   "cell_type": "code",
   "execution_count": 25,
   "metadata": {
    "collapsed": true
   },
   "outputs": [],
   "source": [
    "AUUSD17 = pd.read_csv(\"/home/vijay/DATA_SCIENCE/BPF/unziped_forex/DAT_XLSX_AUDUSD_M1_2017.csv\", \\\n",
    "header=None, names = ['date','open','high','low','close','f'])\n",
    "\n",
    "AUUSD18 = pd.read_csv(\"/home/vijay/DATA_SCIENCE/BPF/unziped_forex/DAT_XLSX_AUDUSD_M1_2018.csv\", \\\n",
    "header=None, names = ['date','open','high','low','close','f'])"
   ]
  },
  {
   "cell_type": "code",
   "execution_count": 30,
   "metadata": {
    "collapsed": true
   },
   "outputs": [],
   "source": [
    "AUUSD1901 = pd.read_csv(\"/home/vijay/DATA_SCIENCE/BPF/unziped_forex/DAT_XLSX_AUDUSD_M1_201901.csv\", \\\n",
    "header=None, names = ['date','open','high','low','close','f'])\n",
    "\n",
    "AUUSD1902 = pd.read_csv(\"/home/vijay/DATA_SCIENCE/BPF/unziped_forex/DAT_XLSX_AUDUSD_M1_201902.csv\", \\\n",
    "header=None, names = ['date','open','high','low','close','f'])"
   ]
  },
  {
   "cell_type": "code",
   "execution_count": 31,
   "metadata": {},
   "outputs": [
    {
     "data": {
      "text/html": [
       "<div>\n",
       "<style>\n",
       "    .dataframe thead tr:only-child th {\n",
       "        text-align: right;\n",
       "    }\n",
       "\n",
       "    .dataframe thead th {\n",
       "        text-align: left;\n",
       "    }\n",
       "\n",
       "    .dataframe tbody tr th {\n",
       "        vertical-align: top;\n",
       "    }\n",
       "</style>\n",
       "<table border=\"1\" class=\"dataframe\">\n",
       "  <thead>\n",
       "    <tr style=\"text-align: right;\">\n",
       "      <th></th>\n",
       "      <th>date</th>\n",
       "      <th>open</th>\n",
       "      <th>high</th>\n",
       "      <th>low</th>\n",
       "      <th>close</th>\n",
       "      <th>f</th>\n",
       "    </tr>\n",
       "  </thead>\n",
       "  <tbody>\n",
       "    <tr>\n",
       "      <th>0</th>\n",
       "      <td>2019-02-01 00:00</td>\n",
       "      <td>0.72390</td>\n",
       "      <td>0.72397</td>\n",
       "      <td>0.72378</td>\n",
       "      <td>0.72379</td>\n",
       "      <td>0.0</td>\n",
       "    </tr>\n",
       "    <tr>\n",
       "      <th>1</th>\n",
       "      <td>2019-02-01 00:01</td>\n",
       "      <td>0.72380</td>\n",
       "      <td>0.72382</td>\n",
       "      <td>0.72379</td>\n",
       "      <td>0.72381</td>\n",
       "      <td>0.0</td>\n",
       "    </tr>\n",
       "    <tr>\n",
       "      <th>2</th>\n",
       "      <td>2019-02-01 00:02</td>\n",
       "      <td>0.72381</td>\n",
       "      <td>0.72382</td>\n",
       "      <td>0.72377</td>\n",
       "      <td>0.72377</td>\n",
       "      <td>0.0</td>\n",
       "    </tr>\n",
       "  </tbody>\n",
       "</table>\n",
       "</div>"
      ],
      "text/plain": [
       "               date     open     high      low    close    f\n",
       "0  2019-02-01 00:00  0.72390  0.72397  0.72378  0.72379  0.0\n",
       "1  2019-02-01 00:01  0.72380  0.72382  0.72379  0.72381  0.0\n",
       "2  2019-02-01 00:02  0.72381  0.72382  0.72377  0.72377  0.0"
      ]
     },
     "execution_count": 31,
     "metadata": {},
     "output_type": "execute_result"
    }
   ],
   "source": [
    "AUUSD17[0:4]\n",
    "AUUSD18[1:3]\n",
    "AUUSD1902[0:3]"
   ]
  },
  {
   "cell_type": "code",
   "execution_count": 35,
   "metadata": {
    "collapsed": true
   },
   "outputs": [],
   "source": [
    "EURUSD17 = pd.read_csv(\"/home/vijay/DATA_SCIENCE/BPF/unziped_forex/DAT_XLSX_EURUSD_M1_2017.csv\", \\\n",
    "header=None, names = ['date','open','high','low','close','f'])\n",
    "\n",
    "EURUSD18 = pd.read_csv(\"/home/vijay/DATA_SCIENCE/BPF/unziped_forex/DAT_XLSX_EURUSD_M1_2018.csv\", \\\n",
    "header=None, names = ['date','open','high','low','close','f'])"
   ]
  },
  {
   "cell_type": "code",
   "execution_count": 36,
   "metadata": {
    "collapsed": true
   },
   "outputs": [],
   "source": [
    "EURUSD1901 = pd.read_csv(\"/home/vijay/DATA_SCIENCE/BPF/unziped_forex/DAT_XLSX_EURUSD_M1_201901.csv\", \\\n",
    "header=None, names = ['date','open','high','low','close','f'])\n",
    "\n",
    "EURUSD1902 = pd.read_csv(\"/home/vijay/DATA_SCIENCE/BPF/unziped_forex/DAT_XLSX_EURUSD_M1_201902.csv\", \\\n",
    "header=None, names = ['date','open','high','low','close','f'])"
   ]
  },
  {
   "cell_type": "code",
   "execution_count": 37,
   "metadata": {},
   "outputs": [
    {
     "data": {
      "text/html": [
       "<div>\n",
       "<style>\n",
       "    .dataframe thead tr:only-child th {\n",
       "        text-align: right;\n",
       "    }\n",
       "\n",
       "    .dataframe thead th {\n",
       "        text-align: left;\n",
       "    }\n",
       "\n",
       "    .dataframe tbody tr th {\n",
       "        vertical-align: top;\n",
       "    }\n",
       "</style>\n",
       "<table border=\"1\" class=\"dataframe\">\n",
       "  <thead>\n",
       "    <tr style=\"text-align: right;\">\n",
       "      <th></th>\n",
       "      <th>date</th>\n",
       "      <th>open</th>\n",
       "      <th>high</th>\n",
       "      <th>low</th>\n",
       "      <th>close</th>\n",
       "      <th>f</th>\n",
       "    </tr>\n",
       "  </thead>\n",
       "  <tbody>\n",
       "    <tr>\n",
       "      <th>0</th>\n",
       "      <td>2019-02-01 00:00</td>\n",
       "      <td>1.14420</td>\n",
       "      <td>1.14428</td>\n",
       "      <td>1.14418</td>\n",
       "      <td>1.14418</td>\n",
       "      <td>0.0</td>\n",
       "    </tr>\n",
       "    <tr>\n",
       "      <th>1</th>\n",
       "      <td>2019-02-01 00:01</td>\n",
       "      <td>1.14418</td>\n",
       "      <td>1.14425</td>\n",
       "      <td>1.14414</td>\n",
       "      <td>1.14414</td>\n",
       "      <td>0.0</td>\n",
       "    </tr>\n",
       "    <tr>\n",
       "      <th>2</th>\n",
       "      <td>2019-02-01 00:02</td>\n",
       "      <td>1.14414</td>\n",
       "      <td>1.14415</td>\n",
       "      <td>1.14409</td>\n",
       "      <td>1.14410</td>\n",
       "      <td>0.0</td>\n",
       "    </tr>\n",
       "  </tbody>\n",
       "</table>\n",
       "</div>"
      ],
      "text/plain": [
       "               date     open     high      low    close    f\n",
       "0  2019-02-01 00:00  1.14420  1.14428  1.14418  1.14418  0.0\n",
       "1  2019-02-01 00:01  1.14418  1.14425  1.14414  1.14414  0.0\n",
       "2  2019-02-01 00:02  1.14414  1.14415  1.14409  1.14410  0.0"
      ]
     },
     "execution_count": 37,
     "metadata": {},
     "output_type": "execute_result"
    }
   ],
   "source": [
    "EURUSD17[0:4]\n",
    "EURUSD18[1:3]\n",
    "EURUSD1902[0:3]"
   ]
  },
  {
   "cell_type": "code",
   "execution_count": 38,
   "metadata": {
    "collapsed": true
   },
   "outputs": [],
   "source": [
    "GBPUSD17 = pd.read_csv(\"/home/vijay/DATA_SCIENCE/BPF/unziped_forex/DAT_XLSX_GBPUSD_M1_2017.csv\", \\\n",
    "header=None, names = ['date','open','high','low','close','f'])\n",
    "\n",
    "GBPUSD18 = pd.read_csv(\"/home/vijay/DATA_SCIENCE/BPF/unziped_forex/DAT_XLSX_GBPUSD_M1_2018.csv\", \\\n",
    "header=None, names = ['date','open','high','low','close','f'])"
   ]
  },
  {
   "cell_type": "code",
   "execution_count": 39,
   "metadata": {
    "collapsed": true
   },
   "outputs": [],
   "source": [
    "GBPUSD1901 = pd.read_csv(\"/home/vijay/DATA_SCIENCE/BPF/unziped_forex/DAT_XLSX_GBPUSD_M1_201901.csv\", \\\n",
    "header=None, names = ['date','open','high','low','close','f'])\n",
    "\n",
    "GBPUSD1902 = pd.read_csv(\"/home/vijay/DATA_SCIENCE/BPF/unziped_forex/DAT_XLSX_GBPUSD_M1_201902.csv\", \\\n",
    "header=None, names = ['date','open','high','low','close','f'])"
   ]
  },
  {
   "cell_type": "code",
   "execution_count": 40,
   "metadata": {},
   "outputs": [
    {
     "data": {
      "text/html": [
       "<div>\n",
       "<style>\n",
       "    .dataframe thead tr:only-child th {\n",
       "        text-align: right;\n",
       "    }\n",
       "\n",
       "    .dataframe thead th {\n",
       "        text-align: left;\n",
       "    }\n",
       "\n",
       "    .dataframe tbody tr th {\n",
       "        vertical-align: top;\n",
       "    }\n",
       "</style>\n",
       "<table border=\"1\" class=\"dataframe\">\n",
       "  <thead>\n",
       "    <tr style=\"text-align: right;\">\n",
       "      <th></th>\n",
       "      <th>date</th>\n",
       "      <th>open</th>\n",
       "      <th>high</th>\n",
       "      <th>low</th>\n",
       "      <th>close</th>\n",
       "      <th>f</th>\n",
       "    </tr>\n",
       "  </thead>\n",
       "  <tbody>\n",
       "    <tr>\n",
       "      <th>0</th>\n",
       "      <td>2019-02-01 00:00</td>\n",
       "      <td>1.30926</td>\n",
       "      <td>1.30943</td>\n",
       "      <td>1.30926</td>\n",
       "      <td>1.30935</td>\n",
       "      <td>0.0</td>\n",
       "    </tr>\n",
       "    <tr>\n",
       "      <th>1</th>\n",
       "      <td>2019-02-01 00:01</td>\n",
       "      <td>1.30935</td>\n",
       "      <td>1.30947</td>\n",
       "      <td>1.30934</td>\n",
       "      <td>1.30947</td>\n",
       "      <td>0.0</td>\n",
       "    </tr>\n",
       "    <tr>\n",
       "      <th>2</th>\n",
       "      <td>2019-02-01 00:02</td>\n",
       "      <td>1.30947</td>\n",
       "      <td>1.30960</td>\n",
       "      <td>1.30945</td>\n",
       "      <td>1.30956</td>\n",
       "      <td>0.0</td>\n",
       "    </tr>\n",
       "  </tbody>\n",
       "</table>\n",
       "</div>"
      ],
      "text/plain": [
       "               date     open     high      low    close    f\n",
       "0  2019-02-01 00:00  1.30926  1.30943  1.30926  1.30935  0.0\n",
       "1  2019-02-01 00:01  1.30935  1.30947  1.30934  1.30947  0.0\n",
       "2  2019-02-01 00:02  1.30947  1.30960  1.30945  1.30956  0.0"
      ]
     },
     "execution_count": 40,
     "metadata": {},
     "output_type": "execute_result"
    }
   ],
   "source": [
    "GBPUSD17[0:4]\n",
    "GBPUSD18[1:3]\n",
    "GBPUSD1902[0:3]"
   ]
  },
  {
   "cell_type": "code",
   "execution_count": 3,
   "metadata": {},
   "outputs": [],
   "source": [
    "USDCAD17 = pd.read_csv(\"/home/vijay/DATA_SCIENCE/BPF/unziped_forex/DAT_XLSX_USDCAD_M1_2017.csv\", \\\n",
    "header=None, names = ['date','open','high','low','close','f'])\n",
    "\n",
    "USDCAD18 = pd.read_csv(\"/home/vijay/DATA_SCIENCE/BPF/unziped_forex/DAT_XLSX_USDCAD_M1_2018.csv\", \\\n",
    "header=None, names = ['date','open','high','low','close','f'])\n",
    "\n",
    "USDCAD1901 = pd.read_csv(\"/home/vijay/DATA_SCIENCE/BPF/unziped_forex/DAT_XLSX_USDCAD_M1_201901.csv\", \\\n",
    "header=None, names = ['date','open','high','low','close','f'])\n",
    "\n",
    "USDCAD1902 = pd.read_csv(\"/home/vijay/DATA_SCIENCE/BPF/unziped_forex/DAT_XLSX_USDCAD_M1_201902.csv\", \\\n",
    "header=None, names = ['date','open','high','low','close','f'])"
   ]
  },
  {
   "cell_type": "code",
   "execution_count": 4,
   "metadata": {},
   "outputs": [
    {
     "data": {
      "text/html": [
       "<div>\n",
       "<style>\n",
       "    .dataframe thead tr:only-child th {\n",
       "        text-align: right;\n",
       "    }\n",
       "\n",
       "    .dataframe thead th {\n",
       "        text-align: left;\n",
       "    }\n",
       "\n",
       "    .dataframe tbody tr th {\n",
       "        vertical-align: top;\n",
       "    }\n",
       "</style>\n",
       "<table border=\"1\" class=\"dataframe\">\n",
       "  <thead>\n",
       "    <tr style=\"text-align: right;\">\n",
       "      <th></th>\n",
       "      <th>date</th>\n",
       "      <th>open</th>\n",
       "      <th>high</th>\n",
       "      <th>low</th>\n",
       "      <th>close</th>\n",
       "      <th>f</th>\n",
       "    </tr>\n",
       "  </thead>\n",
       "  <tbody>\n",
       "    <tr>\n",
       "      <th>0</th>\n",
       "      <td>2019-02-01 00:00</td>\n",
       "      <td>1.31479</td>\n",
       "      <td>1.31480</td>\n",
       "      <td>1.31471</td>\n",
       "      <td>1.31478</td>\n",
       "      <td>0.0</td>\n",
       "    </tr>\n",
       "    <tr>\n",
       "      <th>1</th>\n",
       "      <td>2019-02-01 00:01</td>\n",
       "      <td>1.31478</td>\n",
       "      <td>1.31483</td>\n",
       "      <td>1.31478</td>\n",
       "      <td>1.31483</td>\n",
       "      <td>0.0</td>\n",
       "    </tr>\n",
       "    <tr>\n",
       "      <th>2</th>\n",
       "      <td>2019-02-01 00:02</td>\n",
       "      <td>1.31482</td>\n",
       "      <td>1.31483</td>\n",
       "      <td>1.31481</td>\n",
       "      <td>1.31483</td>\n",
       "      <td>0.0</td>\n",
       "    </tr>\n",
       "  </tbody>\n",
       "</table>\n",
       "</div>"
      ],
      "text/plain": [
       "               date     open     high      low    close    f\n",
       "0  2019-02-01 00:00  1.31479  1.31480  1.31471  1.31478  0.0\n",
       "1  2019-02-01 00:01  1.31478  1.31483  1.31478  1.31483  0.0\n",
       "2  2019-02-01 00:02  1.31482  1.31483  1.31481  1.31483  0.0"
      ]
     },
     "execution_count": 4,
     "metadata": {},
     "output_type": "execute_result"
    }
   ],
   "source": [
    "USDCAD17[0:4]\n",
    "USDCAD18[1:3]\n",
    "USDCAD1902[0:3]"
   ]
  },
  {
   "cell_type": "code",
   "execution_count": 16,
   "metadata": {},
   "outputs": [
    {
     "data": {
      "text/plain": [
       "2    2017-01-02 02:02\n",
       "3    2017-01-02 02:03\n",
       "4    2017-01-02 02:04\n",
       "Name: date, dtype: object"
      ]
     },
     "execution_count": 16,
     "metadata": {},
     "output_type": "execute_result"
    }
   ],
   "source": [
    "USDCAD17['date'][2:5]"
   ]
  },
  {
   "cell_type": "code",
   "execution_count": 64,
   "metadata": {},
   "outputs": [],
   "source": [
    "def add_tik(df,arg):\n",
    "    if arg == 1 :\n",
    "        df['tik_time'] = df.date.str.slice(0,13)\n",
    "        ndf = df [['tik_time','close']]\n",
    "        ndfg = ndf.groupby(['tik_time'])['close'].mean()\n",
    "    elif arg == 0 :\n",
    "        df['tik_time'] = df.date.str.slice(0,13)\n",
    "        df['invclose'] = 1/(df.close)\n",
    "        ndf = df [['tik_time','invclose']]\n",
    "        ndfg = ndf.groupby(['tik_time'])['invclose'].mean()\n",
    "        \n",
    "    return ndfg"
   ]
  },
  {
   "cell_type": "code",
   "execution_count": 65,
   "metadata": {},
   "outputs": [
    {
     "data": {
      "text/plain": [
       "tik_time\n",
       "2019-02-01 00    1.315112\n",
       "2019-02-01 01    1.314893\n",
       "2019-02-01 02    1.315129\n",
       "2019-02-01 03    1.314745\n",
       "2019-02-01 04    1.314713\n",
       "Name: close, dtype: float64"
      ]
     },
     "execution_count": 65,
     "metadata": {},
     "output_type": "execute_result"
    }
   ],
   "source": [
    "USDCAD1902_R = add_tik(USDCAD1902,1)\n",
    "USDCAD1902_R[0:5]"
   ]
  },
  {
   "cell_type": "code",
   "execution_count": 66,
   "metadata": {},
   "outputs": [
    {
     "data": {
      "text/plain": [
       "tik_time\n",
       "2019-01-01 17    0.733778\n",
       "2019-01-01 18    0.733920\n",
       "2019-01-01 19    0.733749\n",
       "2019-01-01 20    0.733875\n",
       "2019-01-01 21    0.732915\n",
       "Name: invclose, dtype: float64"
      ]
     },
     "execution_count": 66,
     "metadata": {},
     "output_type": "execute_result"
    }
   ],
   "source": [
    "USDCAD1901_R = add_tik(USDCAD1901,0)\n",
    "USDCAD1901_R[0:5]"
   ]
  },
  {
   "cell_type": "code",
   "execution_count": null,
   "metadata": {
    "collapsed": true
   },
   "outputs": [],
   "source": []
  },
  {
   "cell_type": "code",
   "execution_count": null,
   "metadata": {
    "collapsed": true
   },
   "outputs": [],
   "source": []
  },
  {
   "cell_type": "markdown",
   "metadata": {},
   "source": [
    "uu.groupby(['tik_time'])['close'].mean()"
   ]
  },
  {
   "cell_type": "markdown",
   "metadata": {
    "collapsed": true
   },
   "source": [
    "UDF = USDCAD17[['date','close']]"
   ]
  },
  {
   "cell_type": "markdown",
   "metadata": {},
   "source": [
    "UDF[0:3]"
   ]
  },
  {
   "cell_type": "markdown",
   "metadata": {},
   "source": [
    "UDF['tik_time'] = UDF.date.str.slice(0,13)"
   ]
  },
  {
   "cell_type": "markdown",
   "metadata": {},
   "source": [
    "UDF.groupby(['tik_time'])['close'].mean()"
   ]
  },
  {
   "cell_type": "code",
   "execution_count": null,
   "metadata": {
    "collapsed": true
   },
   "outputs": [],
   "source": []
  }
 ],
 "metadata": {
  "kernelspec": {
   "display_name": "Python 2",
   "language": "python",
   "name": "python2"
  },
  "language_info": {
   "codemirror_mode": {
    "name": "ipython",
    "version": 2
   },
   "file_extension": ".py",
   "mimetype": "text/x-python",
   "name": "python",
   "nbconvert_exporter": "python",
   "pygments_lexer": "ipython2",
   "version": "2.7.13"
  }
 },
 "nbformat": 4,
 "nbformat_minor": 2
}
