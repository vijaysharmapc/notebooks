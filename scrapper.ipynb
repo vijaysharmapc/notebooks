{
 "cells": [
  {
   "cell_type": "code",
   "execution_count": 1,
   "metadata": {
    "collapsed": true
   },
   "outputs": [],
   "source": [
    "import requests\n",
    "from bs4 import BeautifulSoup"
   ]
  },
  {
   "cell_type": "code",
   "execution_count": 3,
   "metadata": {},
   "outputs": [],
   "source": [
    "# Enter the amazon product page which contains the product reviews\n",
    "url = 'https://www.amazon.ca/Instant-Pot-Duo-Multi-Use-Programmable/product-reviews/B00FLYWNYQ/ref=dpx_acr_txt?showViewpoints=1'"
   ]
  },
  {
   "cell_type": "code",
   "execution_count": 4,
   "metadata": {
    "collapsed": true
   },
   "outputs": [],
   "source": [
    "review_html = requests.get(url).text"
   ]
  },
  {
   "cell_type": "code",
   "execution_count": 7,
   "metadata": {},
   "outputs": [],
   "source": [
    "soup = BeautifulSoup(review_html, 'lxml')"
   ]
  },
  {
   "cell_type": "code",
   "execution_count": 8,
   "metadata": {
    "collapsed": true
   },
   "outputs": [],
   "source": [
    "review_titles = soup.findAll('a', {'class': 'a-size-base a-link-normal review-title a-color-base a-text-bold'})"
   ]
  },
  {
   "cell_type": "code",
   "execution_count": 9,
   "metadata": {},
   "outputs": [
    {
     "data": {
      "text/plain": [
       "10"
      ]
     },
     "execution_count": 9,
     "metadata": {},
     "output_type": "execute_result"
    }
   ],
   "source": [
    "len( review_titles )"
   ]
  },
  {
   "cell_type": "code",
   "execution_count": 11,
   "metadata": {},
   "outputs": [
    {
     "name": "stdout",
     "output_type": "stream",
     "text": [
      "It is surprisingly convenient to use\n",
      "Add to cart immediately\n",
      "LIFE CHANGING! AMAZING!\n",
      "Very small cooker...will likely return untried\n",
      "Disappointed\n",
      "Instant Pot Review\n",
      "A good investment\n",
      "Highly Recommend\n",
      "A superb kitchen appliance!\n",
      "Enjoy how you can saute then switch to another function ...\n"
     ]
    }
   ],
   "source": [
    "\n",
    "for review_title in review_titles:\n",
    "  print( review_title.text )"
   ]
  },
  {
   "cell_type": "code",
   "execution_count": 12,
   "metadata": {},
   "outputs": [
    {
     "data": {
      "text/plain": [
       "10"
      ]
     },
     "execution_count": 12,
     "metadata": {},
     "output_type": "execute_result"
    }
   ],
   "source": [
    "review_texts = soup.findAll('span', {'class': 'a-size-base review-text'})\n",
    "len( review_texts )"
   ]
  },
  {
   "cell_type": "code",
   "execution_count": 13,
   "metadata": {
    "collapsed": true
   },
   "outputs": [],
   "source": [
    "import re\n",
    "r_texts = list( map( lambda x: re.sub(\"[^a-zA-Z]\", \" \", x.text ), review_texts ) )"
   ]
  },
  {
   "cell_type": "code",
   "execution_count": 14,
   "metadata": {},
   "outputs": [
    {
     "data": {
      "text/plain": [
       "['When I first heard about Instant Pot in the fall  I really wondered if would be worth purchasing  I m not one to want the latest trendy item  We have never needed a pressure cooker and our slow cooker has been used a half dozen times over    years  But I now see why it is loved by so many  So far  we have made soup  spaghetti sauce  BBQ pulled pork  Marcella chicken   General Tao s chicken  All came out nicely  I think it will end up being used a lot and will get us to try making recipes that we wouldn t normally try  For example  the last   items above were our first time making them It was tempting to consider getting the   in    However  they all basically do the same thing  The recipes we have tried so far  all use the manual settings  People have cooked eggs in the   in   The only small disappointment with the one we got  was that the stainless steel pot doesn t have the lines that make it easy to measure out to cook rice  It only has the max line  Fortunately  we purchased the ceramic pot on sale and it does have the lines  if we want to cook rice in it  The power cord that came with ours is a little bit stiff  so it doesn t bend as easily as we would like  Neither of these are deal breakers  but I did knock off   star for the stainless steel pot missing the measuring lines  The power cord is a standard cord that you would find on computers and such  so getting a more flexible one is easy We also purchased the Tempered Glass lid  which will make it easy to use as a slow cooker or to simmer foods in  It s also good for covering the leftovers in  if you just want to put the entire pot in the fridge  We did that with our spaghetti sauce  So it s well worth being a companion purchase Overall  we are happy with it and it is giving us an opportunity to try new recipes without a lot of effort  That in itself makes it worth the purchase ']"
      ]
     },
     "execution_count": 14,
     "metadata": {},
     "output_type": "execute_result"
    }
   ],
   "source": [
    "r_texts[0:1]"
   ]
  },
  {
   "cell_type": "code",
   "execution_count": 15,
   "metadata": {
    "collapsed": true
   },
   "outputs": [],
   "source": [
    "r_titles = list( map( lambda x: re.sub(\"[^a-zA-Z]\", \"\", x.text ), review_titles ) )"
   ]
  },
  {
   "cell_type": "code",
   "execution_count": 16,
   "metadata": {
    "collapsed": true
   },
   "outputs": [],
   "source": [
    "import pandas as pd\n",
    "review_df = pd.DataFrame( { \"title\": r_titles, \"text\": r_texts } )"
   ]
  },
  {
   "cell_type": "code",
   "execution_count": 17,
   "metadata": {},
   "outputs": [
    {
     "data": {
      "text/html": [
       "<div>\n",
       "<style>\n",
       "    .dataframe thead tr:only-child th {\n",
       "        text-align: right;\n",
       "    }\n",
       "\n",
       "    .dataframe thead th {\n",
       "        text-align: left;\n",
       "    }\n",
       "\n",
       "    .dataframe tbody tr th {\n",
       "        vertical-align: top;\n",
       "    }\n",
       "</style>\n",
       "<table border=\"1\" class=\"dataframe\">\n",
       "  <thead>\n",
       "    <tr style=\"text-align: right;\">\n",
       "      <th></th>\n",
       "      <th>text</th>\n",
       "      <th>title</th>\n",
       "    </tr>\n",
       "  </thead>\n",
       "  <tbody>\n",
       "    <tr>\n",
       "      <th>0</th>\n",
       "      <td>When I first heard about Instant Pot in the fa...</td>\n",
       "      <td>Itissurprisinglyconvenienttouse</td>\n",
       "    </tr>\n",
       "    <tr>\n",
       "      <th>1</th>\n",
       "      <td>I was terrified of this before it came  but ho...</td>\n",
       "      <td>Addtocartimmediately</td>\n",
       "    </tr>\n",
       "    <tr>\n",
       "      <th>2</th>\n",
       "      <td>UPDATED REVIEW AFTER   MONTH OF USE THIS POT I...</td>\n",
       "      <td>LIFECHANGINGAMAZING</td>\n",
       "    </tr>\n",
       "    <tr>\n",
       "      <th>3</th>\n",
       "      <td>I was excited to receive my new Mini a few day...</td>\n",
       "      <td>Verysmallcookerwilllikelyreturnuntried</td>\n",
       "    </tr>\n",
       "    <tr>\n",
       "      <th>4</th>\n",
       "      <td>Got error code c   pressure sensor faulty afte...</td>\n",
       "      <td>Disappointed</td>\n",
       "    </tr>\n",
       "  </tbody>\n",
       "</table>\n",
       "</div>"
      ],
      "text/plain": [
       "                                                text  \\\n",
       "0  When I first heard about Instant Pot in the fa...   \n",
       "1  I was terrified of this before it came  but ho...   \n",
       "2  UPDATED REVIEW AFTER   MONTH OF USE THIS POT I...   \n",
       "3  I was excited to receive my new Mini a few day...   \n",
       "4  Got error code c   pressure sensor faulty afte...   \n",
       "\n",
       "                                    title  \n",
       "0         Itissurprisinglyconvenienttouse  \n",
       "1                    Addtocartimmediately  \n",
       "2                     LIFECHANGINGAMAZING  \n",
       "3  Verysmallcookerwilllikelyreturnuntried  \n",
       "4                            Disappointed  "
      ]
     },
     "execution_count": 17,
     "metadata": {},
     "output_type": "execute_result"
    }
   ],
   "source": [
    "review_df[0:5]"
   ]
  },
  {
   "cell_type": "code",
   "execution_count": null,
   "metadata": {
    "collapsed": true
   },
   "outputs": [],
   "source": []
  }
 ],
 "metadata": {
  "kernelspec": {
   "display_name": "Python 3",
   "language": "python",
   "name": "python3"
  },
  "language_info": {
   "codemirror_mode": {
    "name": "ipython",
    "version": 3
   },
   "file_extension": ".py",
   "mimetype": "text/x-python",
   "name": "python",
   "nbconvert_exporter": "python",
   "pygments_lexer": "ipython3",
   "version": "3.5.3"
  }
 },
 "nbformat": 4,
 "nbformat_minor": 2
}
