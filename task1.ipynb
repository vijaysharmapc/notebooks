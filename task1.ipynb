{
 "cells": [
  {
   "cell_type": "code",
   "execution_count": 10,
   "metadata": {
    "collapsed": true
   },
   "outputs": [],
   "source": [
    "import requests\n",
    "from requests.auth import HTTPBasicAuth"
   ]
  },
  {
   "cell_type": "code",
   "execution_count": 52,
   "metadata": {
    "collapsed": true
   },
   "outputs": [],
   "source": [
    "r = requests.get('https://photoai.lotlinx.com/images/requests', auth=('testaccount5','984dc25e4e50'))"
   ]
  },
  {
   "cell_type": "code",
   "execution_count": 56,
   "metadata": {
    "collapsed": true
   },
   "outputs": [],
   "source": [
    "#r.text"
   ]
  },
  {
   "cell_type": "code",
   "execution_count": null,
   "metadata": {
    "collapsed": true
   },
   "outputs": [],
   "source": [
    "r = requests.post(\"https://photoai.lotlinx.com/images/optimize\", auth=('testaccount5','984dc25e4e50')\n",
    "                 data = )\n",
    "print(r.status_code, r.reason)"
   ]
  },
  {
   "cell_type": "code",
   "execution_count": 62,
   "metadata": {},
   "outputs": [
    {
     "data": {
      "text/plain": [
       "<Response [400]>"
      ]
     },
     "execution_count": 62,
     "metadata": {},
     "output_type": "execute_result"
    }
   ],
   "source": [
    "import requests\n",
    "url = 'https://photoai.lotlinx.com/images/optimize'\n",
    "files = {'media': open('/home/vijay/DATA_SCIENCE/lotLinx/images/jeep_wrangler_unlimited_2014_1C4BJWFG3EL326863_7416_2_339187295.jpg', 'rb')}\n",
    "requests.post(url, files=files,auth=('testaccount5','984dc25e4e50'))\n",
    "\n"
   ]
  },
  {
   "cell_type": "code",
   "execution_count": 139,
   "metadata": {
    "collapsed": true
   },
   "outputs": [],
   "source": [
    "r = requests.post('https://photoai.lotlinx.com/images/optimize', json={\n",
    "\t\"dealerId\":1010\n",
    "\t,\"vehicles\":[\n",
    "\t\t{\n",
    "\t\t\t\"id\":299,\n",
    "\t\t\t\"images\":[\n",
    "\t\t\t\t{\n",
    "\t\t\t\"imageId\": 29\n",
    "\t\t\t,\"imageUrl\": \"https://img.lotlinx.com/vdn/7416/jeep_wrangler%20unlimited_2014_1C4BJWFG3EL326863_7416_339187295.jpg\"\n",
    "\t\t\t\t}]\n",
    "\t\t}]\n",
    "},auth=('testaccount5','984dc25e4e50'))"
   ]
  },
  {
   "cell_type": "code",
   "execution_count": 140,
   "metadata": {},
   "outputs": [
    {
     "data": {
      "text/plain": [
       "'{\"data\":[{\"token\":\"KKbIKkaFHal4aGU6BwvU7MD2XLSmzeZCqLohO0qr1H9Bdi9PQtLLIwoIcb2bWvMz\",\"status\":\"queued\"}],\"status\":200}'"
      ]
     },
     "execution_count": 140,
     "metadata": {},
     "output_type": "execute_result"
    }
   ],
   "source": [
    "r.text"
   ]
  },
  {
   "cell_type": "code",
   "execution_count": null,
   "metadata": {
    "collapsed": true
   },
   "outputs": [],
   "source": []
  },
  {
   "cell_type": "code",
   "execution_count": 29,
   "metadata": {
    "collapsed": true
   },
   "outputs": [],
   "source": [
    "import json\n",
    "import requests\n",
    "import time"
   ]
  },
  {
   "cell_type": "code",
   "execution_count": 30,
   "metadata": {
    "collapsed": true
   },
   "outputs": [],
   "source": [
    "# set image parameters\n",
    "img1 = \"https://img.lotlinx.com/vdn/7416/jeep_wrangler%20unlimited_2014_1C4BJWFG3EL326863_7416_339187295.jpg\"\n",
    "img2 = \"https://img.lotlinx.com/vdn/7416/jeep_wrangler%20unlimited_2014_1C4BJWFG3EL326863_7416_2_339187295.jpg\"\n",
    "img3 = \"https://img.lotlinx.com/vdn/7416/jeep_wrangler%20unlimited_2014_1C4BJWFG3EL326863_7416_3_339187295.jpg\"\n",
    "img4 = \"https://img.lotlinx.com/vdn/7416/jeep_wrangler%20unlimited_2014_1C4BJWFG3EL326863_7416_4_339187295.jpg\"\n",
    "img5 = \"https://img.lotlinx.com/vdn/7416/jeep_wrangler%20unlimited_2014_1C4BJWFG3EL326863_7416_5_339187295.jpg\"\n",
    "img_lst = [img1,img2,img3,img4,img5]"
   ]
  },
  {
   "cell_type": "code",
   "execution_count": 31,
   "metadata": {
    "collapsed": true
   },
   "outputs": [],
   "source": [
    "def json_maker(img_lst):\n",
    "    dealerId = 1\n",
    "    vid = 100\n",
    "    dct = {}\n",
    "    for url in img_lst:\n",
    "        my_json_string = {'dealerId':dealerId,'vehicles':[{\"id\":vid,\"images\":[{\"imageId\":vid,\"imageUrl\":url}]}]}\n",
    "        dct[dealerId] = my_json_string\n",
    "        print(my_json_string)\n",
    "        dealerId +=1\n",
    "        vid = dealerId + 100\n",
    "    return dct"
   ]
  },
  {
   "cell_type": "code",
   "execution_count": 32,
   "metadata": {},
   "outputs": [
    {
     "name": "stdout",
     "output_type": "stream",
     "text": [
      "{'dealerId': 1, 'vehicles': [{'id': 100, 'images': [{'imageUrl': 'https://img.lotlinx.com/vdn/7416/jeep_wrangler%20unlimited_2014_1C4BJWFG3EL326863_7416_339187295.jpg', 'imageId': 100}]}]}\n",
      "{'dealerId': 2, 'vehicles': [{'id': 102, 'images': [{'imageUrl': 'https://img.lotlinx.com/vdn/7416/jeep_wrangler%20unlimited_2014_1C4BJWFG3EL326863_7416_2_339187295.jpg', 'imageId': 102}]}]}\n",
      "{'dealerId': 3, 'vehicles': [{'id': 103, 'images': [{'imageUrl': 'https://img.lotlinx.com/vdn/7416/jeep_wrangler%20unlimited_2014_1C4BJWFG3EL326863_7416_3_339187295.jpg', 'imageId': 103}]}]}\n",
      "{'dealerId': 4, 'vehicles': [{'id': 104, 'images': [{'imageUrl': 'https://img.lotlinx.com/vdn/7416/jeep_wrangler%20unlimited_2014_1C4BJWFG3EL326863_7416_4_339187295.jpg', 'imageId': 104}]}]}\n",
      "{'dealerId': 5, 'vehicles': [{'id': 105, 'images': [{'imageUrl': 'https://img.lotlinx.com/vdn/7416/jeep_wrangler%20unlimited_2014_1C4BJWFG3EL326863_7416_5_339187295.jpg', 'imageId': 105}]}]}\n"
     ]
    }
   ],
   "source": [
    "json_dct = json_maker(img_lst)"
   ]
  },
  {
   "cell_type": "code",
   "execution_count": 33,
   "metadata": {
    "collapsed": true
   },
   "outputs": [],
   "source": [
    "token_status = {}\n",
    "for k,v in json_dct.items():\n",
    "    json_body = v\n",
    "    r = requests.post('https://photoai.lotlinx.com/images/optimize', json=json_body,auth=('testaccount5','984dc25e4e50'))\n",
    "    #print(r.text)\n",
    "    rdct= r.json()\n",
    "    token = rdct['data'][0]['token']\n",
    "    status = rdct['data'][0]['status']\n",
    "    #print(\"Token :\",token)\n",
    "    #print(\"Status :\",status)\n",
    "    token_status[token] = status"
   ]
  },
  {
   "cell_type": "code",
   "execution_count": 34,
   "metadata": {},
   "outputs": [
    {
     "data": {
      "text/plain": [
       "{'6872CWAapkBXkGSbnBDg6VmwZ2x2EWjJQR6v4YcI9um7J3AdpxDqofEFoPUreYQw': 'queued',\n",
       " 'HTZ3Vnls4Gwfxs3hWX5Vs7OKOoS46rbnJDOqzq7NQIzyUx4VGKSVmvR1UAAiXxGZ': 'queued',\n",
       " 'Xz24wsOkOaRnXxQethfK72ettAqlEAlwkmRiMtAWjTnClUmpLiy8XzrdknsDgid4': 'queued',\n",
       " 'YQ6R7u2ddYcBSlng3UvlSFuoJldBSZil4zoTE5dde9PQn7vJRFPwBYDSx4U5WkKJ': 'queued',\n",
       " 'cjGl5b5Qq5e6HoSIc03nOeoLwVD8VrMM6KaqIuImP7WydJmbnHGNyOJBMhoNYhQi': 'queued'}"
      ]
     },
     "execution_count": 34,
     "metadata": {},
     "output_type": "execute_result"
    }
   ],
   "source": [
    "token_status"
   ]
  },
  {
   "cell_type": "code",
   "execution_count": 35,
   "metadata": {
    "collapsed": true
   },
   "outputs": [],
   "source": [
    "#import threading\n",
    "def poll_api():\n",
    "    count = 0\n",
    "    stme = time.time()\n",
    "    token_status_poll = {}\n",
    "    print (\"Status poll has started at \", stme)\n",
    "    while count <= 15:\n",
    "        for k,v in token_status.items():\n",
    "            r = requests.get('https://photoai.lotlinx.com/images/{}/status'.format(k), auth=('testaccount5','984dc25e4e50'))\n",
    "            rdct= r.json()\n",
    "            token = rdct['data'][0]['token']\n",
    "            status = rdct['data'][0]['status']\n",
    "            token_status_poll[token] = status            \n",
    "            \n",
    "        count+=1\n",
    "        print(token_status_poll)\n",
    "        time.sleep(3)\n",
    "    stptme = time.time()\n",
    "    print (\"Status poll has stopped at \", stptme)      "
   ]
  },
  {
   "cell_type": "code",
   "execution_count": 36,
   "metadata": {},
   "outputs": [
    {
     "name": "stdout",
     "output_type": "stream",
     "text": [
      "Status poll has started at  1526744392.2154686\n",
      "{'Xz24wsOkOaRnXxQethfK72ettAqlEAlwkmRiMtAWjTnClUmpLiy8XzrdknsDgid4': 'queued', '6872CWAapkBXkGSbnBDg6VmwZ2x2EWjJQR6v4YcI9um7J3AdpxDqofEFoPUreYQw': 'queued', 'HTZ3Vnls4Gwfxs3hWX5Vs7OKOoS46rbnJDOqzq7NQIzyUx4VGKSVmvR1UAAiXxGZ': 'queued', 'YQ6R7u2ddYcBSlng3UvlSFuoJldBSZil4zoTE5dde9PQn7vJRFPwBYDSx4U5WkKJ': 'queued', 'cjGl5b5Qq5e6HoSIc03nOeoLwVD8VrMM6KaqIuImP7WydJmbnHGNyOJBMhoNYhQi': 'queued'}\n",
      "{'Xz24wsOkOaRnXxQethfK72ettAqlEAlwkmRiMtAWjTnClUmpLiy8XzrdknsDgid4': 'queued', '6872CWAapkBXkGSbnBDg6VmwZ2x2EWjJQR6v4YcI9um7J3AdpxDqofEFoPUreYQw': 'queued', 'HTZ3Vnls4Gwfxs3hWX5Vs7OKOoS46rbnJDOqzq7NQIzyUx4VGKSVmvR1UAAiXxGZ': 'queued', 'YQ6R7u2ddYcBSlng3UvlSFuoJldBSZil4zoTE5dde9PQn7vJRFPwBYDSx4U5WkKJ': 'queued', 'cjGl5b5Qq5e6HoSIc03nOeoLwVD8VrMM6KaqIuImP7WydJmbnHGNyOJBMhoNYhQi': 'queued'}\n",
      "{'Xz24wsOkOaRnXxQethfK72ettAqlEAlwkmRiMtAWjTnClUmpLiy8XzrdknsDgid4': 'queued', '6872CWAapkBXkGSbnBDg6VmwZ2x2EWjJQR6v4YcI9um7J3AdpxDqofEFoPUreYQw': 'queued', 'HTZ3Vnls4Gwfxs3hWX5Vs7OKOoS46rbnJDOqzq7NQIzyUx4VGKSVmvR1UAAiXxGZ': 'queued', 'YQ6R7u2ddYcBSlng3UvlSFuoJldBSZil4zoTE5dde9PQn7vJRFPwBYDSx4U5WkKJ': 'queued', 'cjGl5b5Qq5e6HoSIc03nOeoLwVD8VrMM6KaqIuImP7WydJmbnHGNyOJBMhoNYhQi': 'queued'}\n",
      "{'Xz24wsOkOaRnXxQethfK72ettAqlEAlwkmRiMtAWjTnClUmpLiy8XzrdknsDgid4': 'queued', '6872CWAapkBXkGSbnBDg6VmwZ2x2EWjJQR6v4YcI9um7J3AdpxDqofEFoPUreYQw': 'queued', 'HTZ3Vnls4Gwfxs3hWX5Vs7OKOoS46rbnJDOqzq7NQIzyUx4VGKSVmvR1UAAiXxGZ': 'queued', 'YQ6R7u2ddYcBSlng3UvlSFuoJldBSZil4zoTE5dde9PQn7vJRFPwBYDSx4U5WkKJ': 'queued', 'cjGl5b5Qq5e6HoSIc03nOeoLwVD8VrMM6KaqIuImP7WydJmbnHGNyOJBMhoNYhQi': 'queued'}\n",
      "{'Xz24wsOkOaRnXxQethfK72ettAqlEAlwkmRiMtAWjTnClUmpLiy8XzrdknsDgid4': 'queued', '6872CWAapkBXkGSbnBDg6VmwZ2x2EWjJQR6v4YcI9um7J3AdpxDqofEFoPUreYQw': 'queued', 'HTZ3Vnls4Gwfxs3hWX5Vs7OKOoS46rbnJDOqzq7NQIzyUx4VGKSVmvR1UAAiXxGZ': 'queued', 'YQ6R7u2ddYcBSlng3UvlSFuoJldBSZil4zoTE5dde9PQn7vJRFPwBYDSx4U5WkKJ': 'queued', 'cjGl5b5Qq5e6HoSIc03nOeoLwVD8VrMM6KaqIuImP7WydJmbnHGNyOJBMhoNYhQi': 'queued'}\n",
      "{'Xz24wsOkOaRnXxQethfK72ettAqlEAlwkmRiMtAWjTnClUmpLiy8XzrdknsDgid4': 'queued', '6872CWAapkBXkGSbnBDg6VmwZ2x2EWjJQR6v4YcI9um7J3AdpxDqofEFoPUreYQw': 'queued', 'HTZ3Vnls4Gwfxs3hWX5Vs7OKOoS46rbnJDOqzq7NQIzyUx4VGKSVmvR1UAAiXxGZ': 'queued', 'YQ6R7u2ddYcBSlng3UvlSFuoJldBSZil4zoTE5dde9PQn7vJRFPwBYDSx4U5WkKJ': 'queued', 'cjGl5b5Qq5e6HoSIc03nOeoLwVD8VrMM6KaqIuImP7WydJmbnHGNyOJBMhoNYhQi': 'queued'}\n",
      "{'Xz24wsOkOaRnXxQethfK72ettAqlEAlwkmRiMtAWjTnClUmpLiy8XzrdknsDgid4': 'queued', '6872CWAapkBXkGSbnBDg6VmwZ2x2EWjJQR6v4YcI9um7J3AdpxDqofEFoPUreYQw': 'queued', 'HTZ3Vnls4Gwfxs3hWX5Vs7OKOoS46rbnJDOqzq7NQIzyUx4VGKSVmvR1UAAiXxGZ': 'queued', 'YQ6R7u2ddYcBSlng3UvlSFuoJldBSZil4zoTE5dde9PQn7vJRFPwBYDSx4U5WkKJ': 'complete', 'cjGl5b5Qq5e6HoSIc03nOeoLwVD8VrMM6KaqIuImP7WydJmbnHGNyOJBMhoNYhQi': 'queued'}\n",
      "{'Xz24wsOkOaRnXxQethfK72ettAqlEAlwkmRiMtAWjTnClUmpLiy8XzrdknsDgid4': 'queued', '6872CWAapkBXkGSbnBDg6VmwZ2x2EWjJQR6v4YcI9um7J3AdpxDqofEFoPUreYQw': 'queued', 'HTZ3Vnls4Gwfxs3hWX5Vs7OKOoS46rbnJDOqzq7NQIzyUx4VGKSVmvR1UAAiXxGZ': 'queued', 'YQ6R7u2ddYcBSlng3UvlSFuoJldBSZil4zoTE5dde9PQn7vJRFPwBYDSx4U5WkKJ': 'complete', 'cjGl5b5Qq5e6HoSIc03nOeoLwVD8VrMM6KaqIuImP7WydJmbnHGNyOJBMhoNYhQi': 'queued'}\n",
      "{'Xz24wsOkOaRnXxQethfK72ettAqlEAlwkmRiMtAWjTnClUmpLiy8XzrdknsDgid4': 'queued', '6872CWAapkBXkGSbnBDg6VmwZ2x2EWjJQR6v4YcI9um7J3AdpxDqofEFoPUreYQw': 'complete', 'HTZ3Vnls4Gwfxs3hWX5Vs7OKOoS46rbnJDOqzq7NQIzyUx4VGKSVmvR1UAAiXxGZ': 'queued', 'YQ6R7u2ddYcBSlng3UvlSFuoJldBSZil4zoTE5dde9PQn7vJRFPwBYDSx4U5WkKJ': 'complete', 'cjGl5b5Qq5e6HoSIc03nOeoLwVD8VrMM6KaqIuImP7WydJmbnHGNyOJBMhoNYhQi': 'queued'}\n",
      "{'Xz24wsOkOaRnXxQethfK72ettAqlEAlwkmRiMtAWjTnClUmpLiy8XzrdknsDgid4': 'queued', '6872CWAapkBXkGSbnBDg6VmwZ2x2EWjJQR6v4YcI9um7J3AdpxDqofEFoPUreYQw': 'complete', 'HTZ3Vnls4Gwfxs3hWX5Vs7OKOoS46rbnJDOqzq7NQIzyUx4VGKSVmvR1UAAiXxGZ': 'queued', 'YQ6R7u2ddYcBSlng3UvlSFuoJldBSZil4zoTE5dde9PQn7vJRFPwBYDSx4U5WkKJ': 'complete', 'cjGl5b5Qq5e6HoSIc03nOeoLwVD8VrMM6KaqIuImP7WydJmbnHGNyOJBMhoNYhQi': 'queued'}\n",
      "{'Xz24wsOkOaRnXxQethfK72ettAqlEAlwkmRiMtAWjTnClUmpLiy8XzrdknsDgid4': 'queued', '6872CWAapkBXkGSbnBDg6VmwZ2x2EWjJQR6v4YcI9um7J3AdpxDqofEFoPUreYQw': 'complete', 'HTZ3Vnls4Gwfxs3hWX5Vs7OKOoS46rbnJDOqzq7NQIzyUx4VGKSVmvR1UAAiXxGZ': 'complete', 'YQ6R7u2ddYcBSlng3UvlSFuoJldBSZil4zoTE5dde9PQn7vJRFPwBYDSx4U5WkKJ': 'complete', 'cjGl5b5Qq5e6HoSIc03nOeoLwVD8VrMM6KaqIuImP7WydJmbnHGNyOJBMhoNYhQi': 'queued'}\n",
      "{'Xz24wsOkOaRnXxQethfK72ettAqlEAlwkmRiMtAWjTnClUmpLiy8XzrdknsDgid4': 'queued', '6872CWAapkBXkGSbnBDg6VmwZ2x2EWjJQR6v4YcI9um7J3AdpxDqofEFoPUreYQw': 'complete', 'HTZ3Vnls4Gwfxs3hWX5Vs7OKOoS46rbnJDOqzq7NQIzyUx4VGKSVmvR1UAAiXxGZ': 'complete', 'YQ6R7u2ddYcBSlng3UvlSFuoJldBSZil4zoTE5dde9PQn7vJRFPwBYDSx4U5WkKJ': 'complete', 'cjGl5b5Qq5e6HoSIc03nOeoLwVD8VrMM6KaqIuImP7WydJmbnHGNyOJBMhoNYhQi': 'queued'}\n",
      "{'Xz24wsOkOaRnXxQethfK72ettAqlEAlwkmRiMtAWjTnClUmpLiy8XzrdknsDgid4': 'queued', '6872CWAapkBXkGSbnBDg6VmwZ2x2EWjJQR6v4YcI9um7J3AdpxDqofEFoPUreYQw': 'complete', 'HTZ3Vnls4Gwfxs3hWX5Vs7OKOoS46rbnJDOqzq7NQIzyUx4VGKSVmvR1UAAiXxGZ': 'complete', 'YQ6R7u2ddYcBSlng3UvlSFuoJldBSZil4zoTE5dde9PQn7vJRFPwBYDSx4U5WkKJ': 'complete', 'cjGl5b5Qq5e6HoSIc03nOeoLwVD8VrMM6KaqIuImP7WydJmbnHGNyOJBMhoNYhQi': 'complete'}\n",
      "{'Xz24wsOkOaRnXxQethfK72ettAqlEAlwkmRiMtAWjTnClUmpLiy8XzrdknsDgid4': 'queued', '6872CWAapkBXkGSbnBDg6VmwZ2x2EWjJQR6v4YcI9um7J3AdpxDqofEFoPUreYQw': 'complete', 'HTZ3Vnls4Gwfxs3hWX5Vs7OKOoS46rbnJDOqzq7NQIzyUx4VGKSVmvR1UAAiXxGZ': 'complete', 'YQ6R7u2ddYcBSlng3UvlSFuoJldBSZil4zoTE5dde9PQn7vJRFPwBYDSx4U5WkKJ': 'complete', 'cjGl5b5Qq5e6HoSIc03nOeoLwVD8VrMM6KaqIuImP7WydJmbnHGNyOJBMhoNYhQi': 'complete'}\n",
      "{'Xz24wsOkOaRnXxQethfK72ettAqlEAlwkmRiMtAWjTnClUmpLiy8XzrdknsDgid4': 'complete', '6872CWAapkBXkGSbnBDg6VmwZ2x2EWjJQR6v4YcI9um7J3AdpxDqofEFoPUreYQw': 'complete', 'HTZ3Vnls4Gwfxs3hWX5Vs7OKOoS46rbnJDOqzq7NQIzyUx4VGKSVmvR1UAAiXxGZ': 'complete', 'YQ6R7u2ddYcBSlng3UvlSFuoJldBSZil4zoTE5dde9PQn7vJRFPwBYDSx4U5WkKJ': 'complete', 'cjGl5b5Qq5e6HoSIc03nOeoLwVD8VrMM6KaqIuImP7WydJmbnHGNyOJBMhoNYhQi': 'complete'}\n",
      "{'Xz24wsOkOaRnXxQethfK72ettAqlEAlwkmRiMtAWjTnClUmpLiy8XzrdknsDgid4': 'complete', '6872CWAapkBXkGSbnBDg6VmwZ2x2EWjJQR6v4YcI9um7J3AdpxDqofEFoPUreYQw': 'complete', 'HTZ3Vnls4Gwfxs3hWX5Vs7OKOoS46rbnJDOqzq7NQIzyUx4VGKSVmvR1UAAiXxGZ': 'complete', 'YQ6R7u2ddYcBSlng3UvlSFuoJldBSZil4zoTE5dde9PQn7vJRFPwBYDSx4U5WkKJ': 'complete', 'cjGl5b5Qq5e6HoSIc03nOeoLwVD8VrMM6KaqIuImP7WydJmbnHGNyOJBMhoNYhQi': 'complete'}\n",
      "Status poll has stopped at  1526744472.4858742\n"
     ]
    }
   ],
   "source": [
    "poll_api()"
   ]
  },
  {
   "cell_type": "code",
   "execution_count": null,
   "metadata": {
    "collapsed": true
   },
   "outputs": [],
   "source": []
  },
  {
   "cell_type": "code",
   "execution_count": null,
   "metadata": {
    "collapsed": true
   },
   "outputs": [],
   "source": []
  },
  {
   "cell_type": "code",
   "execution_count": null,
   "metadata": {
    "collapsed": true
   },
   "outputs": [],
   "source": []
  }
 ],
 "metadata": {
  "kernelspec": {
   "display_name": "Python 3",
   "language": "python",
   "name": "python3"
  },
  "language_info": {
   "codemirror_mode": {
    "name": "ipython",
    "version": 3
   },
   "file_extension": ".py",
   "mimetype": "text/x-python",
   "name": "python",
   "nbconvert_exporter": "python",
   "pygments_lexer": "ipython3",
   "version": "3.5.3"
  }
 },
 "nbformat": 4,
 "nbformat_minor": 2
}
