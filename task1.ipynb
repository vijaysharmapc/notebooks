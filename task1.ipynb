{
 "cells": [
  {
   "cell_type": "code",
   "execution_count": 10,
   "metadata": {
    "collapsed": true
   },
   "outputs": [],
   "source": [
    "import requests\n",
    "from requests.auth import HTTPBasicAuth"
   ]
  },
  {
   "cell_type": "code",
   "execution_count": 52,
   "metadata": {
    "collapsed": true
   },
   "outputs": [],
   "source": [
    "r = requests.get('https://photoai.lotlinx.com/images/requests', auth=('testaccount5','984dc25e4e50'))"
   ]
  },
  {
   "cell_type": "code",
   "execution_count": 56,
   "metadata": {
    "collapsed": true
   },
   "outputs": [],
   "source": [
    "#r.text"
   ]
  },
  {
   "cell_type": "code",
   "execution_count": null,
   "metadata": {
    "collapsed": true
   },
   "outputs": [],
   "source": [
    "r = requests.post(\"https://photoai.lotlinx.com/images/optimize\", auth=('testaccount5','984dc25e4e50')\n",
    "                 data = )\n",
    "print(r.status_code, r.reason)"
   ]
  },
  {
   "cell_type": "code",
   "execution_count": 62,
   "metadata": {},
   "outputs": [
    {
     "data": {
      "text/plain": [
       "<Response [400]>"
      ]
     },
     "execution_count": 62,
     "metadata": {},
     "output_type": "execute_result"
    }
   ],
   "source": [
    "import requests\n",
    "url = 'https://photoai.lotlinx.com/images/optimize'\n",
    "files = {'media': open('/home/vijay/DATA_SCIENCE/lotLinx/images/jeep_wrangler_unlimited_2014_1C4BJWFG3EL326863_7416_2_339187295.jpg', 'rb')}\n",
    "requests.post(url, files=files,auth=('testaccount5','984dc25e4e50'))\n",
    "\n"
   ]
  },
  {
   "cell_type": "code",
   "execution_count": 139,
   "metadata": {
    "collapsed": true
   },
   "outputs": [],
   "source": [
    "r = requests.post('https://photoai.lotlinx.com/images/optimize', json={\n",
    "\t\"dealerId\":1010\n",
    "\t,\"vehicles\":[\n",
    "\t\t{\n",
    "\t\t\t\"id\":299,\n",
    "\t\t\t\"images\":[\n",
    "\t\t\t\t{\n",
    "\t\t\t\"imageId\": 29\n",
    "\t\t\t,\"imageUrl\": \"https://img.lotlinx.com/vdn/7416/jeep_wrangler%20unlimited_2014_1C4BJWFG3EL326863_7416_339187295.jpg\"\n",
    "\t\t\t\t}]\n",
    "\t\t}]\n",
    "},auth=('testaccount5','984dc25e4e50'))"
   ]
  },
  {
   "cell_type": "code",
   "execution_count": 140,
   "metadata": {},
   "outputs": [
    {
     "data": {
      "text/plain": [
       "'{\"data\":[{\"token\":\"KKbIKkaFHal4aGU6BwvU7MD2XLSmzeZCqLohO0qr1H9Bdi9PQtLLIwoIcb2bWvMz\",\"status\":\"queued\"}],\"status\":200}'"
      ]
     },
     "execution_count": 140,
     "metadata": {},
     "output_type": "execute_result"
    }
   ],
   "source": [
    "r.text"
   ]
  },
  {
   "cell_type": "code",
   "execution_count": null,
   "metadata": {
    "collapsed": true
   },
   "outputs": [],
   "source": []
  },
  {
   "cell_type": "code",
   "execution_count": 1,
   "metadata": {
    "collapsed": true
   },
   "outputs": [],
   "source": [
    "import json\n",
    "import requests"
   ]
  },
  {
   "cell_type": "code",
   "execution_count": 2,
   "metadata": {},
   "outputs": [],
   "source": [
    "# set image parameters\n",
    "img1 = \"https://img.lotlinx.com/vdn/7416/jeep_wrangler%20unlimited_2014_1C4BJWFG3EL326863_7416_339187295.jpg\"\n",
    "img2 = \"https://img.lotlinx.com/vdn/7416/jeep_wrangler%20unlimited_2014_1C4BJWFG3EL326863_7416_2_339187295.jpg\"\n",
    "img3 = \"https://img.lotlinx.com/vdn/7416/jeep_wrangler%20unlimited_2014_1C4BJWFG3EL326863_7416_3_339187295.jpg\"\n",
    "img4 = \"https://img.lotlinx.com/vdn/7416/jeep_wrangler%20unlimited_2014_1C4BJWFG3EL326863_7416_4_339187295.jpg\"\n",
    "img5 = \"https://img.lotlinx.com/vdn/7416/jeep_wrangler%20unlimited_2014_1C4BJWFG3EL326863_7416_5_339187295.jpg\"\n",
    "img_lst = [img1,img2,img3,img4,img5]"
   ]
  },
  {
   "cell_type": "code",
   "execution_count": 28,
   "metadata": {},
   "outputs": [],
   "source": [
    "def json_maker(img_lst):\n",
    "    dealerId = 1\n",
    "    vid = 100\n",
    "    dct = {}\n",
    "    for url in img_lst:\n",
    "        my_json_string = {'dealerId':dealerId,'vehicles':[{\"id\":vid,\"images\":[{\"imageId\":vid,\"imageUrl\":url}]}]}\n",
    "        dct[dealerId] = my_json_string\n",
    "        print(my_json_string)\n",
    "        dealerId +=1\n",
    "        vid = dealerId + 100\n",
    "    return dct"
   ]
  },
  {
   "cell_type": "code",
   "execution_count": 29,
   "metadata": {},
   "outputs": [
    {
     "name": "stdout",
     "output_type": "stream",
     "text": [
      "{'dealerId': 1, 'vehicles': [{'images': [{'imageId': 100, 'imageUrl': 'https://img.lotlinx.com/vdn/7416/jeep_wrangler%20unlimited_2014_1C4BJWFG3EL326863_7416_339187295.jpg'}], 'id': 100}]}\n",
      "{'dealerId': 2, 'vehicles': [{'images': [{'imageId': 102, 'imageUrl': 'https://img.lotlinx.com/vdn/7416/jeep_wrangler%20unlimited_2014_1C4BJWFG3EL326863_7416_2_339187295.jpg'}], 'id': 102}]}\n",
      "{'dealerId': 3, 'vehicles': [{'images': [{'imageId': 103, 'imageUrl': 'https://img.lotlinx.com/vdn/7416/jeep_wrangler%20unlimited_2014_1C4BJWFG3EL326863_7416_3_339187295.jpg'}], 'id': 103}]}\n",
      "{'dealerId': 4, 'vehicles': [{'images': [{'imageId': 104, 'imageUrl': 'https://img.lotlinx.com/vdn/7416/jeep_wrangler%20unlimited_2014_1C4BJWFG3EL326863_7416_4_339187295.jpg'}], 'id': 104}]}\n",
      "{'dealerId': 5, 'vehicles': [{'images': [{'imageId': 105, 'imageUrl': 'https://img.lotlinx.com/vdn/7416/jeep_wrangler%20unlimited_2014_1C4BJWFG3EL326863_7416_5_339187295.jpg'}], 'id': 105}]}\n"
     ]
    }
   ],
   "source": [
    "json_dct = json_maker(img_lst)"
   ]
  },
  {
   "cell_type": "code",
   "execution_count": 30,
   "metadata": {},
   "outputs": [],
   "source": [
    "token_status = {}\n",
    "for k,v in json_dct.items():\n",
    "    json_body = v\n",
    "    r = requests.post('https://photoai.lotlinx.com/images/optimize', json=json_body,auth=('testaccount5','984dc25e4e50'))\n",
    "    #print(r.text)\n",
    "    rdct= r.json()\n",
    "    token = rdct['data'][0]['token']\n",
    "    status = rdct['data'][0]['status']\n",
    "    #print(\"Token :\",token)\n",
    "    #print(\"Status :\",status)\n",
    "    token_status[token] = status"
   ]
  },
  {
   "cell_type": "code",
   "execution_count": 31,
   "metadata": {},
   "outputs": [
    {
     "data": {
      "text/plain": [
       "{'0eslO4uyb49CBCtdGK05kXT1PQVo9lYClI18GITd5tLYDeXluG0U8MN7iDSPNqOm': 'queued',\n",
       " '4O9xaTIZ6a9tRphFqSaorkewfwphuK0vfvG10PlectVzVU7uh0evOEC0gwzEExxt': 'queued',\n",
       " 'AKm3ZW5A0Tm8YtmNsOGwZP2ELX7Yp20ToiU1kY7iysceTWnOHaXOBxyLj4yfoRND': 'queued',\n",
       " 'ZhQE73A4AyxxWoynRuUQ5SVpQMTOVWwyCa0fjUx5wmp7Pd6jlYkvj8s6SLcL6P34': 'queued',\n",
       " 'pNcvrozpXQndxpjKvOPzxVx4xZKg8K6YOU7KQWYf2yky4BCUhpg4YhgSW4sxRjql': 'queued'}"
      ]
     },
     "execution_count": 31,
     "metadata": {},
     "output_type": "execute_result"
    }
   ],
   "source": [
    "token_status"
   ]
  },
  {
   "cell_type": "code",
   "execution_count": 32,
   "metadata": {},
   "outputs": [
    {
     "data": {
      "text/plain": [
       "'{\"meta\":{\"url\":\"http://photoai.lotlinx.com/images/wZvXV0wJ4wpY1C6DobgjYLjbBKqZ6bY3eC8MlnysRdEKQtWrnCvn2n12qOgsM2Ow\"},\"data\":[{\"token\":\"wZvXV0wJ4wpY1C6DobgjYLjbBKqZ6bY3eC8MlnysRdEKQtWrnCvn2n12qOgsM2Ow\",\"status\":\"complete\"}],\"status\":200}'"
      ]
     },
     "execution_count": 32,
     "metadata": {},
     "output_type": "execute_result"
    }
   ],
   "source": [
    "# check status\n",
    "import threading\n",
    "token = 'wZvXV0wJ4wpY1C6DobgjYLjbBKqZ6bY3eC8MlnysRdEKQtWrnCvn2n12qOgsM2Ow'\n",
    "r = requests.get('https://photoai.lotlinx.com/images/{}/status'.format(token), auth=('testaccount5','984dc25e4e50'))\n",
    "r.text"
   ]
  },
  {
   "cell_type": "markdown",
   "metadata": {},
   "source": [
    "import requests\n",
    "\n",
    "r = requests.get('https://photoai.lotlinx.com//images/(%token)/status', auth=('testaccount5','984dc25e4e50'))\n",
    "r.text"
   ]
  },
  {
   "cell_type": "code",
   "execution_count": null,
   "metadata": {
    "collapsed": true
   },
   "outputs": [],
   "source": []
  },
  {
   "cell_type": "code",
   "execution_count": 35,
   "metadata": {
    "collapsed": true
   },
   "outputs": [],
   "source": [
    "import threading\n",
    "def printit():\n",
    "    t = threading.Timer(5.0, printit)\n",
    "    t.start()\n",
    "    \n",
    "    for k,v in token_status.items():\n",
    "        r = requests.get('https://photoai.lotlinx.com/images/{}/status'.format(k), auth=('testaccount5','984dc25e4e50'))\n",
    "        print(r.text)\n",
    "        \n",
    "        \n",
    "#    t.cancel()\n",
    "\n",
    "    \n",
    "    \n",
    "    \n",
    "#    print (\"Hello, World!\") \n",
    "\n"
   ]
  },
  {
   "cell_type": "code",
   "execution_count": 37,
   "metadata": {},
   "outputs": [
    {
     "name": "stdout",
     "output_type": "stream",
     "text": [
      "{\"data\":[{\"token\":\"pNcvrozpXQndxpjKvOPzxVx4xZKg8K6YOU7KQWYf2yky4BCUhpg4YhgSW4sxRjql\",\"status\":\"queued\"}],\"status\":200}\n",
      "{\"data\":[{\"token\":\"0eslO4uyb49CBCtdGK05kXT1PQVo9lYClI18GITd5tLYDeXluG0U8MN7iDSPNqOm\",\"status\":\"queued\"}],\"status\":200}\n",
      "{\"data\":[{\"token\":\"AKm3ZW5A0Tm8YtmNsOGwZP2ELX7Yp20ToiU1kY7iysceTWnOHaXOBxyLj4yfoRND\",\"status\":\"queued\"}],\"status\":200}\n",
      "{\"data\":[{\"token\":\"ZhQE73A4AyxxWoynRuUQ5SVpQMTOVWwyCa0fjUx5wmp7Pd6jlYkvj8s6SLcL6P34\",\"status\":\"queued\"}],\"status\":200}\n",
      "{\"data\":[{\"token\":\"4O9xaTIZ6a9tRphFqSaorkewfwphuK0vfvG10PlectVzVU7uh0evOEC0gwzEExxt\",\"status\":\"queued\"}],\"status\":200}\n",
      "{\"data\":[{\"token\":\"pNcvrozpXQndxpjKvOPzxVx4xZKg8K6YOU7KQWYf2yky4BCUhpg4YhgSW4sxRjql\",\"status\":\"queued\"}],\"status\":200}\n",
      "{\"data\":[{\"token\":\"0eslO4uyb49CBCtdGK05kXT1PQVo9lYClI18GITd5tLYDeXluG0U8MN7iDSPNqOm\",\"status\":\"queued\"}],\"status\":200}\n",
      "{\"data\":[{\"token\":\"AKm3ZW5A0Tm8YtmNsOGwZP2ELX7Yp20ToiU1kY7iysceTWnOHaXOBxyLj4yfoRND\",\"status\":\"queued\"}],\"status\":200}\n",
      "{\"data\":[{\"token\":\"ZhQE73A4AyxxWoynRuUQ5SVpQMTOVWwyCa0fjUx5wmp7Pd6jlYkvj8s6SLcL6P34\",\"status\":\"queued\"}],\"status\":200}\n",
      "{\"meta\":{\"url\":\"http://photoai.lotlinx.com/images/4O9xaTIZ6a9tRphFqSaorkewfwphuK0vfvG10PlectVzVU7uh0evOEC0gwzEExxt\"},\"data\":[{\"token\":\"4O9xaTIZ6a9tRphFqSaorkewfwphuK0vfvG10PlectVzVU7uh0evOEC0gwzEExxt\",\"status\":\"complete\"}],\"status\":200}\n",
      "{\"data\":[{\"token\":\"pNcvrozpXQndxpjKvOPzxVx4xZKg8K6YOU7KQWYf2yky4BCUhpg4YhgSW4sxRjql\",\"status\":\"queued\"}],\"status\":200}\n",
      "{\"data\":[{\"token\":\"0eslO4uyb49CBCtdGK05kXT1PQVo9lYClI18GITd5tLYDeXluG0U8MN7iDSPNqOm\",\"status\":\"queued\"}],\"status\":200}\n",
      "{\"data\":[{\"token\":\"AKm3ZW5A0Tm8YtmNsOGwZP2ELX7Yp20ToiU1kY7iysceTWnOHaXOBxyLj4yfoRND\",\"status\":\"queued\"}],\"status\":200}\n",
      "{\"data\":[{\"token\":\"ZhQE73A4AyxxWoynRuUQ5SVpQMTOVWwyCa0fjUx5wmp7Pd6jlYkvj8s6SLcL6P34\",\"status\":\"queued\"}],\"status\":200}\n",
      "{\"meta\":{\"url\":\"http://photoai.lotlinx.com/images/4O9xaTIZ6a9tRphFqSaorkewfwphuK0vfvG10PlectVzVU7uh0evOEC0gwzEExxt\"},\"data\":[{\"token\":\"4O9xaTIZ6a9tRphFqSaorkewfwphuK0vfvG10PlectVzVU7uh0evOEC0gwzEExxt\",\"status\":\"complete\"}],\"status\":200}\n",
      "{\"data\":[{\"token\":\"pNcvrozpXQndxpjKvOPzxVx4xZKg8K6YOU7KQWYf2yky4BCUhpg4YhgSW4sxRjql\",\"status\":\"queued\"}],\"status\":200}\n",
      "{\"data\":[{\"token\":\"0eslO4uyb49CBCtdGK05kXT1PQVo9lYClI18GITd5tLYDeXluG0U8MN7iDSPNqOm\",\"status\":\"queued\"}],\"status\":200}\n",
      "{\"meta\":{\"url\":\"http://photoai.lotlinx.com/images/AKm3ZW5A0Tm8YtmNsOGwZP2ELX7Yp20ToiU1kY7iysceTWnOHaXOBxyLj4yfoRND\"},\"data\":[{\"token\":\"AKm3ZW5A0Tm8YtmNsOGwZP2ELX7Yp20ToiU1kY7iysceTWnOHaXOBxyLj4yfoRND\",\"status\":\"complete\"}],\"status\":200}\n",
      "{\"data\":[{\"token\":\"ZhQE73A4AyxxWoynRuUQ5SVpQMTOVWwyCa0fjUx5wmp7Pd6jlYkvj8s6SLcL6P34\",\"status\":\"queued\"}],\"status\":200}\n",
      "{\"meta\":{\"url\":\"http://photoai.lotlinx.com/images/4O9xaTIZ6a9tRphFqSaorkewfwphuK0vfvG10PlectVzVU7uh0evOEC0gwzEExxt\"},\"data\":[{\"token\":\"4O9xaTIZ6a9tRphFqSaorkewfwphuK0vfvG10PlectVzVU7uh0evOEC0gwzEExxt\",\"status\":\"complete\"}],\"status\":200}\n",
      "{\"data\":[{\"token\":\"pNcvrozpXQndxpjKvOPzxVx4xZKg8K6YOU7KQWYf2yky4BCUhpg4YhgSW4sxRjql\",\"status\":\"queued\"}],\"status\":200}\n",
      "{\"data\":[{\"token\":\"0eslO4uyb49CBCtdGK05kXT1PQVo9lYClI18GITd5tLYDeXluG0U8MN7iDSPNqOm\",\"status\":\"queued\"}],\"status\":200}\n",
      "{\"meta\":{\"url\":\"http://photoai.lotlinx.com/images/AKm3ZW5A0Tm8YtmNsOGwZP2ELX7Yp20ToiU1kY7iysceTWnOHaXOBxyLj4yfoRND\"},\"data\":[{\"token\":\"AKm3ZW5A0Tm8YtmNsOGwZP2ELX7Yp20ToiU1kY7iysceTWnOHaXOBxyLj4yfoRND\",\"status\":\"complete\"}],\"status\":200}\n",
      "{\"data\":[{\"token\":\"ZhQE73A4AyxxWoynRuUQ5SVpQMTOVWwyCa0fjUx5wmp7Pd6jlYkvj8s6SLcL6P34\",\"status\":\"queued\"}],\"status\":200}\n",
      "{\"meta\":{\"url\":\"http://photoai.lotlinx.com/images/4O9xaTIZ6a9tRphFqSaorkewfwphuK0vfvG10PlectVzVU7uh0evOEC0gwzEExxt\"},\"data\":[{\"token\":\"4O9xaTIZ6a9tRphFqSaorkewfwphuK0vfvG10PlectVzVU7uh0evOEC0gwzEExxt\",\"status\":\"complete\"}],\"status\":200}\n",
      "{\"meta\":{\"url\":\"http://photoai.lotlinx.com/images/pNcvrozpXQndxpjKvOPzxVx4xZKg8K6YOU7KQWYf2yky4BCUhpg4YhgSW4sxRjql\"},\"data\":[{\"token\":\"pNcvrozpXQndxpjKvOPzxVx4xZKg8K6YOU7KQWYf2yky4BCUhpg4YhgSW4sxRjql\",\"status\":\"complete\"}],\"status\":200}\n",
      "{\"data\":[{\"token\":\"0eslO4uyb49CBCtdGK05kXT1PQVo9lYClI18GITd5tLYDeXluG0U8MN7iDSPNqOm\",\"status\":\"queued\"}],\"status\":200}\n",
      "{\"meta\":{\"url\":\"http://photoai.lotlinx.com/images/AKm3ZW5A0Tm8YtmNsOGwZP2ELX7Yp20ToiU1kY7iysceTWnOHaXOBxyLj4yfoRND\"},\"data\":[{\"token\":\"AKm3ZW5A0Tm8YtmNsOGwZP2ELX7Yp20ToiU1kY7iysceTWnOHaXOBxyLj4yfoRND\",\"status\":\"complete\"}],\"status\":200}\n",
      "{\"data\":[{\"token\":\"ZhQE73A4AyxxWoynRuUQ5SVpQMTOVWwyCa0fjUx5wmp7Pd6jlYkvj8s6SLcL6P34\",\"status\":\"queued\"}],\"status\":200}\n",
      "{\"meta\":{\"url\":\"http://photoai.lotlinx.com/images/4O9xaTIZ6a9tRphFqSaorkewfwphuK0vfvG10PlectVzVU7uh0evOEC0gwzEExxt\"},\"data\":[{\"token\":\"4O9xaTIZ6a9tRphFqSaorkewfwphuK0vfvG10PlectVzVU7uh0evOEC0gwzEExxt\",\"status\":\"complete\"}],\"status\":200}\n",
      "{\"meta\":{\"url\":\"http://photoai.lotlinx.com/images/pNcvrozpXQndxpjKvOPzxVx4xZKg8K6YOU7KQWYf2yky4BCUhpg4YhgSW4sxRjql\"},\"data\":[{\"token\":\"pNcvrozpXQndxpjKvOPzxVx4xZKg8K6YOU7KQWYf2yky4BCUhpg4YhgSW4sxRjql\",\"status\":\"complete\"}],\"status\":200}\n",
      "{\"data\":[{\"token\":\"0eslO4uyb49CBCtdGK05kXT1PQVo9lYClI18GITd5tLYDeXluG0U8MN7iDSPNqOm\",\"status\":\"queued\"}],\"status\":200}\n",
      "{\"meta\":{\"url\":\"http://photoai.lotlinx.com/images/AKm3ZW5A0Tm8YtmNsOGwZP2ELX7Yp20ToiU1kY7iysceTWnOHaXOBxyLj4yfoRND\"},\"data\":[{\"token\":\"AKm3ZW5A0Tm8YtmNsOGwZP2ELX7Yp20ToiU1kY7iysceTWnOHaXOBxyLj4yfoRND\",\"status\":\"complete\"}],\"status\":200}\n",
      "{\"data\":[{\"token\":\"ZhQE73A4AyxxWoynRuUQ5SVpQMTOVWwyCa0fjUx5wmp7Pd6jlYkvj8s6SLcL6P34\",\"status\":\"queued\"}],\"status\":200}\n",
      "{\"meta\":{\"url\":\"http://photoai.lotlinx.com/images/4O9xaTIZ6a9tRphFqSaorkewfwphuK0vfvG10PlectVzVU7uh0evOEC0gwzEExxt\"},\"data\":[{\"token\":\"4O9xaTIZ6a9tRphFqSaorkewfwphuK0vfvG10PlectVzVU7uh0evOEC0gwzEExxt\",\"status\":\"complete\"}],\"status\":200}\n"
     ]
    }
   ],
   "source": [
    "printit()"
   ]
  },
  {
   "cell_type": "code",
   "execution_count": 19,
   "metadata": {
    "collapsed": true
   },
   "outputs": [],
   "source": [
    "printit(1)"
   ]
  },
  {
   "cell_type": "code",
   "execution_count": null,
   "metadata": {
    "collapsed": true
   },
   "outputs": [],
   "source": []
  }
 ],
 "metadata": {
  "kernelspec": {
   "display_name": "Python 3",
   "language": "python",
   "name": "python3"
  },
  "language_info": {
   "codemirror_mode": {
    "name": "ipython",
    "version": 3
   },
   "file_extension": ".py",
   "mimetype": "text/x-python",
   "name": "python",
   "nbconvert_exporter": "python",
   "pygments_lexer": "ipython3",
   "version": "3.5.3"
  }
 },
 "nbformat": 4,
 "nbformat_minor": 2
}
