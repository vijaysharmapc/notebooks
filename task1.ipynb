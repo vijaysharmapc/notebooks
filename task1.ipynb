{
 "cells": [
  {
   "cell_type": "code",
   "execution_count": 10,
   "metadata": {
    "collapsed": true
   },
   "outputs": [],
   "source": [
    "import requests\n",
    "from requests.auth import HTTPBasicAuth"
   ]
  },
  {
   "cell_type": "code",
   "execution_count": 52,
   "metadata": {
    "collapsed": true
   },
   "outputs": [],
   "source": [
    "r = requests.get('https://photoai.lotlinx.com/images/requests', auth=('testaccount5','984dc25e4e50'))"
   ]
  },
  {
   "cell_type": "code",
   "execution_count": 56,
   "metadata": {
    "collapsed": true
   },
   "outputs": [],
   "source": [
    "#r.text"
   ]
  },
  {
   "cell_type": "code",
   "execution_count": null,
   "metadata": {
    "collapsed": true
   },
   "outputs": [],
   "source": [
    "r = requests.post(\"https://photoai.lotlinx.com/images/optimize\", auth=('testaccount5','984dc25e4e50')\n",
    "                 data = )\n",
    "print(r.status_code, r.reason)"
   ]
  },
  {
   "cell_type": "code",
   "execution_count": 62,
   "metadata": {},
   "outputs": [
    {
     "data": {
      "text/plain": [
       "<Response [400]>"
      ]
     },
     "execution_count": 62,
     "metadata": {},
     "output_type": "execute_result"
    }
   ],
   "source": [
    "import requests\n",
    "url = 'https://photoai.lotlinx.com/images/optimize'\n",
    "files = {'media': open('/home/vijay/DATA_SCIENCE/lotLinx/images/jeep_wrangler_unlimited_2014_1C4BJWFG3EL326863_7416_2_339187295.jpg', 'rb')}\n",
    "requests.post(url, files=files,auth=('testaccount5','984dc25e4e50'))\n",
    "\n"
   ]
  },
  {
   "cell_type": "code",
   "execution_count": 139,
   "metadata": {
    "collapsed": true
   },
   "outputs": [],
   "source": [
    "r = requests.post('https://photoai.lotlinx.com/images/optimize', json={\n",
    "\t\"dealerId\":1010\n",
    "\t,\"vehicles\":[\n",
    "\t\t{\n",
    "\t\t\t\"id\":299,\n",
    "\t\t\t\"images\":[\n",
    "\t\t\t\t{\n",
    "\t\t\t\"imageId\": 29\n",
    "\t\t\t,\"imageUrl\": \"https://img.lotlinx.com/vdn/7416/jeep_wrangler%20unlimited_2014_1C4BJWFG3EL326863_7416_339187295.jpg\"\n",
    "\t\t\t\t}]\n",
    "\t\t}]\n",
    "},auth=('testaccount5','984dc25e4e50'))"
   ]
  },
  {
   "cell_type": "code",
   "execution_count": 140,
   "metadata": {},
   "outputs": [
    {
     "data": {
      "text/plain": [
       "'{\"data\":[{\"token\":\"KKbIKkaFHal4aGU6BwvU7MD2XLSmzeZCqLohO0qr1H9Bdi9PQtLLIwoIcb2bWvMz\",\"status\":\"queued\"}],\"status\":200}'"
      ]
     },
     "execution_count": 140,
     "metadata": {},
     "output_type": "execute_result"
    }
   ],
   "source": [
    "r.text"
   ]
  },
  {
   "cell_type": "code",
   "execution_count": null,
   "metadata": {
    "collapsed": true
   },
   "outputs": [],
   "source": []
  },
  {
   "cell_type": "code",
   "execution_count": 59,
   "metadata": {
    "collapsed": true
   },
   "outputs": [],
   "source": [
    "import json\n",
    "import requests"
   ]
  },
  {
   "cell_type": "code",
   "execution_count": 60,
   "metadata": {
    "collapsed": true
   },
   "outputs": [],
   "source": [
    "# set image parameters\n",
    "img1 = \"https://img.lotlinx.com/vdn/7416/jeep_wrangler%20unlimited_2014_1C4BJWFG3EL326863_7416_339187295.jpg\"\n",
    "img2 = \"https://img.lotlinx.com/vdn/7416/jeep_wrangler%20unlimited_2014_1C4BJWFG3EL326863_7416_2_339187295.jpg\"\n",
    "img3 = \"https://img.lotlinx.com/vdn/7416/jeep_wrangler%20unlimited_2014_1C4BJWFG3EL326863_7416_3_339187295.jpg\"\n",
    "img4 = \"https://img.lotlinx.com/vdn/7416/jeep_wrangler%20unlimited_2014_1C4BJWFG3EL326863_7416_4_339187295.jpg\"\n",
    "img5 = \"https://img.lotlinx.com/vdn/7416/jeep_wrangler%20unlimited_2014_1C4BJWFG3EL326863_7416_5_339187295.jpg\"\n",
    "img_lst = [img1,img2,img3,img4,img5]"
   ]
  },
  {
   "cell_type": "code",
   "execution_count": 179,
   "metadata": {},
   "outputs": [],
   "source": [
    "def json_maker(img_lst):\n",
    "    dealerId = 1\n",
    "    vid = 100\n",
    "    dct = {}\n",
    "    for url in img_lst:\n",
    "        my_json_string = {'dealerId':dealerId,'vehicles':[{\"id\":vid,\"images\":[{\"imageId\":vid,\"imageUrl\":url}]}]}\n",
    "        dct[dealerId] = my_json_string\n",
    "        print(my_json_string)\n",
    "        dealerId +=1\n",
    "        vid = dealerId + 100\n",
    "    return dct"
   ]
  },
  {
   "cell_type": "code",
   "execution_count": 180,
   "metadata": {},
   "outputs": [
    {
     "name": "stdout",
     "output_type": "stream",
     "text": [
      "{'dealerId': 1, 'vehicles': [{'id': 100, 'images': [{'imageId': 100, 'imageUrl': 'https://img.lotlinx.com/vdn/7416/jeep_wrangler%20unlimited_2014_1C4BJWFG3EL326863_7416_339187295.jpg'}]}]}\n",
      "{'dealerId': 2, 'vehicles': [{'id': 102, 'images': [{'imageId': 102, 'imageUrl': 'https://img.lotlinx.com/vdn/7416/jeep_wrangler%20unlimited_2014_1C4BJWFG3EL326863_7416_2_339187295.jpg'}]}]}\n",
      "{'dealerId': 3, 'vehicles': [{'id': 103, 'images': [{'imageId': 103, 'imageUrl': 'https://img.lotlinx.com/vdn/7416/jeep_wrangler%20unlimited_2014_1C4BJWFG3EL326863_7416_3_339187295.jpg'}]}]}\n",
      "{'dealerId': 4, 'vehicles': [{'id': 104, 'images': [{'imageId': 104, 'imageUrl': 'https://img.lotlinx.com/vdn/7416/jeep_wrangler%20unlimited_2014_1C4BJWFG3EL326863_7416_4_339187295.jpg'}]}]}\n",
      "{'dealerId': 5, 'vehicles': [{'id': 105, 'images': [{'imageId': 105, 'imageUrl': 'https://img.lotlinx.com/vdn/7416/jeep_wrangler%20unlimited_2014_1C4BJWFG3EL326863_7416_5_339187295.jpg'}]}]}\n"
     ]
    }
   ],
   "source": [
    "json_dct = json_maker(img_lst)"
   ]
  },
  {
   "cell_type": "code",
   "execution_count": 189,
   "metadata": {},
   "outputs": [
    {
     "name": "stdout",
     "output_type": "stream",
     "text": [
      "{\"data\":[{\"token\":\"r2VLlYbxa8SX4ioLYTrA6ftm28R1FTsMlwpqqI7O0hvyBCDwMvRmup4o6rjeHK7P\",\"status\":\"queued\"}],\"status\":200}\n",
      "{\"data\":[{\"token\":\"lePUiBpy3OD7JvMvSOTr5mLQKEQ5kQDSDsdgRVW8DkNy1OlVOia6Fd8AkxxjOP6m\",\"status\":\"queued\"}],\"status\":200}\n",
      "{\"data\":[{\"token\":\"DBzAXKJSXhxCGAhDQ1aqP5DzD9EX9PqeHWOmv7ONkQtgxtIcDGjaLasFquf6iHJs\",\"status\":\"queued\"}],\"status\":200}\n",
      "{\"data\":[{\"token\":\"drHeJ9S2OPZKZ6ZkMyBZQssMVP0HB2oUQq4gc4NAF2LjiuHrNTAmMraCvh2mrRQi\",\"status\":\"queued\"}],\"status\":200}\n",
      "{\"data\":[{\"token\":\"BVLyBXsNvfmzkhXuKJnE3ESC5VyvpBA8nWPRRYbTjlnUdk29ihwRtTsX0MhGugLg\",\"status\":\"queued\"}],\"status\":200}\n"
     ]
    }
   ],
   "source": [
    "for k,v in json_dct.items():\n",
    "    json_body = v\n",
    "    r = requests.post('https://photoai.lotlinx.com/images/optimize', json=json_body,auth=('testaccount5','984dc25e4e50'))\n",
    "    print(r.text)"
   ]
  },
  {
   "cell_type": "code",
   "execution_count": 155,
   "metadata": {
    "collapsed": true
   },
   "outputs": [],
   "source": []
  },
  {
   "cell_type": "code",
   "execution_count": 187,
   "metadata": {},
   "outputs": [
    {
     "data": {
      "text/plain": [
       "'{\"meta\":{\"url\":\"http://photoai.lotlinx.com/images/YRJE6GXhdpy6nkNxelDStPri4czZv8PzHS72AtLq7Go9ktFKqk2fudUOT6pRYUJb\"},\"data\":[{\"token\":\"YRJE6GXhdpy6nkNxelDStPri4czZv8PzHS72AtLq7Go9ktFKqk2fudUOT6pRYUJb\",\"status\":\"complete\"}],\"status\":200}'"
      ]
     },
     "execution_count": 187,
     "metadata": {},
     "output_type": "execute_result"
    }
   ],
   "source": [
    "import requests\n",
    "\n",
    "r = requests.get('https://photoai.lotlinx.com//images/YRJE6GXhdpy6nkNxelDStPri4czZv8PzHS72AtLq7Go9ktFKqk2fudUOT6pRYUJb/status', auth=('testaccount5','984dc25e4e50'))\n",
    "r.text"
   ]
  },
  {
   "cell_type": "code",
   "execution_count": null,
   "metadata": {
    "collapsed": true
   },
   "outputs": [],
   "source": []
  },
  {
   "cell_type": "code",
   "execution_count": null,
   "metadata": {
    "collapsed": true
   },
   "outputs": [],
   "source": []
  },
  {
   "cell_type": "code",
   "execution_count": null,
   "metadata": {
    "collapsed": true
   },
   "outputs": [],
   "source": []
  },
  {
   "cell_type": "code",
   "execution_count": null,
   "metadata": {
    "collapsed": true
   },
   "outputs": [],
   "source": []
  }
 ],
 "metadata": {
  "kernelspec": {
   "display_name": "Python 3",
   "language": "python",
   "name": "python3"
  },
  "language_info": {
   "codemirror_mode": {
    "name": "ipython",
    "version": 3
   },
   "file_extension": ".py",
   "mimetype": "text/x-python",
   "name": "python",
   "nbconvert_exporter": "python",
   "pygments_lexer": "ipython3",
   "version": "3.5.3"
  }
 },
 "nbformat": 4,
 "nbformat_minor": 2
}
