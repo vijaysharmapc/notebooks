{
 "cells": [
  {
   "cell_type": "code",
   "execution_count": 10,
   "metadata": {
    "collapsed": true
   },
   "outputs": [],
   "source": [
    "import requests\n",
    "from requests.auth import HTTPBasicAuth"
   ]
  },
  {
   "cell_type": "code",
   "execution_count": 52,
   "metadata": {
    "collapsed": true
   },
   "outputs": [],
   "source": [
    "r = requests.get('https://photoai.lotlinx.com/images/requests', auth=('testaccount5','984dc25e4e50'))"
   ]
  },
  {
   "cell_type": "code",
   "execution_count": 56,
   "metadata": {
    "collapsed": true
   },
   "outputs": [],
   "source": [
    "#r.text"
   ]
  },
  {
   "cell_type": "code",
   "execution_count": null,
   "metadata": {
    "collapsed": true
   },
   "outputs": [],
   "source": [
    "r = requests.post(\"https://photoai.lotlinx.com/images/optimize\", auth=('testaccount5','984dc25e4e50')\n",
    "                 data = )\n",
    "print(r.status_code, r.reason)"
   ]
  },
  {
   "cell_type": "code",
   "execution_count": 62,
   "metadata": {},
   "outputs": [
    {
     "data": {
      "text/plain": [
       "<Response [400]>"
      ]
     },
     "execution_count": 62,
     "metadata": {},
     "output_type": "execute_result"
    }
   ],
   "source": [
    "import requests\n",
    "url = 'https://photoai.lotlinx.com/images/optimize'\n",
    "files = {'media': open('/home/vijay/DATA_SCIENCE/lotLinx/images/jeep_wrangler_unlimited_2014_1C4BJWFG3EL326863_7416_2_339187295.jpg', 'rb')}\n",
    "requests.post(url, files=files,auth=('testaccount5','984dc25e4e50'))\n",
    "\n"
   ]
  },
  {
   "cell_type": "code",
   "execution_count": 139,
   "metadata": {
    "collapsed": true
   },
   "outputs": [],
   "source": [
    "r = requests.post('https://photoai.lotlinx.com/images/optimize', json={\n",
    "\t\"dealerId\":1010\n",
    "\t,\"vehicles\":[\n",
    "\t\t{\n",
    "\t\t\t\"id\":299,\n",
    "\t\t\t\"images\":[\n",
    "\t\t\t\t{\n",
    "\t\t\t\"imageId\": 29\n",
    "\t\t\t,\"imageUrl\": \"https://img.lotlinx.com/vdn/7416/jeep_wrangler%20unlimited_2014_1C4BJWFG3EL326863_7416_339187295.jpg\"\n",
    "\t\t\t\t}]\n",
    "\t\t}]\n",
    "},auth=('testaccount5','984dc25e4e50'))"
   ]
  },
  {
   "cell_type": "code",
   "execution_count": 140,
   "metadata": {},
   "outputs": [
    {
     "data": {
      "text/plain": [
       "'{\"data\":[{\"token\":\"KKbIKkaFHal4aGU6BwvU7MD2XLSmzeZCqLohO0qr1H9Bdi9PQtLLIwoIcb2bWvMz\",\"status\":\"queued\"}],\"status\":200}'"
      ]
     },
     "execution_count": 140,
     "metadata": {},
     "output_type": "execute_result"
    }
   ],
   "source": [
    "r.text"
   ]
  },
  {
   "cell_type": "code",
   "execution_count": null,
   "metadata": {
    "collapsed": true
   },
   "outputs": [],
   "source": []
  },
  {
   "cell_type": "code",
   "execution_count": 40,
   "metadata": {
    "collapsed": true
   },
   "outputs": [],
   "source": [
    "import json\n",
    "import requests\n",
    "import time"
   ]
  },
  {
   "cell_type": "code",
   "execution_count": 41,
   "metadata": {
    "collapsed": true
   },
   "outputs": [],
   "source": [
    "# set image parameters\n",
    "img1 = \"https://img.lotlinx.com/vdn/7416/jeep_wrangler%20unlimited_2014_1C4BJWFG3EL326863_7416_339187295.jpg\"\n",
    "img2 = \"https://img.lotlinx.com/vdn/7416/jeep_wrangler%20unlimited_2014_1C4BJWFG3EL326863_7416_2_339187295.jpg\"\n",
    "img3 = \"https://img.lotlinx.com/vdn/7416/jeep_wrangler%20unlimited_2014_1C4BJWFG3EL326863_7416_3_339187295.jpg\"\n",
    "img4 = \"https://img.lotlinx.com/vdn/7416/jeep_wrangler%20unlimited_2014_1C4BJWFG3EL326863_7416_4_339187295.jpg\"\n",
    "img5 = \"https://img.lotlinx.com/vdn/7416/jeep_wrangler%20unlimited_2014_1C4BJWFG3EL326863_7416_5_339187295.jpg\"\n",
    "img_lst = [img1,img2,img3,img4,img5]"
   ]
  },
  {
   "cell_type": "code",
   "execution_count": 42,
   "metadata": {
    "collapsed": true
   },
   "outputs": [],
   "source": [
    "def json_maker(img_lst):\n",
    "    dealerId = 1\n",
    "    vid = 100\n",
    "    dct = {}\n",
    "    for url in img_lst:\n",
    "        my_json_string = {'dealerId':dealerId,'vehicles':[{\"id\":vid,\"images\":[{\"imageId\":vid,\"imageUrl\":url}]}]}\n",
    "        dct[dealerId] = my_json_string\n",
    "        print(my_json_string)\n",
    "        dealerId +=1\n",
    "        vid = dealerId + 100\n",
    "    return dct"
   ]
  },
  {
   "cell_type": "code",
   "execution_count": 43,
   "metadata": {},
   "outputs": [
    {
     "name": "stdout",
     "output_type": "stream",
     "text": [
      "{'dealerId': 1, 'vehicles': [{'id': 100, 'images': [{'imageUrl': 'https://img.lotlinx.com/vdn/7416/jeep_wrangler%20unlimited_2014_1C4BJWFG3EL326863_7416_339187295.jpg', 'imageId': 100}]}]}\n",
      "{'dealerId': 2, 'vehicles': [{'id': 102, 'images': [{'imageUrl': 'https://img.lotlinx.com/vdn/7416/jeep_wrangler%20unlimited_2014_1C4BJWFG3EL326863_7416_2_339187295.jpg', 'imageId': 102}]}]}\n",
      "{'dealerId': 3, 'vehicles': [{'id': 103, 'images': [{'imageUrl': 'https://img.lotlinx.com/vdn/7416/jeep_wrangler%20unlimited_2014_1C4BJWFG3EL326863_7416_3_339187295.jpg', 'imageId': 103}]}]}\n",
      "{'dealerId': 4, 'vehicles': [{'id': 104, 'images': [{'imageUrl': 'https://img.lotlinx.com/vdn/7416/jeep_wrangler%20unlimited_2014_1C4BJWFG3EL326863_7416_4_339187295.jpg', 'imageId': 104}]}]}\n",
      "{'dealerId': 5, 'vehicles': [{'id': 105, 'images': [{'imageUrl': 'https://img.lotlinx.com/vdn/7416/jeep_wrangler%20unlimited_2014_1C4BJWFG3EL326863_7416_5_339187295.jpg', 'imageId': 105}]}]}\n"
     ]
    }
   ],
   "source": [
    "json_dct = json_maker(img_lst)"
   ]
  },
  {
   "cell_type": "code",
   "execution_count": 44,
   "metadata": {
    "collapsed": true
   },
   "outputs": [],
   "source": [
    "token_status = {}\n",
    "for k,v in json_dct.items():\n",
    "    json_body = v\n",
    "    r = requests.post('https://photoai.lotlinx.com/images/optimize', json=json_body,auth=('testaccount5','984dc25e4e50'))\n",
    "    #print(r.text)\n",
    "    rdct= r.json()\n",
    "    token = rdct['data'][0]['token']\n",
    "    status = rdct['data'][0]['status']\n",
    "    #print(\"Token :\",token)\n",
    "    #print(\"Status :\",status)\n",
    "    token_status[token] = status"
   ]
  },
  {
   "cell_type": "code",
   "execution_count": 45,
   "metadata": {},
   "outputs": [
    {
     "data": {
      "text/plain": [
       "{'D6Tdbwjfu5SpgWuicT8iUiYhFsiTiG054I9W5HmcRQWkC3uygi3oPi2XsS93N509': 'queued',\n",
       " 'eYzFrj65jKtKyX4y0h74lFtBq96fnNsxA8RRhB0xcBxuDgYDHapQNN4keSGbQJR7': 'queued',\n",
       " 'kZCh69l1akeOaDQAQ5dDSannKFyt6DBe5GAiZZmchIKIttbF5orrrbn3OKo9kkHD': 'queued',\n",
       " 'pbjTIZFnASzwUYslqm6oPvSeFdFo9gxIm4OmjgOvaz7DthN0rF8M6Lx1n03fVbBE': 'queued',\n",
       " 'sMhJYdyRLZpZ9j3W2Zt27etpzp6Ah5yEmfT1tznbHk7nEHtPd6CgparDYk0DmlOj': 'queued'}"
      ]
     },
     "execution_count": 45,
     "metadata": {},
     "output_type": "execute_result"
    }
   ],
   "source": [
    "token_status"
   ]
  },
  {
   "cell_type": "code",
   "execution_count": 46,
   "metadata": {
    "collapsed": true
   },
   "outputs": [],
   "source": [
    "#import threading\n",
    "def poll_api():\n",
    "    count = 0\n",
    "    stme = time.time()\n",
    "    token_status_poll = {}\n",
    "    print (\"Status poll has started at \", stme)\n",
    "    while count <= 15:\n",
    "        for k,v in token_status.items():\n",
    "            r = requests.get('https://photoai.lotlinx.com/images/{}/status'.format(k), auth=('testaccount5','984dc25e4e50'))\n",
    "            rdct= r.json()\n",
    "            token = rdct['data'][0]['token']\n",
    "            status = rdct['data'][0]['status']\n",
    "            token_status_poll[token] = status            \n",
    "            \n",
    "        count+=1\n",
    "        print(token_status_poll)\n",
    "        time.sleep(3)\n",
    "    stptme = time.time()\n",
    "    print (\"Status poll has stopped at \", stptme)      "
   ]
  },
  {
   "cell_type": "code",
   "execution_count": 47,
   "metadata": {},
   "outputs": [
    {
     "name": "stdout",
     "output_type": "stream",
     "text": [
      "Status poll has started at  1526749669.51868\n",
      "{'sMhJYdyRLZpZ9j3W2Zt27etpzp6Ah5yEmfT1tznbHk7nEHtPd6CgparDYk0DmlOj': 'queued', 'eYzFrj65jKtKyX4y0h74lFtBq96fnNsxA8RRhB0xcBxuDgYDHapQNN4keSGbQJR7': 'queued', 'pbjTIZFnASzwUYslqm6oPvSeFdFo9gxIm4OmjgOvaz7DthN0rF8M6Lx1n03fVbBE': 'queued', 'kZCh69l1akeOaDQAQ5dDSannKFyt6DBe5GAiZZmchIKIttbF5orrrbn3OKo9kkHD': 'queued', 'D6Tdbwjfu5SpgWuicT8iUiYhFsiTiG054I9W5HmcRQWkC3uygi3oPi2XsS93N509': 'complete'}\n",
      "{'sMhJYdyRLZpZ9j3W2Zt27etpzp6Ah5yEmfT1tznbHk7nEHtPd6CgparDYk0DmlOj': 'queued', 'eYzFrj65jKtKyX4y0h74lFtBq96fnNsxA8RRhB0xcBxuDgYDHapQNN4keSGbQJR7': 'queued', 'pbjTIZFnASzwUYslqm6oPvSeFdFo9gxIm4OmjgOvaz7DthN0rF8M6Lx1n03fVbBE': 'queued', 'kZCh69l1akeOaDQAQ5dDSannKFyt6DBe5GAiZZmchIKIttbF5orrrbn3OKo9kkHD': 'queued', 'D6Tdbwjfu5SpgWuicT8iUiYhFsiTiG054I9W5HmcRQWkC3uygi3oPi2XsS93N509': 'complete'}\n",
      "{'sMhJYdyRLZpZ9j3W2Zt27etpzp6Ah5yEmfT1tznbHk7nEHtPd6CgparDYk0DmlOj': 'queued', 'eYzFrj65jKtKyX4y0h74lFtBq96fnNsxA8RRhB0xcBxuDgYDHapQNN4keSGbQJR7': 'queued', 'pbjTIZFnASzwUYslqm6oPvSeFdFo9gxIm4OmjgOvaz7DthN0rF8M6Lx1n03fVbBE': 'queued', 'kZCh69l1akeOaDQAQ5dDSannKFyt6DBe5GAiZZmchIKIttbF5orrrbn3OKo9kkHD': 'complete', 'D6Tdbwjfu5SpgWuicT8iUiYhFsiTiG054I9W5HmcRQWkC3uygi3oPi2XsS93N509': 'complete'}\n",
      "{'sMhJYdyRLZpZ9j3W2Zt27etpzp6Ah5yEmfT1tznbHk7nEHtPd6CgparDYk0DmlOj': 'queued', 'eYzFrj65jKtKyX4y0h74lFtBq96fnNsxA8RRhB0xcBxuDgYDHapQNN4keSGbQJR7': 'queued', 'pbjTIZFnASzwUYslqm6oPvSeFdFo9gxIm4OmjgOvaz7DthN0rF8M6Lx1n03fVbBE': 'queued', 'kZCh69l1akeOaDQAQ5dDSannKFyt6DBe5GAiZZmchIKIttbF5orrrbn3OKo9kkHD': 'complete', 'D6Tdbwjfu5SpgWuicT8iUiYhFsiTiG054I9W5HmcRQWkC3uygi3oPi2XsS93N509': 'complete'}\n",
      "{'sMhJYdyRLZpZ9j3W2Zt27etpzp6Ah5yEmfT1tznbHk7nEHtPd6CgparDYk0DmlOj': 'queued', 'eYzFrj65jKtKyX4y0h74lFtBq96fnNsxA8RRhB0xcBxuDgYDHapQNN4keSGbQJR7': 'queued', 'pbjTIZFnASzwUYslqm6oPvSeFdFo9gxIm4OmjgOvaz7DthN0rF8M6Lx1n03fVbBE': 'complete', 'kZCh69l1akeOaDQAQ5dDSannKFyt6DBe5GAiZZmchIKIttbF5orrrbn3OKo9kkHD': 'complete', 'D6Tdbwjfu5SpgWuicT8iUiYhFsiTiG054I9W5HmcRQWkC3uygi3oPi2XsS93N509': 'complete'}\n",
      "{'sMhJYdyRLZpZ9j3W2Zt27etpzp6Ah5yEmfT1tznbHk7nEHtPd6CgparDYk0DmlOj': 'queued', 'eYzFrj65jKtKyX4y0h74lFtBq96fnNsxA8RRhB0xcBxuDgYDHapQNN4keSGbQJR7': 'queued', 'pbjTIZFnASzwUYslqm6oPvSeFdFo9gxIm4OmjgOvaz7DthN0rF8M6Lx1n03fVbBE': 'complete', 'kZCh69l1akeOaDQAQ5dDSannKFyt6DBe5GAiZZmchIKIttbF5orrrbn3OKo9kkHD': 'complete', 'D6Tdbwjfu5SpgWuicT8iUiYhFsiTiG054I9W5HmcRQWkC3uygi3oPi2XsS93N509': 'complete'}\n",
      "{'sMhJYdyRLZpZ9j3W2Zt27etpzp6Ah5yEmfT1tznbHk7nEHtPd6CgparDYk0DmlOj': 'queued', 'eYzFrj65jKtKyX4y0h74lFtBq96fnNsxA8RRhB0xcBxuDgYDHapQNN4keSGbQJR7': 'queued', 'pbjTIZFnASzwUYslqm6oPvSeFdFo9gxIm4OmjgOvaz7DthN0rF8M6Lx1n03fVbBE': 'complete', 'kZCh69l1akeOaDQAQ5dDSannKFyt6DBe5GAiZZmchIKIttbF5orrrbn3OKo9kkHD': 'complete', 'D6Tdbwjfu5SpgWuicT8iUiYhFsiTiG054I9W5HmcRQWkC3uygi3oPi2XsS93N509': 'complete'}\n",
      "{'sMhJYdyRLZpZ9j3W2Zt27etpzp6Ah5yEmfT1tznbHk7nEHtPd6CgparDYk0DmlOj': 'queued', 'eYzFrj65jKtKyX4y0h74lFtBq96fnNsxA8RRhB0xcBxuDgYDHapQNN4keSGbQJR7': 'complete', 'pbjTIZFnASzwUYslqm6oPvSeFdFo9gxIm4OmjgOvaz7DthN0rF8M6Lx1n03fVbBE': 'complete', 'kZCh69l1akeOaDQAQ5dDSannKFyt6DBe5GAiZZmchIKIttbF5orrrbn3OKo9kkHD': 'complete', 'D6Tdbwjfu5SpgWuicT8iUiYhFsiTiG054I9W5HmcRQWkC3uygi3oPi2XsS93N509': 'complete'}\n",
      "{'sMhJYdyRLZpZ9j3W2Zt27etpzp6Ah5yEmfT1tznbHk7nEHtPd6CgparDYk0DmlOj': 'queued', 'eYzFrj65jKtKyX4y0h74lFtBq96fnNsxA8RRhB0xcBxuDgYDHapQNN4keSGbQJR7': 'complete', 'pbjTIZFnASzwUYslqm6oPvSeFdFo9gxIm4OmjgOvaz7DthN0rF8M6Lx1n03fVbBE': 'complete', 'kZCh69l1akeOaDQAQ5dDSannKFyt6DBe5GAiZZmchIKIttbF5orrrbn3OKo9kkHD': 'complete', 'D6Tdbwjfu5SpgWuicT8iUiYhFsiTiG054I9W5HmcRQWkC3uygi3oPi2XsS93N509': 'complete'}\n",
      "{'sMhJYdyRLZpZ9j3W2Zt27etpzp6Ah5yEmfT1tznbHk7nEHtPd6CgparDYk0DmlOj': 'complete', 'eYzFrj65jKtKyX4y0h74lFtBq96fnNsxA8RRhB0xcBxuDgYDHapQNN4keSGbQJR7': 'complete', 'pbjTIZFnASzwUYslqm6oPvSeFdFo9gxIm4OmjgOvaz7DthN0rF8M6Lx1n03fVbBE': 'complete', 'kZCh69l1akeOaDQAQ5dDSannKFyt6DBe5GAiZZmchIKIttbF5orrrbn3OKo9kkHD': 'complete', 'D6Tdbwjfu5SpgWuicT8iUiYhFsiTiG054I9W5HmcRQWkC3uygi3oPi2XsS93N509': 'complete'}\n",
      "{'sMhJYdyRLZpZ9j3W2Zt27etpzp6Ah5yEmfT1tznbHk7nEHtPd6CgparDYk0DmlOj': 'complete', 'eYzFrj65jKtKyX4y0h74lFtBq96fnNsxA8RRhB0xcBxuDgYDHapQNN4keSGbQJR7': 'complete', 'pbjTIZFnASzwUYslqm6oPvSeFdFo9gxIm4OmjgOvaz7DthN0rF8M6Lx1n03fVbBE': 'complete', 'kZCh69l1akeOaDQAQ5dDSannKFyt6DBe5GAiZZmchIKIttbF5orrrbn3OKo9kkHD': 'complete', 'D6Tdbwjfu5SpgWuicT8iUiYhFsiTiG054I9W5HmcRQWkC3uygi3oPi2XsS93N509': 'complete'}\n",
      "{'sMhJYdyRLZpZ9j3W2Zt27etpzp6Ah5yEmfT1tznbHk7nEHtPd6CgparDYk0DmlOj': 'complete', 'eYzFrj65jKtKyX4y0h74lFtBq96fnNsxA8RRhB0xcBxuDgYDHapQNN4keSGbQJR7': 'complete', 'pbjTIZFnASzwUYslqm6oPvSeFdFo9gxIm4OmjgOvaz7DthN0rF8M6Lx1n03fVbBE': 'complete', 'kZCh69l1akeOaDQAQ5dDSannKFyt6DBe5GAiZZmchIKIttbF5orrrbn3OKo9kkHD': 'complete', 'D6Tdbwjfu5SpgWuicT8iUiYhFsiTiG054I9W5HmcRQWkC3uygi3oPi2XsS93N509': 'complete'}\n",
      "{'sMhJYdyRLZpZ9j3W2Zt27etpzp6Ah5yEmfT1tznbHk7nEHtPd6CgparDYk0DmlOj': 'complete', 'eYzFrj65jKtKyX4y0h74lFtBq96fnNsxA8RRhB0xcBxuDgYDHapQNN4keSGbQJR7': 'complete', 'pbjTIZFnASzwUYslqm6oPvSeFdFo9gxIm4OmjgOvaz7DthN0rF8M6Lx1n03fVbBE': 'complete', 'kZCh69l1akeOaDQAQ5dDSannKFyt6DBe5GAiZZmchIKIttbF5orrrbn3OKo9kkHD': 'complete', 'D6Tdbwjfu5SpgWuicT8iUiYhFsiTiG054I9W5HmcRQWkC3uygi3oPi2XsS93N509': 'complete'}\n",
      "{'sMhJYdyRLZpZ9j3W2Zt27etpzp6Ah5yEmfT1tznbHk7nEHtPd6CgparDYk0DmlOj': 'complete', 'eYzFrj65jKtKyX4y0h74lFtBq96fnNsxA8RRhB0xcBxuDgYDHapQNN4keSGbQJR7': 'complete', 'pbjTIZFnASzwUYslqm6oPvSeFdFo9gxIm4OmjgOvaz7DthN0rF8M6Lx1n03fVbBE': 'complete', 'kZCh69l1akeOaDQAQ5dDSannKFyt6DBe5GAiZZmchIKIttbF5orrrbn3OKo9kkHD': 'complete', 'D6Tdbwjfu5SpgWuicT8iUiYhFsiTiG054I9W5HmcRQWkC3uygi3oPi2XsS93N509': 'complete'}\n",
      "{'sMhJYdyRLZpZ9j3W2Zt27etpzp6Ah5yEmfT1tznbHk7nEHtPd6CgparDYk0DmlOj': 'complete', 'eYzFrj65jKtKyX4y0h74lFtBq96fnNsxA8RRhB0xcBxuDgYDHapQNN4keSGbQJR7': 'complete', 'pbjTIZFnASzwUYslqm6oPvSeFdFo9gxIm4OmjgOvaz7DthN0rF8M6Lx1n03fVbBE': 'complete', 'kZCh69l1akeOaDQAQ5dDSannKFyt6DBe5GAiZZmchIKIttbF5orrrbn3OKo9kkHD': 'complete', 'D6Tdbwjfu5SpgWuicT8iUiYhFsiTiG054I9W5HmcRQWkC3uygi3oPi2XsS93N509': 'complete'}\n",
      "{'sMhJYdyRLZpZ9j3W2Zt27etpzp6Ah5yEmfT1tznbHk7nEHtPd6CgparDYk0DmlOj': 'complete', 'eYzFrj65jKtKyX4y0h74lFtBq96fnNsxA8RRhB0xcBxuDgYDHapQNN4keSGbQJR7': 'complete', 'pbjTIZFnASzwUYslqm6oPvSeFdFo9gxIm4OmjgOvaz7DthN0rF8M6Lx1n03fVbBE': 'complete', 'kZCh69l1akeOaDQAQ5dDSannKFyt6DBe5GAiZZmchIKIttbF5orrrbn3OKo9kkHD': 'complete', 'D6Tdbwjfu5SpgWuicT8iUiYhFsiTiG054I9W5HmcRQWkC3uygi3oPi2XsS93N509': 'complete'}\n",
      "Status poll has stopped at  1526749746.0958378\n"
     ]
    }
   ],
   "source": [
    "poll_api()"
   ]
  },
  {
   "cell_type": "code",
   "execution_count": null,
   "metadata": {
    "collapsed": true
   },
   "outputs": [],
   "source": []
  },
  {
   "cell_type": "code",
   "execution_count": 82,
   "metadata": {},
   "outputs": [],
   "source": [
    "def load_response(token_status):\n",
    "    modified_url = []\n",
    "    for k,v in token_status.items():\n",
    "        r = requests.get('https://photoai.lotlinx.com/images/{}'.format(k), auth=('testaccount5','984dc25e4e50'))\n",
    "        r = r.json()\n",
    "        r = r['data'][0]['vehicles'][0]['images'][0]['modifiedUrl']\n",
    "        modified_url.append(r)\n",
    "    return modified_url\n"
   ]
  },
  {
   "cell_type": "code",
   "execution_count": 84,
   "metadata": {},
   "outputs": [
    {
     "data": {
      "text/plain": [
       "['http://lotlinx-ml-images.s3.amazonaws.com/side/jeep_wrangler%2520unlimited_2014_1C4BJWFG3EL326863_7416_5_339187295.png',\n",
       " 'http://lotlinx-ml-images.s3.amazonaws.com/side/jeep_wrangler%2520unlimited_2014_1C4BJWFG3EL326863_7416_4_339187295.png',\n",
       " 'http://lotlinx-ml-images.s3.amazonaws.com/front/jeep_wrangler%2520unlimited_2014_1C4BJWFG3EL326863_7416_2_339187295.png',\n",
       " 'http://lotlinx-ml-images.s3.amazonaws.com/side/jeep_wrangler%2520unlimited_2014_1C4BJWFG3EL326863_7416_3_339187295.png',\n",
       " 'http://lotlinx-ml-images.s3.amazonaws.com/front_3_quarter/jeep_wrangler%2520unlimited_2014_1C4BJWFG3EL326863_7416_339187295.png']"
      ]
     },
     "execution_count": 84,
     "metadata": {},
     "output_type": "execute_result"
    }
   ],
   "source": [
    "response_url = load_response(token_status)\n",
    "response_url"
   ]
  },
  {
   "cell_type": "code",
   "execution_count": 88,
   "metadata": {},
   "outputs": [],
   "source": [
    "import urllib.request\n",
    "j=1\n",
    "for i in response_url:\n",
    "    urllib.request.urlretrieve(i,'/home/vijay/DATA_SCIENCE/lotLinx/images/images_new/{}'.format(j))\n",
    "    j+=1\n",
    "    #img_data = requests.get(response_url).content\n",
    "    #with open('/home/vijay/DATA_SCIENCE/lotLinx/images/images_new', 'wb') as handler:\n",
    "    #    handler.write(img_data)"
   ]
  },
  {
   "cell_type": "code",
   "execution_count": null,
   "metadata": {
    "collapsed": true
   },
   "outputs": [],
   "source": []
  },
  {
   "cell_type": "code",
   "execution_count": null,
   "metadata": {
    "collapsed": true
   },
   "outputs": [],
   "source": []
  },
  {
   "cell_type": "code",
   "execution_count": null,
   "metadata": {
    "collapsed": true
   },
   "outputs": [],
   "source": []
  },
  {
   "cell_type": "code",
   "execution_count": null,
   "metadata": {
    "collapsed": true
   },
   "outputs": [],
   "source": []
  }
 ],
 "metadata": {
  "kernelspec": {
   "display_name": "Python 3",
   "language": "python",
   "name": "python3"
  },
  "language_info": {
   "codemirror_mode": {
    "name": "ipython",
    "version": 3
   },
   "file_extension": ".py",
   "mimetype": "text/x-python",
   "name": "python",
   "nbconvert_exporter": "python",
   "pygments_lexer": "ipython3",
   "version": "3.5.3"
  }
 },
 "nbformat": 4,
 "nbformat_minor": 2
}
