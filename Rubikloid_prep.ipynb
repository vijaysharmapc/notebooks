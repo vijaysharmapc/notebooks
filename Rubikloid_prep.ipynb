{
 "cells": [
  {
   "cell_type": "code",
   "execution_count": 1,
   "metadata": {
    "collapsed": true
   },
   "outputs": [],
   "source": [
    "# fibonacci and recursion:\n",
    "# use recursion when solution to a problem is smaller instances of the same problem\n",
    "#1,1,2,3,5,8 .. sum of last 2"
   ]
  },
  {
   "cell_type": "code",
   "execution_count": 3,
   "metadata": {
    "collapsed": true
   },
   "outputs": [],
   "source": [
    "def  fixy(n):\n",
    "    if n == 1:\n",
    "        return 1\n",
    "    if n ==2:\n",
    "        return 1\n",
    "    if n >=3:\n",
    "        return (fixy(n-1) + fixy(n-2))"
   ]
  },
  {
   "cell_type": "code",
   "execution_count": 10,
   "metadata": {},
   "outputs": [
    {
     "name": "stdout",
     "output_type": "stream",
     "text": [
      "1\n",
      "1\n",
      "2\n",
      "3\n",
      "5\n",
      "8\n",
      "13\n",
      "21\n",
      "34\n"
     ]
    }
   ],
   "source": [
    "for i in range(1,10):\n",
    "    print(fixy(i))"
   ]
  },
  {
   "cell_type": "code",
   "execution_count": 2,
   "metadata": {
    "collapsed": true
   },
   "outputs": [],
   "source": [
    "# sum of last 2:  1,2,3,4 ==> 1, 1, 2, 3, 5 \n",
    "\n",
    "def febonaci(n):\n",
    "\n",
    "    if n == 1:\n",
    "        return 1\n",
    "    if n == 2:\n",
    "        return 1\n",
    "    if n >= 3:\n",
    "        return (febonaci(n-1) + febonaci(n-2)) \n",
    "\n"
   ]
  },
  {
   "cell_type": "code",
   "execution_count": 13,
   "metadata": {},
   "outputs": [
    {
     "name": "stdout",
     "output_type": "stream",
     "text": [
      "1  :  1\n",
      "2  :  1\n",
      "3  :  2\n",
      "4  :  3\n",
      "5  :  5\n",
      "6  :  8\n",
      "7  :  13\n",
      "8  :  21\n",
      "9  :  34\n",
      "10  :  55\n",
      "11  :  89\n",
      "12  :  144\n",
      "13  :  233\n",
      "14  :  377\n",
      "15  :  610\n",
      "16  :  987\n",
      "17  :  1597\n",
      "18  :  2584\n",
      "19  :  4181\n",
      "20  :  6765\n",
      "21  :  10946\n",
      "22  :  17711\n",
      "23  :  28657\n",
      "24  :  46368\n",
      "25  :  75025\n",
      "26  :  121393\n",
      "27  :  196418\n",
      "28  :  317811\n",
      "29  :  514229\n",
      "30  :  832040\n",
      "31  :  1346269\n",
      "32  :  2178309\n",
      "--- 3.3106820583343506 seconds ---\n"
     ]
    }
   ],
   "source": [
    "import time\n",
    "start_time = time.time()\n",
    "for i in range(1,33,1):\n",
    "    print(i,\" : \",febonaci(i))\n",
    "print(\"--- %s seconds ---\" % (time.time() - start_time))"
   ]
  },
  {
   "cell_type": "code",
   "execution_count": 14,
   "metadata": {
    "collapsed": true
   },
   "outputs": [],
   "source": [
    "# with memory as the above takes  alot of time recursing\n",
    "# sum of last 2:  1,2,3,4 ==> 1, 1, 2, 3, 5 \n",
    "cach = {} # keep idct out\n",
    "def febonaci_mem(n): \n",
    "    if n in cach:  # first check dict\n",
    "        return cach[n]\n",
    "    if n == 1:\n",
    "        #dct[n] = 1\n",
    "        return 1\n",
    "    if n == 2:\n",
    "        #dct[n] = 1\n",
    "        return 1\n",
    "    if n > 2:\n",
    "        value = (febonaci_mem(n-1)+febonaci_mem(n-2)) # add values to dict\n",
    "        cach[n] =  value\n",
    "        return value\n",
    "\n"
   ]
  },
  {
   "cell_type": "code",
   "execution_count": 15,
   "metadata": {},
   "outputs": [
    {
     "name": "stdout",
     "output_type": "stream",
     "text": [
      "1  :  1\n",
      "2  :  1\n",
      "3  :  2\n",
      "4  :  3\n",
      "5  :  5\n",
      "6  :  8\n",
      "7  :  13\n",
      "8  :  21\n",
      "9  :  34\n",
      "10  :  55\n",
      "11  :  89\n",
      "12  :  144\n",
      "13  :  233\n",
      "14  :  377\n",
      "15  :  610\n",
      "16  :  987\n",
      "17  :  1597\n",
      "18  :  2584\n",
      "19  :  4181\n",
      "20  :  6765\n",
      "21  :  10946\n",
      "22  :  17711\n",
      "23  :  28657\n",
      "24  :  46368\n",
      "25  :  75025\n",
      "26  :  121393\n",
      "27  :  196418\n",
      "28  :  317811\n",
      "29  :  514229\n",
      "30  :  832040\n",
      "31  :  1346269\n",
      "32  :  2178309\n",
      "--- 0.020049333572387695 seconds ---\n"
     ]
    }
   ],
   "source": [
    "import time\n",
    "start_time = time.time()\n",
    "for i in range(1,33,1):\n",
    "    print(i,\" : \",febonaci_mem(i))\n",
    "print(\"--- %s seconds ---\" % (time.time() - start_time))"
   ]
  },
  {
   "cell_type": "code",
   "execution_count": 79,
   "metadata": {
    "collapsed": true
   },
   "outputs": [],
   "source": [
    "def new_mergesort(a):\n",
    "\n",
    "    if (len(a) == 1):\n",
    "        return a\n",
    "    if (len(a) >= 2):\n",
    "        mid_point = len(a)//2\n",
    "        #print(mid_point)\n",
    "        left_array = new_mergesort(a[:mid_point]) # divide until you reach 1\n",
    "        right_array = new_mergesort(a[mid_point:])\n",
    "        print(left_array)\n",
    "        return merge(left_array,right_array)\n",
    "#-------------------------------------------\n",
    "def merge(left_array, right_array):\n",
    "    new_array = []\n",
    "    i, j = 0, 0\n",
    "    while i < len(left_array) and j < len(right_array):\n",
    "        if (left_array[i] < right_array[j]):\n",
    "            new_array.append(left_array[i])\n",
    "            i += 1\n",
    "            #return(new_array)\n",
    "        else:\n",
    "            new_array.append(right_array[j])\n",
    "            j += 1\n",
    "            #return(new_array)\n",
    "    new_array += (left_array[i:])\n",
    "    new_array += (right_array[j:])\n",
    "    return(new_array)"
   ]
  },
  {
   "cell_type": "code",
   "execution_count": 80,
   "metadata": {},
   "outputs": [
    {
     "name": "stdout",
     "output_type": "stream",
     "text": [
      "[4]\n",
      "[2]\n",
      "[9]\n",
      "[5]\n",
      "[1, 2, 4]\n"
     ]
    },
    {
     "data": {
      "text/plain": [
       "[1, 2, 4, 5, 7, 9]"
      ]
     },
     "execution_count": 80,
     "metadata": {},
     "output_type": "execute_result"
    }
   ],
   "source": [
    "a = [2,4,1,5,9,7]\n",
    "new_mergesort(a)"
   ]
  },
  {
   "cell_type": "code",
   "execution_count": null,
   "metadata": {
    "collapsed": true
   },
   "outputs": [],
   "source": [
    "# read a file separated by % , each document across many rows,count the unique words in doc, count words in each row,sum up all word count parse "
   ]
  },
  {
   "cell_type": "code",
   "execution_count": 136,
   "metadata": {},
   "outputs": [
    {
     "name": "stdout",
     "output_type": "stream",
     "text": [
      "The earliest airline routes between Australia and the U.K. subjected \n",
      "travellers to several days worth of stopovers and plane changes. \n",
      "%\n",
      "But now, a non-stop journey along the so-called \"Kangaroo Route\" is a reality\n",
      "after the inaugural Qantas Airways flight \n",
      "landed in London yesterday — 17 hours after departing from Perth, Australia. \n",
      "%\n",
      "\n",
      "\"It is a history-making flight,\" passenger Wayne Kwong told As It Happens host Carol Off.\n",
      "%\n",
      "\"The atmosphere — before departure, during the flight and after — it was amazing.\" \n",
      "%\n",
      "Kwong and his fellow passengers — who included Qantas CEO Alan Joyce, several politicians and a large contingent of\n",
      " international journalists — were treated to a number of special amenities in order to ease the journey.\n",
      "%\n",
      "The Boeing 787-9 Dreamliner featured larger windows and improved cabin humidity to fight the effects of jet lag. \n",
      "%\n",
      "\n"
     ]
    }
   ],
   "source": [
    "# read the whole file\n",
    "file = open(\"documents.txt\")\n",
    "print(file.read()) #f.read() tells the file object to read the full contents of the file, and return it as a string"
   ]
  },
  {
   "cell_type": "code",
   "execution_count": 6,
   "metadata": {},
   "outputs": [
    {
     "data": {
      "text/plain": [
       "_io.TextIOWrapper"
      ]
     },
     "execution_count": 6,
     "metadata": {},
     "output_type": "execute_result"
    }
   ],
   "source": [
    "type(file)"
   ]
  },
  {
   "cell_type": "markdown",
   "metadata": {},
   "source": [
    "f = open(\"documents.txt\")\n",
    "next = f.read(5)\n",
    "while next != \"\":\n",
    "    print(next)\n",
    "    next = f.read(5) # read 5 letters"
   ]
  },
  {
   "cell_type": "code",
   "execution_count": 159,
   "metadata": {},
   "outputs": [
    {
     "name": "stdout",
     "output_type": "stream",
     "text": [
      "<class 'list'> ['The earliest airline routes between Australia and the U.K. subjected \\n', 'travellers to several days worth of stopovers and plane changes. \\n', '%\\n', 'But now, a non-stop journey along the so-called \"Kangaroo Route\" is a reality\\n', 'after the inaugural Qantas Airways flight \\n', 'landed in London yesterday — 17 hours after departing from Perth, Australia. \\n', '%\\n', '\\n', '\"It is a history-making flight,\" passenger Wayne Kwong told As It Happens host Carol Off.\\n', '%\\n', '\"The atmosphere — before departure, during the flight and after — it was amazing.\" \\n', '%\\n', 'Kwong and his fellow passengers — who included Qantas CEO Alan Joyce, several politicians and a large contingent of\\n', ' international journalists — were treated to a number of special amenities in order to ease the journey.\\n', '%\\n', 'The Boeing 787-9 Dreamliner featured larger windows and improved cabin humidity to fight the effects of jet lag. \\n', '%\\n']\n"
     ]
    }
   ],
   "source": [
    "# read line by line\n",
    "file = open(\"documents.txt\")\n",
    "lines = file.readlines()\n",
    "print(type(lines),lines)"
   ]
  },
  {
   "cell_type": "code",
   "execution_count": 160,
   "metadata": {},
   "outputs": [
    {
     "data": {
      "text/plain": [
       "list"
      ]
     },
     "execution_count": 160,
     "metadata": {},
     "output_type": "execute_result"
    }
   ],
   "source": [
    "type(lines)"
   ]
  },
  {
   "cell_type": "code",
   "execution_count": 16,
   "metadata": {},
   "outputs": [
    {
     "name": "stdout",
     "output_type": "stream",
     "text": [
      "['The earliest airline routes between Australia and the U.K. subjected \\ntravellers to several days worth of stopovers and plane changes. \\n', '\\nBut now, a non-stop journey along the so-called \"Kangaroo Route\" is a reality\\nafter the inaugural Qantas Airways flight \\nlanded in London yesterday — 17 hours after departing from Perth, Australia. \\n', '\\n\\n\"It is a history-making flight,\" passenger Wayne Kwong told As It Happens host Carol Off.\\n', '\\n\"The atmosphere — before departure, during the flight and after — it was amazing.\" \\n', '\\nKwong and his fellow passengers — who included Qantas CEO Alan Joyce, several politicians and a large contingent of\\n international journalists — were treated to a number of special amenities in order to ease the journey.\\n', '\\nThe Boeing 787-9 Dreamliner featured larger windows and improved cabin humidity to fight the effects of jet lag. \\n', '\\n']\n"
     ]
    }
   ],
   "source": [
    "# read line by line split by %\n",
    "file = open(\"documents.txt\")\n",
    "text = file.read()\n",
    "lines = text.split('%')\n",
    "#.split('%')\n",
    "print(lines)"
   ]
  },
  {
   "cell_type": "code",
   "execution_count": 17,
   "metadata": {},
   "outputs": [
    {
     "name": "stdout",
     "output_type": "stream",
     "text": [
      "{'cabin', 'departure,', 'yesterday', 'stopovers', 'the', 'days', 'larger', 'Airways', '—', 'plane', 'Dreamliner', 'of', 'and', 'travellers', 'The', 'is', 'U.K.', 'large', 'CEO', 'airline', 'number', 'But', 'his', 'included', '\"The', 'now,', 'amazing.\"', 'several', 'Joyce,', 'order', 'subjected', 'Off.', 'journey.', 'journalists', 'London', 'Carol', 'between', 'Perth,', 'landed', 'humidity', 'lag.', '\"Kangaroo', 'flight', 'ease', 'Wayne', 'atmosphere', 'inaugural', 'Route\"', 'contingent', 'Happens', 'after', 'passengers', 'before', 'windows', 'to', 'featured', 'journey', 'told', 'in', 'passenger', 'effects', 'who', 'routes', 'departing', 'As', 'politicians', 'non-stop', 'fight', 'so-called', 'reality', 'Australia.', 'flight,\"', 'Boeing', 'jet', 'treated', 'special', 'fellow', '\"It', 'hours', 'host', 'along', 'during', 'earliest', 'changes.', '%', 'amenities', 'Qantas', 'It', 'worth', 'it', 'Alan', 'from', '17', 'Australia', 'were', 'improved', 'history-making', 'a', 'international', '787-9', 'Kwong', 'was'}\n",
      "<class 'set'>\n",
      "{'cabin': 0, 'departure,': 0, 'yesterday': 0, 'to': 0, 'featured': 0, 'so-called': 0, 'journey': 0, 'stopovers': 0, 'the': 0, 'days': 0, 'larger': 0, 'Australia': 0, 'Airways': 0, '—': 0, 'plane': 0, 'before': 0, 'Dreamliner': 0, 'of': 0, 'and': 0, 'improved': 0, 'travellers': 0, 'in': 0, 'is': 0, 'passenger': 0, 'effects': 0, 'U.K.': 0, 'who': 0, 'Australia.': 0, 'CEO': 0, 'departing': 0, 'order': 0, 'As': 0, 'politicians': 0, 'non-stop': 0, 'airline': 0, 'fight': 0, 'Boeing': 0, 'reality': 0, 'flight,\"': 0, 'number': 0, 'But': 0, 'jet': 0, 'treated': 0, 'his': 0, 'special': 0, 'included': 0, 'history-making': 0, '\"The': 0, 'now,': 0, 'journey.': 0, 'fellow': 0, '\"It': 0, 'hours': 0, 'host': 0, 'amazing.\"': 0, 'several': 0, 'Joyce,': 0, 'subjected': 0, 'along': 0, 'Off.': 0, 'during': 0, 'journalists': 0, 'London': 0, 'The': 0, 'earliest': 0, 'Carol': 0, 'between': 0, 'Perth,': 0, 'changes.': 0, '%': 0, 'landed': 0, 'amenities': 0, 'Qantas': 0, 'It': 0, 'humidity': 0, 'told': 0, 'worth': 0, 'large': 0, 'lag.': 0, 'it': 0, 'from': 0, '\"Kangaroo': 0, 'flight': 0, '17': 0, 'ease': 0, 'Wayne': 0, 'were': 0, 'atmosphere': 0, 'inaugural': 0, 'Route\"': 0, 'Alan': 0, 'contingent': 0, 'Happens': 0, 'a': 0, 'after': 0, 'international': 0, 'passengers': 0, '787-9': 0, 'routes': 0, 'windows': 0, 'Kwong': 0, 'was': 0}\n"
     ]
    }
   ],
   "source": [
    "# find unique words\n",
    "all_words = text.split()\n",
    "unique_words = set(all_words)\n",
    "print(unique_words)\n",
    "print(type(unique_words))\n",
    "\n",
    "# create a dictionary from set\n",
    "unique_words_dict = dict.fromkeys(unique_words, 0)\n",
    "print(unique_words_dict)"
   ]
  },
  {
   "cell_type": "code",
   "execution_count": 18,
   "metadata": {},
   "outputs": [
    {
     "name": "stdout",
     "output_type": "stream",
     "text": [
      "{'cabin': 1, 'departure,': 1, 'yesterday': 1, 'to': 4, 'featured': 1, 'so-called': 1, 'journey': 1, 'stopovers': 1, 'the': 6, 'days': 1, 'larger': 1, 'Australia': 1, 'Airways': 1, '—': 5, 'plane': 1, 'before': 1, 'Dreamliner': 1, 'of': 4, 'and': 6, 'improved': 1, 'travellers': 1, 'in': 2, 'is': 2, 'passenger': 1, 'effects': 1, 'U.K.': 1, 'who': 1, 'Australia.': 1, 'CEO': 1, 'departing': 1, 'order': 1, 'As': 1, 'politicians': 1, 'non-stop': 1, 'airline': 1, 'fight': 1, 'Boeing': 1, 'reality': 1, 'flight,\"': 1, 'number': 1, 'But': 1, 'jet': 1, 'treated': 1, 'his': 1, 'special': 1, 'included': 1, 'history-making': 1, '\"The': 1, 'now,': 1, 'journey.': 1, 'fellow': 1, '\"It': 1, 'hours': 1, 'host': 1, 'amazing.\"': 1, 'several': 2, 'Joyce,': 1, 'subjected': 1, 'along': 1, 'Off.': 1, 'during': 1, 'journalists': 1, 'London': 1, 'The': 2, 'earliest': 1, 'Carol': 1, 'between': 1, 'Perth,': 1, 'changes.': 1, '%': 6, 'landed': 1, 'amenities': 1, 'Qantas': 2, 'It': 1, 'humidity': 1, 'told': 1, 'worth': 1, 'large': 1, 'lag.': 1, 'it': 1, 'from': 1, '\"Kangaroo': 1, 'flight': 2, '17': 1, 'ease': 1, 'Wayne': 1, 'were': 1, 'atmosphere': 1, 'inaugural': 1, 'Route\"': 1, 'Alan': 1, 'contingent': 1, 'Happens': 1, 'a': 5, 'after': 3, 'international': 1, 'passengers': 1, '787-9': 1, 'routes': 1, 'windows': 1, 'Kwong': 2, 'was': 1}\n"
     ]
    }
   ],
   "source": [
    "# find a count of all the words\n",
    "for word in all_words:\n",
    "    if word in unique_words_dict:\n",
    "        unique_words_dict[word]+=1\n",
    "        \n",
    "print(unique_words_dict)"
   ]
  },
  {
   "cell_type": "code",
   "execution_count": 19,
   "metadata": {
    "collapsed": true
   },
   "outputs": [],
   "source": [
    "#It is not possible to sort a dict, only to get a representation of a dict that is sorted. \n",
    "#Dicts are inherently orderless, but other types, such as lists and tuples, are not.\n",
    "#So you need an ordered data type to represent sorted values, which will be a list—probably a list of tuples.\n",
    "import operator\n",
    "sorted_x = sorted(unique_words_dict.items(), key=operator.itemgetter(1))"
   ]
  },
  {
   "cell_type": "code",
   "execution_count": 20,
   "metadata": {},
   "outputs": [
    {
     "data": {
      "text/plain": [
       "[('cabin', 1),\n",
       " ('departure,', 1),\n",
       " ('yesterday', 1),\n",
       " ('featured', 1),\n",
       " ('so-called', 1),\n",
       " ('journey', 1),\n",
       " ('stopovers', 1),\n",
       " ('days', 1),\n",
       " ('larger', 1),\n",
       " ('Australia', 1),\n",
       " ('Airways', 1),\n",
       " ('plane', 1),\n",
       " ('before', 1),\n",
       " ('Dreamliner', 1),\n",
       " ('improved', 1),\n",
       " ('travellers', 1),\n",
       " ('passenger', 1),\n",
       " ('effects', 1),\n",
       " ('U.K.', 1),\n",
       " ('who', 1),\n",
       " ('Australia.', 1),\n",
       " ('CEO', 1),\n",
       " ('departing', 1),\n",
       " ('order', 1),\n",
       " ('As', 1),\n",
       " ('politicians', 1),\n",
       " ('non-stop', 1),\n",
       " ('airline', 1),\n",
       " ('fight', 1),\n",
       " ('Boeing', 1),\n",
       " ('reality', 1),\n",
       " ('flight,\"', 1),\n",
       " ('number', 1),\n",
       " ('But', 1),\n",
       " ('jet', 1),\n",
       " ('treated', 1),\n",
       " ('his', 1),\n",
       " ('special', 1),\n",
       " ('included', 1),\n",
       " ('history-making', 1),\n",
       " ('\"The', 1),\n",
       " ('now,', 1),\n",
       " ('journey.', 1),\n",
       " ('fellow', 1),\n",
       " ('\"It', 1),\n",
       " ('hours', 1),\n",
       " ('host', 1),\n",
       " ('amazing.\"', 1),\n",
       " ('Joyce,', 1),\n",
       " ('subjected', 1),\n",
       " ('along', 1),\n",
       " ('Off.', 1),\n",
       " ('during', 1),\n",
       " ('journalists', 1),\n",
       " ('London', 1),\n",
       " ('earliest', 1),\n",
       " ('Carol', 1),\n",
       " ('between', 1),\n",
       " ('Perth,', 1),\n",
       " ('changes.', 1),\n",
       " ('landed', 1),\n",
       " ('amenities', 1),\n",
       " ('It', 1),\n",
       " ('humidity', 1),\n",
       " ('told', 1),\n",
       " ('worth', 1),\n",
       " ('large', 1),\n",
       " ('lag.', 1),\n",
       " ('it', 1),\n",
       " ('from', 1),\n",
       " ('\"Kangaroo', 1),\n",
       " ('17', 1),\n",
       " ('ease', 1),\n",
       " ('Wayne', 1),\n",
       " ('were', 1),\n",
       " ('atmosphere', 1),\n",
       " ('inaugural', 1),\n",
       " ('Route\"', 1),\n",
       " ('Alan', 1),\n",
       " ('contingent', 1),\n",
       " ('Happens', 1),\n",
       " ('international', 1),\n",
       " ('passengers', 1),\n",
       " ('787-9', 1),\n",
       " ('routes', 1),\n",
       " ('windows', 1),\n",
       " ('was', 1),\n",
       " ('in', 2),\n",
       " ('is', 2),\n",
       " ('several', 2),\n",
       " ('The', 2),\n",
       " ('Qantas', 2),\n",
       " ('flight', 2),\n",
       " ('Kwong', 2),\n",
       " ('after', 3),\n",
       " ('to', 4),\n",
       " ('of', 4),\n",
       " ('—', 5),\n",
       " ('a', 5),\n",
       " ('the', 6),\n",
       " ('and', 6),\n",
       " ('%', 6)]"
      ]
     },
     "execution_count": 20,
     "metadata": {},
     "output_type": "execute_result"
    }
   ],
   "source": [
    "sorted_x"
   ]
  },
  {
   "cell_type": "code",
   "execution_count": 1,
   "metadata": {
    "collapsed": true
   },
   "outputs": [],
   "source": [
    "# REVERSE A STRING"
   ]
  },
  {
   "cell_type": "code",
   "execution_count": 2,
   "metadata": {},
   "outputs": [
    {
     "data": {
      "text/plain": [
       "'yajiv'"
      ]
     },
     "execution_count": 2,
     "metadata": {},
     "output_type": "execute_result"
    }
   ],
   "source": [
    "#way1\n",
    "strng = \"vijay\"\n",
    "strng[::-1]"
   ]
  },
  {
   "cell_type": "code",
   "execution_count": 5,
   "metadata": {
    "collapsed": true
   },
   "outputs": [],
   "source": [
    "#way2\n",
    "def reverse_string(strng):\n",
    "    length = len(strng)\n",
    "    newString = []\n",
    "    for i in range(1,length+1,1):\n",
    "        newString.append(strng[-i])\n",
    "    return(\"\".join(newString))"
   ]
  },
  {
   "cell_type": "code",
   "execution_count": 6,
   "metadata": {},
   "outputs": [
    {
     "data": {
      "text/plain": [
       "'inapaj'"
      ]
     },
     "execution_count": 6,
     "metadata": {},
     "output_type": "execute_result"
    }
   ],
   "source": [
    "reverse_string('japani')"
   ]
  },
  {
   "cell_type": "code",
   "execution_count": 7,
   "metadata": {
    "collapsed": true
   },
   "outputs": [],
   "source": [
    "# check if a number is Palindrome, ie reversed it must be teh same\n",
    "num1 = 2234\n",
    "num2 = 2112\n",
    "\n",
    "def check_palindrome(num):\n",
    "    num = str(num)\n",
    "    numRev = num[::-1]\n",
    "    if num == numRev:\n",
    "        print(\"Palio found\")\n",
    "    else:\n",
    "        print(\"Palio no found\")\n",
    "    #print(numRev)"
   ]
  },
  {
   "cell_type": "code",
   "execution_count": 8,
   "metadata": {},
   "outputs": [
    {
     "name": "stdout",
     "output_type": "stream",
     "text": [
      "Palio found\n"
     ]
    }
   ],
   "source": [
    "check_palindrome(num2)"
   ]
  },
  {
   "cell_type": "code",
   "execution_count": 9,
   "metadata": {
    "collapsed": true
   },
   "outputs": [],
   "source": [
    "# print out the first repeating charater\n",
    "# A,B,C,A -> A\n",
    "# B,C,A,B,A -> B\n",
    "#A,B,C -> NAN"
   ]
  },
  {
   "cell_type": "code",
   "execution_count": 23,
   "metadata": {
    "collapsed": true
   },
   "outputs": [],
   "source": [
    "lst = ['A','B','C','B','D']\n",
    "nw_lst = []"
   ]
  },
  {
   "cell_type": "code",
   "execution_count": 24,
   "metadata": {},
   "outputs": [
    {
     "name": "stdout",
     "output_type": "stream",
     "text": [
      "B\n"
     ]
    }
   ],
   "source": [
    "for i in lst:\n",
    "    if lst.count(i) > 1:\n",
    "        print(i)\n",
    "        break"
   ]
  },
  {
   "cell_type": "code",
   "execution_count": null,
   "metadata": {
    "collapsed": true
   },
   "outputs": [],
   "source": []
  },
  {
   "cell_type": "code",
   "execution_count": 28,
   "metadata": {
    "collapsed": true
   },
   "outputs": [],
   "source": [
    "i = str(111123)\n",
    "i = i[::-1]"
   ]
  },
  {
   "cell_type": "code",
   "execution_count": 29,
   "metadata": {},
   "outputs": [
    {
     "data": {
      "text/plain": [
       "321111"
      ]
     },
     "execution_count": 29,
     "metadata": {},
     "output_type": "execute_result"
    }
   ],
   "source": [
    "int(i)"
   ]
  },
  {
   "cell_type": "code",
   "execution_count": 30,
   "metadata": {
    "collapsed": true
   },
   "outputs": [],
   "source": [
    "lst = [5,1,2,7,8]"
   ]
  },
  {
   "cell_type": "code",
   "execution_count": null,
   "metadata": {
    "collapsed": true
   },
   "outputs": [],
   "source": []
  },
  {
   "cell_type": "code",
   "execution_count": 51,
   "metadata": {
    "collapsed": true
   },
   "outputs": [],
   "source": [
    "# list comprehension creating alist\n",
    "lst = [i*100 for i in range(8) if i%2 == 0]"
   ]
  },
  {
   "cell_type": "code",
   "execution_count": 52,
   "metadata": {},
   "outputs": [
    {
     "data": {
      "text/plain": [
       "[0, 200, 400, 600]"
      ]
     },
     "execution_count": 52,
     "metadata": {},
     "output_type": "execute_result"
    }
   ],
   "source": [
    "lst"
   ]
  },
  {
   "cell_type": "code",
   "execution_count": 49,
   "metadata": {},
   "outputs": [
    {
     "data": {
      "text/plain": [
       "1.0"
      ]
     },
     "execution_count": 49,
     "metadata": {},
     "output_type": "execute_result"
    }
   ],
   "source": [
    "2/2"
   ]
  },
  {
   "cell_type": "code",
   "execution_count": 50,
   "metadata": {},
   "outputs": [
    {
     "data": {
      "text/plain": [
       "2.0"
      ]
     },
     "execution_count": 50,
     "metadata": {},
     "output_type": "execute_result"
    }
   ],
   "source": [
    "4/2"
   ]
  },
  {
   "cell_type": "markdown",
   "metadata": {
    "collapsed": true
   },
   "source": [
    "https://www.youtube.com/watch?v=R-HLU9Fl5ug  # pythin data structures\n",
    "https://rob-bell.net/2009/06/a-beginners-guide-to-big-o-notation/"
   ]
  },
  {
   "cell_type": "markdown",
   "metadata": {},
   "source": [
    "* you need to hire a new candiate in place of the old one # cost 2000 #budget 3500\n",
    "* you take the help of a consultancy, they charge you 50  per candidate and if you select one then 500\n",
    "* salary of employess goes increasing very candidate by 1.2\n",
    "* how many candidates can I interview?"
   ]
  },
  {
   "cell_type": "code",
   "execution_count": 81,
   "metadata": {},
   "outputs": [
    {
     "name": "stdout",
     "output_type": "stream",
     "text": [
      "[2550, 2560.0, 2572.0, 2586.4, 2603.68, 2624.416, 2649.2992, 2679.15904, 2714.990848, 2757.9890176, 2809.58682112, 2871.504185344, 2945.8050224128, 3034.96602689536, 3141.959232274432, 3270.351078729318, 3424.4212944751816]\n"
     ]
    }
   ],
   "source": [
    "total_budget = 3500\n",
    "replacement_cost = 2000\n",
    "cumulative_cost = 0\n",
    "initial_cost = 0\n",
    "interview_cost = 50\n",
    "placement_cost = 500\n",
    "cost_lst = []\n",
    "for i in range(23):\n",
    "    if i is not 0:\n",
    "        interview_cost = interview_cost * 1.2\n",
    "    tc = placement_cost+replacement_cost\n",
    "    \n",
    "    if (interview_cost + tc) > total_budget:\n",
    "        break\n",
    "    cost_lst.append(tc+interview_cost)\n",
    "\n",
    "\n",
    "    \n",
    "print(cost_lst)"
   ]
  },
  {
   "cell_type": "markdown",
   "metadata": {},
   "source": [
    "# factors of numner 24\n",
    "              24\n",
    "    6                     4\n",
    "2       3             2       2"
   ]
  },
  {
   "cell_type": "code",
   "execution_count": 82,
   "metadata": {
    "collapsed": true
   },
   "outputs": [],
   "source": [
    "#!3 = 3*2*1"
   ]
  },
  {
   "cell_type": "code",
   "execution_count": 54,
   "metadata": {
    "collapsed": true
   },
   "outputs": [],
   "source": [
    "#Tree traversal algorithms "
   ]
  },
  {
   "cell_type": "code",
   "execution_count": null,
   "metadata": {
    "collapsed": true
   },
   "outputs": [],
   "source": [
    "#airline_tweets['tweet_coord'].apply(lambda x: x.split(',')  do tis on list and np array"
   ]
  },
  {
   "cell_type": "markdown",
   "metadata": {},
   "source": [
    "3 foo\n",
    "5 baz\n",
    "\n",
    "3& 5 multiple foobaz\n",
    "\n",
    "\n",
    "list with one even\n",
    "list with one odd\n",
    "\n",
    "write a def to split out odd one out"
   ]
  },
  {
   "cell_type": "code",
   "execution_count": 7,
   "metadata": {},
   "outputs": [
    {
     "name": "stdout",
     "output_type": "stream",
     "text": [
      "3 foo\n",
      "5 baz\n",
      "6 foo\n",
      "9 foo\n",
      "10 baz\n",
      "12 foo\n",
      "15 foobaz\n"
     ]
    }
   ],
   "source": [
    "for i in range(1,16,1):\n",
    "    if (i%3 == 0) & (i%5 == 0)  :\n",
    "        print(i ,'foobaz')        \n",
    "    elif i%3 == 0:\n",
    "        print(i,'foo')\n",
    "    elif i%5 == 0:\n",
    "        print(i,'baz')"
   ]
  },
  {
   "cell_type": "code",
   "execution_count": 22,
   "metadata": {
    "collapsed": true
   },
   "outputs": [],
   "source": [
    "lst1 = [2,4,6,8,5,10,12]\n",
    "lst2 = [1,3,5,7,2,9]\n",
    "# print the unusual number in these 2 list"
   ]
  },
  {
   "cell_type": "code",
   "execution_count": 108,
   "metadata": {
    "collapsed": true
   },
   "outputs": [],
   "source": [
    "def print_unsual(lst):\n",
    "    var1 = 0\n",
    "    if lst[0]%2 ==0:\n",
    "        var1 +=1\n",
    "    if lst[1]%2 == 0:\n",
    "        var1 +=1\n",
    "    if lst[2]%2 == 0:\n",
    "        var1 +=1\n",
    "    \n",
    "    if var1 >= 2:\n",
    "        for i in lst:\n",
    "            if i%2 != 0:\n",
    "                print(i)\n",
    "    else:\n",
    "        for i in lst:\n",
    "            if i%2 == 0:\n",
    "                print(i)\n",
    "        \n",
    "        "
   ]
  },
  {
   "cell_type": "code",
   "execution_count": 110,
   "metadata": {},
   "outputs": [
    {
     "name": "stdout",
     "output_type": "stream",
     "text": [
      "5\n"
     ]
    }
   ],
   "source": [
    "print_unsual(lst1)"
   ]
  },
  {
   "cell_type": "code",
   "execution_count": 112,
   "metadata": {
    "collapsed": true
   },
   "outputs": [],
   "source": [
    "# pythonic smaller if condition\n",
    "#result = (on_false, on_true)[condition]"
   ]
  },
  {
   "cell_type": "code",
   "execution_count": 1,
   "metadata": {
    "collapsed": true
   },
   "outputs": [],
   "source": [
    "a = [2,4,5,2,3,5,7]\n",
    "# check if a is odd or even\n",
    "result = [i for i in a if i%2==0]"
   ]
  },
  {
   "cell_type": "code",
   "execution_count": 2,
   "metadata": {},
   "outputs": [
    {
     "data": {
      "text/plain": [
       "[2, 4, 2]"
      ]
     },
     "execution_count": 2,
     "metadata": {},
     "output_type": "execute_result"
    }
   ],
   "source": [
    "result"
   ]
  },
  {
   "cell_type": "code",
   "execution_count": null,
   "metadata": {
    "collapsed": true
   },
   "outputs": [],
   "source": []
  },
  {
   "cell_type": "code",
   "execution_count": null,
   "metadata": {
    "collapsed": true
   },
   "outputs": [],
   "source": []
  },
  {
   "cell_type": "code",
   "execution_count": 142,
   "metadata": {
    "collapsed": true
   },
   "outputs": [],
   "source": [
    "odd_ineven = [i for i in lst1 if i%2 != 0 ] # list comprehension"
   ]
  },
  {
   "cell_type": "code",
   "execution_count": 143,
   "metadata": {},
   "outputs": [
    {
     "data": {
      "text/plain": [
       "[5]"
      ]
     },
     "execution_count": 143,
     "metadata": {},
     "output_type": "execute_result"
    }
   ],
   "source": [
    "odd_ineven"
   ]
  },
  {
   "cell_type": "code",
   "execution_count": 152,
   "metadata": {},
   "outputs": [
    {
     "data": {
      "text/plain": [
       "[0, 0, 0, 0, 1, 0, 0]"
      ]
     },
     "execution_count": 152,
     "metadata": {},
     "output_type": "execute_result"
    }
   ],
   "source": [
    "findOddEven = [0 if i%2 ==0 else 1 for i in lst1]\n",
    "findOddEven"
   ]
  },
  {
   "cell_type": "code",
   "execution_count": null,
   "metadata": {
    "collapsed": true
   },
   "outputs": [],
   "source": []
  },
  {
   "cell_type": "code",
   "execution_count": 135,
   "metadata": {},
   "outputs": [
    {
     "data": {
      "text/plain": [
       "[(2, 2), (5, 5)]"
      ]
     },
     "execution_count": 135,
     "metadata": {},
     "output_type": "execute_result"
    }
   ],
   "source": [
    "[(x, y) for x in lst1 for y in lst2 if x == y] # cross join of 2 lists"
   ]
  },
  {
   "cell_type": "code",
   "execution_count": null,
   "metadata": {
    "collapsed": true
   },
   "outputs": [],
   "source": [
    "[i for i in lst1 if i%2 != 0]"
   ]
  },
  {
   "cell_type": "markdown",
   "metadata": {
    "collapsed": true
   },
   "source": [
    "First, I wanna know how much money I could have made yesterday if I'd been trading Apple stocks all day.\n",
    "\n",
    "So I grabbed Apple's stock prices from yesterday and put them in a list called stock_prices_yesterday, where:\n",
    "\n",
    "    The indices are the time (in minutes) past trade opening time, which was 9:30am local time.\n",
    "    The values are the price (in US dollars) of one share of Apple stock at that time.\n",
    "\n",
    "So if the stock cost $500 at 10:30am, that means stock_prices_yesterday[60] = 500.\n",
    "\n",
    "Write an efficient function that takes stock_prices_yesterday and returns the best profit I could have made from one purchase and one sale of one share of Apple stock yesterday. "
   ]
  },
  {
   "cell_type": "code",
   "execution_count": 2,
   "metadata": {
    "collapsed": true
   },
   "outputs": [],
   "source": [
    "stock_prices_yesterday = [10, 7, 5, 8, 11, 9, 13, 8]"
   ]
  },
  {
   "cell_type": "code",
   "execution_count": 5,
   "metadata": {},
   "outputs": [
    {
     "name": "stdout",
     "output_type": "stream",
     "text": [
      "Buy at  5 Sell at  13\n"
     ]
    }
   ],
   "source": [
    "max_price = max(stock_prices_yesterday)\n",
    "min_price = min(stock_prices_yesterday)\n",
    "print('Buy at ', min_price, 'Sell at ', max_price)    "
   ]
  },
  {
   "cell_type": "code",
   "execution_count": 15,
   "metadata": {
    "collapsed": true
   },
   "outputs": [],
   "source": [
    "def merg_sort(a,b):\n",
    "    new_lst = []\n",
    "    if a < b:\n",
    "        new_lst.append(a)\n",
    "        new_lst.append(b)\n",
    "    else:\n",
    "        new_lst.append(b)\n",
    "        new_lst.append(a)\n",
    "        \n",
    "    \n",
    "    return new_lst"
   ]
  },
  {
   "cell_type": "code",
   "execution_count": 18,
   "metadata": {},
   "outputs": [
    {
     "data": {
      "text/plain": [
       "[3, 5]"
      ]
     },
     "execution_count": 18,
     "metadata": {},
     "output_type": "execute_result"
    }
   ],
   "source": [
    "merg_sort(3,5)"
   ]
  },
  {
   "cell_type": "code",
   "execution_count": 31,
   "metadata": {
    "collapsed": true
   },
   "outputs": [],
   "source": [
    "def list_breaker(lst):\n",
    "    mid = len(lst)//2\n",
    "    if len(lst) > 1:\n",
    "        left_lst = list_breaker(lst[0:mid])\n",
    "        print(left_lst)\n",
    "        "
   ]
  },
  {
   "cell_type": "code",
   "execution_count": 32,
   "metadata": {},
   "outputs": [
    {
     "name": "stdout",
     "output_type": "stream",
     "text": [
      "None\n",
      "None\n"
     ]
    }
   ],
   "source": [
    "list_breaker([3,2,4,5])"
   ]
  },
  {
   "cell_type": "code",
   "execution_count": 34,
   "metadata": {
    "collapsed": true
   },
   "outputs": [],
   "source": [
    "# Given a time, calculate the angle between the hour and minute hands\n",
    "\n",
    "def min_to_hour(hour,minute):\n",
    "    degree =  minute*6\n",
    "    return hour, degree"
   ]
  },
  {
   "cell_type": "code",
   "execution_count": 38,
   "metadata": {
    "collapsed": true
   },
   "outputs": [],
   "source": [
    "hour, degree = min_to_hour(3,27)"
   ]
  },
  {
   "cell_type": "code",
   "execution_count": 39,
   "metadata": {},
   "outputs": [
    {
     "data": {
      "text/plain": [
       "3"
      ]
     },
     "execution_count": 39,
     "metadata": {},
     "output_type": "execute_result"
    }
   ],
   "source": [
    "hour"
   ]
  },
  {
   "cell_type": "code",
   "execution_count": 40,
   "metadata": {},
   "outputs": [
    {
     "data": {
      "text/plain": [
       "162"
      ]
     },
     "execution_count": 40,
     "metadata": {},
     "output_type": "execute_result"
    }
   ],
   "source": [
    "degree"
   ]
  },
  {
   "cell_type": "code",
   "execution_count": 2,
   "metadata": {},
   "outputs": [
    {
     "data": {
      "text/plain": [
       "'vijay'"
      ]
     },
     "execution_count": 2,
     "metadata": {},
     "output_type": "execute_result"
    }
   ],
   "source": [
    "''.join(['vija','y'])"
   ]
  },
  {
   "cell_type": "code",
   "execution_count": 9,
   "metadata": {},
   "outputs": [
    {
     "data": {
      "text/plain": [
       "'vijay'"
      ]
     },
     "execution_count": 9,
     "metadata": {},
     "output_type": "execute_result"
    }
   ],
   "source": [
    "name = 'vija' + 'y'\n",
    "name"
   ]
  },
  {
   "cell_type": "code",
   "execution_count": null,
   "metadata": {
    "collapsed": true
   },
   "outputs": [],
   "source": [
    "# ''.join('vija','y')"
   ]
  },
  {
   "cell_type": "code",
   "execution_count": null,
   "metadata": {
    "collapsed": true
   },
   "outputs": [],
   "source": [
    "#Write a method to replace all spaces in a string with ‘%20’."
   ]
  },
  {
   "cell_type": "code",
   "execution_count": null,
   "metadata": {
    "collapsed": true
   },
   "outputs": [],
   "source": []
  },
  {
   "cell_type": "code",
   "execution_count": 26,
   "metadata": {
    "collapsed": true
   },
   "outputs": [],
   "source": [
    "# binary search\n",
    "srtd_lst = [2,4,5,6,7,8,9,10,11,15,18,22]\n"
   ]
  },
  {
   "cell_type": "code",
   "execution_count": 50,
   "metadata": {
    "collapsed": true
   },
   "outputs": [],
   "source": [
    "def binary_sort(srtd_lst,val):\n",
    "    mid = len(srtd_lst)//2\n",
    "    left_lst = srtd_lst[:mid]\n",
    "    right_lst =  srtd_lst[mid:]\n",
    "    \n",
    "    if mid == 1:\n",
    "        print('my value is {}'.format(srtd_lst))\n",
    "    \n",
    "    if left_lst[-1] >= val:\n",
    "        print('my value is here left',left_lst)\n",
    "        binary_sort(left_lst,val)\n",
    "    else:\n",
    "        print('my value is in right',right_lst)\n",
    "        binary_sort(right_lst,val)\n",
    "        \n",
    "    \n",
    "    print(left_lst)\n",
    "    print(right_lst)"
   ]
  },
  {
   "cell_type": "code",
   "execution_count": 52,
   "metadata": {},
   "outputs": [
    {
     "name": "stdout",
     "output_type": "stream",
     "text": [
      "my value is in right [9, 10, 11, 15, 18, 22]\n",
      "my value is in right [15, 18, 22]\n",
      "my value is [15, 18, 22]\n",
      "my value is in right [18, 22]\n",
      "my value is [18, 22]\n",
      "my value is here left [18]\n"
     ]
    },
    {
     "ename": "IndexError",
     "evalue": "list index out of range",
     "output_type": "error",
     "traceback": [
      "\u001b[0;31m---------------------------------------------------------------------------\u001b[0m",
      "\u001b[0;31mIndexError\u001b[0m                                Traceback (most recent call last)",
      "\u001b[0;32m<ipython-input-52-7252ffefbe59>\u001b[0m in \u001b[0;36m<module>\u001b[0;34m()\u001b[0m\n\u001b[0;32m----> 1\u001b[0;31m \u001b[0mbinary_sort\u001b[0m\u001b[0;34m(\u001b[0m\u001b[0msrtd_lst\u001b[0m\u001b[0;34m,\u001b[0m\u001b[0;36m18\u001b[0m\u001b[0;34m)\u001b[0m\u001b[0;34m\u001b[0m\u001b[0m\n\u001b[0m",
      "\u001b[0;32m<ipython-input-50-bf2a66844468>\u001b[0m in \u001b[0;36mbinary_sort\u001b[0;34m(srtd_lst, val)\u001b[0m\n\u001b[1;32m     12\u001b[0m     \u001b[0;32melse\u001b[0m\u001b[0;34m:\u001b[0m\u001b[0;34m\u001b[0m\u001b[0m\n\u001b[1;32m     13\u001b[0m         \u001b[0mprint\u001b[0m\u001b[0;34m(\u001b[0m\u001b[0;34m'my value is in right'\u001b[0m\u001b[0;34m,\u001b[0m\u001b[0mright_lst\u001b[0m\u001b[0;34m)\u001b[0m\u001b[0;34m\u001b[0m\u001b[0m\n\u001b[0;32m---> 14\u001b[0;31m         \u001b[0mbinary_sort\u001b[0m\u001b[0;34m(\u001b[0m\u001b[0mright_lst\u001b[0m\u001b[0;34m,\u001b[0m\u001b[0mval\u001b[0m\u001b[0;34m)\u001b[0m\u001b[0;34m\u001b[0m\u001b[0m\n\u001b[0m\u001b[1;32m     15\u001b[0m \u001b[0;34m\u001b[0m\u001b[0m\n\u001b[1;32m     16\u001b[0m \u001b[0;34m\u001b[0m\u001b[0m\n",
      "\u001b[0;32m<ipython-input-50-bf2a66844468>\u001b[0m in \u001b[0;36mbinary_sort\u001b[0;34m(srtd_lst, val)\u001b[0m\n\u001b[1;32m     12\u001b[0m     \u001b[0;32melse\u001b[0m\u001b[0;34m:\u001b[0m\u001b[0;34m\u001b[0m\u001b[0m\n\u001b[1;32m     13\u001b[0m         \u001b[0mprint\u001b[0m\u001b[0;34m(\u001b[0m\u001b[0;34m'my value is in right'\u001b[0m\u001b[0;34m,\u001b[0m\u001b[0mright_lst\u001b[0m\u001b[0;34m)\u001b[0m\u001b[0;34m\u001b[0m\u001b[0m\n\u001b[0;32m---> 14\u001b[0;31m         \u001b[0mbinary_sort\u001b[0m\u001b[0;34m(\u001b[0m\u001b[0mright_lst\u001b[0m\u001b[0;34m,\u001b[0m\u001b[0mval\u001b[0m\u001b[0;34m)\u001b[0m\u001b[0;34m\u001b[0m\u001b[0m\n\u001b[0m\u001b[1;32m     15\u001b[0m \u001b[0;34m\u001b[0m\u001b[0m\n\u001b[1;32m     16\u001b[0m \u001b[0;34m\u001b[0m\u001b[0m\n",
      "\u001b[0;32m<ipython-input-50-bf2a66844468>\u001b[0m in \u001b[0;36mbinary_sort\u001b[0;34m(srtd_lst, val)\u001b[0m\n\u001b[1;32m     12\u001b[0m     \u001b[0;32melse\u001b[0m\u001b[0;34m:\u001b[0m\u001b[0;34m\u001b[0m\u001b[0m\n\u001b[1;32m     13\u001b[0m         \u001b[0mprint\u001b[0m\u001b[0;34m(\u001b[0m\u001b[0;34m'my value is in right'\u001b[0m\u001b[0;34m,\u001b[0m\u001b[0mright_lst\u001b[0m\u001b[0;34m)\u001b[0m\u001b[0;34m\u001b[0m\u001b[0m\n\u001b[0;32m---> 14\u001b[0;31m         \u001b[0mbinary_sort\u001b[0m\u001b[0;34m(\u001b[0m\u001b[0mright_lst\u001b[0m\u001b[0;34m,\u001b[0m\u001b[0mval\u001b[0m\u001b[0;34m)\u001b[0m\u001b[0;34m\u001b[0m\u001b[0m\n\u001b[0m\u001b[1;32m     15\u001b[0m \u001b[0;34m\u001b[0m\u001b[0m\n\u001b[1;32m     16\u001b[0m \u001b[0;34m\u001b[0m\u001b[0m\n",
      "\u001b[0;32m<ipython-input-50-bf2a66844468>\u001b[0m in \u001b[0;36mbinary_sort\u001b[0;34m(srtd_lst, val)\u001b[0m\n\u001b[1;32m      9\u001b[0m     \u001b[0;32mif\u001b[0m \u001b[0mleft_lst\u001b[0m\u001b[0;34m[\u001b[0m\u001b[0;34m-\u001b[0m\u001b[0;36m1\u001b[0m\u001b[0;34m]\u001b[0m \u001b[0;34m>=\u001b[0m \u001b[0mval\u001b[0m\u001b[0;34m:\u001b[0m\u001b[0;34m\u001b[0m\u001b[0m\n\u001b[1;32m     10\u001b[0m         \u001b[0mprint\u001b[0m\u001b[0;34m(\u001b[0m\u001b[0;34m'my value is here left'\u001b[0m\u001b[0;34m,\u001b[0m\u001b[0mleft_lst\u001b[0m\u001b[0;34m)\u001b[0m\u001b[0;34m\u001b[0m\u001b[0m\n\u001b[0;32m---> 11\u001b[0;31m         \u001b[0mbinary_sort\u001b[0m\u001b[0;34m(\u001b[0m\u001b[0mleft_lst\u001b[0m\u001b[0;34m,\u001b[0m\u001b[0mval\u001b[0m\u001b[0;34m)\u001b[0m\u001b[0;34m\u001b[0m\u001b[0m\n\u001b[0m\u001b[1;32m     12\u001b[0m     \u001b[0;32melse\u001b[0m\u001b[0;34m:\u001b[0m\u001b[0;34m\u001b[0m\u001b[0m\n\u001b[1;32m     13\u001b[0m         \u001b[0mprint\u001b[0m\u001b[0;34m(\u001b[0m\u001b[0;34m'my value is in right'\u001b[0m\u001b[0;34m,\u001b[0m\u001b[0mright_lst\u001b[0m\u001b[0;34m)\u001b[0m\u001b[0;34m\u001b[0m\u001b[0m\n",
      "\u001b[0;32m<ipython-input-50-bf2a66844468>\u001b[0m in \u001b[0;36mbinary_sort\u001b[0;34m(srtd_lst, val)\u001b[0m\n\u001b[1;32m      7\u001b[0m         \u001b[0mprint\u001b[0m\u001b[0;34m(\u001b[0m\u001b[0;34m'my value is {}'\u001b[0m\u001b[0;34m.\u001b[0m\u001b[0mformat\u001b[0m\u001b[0;34m(\u001b[0m\u001b[0msrtd_lst\u001b[0m\u001b[0;34m)\u001b[0m\u001b[0;34m)\u001b[0m\u001b[0;34m\u001b[0m\u001b[0m\n\u001b[1;32m      8\u001b[0m \u001b[0;34m\u001b[0m\u001b[0m\n\u001b[0;32m----> 9\u001b[0;31m     \u001b[0;32mif\u001b[0m \u001b[0mleft_lst\u001b[0m\u001b[0;34m[\u001b[0m\u001b[0;34m-\u001b[0m\u001b[0;36m1\u001b[0m\u001b[0;34m]\u001b[0m \u001b[0;34m>=\u001b[0m \u001b[0mval\u001b[0m\u001b[0;34m:\u001b[0m\u001b[0;34m\u001b[0m\u001b[0m\n\u001b[0m\u001b[1;32m     10\u001b[0m         \u001b[0mprint\u001b[0m\u001b[0;34m(\u001b[0m\u001b[0;34m'my value is here left'\u001b[0m\u001b[0;34m,\u001b[0m\u001b[0mleft_lst\u001b[0m\u001b[0;34m)\u001b[0m\u001b[0;34m\u001b[0m\u001b[0m\n\u001b[1;32m     11\u001b[0m         \u001b[0mbinary_sort\u001b[0m\u001b[0;34m(\u001b[0m\u001b[0mleft_lst\u001b[0m\u001b[0;34m,\u001b[0m\u001b[0mval\u001b[0m\u001b[0;34m)\u001b[0m\u001b[0;34m\u001b[0m\u001b[0m\n",
      "\u001b[0;31mIndexError\u001b[0m: list index out of range"
     ]
    }
   ],
   "source": [
    "binary_sort(srtd_lst,18)"
   ]
  },
  {
   "cell_type": "code",
   "execution_count": 18,
   "metadata": {
    "collapsed": true
   },
   "outputs": [],
   "source": [
    "lst = [1,3,2,5,3,2,5,8,4]\n",
    "nwl = []\n",
    "def retur_even(lst):\n",
    "    for i in lst:\n",
    "        #print(i)\n",
    "        if i % 2 == 0:\n",
    "            nwl.append(i)\n",
    "    return nwl\n",
    "    print(set(lst))\n"
   ]
  },
  {
   "cell_type": "code",
   "execution_count": 19,
   "metadata": {},
   "outputs": [
    {
     "data": {
      "text/plain": [
       "[2, 2, 8, 4]"
      ]
     },
     "execution_count": 19,
     "metadata": {},
     "output_type": "execute_result"
    }
   ],
   "source": [
    "retur_even(lst)"
   ]
  },
  {
   "cell_type": "code",
   "execution_count": 20,
   "metadata": {},
   "outputs": [
    {
     "name": "stdout",
     "output_type": "stream",
     "text": [
      "Help on built-in function range in module __builtin__:\n",
      "\n",
      "range(...)\n",
      "    range(stop) -> list of integers\n",
      "    range(start, stop[, step]) -> list of integers\n",
      "    \n",
      "    Return a list containing an arithmetic progression of integers.\n",
      "    range(i, j) returns [i, i+1, i+2, ..., j-1]; start (!) defaults to 0.\n",
      "    When step is given, it specifies the increment (or decrement).\n",
      "    For example, range(4) returns [0, 1, 2, 3].  The end point is omitted!\n",
      "    These are exactly the valid indices for a list of 4 elements.\n",
      "\n"
     ]
    }
   ],
   "source": [
    "help(range)"
   ]
  },
  {
   "cell_type": "code",
   "execution_count": 2,
   "metadata": {
    "collapsed": true
   },
   "outputs": [],
   "source": [
    "# 1 2 3 4 5 6 7\n",
    "#1 1 2 3 5 8 13 21\n",
    "\n",
    "def fibki(int):\n",
    "    if int == 1:\n",
    "        return 1\n",
    "    elif int == 2:\n",
    "        return 1\n",
    "    elif int >= 3:\n",
    "        var = fibki(int-1) + fibki(int-2)\n",
    "        return var"
   ]
  },
  {
   "cell_type": "code",
   "execution_count": 6,
   "metadata": {},
   "outputs": [
    {
     "name": "stdout",
     "output_type": "stream",
     "text": [
      "None\n",
      "1\n",
      "1\n",
      "2\n",
      "3\n",
      "5\n",
      "8\n",
      "13\n",
      "21\n",
      "34\n",
      "55\n",
      "89\n",
      "144\n",
      "233\n",
      "377\n",
      "610\n",
      "987\n",
      "1597\n",
      "2584\n",
      "4181\n",
      "6765\n",
      "10946\n",
      "17711\n",
      "28657\n",
      "46368\n",
      "75025\n",
      "121393\n",
      "196418\n",
      "317811\n",
      "514229\n",
      "832040\n",
      "1346269\n",
      "4.39653396606\n"
     ]
    }
   ],
   "source": [
    "import time\n",
    "start_time = time.time()\n",
    "for i in range(32):\n",
    "    print(fibki(i))\n",
    "    end_time = time.time()\n",
    "print (end_time-start_time)"
   ]
  },
  {
   "cell_type": "code",
   "execution_count": 25,
   "metadata": {
    "collapsed": true
   },
   "outputs": [],
   "source": [
    "dct = {}\n",
    "def fibki_nitro(int):\n",
    "    if int in dct.keys():\n",
    "        return (dct[int])\n",
    "        \n",
    "    if int == 1:\n",
    "        dct[int]=1\n",
    "        return 1\n",
    "    elif int == 2:\n",
    "        dct[int]=1\n",
    "        return 1\n",
    "    elif int >= 3:\n",
    "        var = (fibki_nitro(int-1) + fibki_nitro(int-2))\n",
    "        dct[int] = var\n",
    "        return var"
   ]
  },
  {
   "cell_type": "code",
   "execution_count": 26,
   "metadata": {},
   "outputs": [
    {
     "name": "stdout",
     "output_type": "stream",
     "text": [
      "None\n",
      "1\n",
      "1\n",
      "2\n",
      "3\n",
      "5\n",
      "8\n",
      "13\n",
      "21\n",
      "34\n",
      "55\n",
      "89\n",
      "144\n",
      "233\n",
      "377\n",
      "610\n",
      "987\n",
      "1597\n",
      "2584\n",
      "4181\n",
      "6765\n",
      "10946\n",
      "17711\n",
      "28657\n",
      "46368\n",
      "75025\n",
      "121393\n",
      "196418\n",
      "317811\n",
      "514229\n",
      "832040\n",
      "1346269\n",
      "0.021008014679\n"
     ]
    }
   ],
   "source": [
    "import time\n",
    "start_time = time.time()\n",
    "for i in range(32):\n",
    "    print(fibki_nitro(i))\n",
    "    end_time = time.time()\n",
    "print (end_time-start_time)"
   ]
  },
  {
   "cell_type": "code",
   "execution_count": 1,
   "metadata": {
    "collapsed": true
   },
   "outputs": [],
   "source": [
    "str = \"vijay\""
   ]
  },
  {
   "cell_type": "code",
   "execution_count": 3,
   "metadata": {},
   "outputs": [
    {
     "data": {
      "text/plain": [
       "'a'"
      ]
     },
     "execution_count": 3,
     "metadata": {},
     "output_type": "execute_result"
    }
   ],
   "source": []
  },
  {
   "cell_type": "code",
   "execution_count": null,
   "metadata": {
    "collapsed": true
   },
   "outputs": [],
   "source": []
  }
 ],
 "metadata": {
  "kernelspec": {
   "display_name": "Python 3",
   "language": "python",
   "name": "python3"
  },
  "language_info": {
   "codemirror_mode": {
    "name": "ipython",
    "version": 3
   },
   "file_extension": ".py",
   "mimetype": "text/x-python",
   "name": "python",
   "nbconvert_exporter": "python",
   "pygments_lexer": "ipython3",
   "version": "3.8.8"
  }
 },
 "nbformat": 4,
 "nbformat_minor": 2
}
