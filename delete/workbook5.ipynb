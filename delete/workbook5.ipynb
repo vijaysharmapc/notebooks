{
 "cells": [
  {
   "cell_type": "code",
   "execution_count": 186,
   "metadata": {
    "collapsed": true
   },
   "outputs": [],
   "source": [
    "import pandas as pd                 # pandas is a dataframe library\n",
    "import matplotlib.pyplot as plt     # matplotlib.pyplot plots data\n",
    "import numpy as np                  # numpy provides N-dim object support\n",
    "\n",
    "# do ploting inline instead of in a separate window\n",
    "%matplotlib inline"
   ]
  },
  {
   "cell_type": "code",
   "execution_count": 187,
   "metadata": {
    "collapsed": true
   },
   "outputs": [],
   "source": [
    "#READ AND PARSE AIRLINE FILE\n",
    "airline_tweets = pd.read_csv('airline_tweets.csv', usecols=['airline_sentiment','tweet_coord'],encoding='utf-8')\n",
    "airline_tweets=airline_tweets.dropna()\n",
    "airline_tweets=airline_tweets.loc[airline_tweets['tweet_coord'] != '[0.0, 0.0]']\n",
    "sentiment_map = { 'negative' : 0,'neutral' :1,'positive' : 2}\n",
    "airline_tweets['airline_sentiment'] = airline_tweets['airline_sentiment'].map(sentiment_map)\n",
    "airline_tweets['tweet_coord'].replace(regex=True,inplace=True,to_replace=r'\\[',value=r'')\n",
    "airline_tweets['tweet_coord'].replace(regex=True,inplace=True,to_replace=r'\\]',value=r'')\n",
    "airline_tweets = airline_tweets.reset_index(drop=True)\n",
    "\n",
    "split_c = airline_tweets['tweet_coord'].apply(lambda x: x.split(','))\n",
    "airline_tweets['latitude'] = split_c.apply(lambda x: float(x[0]))\n",
    "airline_tweets['longitude'] = split_c.apply(lambda x: float(x[1]))\n",
    "airline_tweets.drop(['tweet_coord'],axis=1)\n",
    "\n",
    "#READ AND PARSE CITIES\n",
    "cities = pd.read_csv( \"cities.csv\", delimiter=\",\" ,header='infer',usecols=['name','latitude','longitude'],encoding='utf-8')\n",
    "cities=cities.dropna()\n",
    "cities['city_coord']= cities[['latitude','longitude']].values.tolist()"
   ]
  },
  {
   "cell_type": "code",
   "execution_count": 188,
   "metadata": {},
   "outputs": [
    {
     "data": {
      "text/html": [
       "<div>\n",
       "<style>\n",
       "    .dataframe thead tr:only-child th {\n",
       "        text-align: right;\n",
       "    }\n",
       "\n",
       "    .dataframe thead th {\n",
       "        text-align: left;\n",
       "    }\n",
       "\n",
       "    .dataframe tbody tr th {\n",
       "        vertical-align: top;\n",
       "    }\n",
       "</style>\n",
       "<table border=\"1\" class=\"dataframe\">\n",
       "  <thead>\n",
       "    <tr style=\"text-align: right;\">\n",
       "      <th></th>\n",
       "      <th>airline_sentiment</th>\n",
       "      <th>tweet_coord</th>\n",
       "      <th>latitude</th>\n",
       "      <th>longitude</th>\n",
       "    </tr>\n",
       "  </thead>\n",
       "  <tbody>\n",
       "    <tr>\n",
       "      <th>0</th>\n",
       "      <td>2</td>\n",
       "      <td>40.74804263, -73.99295302</td>\n",
       "      <td>40.748043</td>\n",
       "      <td>-73.992953</td>\n",
       "    </tr>\n",
       "    <tr>\n",
       "      <th>1</th>\n",
       "      <td>0</td>\n",
       "      <td>42.361016, -71.02000488</td>\n",
       "      <td>42.361016</td>\n",
       "      <td>-71.020005</td>\n",
       "    </tr>\n",
       "    <tr>\n",
       "      <th>2</th>\n",
       "      <td>1</td>\n",
       "      <td>33.94540417, -118.4062472</td>\n",
       "      <td>33.945404</td>\n",
       "      <td>-118.406247</td>\n",
       "    </tr>\n",
       "    <tr>\n",
       "      <th>3</th>\n",
       "      <td>0</td>\n",
       "      <td>33.94209449, -118.40410103</td>\n",
       "      <td>33.942094</td>\n",
       "      <td>-118.404101</td>\n",
       "    </tr>\n",
       "    <tr>\n",
       "      <th>4</th>\n",
       "      <td>2</td>\n",
       "      <td>33.2145038, -96.9321504</td>\n",
       "      <td>33.214504</td>\n",
       "      <td>-96.932150</td>\n",
       "    </tr>\n",
       "  </tbody>\n",
       "</table>\n",
       "</div>"
      ],
      "text/plain": [
       "   airline_sentiment                 tweet_coord   latitude   longitude\n",
       "0                  2   40.74804263, -73.99295302  40.748043  -73.992953\n",
       "1                  0     42.361016, -71.02000488  42.361016  -71.020005\n",
       "2                  1   33.94540417, -118.4062472  33.945404 -118.406247\n",
       "3                  0  33.94209449, -118.40410103  33.942094 -118.404101\n",
       "4                  2     33.2145038, -96.9321504  33.214504  -96.932150"
      ]
     },
     "execution_count": 188,
     "metadata": {},
     "output_type": "execute_result"
    }
   ],
   "source": [
    "airline_tweets[0:5]"
   ]
  },
  {
   "cell_type": "code",
   "execution_count": 189,
   "metadata": {},
   "outputs": [
    {
     "data": {
      "text/html": [
       "<div>\n",
       "<style>\n",
       "    .dataframe thead tr:only-child th {\n",
       "        text-align: right;\n",
       "    }\n",
       "\n",
       "    .dataframe thead th {\n",
       "        text-align: left;\n",
       "    }\n",
       "\n",
       "    .dataframe tbody tr th {\n",
       "        vertical-align: top;\n",
       "    }\n",
       "</style>\n",
       "<table border=\"1\" class=\"dataframe\">\n",
       "  <thead>\n",
       "    <tr style=\"text-align: right;\">\n",
       "      <th></th>\n",
       "      <th>name</th>\n",
       "      <th>latitude</th>\n",
       "      <th>longitude</th>\n",
       "      <th>city_coord</th>\n",
       "    </tr>\n",
       "  </thead>\n",
       "  <tbody>\n",
       "    <tr>\n",
       "      <th>0</th>\n",
       "      <td>les Escaldes</td>\n",
       "      <td>42.50729</td>\n",
       "      <td>1.53414</td>\n",
       "      <td>[42.507290000000005, 1.53414]</td>\n",
       "    </tr>\n",
       "    <tr>\n",
       "      <th>1</th>\n",
       "      <td>Andorra la Vella</td>\n",
       "      <td>42.50779</td>\n",
       "      <td>1.52109</td>\n",
       "      <td>[42.50779, 1.52109]</td>\n",
       "    </tr>\n",
       "    <tr>\n",
       "      <th>2</th>\n",
       "      <td>Umm al Qaywayn</td>\n",
       "      <td>25.56473</td>\n",
       "      <td>55.55517</td>\n",
       "      <td>[25.564729999999997, 55.55517]</td>\n",
       "    </tr>\n",
       "    <tr>\n",
       "      <th>3</th>\n",
       "      <td>Ras al-Khaimah</td>\n",
       "      <td>25.78953</td>\n",
       "      <td>55.94320</td>\n",
       "      <td>[25.78953, 55.9432]</td>\n",
       "    </tr>\n",
       "    <tr>\n",
       "      <th>4</th>\n",
       "      <td>Khawr Fakkān</td>\n",
       "      <td>25.33132</td>\n",
       "      <td>56.34199</td>\n",
       "      <td>[25.33132, 56.34199]</td>\n",
       "    </tr>\n",
       "  </tbody>\n",
       "</table>\n",
       "</div>"
      ],
      "text/plain": [
       "               name  latitude  longitude                      city_coord\n",
       "0      les Escaldes  42.50729    1.53414   [42.507290000000005, 1.53414]\n",
       "1  Andorra la Vella  42.50779    1.52109             [42.50779, 1.52109]\n",
       "2    Umm al Qaywayn  25.56473   55.55517  [25.564729999999997, 55.55517]\n",
       "3    Ras al-Khaimah  25.78953   55.94320             [25.78953, 55.9432]\n",
       "4      Khawr Fakkān  25.33132   56.34199            [25.33132, 56.34199]"
      ]
     },
     "execution_count": 189,
     "metadata": {},
     "output_type": "execute_result"
    }
   ],
   "source": [
    "cities[0:5]"
   ]
  },
  {
   "cell_type": "code",
   "execution_count": 190,
   "metadata": {
    "collapsed": true
   },
   "outputs": [],
   "source": [
    "# find the nearest city to the tweet coorinates usin ckdtree(nearest neighbour) and query(Euclidean)\n",
    "from scipy.spatial import cKDTree\n",
    "\n",
    "def closest_pts(setA_lat, setA_lng, setB_lat, setB_lng):\n",
    "    a_x = setA_lat.values\n",
    "    a_y = setA_lng.values\n",
    "    b_x = setB_lat.values\n",
    "    b_y = setB_lng.values\n",
    "    #print(a_x[0:5])\n",
    "    a = np.c_[a_x, a_y]\n",
    "    #print(a)\n",
    "    b = np.c_[b_x, b_y]\n",
    "    indx = cKDTree(b).query(a,k=1,p=2)[1]\n",
    "    #print(indx)\n",
    "    return pd.Series(b_x[indx]), pd.Series(b_y[indx]),pd.Series(cities['name'][indx])"
   ]
  },
  {
   "cell_type": "code",
   "execution_count": 191,
   "metadata": {
    "collapsed": true
   },
   "outputs": [],
   "source": [
    "setA_lat = airline_tweets['latitude']\n",
    "setA_lng =  airline_tweets['longitude']\n",
    "\n",
    "setB_lat = cities['latitude']\n",
    "setB_lng =  cities['longitude']"
   ]
  },
  {
   "cell_type": "code",
   "execution_count": 192,
   "metadata": {
    "collapsed": true
   },
   "outputs": [],
   "source": [
    "c_x,c_y,c_n = closest_pts(setA_lat, setA_lng, setB_lat, setB_lng)"
   ]
  },
  {
   "cell_type": "code",
   "execution_count": 193,
   "metadata": {},
   "outputs": [
    {
     "data": {
      "text/plain": [
       "0    New York City\n",
       "1          Chelsea\n",
       "2       El Segundo\n",
       "3       El Segundo\n",
       "4           Frisco\n",
       "Name: name, dtype: object"
      ]
     },
     "execution_count": 193,
     "metadata": {},
     "output_type": "execute_result"
    }
   ],
   "source": [
    "c_n = c_n.reset_index(drop=True)\n",
    "c_n[0:5]"
   ]
  },
  {
   "cell_type": "code",
   "execution_count": 194,
   "metadata": {
    "collapsed": true
   },
   "outputs": [],
   "source": [
    "airline_tweets['nearest_latitude'] = c_x\n",
    "airline_tweets['nearest_longitude'] = c_y\n",
    "airline_tweets['nearest_city'] =c_n"
   ]
  },
  {
   "cell_type": "code",
   "execution_count": 195,
   "metadata": {},
   "outputs": [
    {
     "data": {
      "text/html": [
       "<div>\n",
       "<style>\n",
       "    .dataframe thead tr:only-child th {\n",
       "        text-align: right;\n",
       "    }\n",
       "\n",
       "    .dataframe thead th {\n",
       "        text-align: left;\n",
       "    }\n",
       "\n",
       "    .dataframe tbody tr th {\n",
       "        vertical-align: top;\n",
       "    }\n",
       "</style>\n",
       "<table border=\"1\" class=\"dataframe\">\n",
       "  <thead>\n",
       "    <tr style=\"text-align: right;\">\n",
       "      <th></th>\n",
       "      <th>airline_sentiment</th>\n",
       "      <th>tweet_coord</th>\n",
       "      <th>latitude</th>\n",
       "      <th>longitude</th>\n",
       "      <th>nearest_latitude</th>\n",
       "      <th>nearest_longitude</th>\n",
       "      <th>nearest_city</th>\n",
       "    </tr>\n",
       "  </thead>\n",
       "  <tbody>\n",
       "    <tr>\n",
       "      <th>0</th>\n",
       "      <td>2</td>\n",
       "      <td>40.74804263, -73.99295302</td>\n",
       "      <td>40.748043</td>\n",
       "      <td>-73.992953</td>\n",
       "      <td>40.71427</td>\n",
       "      <td>-74.00597</td>\n",
       "      <td>New York City</td>\n",
       "    </tr>\n",
       "    <tr>\n",
       "      <th>1</th>\n",
       "      <td>0</td>\n",
       "      <td>42.361016, -71.02000488</td>\n",
       "      <td>42.361016</td>\n",
       "      <td>-71.020005</td>\n",
       "      <td>42.39176</td>\n",
       "      <td>-71.03283</td>\n",
       "      <td>Chelsea</td>\n",
       "    </tr>\n",
       "    <tr>\n",
       "      <th>2</th>\n",
       "      <td>1</td>\n",
       "      <td>33.94540417, -118.4062472</td>\n",
       "      <td>33.945404</td>\n",
       "      <td>-118.406247</td>\n",
       "      <td>33.91918</td>\n",
       "      <td>-118.41647</td>\n",
       "      <td>El Segundo</td>\n",
       "    </tr>\n",
       "    <tr>\n",
       "      <th>3</th>\n",
       "      <td>0</td>\n",
       "      <td>33.94209449, -118.40410103</td>\n",
       "      <td>33.942094</td>\n",
       "      <td>-118.404101</td>\n",
       "      <td>33.91918</td>\n",
       "      <td>-118.41647</td>\n",
       "      <td>El Segundo</td>\n",
       "    </tr>\n",
       "    <tr>\n",
       "      <th>4</th>\n",
       "      <td>2</td>\n",
       "      <td>33.2145038, -96.9321504</td>\n",
       "      <td>33.214504</td>\n",
       "      <td>-96.932150</td>\n",
       "      <td>33.15067</td>\n",
       "      <td>-96.82361</td>\n",
       "      <td>Frisco</td>\n",
       "    </tr>\n",
       "    <tr>\n",
       "      <th>5</th>\n",
       "      <td>1</td>\n",
       "      <td>34.0219817, -118.38591198</td>\n",
       "      <td>34.021982</td>\n",
       "      <td>-118.385912</td>\n",
       "      <td>34.02112</td>\n",
       "      <td>-118.39647</td>\n",
       "      <td>Culver City</td>\n",
       "    </tr>\n",
       "    <tr>\n",
       "      <th>6</th>\n",
       "      <td>1</td>\n",
       "      <td>33.57963333, -117.73024772</td>\n",
       "      <td>33.579633</td>\n",
       "      <td>-117.730248</td>\n",
       "      <td>33.56504</td>\n",
       "      <td>-117.72712</td>\n",
       "      <td>Aliso Viejo</td>\n",
       "    </tr>\n",
       "    <tr>\n",
       "      <th>7</th>\n",
       "      <td>0</td>\n",
       "      <td>40.6413712, -73.78311558</td>\n",
       "      <td>40.641371</td>\n",
       "      <td>-73.783116</td>\n",
       "      <td>40.66312</td>\n",
       "      <td>-73.76221</td>\n",
       "      <td>Springfield Gardens</td>\n",
       "    </tr>\n",
       "    <tr>\n",
       "      <th>8</th>\n",
       "      <td>2</td>\n",
       "      <td>36.08457854, -115.13780136</td>\n",
       "      <td>36.084579</td>\n",
       "      <td>-115.137801</td>\n",
       "      <td>36.09719</td>\n",
       "      <td>-115.14666</td>\n",
       "      <td>Paradise</td>\n",
       "    </tr>\n",
       "    <tr>\n",
       "      <th>9</th>\n",
       "      <td>1</td>\n",
       "      <td>37.79374402, -122.39327564</td>\n",
       "      <td>37.793744</td>\n",
       "      <td>-122.393276</td>\n",
       "      <td>37.77493</td>\n",
       "      <td>-122.41942</td>\n",
       "      <td>San Francisco</td>\n",
       "    </tr>\n",
       "  </tbody>\n",
       "</table>\n",
       "</div>"
      ],
      "text/plain": [
       "   airline_sentiment                 tweet_coord   latitude   longitude  \\\n",
       "0                  2   40.74804263, -73.99295302  40.748043  -73.992953   \n",
       "1                  0     42.361016, -71.02000488  42.361016  -71.020005   \n",
       "2                  1   33.94540417, -118.4062472  33.945404 -118.406247   \n",
       "3                  0  33.94209449, -118.40410103  33.942094 -118.404101   \n",
       "4                  2     33.2145038, -96.9321504  33.214504  -96.932150   \n",
       "5                  1   34.0219817, -118.38591198  34.021982 -118.385912   \n",
       "6                  1  33.57963333, -117.73024772  33.579633 -117.730248   \n",
       "7                  0    40.6413712, -73.78311558  40.641371  -73.783116   \n",
       "8                  2  36.08457854, -115.13780136  36.084579 -115.137801   \n",
       "9                  1  37.79374402, -122.39327564  37.793744 -122.393276   \n",
       "\n",
       "   nearest_latitude  nearest_longitude         nearest_city  \n",
       "0          40.71427          -74.00597        New York City  \n",
       "1          42.39176          -71.03283              Chelsea  \n",
       "2          33.91918         -118.41647           El Segundo  \n",
       "3          33.91918         -118.41647           El Segundo  \n",
       "4          33.15067          -96.82361               Frisco  \n",
       "5          34.02112         -118.39647          Culver City  \n",
       "6          33.56504         -117.72712          Aliso Viejo  \n",
       "7          40.66312          -73.76221  Springfield Gardens  \n",
       "8          36.09719         -115.14666             Paradise  \n",
       "9          37.77493         -122.41942        San Francisco  "
      ]
     },
     "execution_count": 195,
     "metadata": {},
     "output_type": "execute_result"
    }
   ],
   "source": [
    "airline_tweets[0:10]"
   ]
  },
  {
   "cell_type": "code",
   "execution_count": 213,
   "metadata": {
    "collapsed": true
   },
   "outputs": [],
   "source": [
    "feature_df = airline_tweets[['nearest_city']]"
   ]
  },
  {
   "cell_type": "code",
   "execution_count": 214,
   "metadata": {
    "collapsed": true
   },
   "outputs": [],
   "source": [
    "label_df = airline_tweets['airline_sentiment']"
   ]
  },
  {
   "cell_type": "code",
   "execution_count": 215,
   "metadata": {},
   "outputs": [
    {
     "name": "stdout",
     "output_type": "stream",
     "text": [
      "<class 'pandas.core.frame.DataFrame'>\n",
      "<class 'pandas.core.series.Series'>\n"
     ]
    }
   ],
   "source": [
    "print(type(feature_df))\n",
    "print(type(label_df))"
   ]
  },
  {
   "cell_type": "code",
   "execution_count": 223,
   "metadata": {},
   "outputs": [
    {
     "data": {
      "text/html": [
       "<div>\n",
       "<style>\n",
       "    .dataframe thead tr:only-child th {\n",
       "        text-align: right;\n",
       "    }\n",
       "\n",
       "    .dataframe thead th {\n",
       "        text-align: left;\n",
       "    }\n",
       "\n",
       "    .dataframe tbody tr th {\n",
       "        vertical-align: top;\n",
       "    }\n",
       "</style>\n",
       "<table border=\"1\" class=\"dataframe\">\n",
       "  <thead>\n",
       "    <tr style=\"text-align: right;\">\n",
       "      <th></th>\n",
       "      <th>nearest_city_Addison</th>\n",
       "      <th>nearest_city_Aldine</th>\n",
       "      <th>nearest_city_Aliso Viejo</th>\n",
       "      <th>nearest_city_Allen</th>\n",
       "      <th>nearest_city_American Fork</th>\n",
       "      <th>nearest_city_Anaheim</th>\n",
       "      <th>nearest_city_Angeles City</th>\n",
       "      <th>nearest_city_Annapolis</th>\n",
       "      <th>nearest_city_Arbutus</th>\n",
       "      <th>nearest_city_Ashford</th>\n",
       "      <th>...</th>\n",
       "      <th>nearest_city_Whitestone</th>\n",
       "      <th>nearest_city_Williamsport</th>\n",
       "      <th>nearest_city_Willow Grove</th>\n",
       "      <th>nearest_city_Windsor</th>\n",
       "      <th>nearest_city_Winnipeg</th>\n",
       "      <th>nearest_city_Winter Park</th>\n",
       "      <th>nearest_city_Wolverhampton</th>\n",
       "      <th>nearest_city_Woodstock</th>\n",
       "      <th>nearest_city_Xiuying</th>\n",
       "      <th>nearest_city_Zionsville</th>\n",
       "    </tr>\n",
       "  </thead>\n",
       "  <tbody>\n",
       "    <tr>\n",
       "      <th>0</th>\n",
       "      <td>0</td>\n",
       "      <td>0</td>\n",
       "      <td>0</td>\n",
       "      <td>0</td>\n",
       "      <td>0</td>\n",
       "      <td>0</td>\n",
       "      <td>0</td>\n",
       "      <td>0</td>\n",
       "      <td>0</td>\n",
       "      <td>0</td>\n",
       "      <td>...</td>\n",
       "      <td>0</td>\n",
       "      <td>0</td>\n",
       "      <td>0</td>\n",
       "      <td>0</td>\n",
       "      <td>0</td>\n",
       "      <td>0</td>\n",
       "      <td>0</td>\n",
       "      <td>0</td>\n",
       "      <td>0</td>\n",
       "      <td>0</td>\n",
       "    </tr>\n",
       "    <tr>\n",
       "      <th>1</th>\n",
       "      <td>0</td>\n",
       "      <td>0</td>\n",
       "      <td>0</td>\n",
       "      <td>0</td>\n",
       "      <td>0</td>\n",
       "      <td>0</td>\n",
       "      <td>0</td>\n",
       "      <td>0</td>\n",
       "      <td>0</td>\n",
       "      <td>0</td>\n",
       "      <td>...</td>\n",
       "      <td>0</td>\n",
       "      <td>0</td>\n",
       "      <td>0</td>\n",
       "      <td>0</td>\n",
       "      <td>0</td>\n",
       "      <td>0</td>\n",
       "      <td>0</td>\n",
       "      <td>0</td>\n",
       "      <td>0</td>\n",
       "      <td>0</td>\n",
       "    </tr>\n",
       "    <tr>\n",
       "      <th>2</th>\n",
       "      <td>0</td>\n",
       "      <td>0</td>\n",
       "      <td>0</td>\n",
       "      <td>0</td>\n",
       "      <td>0</td>\n",
       "      <td>0</td>\n",
       "      <td>0</td>\n",
       "      <td>0</td>\n",
       "      <td>0</td>\n",
       "      <td>0</td>\n",
       "      <td>...</td>\n",
       "      <td>0</td>\n",
       "      <td>0</td>\n",
       "      <td>0</td>\n",
       "      <td>0</td>\n",
       "      <td>0</td>\n",
       "      <td>0</td>\n",
       "      <td>0</td>\n",
       "      <td>0</td>\n",
       "      <td>0</td>\n",
       "      <td>0</td>\n",
       "    </tr>\n",
       "    <tr>\n",
       "      <th>3</th>\n",
       "      <td>0</td>\n",
       "      <td>0</td>\n",
       "      <td>0</td>\n",
       "      <td>0</td>\n",
       "      <td>0</td>\n",
       "      <td>0</td>\n",
       "      <td>0</td>\n",
       "      <td>0</td>\n",
       "      <td>0</td>\n",
       "      <td>0</td>\n",
       "      <td>...</td>\n",
       "      <td>0</td>\n",
       "      <td>0</td>\n",
       "      <td>0</td>\n",
       "      <td>0</td>\n",
       "      <td>0</td>\n",
       "      <td>0</td>\n",
       "      <td>0</td>\n",
       "      <td>0</td>\n",
       "      <td>0</td>\n",
       "      <td>0</td>\n",
       "    </tr>\n",
       "    <tr>\n",
       "      <th>4</th>\n",
       "      <td>0</td>\n",
       "      <td>0</td>\n",
       "      <td>0</td>\n",
       "      <td>0</td>\n",
       "      <td>0</td>\n",
       "      <td>0</td>\n",
       "      <td>0</td>\n",
       "      <td>0</td>\n",
       "      <td>0</td>\n",
       "      <td>0</td>\n",
       "      <td>...</td>\n",
       "      <td>0</td>\n",
       "      <td>0</td>\n",
       "      <td>0</td>\n",
       "      <td>0</td>\n",
       "      <td>0</td>\n",
       "      <td>0</td>\n",
       "      <td>0</td>\n",
       "      <td>0</td>\n",
       "      <td>0</td>\n",
       "      <td>0</td>\n",
       "    </tr>\n",
       "  </tbody>\n",
       "</table>\n",
       "<p>5 rows × 291 columns</p>\n",
       "</div>"
      ],
      "text/plain": [
       "   nearest_city_Addison  nearest_city_Aldine  nearest_city_Aliso Viejo  \\\n",
       "0                     0                    0                         0   \n",
       "1                     0                    0                         0   \n",
       "2                     0                    0                         0   \n",
       "3                     0                    0                         0   \n",
       "4                     0                    0                         0   \n",
       "\n",
       "   nearest_city_Allen  nearest_city_American Fork  nearest_city_Anaheim  \\\n",
       "0                   0                           0                     0   \n",
       "1                   0                           0                     0   \n",
       "2                   0                           0                     0   \n",
       "3                   0                           0                     0   \n",
       "4                   0                           0                     0   \n",
       "\n",
       "   nearest_city_Angeles City  nearest_city_Annapolis  nearest_city_Arbutus  \\\n",
       "0                          0                       0                     0   \n",
       "1                          0                       0                     0   \n",
       "2                          0                       0                     0   \n",
       "3                          0                       0                     0   \n",
       "4                          0                       0                     0   \n",
       "\n",
       "   nearest_city_Ashford           ...             nearest_city_Whitestone  \\\n",
       "0                     0           ...                                   0   \n",
       "1                     0           ...                                   0   \n",
       "2                     0           ...                                   0   \n",
       "3                     0           ...                                   0   \n",
       "4                     0           ...                                   0   \n",
       "\n",
       "   nearest_city_Williamsport  nearest_city_Willow Grove  nearest_city_Windsor  \\\n",
       "0                          0                          0                     0   \n",
       "1                          0                          0                     0   \n",
       "2                          0                          0                     0   \n",
       "3                          0                          0                     0   \n",
       "4                          0                          0                     0   \n",
       "\n",
       "   nearest_city_Winnipeg  nearest_city_Winter Park  \\\n",
       "0                      0                         0   \n",
       "1                      0                         0   \n",
       "2                      0                         0   \n",
       "3                      0                         0   \n",
       "4                      0                         0   \n",
       "\n",
       "   nearest_city_Wolverhampton  nearest_city_Woodstock  nearest_city_Xiuying  \\\n",
       "0                           0                       0                     0   \n",
       "1                           0                       0                     0   \n",
       "2                           0                       0                     0   \n",
       "3                           0                       0                     0   \n",
       "4                           0                       0                     0   \n",
       "\n",
       "   nearest_city_Zionsville  \n",
       "0                        0  \n",
       "1                        0  \n",
       "2                        0  \n",
       "3                        0  \n",
       "4                        0  \n",
       "\n",
       "[5 rows x 291 columns]"
      ]
     },
     "execution_count": 223,
     "metadata": {},
     "output_type": "execute_result"
    }
   ],
   "source": [
    "# feature encoding\n",
    "features = pd.get_dummies(feature_df, columns=[\"nearest_city\"])\n",
    "features[0:5]"
   ]
  },
  {
   "cell_type": "code",
   "execution_count": 268,
   "metadata": {},
   "outputs": [
    {
     "data": {
      "text/plain": [
       "list"
      ]
     },
     "execution_count": 268,
     "metadata": {},
     "output_type": "execute_result"
    }
   ],
   "source": [
    "col = features.columns.values  # use this if u have to get feature names\n",
    "feature_names = pd.Series(col)\n",
    "type(feature_names)"
   ]
  },
  {
   "cell_type": "code",
   "execution_count": 225,
   "metadata": {},
   "outputs": [
    {
     "name": "stdout",
     "output_type": "stream",
     "text": [
      "[0, 1, 2]\n"
     ]
    },
    {
     "data": {
      "text/plain": [
       "array([2, 0, 1, 0, 2])"
      ]
     },
     "execution_count": 225,
     "metadata": {},
     "output_type": "execute_result"
    }
   ],
   "source": [
    "# label encoding\n",
    "from sklearn import preprocessing\n",
    "le = preprocessing.LabelEncoder()\n",
    "le.fit(label_df.values)\n",
    "print(list(le.classes_))\n",
    "labels = le.transform(label_df)\n",
    "labels[0:5]"
   ]
  },
  {
   "cell_type": "code",
   "execution_count": 226,
   "metadata": {},
   "outputs": [
    {
     "data": {
      "text/plain": [
       "numpy.ndarray"
      ]
     },
     "execution_count": 226,
     "metadata": {},
     "output_type": "execute_result"
    }
   ],
   "source": [
    "type(labels)"
   ]
  },
  {
   "cell_type": "code",
   "execution_count": 227,
   "metadata": {},
   "outputs": [
    {
     "data": {
      "text/plain": [
       "array([2, 0, 1, 0, 2])"
      ]
     },
     "execution_count": 227,
     "metadata": {},
     "output_type": "execute_result"
    }
   ],
   "source": [
    "label_df.values[0:5]"
   ]
  },
  {
   "cell_type": "code",
   "execution_count": 228,
   "metadata": {
    "collapsed": true
   },
   "outputs": [],
   "source": [
    "# luigi\n",
    "features['labels'] = labels"
   ]
  },
  {
   "cell_type": "code",
   "execution_count": 229,
   "metadata": {},
   "outputs": [
    {
     "data": {
      "text/html": [
       "<div>\n",
       "<style>\n",
       "    .dataframe thead tr:only-child th {\n",
       "        text-align: right;\n",
       "    }\n",
       "\n",
       "    .dataframe thead th {\n",
       "        text-align: left;\n",
       "    }\n",
       "\n",
       "    .dataframe tbody tr th {\n",
       "        vertical-align: top;\n",
       "    }\n",
       "</style>\n",
       "<table border=\"1\" class=\"dataframe\">\n",
       "  <thead>\n",
       "    <tr style=\"text-align: right;\">\n",
       "      <th></th>\n",
       "      <th>nearest_city_Addison</th>\n",
       "      <th>nearest_city_Aldine</th>\n",
       "      <th>nearest_city_Aliso Viejo</th>\n",
       "      <th>nearest_city_Allen</th>\n",
       "      <th>nearest_city_American Fork</th>\n",
       "      <th>nearest_city_Anaheim</th>\n",
       "      <th>nearest_city_Angeles City</th>\n",
       "      <th>nearest_city_Annapolis</th>\n",
       "      <th>nearest_city_Arbutus</th>\n",
       "      <th>nearest_city_Ashford</th>\n",
       "      <th>...</th>\n",
       "      <th>nearest_city_Williamsport</th>\n",
       "      <th>nearest_city_Willow Grove</th>\n",
       "      <th>nearest_city_Windsor</th>\n",
       "      <th>nearest_city_Winnipeg</th>\n",
       "      <th>nearest_city_Winter Park</th>\n",
       "      <th>nearest_city_Wolverhampton</th>\n",
       "      <th>nearest_city_Woodstock</th>\n",
       "      <th>nearest_city_Xiuying</th>\n",
       "      <th>nearest_city_Zionsville</th>\n",
       "      <th>labels</th>\n",
       "    </tr>\n",
       "  </thead>\n",
       "  <tbody>\n",
       "    <tr>\n",
       "      <th>0</th>\n",
       "      <td>0</td>\n",
       "      <td>0</td>\n",
       "      <td>0</td>\n",
       "      <td>0</td>\n",
       "      <td>0</td>\n",
       "      <td>0</td>\n",
       "      <td>0</td>\n",
       "      <td>0</td>\n",
       "      <td>0</td>\n",
       "      <td>0</td>\n",
       "      <td>...</td>\n",
       "      <td>0</td>\n",
       "      <td>0</td>\n",
       "      <td>0</td>\n",
       "      <td>0</td>\n",
       "      <td>0</td>\n",
       "      <td>0</td>\n",
       "      <td>0</td>\n",
       "      <td>0</td>\n",
       "      <td>0</td>\n",
       "      <td>2</td>\n",
       "    </tr>\n",
       "    <tr>\n",
       "      <th>1</th>\n",
       "      <td>0</td>\n",
       "      <td>0</td>\n",
       "      <td>0</td>\n",
       "      <td>0</td>\n",
       "      <td>0</td>\n",
       "      <td>0</td>\n",
       "      <td>0</td>\n",
       "      <td>0</td>\n",
       "      <td>0</td>\n",
       "      <td>0</td>\n",
       "      <td>...</td>\n",
       "      <td>0</td>\n",
       "      <td>0</td>\n",
       "      <td>0</td>\n",
       "      <td>0</td>\n",
       "      <td>0</td>\n",
       "      <td>0</td>\n",
       "      <td>0</td>\n",
       "      <td>0</td>\n",
       "      <td>0</td>\n",
       "      <td>0</td>\n",
       "    </tr>\n",
       "    <tr>\n",
       "      <th>2</th>\n",
       "      <td>0</td>\n",
       "      <td>0</td>\n",
       "      <td>0</td>\n",
       "      <td>0</td>\n",
       "      <td>0</td>\n",
       "      <td>0</td>\n",
       "      <td>0</td>\n",
       "      <td>0</td>\n",
       "      <td>0</td>\n",
       "      <td>0</td>\n",
       "      <td>...</td>\n",
       "      <td>0</td>\n",
       "      <td>0</td>\n",
       "      <td>0</td>\n",
       "      <td>0</td>\n",
       "      <td>0</td>\n",
       "      <td>0</td>\n",
       "      <td>0</td>\n",
       "      <td>0</td>\n",
       "      <td>0</td>\n",
       "      <td>1</td>\n",
       "    </tr>\n",
       "    <tr>\n",
       "      <th>3</th>\n",
       "      <td>0</td>\n",
       "      <td>0</td>\n",
       "      <td>0</td>\n",
       "      <td>0</td>\n",
       "      <td>0</td>\n",
       "      <td>0</td>\n",
       "      <td>0</td>\n",
       "      <td>0</td>\n",
       "      <td>0</td>\n",
       "      <td>0</td>\n",
       "      <td>...</td>\n",
       "      <td>0</td>\n",
       "      <td>0</td>\n",
       "      <td>0</td>\n",
       "      <td>0</td>\n",
       "      <td>0</td>\n",
       "      <td>0</td>\n",
       "      <td>0</td>\n",
       "      <td>0</td>\n",
       "      <td>0</td>\n",
       "      <td>0</td>\n",
       "    </tr>\n",
       "    <tr>\n",
       "      <th>4</th>\n",
       "      <td>0</td>\n",
       "      <td>0</td>\n",
       "      <td>0</td>\n",
       "      <td>0</td>\n",
       "      <td>0</td>\n",
       "      <td>0</td>\n",
       "      <td>0</td>\n",
       "      <td>0</td>\n",
       "      <td>0</td>\n",
       "      <td>0</td>\n",
       "      <td>...</td>\n",
       "      <td>0</td>\n",
       "      <td>0</td>\n",
       "      <td>0</td>\n",
       "      <td>0</td>\n",
       "      <td>0</td>\n",
       "      <td>0</td>\n",
       "      <td>0</td>\n",
       "      <td>0</td>\n",
       "      <td>0</td>\n",
       "      <td>2</td>\n",
       "    </tr>\n",
       "  </tbody>\n",
       "</table>\n",
       "<p>5 rows × 292 columns</p>\n",
       "</div>"
      ],
      "text/plain": [
       "   nearest_city_Addison  nearest_city_Aldine  nearest_city_Aliso Viejo  \\\n",
       "0                     0                    0                         0   \n",
       "1                     0                    0                         0   \n",
       "2                     0                    0                         0   \n",
       "3                     0                    0                         0   \n",
       "4                     0                    0                         0   \n",
       "\n",
       "   nearest_city_Allen  nearest_city_American Fork  nearest_city_Anaheim  \\\n",
       "0                   0                           0                     0   \n",
       "1                   0                           0                     0   \n",
       "2                   0                           0                     0   \n",
       "3                   0                           0                     0   \n",
       "4                   0                           0                     0   \n",
       "\n",
       "   nearest_city_Angeles City  nearest_city_Annapolis  nearest_city_Arbutus  \\\n",
       "0                          0                       0                     0   \n",
       "1                          0                       0                     0   \n",
       "2                          0                       0                     0   \n",
       "3                          0                       0                     0   \n",
       "4                          0                       0                     0   \n",
       "\n",
       "   nearest_city_Ashford   ...    nearest_city_Williamsport  \\\n",
       "0                     0   ...                            0   \n",
       "1                     0   ...                            0   \n",
       "2                     0   ...                            0   \n",
       "3                     0   ...                            0   \n",
       "4                     0   ...                            0   \n",
       "\n",
       "   nearest_city_Willow Grove  nearest_city_Windsor  nearest_city_Winnipeg  \\\n",
       "0                          0                     0                      0   \n",
       "1                          0                     0                      0   \n",
       "2                          0                     0                      0   \n",
       "3                          0                     0                      0   \n",
       "4                          0                     0                      0   \n",
       "\n",
       "   nearest_city_Winter Park  nearest_city_Wolverhampton  \\\n",
       "0                         0                           0   \n",
       "1                         0                           0   \n",
       "2                         0                           0   \n",
       "3                         0                           0   \n",
       "4                         0                           0   \n",
       "\n",
       "   nearest_city_Woodstock  nearest_city_Xiuying  nearest_city_Zionsville  \\\n",
       "0                       0                     0                        0   \n",
       "1                       0                     0                        0   \n",
       "2                       0                     0                        0   \n",
       "3                       0                     0                        0   \n",
       "4                       0                     0                        0   \n",
       "\n",
       "   labels  \n",
       "0       2  \n",
       "1       0  \n",
       "2       1  \n",
       "3       0  \n",
       "4       2  \n",
       "\n",
       "[5 rows x 292 columns]"
      ]
     },
     "execution_count": 229,
     "metadata": {},
     "output_type": "execute_result"
    }
   ],
   "source": [
    "features[0:5]  # save this to csv"
   ]
  },
  {
   "cell_type": "code",
   "execution_count": 120,
   "metadata": {},
   "outputs": [],
   "source": [
    "labels = features['labels']\n",
    "labels = np.array(labels)\n",
    "features= features.drop(['labels'],axis=1)"
   ]
  },
  {
   "cell_type": "code",
   "execution_count": 121,
   "metadata": {},
   "outputs": [
    {
     "data": {
      "text/html": [
       "<div>\n",
       "<style>\n",
       "    .dataframe thead tr:only-child th {\n",
       "        text-align: right;\n",
       "    }\n",
       "\n",
       "    .dataframe thead th {\n",
       "        text-align: left;\n",
       "    }\n",
       "\n",
       "    .dataframe tbody tr th {\n",
       "        vertical-align: top;\n",
       "    }\n",
       "</style>\n",
       "<table border=\"1\" class=\"dataframe\">\n",
       "  <thead>\n",
       "    <tr style=\"text-align: right;\">\n",
       "      <th></th>\n",
       "      <th>nearest_city_Addison</th>\n",
       "      <th>nearest_city_Aldine</th>\n",
       "      <th>nearest_city_Aliso Viejo</th>\n",
       "      <th>nearest_city_Allen</th>\n",
       "      <th>nearest_city_American Fork</th>\n",
       "      <th>nearest_city_Anaheim</th>\n",
       "      <th>nearest_city_Angeles City</th>\n",
       "      <th>nearest_city_Annapolis</th>\n",
       "      <th>nearest_city_Arbutus</th>\n",
       "      <th>nearest_city_Ashford</th>\n",
       "      <th>...</th>\n",
       "      <th>nearest_city_Whitestone</th>\n",
       "      <th>nearest_city_Williamsport</th>\n",
       "      <th>nearest_city_Willow Grove</th>\n",
       "      <th>nearest_city_Windsor</th>\n",
       "      <th>nearest_city_Winnipeg</th>\n",
       "      <th>nearest_city_Winter Park</th>\n",
       "      <th>nearest_city_Wolverhampton</th>\n",
       "      <th>nearest_city_Woodstock</th>\n",
       "      <th>nearest_city_Xiuying</th>\n",
       "      <th>nearest_city_Zionsville</th>\n",
       "    </tr>\n",
       "  </thead>\n",
       "  <tbody>\n",
       "    <tr>\n",
       "      <th>0</th>\n",
       "      <td>0</td>\n",
       "      <td>0</td>\n",
       "      <td>0</td>\n",
       "      <td>0</td>\n",
       "      <td>0</td>\n",
       "      <td>0</td>\n",
       "      <td>0</td>\n",
       "      <td>0</td>\n",
       "      <td>0</td>\n",
       "      <td>0</td>\n",
       "      <td>...</td>\n",
       "      <td>0</td>\n",
       "      <td>0</td>\n",
       "      <td>0</td>\n",
       "      <td>0</td>\n",
       "      <td>0</td>\n",
       "      <td>0</td>\n",
       "      <td>0</td>\n",
       "      <td>0</td>\n",
       "      <td>0</td>\n",
       "      <td>0</td>\n",
       "    </tr>\n",
       "    <tr>\n",
       "      <th>1</th>\n",
       "      <td>0</td>\n",
       "      <td>0</td>\n",
       "      <td>0</td>\n",
       "      <td>0</td>\n",
       "      <td>0</td>\n",
       "      <td>0</td>\n",
       "      <td>0</td>\n",
       "      <td>0</td>\n",
       "      <td>0</td>\n",
       "      <td>0</td>\n",
       "      <td>...</td>\n",
       "      <td>0</td>\n",
       "      <td>0</td>\n",
       "      <td>0</td>\n",
       "      <td>0</td>\n",
       "      <td>0</td>\n",
       "      <td>0</td>\n",
       "      <td>0</td>\n",
       "      <td>0</td>\n",
       "      <td>0</td>\n",
       "      <td>0</td>\n",
       "    </tr>\n",
       "    <tr>\n",
       "      <th>2</th>\n",
       "      <td>0</td>\n",
       "      <td>0</td>\n",
       "      <td>0</td>\n",
       "      <td>0</td>\n",
       "      <td>0</td>\n",
       "      <td>0</td>\n",
       "      <td>0</td>\n",
       "      <td>0</td>\n",
       "      <td>0</td>\n",
       "      <td>0</td>\n",
       "      <td>...</td>\n",
       "      <td>0</td>\n",
       "      <td>0</td>\n",
       "      <td>0</td>\n",
       "      <td>0</td>\n",
       "      <td>0</td>\n",
       "      <td>0</td>\n",
       "      <td>0</td>\n",
       "      <td>0</td>\n",
       "      <td>0</td>\n",
       "      <td>0</td>\n",
       "    </tr>\n",
       "    <tr>\n",
       "      <th>3</th>\n",
       "      <td>0</td>\n",
       "      <td>0</td>\n",
       "      <td>0</td>\n",
       "      <td>0</td>\n",
       "      <td>0</td>\n",
       "      <td>0</td>\n",
       "      <td>0</td>\n",
       "      <td>0</td>\n",
       "      <td>0</td>\n",
       "      <td>0</td>\n",
       "      <td>...</td>\n",
       "      <td>0</td>\n",
       "      <td>0</td>\n",
       "      <td>0</td>\n",
       "      <td>0</td>\n",
       "      <td>0</td>\n",
       "      <td>0</td>\n",
       "      <td>0</td>\n",
       "      <td>0</td>\n",
       "      <td>0</td>\n",
       "      <td>0</td>\n",
       "    </tr>\n",
       "    <tr>\n",
       "      <th>4</th>\n",
       "      <td>0</td>\n",
       "      <td>0</td>\n",
       "      <td>0</td>\n",
       "      <td>0</td>\n",
       "      <td>0</td>\n",
       "      <td>0</td>\n",
       "      <td>0</td>\n",
       "      <td>0</td>\n",
       "      <td>0</td>\n",
       "      <td>0</td>\n",
       "      <td>...</td>\n",
       "      <td>0</td>\n",
       "      <td>0</td>\n",
       "      <td>0</td>\n",
       "      <td>0</td>\n",
       "      <td>0</td>\n",
       "      <td>0</td>\n",
       "      <td>0</td>\n",
       "      <td>0</td>\n",
       "      <td>0</td>\n",
       "      <td>0</td>\n",
       "    </tr>\n",
       "  </tbody>\n",
       "</table>\n",
       "<p>5 rows × 291 columns</p>\n",
       "</div>"
      ],
      "text/plain": [
       "   nearest_city_Addison  nearest_city_Aldine  nearest_city_Aliso Viejo  \\\n",
       "0                     0                    0                         0   \n",
       "1                     0                    0                         0   \n",
       "2                     0                    0                         0   \n",
       "3                     0                    0                         0   \n",
       "4                     0                    0                         0   \n",
       "\n",
       "   nearest_city_Allen  nearest_city_American Fork  nearest_city_Anaheim  \\\n",
       "0                   0                           0                     0   \n",
       "1                   0                           0                     0   \n",
       "2                   0                           0                     0   \n",
       "3                   0                           0                     0   \n",
       "4                   0                           0                     0   \n",
       "\n",
       "   nearest_city_Angeles City  nearest_city_Annapolis  nearest_city_Arbutus  \\\n",
       "0                          0                       0                     0   \n",
       "1                          0                       0                     0   \n",
       "2                          0                       0                     0   \n",
       "3                          0                       0                     0   \n",
       "4                          0                       0                     0   \n",
       "\n",
       "   nearest_city_Ashford           ...             nearest_city_Whitestone  \\\n",
       "0                     0           ...                                   0   \n",
       "1                     0           ...                                   0   \n",
       "2                     0           ...                                   0   \n",
       "3                     0           ...                                   0   \n",
       "4                     0           ...                                   0   \n",
       "\n",
       "   nearest_city_Williamsport  nearest_city_Willow Grove  nearest_city_Windsor  \\\n",
       "0                          0                          0                     0   \n",
       "1                          0                          0                     0   \n",
       "2                          0                          0                     0   \n",
       "3                          0                          0                     0   \n",
       "4                          0                          0                     0   \n",
       "\n",
       "   nearest_city_Winnipeg  nearest_city_Winter Park  \\\n",
       "0                      0                         0   \n",
       "1                      0                         0   \n",
       "2                      0                         0   \n",
       "3                      0                         0   \n",
       "4                      0                         0   \n",
       "\n",
       "   nearest_city_Wolverhampton  nearest_city_Woodstock  nearest_city_Xiuying  \\\n",
       "0                           0                       0                     0   \n",
       "1                           0                       0                     0   \n",
       "2                           0                       0                     0   \n",
       "3                           0                       0                     0   \n",
       "4                           0                       0                     0   \n",
       "\n",
       "   nearest_city_Zionsville  \n",
       "0                        0  \n",
       "1                        0  \n",
       "2                        0  \n",
       "3                        0  \n",
       "4                        0  \n",
       "\n",
       "[5 rows x 291 columns]"
      ]
     },
     "execution_count": 121,
     "metadata": {},
     "output_type": "execute_result"
    }
   ],
   "source": [
    "features[0:5]"
   ]
  },
  {
   "cell_type": "code",
   "execution_count": 122,
   "metadata": {
    "collapsed": true
   },
   "outputs": [],
   "source": [
    "# remove if does not work\n",
    "#labels = label_df.values has same effect as above transformation"
   ]
  },
  {
   "cell_type": "code",
   "execution_count": 230,
   "metadata": {},
   "outputs": [
    {
     "name": "stdout",
     "output_type": "stream",
     "text": [
      "(855, 292)\n",
      "(855,)\n"
     ]
    }
   ],
   "source": [
    "print(features.shape)\n",
    "print(labels.shape)"
   ]
  },
  {
   "cell_type": "code",
   "execution_count": 231,
   "metadata": {},
   "outputs": [],
   "source": [
    "# split X and y into training and testing sets\n",
    "from sklearn.cross_validation import train_test_split\n",
    "X_train, X_test, y_train, y_test = train_test_split(features,labels,test_size = 0.40, random_state=0)\n",
    "\n",
    "X_train = np.array(X_train)\n",
    "X_test = np.array(X_test)"
   ]
  },
  {
   "cell_type": "code",
   "execution_count": 232,
   "metadata": {},
   "outputs": [
    {
     "name": "stdout",
     "output_type": "stream",
     "text": [
      "<class 'numpy.ndarray'> (513, 292)\n",
      "<class 'numpy.ndarray'> (513,)\n",
      "<class 'numpy.ndarray'> (342, 292)\n",
      "<class 'numpy.ndarray'> (342,)\n"
     ]
    }
   ],
   "source": [
    "print(type(X_train),X_train.shape)\n",
    "print(type(y_train),y_train.shape)\n",
    "print(type(X_test),X_test.shape)\n",
    "print(type(y_test),y_test.shape)"
   ]
  },
  {
   "cell_type": "markdown",
   "metadata": {},
   "source": [
    "## Fitting GaussianNB"
   ]
  },
  {
   "cell_type": "code",
   "execution_count": 238,
   "metadata": {},
   "outputs": [
    {
     "data": {
      "text/plain": [
       "GaussianNB(priors=None)"
      ]
     },
     "execution_count": 238,
     "metadata": {},
     "output_type": "execute_result"
    }
   ],
   "source": [
    "from sklearn.naive_bayes import GaussianNB\n",
    "# create Gaussian Naive Bayes model object and train it with the data\n",
    "nb_model = GaussianNB()\n",
    "nb_model.fit(X_train, y_train)"
   ]
  },
  {
   "cell_type": "code",
   "execution_count": 298,
   "metadata": {},
   "outputs": [
    {
     "name": "stdout",
     "output_type": "stream",
     "text": [
      "0.973684210526\n"
     ]
    }
   ],
   "source": [
    "import pickle\n",
    "from sklearn import metrics\n",
    "\n",
    "# save the classifier\n",
    "# save the model to disk\n",
    "filename = 'finalized_model.gnb'\n",
    "pickle.dump(nb_model, open(filename, 'wb'))   \n",
    "\n",
    "# load the model from disk\n",
    "nb_model = pickle.load(open(filename, 'rb'))\n",
    "ModelScore = nb_model.score(X_test, y_test)\n",
    "print(ModelScore)"
   ]
  },
  {
   "cell_type": "code",
   "execution_count": 299,
   "metadata": {},
   "outputs": [
    {
     "name": "stdout",
     "output_type": "stream",
     "text": [
      "Accuracy: 0.9737\n",
      "\n"
     ]
    }
   ],
   "source": [
    "# predict values using the training data\n",
    "nb_predict_class = nb_model.predict(X_test)\n",
    "# Accuracy\n",
    "print(\"Accuracy: {0:.4f}\".format(metrics.accuracy_score(y_test, nb_predict_class)))\n",
    "print()"
   ]
  },
  {
   "cell_type": "code",
   "execution_count": 245,
   "metadata": {},
   "outputs": [
    {
     "data": {
      "text/plain": [
       "array([0, 1, 0, 0, 2])"
      ]
     },
     "execution_count": 245,
     "metadata": {},
     "output_type": "execute_result"
    }
   ],
   "source": [
    "nb_predict_class[0:5]"
   ]
  },
  {
   "cell_type": "code",
   "execution_count": 300,
   "metadata": {},
   "outputs": [
    {
     "data": {
      "text/plain": [
       "<matplotlib.text.Text at 0x7fbdafa0d5c0>"
      ]
     },
     "execution_count": 300,
     "metadata": {},
     "output_type": "execute_result"
    },
    {
     "data": {
      "image/png": "[encoded data removed]",
      "text/plain": [
       "<matplotlib.figure.Figure at 0x7fbdafee9a90>"
      ]
     },
     "metadata": {},
     "output_type": "display_data"
    }
   ],
   "source": [
    "from sklearn.metrics import confusion_matrix\n",
    "import seaborn as sns\n",
    "\n",
    "mat = confusion_matrix(y_test,nb_predict_class)\n",
    "sns.heatmap(mat,square=True,annot=True,fmt='g',cbar=False)\n",
    "#plt(figsize=(5,5))\n",
    "plt.xlabel('predicted value')\n",
    "plt.ylabel('Actual value')"
   ]
  },
  {
   "cell_type": "code",
   "execution_count": 247,
   "metadata": {
    "collapsed": true
   },
   "outputs": [],
   "source": [
    "# Although the accuracy is low, this fits the data really well."
   ]
  },
  {
   "cell_type": "code",
   "execution_count": 248,
   "metadata": {},
   "outputs": [
    {
     "data": {
      "text/plain": [
       "array([ 0.95652174,  0.92982456,  1.        ])"
      ]
     },
     "execution_count": 248,
     "metadata": {},
     "output_type": "execute_result"
    }
   ],
   "source": [
    "from sklearn.model_selection import cross_val_score\n",
    "cross_val_score(nb_model,X_test, y_test)"
   ]
  },
  {
   "cell_type": "code",
   "execution_count": null,
   "metadata": {
    "collapsed": true
   },
   "outputs": [],
   "source": []
  },
  {
   "cell_type": "code",
   "execution_count": 251,
   "metadata": {
    "collapsed": true
   },
   "outputs": [],
   "source": [
    "probabilities = nb_model.predict_proba(X_test)"
   ]
  },
  {
   "cell_type": "code",
   "execution_count": 252,
   "metadata": {},
   "outputs": [
    {
     "data": {
      "text/plain": [
       "array([0, 1, 2])"
      ]
     },
     "execution_count": 252,
     "metadata": {},
     "output_type": "execute_result"
    }
   ],
   "source": [
    "nb_model.classes_"
   ]
  },
  {
   "cell_type": "code",
   "execution_count": 253,
   "metadata": {},
   "outputs": [
    {
     "data": {
      "text/plain": [
       "array([[  1.00000000e+000,   0.00000000e+000,   0.00000000e+000],\n",
       "       [  0.00000000e+000,   1.00000000e+000,   0.00000000e+000],\n",
       "       [  1.00000000e+000,   0.00000000e+000,   0.00000000e+000],\n",
       "       [  1.00000000e+000,   0.00000000e+000,   0.00000000e+000],\n",
       "       [  0.00000000e+000,   0.00000000e+000,   1.00000000e+000],\n",
       "       [  1.00000000e+000,   0.00000000e+000,   0.00000000e+000],\n",
       "       [  0.00000000e+000,   1.00000000e+000,   0.00000000e+000],\n",
       "       [  0.00000000e+000,   0.00000000e+000,   1.00000000e+000],\n",
       "       [  0.00000000e+000,   0.00000000e+000,   1.00000000e+000],\n",
       "       [  0.00000000e+000,   0.00000000e+000,   1.00000000e+000],\n",
       "       [  1.00000000e+000,   0.00000000e+000,   0.00000000e+000],\n",
       "       [  0.00000000e+000,   1.00000000e+000,   0.00000000e+000],\n",
       "       [  0.00000000e+000,   0.00000000e+000,   1.00000000e+000],\n",
       "       [  1.00000000e+000,   0.00000000e+000,   0.00000000e+000],\n",
       "       [  1.00000000e+000,   0.00000000e+000,   0.00000000e+000],\n",
       "       [  1.00000000e+000,   0.00000000e+000,   0.00000000e+000],\n",
       "       [  1.00000000e+000,   0.00000000e+000,   0.00000000e+000],\n",
       "       [  1.00000000e+000,   0.00000000e+000,   0.00000000e+000],\n",
       "       [  0.00000000e+000,   1.00000000e+000,   0.00000000e+000],\n",
       "       [  1.00000000e+000,   0.00000000e+000,   0.00000000e+000],\n",
       "       [  0.00000000e+000,   1.00000000e+000,   3.48768857e-037],\n",
       "       [  1.00000000e+000,   0.00000000e+000,   0.00000000e+000],\n",
       "       [  1.00000000e+000,   0.00000000e+000,   0.00000000e+000],\n",
       "       [  1.00000000e+000,   0.00000000e+000,   0.00000000e+000],\n",
       "       [  1.00000000e+000,   0.00000000e+000,   0.00000000e+000],\n",
       "       [  1.00000000e+000,   0.00000000e+000,   0.00000000e+000],\n",
       "       [  0.00000000e+000,   0.00000000e+000,   1.00000000e+000],\n",
       "       [  1.00000000e+000,   0.00000000e+000,   0.00000000e+000],\n",
       "       [  0.00000000e+000,   1.00000000e+000,   0.00000000e+000],\n",
       "       [  1.00000000e+000,   0.00000000e+000,   0.00000000e+000],\n",
       "       [  0.00000000e+000,   1.00000000e+000,   0.00000000e+000],\n",
       "       [  1.00000000e+000,   0.00000000e+000,   0.00000000e+000],\n",
       "       [  1.00000000e+000,   0.00000000e+000,   0.00000000e+000],\n",
       "       [  1.00000000e+000,   0.00000000e+000,   0.00000000e+000],\n",
       "       [  0.00000000e+000,   0.00000000e+000,   1.00000000e+000],\n",
       "       [  4.94065646e-324,   1.00000000e+000,   1.42208476e-072],\n",
       "       [  1.00000000e+000,   0.00000000e+000,   0.00000000e+000],\n",
       "       [  1.00000000e+000,   0.00000000e+000,   0.00000000e+000],\n",
       "       [  1.00000000e+000,   0.00000000e+000,   0.00000000e+000],\n",
       "       [  0.00000000e+000,   0.00000000e+000,   1.00000000e+000],\n",
       "       [  0.00000000e+000,   1.00000000e+000,   1.42208527e-072],\n",
       "       [  1.00000000e+000,   0.00000000e+000,   0.00000000e+000],\n",
       "       [  1.00000000e+000,   0.00000000e+000,   0.00000000e+000],\n",
       "       [  0.00000000e+000,   0.00000000e+000,   1.00000000e+000],\n",
       "       [  1.00000000e+000,   0.00000000e+000,   0.00000000e+000],\n",
       "       [  1.00000000e+000,   0.00000000e+000,   0.00000000e+000],\n",
       "       [  0.00000000e+000,   0.00000000e+000,   1.00000000e+000],\n",
       "       [  1.00000000e+000,   0.00000000e+000,   0.00000000e+000],\n",
       "       [  0.00000000e+000,   1.00000000e+000,   0.00000000e+000],\n",
       "       [  1.00000000e+000,   0.00000000e+000,   0.00000000e+000]])"
      ]
     },
     "execution_count": 253,
     "metadata": {},
     "output_type": "execute_result"
    }
   ],
   "source": [
    "probabilities[0:50]"
   ]
  },
  {
   "cell_type": "code",
   "execution_count": 147,
   "metadata": {},
   "outputs": [
    {
     "data": {
      "text/plain": [
       "(342, 3)"
      ]
     },
     "execution_count": 147,
     "metadata": {},
     "output_type": "execute_result"
    }
   ],
   "source": [
    "probabilities.shape"
   ]
  },
  {
   "cell_type": "code",
   "execution_count": 148,
   "metadata": {
    "collapsed": true
   },
   "outputs": [],
   "source": [
    "#delete me\n",
    "nb_model.predict_proba?"
   ]
  },
  {
   "cell_type": "code",
   "execution_count": 254,
   "metadata": {
    "collapsed": true
   },
   "outputs": [],
   "source": [
    "classes = nb_model.classes_"
   ]
  },
  {
   "cell_type": "code",
   "execution_count": 255,
   "metadata": {},
   "outputs": [
    {
     "data": {
      "text/plain": [
       "array([[0, 0, 0, ..., 0, 0, 0],\n",
       "       [0, 0, 0, ..., 0, 0, 1],\n",
       "       [0, 0, 0, ..., 0, 0, 0],\n",
       "       [0, 0, 0, ..., 0, 0, 0],\n",
       "       [0, 0, 0, ..., 0, 0, 2]])"
      ]
     },
     "execution_count": 255,
     "metadata": {},
     "output_type": "execute_result"
    }
   ],
   "source": [
    "X_test[0:5]"
   ]
  },
  {
   "cell_type": "code",
   "execution_count": 256,
   "metadata": {
    "collapsed": true
   },
   "outputs": [],
   "source": [
    "predict = nb_model.predict(X_test)"
   ]
  },
  {
   "cell_type": "code",
   "execution_count": 257,
   "metadata": {},
   "outputs": [
    {
     "data": {
      "text/plain": [
       "array([0, 1, 0, 0, 2])"
      ]
     },
     "execution_count": 257,
     "metadata": {},
     "output_type": "execute_result"
    }
   ],
   "source": [
    "predict[0:5]"
   ]
  },
  {
   "cell_type": "code",
   "execution_count": 263,
   "metadata": {},
   "outputs": [
    {
     "ename": "TypeError",
     "evalue": "'feature_name' is an invalid keyword argument for this function",
     "output_type": "error",
     "traceback": [
      "\u001b[0;31m---------------------------------------------------------------------------\u001b[0m",
      "\u001b[0;31mTypeError\u001b[0m                                 Traceback (most recent call last)",
      "\u001b[0;32m<ipython-input-263-a408020696b8>\u001b[0m in \u001b[0;36m<module>\u001b[0;34m()\u001b[0m\n\u001b[0;32m----> 1\u001b[0;31m \u001b[0mprint\u001b[0m\u001b[0;34m(\u001b[0m\u001b[0mfeature_name\u001b[0m \u001b[0;34m=\u001b[0m \u001b[0mfeature_names\u001b[0m\u001b[0;34m)\u001b[0m\u001b[0;34m\u001b[0m\u001b[0m\n\u001b[0m",
      "\u001b[0;31mTypeError\u001b[0m: 'feature_name' is an invalid keyword argument for this function"
     ]
    }
   ],
   "source": []
  },
  {
   "cell_type": "code",
   "execution_count": 269,
   "metadata": {},
   "outputs": [
    {
     "data": {
      "text/plain": [
       "291"
      ]
     },
     "execution_count": 269,
     "metadata": {},
     "output_type": "execute_result"
    }
   ],
   "source": [
    "len(feature_names)"
   ]
  },
  {
   "cell_type": "code",
   "execution_count": 270,
   "metadata": {},
   "outputs": [
    {
     "data": {
      "text/plain": [
       "291"
      ]
     },
     "execution_count": 270,
     "metadata": {},
     "output_type": "execute_result"
    }
   ],
   "source": [
    "len(feature_names)"
   ]
  },
  {
   "cell_type": "code",
   "execution_count": 271,
   "metadata": {},
   "outputs": [
    {
     "data": {
      "text/plain": [
       "list"
      ]
     },
     "execution_count": 271,
     "metadata": {},
     "output_type": "execute_result"
    }
   ],
   "source": [
    "type(feature_names)"
   ]
  },
  {
   "cell_type": "code",
   "execution_count": 272,
   "metadata": {},
   "outputs": [
    {
     "data": {
      "text/plain": [
       "numpy.ndarray"
      ]
     },
     "execution_count": 272,
     "metadata": {},
     "output_type": "execute_result"
    }
   ],
   "source": [
    "type(probabilities)"
   ]
  },
  {
   "cell_type": "code",
   "execution_count": 273,
   "metadata": {},
   "outputs": [
    {
     "data": {
      "text/plain": [
       "(342, 3)"
      ]
     },
     "execution_count": 273,
     "metadata": {},
     "output_type": "execute_result"
    }
   ],
   "source": [
    "probabilities.shape"
   ]
  },
  {
   "cell_type": "code",
   "execution_count": 158,
   "metadata": {
    "collapsed": true
   },
   "outputs": [],
   "source": [
    "# delete me\n"
   ]
  },
  {
   "cell_type": "code",
   "execution_count": null,
   "metadata": {
    "collapsed": true
   },
   "outputs": [],
   "source": []
  },
  {
   "cell_type": "code",
   "execution_count": 274,
   "metadata": {
    "collapsed": true
   },
   "outputs": [],
   "source": [
    "probabilities_df = pd.DataFrame(probabilities,columns=['negative','neutral','positive'])"
   ]
  },
  {
   "cell_type": "code",
   "execution_count": 275,
   "metadata": {},
   "outputs": [
    {
     "data": {
      "text/html": [
       "<div>\n",
       "<style>\n",
       "    .dataframe thead tr:only-child th {\n",
       "        text-align: right;\n",
       "    }\n",
       "\n",
       "    .dataframe thead th {\n",
       "        text-align: left;\n",
       "    }\n",
       "\n",
       "    .dataframe tbody tr th {\n",
       "        vertical-align: top;\n",
       "    }\n",
       "</style>\n",
       "<table border=\"1\" class=\"dataframe\">\n",
       "  <thead>\n",
       "    <tr style=\"text-align: right;\">\n",
       "      <th></th>\n",
       "      <th>negative</th>\n",
       "      <th>neutral</th>\n",
       "      <th>positive</th>\n",
       "    </tr>\n",
       "  </thead>\n",
       "  <tbody>\n",
       "    <tr>\n",
       "      <th>0</th>\n",
       "      <td>1.0</td>\n",
       "      <td>0.0</td>\n",
       "      <td>0.0</td>\n",
       "    </tr>\n",
       "    <tr>\n",
       "      <th>1</th>\n",
       "      <td>0.0</td>\n",
       "      <td>1.0</td>\n",
       "      <td>0.0</td>\n",
       "    </tr>\n",
       "    <tr>\n",
       "      <th>2</th>\n",
       "      <td>1.0</td>\n",
       "      <td>0.0</td>\n",
       "      <td>0.0</td>\n",
       "    </tr>\n",
       "    <tr>\n",
       "      <th>3</th>\n",
       "      <td>1.0</td>\n",
       "      <td>0.0</td>\n",
       "      <td>0.0</td>\n",
       "    </tr>\n",
       "    <tr>\n",
       "      <th>4</th>\n",
       "      <td>0.0</td>\n",
       "      <td>0.0</td>\n",
       "      <td>1.0</td>\n",
       "    </tr>\n",
       "  </tbody>\n",
       "</table>\n",
       "</div>"
      ],
      "text/plain": [
       "   negative  neutral  positive\n",
       "0       1.0      0.0       0.0\n",
       "1       0.0      1.0       0.0\n",
       "2       1.0      0.0       0.0\n",
       "3       1.0      0.0       0.0\n",
       "4       0.0      0.0       1.0"
      ]
     },
     "execution_count": 275,
     "metadata": {},
     "output_type": "execute_result"
    }
   ],
   "source": [
    "probabilities_df[0:5]"
   ]
  },
  {
   "cell_type": "code",
   "execution_count": 276,
   "metadata": {
    "collapsed": true
   },
   "outputs": [],
   "source": [
    "feature_name_series = pd.Series(feature_names)"
   ]
  },
  {
   "cell_type": "code",
   "execution_count": 277,
   "metadata": {
    "collapsed": true
   },
   "outputs": [],
   "source": [
    "probabilities_df['cities'] = feature_name_series"
   ]
  },
  {
   "cell_type": "code",
   "execution_count": 278,
   "metadata": {},
   "outputs": [
    {
     "data": {
      "text/html": [
       "<div>\n",
       "<style>\n",
       "    .dataframe thead tr:only-child th {\n",
       "        text-align: right;\n",
       "    }\n",
       "\n",
       "    .dataframe thead th {\n",
       "        text-align: left;\n",
       "    }\n",
       "\n",
       "    .dataframe tbody tr th {\n",
       "        vertical-align: top;\n",
       "    }\n",
       "</style>\n",
       "<table border=\"1\" class=\"dataframe\">\n",
       "  <thead>\n",
       "    <tr style=\"text-align: right;\">\n",
       "      <th></th>\n",
       "      <th>negative</th>\n",
       "      <th>neutral</th>\n",
       "      <th>positive</th>\n",
       "      <th>cities</th>\n",
       "    </tr>\n",
       "  </thead>\n",
       "  <tbody>\n",
       "    <tr>\n",
       "      <th>0</th>\n",
       "      <td>1.0</td>\n",
       "      <td>0.0</td>\n",
       "      <td>0.0</td>\n",
       "      <td>nearest_city_Addison</td>\n",
       "    </tr>\n",
       "    <tr>\n",
       "      <th>1</th>\n",
       "      <td>0.0</td>\n",
       "      <td>1.0</td>\n",
       "      <td>0.0</td>\n",
       "      <td>nearest_city_Aldine</td>\n",
       "    </tr>\n",
       "    <tr>\n",
       "      <th>2</th>\n",
       "      <td>1.0</td>\n",
       "      <td>0.0</td>\n",
       "      <td>0.0</td>\n",
       "      <td>nearest_city_Aliso Viejo</td>\n",
       "    </tr>\n",
       "    <tr>\n",
       "      <th>3</th>\n",
       "      <td>1.0</td>\n",
       "      <td>0.0</td>\n",
       "      <td>0.0</td>\n",
       "      <td>nearest_city_Allen</td>\n",
       "    </tr>\n",
       "    <tr>\n",
       "      <th>4</th>\n",
       "      <td>0.0</td>\n",
       "      <td>0.0</td>\n",
       "      <td>1.0</td>\n",
       "      <td>nearest_city_American Fork</td>\n",
       "    </tr>\n",
       "  </tbody>\n",
       "</table>\n",
       "</div>"
      ],
      "text/plain": [
       "   negative  neutral  positive                      cities\n",
       "0       1.0      0.0       0.0        nearest_city_Addison\n",
       "1       0.0      1.0       0.0         nearest_city_Aldine\n",
       "2       1.0      0.0       0.0    nearest_city_Aliso Viejo\n",
       "3       1.0      0.0       0.0          nearest_city_Allen\n",
       "4       0.0      0.0       1.0  nearest_city_American Fork"
      ]
     },
     "execution_count": 278,
     "metadata": {},
     "output_type": "execute_result"
    }
   ],
   "source": [
    "probabilities_df[0:5]"
   ]
  },
  {
   "cell_type": "code",
   "execution_count": 279,
   "metadata": {
    "collapsed": true
   },
   "outputs": [],
   "source": [
    "city_probability = probabilities_df[['cities','negative','neutral','positive']]"
   ]
  },
  {
   "cell_type": "code",
   "execution_count": 280,
   "metadata": {},
   "outputs": [
    {
     "data": {
      "text/html": [
       "<div>\n",
       "<style>\n",
       "    .dataframe thead tr:only-child th {\n",
       "        text-align: right;\n",
       "    }\n",
       "\n",
       "    .dataframe thead th {\n",
       "        text-align: left;\n",
       "    }\n",
       "\n",
       "    .dataframe tbody tr th {\n",
       "        vertical-align: top;\n",
       "    }\n",
       "</style>\n",
       "<table border=\"1\" class=\"dataframe\">\n",
       "  <thead>\n",
       "    <tr style=\"text-align: right;\">\n",
       "      <th></th>\n",
       "      <th>cities</th>\n",
       "      <th>negative</th>\n",
       "      <th>neutral</th>\n",
       "      <th>positive</th>\n",
       "    </tr>\n",
       "  </thead>\n",
       "  <tbody>\n",
       "    <tr>\n",
       "      <th>0</th>\n",
       "      <td>nearest_city_Addison</td>\n",
       "      <td>1.0</td>\n",
       "      <td>0.0</td>\n",
       "      <td>0.0</td>\n",
       "    </tr>\n",
       "    <tr>\n",
       "      <th>1</th>\n",
       "      <td>nearest_city_Aldine</td>\n",
       "      <td>0.0</td>\n",
       "      <td>1.0</td>\n",
       "      <td>0.0</td>\n",
       "    </tr>\n",
       "    <tr>\n",
       "      <th>2</th>\n",
       "      <td>nearest_city_Aliso Viejo</td>\n",
       "      <td>1.0</td>\n",
       "      <td>0.0</td>\n",
       "      <td>0.0</td>\n",
       "    </tr>\n",
       "    <tr>\n",
       "      <th>3</th>\n",
       "      <td>nearest_city_Allen</td>\n",
       "      <td>1.0</td>\n",
       "      <td>0.0</td>\n",
       "      <td>0.0</td>\n",
       "    </tr>\n",
       "    <tr>\n",
       "      <th>4</th>\n",
       "      <td>nearest_city_American Fork</td>\n",
       "      <td>0.0</td>\n",
       "      <td>0.0</td>\n",
       "      <td>1.0</td>\n",
       "    </tr>\n",
       "  </tbody>\n",
       "</table>\n",
       "</div>"
      ],
      "text/plain": [
       "                       cities  negative  neutral  positive\n",
       "0        nearest_city_Addison       1.0      0.0       0.0\n",
       "1         nearest_city_Aldine       0.0      1.0       0.0\n",
       "2    nearest_city_Aliso Viejo       1.0      0.0       0.0\n",
       "3          nearest_city_Allen       1.0      0.0       0.0\n",
       "4  nearest_city_American Fork       0.0      0.0       1.0"
      ]
     },
     "execution_count": 280,
     "metadata": {},
     "output_type": "execute_result"
    }
   ],
   "source": [
    "city_probability[0:5]"
   ]
  },
  {
   "cell_type": "code",
   "execution_count": 281,
   "metadata": {},
   "outputs": [
    {
     "data": {
      "text/plain": [
       "numpy.ndarray"
      ]
     },
     "execution_count": 281,
     "metadata": {},
     "output_type": "execute_result"
    }
   ],
   "source": [
    "type(predict)"
   ]
  },
  {
   "cell_type": "code",
   "execution_count": 282,
   "metadata": {},
   "outputs": [
    {
     "data": {
      "text/plain": [
       "0    0\n",
       "1    1\n",
       "2    0\n",
       "3    0\n",
       "4    2\n",
       "dtype: int64"
      ]
     },
     "execution_count": 282,
     "metadata": {},
     "output_type": "execute_result"
    }
   ],
   "source": [
    "predictions = pd.Series(predict)\n",
    "predictions[0:5]"
   ]
  },
  {
   "cell_type": "code",
   "execution_count": 283,
   "metadata": {},
   "outputs": [
    {
     "name": "stderr",
     "output_type": "stream",
     "text": [
      "/home/vijay/anaconda2/envs/py35/lib/python3.5/site-packages/ipykernel_launcher.py:1: SettingWithCopyWarning: \n",
      "A value is trying to be set on a copy of a slice from a DataFrame.\n",
      "Try using .loc[row_indexer,col_indexer] = value instead\n",
      "\n",
      "See the caveats in the documentation: http://pandas.pydata.org/pandas-docs/stable/indexing.html#indexing-view-versus-copy\n",
      "  \"\"\"Entry point for launching an IPython kernel.\n"
     ]
    }
   ],
   "source": [
    "city_probability['model_predictions'] = predictions"
   ]
  },
  {
   "cell_type": "code",
   "execution_count": 284,
   "metadata": {},
   "outputs": [
    {
     "data": {
      "text/html": [
       "<div>\n",
       "<style>\n",
       "    .dataframe thead tr:only-child th {\n",
       "        text-align: right;\n",
       "    }\n",
       "\n",
       "    .dataframe thead th {\n",
       "        text-align: left;\n",
       "    }\n",
       "\n",
       "    .dataframe tbody tr th {\n",
       "        vertical-align: top;\n",
       "    }\n",
       "</style>\n",
       "<table border=\"1\" class=\"dataframe\">\n",
       "  <thead>\n",
       "    <tr style=\"text-align: right;\">\n",
       "      <th></th>\n",
       "      <th>cities</th>\n",
       "      <th>negative</th>\n",
       "      <th>neutral</th>\n",
       "      <th>positive</th>\n",
       "      <th>model_predictions</th>\n",
       "    </tr>\n",
       "  </thead>\n",
       "  <tbody>\n",
       "    <tr>\n",
       "      <th>0</th>\n",
       "      <td>nearest_city_Addison</td>\n",
       "      <td>1.0</td>\n",
       "      <td>0.0</td>\n",
       "      <td>0.0</td>\n",
       "      <td>0</td>\n",
       "    </tr>\n",
       "    <tr>\n",
       "      <th>1</th>\n",
       "      <td>nearest_city_Aldine</td>\n",
       "      <td>0.0</td>\n",
       "      <td>1.0</td>\n",
       "      <td>0.0</td>\n",
       "      <td>1</td>\n",
       "    </tr>\n",
       "    <tr>\n",
       "      <th>2</th>\n",
       "      <td>nearest_city_Aliso Viejo</td>\n",
       "      <td>1.0</td>\n",
       "      <td>0.0</td>\n",
       "      <td>0.0</td>\n",
       "      <td>0</td>\n",
       "    </tr>\n",
       "    <tr>\n",
       "      <th>3</th>\n",
       "      <td>nearest_city_Allen</td>\n",
       "      <td>1.0</td>\n",
       "      <td>0.0</td>\n",
       "      <td>0.0</td>\n",
       "      <td>0</td>\n",
       "    </tr>\n",
       "    <tr>\n",
       "      <th>4</th>\n",
       "      <td>nearest_city_American Fork</td>\n",
       "      <td>0.0</td>\n",
       "      <td>0.0</td>\n",
       "      <td>1.0</td>\n",
       "      <td>2</td>\n",
       "    </tr>\n",
       "    <tr>\n",
       "      <th>5</th>\n",
       "      <td>nearest_city_Anaheim</td>\n",
       "      <td>1.0</td>\n",
       "      <td>0.0</td>\n",
       "      <td>0.0</td>\n",
       "      <td>0</td>\n",
       "    </tr>\n",
       "    <tr>\n",
       "      <th>6</th>\n",
       "      <td>nearest_city_Angeles City</td>\n",
       "      <td>0.0</td>\n",
       "      <td>1.0</td>\n",
       "      <td>0.0</td>\n",
       "      <td>1</td>\n",
       "    </tr>\n",
       "    <tr>\n",
       "      <th>7</th>\n",
       "      <td>nearest_city_Annapolis</td>\n",
       "      <td>0.0</td>\n",
       "      <td>0.0</td>\n",
       "      <td>1.0</td>\n",
       "      <td>2</td>\n",
       "    </tr>\n",
       "    <tr>\n",
       "      <th>8</th>\n",
       "      <td>nearest_city_Arbutus</td>\n",
       "      <td>0.0</td>\n",
       "      <td>0.0</td>\n",
       "      <td>1.0</td>\n",
       "      <td>2</td>\n",
       "    </tr>\n",
       "    <tr>\n",
       "      <th>9</th>\n",
       "      <td>nearest_city_Ashford</td>\n",
       "      <td>0.0</td>\n",
       "      <td>0.0</td>\n",
       "      <td>1.0</td>\n",
       "      <td>2</td>\n",
       "    </tr>\n",
       "  </tbody>\n",
       "</table>\n",
       "</div>"
      ],
      "text/plain": [
       "                       cities  negative  neutral  positive  model_predictions\n",
       "0        nearest_city_Addison       1.0      0.0       0.0                  0\n",
       "1         nearest_city_Aldine       0.0      1.0       0.0                  1\n",
       "2    nearest_city_Aliso Viejo       1.0      0.0       0.0                  0\n",
       "3          nearest_city_Allen       1.0      0.0       0.0                  0\n",
       "4  nearest_city_American Fork       0.0      0.0       1.0                  2\n",
       "5        nearest_city_Anaheim       1.0      0.0       0.0                  0\n",
       "6   nearest_city_Angeles City       0.0      1.0       0.0                  1\n",
       "7      nearest_city_Annapolis       0.0      0.0       1.0                  2\n",
       "8        nearest_city_Arbutus       0.0      0.0       1.0                  2\n",
       "9        nearest_city_Ashford       0.0      0.0       1.0                  2"
      ]
     },
     "execution_count": 284,
     "metadata": {},
     "output_type": "execute_result"
    }
   ],
   "source": [
    "city_probability[0:10]"
   ]
  },
  {
   "cell_type": "code",
   "execution_count": 285,
   "metadata": {},
   "outputs": [
    {
     "data": {
      "text/plain": [
       "array([0, 1, 0, 0, 2, 0, 1, 2, 2, 2])"
      ]
     },
     "execution_count": 285,
     "metadata": {},
     "output_type": "execute_result"
    }
   ],
   "source": [
    "y_test[0:10]"
   ]
  },
  {
   "cell_type": "code",
   "execution_count": 286,
   "metadata": {},
   "outputs": [
    {
     "name": "stderr",
     "output_type": "stream",
     "text": [
      "/home/vijay/anaconda2/envs/py35/lib/python3.5/site-packages/ipykernel_launcher.py:2: SettingWithCopyWarning: \n",
      "A value is trying to be set on a copy of a slice from a DataFrame.\n",
      "Try using .loc[row_indexer,col_indexer] = value instead\n",
      "\n",
      "See the caveats in the documentation: http://pandas.pydata.org/pandas-docs/stable/indexing.html#indexing-view-versus-copy\n",
      "  \n"
     ]
    }
   ],
   "source": [
    "sentiment_map = { 0:'negative',1:'neutral',2:'positive'}\n",
    "city_probability['sentiment_prediction'] = city_probability['model_predictions'].map(sentiment_map)"
   ]
  },
  {
   "cell_type": "code",
   "execution_count": 287,
   "metadata": {},
   "outputs": [
    {
     "data": {
      "text/html": [
       "<div>\n",
       "<style>\n",
       "    .dataframe thead tr:only-child th {\n",
       "        text-align: right;\n",
       "    }\n",
       "\n",
       "    .dataframe thead th {\n",
       "        text-align: left;\n",
       "    }\n",
       "\n",
       "    .dataframe tbody tr th {\n",
       "        vertical-align: top;\n",
       "    }\n",
       "</style>\n",
       "<table border=\"1\" class=\"dataframe\">\n",
       "  <thead>\n",
       "    <tr style=\"text-align: right;\">\n",
       "      <th></th>\n",
       "      <th>cities</th>\n",
       "      <th>negative</th>\n",
       "      <th>neutral</th>\n",
       "      <th>positive</th>\n",
       "      <th>model_predictions</th>\n",
       "      <th>sentiment_prediction</th>\n",
       "    </tr>\n",
       "  </thead>\n",
       "  <tbody>\n",
       "    <tr>\n",
       "      <th>0</th>\n",
       "      <td>nearest_city_Addison</td>\n",
       "      <td>1.0</td>\n",
       "      <td>0.0</td>\n",
       "      <td>0.0</td>\n",
       "      <td>0</td>\n",
       "      <td>negative</td>\n",
       "    </tr>\n",
       "    <tr>\n",
       "      <th>1</th>\n",
       "      <td>nearest_city_Aldine</td>\n",
       "      <td>0.0</td>\n",
       "      <td>1.0</td>\n",
       "      <td>0.0</td>\n",
       "      <td>1</td>\n",
       "      <td>neutral</td>\n",
       "    </tr>\n",
       "    <tr>\n",
       "      <th>2</th>\n",
       "      <td>nearest_city_Aliso Viejo</td>\n",
       "      <td>1.0</td>\n",
       "      <td>0.0</td>\n",
       "      <td>0.0</td>\n",
       "      <td>0</td>\n",
       "      <td>negative</td>\n",
       "    </tr>\n",
       "    <tr>\n",
       "      <th>3</th>\n",
       "      <td>nearest_city_Allen</td>\n",
       "      <td>1.0</td>\n",
       "      <td>0.0</td>\n",
       "      <td>0.0</td>\n",
       "      <td>0</td>\n",
       "      <td>negative</td>\n",
       "    </tr>\n",
       "    <tr>\n",
       "      <th>4</th>\n",
       "      <td>nearest_city_American Fork</td>\n",
       "      <td>0.0</td>\n",
       "      <td>0.0</td>\n",
       "      <td>1.0</td>\n",
       "      <td>2</td>\n",
       "      <td>positive</td>\n",
       "    </tr>\n",
       "    <tr>\n",
       "      <th>5</th>\n",
       "      <td>nearest_city_Anaheim</td>\n",
       "      <td>1.0</td>\n",
       "      <td>0.0</td>\n",
       "      <td>0.0</td>\n",
       "      <td>0</td>\n",
       "      <td>negative</td>\n",
       "    </tr>\n",
       "    <tr>\n",
       "      <th>6</th>\n",
       "      <td>nearest_city_Angeles City</td>\n",
       "      <td>0.0</td>\n",
       "      <td>1.0</td>\n",
       "      <td>0.0</td>\n",
       "      <td>1</td>\n",
       "      <td>neutral</td>\n",
       "    </tr>\n",
       "    <tr>\n",
       "      <th>7</th>\n",
       "      <td>nearest_city_Annapolis</td>\n",
       "      <td>0.0</td>\n",
       "      <td>0.0</td>\n",
       "      <td>1.0</td>\n",
       "      <td>2</td>\n",
       "      <td>positive</td>\n",
       "    </tr>\n",
       "    <tr>\n",
       "      <th>8</th>\n",
       "      <td>nearest_city_Arbutus</td>\n",
       "      <td>0.0</td>\n",
       "      <td>0.0</td>\n",
       "      <td>1.0</td>\n",
       "      <td>2</td>\n",
       "      <td>positive</td>\n",
       "    </tr>\n",
       "    <tr>\n",
       "      <th>9</th>\n",
       "      <td>nearest_city_Ashford</td>\n",
       "      <td>0.0</td>\n",
       "      <td>0.0</td>\n",
       "      <td>1.0</td>\n",
       "      <td>2</td>\n",
       "      <td>positive</td>\n",
       "    </tr>\n",
       "  </tbody>\n",
       "</table>\n",
       "</div>"
      ],
      "text/plain": [
       "                       cities  negative  neutral  positive  model_predictions  \\\n",
       "0        nearest_city_Addison       1.0      0.0       0.0                  0   \n",
       "1         nearest_city_Aldine       0.0      1.0       0.0                  1   \n",
       "2    nearest_city_Aliso Viejo       1.0      0.0       0.0                  0   \n",
       "3          nearest_city_Allen       1.0      0.0       0.0                  0   \n",
       "4  nearest_city_American Fork       0.0      0.0       1.0                  2   \n",
       "5        nearest_city_Anaheim       1.0      0.0       0.0                  0   \n",
       "6   nearest_city_Angeles City       0.0      1.0       0.0                  1   \n",
       "7      nearest_city_Annapolis       0.0      0.0       1.0                  2   \n",
       "8        nearest_city_Arbutus       0.0      0.0       1.0                  2   \n",
       "9        nearest_city_Ashford       0.0      0.0       1.0                  2   \n",
       "\n",
       "  sentiment_prediction  \n",
       "0             negative  \n",
       "1              neutral  \n",
       "2             negative  \n",
       "3             negative  \n",
       "4             positive  \n",
       "5             negative  \n",
       "6              neutral  \n",
       "7             positive  \n",
       "8             positive  \n",
       "9             positive  "
      ]
     },
     "execution_count": 287,
     "metadata": {},
     "output_type": "execute_result"
    }
   ],
   "source": [
    "city_probability[0:10]"
   ]
  },
  {
   "cell_type": "code",
   "execution_count": 290,
   "metadata": {
    "collapsed": true
   },
   "outputs": [],
   "source": [
    "# save all cities with their probabilitiy classes, model prediction and sentiment prediction\n",
    "city_probability.to_csv('city_probability.csv')\n",
    "# save a sorted list of cities by the predicted positive sentiment score to the output file\n",
    "predicted_positive = city_probability[city_probability['model_predictions'] == 2]\n",
    "sorted_predicted_positive = predicted_positive.sort_values(['positive'], ascending=[False])\n",
    "sorted_predicted_positive.to_csv('sorted_predicted_positive.csv')"
   ]
  },
  {
   "cell_type": "code",
   "execution_count": 291,
   "metadata": {},
   "outputs": [
    {
     "data": {
      "text/html": [
       "<div>\n",
       "<style>\n",
       "    .dataframe thead tr:only-child th {\n",
       "        text-align: right;\n",
       "    }\n",
       "\n",
       "    .dataframe thead th {\n",
       "        text-align: left;\n",
       "    }\n",
       "\n",
       "    .dataframe tbody tr th {\n",
       "        vertical-align: top;\n",
       "    }\n",
       "</style>\n",
       "<table border=\"1\" class=\"dataframe\">\n",
       "  <thead>\n",
       "    <tr style=\"text-align: right;\">\n",
       "      <th></th>\n",
       "      <th>cities</th>\n",
       "      <th>negative</th>\n",
       "      <th>neutral</th>\n",
       "      <th>positive</th>\n",
       "      <th>model_predictions</th>\n",
       "      <th>sentiment_prediction</th>\n",
       "    </tr>\n",
       "  </thead>\n",
       "  <tbody>\n",
       "    <tr>\n",
       "      <th>4</th>\n",
       "      <td>nearest_city_American Fork</td>\n",
       "      <td>0.0</td>\n",
       "      <td>0.0</td>\n",
       "      <td>1.0</td>\n",
       "      <td>2</td>\n",
       "      <td>positive</td>\n",
       "    </tr>\n",
       "    <tr>\n",
       "      <th>151</th>\n",
       "      <td>nearest_city_Mariners Harbor</td>\n",
       "      <td>0.0</td>\n",
       "      <td>0.0</td>\n",
       "      <td>1.0</td>\n",
       "      <td>2</td>\n",
       "      <td>positive</td>\n",
       "    </tr>\n",
       "    <tr>\n",
       "      <th>152</th>\n",
       "      <td>nearest_city_Marlborough</td>\n",
       "      <td>0.0</td>\n",
       "      <td>0.0</td>\n",
       "      <td>1.0</td>\n",
       "      <td>2</td>\n",
       "      <td>positive</td>\n",
       "    </tr>\n",
       "    <tr>\n",
       "      <th>157</th>\n",
       "      <td>nearest_city_Midland</td>\n",
       "      <td>0.0</td>\n",
       "      <td>0.0</td>\n",
       "      <td>1.0</td>\n",
       "      <td>2</td>\n",
       "      <td>positive</td>\n",
       "    </tr>\n",
       "    <tr>\n",
       "      <th>159</th>\n",
       "      <td>nearest_city_Milton</td>\n",
       "      <td>0.0</td>\n",
       "      <td>0.0</td>\n",
       "      <td>1.0</td>\n",
       "      <td>2</td>\n",
       "      <td>positive</td>\n",
       "    </tr>\n",
       "  </tbody>\n",
       "</table>\n",
       "</div>"
      ],
      "text/plain": [
       "                           cities  negative  neutral  positive  \\\n",
       "4      nearest_city_American Fork       0.0      0.0       1.0   \n",
       "151  nearest_city_Mariners Harbor       0.0      0.0       1.0   \n",
       "152      nearest_city_Marlborough       0.0      0.0       1.0   \n",
       "157          nearest_city_Midland       0.0      0.0       1.0   \n",
       "159           nearest_city_Milton       0.0      0.0       1.0   \n",
       "\n",
       "     model_predictions sentiment_prediction  \n",
       "4                    2             positive  \n",
       "151                  2             positive  \n",
       "152                  2             positive  \n",
       "157                  2             positive  \n",
       "159                  2             positive  "
      ]
     },
     "execution_count": 291,
     "metadata": {},
     "output_type": "execute_result"
    }
   ],
   "source": [
    "sorted_predicted_positive[0:5]"
   ]
  },
  {
   "cell_type": "code",
   "execution_count": 292,
   "metadata": {
    "collapsed": true
   },
   "outputs": [],
   "source": [
    "#sorted_predicted_positive['positive'].astype('float')"
   ]
  },
  {
   "cell_type": "code",
   "execution_count": null,
   "metadata": {
    "collapsed": true
   },
   "outputs": [],
   "source": []
  },
  {
   "cell_type": "code",
   "execution_count": 293,
   "metadata": {},
   "outputs": [
    {
     "data": {
      "text/html": [
       "<div>\n",
       "<style>\n",
       "    .dataframe thead tr:only-child th {\n",
       "        text-align: right;\n",
       "    }\n",
       "\n",
       "    .dataframe thead th {\n",
       "        text-align: left;\n",
       "    }\n",
       "\n",
       "    .dataframe tbody tr th {\n",
       "        vertical-align: top;\n",
       "    }\n",
       "</style>\n",
       "<table border=\"1\" class=\"dataframe\">\n",
       "  <thead>\n",
       "    <tr style=\"text-align: right;\">\n",
       "      <th></th>\n",
       "      <th>airline_sentiment</th>\n",
       "      <th>tweet_coord</th>\n",
       "      <th>latitude</th>\n",
       "      <th>longitude</th>\n",
       "      <th>nearest_latitude</th>\n",
       "      <th>nearest_longitude</th>\n",
       "      <th>nearest_city</th>\n",
       "    </tr>\n",
       "  </thead>\n",
       "  <tbody>\n",
       "    <tr>\n",
       "      <th>297</th>\n",
       "      <td>2</td>\n",
       "      <td>40.35805521, -111.78241283</td>\n",
       "      <td>40.358055</td>\n",
       "      <td>-111.782413</td>\n",
       "      <td>40.3769</td>\n",
       "      <td>-111.79576</td>\n",
       "      <td>American Fork</td>\n",
       "    </tr>\n",
       "  </tbody>\n",
       "</table>\n",
       "</div>"
      ],
      "text/plain": [
       "     airline_sentiment                 tweet_coord   latitude   longitude  \\\n",
       "297                  2  40.35805521, -111.78241283  40.358055 -111.782413   \n",
       "\n",
       "     nearest_latitude  nearest_longitude   nearest_city  \n",
       "297           40.3769         -111.79576  American Fork  "
      ]
     },
     "execution_count": 293,
     "metadata": {},
     "output_type": "execute_result"
    }
   ],
   "source": [
    "# validate the column mapping and matched predictions\n",
    "airline_tweets[airline_tweets['nearest_city'] =='American Fork']"
   ]
  },
  {
   "cell_type": "code",
   "execution_count": 294,
   "metadata": {},
   "outputs": [
    {
     "data": {
      "text/html": [
       "<div>\n",
       "<style>\n",
       "    .dataframe thead tr:only-child th {\n",
       "        text-align: right;\n",
       "    }\n",
       "\n",
       "    .dataframe thead th {\n",
       "        text-align: left;\n",
       "    }\n",
       "\n",
       "    .dataframe tbody tr th {\n",
       "        vertical-align: top;\n",
       "    }\n",
       "</style>\n",
       "<table border=\"1\" class=\"dataframe\">\n",
       "  <thead>\n",
       "    <tr style=\"text-align: right;\">\n",
       "      <th></th>\n",
       "      <th>airline_sentiment</th>\n",
       "      <th>tweet_coord</th>\n",
       "      <th>latitude</th>\n",
       "      <th>longitude</th>\n",
       "      <th>nearest_latitude</th>\n",
       "      <th>nearest_longitude</th>\n",
       "      <th>nearest_city</th>\n",
       "    </tr>\n",
       "  </thead>\n",
       "  <tbody>\n",
       "    <tr>\n",
       "      <th>31</th>\n",
       "      <td>1</td>\n",
       "      <td>29.98386923, -95.33729612</td>\n",
       "      <td>29.983869</td>\n",
       "      <td>-95.337296</td>\n",
       "      <td>29.93245</td>\n",
       "      <td>-95.38021</td>\n",
       "      <td>Aldine</td>\n",
       "    </tr>\n",
       "  </tbody>\n",
       "</table>\n",
       "</div>"
      ],
      "text/plain": [
       "    airline_sentiment                tweet_coord   latitude  longitude  \\\n",
       "31                  1  29.98386923, -95.33729612  29.983869 -95.337296   \n",
       "\n",
       "    nearest_latitude  nearest_longitude nearest_city  \n",
       "31          29.93245          -95.38021       Aldine  "
      ]
     },
     "execution_count": 294,
     "metadata": {},
     "output_type": "execute_result"
    }
   ],
   "source": [
    "airline_tweets[airline_tweets['nearest_city'] =='Aldine'][:1]"
   ]
  },
  {
   "cell_type": "code",
   "execution_count": null,
   "metadata": {
    "collapsed": true
   },
   "outputs": [],
   "source": []
  },
  {
   "cell_type": "code",
   "execution_count": 297,
   "metadata": {},
   "outputs": [
    {
     "name": "stdout",
     "output_type": "stream",
     "text": [
      "(342, 3)\n"
     ]
    },
    {
     "name": "stderr",
     "output_type": "stream",
     "text": [
      "/home/vijay/anaconda2/envs/py35/lib/python3.5/site-packages/ipykernel_launcher.py:8: SettingWithCopyWarning: \n",
      "A value is trying to be set on a copy of a slice from a DataFrame.\n",
      "Try using .loc[row_indexer,col_indexer] = value instead\n",
      "\n",
      "See the caveats in the documentation: http://pandas.pydata.org/pandas-docs/stable/indexing.html#indexing-view-versus-copy\n",
      "  \n"
     ]
    },
    {
     "data": {
      "text/html": [
       "<div>\n",
       "<style>\n",
       "    .dataframe thead tr:only-child th {\n",
       "        text-align: right;\n",
       "    }\n",
       "\n",
       "    .dataframe thead th {\n",
       "        text-align: left;\n",
       "    }\n",
       "\n",
       "    .dataframe tbody tr th {\n",
       "        vertical-align: top;\n",
       "    }\n",
       "</style>\n",
       "<table border=\"1\" class=\"dataframe\">\n",
       "  <thead>\n",
       "    <tr style=\"text-align: right;\">\n",
       "      <th></th>\n",
       "      <th>cities</th>\n",
       "      <th>negative</th>\n",
       "      <th>neutral</th>\n",
       "      <th>positive</th>\n",
       "      <th>model_predictions</th>\n",
       "    </tr>\n",
       "  </thead>\n",
       "  <tbody>\n",
       "    <tr>\n",
       "      <th>0</th>\n",
       "      <td>nearest_city_Addison</td>\n",
       "      <td>0.000000e+00</td>\n",
       "      <td>-8.267532e+08</td>\n",
       "      <td>-3.307015e+09</td>\n",
       "      <td>0</td>\n",
       "    </tr>\n",
       "    <tr>\n",
       "      <th>1</th>\n",
       "      <td>nearest_city_Aldine</td>\n",
       "      <td>-8.267546e+08</td>\n",
       "      <td>0.000000e+00</td>\n",
       "      <td>-8.267540e+08</td>\n",
       "      <td>1</td>\n",
       "    </tr>\n",
       "    <tr>\n",
       "      <th>2</th>\n",
       "      <td>nearest_city_Aliso Viejo</td>\n",
       "      <td>0.000000e+00</td>\n",
       "      <td>-8.267532e+08</td>\n",
       "      <td>-3.307015e+09</td>\n",
       "      <td>0</td>\n",
       "    </tr>\n",
       "    <tr>\n",
       "      <th>3</th>\n",
       "      <td>nearest_city_Allen</td>\n",
       "      <td>0.000000e+00</td>\n",
       "      <td>-1.653507e+09</td>\n",
       "      <td>-4.133769e+09</td>\n",
       "      <td>0</td>\n",
       "    </tr>\n",
       "    <tr>\n",
       "      <th>4</th>\n",
       "      <td>nearest_city_American Fork</td>\n",
       "      <td>-3.307016e+09</td>\n",
       "      <td>-1.653508e+09</td>\n",
       "      <td>0.000000e+00</td>\n",
       "      <td>2</td>\n",
       "    </tr>\n",
       "    <tr>\n",
       "      <th>5</th>\n",
       "      <td>nearest_city_Anaheim</td>\n",
       "      <td>0.000000e+00</td>\n",
       "      <td>-8.267532e+08</td>\n",
       "      <td>-4.133769e+09</td>\n",
       "      <td>0</td>\n",
       "    </tr>\n",
       "    <tr>\n",
       "      <th>6</th>\n",
       "      <td>nearest_city_Angeles City</td>\n",
       "      <td>-8.267546e+08</td>\n",
       "      <td>0.000000e+00</td>\n",
       "      <td>-8.267540e+08</td>\n",
       "      <td>1</td>\n",
       "    </tr>\n",
       "    <tr>\n",
       "      <th>7</th>\n",
       "      <td>nearest_city_Annapolis</td>\n",
       "      <td>-3.307016e+09</td>\n",
       "      <td>-8.267538e+08</td>\n",
       "      <td>0.000000e+00</td>\n",
       "      <td>2</td>\n",
       "    </tr>\n",
       "    <tr>\n",
       "      <th>8</th>\n",
       "      <td>nearest_city_Arbutus</td>\n",
       "      <td>-3.307016e+09</td>\n",
       "      <td>-8.267538e+08</td>\n",
       "      <td>0.000000e+00</td>\n",
       "      <td>2</td>\n",
       "    </tr>\n",
       "    <tr>\n",
       "      <th>9</th>\n",
       "      <td>nearest_city_Ashford</td>\n",
       "      <td>-3.307016e+09</td>\n",
       "      <td>-8.267538e+08</td>\n",
       "      <td>0.000000e+00</td>\n",
       "      <td>2</td>\n",
       "    </tr>\n",
       "  </tbody>\n",
       "</table>\n",
       "</div>"
      ],
      "text/plain": [
       "                       cities      negative       neutral      positive  \\\n",
       "0        nearest_city_Addison  0.000000e+00 -8.267532e+08 -3.307015e+09   \n",
       "1         nearest_city_Aldine -8.267546e+08  0.000000e+00 -8.267540e+08   \n",
       "2    nearest_city_Aliso Viejo  0.000000e+00 -8.267532e+08 -3.307015e+09   \n",
       "3          nearest_city_Allen  0.000000e+00 -1.653507e+09 -4.133769e+09   \n",
       "4  nearest_city_American Fork -3.307016e+09 -1.653508e+09  0.000000e+00   \n",
       "5        nearest_city_Anaheim  0.000000e+00 -8.267532e+08 -4.133769e+09   \n",
       "6   nearest_city_Angeles City -8.267546e+08  0.000000e+00 -8.267540e+08   \n",
       "7      nearest_city_Annapolis -3.307016e+09 -8.267538e+08  0.000000e+00   \n",
       "8        nearest_city_Arbutus -3.307016e+09 -8.267538e+08  0.000000e+00   \n",
       "9        nearest_city_Ashford -3.307016e+09 -8.267538e+08  0.000000e+00   \n",
       "\n",
       "   model_predictions  \n",
       "0                  0  \n",
       "1                  1  \n",
       "2                  0  \n",
       "3                  0  \n",
       "4                  2  \n",
       "5                  0  \n",
       "6                  1  \n",
       "7                  2  \n",
       "8                  2  \n",
       "9                  2  "
      ]
     },
     "execution_count": 297,
     "metadata": {},
     "output_type": "execute_result"
    }
   ],
   "source": [
    "# use log probabilities to help sort better\n",
    "log_probabilities = nb_model.predict_log_proba(X_test)\n",
    "print(log_probabilities.shape)\n",
    "log_probabilities_df = pd.DataFrame(log_probabilities,columns=['negative','neutral','positive'])\n",
    "feature_name_series = pd.Series(feature_names)\n",
    "log_probabilities_df['cities'] = feature_name_series\n",
    "log_city_probability = log_probabilities_df[['cities','negative','neutral','positive']]\n",
    "log_city_probability['model_predictions'] = predictions\n",
    "log_city_probability[0:10]"
   ]
  },
  {
   "cell_type": "code",
   "execution_count": 296,
   "metadata": {},
   "outputs": [
    {
     "data": {
      "text/html": [
       "<div>\n",
       "<style>\n",
       "    .dataframe thead tr:only-child th {\n",
       "        text-align: right;\n",
       "    }\n",
       "\n",
       "    .dataframe thead th {\n",
       "        text-align: left;\n",
       "    }\n",
       "\n",
       "    .dataframe tbody tr th {\n",
       "        vertical-align: top;\n",
       "    }\n",
       "</style>\n",
       "<table border=\"1\" class=\"dataframe\">\n",
       "  <thead>\n",
       "    <tr style=\"text-align: right;\">\n",
       "      <th></th>\n",
       "      <th>cities</th>\n",
       "      <th>negative</th>\n",
       "      <th>neutral</th>\n",
       "      <th>positive</th>\n",
       "      <th>model_predictions</th>\n",
       "    </tr>\n",
       "  </thead>\n",
       "  <tbody>\n",
       "    <tr>\n",
       "      <th>4</th>\n",
       "      <td>nearest_city_American Fork</td>\n",
       "      <td>-3.307016e+09</td>\n",
       "      <td>-1.653508e+09</td>\n",
       "      <td>0.0</td>\n",
       "      <td>2</td>\n",
       "    </tr>\n",
       "    <tr>\n",
       "      <th>7</th>\n",
       "      <td>nearest_city_Annapolis</td>\n",
       "      <td>-3.307016e+09</td>\n",
       "      <td>-8.267538e+08</td>\n",
       "      <td>0.0</td>\n",
       "      <td>2</td>\n",
       "    </tr>\n",
       "    <tr>\n",
       "      <th>8</th>\n",
       "      <td>nearest_city_Arbutus</td>\n",
       "      <td>-3.307016e+09</td>\n",
       "      <td>-8.267538e+08</td>\n",
       "      <td>0.0</td>\n",
       "      <td>2</td>\n",
       "    </tr>\n",
       "    <tr>\n",
       "      <th>9</th>\n",
       "      <td>nearest_city_Ashford</td>\n",
       "      <td>-3.307016e+09</td>\n",
       "      <td>-8.267538e+08</td>\n",
       "      <td>0.0</td>\n",
       "      <td>2</td>\n",
       "    </tr>\n",
       "    <tr>\n",
       "      <th>12</th>\n",
       "      <td>nearest_city_Atascocita</td>\n",
       "      <td>-2.480262e+09</td>\n",
       "      <td>-8.267538e+08</td>\n",
       "      <td>0.0</td>\n",
       "      <td>2</td>\n",
       "    </tr>\n",
       "    <tr>\n",
       "      <th>26</th>\n",
       "      <td>nearest_city_Boise</td>\n",
       "      <td>-3.307016e+09</td>\n",
       "      <td>-1.653508e+09</td>\n",
       "      <td>0.0</td>\n",
       "      <td>2</td>\n",
       "    </tr>\n",
       "    <tr>\n",
       "      <th>34</th>\n",
       "      <td>nearest_city_Brighton</td>\n",
       "      <td>-2.480262e+09</td>\n",
       "      <td>-8.267538e+08</td>\n",
       "      <td>0.0</td>\n",
       "      <td>2</td>\n",
       "    </tr>\n",
       "    <tr>\n",
       "      <th>39</th>\n",
       "      <td>nearest_city_Bushwick</td>\n",
       "      <td>-3.307016e+09</td>\n",
       "      <td>-8.267538e+08</td>\n",
       "      <td>0.0</td>\n",
       "      <td>2</td>\n",
       "    </tr>\n",
       "    <tr>\n",
       "      <th>43</th>\n",
       "      <td>nearest_city_Canary Wharf</td>\n",
       "      <td>-3.307016e+09</td>\n",
       "      <td>-1.653508e+09</td>\n",
       "      <td>0.0</td>\n",
       "      <td>2</td>\n",
       "    </tr>\n",
       "    <tr>\n",
       "      <th>46</th>\n",
       "      <td>nearest_city_Carolina</td>\n",
       "      <td>-3.307016e+09</td>\n",
       "      <td>-8.267538e+08</td>\n",
       "      <td>0.0</td>\n",
       "      <td>2</td>\n",
       "    </tr>\n",
       "    <tr>\n",
       "      <th>52</th>\n",
       "      <td>nearest_city_Chillum</td>\n",
       "      <td>-2.480262e+09</td>\n",
       "      <td>-8.267538e+08</td>\n",
       "      <td>0.0</td>\n",
       "      <td>2</td>\n",
       "    </tr>\n",
       "    <tr>\n",
       "      <th>55</th>\n",
       "      <td>nearest_city_Cleveland</td>\n",
       "      <td>-3.307016e+09</td>\n",
       "      <td>-8.267538e+08</td>\n",
       "      <td>0.0</td>\n",
       "      <td>2</td>\n",
       "    </tr>\n",
       "    <tr>\n",
       "      <th>59</th>\n",
       "      <td>nearest_city_Conroe</td>\n",
       "      <td>-2.480262e+09</td>\n",
       "      <td>-8.267538e+08</td>\n",
       "      <td>0.0</td>\n",
       "      <td>2</td>\n",
       "    </tr>\n",
       "    <tr>\n",
       "      <th>69</th>\n",
       "      <td>nearest_city_Cypress</td>\n",
       "      <td>-3.307016e+09</td>\n",
       "      <td>-1.653508e+09</td>\n",
       "      <td>0.0</td>\n",
       "      <td>2</td>\n",
       "    </tr>\n",
       "    <tr>\n",
       "      <th>82</th>\n",
       "      <td>nearest_city_East Point</td>\n",
       "      <td>-2.480262e+09</td>\n",
       "      <td>-8.267538e+08</td>\n",
       "      <td>0.0</td>\n",
       "      <td>2</td>\n",
       "    </tr>\n",
       "    <tr>\n",
       "      <th>85</th>\n",
       "      <td>nearest_city_El Dorado Hills</td>\n",
       "      <td>-3.307016e+09</td>\n",
       "      <td>-8.267538e+08</td>\n",
       "      <td>0.0</td>\n",
       "      <td>2</td>\n",
       "    </tr>\n",
       "    <tr>\n",
       "      <th>92</th>\n",
       "      <td>nearest_city_Fairhaven</td>\n",
       "      <td>-3.307016e+09</td>\n",
       "      <td>-1.653508e+09</td>\n",
       "      <td>0.0</td>\n",
       "      <td>2</td>\n",
       "    </tr>\n",
       "    <tr>\n",
       "      <th>101</th>\n",
       "      <td>nearest_city_Friendswood</td>\n",
       "      <td>-4.133770e+09</td>\n",
       "      <td>-1.653508e+09</td>\n",
       "      <td>0.0</td>\n",
       "      <td>2</td>\n",
       "    </tr>\n",
       "    <tr>\n",
       "      <th>109</th>\n",
       "      <td>nearest_city_Glendale</td>\n",
       "      <td>-4.133770e+09</td>\n",
       "      <td>-1.653508e+09</td>\n",
       "      <td>0.0</td>\n",
       "      <td>2</td>\n",
       "    </tr>\n",
       "    <tr>\n",
       "      <th>110</th>\n",
       "      <td>nearest_city_Golden</td>\n",
       "      <td>-3.307016e+09</td>\n",
       "      <td>-1.653508e+09</td>\n",
       "      <td>0.0</td>\n",
       "      <td>2</td>\n",
       "    </tr>\n",
       "    <tr>\n",
       "      <th>113</th>\n",
       "      <td>nearest_city_Haltom City</td>\n",
       "      <td>-2.480262e+09</td>\n",
       "      <td>-8.267538e+08</td>\n",
       "      <td>0.0</td>\n",
       "      <td>2</td>\n",
       "    </tr>\n",
       "    <tr>\n",
       "      <th>119</th>\n",
       "      <td>nearest_city_Hilton Head</td>\n",
       "      <td>-3.307016e+09</td>\n",
       "      <td>-8.267538e+08</td>\n",
       "      <td>0.0</td>\n",
       "      <td>2</td>\n",
       "    </tr>\n",
       "    <tr>\n",
       "      <th>120</th>\n",
       "      <td>nearest_city_Hoboken</td>\n",
       "      <td>-3.307016e+09</td>\n",
       "      <td>-8.267538e+08</td>\n",
       "      <td>0.0</td>\n",
       "      <td>2</td>\n",
       "    </tr>\n",
       "    <tr>\n",
       "      <th>121</th>\n",
       "      <td>nearest_city_Hollywood</td>\n",
       "      <td>-2.480262e+09</td>\n",
       "      <td>-8.267538e+08</td>\n",
       "      <td>0.0</td>\n",
       "      <td>2</td>\n",
       "    </tr>\n",
       "    <tr>\n",
       "      <th>129</th>\n",
       "      <td>nearest_city_Jacksonville Beach</td>\n",
       "      <td>-3.307016e+09</td>\n",
       "      <td>-8.267538e+08</td>\n",
       "      <td>0.0</td>\n",
       "      <td>2</td>\n",
       "    </tr>\n",
       "    <tr>\n",
       "      <th>133</th>\n",
       "      <td>nearest_city_Kenner</td>\n",
       "      <td>-3.307016e+09</td>\n",
       "      <td>-8.267538e+08</td>\n",
       "      <td>0.0</td>\n",
       "      <td>2</td>\n",
       "    </tr>\n",
       "    <tr>\n",
       "      <th>143</th>\n",
       "      <td>nearest_city_Lexington</td>\n",
       "      <td>-3.307016e+09</td>\n",
       "      <td>-8.267538e+08</td>\n",
       "      <td>0.0</td>\n",
       "      <td>2</td>\n",
       "    </tr>\n",
       "    <tr>\n",
       "      <th>147</th>\n",
       "      <td>nearest_city_Longview</td>\n",
       "      <td>-2.480262e+09</td>\n",
       "      <td>-8.267538e+08</td>\n",
       "      <td>0.0</td>\n",
       "      <td>2</td>\n",
       "    </tr>\n",
       "    <tr>\n",
       "      <th>151</th>\n",
       "      <td>nearest_city_Mariners Harbor</td>\n",
       "      <td>-3.307016e+09</td>\n",
       "      <td>-1.653508e+09</td>\n",
       "      <td>0.0</td>\n",
       "      <td>2</td>\n",
       "    </tr>\n",
       "    <tr>\n",
       "      <th>152</th>\n",
       "      <td>nearest_city_Marlborough</td>\n",
       "      <td>-3.307016e+09</td>\n",
       "      <td>-8.267538e+08</td>\n",
       "      <td>0.0</td>\n",
       "      <td>2</td>\n",
       "    </tr>\n",
       "    <tr>\n",
       "      <th>157</th>\n",
       "      <td>nearest_city_Midland</td>\n",
       "      <td>-3.307016e+09</td>\n",
       "      <td>-1.653508e+09</td>\n",
       "      <td>0.0</td>\n",
       "      <td>2</td>\n",
       "    </tr>\n",
       "    <tr>\n",
       "      <th>159</th>\n",
       "      <td>nearest_city_Milton</td>\n",
       "      <td>-3.307016e+09</td>\n",
       "      <td>-8.267538e+08</td>\n",
       "      <td>0.0</td>\n",
       "      <td>2</td>\n",
       "    </tr>\n",
       "    <tr>\n",
       "      <th>160</th>\n",
       "      <td>nearest_city_Minneapolis</td>\n",
       "      <td>-4.133770e+09</td>\n",
       "      <td>-1.653508e+09</td>\n",
       "      <td>0.0</td>\n",
       "      <td>2</td>\n",
       "    </tr>\n",
       "    <tr>\n",
       "      <th>167</th>\n",
       "      <td>nearest_city_Nashville</td>\n",
       "      <td>-3.307016e+09</td>\n",
       "      <td>-8.267538e+08</td>\n",
       "      <td>0.0</td>\n",
       "      <td>2</td>\n",
       "    </tr>\n",
       "    <tr>\n",
       "      <th>176</th>\n",
       "      <td>nearest_city_North Little Rock</td>\n",
       "      <td>-3.307016e+09</td>\n",
       "      <td>-8.267538e+08</td>\n",
       "      <td>0.0</td>\n",
       "      <td>2</td>\n",
       "    </tr>\n",
       "    <tr>\n",
       "      <th>191</th>\n",
       "      <td>nearest_city_Parole</td>\n",
       "      <td>-3.307016e+09</td>\n",
       "      <td>-8.267538e+08</td>\n",
       "      <td>0.0</td>\n",
       "      <td>2</td>\n",
       "    </tr>\n",
       "    <tr>\n",
       "      <th>212</th>\n",
       "      <td>nearest_city_Rock Hill</td>\n",
       "      <td>-3.307016e+09</td>\n",
       "      <td>-8.267538e+08</td>\n",
       "      <td>0.0</td>\n",
       "      <td>2</td>\n",
       "    </tr>\n",
       "    <tr>\n",
       "      <th>216</th>\n",
       "      <td>nearest_city_Ronkonkoma</td>\n",
       "      <td>-3.307016e+09</td>\n",
       "      <td>-8.267538e+08</td>\n",
       "      <td>0.0</td>\n",
       "      <td>2</td>\n",
       "    </tr>\n",
       "    <tr>\n",
       "      <th>242</th>\n",
       "      <td>nearest_city_South Jordan</td>\n",
       "      <td>-3.307016e+09</td>\n",
       "      <td>-1.653508e+09</td>\n",
       "      <td>0.0</td>\n",
       "      <td>2</td>\n",
       "    </tr>\n",
       "    <tr>\n",
       "      <th>254</th>\n",
       "      <td>nearest_city_The Valley</td>\n",
       "      <td>-3.307016e+09</td>\n",
       "      <td>-8.267538e+08</td>\n",
       "      <td>0.0</td>\n",
       "      <td>2</td>\n",
       "    </tr>\n",
       "    <tr>\n",
       "      <th>266</th>\n",
       "      <td>nearest_city_Warwick</td>\n",
       "      <td>-3.307016e+09</td>\n",
       "      <td>-1.653508e+09</td>\n",
       "      <td>0.0</td>\n",
       "      <td>2</td>\n",
       "    </tr>\n",
       "    <tr>\n",
       "      <th>278</th>\n",
       "      <td>nearest_city_Wethersfield</td>\n",
       "      <td>-3.307016e+09</td>\n",
       "      <td>-8.267538e+08</td>\n",
       "      <td>0.0</td>\n",
       "      <td>2</td>\n",
       "    </tr>\n",
       "    <tr>\n",
       "      <th>279</th>\n",
       "      <td>nearest_city_Weymouth</td>\n",
       "      <td>-3.307016e+09</td>\n",
       "      <td>-8.267538e+08</td>\n",
       "      <td>0.0</td>\n",
       "      <td>2</td>\n",
       "    </tr>\n",
       "    <tr>\n",
       "      <th>281</th>\n",
       "      <td>nearest_city_Whitestone</td>\n",
       "      <td>-3.307016e+09</td>\n",
       "      <td>-8.267538e+08</td>\n",
       "      <td>0.0</td>\n",
       "      <td>2</td>\n",
       "    </tr>\n",
       "    <tr>\n",
       "      <th>294</th>\n",
       "      <td>NaN</td>\n",
       "      <td>-4.133770e+09</td>\n",
       "      <td>-1.653508e+09</td>\n",
       "      <td>0.0</td>\n",
       "      <td>2</td>\n",
       "    </tr>\n",
       "    <tr>\n",
       "      <th>301</th>\n",
       "      <td>NaN</td>\n",
       "      <td>-3.307016e+09</td>\n",
       "      <td>-8.267538e+08</td>\n",
       "      <td>0.0</td>\n",
       "      <td>2</td>\n",
       "    </tr>\n",
       "    <tr>\n",
       "      <th>314</th>\n",
       "      <td>NaN</td>\n",
       "      <td>-3.307016e+09</td>\n",
       "      <td>-8.267538e+08</td>\n",
       "      <td>0.0</td>\n",
       "      <td>2</td>\n",
       "    </tr>\n",
       "    <tr>\n",
       "      <th>321</th>\n",
       "      <td>NaN</td>\n",
       "      <td>-3.307016e+09</td>\n",
       "      <td>-1.653508e+09</td>\n",
       "      <td>0.0</td>\n",
       "      <td>2</td>\n",
       "    </tr>\n",
       "    <tr>\n",
       "      <th>327</th>\n",
       "      <td>NaN</td>\n",
       "      <td>-3.307016e+09</td>\n",
       "      <td>-8.267538e+08</td>\n",
       "      <td>0.0</td>\n",
       "      <td>2</td>\n",
       "    </tr>\n",
       "    <tr>\n",
       "      <th>335</th>\n",
       "      <td>NaN</td>\n",
       "      <td>-3.307016e+09</td>\n",
       "      <td>-8.267538e+08</td>\n",
       "      <td>0.0</td>\n",
       "      <td>2</td>\n",
       "    </tr>\n",
       "    <tr>\n",
       "      <th>336</th>\n",
       "      <td>NaN</td>\n",
       "      <td>-3.307016e+09</td>\n",
       "      <td>-8.267538e+08</td>\n",
       "      <td>0.0</td>\n",
       "      <td>2</td>\n",
       "    </tr>\n",
       "    <tr>\n",
       "      <th>338</th>\n",
       "      <td>NaN</td>\n",
       "      <td>-2.480262e+09</td>\n",
       "      <td>-8.267538e+08</td>\n",
       "      <td>0.0</td>\n",
       "      <td>2</td>\n",
       "    </tr>\n",
       "    <tr>\n",
       "      <th>339</th>\n",
       "      <td>NaN</td>\n",
       "      <td>-3.307016e+09</td>\n",
       "      <td>-8.267538e+08</td>\n",
       "      <td>0.0</td>\n",
       "      <td>2</td>\n",
       "    </tr>\n",
       "  </tbody>\n",
       "</table>\n",
       "</div>"
      ],
      "text/plain": [
       "                              cities      negative       neutral  positive  \\\n",
       "4         nearest_city_American Fork -3.307016e+09 -1.653508e+09       0.0   \n",
       "7             nearest_city_Annapolis -3.307016e+09 -8.267538e+08       0.0   \n",
       "8               nearest_city_Arbutus -3.307016e+09 -8.267538e+08       0.0   \n",
       "9               nearest_city_Ashford -3.307016e+09 -8.267538e+08       0.0   \n",
       "12           nearest_city_Atascocita -2.480262e+09 -8.267538e+08       0.0   \n",
       "26                nearest_city_Boise -3.307016e+09 -1.653508e+09       0.0   \n",
       "34             nearest_city_Brighton -2.480262e+09 -8.267538e+08       0.0   \n",
       "39             nearest_city_Bushwick -3.307016e+09 -8.267538e+08       0.0   \n",
       "43         nearest_city_Canary Wharf -3.307016e+09 -1.653508e+09       0.0   \n",
       "46             nearest_city_Carolina -3.307016e+09 -8.267538e+08       0.0   \n",
       "52              nearest_city_Chillum -2.480262e+09 -8.267538e+08       0.0   \n",
       "55            nearest_city_Cleveland -3.307016e+09 -8.267538e+08       0.0   \n",
       "59               nearest_city_Conroe -2.480262e+09 -8.267538e+08       0.0   \n",
       "69              nearest_city_Cypress -3.307016e+09 -1.653508e+09       0.0   \n",
       "82           nearest_city_East Point -2.480262e+09 -8.267538e+08       0.0   \n",
       "85      nearest_city_El Dorado Hills -3.307016e+09 -8.267538e+08       0.0   \n",
       "92            nearest_city_Fairhaven -3.307016e+09 -1.653508e+09       0.0   \n",
       "101         nearest_city_Friendswood -4.133770e+09 -1.653508e+09       0.0   \n",
       "109            nearest_city_Glendale -4.133770e+09 -1.653508e+09       0.0   \n",
       "110              nearest_city_Golden -3.307016e+09 -1.653508e+09       0.0   \n",
       "113         nearest_city_Haltom City -2.480262e+09 -8.267538e+08       0.0   \n",
       "119         nearest_city_Hilton Head -3.307016e+09 -8.267538e+08       0.0   \n",
       "120             nearest_city_Hoboken -3.307016e+09 -8.267538e+08       0.0   \n",
       "121           nearest_city_Hollywood -2.480262e+09 -8.267538e+08       0.0   \n",
       "129  nearest_city_Jacksonville Beach -3.307016e+09 -8.267538e+08       0.0   \n",
       "133              nearest_city_Kenner -3.307016e+09 -8.267538e+08       0.0   \n",
       "143           nearest_city_Lexington -3.307016e+09 -8.267538e+08       0.0   \n",
       "147            nearest_city_Longview -2.480262e+09 -8.267538e+08       0.0   \n",
       "151     nearest_city_Mariners Harbor -3.307016e+09 -1.653508e+09       0.0   \n",
       "152         nearest_city_Marlborough -3.307016e+09 -8.267538e+08       0.0   \n",
       "157             nearest_city_Midland -3.307016e+09 -1.653508e+09       0.0   \n",
       "159              nearest_city_Milton -3.307016e+09 -8.267538e+08       0.0   \n",
       "160         nearest_city_Minneapolis -4.133770e+09 -1.653508e+09       0.0   \n",
       "167           nearest_city_Nashville -3.307016e+09 -8.267538e+08       0.0   \n",
       "176   nearest_city_North Little Rock -3.307016e+09 -8.267538e+08       0.0   \n",
       "191              nearest_city_Parole -3.307016e+09 -8.267538e+08       0.0   \n",
       "212           nearest_city_Rock Hill -3.307016e+09 -8.267538e+08       0.0   \n",
       "216          nearest_city_Ronkonkoma -3.307016e+09 -8.267538e+08       0.0   \n",
       "242        nearest_city_South Jordan -3.307016e+09 -1.653508e+09       0.0   \n",
       "254          nearest_city_The Valley -3.307016e+09 -8.267538e+08       0.0   \n",
       "266             nearest_city_Warwick -3.307016e+09 -1.653508e+09       0.0   \n",
       "278        nearest_city_Wethersfield -3.307016e+09 -8.267538e+08       0.0   \n",
       "279            nearest_city_Weymouth -3.307016e+09 -8.267538e+08       0.0   \n",
       "281          nearest_city_Whitestone -3.307016e+09 -8.267538e+08       0.0   \n",
       "294                              NaN -4.133770e+09 -1.653508e+09       0.0   \n",
       "301                              NaN -3.307016e+09 -8.267538e+08       0.0   \n",
       "314                              NaN -3.307016e+09 -8.267538e+08       0.0   \n",
       "321                              NaN -3.307016e+09 -1.653508e+09       0.0   \n",
       "327                              NaN -3.307016e+09 -8.267538e+08       0.0   \n",
       "335                              NaN -3.307016e+09 -8.267538e+08       0.0   \n",
       "336                              NaN -3.307016e+09 -8.267538e+08       0.0   \n",
       "338                              NaN -2.480262e+09 -8.267538e+08       0.0   \n",
       "339                              NaN -3.307016e+09 -8.267538e+08       0.0   \n",
       "\n",
       "     model_predictions  \n",
       "4                    2  \n",
       "7                    2  \n",
       "8                    2  \n",
       "9                    2  \n",
       "12                   2  \n",
       "26                   2  \n",
       "34                   2  \n",
       "39                   2  \n",
       "43                   2  \n",
       "46                   2  \n",
       "52                   2  \n",
       "55                   2  \n",
       "59                   2  \n",
       "69                   2  \n",
       "82                   2  \n",
       "85                   2  \n",
       "92                   2  \n",
       "101                  2  \n",
       "109                  2  \n",
       "110                  2  \n",
       "113                  2  \n",
       "119                  2  \n",
       "120                  2  \n",
       "121                  2  \n",
       "129                  2  \n",
       "133                  2  \n",
       "143                  2  \n",
       "147                  2  \n",
       "151                  2  \n",
       "152                  2  \n",
       "157                  2  \n",
       "159                  2  \n",
       "160                  2  \n",
       "167                  2  \n",
       "176                  2  \n",
       "191                  2  \n",
       "212                  2  \n",
       "216                  2  \n",
       "242                  2  \n",
       "254                  2  \n",
       "266                  2  \n",
       "278                  2  \n",
       "279                  2  \n",
       "281                  2  \n",
       "294                  2  \n",
       "301                  2  \n",
       "314                  2  \n",
       "321                  2  \n",
       "327                  2  \n",
       "335                  2  \n",
       "336                  2  \n",
       "338                  2  \n",
       "339                  2  "
      ]
     },
     "execution_count": 296,
     "metadata": {},
     "output_type": "execute_result"
    }
   ],
   "source": [
    "log_city_probability[log_city_probability['model_predictions']==2]"
   ]
  },
  {
   "cell_type": "code",
   "execution_count": null,
   "metadata": {
    "collapsed": true
   },
   "outputs": [],
   "source": []
  },
  {
   "cell_type": "code",
   "execution_count": 310,
   "metadata": {
    "collapsed": true
   },
   "outputs": [],
   "source": [
    "# TRY LOgistic again"
   ]
  },
  {
   "cell_type": "code",
   "execution_count": 311,
   "metadata": {},
   "outputs": [
    {
     "name": "stdout",
     "output_type": "stream",
     "text": [
      "Accuracy: 0.8509\n",
      "[[  7   0]\n",
      " [  0 225]]\n",
      "\n",
      "Classification Report\n",
      "             precision    recall  f1-score   support\n",
      "\n",
      "          1       1.00      0.12      0.22        58\n",
      "          0       1.00      1.00      1.00       225\n",
      "\n",
      "avg / total       1.00      0.82      0.84       283\n",
      "\n"
     ]
    }
   ],
   "source": [
    "from sklearn.linear_model import LogisticRegression\n",
    "\n",
    "lr_model =LogisticRegression(C=0.7, random_state=42)\n",
    "lr_model.fit(X_train, y_train)\n",
    "\n",
    "# training metrics\n",
    "print(\"Accuracy: {0:.4f}\".format(metrics.accuracy_score(y_test, lr_predict_class)))\n",
    "print(metrics.confusion_matrix(y_test, lr_predict_class, labels=[1, 0]) )\n",
    "print(\"\")\n",
    "print(\"Classification Report\")\n",
    "print(metrics.classification_report(y_test, lr_predict_class, labels=[1,0]))"
   ]
  },
  {
   "cell_type": "code",
   "execution_count": 313,
   "metadata": {},
   "outputs": [
    {
     "name": "stdout",
     "output_type": "stream",
     "text": [
      "0.847953216374\n"
     ]
    }
   ],
   "source": [
    "import pickle\n",
    "from sklearn import metrics\n",
    "\n",
    "# save the classifier\n",
    "# save the model to disk\n",
    "filename = 'finalized_model.lr'\n",
    "pickle.dump(lr_model, open(filename, 'wb'))   \n",
    "\n",
    "# load the model from disk\n",
    "lr_model = pickle.load(open(filename, 'rb'))\n",
    "ModelScore = lr_model.score(X_test, y_test)\n",
    "print(ModelScore)"
   ]
  },
  {
   "cell_type": "code",
   "execution_count": 318,
   "metadata": {},
   "outputs": [],
   "source": [
    "probabilities=lr_model.predict_proba(X_test)"
   ]
  },
  {
   "cell_type": "code",
   "execution_count": 316,
   "metadata": {},
   "outputs": [],
   "source": [
    "predictions = lr_model.predict(X_test)"
   ]
  },
  {
   "cell_type": "code",
   "execution_count": 317,
   "metadata": {},
   "outputs": [
    {
     "data": {
      "text/plain": [
       "array([0, 2, 0, 0, 2])"
      ]
     },
     "execution_count": 317,
     "metadata": {},
     "output_type": "execute_result"
    }
   ],
   "source": [
    "predictions[0:5]"
   ]
  },
  {
   "cell_type": "code",
   "execution_count": 319,
   "metadata": {},
   "outputs": [
    {
     "name": "stderr",
     "output_type": "stream",
     "text": [
      "/home/vijay/anaconda2/envs/py35/lib/python3.5/site-packages/ipykernel_launcher.py:5: SettingWithCopyWarning: \n",
      "A value is trying to be set on a copy of a slice from a DataFrame.\n",
      "Try using .loc[row_indexer,col_indexer] = value instead\n",
      "\n",
      "See the caveats in the documentation: http://pandas.pydata.org/pandas-docs/stable/indexing.html#indexing-view-versus-copy\n",
      "  \"\"\"\n",
      "/home/vijay/anaconda2/envs/py35/lib/python3.5/site-packages/ipykernel_launcher.py:7: SettingWithCopyWarning: \n",
      "A value is trying to be set on a copy of a slice from a DataFrame.\n",
      "Try using .loc[row_indexer,col_indexer] = value instead\n",
      "\n",
      "See the caveats in the documentation: http://pandas.pydata.org/pandas-docs/stable/indexing.html#indexing-view-versus-copy\n",
      "  import sys\n"
     ]
    },
    {
     "data": {
      "text/html": [
       "<div>\n",
       "<style>\n",
       "    .dataframe thead tr:only-child th {\n",
       "        text-align: right;\n",
       "    }\n",
       "\n",
       "    .dataframe thead th {\n",
       "        text-align: left;\n",
       "    }\n",
       "\n",
       "    .dataframe tbody tr th {\n",
       "        vertical-align: top;\n",
       "    }\n",
       "</style>\n",
       "<table border=\"1\" class=\"dataframe\">\n",
       "  <thead>\n",
       "    <tr style=\"text-align: right;\">\n",
       "      <th></th>\n",
       "      <th>cities</th>\n",
       "      <th>negative</th>\n",
       "      <th>neutral</th>\n",
       "      <th>positive</th>\n",
       "      <th>model_predictions</th>\n",
       "      <th>sentiment_prediction</th>\n",
       "    </tr>\n",
       "  </thead>\n",
       "  <tbody>\n",
       "    <tr>\n",
       "      <th>242</th>\n",
       "      <td>nearest_city_South Jordan</td>\n",
       "      <td>0.000590</td>\n",
       "      <td>0.163330</td>\n",
       "      <td>0.836080</td>\n",
       "      <td>2</td>\n",
       "      <td>positive</td>\n",
       "    </tr>\n",
       "    <tr>\n",
       "      <th>43</th>\n",
       "      <td>nearest_city_Canary Wharf</td>\n",
       "      <td>0.000590</td>\n",
       "      <td>0.163330</td>\n",
       "      <td>0.836080</td>\n",
       "      <td>2</td>\n",
       "      <td>positive</td>\n",
       "    </tr>\n",
       "    <tr>\n",
       "      <th>110</th>\n",
       "      <td>nearest_city_Golden</td>\n",
       "      <td>0.000535</td>\n",
       "      <td>0.204706</td>\n",
       "      <td>0.794759</td>\n",
       "      <td>2</td>\n",
       "      <td>positive</td>\n",
       "    </tr>\n",
       "    <tr>\n",
       "      <th>55</th>\n",
       "      <td>nearest_city_Cleveland</td>\n",
       "      <td>0.000535</td>\n",
       "      <td>0.213923</td>\n",
       "      <td>0.785542</td>\n",
       "      <td>2</td>\n",
       "      <td>positive</td>\n",
       "    </tr>\n",
       "    <tr>\n",
       "      <th>157</th>\n",
       "      <td>nearest_city_Midland</td>\n",
       "      <td>0.000498</td>\n",
       "      <td>0.230137</td>\n",
       "      <td>0.769365</td>\n",
       "      <td>2</td>\n",
       "      <td>positive</td>\n",
       "    </tr>\n",
       "  </tbody>\n",
       "</table>\n",
       "</div>"
      ],
      "text/plain": [
       "                        cities  negative   neutral  positive  \\\n",
       "242  nearest_city_South Jordan  0.000590  0.163330  0.836080   \n",
       "43   nearest_city_Canary Wharf  0.000590  0.163330  0.836080   \n",
       "110        nearest_city_Golden  0.000535  0.204706  0.794759   \n",
       "55      nearest_city_Cleveland  0.000535  0.213923  0.785542   \n",
       "157       nearest_city_Midland  0.000498  0.230137  0.769365   \n",
       "\n",
       "     model_predictions sentiment_prediction  \n",
       "242                  2             positive  \n",
       "43                   2             positive  \n",
       "110                  2             positive  \n",
       "55                   2             positive  \n",
       "157                  2             positive  "
      ]
     },
     "execution_count": 319,
     "metadata": {},
     "output_type": "execute_result"
    }
   ],
   "source": [
    "probabilities_df = pd.DataFrame(probabilities,columns=['negative','neutral','positive'])\n",
    "feature_name_series = pd.Series(feature_names)\n",
    "probabilities_df['cities'] = feature_name_series\n",
    "city_probability = probabilities_df[['cities','negative','neutral','positive']]\n",
    "city_probability['model_predictions'] = predictions\n",
    "sentiment_map = { 0:'negative',1:'neutral',2:'positive'}\n",
    "city_probability['sentiment_prediction'] = city_probability['model_predictions'].map(sentiment_map)\n",
    "# save all cities with their probabilitiy classes, model prediction and sentiment prediction\n",
    "city_probability.to_csv('city_probability.csv')\n",
    "# save a sorted list of cities by the predicted positive sentiment score to the output file\n",
    "predicted_positive = city_probability[city_probability['model_predictions'] == 2]\n",
    "sorted_predicted_positive = predicted_positive.sort_values(['positive'], ascending=[False])\n",
    "sorted_predicted_positive.to_csv('sorted_predicted_positive.csv')\n",
    "sorted_predicted_positive[0:5]"
   ]
  },
  {
   "cell_type": "code",
   "execution_count": null,
   "metadata": {
    "collapsed": true
   },
   "outputs": [],
   "source": []
  }
 ],
 "metadata": {
  "kernelspec": {
   "display_name": "Python 3",
   "language": "python",
   "name": "python3"
  },
  "language_info": {
   "codemirror_mode": {
    "name": "ipython",
    "version": 3
   },
   "file_extension": ".py",
   "mimetype": "text/x-python",
   "name": "python",
   "nbconvert_exporter": "python",
   "pygments_lexer": "ipython3",
   "version": "3.5.3"
  }
 },
 "nbformat": 4,
 "nbformat_minor": 2
}
