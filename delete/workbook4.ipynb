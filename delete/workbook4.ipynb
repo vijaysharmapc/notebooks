{
 "cells": [
  {
   "cell_type": "code",
   "execution_count": 1,
   "metadata": {
    "collapsed": true
   },
   "outputs": [],
   "source": [
    "import pandas as pd                 # pandas is a dataframe library\n",
    "import matplotlib.pyplot as plt     # matplotlib.pyplot plots data\n",
    "import numpy as np                  # numpy provides N-dim object support\n",
    "\n",
    "# do ploting inline instead of in a separate window\n",
    "%matplotlib inline"
   ]
  },
  {
   "cell_type": "code",
   "execution_count": 2,
   "metadata": {
    "collapsed": true
   },
   "outputs": [],
   "source": [
    "#READ AND PARSE AIRLINE FILE\n",
    "airline_tweets = pd.read_csv('airline_tweets.csv', usecols=['airline_sentiment','tweet_coord'],encoding='utf-8')\n",
    "airline_tweets=airline_tweets.dropna()\n",
    "airline_tweets=airline_tweets.loc[airline_tweets['tweet_coord'] != '[0.0, 0.0]']\n",
    "sentiment_map = { 'negative' : 0,'neutral' :1,'positive' : 2}\n",
    "airline_tweets['airline_sentiment'] = airline_tweets['airline_sentiment'].map(sentiment_map)\n",
    "airline_tweets['tweet_coord'].replace(regex=True,inplace=True,to_replace=r'\\[',value=r'')\n",
    "airline_tweets['tweet_coord'].replace(regex=True,inplace=True,to_replace=r'\\]',value=r'')\n",
    "airline_tweets = airline_tweets.reset_index(drop=True)\n",
    "\n",
    "split_c = airline_tweets['tweet_coord'].apply(lambda x: x.split(','))\n",
    "airline_tweets['latitude'] = split_c.apply(lambda x: float(x[0]))\n",
    "airline_tweets['longitude'] = split_c.apply(lambda x: float(x[1]))\n",
    "airline_tweets.drop(['tweet_coord'],axis=1)\n",
    "\n",
    "#READ AND PARSE CITIES\n",
    "cities = pd.read_csv( \"cities.csv\", delimiter=\",\" ,header='infer',usecols=['name','latitude','longitude'],encoding='utf-8')\n",
    "cities=cities.dropna()\n",
    "cities['city_coord']= cities[['latitude','longitude']].values.tolist()"
   ]
  },
  {
   "cell_type": "code",
   "execution_count": 3,
   "metadata": {},
   "outputs": [
    {
     "data": {
      "text/html": [
       "<div>\n",
       "<style>\n",
       "    .dataframe thead tr:only-child th {\n",
       "        text-align: right;\n",
       "    }\n",
       "\n",
       "    .dataframe thead th {\n",
       "        text-align: left;\n",
       "    }\n",
       "\n",
       "    .dataframe tbody tr th {\n",
       "        vertical-align: top;\n",
       "    }\n",
       "</style>\n",
       "<table border=\"1\" class=\"dataframe\">\n",
       "  <thead>\n",
       "    <tr style=\"text-align: right;\">\n",
       "      <th></th>\n",
       "      <th>airline_sentiment</th>\n",
       "      <th>tweet_coord</th>\n",
       "      <th>latitude</th>\n",
       "      <th>longitude</th>\n",
       "    </tr>\n",
       "  </thead>\n",
       "  <tbody>\n",
       "    <tr>\n",
       "      <th>0</th>\n",
       "      <td>2</td>\n",
       "      <td>40.74804263, -73.99295302</td>\n",
       "      <td>40.748043</td>\n",
       "      <td>-73.992953</td>\n",
       "    </tr>\n",
       "    <tr>\n",
       "      <th>1</th>\n",
       "      <td>0</td>\n",
       "      <td>42.361016, -71.02000488</td>\n",
       "      <td>42.361016</td>\n",
       "      <td>-71.020005</td>\n",
       "    </tr>\n",
       "    <tr>\n",
       "      <th>2</th>\n",
       "      <td>1</td>\n",
       "      <td>33.94540417, -118.4062472</td>\n",
       "      <td>33.945404</td>\n",
       "      <td>-118.406247</td>\n",
       "    </tr>\n",
       "    <tr>\n",
       "      <th>3</th>\n",
       "      <td>0</td>\n",
       "      <td>33.94209449, -118.40410103</td>\n",
       "      <td>33.942094</td>\n",
       "      <td>-118.404101</td>\n",
       "    </tr>\n",
       "    <tr>\n",
       "      <th>4</th>\n",
       "      <td>2</td>\n",
       "      <td>33.2145038, -96.9321504</td>\n",
       "      <td>33.214504</td>\n",
       "      <td>-96.932150</td>\n",
       "    </tr>\n",
       "  </tbody>\n",
       "</table>\n",
       "</div>"
      ],
      "text/plain": [
       "   airline_sentiment                 tweet_coord   latitude   longitude\n",
       "0                  2   40.74804263, -73.99295302  40.748043  -73.992953\n",
       "1                  0     42.361016, -71.02000488  42.361016  -71.020005\n",
       "2                  1   33.94540417, -118.4062472  33.945404 -118.406247\n",
       "3                  0  33.94209449, -118.40410103  33.942094 -118.404101\n",
       "4                  2     33.2145038, -96.9321504  33.214504  -96.932150"
      ]
     },
     "execution_count": 3,
     "metadata": {},
     "output_type": "execute_result"
    }
   ],
   "source": [
    "airline_tweets[0:5]"
   ]
  },
  {
   "cell_type": "code",
   "execution_count": 4,
   "metadata": {},
   "outputs": [
    {
     "data": {
      "text/html": [
       "<div>\n",
       "<style>\n",
       "    .dataframe thead tr:only-child th {\n",
       "        text-align: right;\n",
       "    }\n",
       "\n",
       "    .dataframe thead th {\n",
       "        text-align: left;\n",
       "    }\n",
       "\n",
       "    .dataframe tbody tr th {\n",
       "        vertical-align: top;\n",
       "    }\n",
       "</style>\n",
       "<table border=\"1\" class=\"dataframe\">\n",
       "  <thead>\n",
       "    <tr style=\"text-align: right;\">\n",
       "      <th></th>\n",
       "      <th>name</th>\n",
       "      <th>latitude</th>\n",
       "      <th>longitude</th>\n",
       "      <th>city_coord</th>\n",
       "    </tr>\n",
       "  </thead>\n",
       "  <tbody>\n",
       "    <tr>\n",
       "      <th>0</th>\n",
       "      <td>les Escaldes</td>\n",
       "      <td>42.50729</td>\n",
       "      <td>1.53414</td>\n",
       "      <td>[42.507290000000005, 1.53414]</td>\n",
       "    </tr>\n",
       "    <tr>\n",
       "      <th>1</th>\n",
       "      <td>Andorra la Vella</td>\n",
       "      <td>42.50779</td>\n",
       "      <td>1.52109</td>\n",
       "      <td>[42.50779, 1.52109]</td>\n",
       "    </tr>\n",
       "    <tr>\n",
       "      <th>2</th>\n",
       "      <td>Umm al Qaywayn</td>\n",
       "      <td>25.56473</td>\n",
       "      <td>55.55517</td>\n",
       "      <td>[25.564729999999997, 55.55517]</td>\n",
       "    </tr>\n",
       "    <tr>\n",
       "      <th>3</th>\n",
       "      <td>Ras al-Khaimah</td>\n",
       "      <td>25.78953</td>\n",
       "      <td>55.94320</td>\n",
       "      <td>[25.78953, 55.9432]</td>\n",
       "    </tr>\n",
       "    <tr>\n",
       "      <th>4</th>\n",
       "      <td>Khawr Fakkān</td>\n",
       "      <td>25.33132</td>\n",
       "      <td>56.34199</td>\n",
       "      <td>[25.33132, 56.34199]</td>\n",
       "    </tr>\n",
       "  </tbody>\n",
       "</table>\n",
       "</div>"
      ],
      "text/plain": [
       "               name  latitude  longitude                      city_coord\n",
       "0      les Escaldes  42.50729    1.53414   [42.507290000000005, 1.53414]\n",
       "1  Andorra la Vella  42.50779    1.52109             [42.50779, 1.52109]\n",
       "2    Umm al Qaywayn  25.56473   55.55517  [25.564729999999997, 55.55517]\n",
       "3    Ras al-Khaimah  25.78953   55.94320             [25.78953, 55.9432]\n",
       "4      Khawr Fakkān  25.33132   56.34199            [25.33132, 56.34199]"
      ]
     },
     "execution_count": 4,
     "metadata": {},
     "output_type": "execute_result"
    }
   ],
   "source": [
    "cities[0:5]"
   ]
  },
  {
   "cell_type": "code",
   "execution_count": 5,
   "metadata": {
    "collapsed": true
   },
   "outputs": [],
   "source": [
    "# find the nearest city to the tweet coorinates usin ckdtree(nearest neighbour) and query(Euclidean)\n",
    "from scipy.spatial import cKDTree\n",
    "\n",
    "def closest_pts(setA_lat, setA_lng, setB_lat, setB_lng):\n",
    "    a_x = setA_lat.values\n",
    "    a_y = setA_lng.values\n",
    "    b_x = setB_lat.values\n",
    "    b_y = setB_lng.values\n",
    "    #print(a_x[0:5])\n",
    "    a = np.c_[a_x, a_y]\n",
    "    #print(a)\n",
    "    b = np.c_[b_x, b_y]\n",
    "    indx = cKDTree(b).query(a,k=1,p=2)[1]\n",
    "    #print(indx)\n",
    "    return pd.Series(b_x[indx]), pd.Series(b_y[indx]),pd.Series(cities['name'][indx])"
   ]
  },
  {
   "cell_type": "code",
   "execution_count": 6,
   "metadata": {
    "collapsed": true
   },
   "outputs": [],
   "source": [
    "setA_lat = airline_tweets['latitude']\n",
    "setA_lng =  airline_tweets['longitude']\n",
    "\n",
    "setB_lat = cities['latitude']\n",
    "setB_lng =  cities['longitude']"
   ]
  },
  {
   "cell_type": "code",
   "execution_count": 7,
   "metadata": {
    "collapsed": true
   },
   "outputs": [],
   "source": [
    "c_x,c_y,c_n = closest_pts(setA_lat, setA_lng, setB_lat, setB_lng)"
   ]
  },
  {
   "cell_type": "code",
   "execution_count": 8,
   "metadata": {},
   "outputs": [
    {
     "data": {
      "text/plain": [
       "0    New York City\n",
       "1          Chelsea\n",
       "2       El Segundo\n",
       "3       El Segundo\n",
       "4           Frisco\n",
       "Name: name, dtype: object"
      ]
     },
     "execution_count": 8,
     "metadata": {},
     "output_type": "execute_result"
    }
   ],
   "source": [
    "c_n = c_n.reset_index(drop=True)\n",
    "c_n[0:5]"
   ]
  },
  {
   "cell_type": "code",
   "execution_count": 9,
   "metadata": {
    "collapsed": true
   },
   "outputs": [],
   "source": [
    "airline_tweets['nearest_latitude'] = c_x\n",
    "airline_tweets['nearest_longitude'] = c_y\n",
    "airline_tweets['nearest_city'] =c_n"
   ]
  },
  {
   "cell_type": "code",
   "execution_count": 10,
   "metadata": {},
   "outputs": [
    {
     "data": {
      "text/html": [
       "<div>\n",
       "<style>\n",
       "    .dataframe thead tr:only-child th {\n",
       "        text-align: right;\n",
       "    }\n",
       "\n",
       "    .dataframe thead th {\n",
       "        text-align: left;\n",
       "    }\n",
       "\n",
       "    .dataframe tbody tr th {\n",
       "        vertical-align: top;\n",
       "    }\n",
       "</style>\n",
       "<table border=\"1\" class=\"dataframe\">\n",
       "  <thead>\n",
       "    <tr style=\"text-align: right;\">\n",
       "      <th></th>\n",
       "      <th>airline_sentiment</th>\n",
       "      <th>tweet_coord</th>\n",
       "      <th>latitude</th>\n",
       "      <th>longitude</th>\n",
       "      <th>nearest_latitude</th>\n",
       "      <th>nearest_longitude</th>\n",
       "      <th>nearest_city</th>\n",
       "    </tr>\n",
       "  </thead>\n",
       "  <tbody>\n",
       "    <tr>\n",
       "      <th>0</th>\n",
       "      <td>2</td>\n",
       "      <td>40.74804263, -73.99295302</td>\n",
       "      <td>40.748043</td>\n",
       "      <td>-73.992953</td>\n",
       "      <td>40.71427</td>\n",
       "      <td>-74.00597</td>\n",
       "      <td>New York City</td>\n",
       "    </tr>\n",
       "    <tr>\n",
       "      <th>1</th>\n",
       "      <td>0</td>\n",
       "      <td>42.361016, -71.02000488</td>\n",
       "      <td>42.361016</td>\n",
       "      <td>-71.020005</td>\n",
       "      <td>42.39176</td>\n",
       "      <td>-71.03283</td>\n",
       "      <td>Chelsea</td>\n",
       "    </tr>\n",
       "    <tr>\n",
       "      <th>2</th>\n",
       "      <td>1</td>\n",
       "      <td>33.94540417, -118.4062472</td>\n",
       "      <td>33.945404</td>\n",
       "      <td>-118.406247</td>\n",
       "      <td>33.91918</td>\n",
       "      <td>-118.41647</td>\n",
       "      <td>El Segundo</td>\n",
       "    </tr>\n",
       "    <tr>\n",
       "      <th>3</th>\n",
       "      <td>0</td>\n",
       "      <td>33.94209449, -118.40410103</td>\n",
       "      <td>33.942094</td>\n",
       "      <td>-118.404101</td>\n",
       "      <td>33.91918</td>\n",
       "      <td>-118.41647</td>\n",
       "      <td>El Segundo</td>\n",
       "    </tr>\n",
       "    <tr>\n",
       "      <th>4</th>\n",
       "      <td>2</td>\n",
       "      <td>33.2145038, -96.9321504</td>\n",
       "      <td>33.214504</td>\n",
       "      <td>-96.932150</td>\n",
       "      <td>33.15067</td>\n",
       "      <td>-96.82361</td>\n",
       "      <td>Frisco</td>\n",
       "    </tr>\n",
       "    <tr>\n",
       "      <th>5</th>\n",
       "      <td>1</td>\n",
       "      <td>34.0219817, -118.38591198</td>\n",
       "      <td>34.021982</td>\n",
       "      <td>-118.385912</td>\n",
       "      <td>34.02112</td>\n",
       "      <td>-118.39647</td>\n",
       "      <td>Culver City</td>\n",
       "    </tr>\n",
       "    <tr>\n",
       "      <th>6</th>\n",
       "      <td>1</td>\n",
       "      <td>33.57963333, -117.73024772</td>\n",
       "      <td>33.579633</td>\n",
       "      <td>-117.730248</td>\n",
       "      <td>33.56504</td>\n",
       "      <td>-117.72712</td>\n",
       "      <td>Aliso Viejo</td>\n",
       "    </tr>\n",
       "    <tr>\n",
       "      <th>7</th>\n",
       "      <td>0</td>\n",
       "      <td>40.6413712, -73.78311558</td>\n",
       "      <td>40.641371</td>\n",
       "      <td>-73.783116</td>\n",
       "      <td>40.66312</td>\n",
       "      <td>-73.76221</td>\n",
       "      <td>Springfield Gardens</td>\n",
       "    </tr>\n",
       "    <tr>\n",
       "      <th>8</th>\n",
       "      <td>2</td>\n",
       "      <td>36.08457854, -115.13780136</td>\n",
       "      <td>36.084579</td>\n",
       "      <td>-115.137801</td>\n",
       "      <td>36.09719</td>\n",
       "      <td>-115.14666</td>\n",
       "      <td>Paradise</td>\n",
       "    </tr>\n",
       "    <tr>\n",
       "      <th>9</th>\n",
       "      <td>1</td>\n",
       "      <td>37.79374402, -122.39327564</td>\n",
       "      <td>37.793744</td>\n",
       "      <td>-122.393276</td>\n",
       "      <td>37.77493</td>\n",
       "      <td>-122.41942</td>\n",
       "      <td>San Francisco</td>\n",
       "    </tr>\n",
       "  </tbody>\n",
       "</table>\n",
       "</div>"
      ],
      "text/plain": [
       "   airline_sentiment                 tweet_coord   latitude   longitude  \\\n",
       "0                  2   40.74804263, -73.99295302  40.748043  -73.992953   \n",
       "1                  0     42.361016, -71.02000488  42.361016  -71.020005   \n",
       "2                  1   33.94540417, -118.4062472  33.945404 -118.406247   \n",
       "3                  0  33.94209449, -118.40410103  33.942094 -118.404101   \n",
       "4                  2     33.2145038, -96.9321504  33.214504  -96.932150   \n",
       "5                  1   34.0219817, -118.38591198  34.021982 -118.385912   \n",
       "6                  1  33.57963333, -117.73024772  33.579633 -117.730248   \n",
       "7                  0    40.6413712, -73.78311558  40.641371  -73.783116   \n",
       "8                  2  36.08457854, -115.13780136  36.084579 -115.137801   \n",
       "9                  1  37.79374402, -122.39327564  37.793744 -122.393276   \n",
       "\n",
       "   nearest_latitude  nearest_longitude         nearest_city  \n",
       "0          40.71427          -74.00597        New York City  \n",
       "1          42.39176          -71.03283              Chelsea  \n",
       "2          33.91918         -118.41647           El Segundo  \n",
       "3          33.91918         -118.41647           El Segundo  \n",
       "4          33.15067          -96.82361               Frisco  \n",
       "5          34.02112         -118.39647          Culver City  \n",
       "6          33.56504         -117.72712          Aliso Viejo  \n",
       "7          40.66312          -73.76221  Springfield Gardens  \n",
       "8          36.09719         -115.14666             Paradise  \n",
       "9          37.77493         -122.41942        San Francisco  "
      ]
     },
     "execution_count": 10,
     "metadata": {},
     "output_type": "execute_result"
    }
   ],
   "source": [
    "airline_tweets[0:10]"
   ]
  },
  {
   "cell_type": "code",
   "execution_count": 11,
   "metadata": {
    "collapsed": true
   },
   "outputs": [],
   "source": [
    "feature_df = airline_tweets[['nearest_city']]"
   ]
  },
  {
   "cell_type": "code",
   "execution_count": 12,
   "metadata": {
    "collapsed": true
   },
   "outputs": [],
   "source": [
    "label_df = airline_tweets['airline_sentiment']"
   ]
  },
  {
   "cell_type": "code",
   "execution_count": 35,
   "metadata": {},
   "outputs": [
    {
     "name": "stdout",
     "output_type": "stream",
     "text": [
      "<class 'pandas.core.frame.DataFrame'>\n",
      "<class 'pandas.core.series.Series'>\n"
     ]
    }
   ],
   "source": [
    "print(type(feature_df))\n",
    "print(type(label_df))"
   ]
  },
  {
   "cell_type": "code",
   "execution_count": 36,
   "metadata": {},
   "outputs": [
    {
     "data": {
      "text/html": [
       "<div>\n",
       "<style>\n",
       "    .dataframe thead tr:only-child th {\n",
       "        text-align: right;\n",
       "    }\n",
       "\n",
       "    .dataframe thead th {\n",
       "        text-align: left;\n",
       "    }\n",
       "\n",
       "    .dataframe tbody tr th {\n",
       "        vertical-align: top;\n",
       "    }\n",
       "</style>\n",
       "<table border=\"1\" class=\"dataframe\">\n",
       "  <thead>\n",
       "    <tr style=\"text-align: right;\">\n",
       "      <th></th>\n",
       "      <th>nearest_city_Addison</th>\n",
       "      <th>nearest_city_Aldine</th>\n",
       "      <th>nearest_city_Aliso Viejo</th>\n",
       "      <th>nearest_city_Allen</th>\n",
       "      <th>nearest_city_American Fork</th>\n",
       "      <th>nearest_city_Anaheim</th>\n",
       "      <th>nearest_city_Angeles City</th>\n",
       "      <th>nearest_city_Annapolis</th>\n",
       "      <th>nearest_city_Arbutus</th>\n",
       "      <th>nearest_city_Ashford</th>\n",
       "      <th>...</th>\n",
       "      <th>nearest_city_Whitestone</th>\n",
       "      <th>nearest_city_Williamsport</th>\n",
       "      <th>nearest_city_Willow Grove</th>\n",
       "      <th>nearest_city_Windsor</th>\n",
       "      <th>nearest_city_Winnipeg</th>\n",
       "      <th>nearest_city_Winter Park</th>\n",
       "      <th>nearest_city_Wolverhampton</th>\n",
       "      <th>nearest_city_Woodstock</th>\n",
       "      <th>nearest_city_Xiuying</th>\n",
       "      <th>nearest_city_Zionsville</th>\n",
       "    </tr>\n",
       "  </thead>\n",
       "  <tbody>\n",
       "    <tr>\n",
       "      <th>0</th>\n",
       "      <td>0</td>\n",
       "      <td>0</td>\n",
       "      <td>0</td>\n",
       "      <td>0</td>\n",
       "      <td>0</td>\n",
       "      <td>0</td>\n",
       "      <td>0</td>\n",
       "      <td>0</td>\n",
       "      <td>0</td>\n",
       "      <td>0</td>\n",
       "      <td>...</td>\n",
       "      <td>0</td>\n",
       "      <td>0</td>\n",
       "      <td>0</td>\n",
       "      <td>0</td>\n",
       "      <td>0</td>\n",
       "      <td>0</td>\n",
       "      <td>0</td>\n",
       "      <td>0</td>\n",
       "      <td>0</td>\n",
       "      <td>0</td>\n",
       "    </tr>\n",
       "    <tr>\n",
       "      <th>1</th>\n",
       "      <td>0</td>\n",
       "      <td>0</td>\n",
       "      <td>0</td>\n",
       "      <td>0</td>\n",
       "      <td>0</td>\n",
       "      <td>0</td>\n",
       "      <td>0</td>\n",
       "      <td>0</td>\n",
       "      <td>0</td>\n",
       "      <td>0</td>\n",
       "      <td>...</td>\n",
       "      <td>0</td>\n",
       "      <td>0</td>\n",
       "      <td>0</td>\n",
       "      <td>0</td>\n",
       "      <td>0</td>\n",
       "      <td>0</td>\n",
       "      <td>0</td>\n",
       "      <td>0</td>\n",
       "      <td>0</td>\n",
       "      <td>0</td>\n",
       "    </tr>\n",
       "    <tr>\n",
       "      <th>2</th>\n",
       "      <td>0</td>\n",
       "      <td>0</td>\n",
       "      <td>0</td>\n",
       "      <td>0</td>\n",
       "      <td>0</td>\n",
       "      <td>0</td>\n",
       "      <td>0</td>\n",
       "      <td>0</td>\n",
       "      <td>0</td>\n",
       "      <td>0</td>\n",
       "      <td>...</td>\n",
       "      <td>0</td>\n",
       "      <td>0</td>\n",
       "      <td>0</td>\n",
       "      <td>0</td>\n",
       "      <td>0</td>\n",
       "      <td>0</td>\n",
       "      <td>0</td>\n",
       "      <td>0</td>\n",
       "      <td>0</td>\n",
       "      <td>0</td>\n",
       "    </tr>\n",
       "    <tr>\n",
       "      <th>3</th>\n",
       "      <td>0</td>\n",
       "      <td>0</td>\n",
       "      <td>0</td>\n",
       "      <td>0</td>\n",
       "      <td>0</td>\n",
       "      <td>0</td>\n",
       "      <td>0</td>\n",
       "      <td>0</td>\n",
       "      <td>0</td>\n",
       "      <td>0</td>\n",
       "      <td>...</td>\n",
       "      <td>0</td>\n",
       "      <td>0</td>\n",
       "      <td>0</td>\n",
       "      <td>0</td>\n",
       "      <td>0</td>\n",
       "      <td>0</td>\n",
       "      <td>0</td>\n",
       "      <td>0</td>\n",
       "      <td>0</td>\n",
       "      <td>0</td>\n",
       "    </tr>\n",
       "    <tr>\n",
       "      <th>4</th>\n",
       "      <td>0</td>\n",
       "      <td>0</td>\n",
       "      <td>0</td>\n",
       "      <td>0</td>\n",
       "      <td>0</td>\n",
       "      <td>0</td>\n",
       "      <td>0</td>\n",
       "      <td>0</td>\n",
       "      <td>0</td>\n",
       "      <td>0</td>\n",
       "      <td>...</td>\n",
       "      <td>0</td>\n",
       "      <td>0</td>\n",
       "      <td>0</td>\n",
       "      <td>0</td>\n",
       "      <td>0</td>\n",
       "      <td>0</td>\n",
       "      <td>0</td>\n",
       "      <td>0</td>\n",
       "      <td>0</td>\n",
       "      <td>0</td>\n",
       "    </tr>\n",
       "  </tbody>\n",
       "</table>\n",
       "<p>5 rows × 291 columns</p>\n",
       "</div>"
      ],
      "text/plain": [
       "   nearest_city_Addison  nearest_city_Aldine  nearest_city_Aliso Viejo  \\\n",
       "0                     0                    0                         0   \n",
       "1                     0                    0                         0   \n",
       "2                     0                    0                         0   \n",
       "3                     0                    0                         0   \n",
       "4                     0                    0                         0   \n",
       "\n",
       "   nearest_city_Allen  nearest_city_American Fork  nearest_city_Anaheim  \\\n",
       "0                   0                           0                     0   \n",
       "1                   0                           0                     0   \n",
       "2                   0                           0                     0   \n",
       "3                   0                           0                     0   \n",
       "4                   0                           0                     0   \n",
       "\n",
       "   nearest_city_Angeles City  nearest_city_Annapolis  nearest_city_Arbutus  \\\n",
       "0                          0                       0                     0   \n",
       "1                          0                       0                     0   \n",
       "2                          0                       0                     0   \n",
       "3                          0                       0                     0   \n",
       "4                          0                       0                     0   \n",
       "\n",
       "   nearest_city_Ashford           ...             nearest_city_Whitestone  \\\n",
       "0                     0           ...                                   0   \n",
       "1                     0           ...                                   0   \n",
       "2                     0           ...                                   0   \n",
       "3                     0           ...                                   0   \n",
       "4                     0           ...                                   0   \n",
       "\n",
       "   nearest_city_Williamsport  nearest_city_Willow Grove  nearest_city_Windsor  \\\n",
       "0                          0                          0                     0   \n",
       "1                          0                          0                     0   \n",
       "2                          0                          0                     0   \n",
       "3                          0                          0                     0   \n",
       "4                          0                          0                     0   \n",
       "\n",
       "   nearest_city_Winnipeg  nearest_city_Winter Park  \\\n",
       "0                      0                         0   \n",
       "1                      0                         0   \n",
       "2                      0                         0   \n",
       "3                      0                         0   \n",
       "4                      0                         0   \n",
       "\n",
       "   nearest_city_Wolverhampton  nearest_city_Woodstock  nearest_city_Xiuying  \\\n",
       "0                           0                       0                     0   \n",
       "1                           0                       0                     0   \n",
       "2                           0                       0                     0   \n",
       "3                           0                       0                     0   \n",
       "4                           0                       0                     0   \n",
       "\n",
       "   nearest_city_Zionsville  \n",
       "0                        0  \n",
       "1                        0  \n",
       "2                        0  \n",
       "3                        0  \n",
       "4                        0  \n",
       "\n",
       "[5 rows x 291 columns]"
      ]
     },
     "execution_count": 36,
     "metadata": {},
     "output_type": "execute_result"
    }
   ],
   "source": [
    "# feature encoding\n",
    "features = pd.get_dummies(feature_df, columns=[\"nearest_city\"])\n",
    "features[0:5]"
   ]
  },
  {
   "cell_type": "code",
   "execution_count": 37,
   "metadata": {},
   "outputs": [
    {
     "name": "stdout",
     "output_type": "stream",
     "text": [
      "[0, 1, 2]\n"
     ]
    },
    {
     "data": {
      "text/plain": [
       "array([2, 0, 1, 0, 2])"
      ]
     },
     "execution_count": 37,
     "metadata": {},
     "output_type": "execute_result"
    }
   ],
   "source": [
    "# label encoding\n",
    "from sklearn import preprocessing\n",
    "le = preprocessing.LabelEncoder()\n",
    "le.fit(label_df.values)\n",
    "print(list(le.classes_))\n",
    "labels = le.transform(label_df)\n",
    "labels[0:5]"
   ]
  },
  {
   "cell_type": "code",
   "execution_count": 38,
   "metadata": {},
   "outputs": [
    {
     "data": {
      "text/plain": [
       "array([2, 0, 1, 0, 2])"
      ]
     },
     "execution_count": 38,
     "metadata": {},
     "output_type": "execute_result"
    }
   ],
   "source": [
    "label_df.values[0:5]"
   ]
  },
  {
   "cell_type": "code",
   "execution_count": 39,
   "metadata": {
    "collapsed": true
   },
   "outputs": [],
   "source": [
    "# remove if does not work\n",
    "#labels = label_df.values has same effect as above transformation"
   ]
  },
  {
   "cell_type": "code",
   "execution_count": 40,
   "metadata": {},
   "outputs": [
    {
     "name": "stdout",
     "output_type": "stream",
     "text": [
      "(855, 291)\n",
      "(855,)\n"
     ]
    }
   ],
   "source": [
    "print(features.shape)\n",
    "print(labels.shape)"
   ]
  },
  {
   "cell_type": "code",
   "execution_count": 41,
   "metadata": {},
   "outputs": [],
   "source": [
    "# split X and y into training and testing sets\n",
    "from sklearn.cross_validation import train_test_split\n",
    "X_train, X_test, y_train, y_test = train_test_split(features,labels,test_size = 0.40, random_state=0)\n",
    "\n",
    "X_train = np.array(X_train)\n",
    "X_test = np.array(X_test)"
   ]
  },
  {
   "cell_type": "code",
   "execution_count": 42,
   "metadata": {},
   "outputs": [
    {
     "name": "stdout",
     "output_type": "stream",
     "text": [
      "<class 'numpy.ndarray'> (513, 291)\n",
      "<class 'numpy.ndarray'> (513,)\n",
      "<class 'numpy.ndarray'> (342, 291)\n",
      "<class 'numpy.ndarray'> (342,)\n"
     ]
    }
   ],
   "source": [
    "print(type(X_train),X_train.shape)\n",
    "print(type(y_train),y_train.shape)\n",
    "print(type(X_test),X_test.shape)\n",
    "print(type(y_test),y_test.shape)"
   ]
  },
  {
   "cell_type": "markdown",
   "metadata": {},
   "source": [
    "## FITTING A LOGISTIC REGRESSION"
   ]
  },
  {
   "cell_type": "code",
   "execution_count": 217,
   "metadata": {},
   "outputs": [],
   "source": [
    "#features.loc[0:,'nearest_city_New York City']"
   ]
  },
  {
   "cell_type": "code",
   "execution_count": 218,
   "metadata": {},
   "outputs": [
    {
     "name": "stdout",
     "output_type": "stream",
     "text": [
      "Accuracy of logistic regression classifier on test set: 0.66\n"
     ]
    }
   ],
   "source": [
    "from sklearn.linear_model import LogisticRegression\n",
    "from sklearn import metrics\n",
    "lr_model =LogisticRegression()\n",
    "\n",
    "lr_model.fit(X_train, y_train)\n",
    "lr_predict_class = lr_model.predict(X_test)\n",
    "print('Accuracy of logistic regression classifier on test set: {:.2f}'.format(lr_model.score(X_test, y_test)))"
   ]
  },
  {
   "cell_type": "code",
   "execution_count": 219,
   "metadata": {},
   "outputs": [
    {
     "data": {
      "text/plain": [
       "0"
      ]
     },
     "execution_count": 219,
     "metadata": {},
     "output_type": "execute_result"
    }
   ],
   "source": [
    "lr_predict_class.max()"
   ]
  },
  {
   "cell_type": "code",
   "execution_count": 220,
   "metadata": {},
   "outputs": [
    {
     "name": "stdout",
     "output_type": "stream",
     "text": [
      "Accuracy: 0.6579\n",
      "[[225   0   0]\n",
      " [ 58   0   0]\n",
      " [ 59   0   0]]\n",
      "Classification Report\n",
      "             precision    recall  f1-score   support\n",
      "\n",
      "          0       0.66      1.00      0.79       225\n",
      "          1       0.00      0.00      0.00        58\n",
      "          2       0.00      0.00      0.00        59\n",
      "\n",
      "avg / total       0.43      0.66      0.52       342\n",
      "\n"
     ]
    },
    {
     "name": "stderr",
     "output_type": "stream",
     "text": [
      "/home/vijay/anaconda2/envs/py35/lib/python3.5/site-packages/sklearn/metrics/classification.py:1113: UndefinedMetricWarning: Precision and F-score are ill-defined and being set to 0.0 in labels with no predicted samples.\n",
      "  'precision', 'predicted', average, warn_for)\n"
     ]
    }
   ],
   "source": [
    "# training metrics\n",
    "print(\"Accuracy: {0:.4f}\".format(metrics.accuracy_score(y_test, lr_predict_class)))\n",
    "print(metrics.confusion_matrix(y_test, lr_predict_class, labels=[0,1,2]) )\n",
    "#print(\"\")\n",
    "print(\"Classification Report\")\n",
    "print(metrics.classification_report(y_test, lr_predict_class, labels=[0,1,2]))"
   ]
  },
  {
   "cell_type": "code",
   "execution_count": 47,
   "metadata": {},
   "outputs": [
    {
     "data": {
      "text/plain": [
       "array([0, 0, 0, 0, 0, 0, 0, 0, 0, 0])"
      ]
     },
     "execution_count": 47,
     "metadata": {},
     "output_type": "execute_result"
    }
   ],
   "source": [
    "lr_predict_class[0:10]"
   ]
  },
  {
   "cell_type": "code",
   "execution_count": 48,
   "metadata": {},
   "outputs": [
    {
     "data": {
      "text/plain": [
       "array([0, 1, 0, 0, 2, 0, 1, 2, 2, 2])"
      ]
     },
     "execution_count": 48,
     "metadata": {},
     "output_type": "execute_result"
    }
   ],
   "source": [
    "y_test[0:10]"
   ]
  },
  {
   "cell_type": "code",
   "execution_count": 49,
   "metadata": {},
   "outputs": [],
   "source": [
    "#ALL the predictions are 0, that is how accuracy is high"
   ]
  },
  {
   "cell_type": "code",
   "execution_count": null,
   "metadata": {
    "collapsed": true
   },
   "outputs": [],
   "source": []
  },
  {
   "cell_type": "markdown",
   "metadata": {},
   "source": [
    "## FITTILG  GaussianNB"
   ]
  },
  {
   "cell_type": "code",
   "execution_count": 50,
   "metadata": {},
   "outputs": [
    {
     "data": {
      "text/plain": [
       "GaussianNB(priors=None)"
      ]
     },
     "execution_count": 50,
     "metadata": {},
     "output_type": "execute_result"
    }
   ],
   "source": [
    "from sklearn.naive_bayes import GaussianNB\n",
    "# create Gaussian Naive Bayes model object and train it with the data\n",
    "nb_model = GaussianNB()\n",
    "nb_model.fit(X_train, y_train)"
   ]
  },
  {
   "cell_type": "code",
   "execution_count": 51,
   "metadata": {},
   "outputs": [
    {
     "name": "stdout",
     "output_type": "stream",
     "text": [
      "Accuracy: 0.3129\n",
      "\n"
     ]
    }
   ],
   "source": [
    "# predict values using the training data\n",
    "nb_predict_class = nb_model.predict(X_test)\n",
    "\n",
    "# import the performance metrics library\n",
    "from sklearn import metrics\n",
    "# Accuracy\n",
    "print(\"Accuracy: {0:.4f}\".format(metrics.accuracy_score(y_test, nb_predict_class)))\n",
    "print()"
   ]
  },
  {
   "cell_type": "code",
   "execution_count": 52,
   "metadata": {},
   "outputs": [
    {
     "data": {
      "text/plain": [
       "array([1, 1, 1, 0, 2])"
      ]
     },
     "execution_count": 52,
     "metadata": {},
     "output_type": "execute_result"
    }
   ],
   "source": [
    "nb_predict_class[0:5]"
   ]
  },
  {
   "cell_type": "code",
   "execution_count": 53,
   "metadata": {},
   "outputs": [
    {
     "data": {
      "text/plain": [
       "<matplotlib.text.Text at 0x7f9215aa6668>"
      ]
     },
     "execution_count": 53,
     "metadata": {},
     "output_type": "execute_result"
    },
    {
     "data": {
      "image/png": "[encoded data removed]",
      "text/plain": [
       "<matplotlib.figure.Figure at 0x7f9215f3bc18>"
      ]
     },
     "metadata": {},
     "output_type": "display_data"
    }
   ],
   "source": [
    "from sklearn.metrics import confusion_matrix\n",
    "import seaborn as sns\n",
    "\n",
    "mat = confusion_matrix(y_test,nb_predict_class)\n",
    "sns.heatmap(mat,square=True,annot=True,fmt='g',cbar=False)\n",
    "#plt(figsize=(5,5))\n",
    "plt.xlabel('predicted value')\n",
    "plt.ylabel('Actual value')"
   ]
  },
  {
   "cell_type": "code",
   "execution_count": 54,
   "metadata": {
    "collapsed": true
   },
   "outputs": [],
   "source": [
    "# Although the accuracy is low, this fits the data really well."
   ]
  },
  {
   "cell_type": "code",
   "execution_count": 137,
   "metadata": {},
   "outputs": [
    {
     "data": {
      "text/plain": [
       "array([ 0.32173913,  0.27192982,  0.30973451])"
      ]
     },
     "execution_count": 137,
     "metadata": {},
     "output_type": "execute_result"
    }
   ],
   "source": [
    "from sklearn.model_selection import cross_val_score\n",
    "cross_val_score(nb_model,X_test, y_test)"
   ]
  },
  {
   "cell_type": "code",
   "execution_count": 222,
   "metadata": {},
   "outputs": [
    {
     "name": "stdout",
     "output_type": "stream",
     "text": [
      "0.312865497076\n"
     ]
    }
   ],
   "source": [
    "import pickle\n",
    "# save the classifier\n",
    "# save the model to disk\n",
    "filename = 'finalized_model.gnb'\n",
    "pickle.dump(nb_model, open(filename, 'wb'))   \n",
    "\n",
    "# load the model from disk\n",
    "loaded_model = pickle.load(open(filename, 'rb'))\n",
    "pickle_GNmodel = loaded_model.score(X_test, y_test)\n",
    "print(pickle_GNmodel)"
   ]
  },
  {
   "cell_type": "code",
   "execution_count": 223,
   "metadata": {},
   "outputs": [
    {
     "data": {
      "text/plain": [
       "array([1, 1, 1, 0, 2, 1, 1, 1, 1, 1, 2, 0, 0, 0, 1, 0, 1, 1, 1, 0, 1, 2, 1,\n",
       "       2, 1, 0, 2, 1, 0, 1, 1, 1, 1, 2, 0, 2, 0, 1, 2, 1, 2, 1, 0, 2, 1, 1,\n",
       "       1, 0, 1, 1, 1, 1, 0, 0, 1, 1, 1, 0, 0, 0, 1, 1, 2, 0, 0, 1, 1, 1, 1,\n",
       "       2, 1, 2, 1, 0, 1, 1, 2, 0, 1, 1, 0, 0, 0, 2, 0, 1, 1, 2, 0, 1, 1, 1,\n",
       "       2, 0, 1, 1, 1, 0, 1, 0, 1, 2, 0, 1, 1, 1, 1, 1, 1, 2, 2, 0, 1, 0, 1,\n",
       "       1, 2, 1, 0, 1, 1, 0, 1, 1, 0, 1, 1, 1, 0, 1, 2, 1, 0, 1, 1, 0, 0, 2,\n",
       "       0, 0, 0, 0, 1, 1, 1, 0, 1, 0, 1, 1, 1, 2, 1, 1, 0, 1, 1, 2, 2, 1, 2,\n",
       "       0, 2, 1, 1, 1, 1, 1, 1, 2, 0, 0, 1, 1, 2, 0, 1, 1, 0, 1, 0, 1, 1, 1,\n",
       "       0, 2, 1, 1, 1, 1, 1, 1, 1, 1, 1, 1, 1, 1, 0, 2, 0, 2, 1, 0, 0, 1, 1,\n",
       "       1, 1, 1, 1, 1, 1, 0, 1, 1, 1, 2, 0, 1, 1, 0, 1, 2, 2, 1, 2, 1, 1, 2,\n",
       "       1, 1, 0, 1, 0, 0, 1, 1, 1, 1, 1, 1, 2, 1, 1, 1, 2, 1, 1, 1, 1, 1, 0,\n",
       "       2, 1, 0, 1, 2, 2, 1, 1, 2, 0, 1, 2, 0, 2, 1, 0, 2, 0, 0, 0, 1, 2, 1,\n",
       "       0, 2, 1, 1, 1, 1, 0, 0, 1, 1, 1, 1, 0, 2, 1, 0, 0, 1, 2, 1, 1, 0, 2,\n",
       "       1, 1, 1, 0, 0, 0, 1, 1, 1, 1, 1, 1, 0, 2, 1, 1, 1, 1, 1, 0, 2, 2, 2,\n",
       "       0, 1, 1, 1, 1, 1, 1, 1, 1, 1, 1, 1, 1, 1, 1, 1, 0, 1, 1, 1])"
      ]
     },
     "execution_count": 223,
     "metadata": {},
     "output_type": "execute_result"
    }
   ],
   "source": [
    "loaded_model.predict(X_test)"
   ]
  },
  {
   "cell_type": "code",
   "execution_count": 194,
   "metadata": {},
   "outputs": [
    {
     "data": {
      "text/plain": [
       "array([[ -7.94653488e+02,   0.00000000e+00,  -1.38182476e+02],\n",
       "       [ -7.94653463e+02,   0.00000000e+00,  -1.38182484e+02],\n",
       "       [ -7.86377004e+02,   0.00000000e+00,  -1.42435122e+02],\n",
       "       [  0.00000000e+00,  -8.80635026e+09,  -8.80635039e+09],\n",
       "       [ -6.68972239e+02,  -8.80635104e+09,   0.00000000e+00]])"
      ]
     },
     "execution_count": 194,
     "metadata": {},
     "output_type": "execute_result"
    }
   ],
   "source": [
    "xxx = nb_model.predict_log_proba(X_test)\n",
    "xxx[0:5]"
   ]
  },
  {
   "cell_type": "code",
   "execution_count": 196,
   "metadata": {
    "collapsed": true
   },
   "outputs": [],
   "source": [
    "#nb_model.predict_log_proba? # delete me\n",
    "nb_model.predict_proba?"
   ]
  },
  {
   "cell_type": "code",
   "execution_count": 208,
   "metadata": {},
   "outputs": [],
   "source": [
    "# delete\n",
    "log_probabilities = nb_model.predict_log_proba(X_test)"
   ]
  },
  {
   "cell_type": "code",
   "execution_count": null,
   "metadata": {
    "collapsed": true
   },
   "outputs": [],
   "source": []
  },
  {
   "cell_type": "code",
   "execution_count": 139,
   "metadata": {},
   "outputs": [],
   "source": [
    "probabilities = nb_model.predict_proba(X_test)"
   ]
  },
  {
   "cell_type": "code",
   "execution_count": 140,
   "metadata": {},
   "outputs": [
    {
     "data": {
      "text/plain": [
       "array([0, 1, 2])"
      ]
     },
     "execution_count": 140,
     "metadata": {},
     "output_type": "execute_result"
    }
   ],
   "source": [
    "nb_model.classes_"
   ]
  },
  {
   "cell_type": "code",
   "execution_count": 210,
   "metadata": {},
   "outputs": [
    {
     "data": {
      "text/plain": [
       "array([[  0.00000000e+000,   1.00000000e+000,   9.73000713e-061],\n",
       "       [  0.00000000e+000,   1.00000000e+000,   9.72993290e-061],\n",
       "       [  0.00000000e+000,   1.00000000e+000,   1.38424357e-062],\n",
       "       [  1.00000000e+000,   0.00000000e+000,   0.00000000e+000],\n",
       "       [  2.94474640e-291,   0.00000000e+000,   1.00000000e+000],\n",
       "       [  0.00000000e+000,   1.00000000e+000,   0.00000000e+000],\n",
       "       [  0.00000000e+000,   1.00000000e+000,   1.50909864e-054],\n",
       "       [  0.00000000e+000,   1.00000000e+000,   9.72993290e-061],\n",
       "       [  0.00000000e+000,   1.00000000e+000,   9.72993290e-061],\n",
       "       [  0.00000000e+000,   1.00000000e+000,   1.97720306e-064],\n",
       "       [  0.00000000e+000,   0.00000000e+000,   1.00000000e+000],\n",
       "       [  1.00000000e+000,   0.00000000e+000,   0.00000000e+000],\n",
       "       [  1.00000000e+000,   0.00000000e+000,   0.00000000e+000],\n",
       "       [  1.00000000e+000,   0.00000000e+000,   0.00000000e+000],\n",
       "       [  0.00000000e+000,   1.00000000e+000,   9.72991434e-061],\n",
       "       [  1.00000000e+000,   0.00000000e+000,   0.00000000e+000],\n",
       "       [  0.00000000e+000,   1.00000000e+000,   2.43033423e-068],\n",
       "       [  0.00000000e+000,   1.00000000e+000,   9.72976587e-061],\n",
       "       [  0.00000000e+000,   1.00000000e+000,   9.72998857e-061],\n",
       "       [  1.00000000e+000,   0.00000000e+000,   0.00000000e+000],\n",
       "       [  0.00000000e+000,   1.00000000e+000,   0.00000000e+000],\n",
       "       [  2.94474640e-291,   0.00000000e+000,   1.00000000e+000],\n",
       "       [  0.00000000e+000,   1.00000000e+000,   1.38424357e-062],\n",
       "       [  4.60564644e-291,   0.00000000e+000,   1.00000000e+000],\n",
       "       [  0.00000000e+000,   1.00000000e+000,   9.72987722e-061],\n",
       "       [  1.00000000e+000,   0.00000000e+000,   0.00000000e+000],\n",
       "       [  2.94474640e-291,   0.00000000e+000,   1.00000000e+000],\n",
       "       [  0.00000000e+000,   1.00000000e+000,   1.38424357e-062],\n",
       "       [  1.00000000e+000,   0.00000000e+000,   0.00000000e+000],\n",
       "       [  0.00000000e+000,   1.00000000e+000,   9.72987722e-061],\n",
       "       [  0.00000000e+000,   1.00000000e+000,   0.00000000e+000],\n",
       "       [  0.00000000e+000,   1.00000000e+000,   2.43033423e-068],\n",
       "       [  0.00000000e+000,   1.00000000e+000,   9.73002569e-061],\n",
       "       [  3.51525592e-281,   0.00000000e+000,   1.00000000e+000],\n",
       "       [  1.00000000e+000,   0.00000000e+000,   0.00000000e+000],\n",
       "       [  2.94474640e-291,   0.00000000e+000,   1.00000000e+000],\n",
       "       [  1.00000000e+000,   0.00000000e+000,   0.00000000e+000],\n",
       "       [  0.00000000e+000,   1.00000000e+000,   0.00000000e+000],\n",
       "       [  0.00000000e+000,   0.00000000e+000,   1.00000000e+000],\n",
       "       [  0.00000000e+000,   1.00000000e+000,   1.38424357e-062],\n",
       "       [  0.00000000e+000,   0.00000000e+000,   1.00000000e+000],\n",
       "       [  0.00000000e+000,   1.00000000e+000,   1.50909864e-054],\n",
       "       [  1.00000000e+000,   0.00000000e+000,   0.00000000e+000],\n",
       "       [  2.49409333e-291,   0.00000000e+000,   1.00000000e+000],\n",
       "       [  0.00000000e+000,   1.00000000e+000,   9.72993290e-061],\n",
       "       [  0.00000000e+000,   1.00000000e+000,   9.72976587e-061],\n",
       "       [  0.00000000e+000,   1.00000000e+000,   2.43033423e-068],\n",
       "       [  1.00000000e+000,   0.00000000e+000,   0.00000000e+000],\n",
       "       [  0.00000000e+000,   1.00000000e+000,   9.73002569e-061],\n",
       "       [  0.00000000e+000,   1.00000000e+000,   0.00000000e+000]])"
      ]
     },
     "execution_count": 210,
     "metadata": {},
     "output_type": "execute_result"
    }
   ],
   "source": [
    "probabilities[0:50]"
   ]
  },
  {
   "cell_type": "code",
   "execution_count": 142,
   "metadata": {},
   "outputs": [
    {
     "data": {
      "text/plain": [
       "(342, 3)"
      ]
     },
     "execution_count": 142,
     "metadata": {},
     "output_type": "execute_result"
    }
   ],
   "source": [
    "probabilities.shape"
   ]
  },
  {
   "cell_type": "code",
   "execution_count": 143,
   "metadata": {
    "collapsed": true
   },
   "outputs": [],
   "source": [
    "#delete me\n",
    "nb_model.predict_proba?"
   ]
  },
  {
   "cell_type": "code",
   "execution_count": 144,
   "metadata": {
    "collapsed": true
   },
   "outputs": [],
   "source": [
    "classes = nb_model.classes_"
   ]
  },
  {
   "cell_type": "code",
   "execution_count": 145,
   "metadata": {},
   "outputs": [
    {
     "data": {
      "text/plain": [
       "array([[0, 0, 0, ..., 0, 0, 0],\n",
       "       [0, 0, 0, ..., 0, 0, 0],\n",
       "       [0, 0, 0, ..., 0, 0, 0],\n",
       "       [0, 0, 0, ..., 0, 0, 0],\n",
       "       [0, 0, 0, ..., 0, 0, 0]], dtype=uint8)"
      ]
     },
     "execution_count": 145,
     "metadata": {},
     "output_type": "execute_result"
    }
   ],
   "source": [
    "X_test[0:5]"
   ]
  },
  {
   "cell_type": "code",
   "execution_count": 146,
   "metadata": {
    "collapsed": true
   },
   "outputs": [],
   "source": [
    "predict = nb_model.predict(X_test)"
   ]
  },
  {
   "cell_type": "code",
   "execution_count": 147,
   "metadata": {},
   "outputs": [
    {
     "data": {
      "text/plain": [
       "array([1, 1, 1, 0, 2])"
      ]
     },
     "execution_count": 147,
     "metadata": {},
     "output_type": "execute_result"
    }
   ],
   "source": [
    "predict[0:5]"
   ]
  },
  {
   "cell_type": "code",
   "execution_count": 148,
   "metadata": {
    "collapsed": true
   },
   "outputs": [],
   "source": [
    "feature_names=['nearest_city_Addison', 'nearest_city_Aldine',\n",
    "       'nearest_city_Aliso Viejo', 'nearest_city_Allen',\n",
    "       'nearest_city_American Fork', 'nearest_city_Anaheim',\n",
    "       'nearest_city_Angeles City', 'nearest_city_Annapolis',\n",
    "       'nearest_city_Arbutus', 'nearest_city_Ashford',\n",
    "       'nearest_city_Ashland', 'nearest_city_Ashtabula',\n",
    "       'nearest_city_Atascocita', 'nearest_city_Augusta',\n",
    "       'nearest_city_Aurora', 'nearest_city_Austin',\n",
    "       'nearest_city_Baltimore', 'nearest_city_Battersea',\n",
    "       'nearest_city_Bellaire', 'nearest_city_Belvedere Park',\n",
    "       'nearest_city_Benito Juarez', 'nearest_city_Bensenville',\n",
    "       'nearest_city_Bergeijk', 'nearest_city_Beverly Hills',\n",
    "       'nearest_city_Birmingham', 'nearest_city_Boca Raton',\n",
    "       'nearest_city_Boise', 'nearest_city_Bonita Springs',\n",
    "       'nearest_city_Boston', 'nearest_city_Boulder', 'nearest_city_Bowie',\n",
    "       'nearest_city_Bozeman', 'nearest_city_Brentwood',\n",
    "       'nearest_city_Bridgetown', 'nearest_city_Brighton',\n",
    "       'nearest_city_Brooklyn', 'nearest_city_Brownsville',\n",
    "       'nearest_city_Brushy Creek', 'nearest_city_Burbank',\n",
    "       'nearest_city_Bushwick', 'nearest_city_Calgary',\n",
    "       'nearest_city_Camberwell', 'nearest_city_Canarsie',\n",
    "       'nearest_city_Canary Wharf', 'nearest_city_Cancún',\n",
    "       'nearest_city_Candelaria', 'nearest_city_Carolina',\n",
    "       'nearest_city_Cartagena', 'nearest_city_Cary',\n",
    "       'nearest_city_Charlotte', 'nearest_city_Chelsea',\n",
    "       'nearest_city_Chicago', 'nearest_city_Chillum',\n",
    "       'nearest_city_Cicero', 'nearest_city_City of Milford (balance)',\n",
    "       'nearest_city_Cleveland', 'nearest_city_College Point',\n",
    "       'nearest_city_Commack', 'nearest_city_Commerce City',\n",
    "       'nearest_city_Conroe', 'nearest_city_Coppell',\n",
    "       'nearest_city_Coral Gables', 'nearest_city_Corpus Christi',\n",
    "       'nearest_city_Costa Mesa', 'nearest_city_Cottonwood Heights',\n",
    "       'nearest_city_Council Bluffs', 'nearest_city_Cranberry Township',\n",
    "       'nearest_city_Cudahy', 'nearest_city_Culver City',\n",
    "       'nearest_city_Cypress', 'nearest_city_Dallas',\n",
    "       'nearest_city_Dania Beach', 'nearest_city_Decatur',\n",
    "       'nearest_city_Denver', 'nearest_city_Dickson', 'nearest_city_Dover',\n",
    "       'nearest_city_Drexel Hill', 'nearest_city_Dubai',\n",
    "       'nearest_city_Durham', 'nearest_city_Dyker Heights',\n",
    "       'nearest_city_East Lansing', 'nearest_city_East Massapequa',\n",
    "       'nearest_city_East Point', 'nearest_city_East York',\n",
    "       'nearest_city_Egypt Lake-Leto', 'nearest_city_El Dorado Hills',\n",
    "       'nearest_city_El Segundo', 'nearest_city_Elizabeth',\n",
    "       'nearest_city_Elizabeth City', 'nearest_city_Etobicoke',\n",
    "       'nearest_city_Euless', 'nearest_city_Evanston',\n",
    "       'nearest_city_Fairhaven', 'nearest_city_Fairview Park',\n",
    "       'nearest_city_Farragut', 'nearest_city_Ferndale',\n",
    "       'nearest_city_Flagami', 'nearest_city_Florence',\n",
    "       'nearest_city_Forest Hills', 'nearest_city_Four Corners',\n",
    "       'nearest_city_Franklin Park', 'nearest_city_Friendswood',\n",
    "       'nearest_city_Frisco', 'nearest_city_Funza', 'nearest_city_Gahanna',\n",
    "       'nearest_city_Garland', 'nearest_city_Germantown',\n",
    "       'nearest_city_Gladstone', 'nearest_city_Glen Avon',\n",
    "       'nearest_city_Glendale', 'nearest_city_Golden',\n",
    "       'nearest_city_Grapevine', 'nearest_city_Hale',\n",
    "       'nearest_city_Haltom City', 'nearest_city_Hampton Park',\n",
    "       'nearest_city_Harlem', 'nearest_city_Harrison',\n",
    "       'nearest_city_Henderson', 'nearest_city_Herriman',\n",
    "       'nearest_city_Hilton Head', 'nearest_city_Hoboken',\n",
    "       'nearest_city_Hollywood', 'nearest_city_Honolulu',\n",
    "       'nearest_city_Hope Mills', 'nearest_city_Houston',\n",
    "       'nearest_city_Howard Beach', 'nearest_city_Huntington Beach',\n",
    "       'nearest_city_Islip', 'nearest_city_Jackson Heights',\n",
    "       'nearest_city_Jacksonville Beach', 'nearest_city_Jersey City',\n",
    "       'nearest_city_Johnston', 'nearest_city_Kannapolis',\n",
    "       'nearest_city_Kenner', 'nearest_city_Kensington',\n",
    "       'nearest_city_Kent', 'nearest_city_Key West',\n",
    "       'nearest_city_Kissimmee', 'nearest_city_La Vergne',\n",
    "       'nearest_city_Lake in the Hills', 'nearest_city_Leawood',\n",
    "       'nearest_city_Lebanon', 'nearest_city_Levittown',\n",
    "       'nearest_city_Lexington', 'nearest_city_Liberty',\n",
    "       'nearest_city_Long Beach', 'nearest_city_Long Island City',\n",
    "       'nearest_city_Longview', 'nearest_city_Louisville',\n",
    "       'nearest_city_Lubbock', 'nearest_city_Manhattan',\n",
    "       'nearest_city_Mariners Harbor', 'nearest_city_Marlborough',\n",
    "       'nearest_city_Matthews', 'nearest_city_Meadow Woods',\n",
    "       'nearest_city_Mentor', 'nearest_city_Miami Beach',\n",
    "       'nearest_city_Midland', 'nearest_city_Millbrae',\n",
    "       'nearest_city_Milton', 'nearest_city_Minneapolis',\n",
    "       'nearest_city_Montrose', 'nearest_city_Morristown',\n",
    "       'nearest_city_Morrisville', 'nearest_city_Mount Vernon',\n",
    "       'nearest_city_Mountain Brook', 'nearest_city_Napa',\n",
    "       'nearest_city_Nashville', 'nearest_city_Nassau',\n",
    "       'nearest_city_New York City', 'nearest_city_Newark',\n",
    "       'nearest_city_Niles', 'nearest_city_North Atlanta',\n",
    "       'nearest_city_North Canton', 'nearest_city_North Charleston',\n",
    "       'nearest_city_North Chicago', 'nearest_city_North Little Rock',\n",
    "       'nearest_city_North Miami', 'nearest_city_North Salt Lake',\n",
    "       'nearest_city_Oak Hill', 'nearest_city_Oak Ridge',\n",
    "       'nearest_city_Oakland', 'nearest_city_Okolona',\n",
    "       'nearest_city_Orange', 'nearest_city_Orchards',\n",
    "       'nearest_city_Ossining', 'nearest_city_Overland',\n",
    "       'nearest_city_Paderborn', 'nearest_city_Palm Desert',\n",
    "       'nearest_city_Palm Springs', 'nearest_city_Paradise',\n",
    "       'nearest_city_Parole', 'nearest_city_Parsippany',\n",
    "       'nearest_city_Philadelphia', 'nearest_city_Phoenix',\n",
    "       'nearest_city_Phra Pradaeng', 'nearest_city_Plainfield',\n",
    "       'nearest_city_Pleasantville', 'nearest_city_Polanco',\n",
    "       'nearest_city_Port Chester', 'nearest_city_Port Richmond',\n",
    "       'nearest_city_Portland', 'nearest_city_Potomac',\n",
    "       'nearest_city_Punta Cana', 'nearest_city_Queens Village',\n",
    "       'nearest_city_Queensbury', 'nearest_city_Rahway',\n",
    "       'nearest_city_Rancho Cucamonga', 'nearest_city_Rancho Penasquitos',\n",
    "       'nearest_city_Rexburg', 'nearest_city_Richfield',\n",
    "       'nearest_city_Rio Rancho', 'nearest_city_Rock Hill',\n",
    "       'nearest_city_Rockland', 'nearest_city_Rogers',\n",
    "       'nearest_city_Romulus', 'nearest_city_Ronkonkoma',\n",
    "       'nearest_city_Roswell', 'nearest_city_Rubidoux',\n",
    "       'nearest_city_Rutland', 'nearest_city_Råsunda',\n",
    "       'nearest_city_Salisbury', 'nearest_city_Salt Lake City',\n",
    "       'nearest_city_San Bruno', 'nearest_city_San Carlos Park',\n",
    "       'nearest_city_San Diego', 'nearest_city_San Francisco',\n",
    "       'nearest_city_San Luis Obispo', 'nearest_city_Santa Ana',\n",
    "       'nearest_city_Santa Clara', 'nearest_city_Santa Monica',\n",
    "       'nearest_city_Savannah', 'nearest_city_SeaTac',\n",
    "       'nearest_city_Seattle', 'nearest_city_Secaucus',\n",
    "       'nearest_city_Security-Widefield', 'nearest_city_Seven Oaks',\n",
    "       'nearest_city_Shanghai', 'nearest_city_Shrewsbury',\n",
    "       'nearest_city_Singapore', 'nearest_city_Skokie',\n",
    "       'nearest_city_Somerset', 'nearest_city_South Jordan',\n",
    "       'nearest_city_Sparks', 'nearest_city_Spring Valley',\n",
    "       'nearest_city_Springfield', 'nearest_city_Springfield Gardens',\n",
    "       'nearest_city_Summerlin South', 'nearest_city_Sydney',\n",
    "       'nearest_city_Tacoma', 'nearest_city_Tallahassee',\n",
    "       'nearest_city_Tampa', 'nearest_city_Tempe',\n",
    "       'nearest_city_Tempe Junction', 'nearest_city_The Valley',\n",
    "       'nearest_city_Torrance', \"nearest_city_Town 'n' Country\",\n",
    "       'nearest_city_Troy', 'nearest_city_Tung Chung',\n",
    "       'nearest_city_Union', 'nearest_city_Universal City',\n",
    "       'nearest_city_Upper Saint Clair', 'nearest_city_Vancouver',\n",
    "       'nearest_city_Venustiano Carranza', 'nearest_city_Wakefield',\n",
    "       'nearest_city_Waltham', 'nearest_city_Warwick',\n",
    "       'nearest_city_Washington Heights', 'nearest_city_Washington, D.C.',\n",
    "       'nearest_city_Waterford', 'nearest_city_Wayne',\n",
    "       'nearest_city_West Albany', 'nearest_city_West Orange',\n",
    "       'nearest_city_West Pensacola', 'nearest_city_West Raleigh',\n",
    "       'nearest_city_West Sacramento', 'nearest_city_West Valley City',\n",
    "       'nearest_city_Westford', 'nearest_city_Wethersfield',\n",
    "       'nearest_city_Weymouth', 'nearest_city_White Plains',\n",
    "       'nearest_city_Whitestone', 'nearest_city_Williamsport',\n",
    "       'nearest_city_Willow Grove', 'nearest_city_Windsor',\n",
    "       'nearest_city_Winnipeg', 'nearest_city_Winter Park',\n",
    "       'nearest_city_Wolverhampton', 'nearest_city_Woodstock',\n",
    "       'nearest_city_Xiuying', 'nearest_city_Zionsville']"
   ]
  },
  {
   "cell_type": "code",
   "execution_count": 149,
   "metadata": {},
   "outputs": [
    {
     "data": {
      "text/plain": [
       "291"
      ]
     },
     "execution_count": 149,
     "metadata": {},
     "output_type": "execute_result"
    }
   ],
   "source": [
    "len(feature_names)"
   ]
  },
  {
   "cell_type": "code",
   "execution_count": 150,
   "metadata": {},
   "outputs": [
    {
     "data": {
      "text/plain": [
       "list"
      ]
     },
     "execution_count": 150,
     "metadata": {},
     "output_type": "execute_result"
    }
   ],
   "source": [
    "type(feature_names)"
   ]
  },
  {
   "cell_type": "code",
   "execution_count": 151,
   "metadata": {},
   "outputs": [
    {
     "data": {
      "text/plain": [
       "numpy.ndarray"
      ]
     },
     "execution_count": 151,
     "metadata": {},
     "output_type": "execute_result"
    }
   ],
   "source": [
    "type(probabilities)"
   ]
  },
  {
   "cell_type": "code",
   "execution_count": 152,
   "metadata": {},
   "outputs": [
    {
     "data": {
      "text/plain": [
       "(342, 3)"
      ]
     },
     "execution_count": 152,
     "metadata": {},
     "output_type": "execute_result"
    }
   ],
   "source": [
    "probabilities.shape"
   ]
  },
  {
   "cell_type": "code",
   "execution_count": null,
   "metadata": {
    "collapsed": true
   },
   "outputs": [],
   "source": [
    "# delete me\n"
   ]
  },
  {
   "cell_type": "code",
   "execution_count": null,
   "metadata": {
    "collapsed": true
   },
   "outputs": [],
   "source": []
  },
  {
   "cell_type": "code",
   "execution_count": 153,
   "metadata": {},
   "outputs": [],
   "source": [
    "probabilities_df = pd.DataFrame(probabilities,columns=['negative','neutral','positive'])"
   ]
  },
  {
   "cell_type": "code",
   "execution_count": 154,
   "metadata": {},
   "outputs": [
    {
     "data": {
      "text/html": [
       "<div>\n",
       "<style>\n",
       "    .dataframe thead tr:only-child th {\n",
       "        text-align: right;\n",
       "    }\n",
       "\n",
       "    .dataframe thead th {\n",
       "        text-align: left;\n",
       "    }\n",
       "\n",
       "    .dataframe tbody tr th {\n",
       "        vertical-align: top;\n",
       "    }\n",
       "</style>\n",
       "<table border=\"1\" class=\"dataframe\">\n",
       "  <thead>\n",
       "    <tr style=\"text-align: right;\">\n",
       "      <th></th>\n",
       "      <th>negative</th>\n",
       "      <th>neutral</th>\n",
       "      <th>positive</th>\n",
       "    </tr>\n",
       "  </thead>\n",
       "  <tbody>\n",
       "    <tr>\n",
       "      <th>0</th>\n",
       "      <td>0.000000e+00</td>\n",
       "      <td>1.0</td>\n",
       "      <td>9.730007e-61</td>\n",
       "    </tr>\n",
       "    <tr>\n",
       "      <th>1</th>\n",
       "      <td>0.000000e+00</td>\n",
       "      <td>1.0</td>\n",
       "      <td>9.729933e-61</td>\n",
       "    </tr>\n",
       "    <tr>\n",
       "      <th>2</th>\n",
       "      <td>0.000000e+00</td>\n",
       "      <td>1.0</td>\n",
       "      <td>1.384244e-62</td>\n",
       "    </tr>\n",
       "    <tr>\n",
       "      <th>3</th>\n",
       "      <td>1.000000e+00</td>\n",
       "      <td>0.0</td>\n",
       "      <td>0.000000e+00</td>\n",
       "    </tr>\n",
       "    <tr>\n",
       "      <th>4</th>\n",
       "      <td>2.944746e-291</td>\n",
       "      <td>0.0</td>\n",
       "      <td>1.000000e+00</td>\n",
       "    </tr>\n",
       "  </tbody>\n",
       "</table>\n",
       "</div>"
      ],
      "text/plain": [
       "        negative  neutral      positive\n",
       "0   0.000000e+00      1.0  9.730007e-61\n",
       "1   0.000000e+00      1.0  9.729933e-61\n",
       "2   0.000000e+00      1.0  1.384244e-62\n",
       "3   1.000000e+00      0.0  0.000000e+00\n",
       "4  2.944746e-291      0.0  1.000000e+00"
      ]
     },
     "execution_count": 154,
     "metadata": {},
     "output_type": "execute_result"
    }
   ],
   "source": [
    "probabilities_df[0:5]"
   ]
  },
  {
   "cell_type": "code",
   "execution_count": 155,
   "metadata": {},
   "outputs": [],
   "source": [
    "feature_name_series = pd.Series(feature_names)"
   ]
  },
  {
   "cell_type": "code",
   "execution_count": 156,
   "metadata": {},
   "outputs": [],
   "source": [
    "probabilities_df['cities'] = feature_name_series"
   ]
  },
  {
   "cell_type": "code",
   "execution_count": 157,
   "metadata": {},
   "outputs": [
    {
     "data": {
      "text/html": [
       "<div>\n",
       "<style>\n",
       "    .dataframe thead tr:only-child th {\n",
       "        text-align: right;\n",
       "    }\n",
       "\n",
       "    .dataframe thead th {\n",
       "        text-align: left;\n",
       "    }\n",
       "\n",
       "    .dataframe tbody tr th {\n",
       "        vertical-align: top;\n",
       "    }\n",
       "</style>\n",
       "<table border=\"1\" class=\"dataframe\">\n",
       "  <thead>\n",
       "    <tr style=\"text-align: right;\">\n",
       "      <th></th>\n",
       "      <th>negative</th>\n",
       "      <th>neutral</th>\n",
       "      <th>positive</th>\n",
       "      <th>cities</th>\n",
       "    </tr>\n",
       "  </thead>\n",
       "  <tbody>\n",
       "    <tr>\n",
       "      <th>0</th>\n",
       "      <td>0.000000e+00</td>\n",
       "      <td>1.0</td>\n",
       "      <td>9.730007e-61</td>\n",
       "      <td>nearest_city_Addison</td>\n",
       "    </tr>\n",
       "    <tr>\n",
       "      <th>1</th>\n",
       "      <td>0.000000e+00</td>\n",
       "      <td>1.0</td>\n",
       "      <td>9.729933e-61</td>\n",
       "      <td>nearest_city_Aldine</td>\n",
       "    </tr>\n",
       "    <tr>\n",
       "      <th>2</th>\n",
       "      <td>0.000000e+00</td>\n",
       "      <td>1.0</td>\n",
       "      <td>1.384244e-62</td>\n",
       "      <td>nearest_city_Aliso Viejo</td>\n",
       "    </tr>\n",
       "    <tr>\n",
       "      <th>3</th>\n",
       "      <td>1.000000e+00</td>\n",
       "      <td>0.0</td>\n",
       "      <td>0.000000e+00</td>\n",
       "      <td>nearest_city_Allen</td>\n",
       "    </tr>\n",
       "    <tr>\n",
       "      <th>4</th>\n",
       "      <td>2.944746e-291</td>\n",
       "      <td>0.0</td>\n",
       "      <td>1.000000e+00</td>\n",
       "      <td>nearest_city_American Fork</td>\n",
       "    </tr>\n",
       "  </tbody>\n",
       "</table>\n",
       "</div>"
      ],
      "text/plain": [
       "        negative  neutral      positive                      cities\n",
       "0   0.000000e+00      1.0  9.730007e-61        nearest_city_Addison\n",
       "1   0.000000e+00      1.0  9.729933e-61         nearest_city_Aldine\n",
       "2   0.000000e+00      1.0  1.384244e-62    nearest_city_Aliso Viejo\n",
       "3   1.000000e+00      0.0  0.000000e+00          nearest_city_Allen\n",
       "4  2.944746e-291      0.0  1.000000e+00  nearest_city_American Fork"
      ]
     },
     "execution_count": 157,
     "metadata": {},
     "output_type": "execute_result"
    }
   ],
   "source": [
    "probabilities_df[0:5]"
   ]
  },
  {
   "cell_type": "code",
   "execution_count": 158,
   "metadata": {
    "collapsed": true
   },
   "outputs": [],
   "source": [
    "city_probability = probabilities_df[['cities','negative','neutral','positive']]"
   ]
  },
  {
   "cell_type": "code",
   "execution_count": 159,
   "metadata": {},
   "outputs": [
    {
     "data": {
      "text/html": [
       "<div>\n",
       "<style>\n",
       "    .dataframe thead tr:only-child th {\n",
       "        text-align: right;\n",
       "    }\n",
       "\n",
       "    .dataframe thead th {\n",
       "        text-align: left;\n",
       "    }\n",
       "\n",
       "    .dataframe tbody tr th {\n",
       "        vertical-align: top;\n",
       "    }\n",
       "</style>\n",
       "<table border=\"1\" class=\"dataframe\">\n",
       "  <thead>\n",
       "    <tr style=\"text-align: right;\">\n",
       "      <th></th>\n",
       "      <th>cities</th>\n",
       "      <th>negative</th>\n",
       "      <th>neutral</th>\n",
       "      <th>positive</th>\n",
       "    </tr>\n",
       "  </thead>\n",
       "  <tbody>\n",
       "    <tr>\n",
       "      <th>0</th>\n",
       "      <td>nearest_city_Addison</td>\n",
       "      <td>0.000000e+00</td>\n",
       "      <td>1.0</td>\n",
       "      <td>9.730007e-61</td>\n",
       "    </tr>\n",
       "    <tr>\n",
       "      <th>1</th>\n",
       "      <td>nearest_city_Aldine</td>\n",
       "      <td>0.000000e+00</td>\n",
       "      <td>1.0</td>\n",
       "      <td>9.729933e-61</td>\n",
       "    </tr>\n",
       "    <tr>\n",
       "      <th>2</th>\n",
       "      <td>nearest_city_Aliso Viejo</td>\n",
       "      <td>0.000000e+00</td>\n",
       "      <td>1.0</td>\n",
       "      <td>1.384244e-62</td>\n",
       "    </tr>\n",
       "    <tr>\n",
       "      <th>3</th>\n",
       "      <td>nearest_city_Allen</td>\n",
       "      <td>1.000000e+00</td>\n",
       "      <td>0.0</td>\n",
       "      <td>0.000000e+00</td>\n",
       "    </tr>\n",
       "    <tr>\n",
       "      <th>4</th>\n",
       "      <td>nearest_city_American Fork</td>\n",
       "      <td>2.944746e-291</td>\n",
       "      <td>0.0</td>\n",
       "      <td>1.000000e+00</td>\n",
       "    </tr>\n",
       "  </tbody>\n",
       "</table>\n",
       "</div>"
      ],
      "text/plain": [
       "                       cities       negative  neutral      positive\n",
       "0        nearest_city_Addison   0.000000e+00      1.0  9.730007e-61\n",
       "1         nearest_city_Aldine   0.000000e+00      1.0  9.729933e-61\n",
       "2    nearest_city_Aliso Viejo   0.000000e+00      1.0  1.384244e-62\n",
       "3          nearest_city_Allen   1.000000e+00      0.0  0.000000e+00\n",
       "4  nearest_city_American Fork  2.944746e-291      0.0  1.000000e+00"
      ]
     },
     "execution_count": 159,
     "metadata": {},
     "output_type": "execute_result"
    }
   ],
   "source": [
    "city_probability[0:5]"
   ]
  },
  {
   "cell_type": "code",
   "execution_count": 160,
   "metadata": {},
   "outputs": [
    {
     "data": {
      "text/plain": [
       "numpy.ndarray"
      ]
     },
     "execution_count": 160,
     "metadata": {},
     "output_type": "execute_result"
    }
   ],
   "source": [
    "type(predict)"
   ]
  },
  {
   "cell_type": "code",
   "execution_count": 161,
   "metadata": {},
   "outputs": [
    {
     "data": {
      "text/plain": [
       "0    1\n",
       "1    1\n",
       "2    1\n",
       "3    0\n",
       "4    2\n",
       "dtype: int64"
      ]
     },
     "execution_count": 161,
     "metadata": {},
     "output_type": "execute_result"
    }
   ],
   "source": [
    "predictions = pd.Series(predict)\n",
    "predictions[0:5]"
   ]
  },
  {
   "cell_type": "code",
   "execution_count": 162,
   "metadata": {},
   "outputs": [
    {
     "name": "stderr",
     "output_type": "stream",
     "text": [
      "/home/vijay/anaconda2/envs/py35/lib/python3.5/site-packages/ipykernel_launcher.py:1: SettingWithCopyWarning: \n",
      "A value is trying to be set on a copy of a slice from a DataFrame.\n",
      "Try using .loc[row_indexer,col_indexer] = value instead\n",
      "\n",
      "See the caveats in the documentation: http://pandas.pydata.org/pandas-docs/stable/indexing.html#indexing-view-versus-copy\n",
      "  \"\"\"Entry point for launching an IPython kernel.\n"
     ]
    }
   ],
   "source": [
    "city_probability['model_predictions'] = predictions"
   ]
  },
  {
   "cell_type": "code",
   "execution_count": 164,
   "metadata": {},
   "outputs": [
    {
     "data": {
      "text/html": [
       "<div>\n",
       "<style>\n",
       "    .dataframe thead tr:only-child th {\n",
       "        text-align: right;\n",
       "    }\n",
       "\n",
       "    .dataframe thead th {\n",
       "        text-align: left;\n",
       "    }\n",
       "\n",
       "    .dataframe tbody tr th {\n",
       "        vertical-align: top;\n",
       "    }\n",
       "</style>\n",
       "<table border=\"1\" class=\"dataframe\">\n",
       "  <thead>\n",
       "    <tr style=\"text-align: right;\">\n",
       "      <th></th>\n",
       "      <th>cities</th>\n",
       "      <th>negative</th>\n",
       "      <th>neutral</th>\n",
       "      <th>positive</th>\n",
       "      <th>model_predictions</th>\n",
       "    </tr>\n",
       "  </thead>\n",
       "  <tbody>\n",
       "    <tr>\n",
       "      <th>0</th>\n",
       "      <td>nearest_city_Addison</td>\n",
       "      <td>0.000000e+00</td>\n",
       "      <td>1.0</td>\n",
       "      <td>9.730007e-61</td>\n",
       "      <td>1</td>\n",
       "    </tr>\n",
       "    <tr>\n",
       "      <th>1</th>\n",
       "      <td>nearest_city_Aldine</td>\n",
       "      <td>0.000000e+00</td>\n",
       "      <td>1.0</td>\n",
       "      <td>9.729933e-61</td>\n",
       "      <td>1</td>\n",
       "    </tr>\n",
       "    <tr>\n",
       "      <th>2</th>\n",
       "      <td>nearest_city_Aliso Viejo</td>\n",
       "      <td>0.000000e+00</td>\n",
       "      <td>1.0</td>\n",
       "      <td>1.384244e-62</td>\n",
       "      <td>1</td>\n",
       "    </tr>\n",
       "    <tr>\n",
       "      <th>3</th>\n",
       "      <td>nearest_city_Allen</td>\n",
       "      <td>1.000000e+00</td>\n",
       "      <td>0.0</td>\n",
       "      <td>0.000000e+00</td>\n",
       "      <td>0</td>\n",
       "    </tr>\n",
       "    <tr>\n",
       "      <th>4</th>\n",
       "      <td>nearest_city_American Fork</td>\n",
       "      <td>2.944746e-291</td>\n",
       "      <td>0.0</td>\n",
       "      <td>1.000000e+00</td>\n",
       "      <td>2</td>\n",
       "    </tr>\n",
       "    <tr>\n",
       "      <th>5</th>\n",
       "      <td>nearest_city_Anaheim</td>\n",
       "      <td>0.000000e+00</td>\n",
       "      <td>1.0</td>\n",
       "      <td>0.000000e+00</td>\n",
       "      <td>1</td>\n",
       "    </tr>\n",
       "    <tr>\n",
       "      <th>6</th>\n",
       "      <td>nearest_city_Angeles City</td>\n",
       "      <td>0.000000e+00</td>\n",
       "      <td>1.0</td>\n",
       "      <td>1.509099e-54</td>\n",
       "      <td>1</td>\n",
       "    </tr>\n",
       "    <tr>\n",
       "      <th>7</th>\n",
       "      <td>nearest_city_Annapolis</td>\n",
       "      <td>0.000000e+00</td>\n",
       "      <td>1.0</td>\n",
       "      <td>9.729933e-61</td>\n",
       "      <td>1</td>\n",
       "    </tr>\n",
       "    <tr>\n",
       "      <th>8</th>\n",
       "      <td>nearest_city_Arbutus</td>\n",
       "      <td>0.000000e+00</td>\n",
       "      <td>1.0</td>\n",
       "      <td>9.729933e-61</td>\n",
       "      <td>1</td>\n",
       "    </tr>\n",
       "    <tr>\n",
       "      <th>9</th>\n",
       "      <td>nearest_city_Ashford</td>\n",
       "      <td>0.000000e+00</td>\n",
       "      <td>1.0</td>\n",
       "      <td>1.977203e-64</td>\n",
       "      <td>1</td>\n",
       "    </tr>\n",
       "  </tbody>\n",
       "</table>\n",
       "</div>"
      ],
      "text/plain": [
       "                       cities       negative  neutral      positive  \\\n",
       "0        nearest_city_Addison   0.000000e+00      1.0  9.730007e-61   \n",
       "1         nearest_city_Aldine   0.000000e+00      1.0  9.729933e-61   \n",
       "2    nearest_city_Aliso Viejo   0.000000e+00      1.0  1.384244e-62   \n",
       "3          nearest_city_Allen   1.000000e+00      0.0  0.000000e+00   \n",
       "4  nearest_city_American Fork  2.944746e-291      0.0  1.000000e+00   \n",
       "5        nearest_city_Anaheim   0.000000e+00      1.0  0.000000e+00   \n",
       "6   nearest_city_Angeles City   0.000000e+00      1.0  1.509099e-54   \n",
       "7      nearest_city_Annapolis   0.000000e+00      1.0  9.729933e-61   \n",
       "8        nearest_city_Arbutus   0.000000e+00      1.0  9.729933e-61   \n",
       "9        nearest_city_Ashford   0.000000e+00      1.0  1.977203e-64   \n",
       "\n",
       "   model_predictions  \n",
       "0                  1  \n",
       "1                  1  \n",
       "2                  1  \n",
       "3                  0  \n",
       "4                  2  \n",
       "5                  1  \n",
       "6                  1  \n",
       "7                  1  \n",
       "8                  1  \n",
       "9                  1  "
      ]
     },
     "execution_count": 164,
     "metadata": {},
     "output_type": "execute_result"
    }
   ],
   "source": [
    "city_probability[0:10]"
   ]
  },
  {
   "cell_type": "code",
   "execution_count": 178,
   "metadata": {},
   "outputs": [
    {
     "data": {
      "text/plain": [
       "array([0, 1, 0, 0, 2, 0, 1, 2, 2, 2])"
      ]
     },
     "execution_count": 178,
     "metadata": {},
     "output_type": "execute_result"
    }
   ],
   "source": [
    "y_test[0:10]"
   ]
  },
  {
   "cell_type": "code",
   "execution_count": 180,
   "metadata": {},
   "outputs": [
    {
     "name": "stderr",
     "output_type": "stream",
     "text": [
      "/home/vijay/anaconda2/envs/py35/lib/python3.5/site-packages/ipykernel_launcher.py:2: SettingWithCopyWarning: \n",
      "A value is trying to be set on a copy of a slice from a DataFrame.\n",
      "Try using .loc[row_indexer,col_indexer] = value instead\n",
      "\n",
      "See the caveats in the documentation: http://pandas.pydata.org/pandas-docs/stable/indexing.html#indexing-view-versus-copy\n",
      "  \n"
     ]
    }
   ],
   "source": [
    "sentiment_map = { 0:'negative',1:'neutral',2:'positive'}\n",
    "city_probability['sentiment_prediction'] = city_probability['model_predictions'].map(sentiment_map)"
   ]
  },
  {
   "cell_type": "code",
   "execution_count": 185,
   "metadata": {},
   "outputs": [
    {
     "data": {
      "text/html": [
       "<div>\n",
       "<style>\n",
       "    .dataframe thead tr:only-child th {\n",
       "        text-align: right;\n",
       "    }\n",
       "\n",
       "    .dataframe thead th {\n",
       "        text-align: left;\n",
       "    }\n",
       "\n",
       "    .dataframe tbody tr th {\n",
       "        vertical-align: top;\n",
       "    }\n",
       "</style>\n",
       "<table border=\"1\" class=\"dataframe\">\n",
       "  <thead>\n",
       "    <tr style=\"text-align: right;\">\n",
       "      <th></th>\n",
       "      <th>cities</th>\n",
       "      <th>negative</th>\n",
       "      <th>neutral</th>\n",
       "      <th>positive</th>\n",
       "      <th>model_predictions</th>\n",
       "      <th>sentiment_prediction</th>\n",
       "    </tr>\n",
       "  </thead>\n",
       "  <tbody>\n",
       "    <tr>\n",
       "      <th>0</th>\n",
       "      <td>nearest_city_Addison</td>\n",
       "      <td>0.000000e+00</td>\n",
       "      <td>1.0</td>\n",
       "      <td>9.730007e-61</td>\n",
       "      <td>1</td>\n",
       "      <td>neutral</td>\n",
       "    </tr>\n",
       "    <tr>\n",
       "      <th>1</th>\n",
       "      <td>nearest_city_Aldine</td>\n",
       "      <td>0.000000e+00</td>\n",
       "      <td>1.0</td>\n",
       "      <td>9.729933e-61</td>\n",
       "      <td>1</td>\n",
       "      <td>neutral</td>\n",
       "    </tr>\n",
       "    <tr>\n",
       "      <th>2</th>\n",
       "      <td>nearest_city_Aliso Viejo</td>\n",
       "      <td>0.000000e+00</td>\n",
       "      <td>1.0</td>\n",
       "      <td>1.384244e-62</td>\n",
       "      <td>1</td>\n",
       "      <td>neutral</td>\n",
       "    </tr>\n",
       "    <tr>\n",
       "      <th>3</th>\n",
       "      <td>nearest_city_Allen</td>\n",
       "      <td>1.000000e+00</td>\n",
       "      <td>0.0</td>\n",
       "      <td>0.000000e+00</td>\n",
       "      <td>0</td>\n",
       "      <td>negative</td>\n",
       "    </tr>\n",
       "    <tr>\n",
       "      <th>4</th>\n",
       "      <td>nearest_city_American Fork</td>\n",
       "      <td>2.944746e-291</td>\n",
       "      <td>0.0</td>\n",
       "      <td>1.000000e+00</td>\n",
       "      <td>2</td>\n",
       "      <td>positive</td>\n",
       "    </tr>\n",
       "    <tr>\n",
       "      <th>5</th>\n",
       "      <td>nearest_city_Anaheim</td>\n",
       "      <td>0.000000e+00</td>\n",
       "      <td>1.0</td>\n",
       "      <td>0.000000e+00</td>\n",
       "      <td>1</td>\n",
       "      <td>neutral</td>\n",
       "    </tr>\n",
       "    <tr>\n",
       "      <th>6</th>\n",
       "      <td>nearest_city_Angeles City</td>\n",
       "      <td>0.000000e+00</td>\n",
       "      <td>1.0</td>\n",
       "      <td>1.509099e-54</td>\n",
       "      <td>1</td>\n",
       "      <td>neutral</td>\n",
       "    </tr>\n",
       "    <tr>\n",
       "      <th>7</th>\n",
       "      <td>nearest_city_Annapolis</td>\n",
       "      <td>0.000000e+00</td>\n",
       "      <td>1.0</td>\n",
       "      <td>9.729933e-61</td>\n",
       "      <td>1</td>\n",
       "      <td>neutral</td>\n",
       "    </tr>\n",
       "    <tr>\n",
       "      <th>8</th>\n",
       "      <td>nearest_city_Arbutus</td>\n",
       "      <td>0.000000e+00</td>\n",
       "      <td>1.0</td>\n",
       "      <td>9.729933e-61</td>\n",
       "      <td>1</td>\n",
       "      <td>neutral</td>\n",
       "    </tr>\n",
       "    <tr>\n",
       "      <th>9</th>\n",
       "      <td>nearest_city_Ashford</td>\n",
       "      <td>0.000000e+00</td>\n",
       "      <td>1.0</td>\n",
       "      <td>1.977203e-64</td>\n",
       "      <td>1</td>\n",
       "      <td>neutral</td>\n",
       "    </tr>\n",
       "  </tbody>\n",
       "</table>\n",
       "</div>"
      ],
      "text/plain": [
       "                       cities       negative  neutral      positive  \\\n",
       "0        nearest_city_Addison   0.000000e+00      1.0  9.730007e-61   \n",
       "1         nearest_city_Aldine   0.000000e+00      1.0  9.729933e-61   \n",
       "2    nearest_city_Aliso Viejo   0.000000e+00      1.0  1.384244e-62   \n",
       "3          nearest_city_Allen   1.000000e+00      0.0  0.000000e+00   \n",
       "4  nearest_city_American Fork  2.944746e-291      0.0  1.000000e+00   \n",
       "5        nearest_city_Anaheim   0.000000e+00      1.0  0.000000e+00   \n",
       "6   nearest_city_Angeles City   0.000000e+00      1.0  1.509099e-54   \n",
       "7      nearest_city_Annapolis   0.000000e+00      1.0  9.729933e-61   \n",
       "8        nearest_city_Arbutus   0.000000e+00      1.0  9.729933e-61   \n",
       "9        nearest_city_Ashford   0.000000e+00      1.0  1.977203e-64   \n",
       "\n",
       "   model_predictions sentiment_prediction  \n",
       "0                  1              neutral  \n",
       "1                  1              neutral  \n",
       "2                  1              neutral  \n",
       "3                  0             negative  \n",
       "4                  2             positive  \n",
       "5                  1              neutral  \n",
       "6                  1              neutral  \n",
       "7                  1              neutral  \n",
       "8                  1              neutral  \n",
       "9                  1              neutral  "
      ]
     },
     "execution_count": 185,
     "metadata": {},
     "output_type": "execute_result"
    }
   ],
   "source": [
    "city_probability[0:10]"
   ]
  },
  {
   "cell_type": "code",
   "execution_count": 203,
   "metadata": {
    "collapsed": true
   },
   "outputs": [],
   "source": [
    "# save all cities with their probabilitiy classes, model prediction and sentiment prediction\n",
    "city_probability.to_csv('city_probability.csv')\n",
    "# save a sorted list of cities by the predicted positive sentiment score to the output file\n",
    "predicted_positive = city_probability[city_probability['model_predictions'] == 2]\n",
    "sorted_predicted_positive = predicted_positive.sort_values(['positive'], ascending=[True])\n",
    "sorted_predicted_positive.to_csv('sorted_predicted_positive.csv')"
   ]
  },
  {
   "cell_type": "code",
   "execution_count": 204,
   "metadata": {},
   "outputs": [
    {
     "data": {
      "text/html": [
       "<div>\n",
       "<style>\n",
       "    .dataframe thead tr:only-child th {\n",
       "        text-align: right;\n",
       "    }\n",
       "\n",
       "    .dataframe thead th {\n",
       "        text-align: left;\n",
       "    }\n",
       "\n",
       "    .dataframe tbody tr th {\n",
       "        vertical-align: top;\n",
       "    }\n",
       "</style>\n",
       "<table border=\"1\" class=\"dataframe\">\n",
       "  <thead>\n",
       "    <tr style=\"text-align: right;\">\n",
       "      <th></th>\n",
       "      <th>cities</th>\n",
       "      <th>negative</th>\n",
       "      <th>neutral</th>\n",
       "      <th>positive</th>\n",
       "      <th>model_predictions</th>\n",
       "      <th>sentiment_prediction</th>\n",
       "    </tr>\n",
       "  </thead>\n",
       "  <tbody>\n",
       "    <tr>\n",
       "      <th>4</th>\n",
       "      <td>nearest_city_American Fork</td>\n",
       "      <td>2.944746e-291</td>\n",
       "      <td>0.0</td>\n",
       "      <td>1.0</td>\n",
       "      <td>2</td>\n",
       "      <td>positive</td>\n",
       "    </tr>\n",
       "    <tr>\n",
       "      <th>185</th>\n",
       "      <td>nearest_city_Ossining</td>\n",
       "      <td>2.944746e-291</td>\n",
       "      <td>0.0</td>\n",
       "      <td>1.0</td>\n",
       "      <td>2</td>\n",
       "      <td>positive</td>\n",
       "    </tr>\n",
       "    <tr>\n",
       "      <th>199</th>\n",
       "      <td>nearest_city_Port Chester</td>\n",
       "      <td>2.944746e-291</td>\n",
       "      <td>0.0</td>\n",
       "      <td>1.0</td>\n",
       "      <td>2</td>\n",
       "      <td>positive</td>\n",
       "    </tr>\n",
       "    <tr>\n",
       "      <th>201</th>\n",
       "      <td>nearest_city_Portland</td>\n",
       "      <td>2.494093e-291</td>\n",
       "      <td>0.0</td>\n",
       "      <td>1.0</td>\n",
       "      <td>2</td>\n",
       "      <td>positive</td>\n",
       "    </tr>\n",
       "    <tr>\n",
       "      <th>217</th>\n",
       "      <td>nearest_city_Roswell</td>\n",
       "      <td>2.494093e-291</td>\n",
       "      <td>0.0</td>\n",
       "      <td>1.0</td>\n",
       "      <td>2</td>\n",
       "      <td>positive</td>\n",
       "    </tr>\n",
       "  </tbody>\n",
       "</table>\n",
       "</div>"
      ],
      "text/plain": [
       "                         cities       negative  neutral  positive  \\\n",
       "4    nearest_city_American Fork  2.944746e-291      0.0       1.0   \n",
       "185       nearest_city_Ossining  2.944746e-291      0.0       1.0   \n",
       "199   nearest_city_Port Chester  2.944746e-291      0.0       1.0   \n",
       "201       nearest_city_Portland  2.494093e-291      0.0       1.0   \n",
       "217        nearest_city_Roswell  2.494093e-291      0.0       1.0   \n",
       "\n",
       "     model_predictions sentiment_prediction  \n",
       "4                    2             positive  \n",
       "185                  2             positive  \n",
       "199                  2             positive  \n",
       "201                  2             positive  \n",
       "217                  2             positive  "
      ]
     },
     "execution_count": 204,
     "metadata": {},
     "output_type": "execute_result"
    }
   ],
   "source": [
    "sorted_predicted_positive[0:5]"
   ]
  },
  {
   "cell_type": "code",
   "execution_count": 202,
   "metadata": {},
   "outputs": [],
   "source": [
    "#sorted_predicted_positive['positive'].astype('float')"
   ]
  },
  {
   "cell_type": "code",
   "execution_count": null,
   "metadata": {
    "collapsed": true
   },
   "outputs": [],
   "source": []
  },
  {
   "cell_type": "code",
   "execution_count": 182,
   "metadata": {},
   "outputs": [
    {
     "data": {
      "text/html": [
       "<div>\n",
       "<style>\n",
       "    .dataframe thead tr:only-child th {\n",
       "        text-align: right;\n",
       "    }\n",
       "\n",
       "    .dataframe thead th {\n",
       "        text-align: left;\n",
       "    }\n",
       "\n",
       "    .dataframe tbody tr th {\n",
       "        vertical-align: top;\n",
       "    }\n",
       "</style>\n",
       "<table border=\"1\" class=\"dataframe\">\n",
       "  <thead>\n",
       "    <tr style=\"text-align: right;\">\n",
       "      <th></th>\n",
       "      <th>airline_sentiment</th>\n",
       "      <th>tweet_coord</th>\n",
       "      <th>latitude</th>\n",
       "      <th>longitude</th>\n",
       "      <th>nearest_latitude</th>\n",
       "      <th>nearest_longitude</th>\n",
       "      <th>nearest_city</th>\n",
       "    </tr>\n",
       "  </thead>\n",
       "  <tbody>\n",
       "    <tr>\n",
       "      <th>297</th>\n",
       "      <td>2</td>\n",
       "      <td>40.35805521, -111.78241283</td>\n",
       "      <td>40.358055</td>\n",
       "      <td>-111.782413</td>\n",
       "      <td>40.3769</td>\n",
       "      <td>-111.79576</td>\n",
       "      <td>American Fork</td>\n",
       "    </tr>\n",
       "  </tbody>\n",
       "</table>\n",
       "</div>"
      ],
      "text/plain": [
       "     airline_sentiment                 tweet_coord   latitude   longitude  \\\n",
       "297                  2  40.35805521, -111.78241283  40.358055 -111.782413   \n",
       "\n",
       "     nearest_latitude  nearest_longitude   nearest_city  \n",
       "297           40.3769         -111.79576  American Fork  "
      ]
     },
     "execution_count": 182,
     "metadata": {},
     "output_type": "execute_result"
    }
   ],
   "source": [
    "# validate the column mapping and matched predictions\n",
    "airline_tweets[airline_tweets['nearest_city'] =='American Fork']"
   ]
  },
  {
   "cell_type": "code",
   "execution_count": 183,
   "metadata": {},
   "outputs": [
    {
     "data": {
      "text/html": [
       "<div>\n",
       "<style>\n",
       "    .dataframe thead tr:only-child th {\n",
       "        text-align: right;\n",
       "    }\n",
       "\n",
       "    .dataframe thead th {\n",
       "        text-align: left;\n",
       "    }\n",
       "\n",
       "    .dataframe tbody tr th {\n",
       "        vertical-align: top;\n",
       "    }\n",
       "</style>\n",
       "<table border=\"1\" class=\"dataframe\">\n",
       "  <thead>\n",
       "    <tr style=\"text-align: right;\">\n",
       "      <th></th>\n",
       "      <th>airline_sentiment</th>\n",
       "      <th>tweet_coord</th>\n",
       "      <th>latitude</th>\n",
       "      <th>longitude</th>\n",
       "      <th>nearest_latitude</th>\n",
       "      <th>nearest_longitude</th>\n",
       "      <th>nearest_city</th>\n",
       "    </tr>\n",
       "  </thead>\n",
       "  <tbody>\n",
       "    <tr>\n",
       "      <th>31</th>\n",
       "      <td>1</td>\n",
       "      <td>29.98386923, -95.33729612</td>\n",
       "      <td>29.983869</td>\n",
       "      <td>-95.337296</td>\n",
       "      <td>29.93245</td>\n",
       "      <td>-95.38021</td>\n",
       "      <td>Aldine</td>\n",
       "    </tr>\n",
       "  </tbody>\n",
       "</table>\n",
       "</div>"
      ],
      "text/plain": [
       "    airline_sentiment                tweet_coord   latitude  longitude  \\\n",
       "31                  1  29.98386923, -95.33729612  29.983869 -95.337296   \n",
       "\n",
       "    nearest_latitude  nearest_longitude nearest_city  \n",
       "31          29.93245          -95.38021       Aldine  "
      ]
     },
     "execution_count": 183,
     "metadata": {},
     "output_type": "execute_result"
    }
   ],
   "source": [
    "airline_tweets[airline_tweets['nearest_city'] =='Aldine'][:1]"
   ]
  },
  {
   "cell_type": "code",
   "execution_count": null,
   "metadata": {
    "collapsed": true
   },
   "outputs": [],
   "source": []
  },
  {
   "cell_type": "code",
   "execution_count": 215,
   "metadata": {},
   "outputs": [
    {
     "name": "stdout",
     "output_type": "stream",
     "text": [
      "(342, 3)\n"
     ]
    },
    {
     "name": "stderr",
     "output_type": "stream",
     "text": [
      "/home/vijay/anaconda2/envs/py35/lib/python3.5/site-packages/ipykernel_launcher.py:8: SettingWithCopyWarning: \n",
      "A value is trying to be set on a copy of a slice from a DataFrame.\n",
      "Try using .loc[row_indexer,col_indexer] = value instead\n",
      "\n",
      "See the caveats in the documentation: http://pandas.pydata.org/pandas-docs/stable/indexing.html#indexing-view-versus-copy\n",
      "  \n"
     ]
    },
    {
     "data": {
      "text/html": [
       "<div>\n",
       "<style>\n",
       "    .dataframe thead tr:only-child th {\n",
       "        text-align: right;\n",
       "    }\n",
       "\n",
       "    .dataframe thead th {\n",
       "        text-align: left;\n",
       "    }\n",
       "\n",
       "    .dataframe tbody tr th {\n",
       "        vertical-align: top;\n",
       "    }\n",
       "</style>\n",
       "<table border=\"1\" class=\"dataframe\">\n",
       "  <thead>\n",
       "    <tr style=\"text-align: right;\">\n",
       "      <th></th>\n",
       "      <th>cities</th>\n",
       "      <th>negative</th>\n",
       "      <th>neutral</th>\n",
       "      <th>positive</th>\n",
       "      <th>model_predictions</th>\n",
       "    </tr>\n",
       "  </thead>\n",
       "  <tbody>\n",
       "    <tr>\n",
       "      <th>0</th>\n",
       "      <td>nearest_city_Addison</td>\n",
       "      <td>-794.653488</td>\n",
       "      <td>0.000000e+00</td>\n",
       "      <td>-1.381825e+02</td>\n",
       "      <td>1</td>\n",
       "    </tr>\n",
       "    <tr>\n",
       "      <th>1</th>\n",
       "      <td>nearest_city_Aldine</td>\n",
       "      <td>-794.653463</td>\n",
       "      <td>0.000000e+00</td>\n",
       "      <td>-1.381825e+02</td>\n",
       "      <td>1</td>\n",
       "    </tr>\n",
       "    <tr>\n",
       "      <th>2</th>\n",
       "      <td>nearest_city_Aliso Viejo</td>\n",
       "      <td>-786.377004</td>\n",
       "      <td>0.000000e+00</td>\n",
       "      <td>-1.424351e+02</td>\n",
       "      <td>1</td>\n",
       "    </tr>\n",
       "    <tr>\n",
       "      <th>3</th>\n",
       "      <td>nearest_city_Allen</td>\n",
       "      <td>0.000000</td>\n",
       "      <td>-8.806350e+09</td>\n",
       "      <td>-8.806350e+09</td>\n",
       "      <td>0</td>\n",
       "    </tr>\n",
       "    <tr>\n",
       "      <th>4</th>\n",
       "      <td>nearest_city_American Fork</td>\n",
       "      <td>-668.972239</td>\n",
       "      <td>-8.806351e+09</td>\n",
       "      <td>0.000000e+00</td>\n",
       "      <td>2</td>\n",
       "    </tr>\n",
       "    <tr>\n",
       "      <th>5</th>\n",
       "      <td>nearest_city_Anaheim</td>\n",
       "      <td>-815.656002</td>\n",
       "      <td>0.000000e+00</td>\n",
       "      <td>-8.806351e+09</td>\n",
       "      <td>1</td>\n",
       "    </tr>\n",
       "    <tr>\n",
       "      <th>6</th>\n",
       "      <td>nearest_city_Angeles City</td>\n",
       "      <td>-772.142493</td>\n",
       "      <td>0.000000e+00</td>\n",
       "      <td>-1.239281e+02</td>\n",
       "      <td>1</td>\n",
       "    </tr>\n",
       "    <tr>\n",
       "      <th>7</th>\n",
       "      <td>nearest_city_Annapolis</td>\n",
       "      <td>-794.653461</td>\n",
       "      <td>0.000000e+00</td>\n",
       "      <td>-1.381825e+02</td>\n",
       "      <td>1</td>\n",
       "    </tr>\n",
       "    <tr>\n",
       "      <th>8</th>\n",
       "      <td>nearest_city_Arbutus</td>\n",
       "      <td>-794.653461</td>\n",
       "      <td>0.000000e+00</td>\n",
       "      <td>-1.381825e+02</td>\n",
       "      <td>1</td>\n",
       "    </tr>\n",
       "    <tr>\n",
       "      <th>9</th>\n",
       "      <td>nearest_city_Ashford</td>\n",
       "      <td>-815.656002</td>\n",
       "      <td>0.000000e+00</td>\n",
       "      <td>-1.466838e+02</td>\n",
       "      <td>1</td>\n",
       "    </tr>\n",
       "  </tbody>\n",
       "</table>\n",
       "</div>"
      ],
      "text/plain": [
       "                       cities    negative       neutral      positive  \\\n",
       "0        nearest_city_Addison -794.653488  0.000000e+00 -1.381825e+02   \n",
       "1         nearest_city_Aldine -794.653463  0.000000e+00 -1.381825e+02   \n",
       "2    nearest_city_Aliso Viejo -786.377004  0.000000e+00 -1.424351e+02   \n",
       "3          nearest_city_Allen    0.000000 -8.806350e+09 -8.806350e+09   \n",
       "4  nearest_city_American Fork -668.972239 -8.806351e+09  0.000000e+00   \n",
       "5        nearest_city_Anaheim -815.656002  0.000000e+00 -8.806351e+09   \n",
       "6   nearest_city_Angeles City -772.142493  0.000000e+00 -1.239281e+02   \n",
       "7      nearest_city_Annapolis -794.653461  0.000000e+00 -1.381825e+02   \n",
       "8        nearest_city_Arbutus -794.653461  0.000000e+00 -1.381825e+02   \n",
       "9        nearest_city_Ashford -815.656002  0.000000e+00 -1.466838e+02   \n",
       "\n",
       "   model_predictions  \n",
       "0                  1  \n",
       "1                  1  \n",
       "2                  1  \n",
       "3                  0  \n",
       "4                  2  \n",
       "5                  1  \n",
       "6                  1  \n",
       "7                  1  \n",
       "8                  1  \n",
       "9                  1  "
      ]
     },
     "execution_count": 215,
     "metadata": {},
     "output_type": "execute_result"
    }
   ],
   "source": [
    "# use log probabilities to help sort better\n",
    "log_probabilities = nb_model.predict_log_proba(X_test)\n",
    "print(log_probabilities.shape)\n",
    "log_probabilities_df = pd.DataFrame(log_probabilities,columns=['negative','neutral','positive'])\n",
    "feature_name_series = pd.Series(feature_names)\n",
    "log_probabilities_df['cities'] = feature_name_series\n",
    "log_city_probability = log_probabilities_df[['cities','negative','neutral','positive']]\n",
    "log_city_probability['model_predictions'] = predictions\n",
    "log_city_probability[0:10]"
   ]
  },
  {
   "cell_type": "code",
   "execution_count": 216,
   "metadata": {},
   "outputs": [
    {
     "data": {
      "text/html": [
       "<div>\n",
       "<style>\n",
       "    .dataframe thead tr:only-child th {\n",
       "        text-align: right;\n",
       "    }\n",
       "\n",
       "    .dataframe thead th {\n",
       "        text-align: left;\n",
       "    }\n",
       "\n",
       "    .dataframe tbody tr th {\n",
       "        vertical-align: top;\n",
       "    }\n",
       "</style>\n",
       "<table border=\"1\" class=\"dataframe\">\n",
       "  <thead>\n",
       "    <tr style=\"text-align: right;\">\n",
       "      <th></th>\n",
       "      <th>cities</th>\n",
       "      <th>negative</th>\n",
       "      <th>neutral</th>\n",
       "      <th>positive</th>\n",
       "      <th>model_predictions</th>\n",
       "    </tr>\n",
       "  </thead>\n",
       "  <tbody>\n",
       "    <tr>\n",
       "      <th>4</th>\n",
       "      <td>nearest_city_American Fork</td>\n",
       "      <td>-6.689722e+02</td>\n",
       "      <td>-8.806351e+09</td>\n",
       "      <td>0.0</td>\n",
       "      <td>2</td>\n",
       "    </tr>\n",
       "    <tr>\n",
       "      <th>10</th>\n",
       "      <td>nearest_city_Ashland</td>\n",
       "      <td>-7.849751e+02</td>\n",
       "      <td>-8.806351e+09</td>\n",
       "      <td>0.0</td>\n",
       "      <td>2</td>\n",
       "    </tr>\n",
       "    <tr>\n",
       "      <th>21</th>\n",
       "      <td>nearest_city_Bensenville</td>\n",
       "      <td>-6.689722e+02</td>\n",
       "      <td>-8.806351e+09</td>\n",
       "      <td>0.0</td>\n",
       "      <td>2</td>\n",
       "    </tr>\n",
       "    <tr>\n",
       "      <th>23</th>\n",
       "      <td>nearest_city_Beverly Hills</td>\n",
       "      <td>-6.685250e+02</td>\n",
       "      <td>-8.806351e+09</td>\n",
       "      <td>0.0</td>\n",
       "      <td>2</td>\n",
       "    </tr>\n",
       "    <tr>\n",
       "      <th>26</th>\n",
       "      <td>nearest_city_Boise</td>\n",
       "      <td>-6.689722e+02</td>\n",
       "      <td>-8.806351e+09</td>\n",
       "      <td>0.0</td>\n",
       "      <td>2</td>\n",
       "    </tr>\n",
       "    <tr>\n",
       "      <th>33</th>\n",
       "      <td>nearest_city_Bridgetown</td>\n",
       "      <td>-6.457693e+02</td>\n",
       "      <td>-8.806351e+09</td>\n",
       "      <td>0.0</td>\n",
       "      <td>2</td>\n",
       "    </tr>\n",
       "    <tr>\n",
       "      <th>35</th>\n",
       "      <td>nearest_city_Brooklyn</td>\n",
       "      <td>-6.689722e+02</td>\n",
       "      <td>-8.806351e+09</td>\n",
       "      <td>0.0</td>\n",
       "      <td>2</td>\n",
       "    </tr>\n",
       "    <tr>\n",
       "      <th>38</th>\n",
       "      <td>nearest_city_Burbank</td>\n",
       "      <td>-8.077308e+02</td>\n",
       "      <td>-8.806351e+09</td>\n",
       "      <td>0.0</td>\n",
       "      <td>2</td>\n",
       "    </tr>\n",
       "    <tr>\n",
       "      <th>40</th>\n",
       "      <td>nearest_city_Calgary</td>\n",
       "      <td>-8.806352e+09</td>\n",
       "      <td>-8.806351e+09</td>\n",
       "      <td>0.0</td>\n",
       "      <td>2</td>\n",
       "    </tr>\n",
       "    <tr>\n",
       "      <th>43</th>\n",
       "      <td>nearest_city_Canary Wharf</td>\n",
       "      <td>-6.691383e+02</td>\n",
       "      <td>-8.806351e+09</td>\n",
       "      <td>0.0</td>\n",
       "      <td>2</td>\n",
       "    </tr>\n",
       "    <tr>\n",
       "      <th>62</th>\n",
       "      <td>nearest_city_Corpus Christi</td>\n",
       "      <td>-6.691383e+02</td>\n",
       "      <td>-8.806351e+09</td>\n",
       "      <td>0.0</td>\n",
       "      <td>2</td>\n",
       "    </tr>\n",
       "    <tr>\n",
       "      <th>69</th>\n",
       "      <td>nearest_city_Cypress</td>\n",
       "      <td>-6.689722e+02</td>\n",
       "      <td>-8.806351e+09</td>\n",
       "      <td>0.0</td>\n",
       "      <td>2</td>\n",
       "    </tr>\n",
       "    <tr>\n",
       "      <th>71</th>\n",
       "      <td>nearest_city_Dania Beach</td>\n",
       "      <td>-7.849751e+02</td>\n",
       "      <td>-8.806351e+09</td>\n",
       "      <td>0.0</td>\n",
       "      <td>2</td>\n",
       "    </tr>\n",
       "    <tr>\n",
       "      <th>76</th>\n",
       "      <td>nearest_city_Drexel Hill</td>\n",
       "      <td>-8.806352e+09</td>\n",
       "      <td>-8.806351e+09</td>\n",
       "      <td>0.0</td>\n",
       "      <td>2</td>\n",
       "    </tr>\n",
       "    <tr>\n",
       "      <th>83</th>\n",
       "      <td>nearest_city_East York</td>\n",
       "      <td>-6.689722e+02</td>\n",
       "      <td>-8.806351e+09</td>\n",
       "      <td>0.0</td>\n",
       "      <td>2</td>\n",
       "    </tr>\n",
       "    <tr>\n",
       "      <th>87</th>\n",
       "      <td>nearest_city_Elizabeth</td>\n",
       "      <td>-7.207294e+02</td>\n",
       "      <td>-8.806351e+09</td>\n",
       "      <td>0.0</td>\n",
       "      <td>2</td>\n",
       "    </tr>\n",
       "    <tr>\n",
       "      <th>92</th>\n",
       "      <td>nearest_city_Fairhaven</td>\n",
       "      <td>-7.849751e+02</td>\n",
       "      <td>-8.806351e+09</td>\n",
       "      <td>0.0</td>\n",
       "      <td>2</td>\n",
       "    </tr>\n",
       "    <tr>\n",
       "      <th>101</th>\n",
       "      <td>nearest_city_Friendswood</td>\n",
       "      <td>-8.806352e+09</td>\n",
       "      <td>-8.806351e+09</td>\n",
       "      <td>0.0</td>\n",
       "      <td>2</td>\n",
       "    </tr>\n",
       "    <tr>\n",
       "      <th>109</th>\n",
       "      <td>nearest_city_Glendale</td>\n",
       "      <td>-8.806352e+09</td>\n",
       "      <td>-8.806351e+09</td>\n",
       "      <td>0.0</td>\n",
       "      <td>2</td>\n",
       "    </tr>\n",
       "    <tr>\n",
       "      <th>110</th>\n",
       "      <td>nearest_city_Golden</td>\n",
       "      <td>-6.685250e+02</td>\n",
       "      <td>-8.806351e+09</td>\n",
       "      <td>0.0</td>\n",
       "      <td>2</td>\n",
       "    </tr>\n",
       "    <tr>\n",
       "      <th>116</th>\n",
       "      <td>nearest_city_Harrison</td>\n",
       "      <td>-7.849751e+02</td>\n",
       "      <td>-8.806351e+09</td>\n",
       "      <td>0.0</td>\n",
       "      <td>2</td>\n",
       "    </tr>\n",
       "    <tr>\n",
       "      <th>130</th>\n",
       "      <td>nearest_city_Jersey City</td>\n",
       "      <td>-6.689722e+02</td>\n",
       "      <td>-8.806351e+09</td>\n",
       "      <td>0.0</td>\n",
       "      <td>2</td>\n",
       "    </tr>\n",
       "    <tr>\n",
       "      <th>137</th>\n",
       "      <td>nearest_city_Kissimmee</td>\n",
       "      <td>-6.689722e+02</td>\n",
       "      <td>-8.806351e+09</td>\n",
       "      <td>0.0</td>\n",
       "      <td>2</td>\n",
       "    </tr>\n",
       "    <tr>\n",
       "      <th>151</th>\n",
       "      <td>nearest_city_Mariners Harbor</td>\n",
       "      <td>-6.689722e+02</td>\n",
       "      <td>-8.806351e+09</td>\n",
       "      <td>0.0</td>\n",
       "      <td>2</td>\n",
       "    </tr>\n",
       "    <tr>\n",
       "      <th>157</th>\n",
       "      <td>nearest_city_Midland</td>\n",
       "      <td>-6.689722e+02</td>\n",
       "      <td>-8.806351e+09</td>\n",
       "      <td>0.0</td>\n",
       "      <td>2</td>\n",
       "    </tr>\n",
       "    <tr>\n",
       "      <th>158</th>\n",
       "      <td>nearest_city_Millbrae</td>\n",
       "      <td>-8.806352e+09</td>\n",
       "      <td>-8.806351e+09</td>\n",
       "      <td>0.0</td>\n",
       "      <td>2</td>\n",
       "    </tr>\n",
       "    <tr>\n",
       "      <th>160</th>\n",
       "      <td>nearest_city_Minneapolis</td>\n",
       "      <td>-8.806352e+09</td>\n",
       "      <td>-8.806351e+09</td>\n",
       "      <td>0.0</td>\n",
       "      <td>2</td>\n",
       "    </tr>\n",
       "    <tr>\n",
       "      <th>162</th>\n",
       "      <td>nearest_city_Morristown</td>\n",
       "      <td>-6.691383e+02</td>\n",
       "      <td>-8.806351e+09</td>\n",
       "      <td>0.0</td>\n",
       "      <td>2</td>\n",
       "    </tr>\n",
       "    <tr>\n",
       "      <th>169</th>\n",
       "      <td>nearest_city_New York City</td>\n",
       "      <td>-6.691383e+02</td>\n",
       "      <td>-8.806351e+09</td>\n",
       "      <td>0.0</td>\n",
       "      <td>2</td>\n",
       "    </tr>\n",
       "    <tr>\n",
       "      <th>174</th>\n",
       "      <td>nearest_city_North Charleston</td>\n",
       "      <td>-6.457693e+02</td>\n",
       "      <td>-8.806351e+09</td>\n",
       "      <td>0.0</td>\n",
       "      <td>2</td>\n",
       "    </tr>\n",
       "    <tr>\n",
       "      <th>185</th>\n",
       "      <td>nearest_city_Ossining</td>\n",
       "      <td>-6.689722e+02</td>\n",
       "      <td>-8.806351e+09</td>\n",
       "      <td>0.0</td>\n",
       "      <td>2</td>\n",
       "    </tr>\n",
       "    <tr>\n",
       "      <th>199</th>\n",
       "      <td>nearest_city_Port Chester</td>\n",
       "      <td>-6.689722e+02</td>\n",
       "      <td>-8.806351e+09</td>\n",
       "      <td>0.0</td>\n",
       "      <td>2</td>\n",
       "    </tr>\n",
       "    <tr>\n",
       "      <th>201</th>\n",
       "      <td>nearest_city_Portland</td>\n",
       "      <td>-6.691383e+02</td>\n",
       "      <td>-8.806351e+09</td>\n",
       "      <td>0.0</td>\n",
       "      <td>2</td>\n",
       "    </tr>\n",
       "    <tr>\n",
       "      <th>217</th>\n",
       "      <td>nearest_city_Roswell</td>\n",
       "      <td>-6.691383e+02</td>\n",
       "      <td>-8.806351e+09</td>\n",
       "      <td>0.0</td>\n",
       "      <td>2</td>\n",
       "    </tr>\n",
       "    <tr>\n",
       "      <th>223</th>\n",
       "      <td>nearest_city_San Bruno</td>\n",
       "      <td>-8.806352e+09</td>\n",
       "      <td>-8.806351e+09</td>\n",
       "      <td>0.0</td>\n",
       "      <td>2</td>\n",
       "    </tr>\n",
       "    <tr>\n",
       "      <th>224</th>\n",
       "      <td>nearest_city_San Carlos Park</td>\n",
       "      <td>-8.806352e+09</td>\n",
       "      <td>-8.806351e+09</td>\n",
       "      <td>0.0</td>\n",
       "      <td>2</td>\n",
       "    </tr>\n",
       "    <tr>\n",
       "      <th>226</th>\n",
       "      <td>nearest_city_San Francisco</td>\n",
       "      <td>-6.691383e+02</td>\n",
       "      <td>-8.806351e+09</td>\n",
       "      <td>0.0</td>\n",
       "      <td>2</td>\n",
       "    </tr>\n",
       "    <tr>\n",
       "      <th>229</th>\n",
       "      <td>nearest_city_Santa Clara</td>\n",
       "      <td>-6.689722e+02</td>\n",
       "      <td>-8.806351e+09</td>\n",
       "      <td>0.0</td>\n",
       "      <td>2</td>\n",
       "    </tr>\n",
       "    <tr>\n",
       "      <th>242</th>\n",
       "      <td>nearest_city_South Jordan</td>\n",
       "      <td>-6.691383e+02</td>\n",
       "      <td>-8.806351e+09</td>\n",
       "      <td>0.0</td>\n",
       "      <td>2</td>\n",
       "    </tr>\n",
       "    <tr>\n",
       "      <th>246</th>\n",
       "      <td>nearest_city_Springfield Gardens</td>\n",
       "      <td>-8.077308e+02</td>\n",
       "      <td>-8.806351e+09</td>\n",
       "      <td>0.0</td>\n",
       "      <td>2</td>\n",
       "    </tr>\n",
       "    <tr>\n",
       "      <th>253</th>\n",
       "      <td>nearest_city_Tempe Junction</td>\n",
       "      <td>-6.689722e+02</td>\n",
       "      <td>-8.806351e+09</td>\n",
       "      <td>0.0</td>\n",
       "      <td>2</td>\n",
       "    </tr>\n",
       "    <tr>\n",
       "      <th>257</th>\n",
       "      <td>nearest_city_Troy</td>\n",
       "      <td>-6.689722e+02</td>\n",
       "      <td>-8.806351e+09</td>\n",
       "      <td>0.0</td>\n",
       "      <td>2</td>\n",
       "    </tr>\n",
       "    <tr>\n",
       "      <th>258</th>\n",
       "      <td>nearest_city_Tung Chung</td>\n",
       "      <td>-6.979737e+02</td>\n",
       "      <td>-8.806351e+09</td>\n",
       "      <td>0.0</td>\n",
       "      <td>2</td>\n",
       "    </tr>\n",
       "    <tr>\n",
       "      <th>261</th>\n",
       "      <td>nearest_city_Upper Saint Clair</td>\n",
       "      <td>-7.207294e+02</td>\n",
       "      <td>-8.806351e+09</td>\n",
       "      <td>0.0</td>\n",
       "      <td>2</td>\n",
       "    </tr>\n",
       "    <tr>\n",
       "      <th>264</th>\n",
       "      <td>nearest_city_Wakefield</td>\n",
       "      <td>-6.689722e+02</td>\n",
       "      <td>-8.806351e+09</td>\n",
       "      <td>0.0</td>\n",
       "      <td>2</td>\n",
       "    </tr>\n",
       "    <tr>\n",
       "      <th>266</th>\n",
       "      <td>nearest_city_Warwick</td>\n",
       "      <td>-6.979737e+02</td>\n",
       "      <td>-8.806351e+09</td>\n",
       "      <td>0.0</td>\n",
       "      <td>2</td>\n",
       "    </tr>\n",
       "    <tr>\n",
       "      <th>269</th>\n",
       "      <td>nearest_city_Waterford</td>\n",
       "      <td>-8.077308e+02</td>\n",
       "      <td>-8.806351e+09</td>\n",
       "      <td>0.0</td>\n",
       "      <td>2</td>\n",
       "    </tr>\n",
       "    <tr>\n",
       "      <th>274</th>\n",
       "      <td>nearest_city_West Raleigh</td>\n",
       "      <td>-6.691383e+02</td>\n",
       "      <td>-8.806351e+09</td>\n",
       "      <td>0.0</td>\n",
       "      <td>2</td>\n",
       "    </tr>\n",
       "    <tr>\n",
       "      <th>277</th>\n",
       "      <td>nearest_city_Westford</td>\n",
       "      <td>-7.207294e+02</td>\n",
       "      <td>-8.806351e+09</td>\n",
       "      <td>0.0</td>\n",
       "      <td>2</td>\n",
       "    </tr>\n",
       "    <tr>\n",
       "      <th>289</th>\n",
       "      <td>nearest_city_Xiuying</td>\n",
       "      <td>-6.685250e+02</td>\n",
       "      <td>-8.806351e+09</td>\n",
       "      <td>0.0</td>\n",
       "      <td>2</td>\n",
       "    </tr>\n",
       "    <tr>\n",
       "      <th>294</th>\n",
       "      <td>NaN</td>\n",
       "      <td>-8.806352e+09</td>\n",
       "      <td>-8.806351e+09</td>\n",
       "      <td>0.0</td>\n",
       "      <td>2</td>\n",
       "    </tr>\n",
       "    <tr>\n",
       "      <th>298</th>\n",
       "      <td>NaN</td>\n",
       "      <td>-6.691383e+02</td>\n",
       "      <td>-8.806351e+09</td>\n",
       "      <td>0.0</td>\n",
       "      <td>2</td>\n",
       "    </tr>\n",
       "    <tr>\n",
       "      <th>312</th>\n",
       "      <td>NaN</td>\n",
       "      <td>-6.689722e+02</td>\n",
       "      <td>-8.806351e+09</td>\n",
       "      <td>0.0</td>\n",
       "      <td>2</td>\n",
       "    </tr>\n",
       "    <tr>\n",
       "      <th>319</th>\n",
       "      <td>NaN</td>\n",
       "      <td>-8.806352e+09</td>\n",
       "      <td>-8.806351e+09</td>\n",
       "      <td>0.0</td>\n",
       "      <td>2</td>\n",
       "    </tr>\n",
       "    <tr>\n",
       "      <th>320</th>\n",
       "      <td>NaN</td>\n",
       "      <td>-6.689722e+02</td>\n",
       "      <td>-8.806351e+09</td>\n",
       "      <td>0.0</td>\n",
       "      <td>2</td>\n",
       "    </tr>\n",
       "    <tr>\n",
       "      <th>321</th>\n",
       "      <td>NaN</td>\n",
       "      <td>-6.689722e+02</td>\n",
       "      <td>-8.806351e+09</td>\n",
       "      <td>0.0</td>\n",
       "      <td>2</td>\n",
       "    </tr>\n",
       "  </tbody>\n",
       "</table>\n",
       "</div>"
      ],
      "text/plain": [
       "                               cities      negative       neutral  positive  \\\n",
       "4          nearest_city_American Fork -6.689722e+02 -8.806351e+09       0.0   \n",
       "10               nearest_city_Ashland -7.849751e+02 -8.806351e+09       0.0   \n",
       "21           nearest_city_Bensenville -6.689722e+02 -8.806351e+09       0.0   \n",
       "23         nearest_city_Beverly Hills -6.685250e+02 -8.806351e+09       0.0   \n",
       "26                 nearest_city_Boise -6.689722e+02 -8.806351e+09       0.0   \n",
       "33            nearest_city_Bridgetown -6.457693e+02 -8.806351e+09       0.0   \n",
       "35              nearest_city_Brooklyn -6.689722e+02 -8.806351e+09       0.0   \n",
       "38               nearest_city_Burbank -8.077308e+02 -8.806351e+09       0.0   \n",
       "40               nearest_city_Calgary -8.806352e+09 -8.806351e+09       0.0   \n",
       "43          nearest_city_Canary Wharf -6.691383e+02 -8.806351e+09       0.0   \n",
       "62        nearest_city_Corpus Christi -6.691383e+02 -8.806351e+09       0.0   \n",
       "69               nearest_city_Cypress -6.689722e+02 -8.806351e+09       0.0   \n",
       "71           nearest_city_Dania Beach -7.849751e+02 -8.806351e+09       0.0   \n",
       "76           nearest_city_Drexel Hill -8.806352e+09 -8.806351e+09       0.0   \n",
       "83             nearest_city_East York -6.689722e+02 -8.806351e+09       0.0   \n",
       "87             nearest_city_Elizabeth -7.207294e+02 -8.806351e+09       0.0   \n",
       "92             nearest_city_Fairhaven -7.849751e+02 -8.806351e+09       0.0   \n",
       "101          nearest_city_Friendswood -8.806352e+09 -8.806351e+09       0.0   \n",
       "109             nearest_city_Glendale -8.806352e+09 -8.806351e+09       0.0   \n",
       "110               nearest_city_Golden -6.685250e+02 -8.806351e+09       0.0   \n",
       "116             nearest_city_Harrison -7.849751e+02 -8.806351e+09       0.0   \n",
       "130          nearest_city_Jersey City -6.689722e+02 -8.806351e+09       0.0   \n",
       "137            nearest_city_Kissimmee -6.689722e+02 -8.806351e+09       0.0   \n",
       "151      nearest_city_Mariners Harbor -6.689722e+02 -8.806351e+09       0.0   \n",
       "157              nearest_city_Midland -6.689722e+02 -8.806351e+09       0.0   \n",
       "158             nearest_city_Millbrae -8.806352e+09 -8.806351e+09       0.0   \n",
       "160          nearest_city_Minneapolis -8.806352e+09 -8.806351e+09       0.0   \n",
       "162           nearest_city_Morristown -6.691383e+02 -8.806351e+09       0.0   \n",
       "169        nearest_city_New York City -6.691383e+02 -8.806351e+09       0.0   \n",
       "174     nearest_city_North Charleston -6.457693e+02 -8.806351e+09       0.0   \n",
       "185             nearest_city_Ossining -6.689722e+02 -8.806351e+09       0.0   \n",
       "199         nearest_city_Port Chester -6.689722e+02 -8.806351e+09       0.0   \n",
       "201             nearest_city_Portland -6.691383e+02 -8.806351e+09       0.0   \n",
       "217              nearest_city_Roswell -6.691383e+02 -8.806351e+09       0.0   \n",
       "223            nearest_city_San Bruno -8.806352e+09 -8.806351e+09       0.0   \n",
       "224      nearest_city_San Carlos Park -8.806352e+09 -8.806351e+09       0.0   \n",
       "226        nearest_city_San Francisco -6.691383e+02 -8.806351e+09       0.0   \n",
       "229          nearest_city_Santa Clara -6.689722e+02 -8.806351e+09       0.0   \n",
       "242         nearest_city_South Jordan -6.691383e+02 -8.806351e+09       0.0   \n",
       "246  nearest_city_Springfield Gardens -8.077308e+02 -8.806351e+09       0.0   \n",
       "253       nearest_city_Tempe Junction -6.689722e+02 -8.806351e+09       0.0   \n",
       "257                 nearest_city_Troy -6.689722e+02 -8.806351e+09       0.0   \n",
       "258           nearest_city_Tung Chung -6.979737e+02 -8.806351e+09       0.0   \n",
       "261    nearest_city_Upper Saint Clair -7.207294e+02 -8.806351e+09       0.0   \n",
       "264            nearest_city_Wakefield -6.689722e+02 -8.806351e+09       0.0   \n",
       "266              nearest_city_Warwick -6.979737e+02 -8.806351e+09       0.0   \n",
       "269            nearest_city_Waterford -8.077308e+02 -8.806351e+09       0.0   \n",
       "274         nearest_city_West Raleigh -6.691383e+02 -8.806351e+09       0.0   \n",
       "277             nearest_city_Westford -7.207294e+02 -8.806351e+09       0.0   \n",
       "289              nearest_city_Xiuying -6.685250e+02 -8.806351e+09       0.0   \n",
       "294                               NaN -8.806352e+09 -8.806351e+09       0.0   \n",
       "298                               NaN -6.691383e+02 -8.806351e+09       0.0   \n",
       "312                               NaN -6.689722e+02 -8.806351e+09       0.0   \n",
       "319                               NaN -8.806352e+09 -8.806351e+09       0.0   \n",
       "320                               NaN -6.689722e+02 -8.806351e+09       0.0   \n",
       "321                               NaN -6.689722e+02 -8.806351e+09       0.0   \n",
       "\n",
       "     model_predictions  \n",
       "4                    2  \n",
       "10                   2  \n",
       "21                   2  \n",
       "23                   2  \n",
       "26                   2  \n",
       "33                   2  \n",
       "35                   2  \n",
       "38                   2  \n",
       "40                   2  \n",
       "43                   2  \n",
       "62                   2  \n",
       "69                   2  \n",
       "71                   2  \n",
       "76                   2  \n",
       "83                   2  \n",
       "87                   2  \n",
       "92                   2  \n",
       "101                  2  \n",
       "109                  2  \n",
       "110                  2  \n",
       "116                  2  \n",
       "130                  2  \n",
       "137                  2  \n",
       "151                  2  \n",
       "157                  2  \n",
       "158                  2  \n",
       "160                  2  \n",
       "162                  2  \n",
       "169                  2  \n",
       "174                  2  \n",
       "185                  2  \n",
       "199                  2  \n",
       "201                  2  \n",
       "217                  2  \n",
       "223                  2  \n",
       "224                  2  \n",
       "226                  2  \n",
       "229                  2  \n",
       "242                  2  \n",
       "246                  2  \n",
       "253                  2  \n",
       "257                  2  \n",
       "258                  2  \n",
       "261                  2  \n",
       "264                  2  \n",
       "266                  2  \n",
       "269                  2  \n",
       "274                  2  \n",
       "277                  2  \n",
       "289                  2  \n",
       "294                  2  \n",
       "298                  2  \n",
       "312                  2  \n",
       "319                  2  \n",
       "320                  2  \n",
       "321                  2  "
      ]
     },
     "execution_count": 216,
     "metadata": {},
     "output_type": "execute_result"
    }
   ],
   "source": [
    "log_city_probability[log_city_probability['model_predictions']==2]"
   ]
  },
  {
   "cell_type": "code",
   "execution_count": null,
   "metadata": {
    "collapsed": true
   },
   "outputs": [],
   "source": []
  },
  {
   "cell_type": "code",
   "execution_count": null,
   "metadata": {
    "collapsed": true
   },
   "outputs": [],
   "source": []
  },
  {
   "cell_type": "code",
   "execution_count": null,
   "metadata": {
    "collapsed": true
   },
   "outputs": [],
   "source": []
  },
  {
   "cell_type": "code",
   "execution_count": null,
   "metadata": {
    "collapsed": true
   },
   "outputs": [],
   "source": []
  }
 ],
 "metadata": {
  "kernelspec": {
   "display_name": "Python 3",
   "language": "python",
   "name": "python3"
  },
  "language_info": {
   "codemirror_mode": {
    "name": "ipython",
    "version": 3
   },
   "file_extension": ".py",
   "mimetype": "text/x-python",
   "name": "python",
   "nbconvert_exporter": "python",
   "pygments_lexer": "ipython3",
   "version": "3.5.3"
  }
 },
 "nbformat": 4,
 "nbformat_minor": 2
}
